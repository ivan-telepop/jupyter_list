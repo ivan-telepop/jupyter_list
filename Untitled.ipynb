{
 "cells": [
  {
   "cell_type": "code",
   "execution_count": 7,
   "id": "df3d3bad-eac1-4259-ab2d-bfb7cd23623c",
   "metadata": {},
   "outputs": [
    {
     "data": {
      "text/plain": [
       "['fdsf', 'rf', 'dsa', 'rewq']"
      ]
     },
     "execution_count": 7,
     "metadata": {},
     "output_type": "execute_result"
    }
   ],
   "source": [
    "ls = ['fsdf', 'rf', 'asd', 'qwer']\n",
    "\n",
    "def reverser(ls):\n",
    "    resulter = []\n",
    "    for i in ls:\n",
    "        if len(i) >= 3:\n",
    "            resulter.append(i[::-1])\n",
    "        else:\n",
    "            resulter.append(i)\n",
    "    return resulter\n",
    "\n",
    "\n",
    "reverser(ls)\n",
    "            "
   ]
  },
  {
   "cell_type": "code",
   "execution_count": 53,
   "id": "468b1055-2e51-42bd-b3fb-220db9e467a1",
   "metadata": {},
   "outputs": [
    {
     "data": {
      "text/plain": [
       "(')', '(', '(', '(', ')', ')', ')')"
      ]
     },
     "execution_count": 53,
     "metadata": {},
     "output_type": "execute_result"
    }
   ],
   "source": [
    "kk = tuple(\")((()))\")\n",
    "\n",
    "f = 'dfghj'\n",
    "kk\n",
    "\n",
    "# rt = l.split(')')\n",
    "# lf = l.split('(')\n",
    "# print(len(rt) == len(lf))\n",
    "\n",
    "\n",
    "# a = '((()()())))'.split(')')\n",
    "# b = '((()()())))'.split('(')\n",
    "\n",
    "\n",
    "# a,b\n",
    "\n"
   ]
  }
 ],
 "metadata": {
  "kernelspec": {
   "display_name": "Python 3 (ipykernel)",
   "language": "python",
   "name": "python3"
  },
  "language_info": {
   "codemirror_mode": {
    "name": "ipython",
    "version": 3
   },
   "file_extension": ".py",
   "mimetype": "text/x-python",
   "name": "python",
   "nbconvert_exporter": "python",
   "pygments_lexer": "ipython3",
   "version": "3.13.0a6"
  }
 },
 "nbformat": 4,
 "nbformat_minor": 5
}
