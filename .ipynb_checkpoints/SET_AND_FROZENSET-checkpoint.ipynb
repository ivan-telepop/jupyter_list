{
 "cells": [
  {
   "cell_type": "code",
   "execution_count": null,
   "id": "fe098428-25b6-4c83-a139-88c602d18e8d",
   "metadata": {},
   "outputs": [],
   "source": [
    "SET - Множества\n",
    "Контейнер содержащий неповторяющиеся элементы в случайном порядке\n",
    "\n",
    "• len(s) - число элементов в множестве (размер множества).\n",
    "• x in s - принадлежит ли x множеству s.\n",
    "• set.isdisjoint(other) - истина, если set и other не имеют общих элементов.\n",
    "• set == other - все элементы set принадлежат other, все элементы other принадлежат\n",
    "set.\n",
    "• set.issubset(other) или set <= other - все элементы set принадлежат other.\n",
    "• set.issuperset(other) или set >= other - аналогично.\n",
    "• set.union(other, ...) или set | other | ... - объединение нескольких множеств.\n",
    "• set.intersection(other, ...) или set & other & ... - пересечение.\n",
    "• set.difference(other, ...) или set - other - ... - множество из всех элементов set, не принадлежащие ни одному из other.\n",
    "• set.symmetric_difference(other); set ^ other - множество из элементов, встречающихся в одном множестве, но не встречающиеся в обоих.\n",
    "• set.copy() - копия множества.\n",
    "И операции, непосредственно изменяющие множество:\n",
    "• set.update(other, ...); set |= other | ... - объединение.\n",
    "• set.intersection_update(other, ...); set &= other & ... - пересечение.\n",
    "• set.difference_update(other, ...); set -= other | ... - вычитание.\n",
    "• set.symmetric_difference_update(other); set ^= other - множество из элементов, встречающихся в одном множестве, но не встречающиеся в обоих.\n",
    "• set.add(elem) - добавляет элемент в множество.\n",
    "• set.remove(elem) - удаляет элемент из множества. KeyError, если такого элемента не\n",
    "существует.\n",
    "• set.discard(elem) - удаляет элемент, если он находится в множестве.\n",
    "• set.pop() - удаляет первый элемент из множества. Так как множества не упорядочены, нельзя точно сказать, какой элемент будет первым.\n",
    "• set.clear() - очистка множества.\n"
   ]
  },
  {
   "cell_type": "code",
   "execution_count": 7,
   "id": "ca3631bf-496a-43c6-ba49-afbf96c15b51",
   "metadata": {},
   "outputs": [
    {
     "data": {
      "text/plain": [
       "{0, 1, 2, 3, 4, 5, 6, 7, 8, 9}"
      ]
     },
     "execution_count": 7,
     "metadata": {},
     "output_type": "execute_result"
    }
   ],
   "source": [
    "# That's how wee coock set compre\n",
    "set_comprehansion = { x for x in range(0,10) }\n",
    "\n",
    "set_comprehansion"
   ]
  },
  {
   "cell_type": "code",
   "execution_count": 41,
   "id": "3bcc1720-faf3-41a4-98c0-8000b3ae1a83",
   "metadata": {},
   "outputs": [
    {
     "name": "stdout",
     "output_type": "stream",
     "text": [
      "37 22\n",
      "True\n"
     ]
    }
   ],
   "source": [
    "# ORDERING IN SET\n",
    "phrase1 = 'обычно ты не даешь номер +79855203082'\n",
    "phrase2 = 'usually you are not giving number +79855203082'\n",
    "\n",
    "orig,cleaned = len(phrase1),len(set(phrase1)) # len\n",
    "print(orig , cleaned)\n",
    "\n",
    "# check in set\n",
    "print('+' in phrase1)\n"
   ]
  },
  {
   "cell_type": "code",
   "execution_count": 47,
   "id": "93dfd826-4a29-4613-bd84-3c898ac61406",
   "metadata": {},
   "outputs": [
    {
     "data": {
      "text/plain": [
       "True"
      ]
     },
     "execution_count": 47,
     "metadata": {},
     "output_type": "execute_result"
    }
   ],
   "source": [
    "# do the same items in one present in another\n",
    "\n",
    "one = set('678')\n",
    "two = set('abc')\n",
    "\n",
    "res = one.isdisjoint(two)\n",
    "res"
   ]
  },
  {
   "cell_type": "code",
   "execution_count": 52,
   "id": "e3933016-73b9-41e1-8691-af74af425c08",
   "metadata": {},
   "outputs": [
    {
     "data": {
      "text/plain": [
       "True"
      ]
     },
     "execution_count": 52,
     "metadata": {},
     "output_type": "execute_result"
    }
   ],
   "source": [
    "# все ли элементы в одном принадлежат второму ?\n",
    "\n",
    "diff = two.issubset(one)\n",
    "same = one.issubset(one)\n",
    "same"
   ]
  },
  {
   "cell_type": "code",
   "execution_count": 53,
   "id": "a46a2b27-8e77-4c5b-ae53-34cb82c48184",
   "metadata": {},
   "outputs": [
    {
     "data": {
      "text/plain": [
       "True"
      ]
     },
     "execution_count": 53,
     "metadata": {},
     "output_type": "execute_result"
    }
   ],
   "source": [
    "two.issuperset(two)"
   ]
  },
  {
   "cell_type": "code",
   "execution_count": 54,
   "id": "00c45fa2-594c-4d00-9b6f-0d358a6bd5dd",
   "metadata": {},
   "outputs": [
    {
     "data": {
      "text/plain": [
       "{'1', '2', '3', '4', '5', 'b', 'c', 'e', 'f', 'g', 'h', 'r', 'v'}"
      ]
     },
     "execution_count": 54,
     "metadata": {},
     "output_type": "execute_result"
    }
   ],
   "source": [
    "# Обьеденение\n",
    "setOne = set('12345')\n",
    "setTwo = set('erfgh')\n",
    "setThree = set('bvc')\n",
    "\n",
    "setOne.union(setTwo,setThree)"
   ]
  },
  {
   "cell_type": "code",
   "execution_count": 58,
   "id": "b69aeaed-7785-491e-a2bd-f70702e347ca",
   "metadata": {},
   "outputs": [
    {
     "data": {
      "text/plain": [
       "{'t', 'y'}"
      ]
     },
     "execution_count": 58,
     "metadata": {},
     "output_type": "execute_result"
    }
   ],
   "source": [
    "# Пересечение intersection\n",
    "\n",
    "item1 = set('qwerty')\n",
    "item2 = set('tyuiop')\n",
    "\n",
    "#item1 & item2\n",
    "item1.intersection(item2)\n"
   ]
  },
  {
   "cell_type": "code",
   "execution_count": 68,
   "id": "44aeae13-cb7f-44ba-9da4-dc76be4d536c",
   "metadata": {},
   "outputs": [
    {
     "data": {
      "text/plain": [
       "{'google', 'microsoft'}"
      ]
     },
     "execution_count": 68,
     "metadata": {},
     "output_type": "execute_result"
    }
   ],
   "source": [
    "# Поиск разницы\n",
    "\n",
    "a = {\"apple\", \"banana\", \"cherry\"}\n",
    "b = {\"google\", \"microsoft\", \"apple\"}\n",
    "\n",
    "\n",
    "difference = b.difference(a) \n",
    "\n",
    "difference"
   ]
  },
  {
   "cell_type": "code",
   "execution_count": 67,
   "id": "f7bf59b6-32e1-4584-b7f7-1dab3df4d158",
   "metadata": {},
   "outputs": [
    {
     "name": "stdout",
     "output_type": "stream",
     "text": [
      "{'banana', 'google', 'microsoft', 'cherry'}\n"
     ]
    }
   ],
   "source": [
    "x = {\"apple\", \"banana\", \"cherry\"}\n",
    "y = {\"google\", \"microsoft\", \"apple\"}\n",
    "\n",
    "z = x.symmetric_difference(y)\n",
    "\n",
    "print(z)"
   ]
  },
  {
   "cell_type": "code",
   "execution_count": 69,
   "id": "28e7ecb8-0d10-47a1-93a9-28d75afa213b",
   "metadata": {},
   "outputs": [
    {
     "name": "stdout",
     "output_type": "stream",
     "text": [
      "{'banana', 'google', 'microsoft', 'cherry'}\n"
     ]
    }
   ],
   "source": [
    "x = {\"apple\", \"banana\", \"cherry\"}\n",
    "y = {\"google\", \"microsoft\", \"apple\"}\n",
    "\n",
    "x.symmetric_difference_update(y)\n",
    "\n",
    "print(x)"
   ]
  },
  {
   "cell_type": "code",
   "execution_count": 70,
   "id": "8d268312-0fd2-418f-95b8-df60923f3956",
   "metadata": {},
   "outputs": [
    {
     "name": "stdout",
     "output_type": "stream",
     "text": [
      "{'banana', 'google', 'microsoft', 'cherry'}\n"
     ]
    }
   ],
   "source": [
    "# S H O R T C U T of symmetric_difference()\n",
    "x = {\"apple\", \"banana\", \"cherry\"}\n",
    "y = {\"google\", \"microsoft\", \"apple\"}\n",
    "\n",
    "x ^= y\n",
    "\n",
    "print(x)"
   ]
  },
  {
   "cell_type": "code",
   "execution_count": 72,
   "id": "ba6e7698-4551-4439-aba2-d610e80219f5",
   "metadata": {},
   "outputs": [
    {
     "data": {
      "text/plain": [
       "{'banana', 'cherry', 'google', 'microsoft'}"
      ]
     },
     "execution_count": 72,
     "metadata": {},
     "output_type": "execute_result"
    }
   ],
   "source": [
    "# copy()\n",
    "z = x.copy()\n",
    "z"
   ]
  },
  {
   "cell_type": "code",
   "execution_count": 85,
   "id": "e90eaee1-b355-4460-9e00-00c302d6be3d",
   "metadata": {},
   "outputs": [
    {
     "data": {
      "text/plain": [
       "{'c'}"
      ]
     },
     "execution_count": 85,
     "metadata": {},
     "output_type": "execute_result"
    }
   ],
   "source": [
    "# update\n",
    "\n",
    "h = {5,7,6}\n",
    "d = {0,1,2}\n",
    "h.update(d)\n",
    "h\n",
    "\n",
    "# intersection_update\n",
    "#Нашел пересечение и удалил все кроме пересечения \n",
    "\n",
    "wrd1 = set('abc')\n",
    "wrd2 = set('cde')\n",
    "\n",
    "wrd1.intersection_update(wrd2)\n",
    "\n",
    "wrd1\n",
    "\n"
   ]
  },
  {
   "cell_type": "code",
   "execution_count": 89,
   "id": "9eb6f120-f221-4209-96ca-96c76be3735b",
   "metadata": {},
   "outputs": [
    {
     "data": {
      "text/plain": [
       "{'2', '3'}"
      ]
     },
     "execution_count": 89,
     "metadata": {},
     "output_type": "execute_result"
    }
   ],
   "source": [
    "# Difference update\n",
    "# Нашел те что в обоих и удалил из х\n",
    "\n",
    "x = {\"1\", \"2\", \"3\"}\n",
    "y = {\"1\", \"5\", \"6\"}\n",
    "\n",
    "x.difference_update(y)\n",
    "\n",
    "x\n"
   ]
  },
  {
   "cell_type": "code",
   "execution_count": null,
   "id": "ed67fd3c-9da1-46d9-8f6d-1041ed749e5f",
   "metadata": {},
   "outputs": [],
   "source": [
    "• set.symmetric_difference_update(other); set ^= other - множество из элементов, встречающихся в одном множестве, но не встречающиеся в обоих.\n",
    "• set.add(elem) - добавляет элемент в множество.\n",
    "• set.remove(elem) - удаляет элемент из множества. KeyError, если такого элемента не\n",
    "существует.\n",
    "• set.discard(elem) - удаляет элемент, если он находится в множестве.\n",
    "• set.pop() - удаляет первый элемент из множества. Так как множества не упорядочены, нельзя точно сказать, какой элемент будет первым.\n",
    "• set.clear() - очистка множества."
   ]
  }
 ],
 "metadata": {
  "kernelspec": {
   "display_name": "Python 3 (ipykernel)",
   "language": "python",
   "name": "python3"
  },
  "language_info": {
   "codemirror_mode": {
    "name": "ipython",
    "version": 3
   },
   "file_extension": ".py",
   "mimetype": "text/x-python",
   "name": "python",
   "nbconvert_exporter": "python",
   "pygments_lexer": "ipython3",
   "version": "3.9.6"
  }
 },
 "nbformat": 4,
 "nbformat_minor": 5
}
