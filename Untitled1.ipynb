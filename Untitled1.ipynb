{
 "cells": [
  {
   "cell_type": "code",
   "execution_count": 19,
   "id": "aaf77983-de61-4cb0-93ef-2faeb902ba34",
   "metadata": {},
   "outputs": [
    {
     "name": "stdout",
     "output_type": "stream",
     "text": [
      "XXX 4\n",
      "[0, 1, 2, 3, 4] new\n",
      "XXX 9\n",
      "[0, 1, 2, 3, 4, 6, 7, 8, 9, 12] new\n"
     ]
    },
    {
     "ename": "IndexError",
     "evalue": "list index out of range",
     "output_type": "error",
     "traceback": [
      "\u001b[0;31m---------------------------------------------------------------------------\u001b[0m",
      "\u001b[0;31mIndexError\u001b[0m                                Traceback (most recent call last)",
      "Cell \u001b[0;32mIn[19], line 27\u001b[0m\n\u001b[1;32m     25\u001b[0m \u001b[38;5;28;01mfor\u001b[39;00m i \u001b[38;5;129;01min\u001b[39;00m srt:\n\u001b[1;32m     26\u001b[0m     cnt \u001b[38;5;241m+\u001b[39m\u001b[38;5;241m=\u001b[39m\u001b[38;5;241m1\u001b[39m\n\u001b[0;32m---> 27\u001b[0m     q \u001b[38;5;241m=\u001b[39m \u001b[43msrt\u001b[49m\u001b[43m[\u001b[49m\u001b[43mcnt\u001b[49m\u001b[43m]\u001b[49m\n\u001b[1;32m     28\u001b[0m     guess \u001b[38;5;241m=\u001b[39m q \u001b[38;5;241m-\u001b[39mi\n\u001b[1;32m     29\u001b[0m     \u001b[38;5;28;01mif\u001b[39;00m guess \u001b[38;5;241m>\u001b[39m \u001b[38;5;241m1\u001b[39m:\n",
      "\u001b[0;31mIndexError\u001b[0m: list index out of range"
     ]
    }
   ],
   "source": [
    "lst = [1,2,3,4,6,12,13,14,15,7,8,9,0]\n",
    "\n",
    "\n",
    "\n",
    "\n",
    "srt = sorted(lst)\n",
    "\n",
    "\n",
    "\n",
    "# def req(lst):\n",
    "#     chunks = []\n",
    "#     ch = []\n",
    "#     c = 0\n",
    "#     while lst:\n",
    "#         c +=1\n",
    "#         q = (lst[c] - lst[c-1] == 1) if lst[c +1] else False\n",
    "#         print(q, \"Q\")\n",
    "#         if q:\n",
    "#             ch.append(lst[c])\n",
    "#             print(ch)\n",
    "#         chunks.append(ch) \n",
    "#     return chunks\n",
    "\n",
    "cnt = 0\n",
    "for i in srt:\n",
    "    cnt +=1\n",
    "    q = srt[cnt]\n",
    "    guess = q -i\n",
    "    if guess > 1:\n",
    "        print(\"XXX\", i)\n",
    "        ind = srt.index(i)\n",
    "        new = srt[0:i +1]\n",
    "        print(new,\"new\")\n",
    "        \n",
    "    \n",
    "\n",
    "\n",
    "\n"
   ]
  },
  {
   "cell_type": "code",
   "execution_count": 20,
   "id": "bfa318da-7565-42d5-bd8e-6b6777d8e12e",
   "metadata": {},
   "outputs": [],
   "source": [
    "# 1 - Сортируем массив\n",
    "# 2 итериируемся по массиву\n",
    "# мне нужны: итер / следующий \n",
    "# I'm dumb !"
   ]
  }
 ],
 "metadata": {
  "kernelspec": {
   "display_name": "Python 3 (ipykernel)",
   "language": "python",
   "name": "python3"
  },
  "language_info": {
   "codemirror_mode": {
    "name": "ipython",
    "version": 3
   },
   "file_extension": ".py",
   "mimetype": "text/x-python",
   "name": "python",
   "nbconvert_exporter": "python",
   "pygments_lexer": "ipython3",
   "version": "3.9.6"
  }
 },
 "nbformat": 4,
 "nbformat_minor": 5
}
