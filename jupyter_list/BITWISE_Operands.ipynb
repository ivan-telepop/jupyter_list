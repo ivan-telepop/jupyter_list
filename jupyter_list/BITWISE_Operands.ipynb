{
 "cells": [
  {
   "cell_type": "code",
   "execution_count": 1,
   "id": "47481f63-1cda-45a1-b2c1-f8bdcb581d8a",
   "metadata": {},
   "outputs": [
    {
     "data": {
      "text/plain": [
       "('11000000', '10101000', '1100101', '11111110')"
      ]
     },
     "execution_count": 1,
     "metadata": {},
     "output_type": "execute_result"
    }
   ],
   "source": [
    "# Перевод числа в двоичное представление в классическом виде без префикса\n",
    "format(192,'b'),format(168,'b'),format(101,'b'),format(254,'b')"
   ]
  },
  {
   "cell_type": "code",
   "execution_count": 3,
   "id": "b8cb0793-b396-4f71-b75f-c0a079639e2d",
   "metadata": {},
   "outputs": [
    {
     "data": {
      "text/plain": [
       "'1111'"
      ]
     },
     "execution_count": 3,
     "metadata": {},
     "output_type": "execute_result"
    }
   ],
   "source": [
    "# input:\n",
    "# 15.875\n",
    "# output:\n",
    "# \"0 10000010 11111100000000000000000\"\n",
    "\n",
    "\n",
    "\n",
    "format(15,'b')"
   ]
  },
  {
   "cell_type": "code",
   "execution_count": 2,
   "id": "59fa70f8-d1b0-477a-a23d-a1fd944cdac2",
   "metadata": {},
   "outputs": [
    {
     "data": {
      "text/plain": [
       "('0b11000000', '0b10101000', '0b1100101', '0b11111110')"
      ]
     },
     "execution_count": 2,
     "metadata": {},
     "output_type": "execute_result"
    }
   ],
   "source": [
    "# перевод в двоичное представление с префиксом 0b\n",
    "bin(192), bin(168), bin(101), bin(254) "
   ]
  },
  {
   "cell_type": "code",
   "execution_count": 37,
   "id": "250f91de-2990-4394-a11a-3c1d8cfed64d",
   "metadata": {},
   "outputs": [
    {
     "data": {
      "text/plain": [
       "4"
      ]
     },
     "execution_count": 37,
     "metadata": {},
     "output_type": "execute_result"
    }
   ],
   "source": [
    "a = format(1,'b')\n",
    "1 << 2"
   ]
  },
  {
   "cell_type": "code",
   "execution_count": 26,
   "id": "0f459990-4a85-4640-a549-6f1379c14c41",
   "metadata": {},
   "outputs": [
    {
     "data": {
      "text/plain": [
       "'1001'"
      ]
     },
     "execution_count": 26,
     "metadata": {},
     "output_type": "execute_result"
    }
   ],
   "source": [
    "n1 = 9\n",
    "bin(n1)[2:]"
   ]
  },
  {
   "cell_type": "code",
   "execution_count": 33,
   "id": "64e3accd-b9d2-498b-a4c4-9af252583930",
   "metadata": {},
   "outputs": [
    {
     "name": "stdout",
     "output_type": "stream",
     "text": [
      "('1', 1) ('10', 2) ('11', 3) ('100', 4) ('101', 5) ('110', 6) ('111', 7) ('1000', 8) ('1001', 9) ('1010', 10)\n"
     ]
    }
   ],
   "source": [
    "# Обнуляем если далше некуда! Переносим разряд выше\n",
    "\n",
    "ls_bin = [ bin(b)[2:] for b in range(1,11)]\n",
    "\n",
    "print(*zip(ls_bin,range(1,11)))"
   ]
  },
  {
   "cell_type": "code",
   "execution_count": 42,
   "id": "82c8431e-0b0a-4841-8caa-018c57fb375b",
   "metadata": {},
   "outputs": [
    {
     "data": {
      "text/plain": [
       "-1"
      ]
     },
     "execution_count": 42,
     "metadata": {},
     "output_type": "execute_result"
    }
   ],
   "source": [
    "# Инверсия числа\n",
    "\n",
    "a = 0\n",
    "~a   # Inversion"
   ]
  },
  {
   "cell_type": "code",
   "execution_count": 21,
   "id": "60acc9ac-5743-4691-b700-f8ad1c3bfbb3",
   "metadata": {},
   "outputs": [
    {
     "data": {
      "text/plain": [
       "'0 01111111100 1111010111000010100011110101110000101000111101011100'"
      ]
     },
     "execution_count": 21,
     "metadata": {},
     "output_type": "execute_result"
    }
   ],
   "source": [
    "import struct\n",
    "def float_to_IEEE_754(f : float) -> str:\n",
    "    s=''.join(f'{b:08b}' for b in struct.pack('d',f)[::-1])\n",
    "    return f\"{s[0]} {s[1:12]} {s[12:]}\"\n",
    "\n",
    "float_to_IEEE_754(0.245)"
   ]
  },
  {
   "cell_type": "code",
   "execution_count": 27,
   "id": "2df229e1-0bf5-4c9c-a623-aaf3be0b9fcf",
   "metadata": {},
   "outputs": [
    {
     "data": {
      "text/plain": [
       "b'\\xd73'"
      ]
     },
     "execution_count": 27,
     "metadata": {},
     "output_type": "execute_result"
    }
   ],
   "source": [
    "import struct\n",
    "\n",
    "foo = struct.pack('e',0.245)\n",
    "\n",
    "foo"
   ]
  }
 ],
 "metadata": {
  "kernelspec": {
   "display_name": "Python 3 (ipykernel)",
   "language": "python",
   "name": "python3"
  },
  "language_info": {
   "codemirror_mode": {
    "name": "ipython",
    "version": 3
   },
   "file_extension": ".py",
   "mimetype": "text/x-python",
   "name": "python",
   "nbconvert_exporter": "python",
   "pygments_lexer": "ipython3",
   "version": "3.9.6"
  }
 },
 "nbformat": 4,
 "nbformat_minor": 5
}
