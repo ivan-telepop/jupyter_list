{
 "cells": [
  {
   "cell_type": "markdown",
   "id": "e8506f13",
   "metadata": {},
   "source": [
    "LITCODE"
   ]
  },
  {
   "cell_type": "code",
   "execution_count": null,
   "id": "ed49c445",
   "metadata": {},
   "outputs": [],
   "source": [
    "# Given the head of a linked list, return the node where the cycle begins. If there is no cycle, return null.\n",
    "\n",
    "# There is a cycle in a linked list if there is some node in the list that can be reached again by continuously following the next pointer. Internally, pos is used to denote the index of the node that tail's next pointer is connected to (0-indexed). It is -1 if there is no cycle. Note that pos is not passed as a parameter.\n",
    "\n",
    "# Do not modify the linked list.\n",
    "\n",
    "\n",
    "\n",
    "class Solution:\n",
    "    def has_cycle(self, head):\n",
    "        if not head:\n",
    "            return False\n",
    "        slow = fast = head\n",
    "        while fast.next and fast.next.next:\n",
    "            \n",
    "            fast = fast.next.next\n",
    "            slow = slow.next\n",
    "            if fast = slow :\n",
    "                return True\n",
    "        return False\n",
    "    \n",
    "\n",
    "            \n",
    "        "
   ]
  },
  {
   "cell_type": "code",
   "execution_count": 24,
   "id": "b5804e9b",
   "metadata": {},
   "outputs": [
    {
     "name": "stdout",
     "output_type": "stream",
     "text": [
      "left: -1 centr: 1 right: 2\n",
      "left: 0 centr: 2 right: 3\n",
      "left: 1 centr: 3 right: 4\n",
      "left: 2 centr: 4 right: 5\n",
      "left: 3 centr: 5 right: 6\n",
      "left: 4 centr: 6 right: 7\n",
      "left: 5 centr: 7 right: 8\n",
      "left: 5 centr: 7 right: 8\n",
      "left: 6 centr: 8 right: 9\n"
     ]
    }
   ],
   "source": [
    "lst = [1,2,3,4,5,6,7,7,8]\n",
    "\n",
    "for one in lst:\n",
    "    left = (one -2)\n",
    "    centr = one\n",
    "    right = (one +1)\n",
    "    \n",
    "    print(\"left:\",left,\"centr:\", centr,\"right:\",right)"
   ]
  },
  {
   "cell_type": "code",
   "execution_count": 45,
   "id": "c737cbb7",
   "metadata": {},
   "outputs": [
    {
     "data": {
      "text/plain": [
       "'Created Nodes:  110'"
      ]
     },
     "execution_count": 45,
     "metadata": {},
     "output_type": "execute_result"
    }
   ],
   "source": [
    "# СВЯЗАННЫЙ СПИСОК\n",
    "\n",
    "class LinkedList:\n",
    "    def __init__(self):\n",
    "        self.head = None\n",
    "    def __repr__(self):\n",
    "        return f\"head is:{self.head}\"\n",
    "    \n",
    "    \n",
    "class Node:\n",
    "    TOTAL_NODES = 0\n",
    "    def __init__(self,centr):\n",
    "        Node.TOTAL_NODES = Node.TOTAL_NODES + 1\n",
    "        self.centr = centr\n",
    "        self.next = None\n",
    "    def __repr__(self):\n",
    "        return f\"centr:{self.centr} | next: >>{self.next} \"\n",
    "    @classmethod\n",
    "    def created_nodes(cls):                         \n",
    "        return f\"Created Nodes:  {cls.TOTAL_NODES}\"\n",
    "        \n",
    "    \n",
    "    \n",
    "init_list = LinkedList()\n",
    "temp_node = Node(0)\n",
    "\n",
    "init_list.head = temp_node\n",
    "\n",
    "for i in range(1,110):\n",
    "    temp_node.next = Node(i)\n",
    "    temp_node = temp_node.next\n",
    "    if temp_node.next == None:\n",
    "        temp_node.next = 'The End!'\n",
    "\n",
    "\n",
    "  \n",
    "init_list.head.created_nodes()"
   ]
  },
  {
   "cell_type": "code",
   "execution_count": null,
   "id": "7ef9be90",
   "metadata": {},
   "outputs": [],
   "source": [
    "# Definition for singly-linked list.\n",
    "class ListNode(object):\n",
    "    def __init__(self, cnt=0, nxt=None):\n",
    "        self.cnt = cnt\n",
    "        self.next = nxt\n",
    "        \n",
    "class Solution(object):\n",
    "    def reverseList(self, head):\n",
    "        if not head:\n",
    "            return head\n",
    "        temp = head.nxt\n",
    "        tail = ListNode(cnt=head.cnt)\n",
    "        while temp.nxt:\n",
    "            temp = temp.nxt\n",
    "            tail = ListNode(cnt=temp.cnt,nxt=tail)\n",
    "            return tail\n",
    "        \n",
    "\n",
    "        "
   ]
  },
  {
   "cell_type": "code",
   "execution_count": 20,
   "id": "ab4e19ac",
   "metadata": {},
   "outputs": [
    {
     "data": {
      "text/plain": [
       "3"
      ]
     },
     "execution_count": 20,
     "metadata": {},
     "output_type": "execute_result"
    }
   ],
   "source": [
    "# Stack \n",
    "class Stack:\n",
    "   def __init__(self):\n",
    "      self.stack = []\n",
    "   def add(self, dataval):\n",
    "      if dataval not in self.stack:\n",
    "         self.stack.append(dataval)\n",
    "         return True\n",
    "      else:\n",
    "         return False\n",
    "   def latest(self):     \n",
    "         return self.stack[-1]\n",
    "   def remove(self):\n",
    "       if len(self.stack) <= 0:\n",
    "          return (\"No element in the Stack\")\n",
    "       else:\n",
    "          return self.stack.pop()\n",
    "   def length(self):\n",
    "       return len(self.stack)\n",
    "\n",
    "AStack = Stack()\n",
    "AStack.add(\"One\")\n",
    "AStack.add(\"Two\")\n",
    "AStack.add(\"Three\")\n",
    "AStack.add(\"Four\")\n",
    "AStack.add(\"Five\")\n",
    "AStack.add(\"Six\")\n",
    "AStack.latest()\n",
    "AStack.remove()\n",
    "AStack.__dict__\n",
    "AStack.remove()\n",
    "AStack.__dict__\n",
    "AStack.remove()\n",
    "AStack.__dict__\n",
    "AStack.length()"
   ]
  },
  {
   "cell_type": "code",
   "execution_count": 18,
   "id": "4fbb7419",
   "metadata": {},
   "outputs": [
    {
     "name": "stdout",
     "output_type": "stream",
     "text": [
      "2\n",
      "None\n"
     ]
    }
   ],
   "source": [
    "# Пример -  рекурсия в бинарном поиске\n",
    "def binar_search(lst, start, end, val):\n",
    "   if (end < start):\n",
    "      return None\n",
    "   else:\n",
    "      midval = start + ((end - start) // 2) #  \n",
    "# Compare the search item with middle most value\n",
    "   if lst[midval] > val: # Если центр списка больше чем то что ищем\n",
    "      return binar_search(lst, start, midval-1,val) # Сместились назад на -1 и возвращаем val\n",
    "   elif lst[midval] < val: # Если середина меньше чем то что ищем \n",
    "      return binar_search(lst, midval+1, end, val) #Возвращаем результат функции и +1 к середине\n",
    "   else:\n",
    "      return midval\n",
    "lst = [8,11,24,56,88,131]\n",
    "print(binar_search(lst, 0, 5, 24))\n",
    "print(binar_search(lst, 0, 5, 51))"
   ]
  },
  {
   "cell_type": "code",
   "execution_count": null,
   "id": "2be5168b",
   "metadata": {},
   "outputs": [],
   "source": []
  },
  {
   "cell_type": "code",
   "execution_count": 110,
   "id": "971ab837",
   "metadata": {},
   "outputs": [
    {
     "data": {
      "text/plain": [
       "40320"
      ]
     },
     "execution_count": 110,
     "metadata": {},
     "output_type": "execute_result"
    }
   ],
   "source": [
    "# F A C T O R I A L - RECURSION\n",
    "def fact(n):\n",
    "    if n <= 0:\n",
    "        return 1\n",
    "    else:\n",
    "        return n * fact(n -1)\n",
    "    \n",
    "fact(8)"
   ]
  },
  {
   "cell_type": "code",
   "execution_count": 2,
   "id": "1cff8bd5",
   "metadata": {},
   "outputs": [
    {
     "name": "stdout",
     "output_type": "stream",
     "text": [
      "25852016738884976640000\n"
     ]
    }
   ],
   "source": [
    "# FACTORIAL NATIVE CODE\n",
    " \n",
    "def fact(num):\n",
    "    num = num\n",
    "    fact = 1\n",
    "    for i in range(1, num+1):\n",
    "        fact = fact * i\n",
    "    return fact\n",
    "\n",
    "print(fact(23))"
   ]
  },
  {
   "cell_type": "code",
   "execution_count": 15,
   "id": "59f90145",
   "metadata": {},
   "outputs": [
    {
     "name": "stdout",
     "output_type": "stream",
     "text": [
      "3 длинна массива\n",
      "1\n"
     ]
    }
   ],
   "source": [
    "# Согласно правилу арифметической прогрессии \n",
    "# Всякий член арифметической прогрессии вырази́м через любую пару других членов.\n",
    "# -- Длина массива с элементами, умноженная на (длинну массива + 1) // 2 \n",
    "# и отнять сумму всех чисел смассива - результат будет пропущенный элемент в массиве.\n",
    "\n",
    "def missed(mass):\n",
    "    n = len(mass)\n",
    "    return n * (n + 1) // 2 - sum(mass)\n",
    "\n",
    "print(missed([0,2,3]))\n"
   ]
  },
  {
   "cell_type": "code",
   "execution_count": 2,
   "id": "54959443",
   "metadata": {},
   "outputs": [
    {
     "data": {
      "text/plain": [
       "[1, 2, 3, 4, 5, 6]"
      ]
     },
     "execution_count": 2,
     "metadata": {},
     "output_type": "execute_result"
    }
   ],
   "source": [
    "import itertools\n",
    "\n",
    "s1 = [1,2,3]\n",
    "s2 = [4,5,6]\n",
    "\n",
    "f = list(itertools.chain(s1,s2))\n",
    "f"
   ]
  },
  {
   "cell_type": "code",
   "execution_count": 34,
   "id": "da5d3f46",
   "metadata": {},
   "outputs": [
    {
     "ename": "TypeError",
     "evalue": "a bytes-like object is required, not 'list'",
     "output_type": "error",
     "traceback": [
      "\u001b[0;31m---------------------------------------------------------------------------\u001b[0m",
      "\u001b[0;31mTypeError\u001b[0m                                 Traceback (most recent call last)",
      "Cell \u001b[0;32mIn[34], line 17\u001b[0m\n\u001b[1;32m      4\u001b[0m \u001b[38;5;66;03m#  1)    left-to-right    (across)\u001b[39;00m\n\u001b[1;32m      5\u001b[0m \u001b[38;5;66;03m#     2)    top-to-bottom    (down)\u001b[39;00m\n\u001b[1;32m      6\u001b[0m \u001b[38;5;66;03m#     3)    bottom-to-top    (up)\u001b[39;00m\n\u001b[0;32m   (...)\u001b[0m\n\u001b[1;32m     11\u001b[0m \u001b[38;5;66;03m#     hor = len(word)\u001b[39;00m\n\u001b[1;32m     12\u001b[0m \u001b[38;5;66;03m#     square = np.arange(len(word)).reshape(vert, hor)\u001b[39;00m\n\u001b[1;32m     15\u001b[0m word \u001b[38;5;241m=\u001b[39m \u001b[38;5;124m'\u001b[39m\u001b[38;5;124ms o m e w o r d\u001b[39m\u001b[38;5;124m'\u001b[39m\n\u001b[0;32m---> 17\u001b[0m \u001b[43mnp\u001b[49m\u001b[38;5;241;43m.\u001b[39;49m\u001b[43mfromstring\u001b[49m\u001b[43m(\u001b[49m\u001b[43m[\u001b[49m\u001b[38;5;241;43m5\u001b[39;49m\u001b[43m,\u001b[49m\u001b[38;5;241;43m5\u001b[39;49m\u001b[43m]\u001b[49m\u001b[43m,\u001b[49m\u001b[43mdtype\u001b[49m\u001b[38;5;241;43m=\u001b[39;49m\u001b[38;5;28;43mint\u001b[39;49m\u001b[43m,\u001b[49m\u001b[43m \u001b[49m\u001b[43msep\u001b[49m\u001b[38;5;241;43m=\u001b[39;49m\u001b[38;5;124;43m'\u001b[39;49m\u001b[38;5;124;43m'\u001b[39;49m\u001b[43m)\u001b[49m\n",
      "\u001b[0;31mTypeError\u001b[0m: a bytes-like object is required, not 'list'"
     ]
    }
   ],
   "source": [
    "# https://www.codewars.com/kata/5cb7baa989b1c50014a53333   \n",
    "\n",
    "# https://pythonworld.ru/numpy/2.html\n",
    "\n",
    "import numpy as np\n",
    "#  1)    left-to-right    (across)\n",
    "#     2)    top-to-bottom    (down)\n",
    "#     3)    bottom-to-top    (up)\n",
    "#     4)    right-to-left    (reverse)\n",
    "\n",
    "# def sator_square_checker(word: str):\n",
    "#     vert = len(word)\n",
    "#     hor = len(word)\n",
    "#     square = np.arange(len(word)).reshape(vert, hor)\n",
    "\n",
    "\n",
    "word = 's o m e w o r d'\n",
    "\n"
   ]
  }
 ],
 "metadata": {
  "kernelspec": {
   "display_name": "Python 3 (ipykernel)",
   "language": "python",
   "name": "python3"
  },
  "language_info": {
   "codemirror_mode": {
    "name": "ipython",
    "version": 3
   },
   "file_extension": ".py",
   "mimetype": "text/x-python",
   "name": "python",
   "nbconvert_exporter": "python",
   "pygments_lexer": "ipython3",
   "version": "3.12.4"
  }
 },
 "nbformat": 4,
 "nbformat_minor": 5
}
