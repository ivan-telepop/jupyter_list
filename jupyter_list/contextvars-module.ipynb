{
 "cells": [
  {
   "cell_type": "code",
   "execution_count": 24,
   "id": "b1fd5901-2ca7-45a7-98d0-a25aa947edd6",
   "metadata": {},
   "outputs": [
    {
     "data": {
      "text/plain": [
       "'val'"
      ]
     },
     "execution_count": 24,
     "metadata": {},
     "output_type": "execute_result"
    }
   ],
   "source": [
    "import contextvars\n",
    "\n",
    "ctx = contextvars.ContextVar('test')\n",
    "\n",
    "\n",
    "def mc():\n",
    "    # val = input(\"Print something\")\n",
    "    # return val\n",
    "    ctx.set('val')\n",
    "\n",
    "\n",
    "\n",
    "\n",
    "ctx2 = contextvars.copy_context()\n",
    "\n",
    "ctx2.run(mc)\n",
    "\n",
    "\n",
    "ctx2[ctx]"
   ]
  }
 ],
 "metadata": {
  "kernelspec": {
   "display_name": "Python 3 (ipykernel)",
   "language": "python",
   "name": "python3"
  },
  "language_info": {
   "codemirror_mode": {
    "name": "ipython",
    "version": 3
   },
   "file_extension": ".py",
   "mimetype": "text/x-python",
   "name": "python",
   "nbconvert_exporter": "python",
   "pygments_lexer": "ipython3",
   "version": "3.13.0a6"
  }
 },
 "nbformat": 4,
 "nbformat_minor": 5
}
