{
 "cells": [
  {
   "cell_type": "code",
   "execution_count": null,
   "id": "2d9edcb8-fcb2-448a-9db8-fdf4b8dd4848",
   "metadata": {},
   "outputs": [],
   "source": [
    "https://clickhouse.com/docs/ru\n",
    "# почитай, это же интересно ..."
   ]
  }
 ],
 "metadata": {
  "kernelspec": {
   "display_name": "Python 3 (ipykernel)",
   "language": "python",
   "name": "python3"
  },
  "language_info": {
   "codemirror_mode": {
    "name": "ipython",
    "version": 3
   },
   "file_extension": ".py",
   "mimetype": "text/x-python",
   "name": "python",
   "nbconvert_exporter": "python",
   "pygments_lexer": "ipython3",
   "version": "3.13.0a6"
  }
 },
 "nbformat": 4,
 "nbformat_minor": 5
}
