{
 "cells": [
  {
   "cell_type": "code",
   "execution_count": 9,
   "id": "3d5dcd3f-948e-4085-bdf5-b8b6fc5248dc",
   "metadata": {},
   "outputs": [
    {
     "name": "stdout",
     "output_type": "stream",
     "text": [
      "Requirement already satisfied: numpy in /Users/ewan/.pyenv/versions/3.13.0a6/lib/python3.13/site-packages (2.1.3)\n"
     ]
    }
   ],
   "source": [
    "!python -m venv .venv\n",
    "!source .venv/bin/activate \n",
    "!pip install numpy "
   ]
  }
 ],
 "metadata": {
  "kernelspec": {
   "display_name": "Python 3 (ipykernel)",
   "language": "python",
   "name": "python3"
  },
  "language_info": {
   "codemirror_mode": {
    "name": "ipython",
    "version": 3
   },
   "file_extension": ".py",
   "mimetype": "text/x-python",
   "name": "python",
   "nbconvert_exporter": "python",
   "pygments_lexer": "ipython3",
   "version": "3.13.0a6"
  }
 },
 "nbformat": 4,
 "nbformat_minor": 5
}
