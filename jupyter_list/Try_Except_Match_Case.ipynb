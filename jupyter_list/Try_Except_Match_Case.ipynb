{
 "cells": [
  {
   "cell_type": "code",
   "execution_count": 11,
   "id": "07225be2-2448-40c2-bc70-1e6ea7fc7d6c",
   "metadata": {},
   "outputs": [
    {
     "name": "stdout",
     "output_type": "stream",
     "text": [
      "Trow exception\n",
      "It happens in any case\n"
     ]
    }
   ],
   "source": [
    "x = 'Inside'\n",
    "\n",
    "if isinstance(x,str):\n",
    "\n",
    "    try:\n",
    "        print('Try block',x + j)\n",
    "    except:\n",
    "        print('Trow exception')\n",
    "    finally:\n",
    "        print('It happens in any case')\n",
    "    "
   ]
  },
  {
   "cell_type": "code",
   "execution_count": null,
   "id": "9c35a0e4-18a3-480b-a415-6e90ae3cbc03",
   "metadata": {},
   "outputs": [],
   "source": [
    "command = input('show me the input')\n",
    "match command.split():\n",
    "    case [\"Hello\"]:\n",
    "        print('Nimeric',type(command))\n",
    "    case [*commands]:\n",
    "        print(*commands)\n",
    "    case _:\n",
    "        print('Any other state')\n",
    "\n"
   ]
  }
 ],
 "metadata": {
  "kernelspec": {
   "display_name": "Python 3 (ipykernel)",
   "language": "python",
   "name": "python3"
  },
  "language_info": {
   "codemirror_mode": {
    "name": "ipython",
    "version": 3
   },
   "file_extension": ".py",
   "mimetype": "text/x-python",
   "name": "python",
   "nbconvert_exporter": "python",
   "pygments_lexer": "ipython3",
   "version": "3.12.4"
  }
 },
 "nbformat": 4,
 "nbformat_minor": 5
}
