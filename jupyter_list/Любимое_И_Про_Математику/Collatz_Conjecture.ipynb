{
 "cells": [
  {
   "cell_type": "code",
   "execution_count": null,
   "id": "27495a65-3c01-4130-ae10-fabfbf0fda04",
   "metadata": {},
   "outputs": [],
   "source": [
    "#Гипотеза Коллатца\n",
    "\n",
    "# Для объяснения сути гипотезы рассмотрим следующую последовательность чисел, \n",
    "# называемую сираку́зской после́довательностью. Берём любое натуральное число n.\n",
    "# Если оно чётное, то делим его на 2, а если нечётное, то умножаем на 3 и прибавляем 1 \n",
    "# (получаем 3n + 1). Над полученным числом выполняем те же самые действия, и так далее.\n",
    "\n",
    "# Гипотеза Коллатца заключается в том, что какое бы начальное число n мы ни взяли, \n",
    "# рано или поздно мы получим единицу.\n",
    "# Например, для числа 3 получаем:\n",
    "\n",
    "# 3 — нечётное, 3×3 + 1 = 10\n",
    "# 10 — чётное, 10:2 = 5\n",
    "# 5 — нечётное, 5×3 + 1 = 16\n",
    "# 16 — чётное, 16:2 = 8\n",
    "# 8 — чётное, 8:2 = 4\n",
    "# 4 — чётное, 4:2 = 2\n",
    "# 2 — чётное, 2:2 = 1\n",
    "# 1 — нечётное.\n"
   ]
  },
  {
   "cell_type": "code",
   "execution_count": 31,
   "id": "98fbd23d-b626-49ea-93f6-3ba2e62675a1",
   "metadata": {},
   "outputs": [
    {
     "name": "stdout",
     "output_type": "stream",
     "text": [
      "114 57 172 86 43 130 65 196 98 49 148 74 37 112 56 28 14 7 22 11 34 17 52 26 13 40 20 10 5 16 8 4 2 1\n"
     ]
    }
   ],
   "source": [
    "# Collatz sequence\n",
    "\n",
    "def collatz(x):\n",
    "    yield x\n",
    "    while x != 1:\n",
    "        x = (3 * x + 1) if (x % 2) else (x // 2)\n",
    "        # суть выражения в том что условие билиево в случае деления с остатком - типа bool(x % 2)\n",
    "        yield x\n",
    "\n",
    "print(*collatz(114))\n",
    "\n",
    "\n",
    "# Вот такая прикольная гипотеза.\n",
    "    "
   ]
  },
  {
   "cell_type": "code",
   "execution_count": 7,
   "id": "daaa8a56-3be1-43be-ba08-759bb6cc8c14",
   "metadata": {},
   "outputs": [
    {
     "name": "stdout",
     "output_type": "stream",
     "text": [
      "[10.0, 21.5, 32.666666666666664, 30.0, 31.0, 33.5, 32.142857142857146, 32.375]\n"
     ]
    }
   ],
   "source": [
    "# So good instance of realisation callback class - module math  avg()\n",
    "\n",
    "class Averager():\n",
    "     def __init__(self):\n",
    "         self.series = []\n",
    "     def __call__(self, new_value):\n",
    "         self.series.append(new_value)\n",
    "         total = sum(self.series)\n",
    "         return total / len(self.series)\n",
    "\n",
    "avg = Averager()\n",
    "\n",
    "\n",
    "ls = [10,33,55,22,35,46,24,34]\n",
    "\n",
    "print([avg(i) for i in ls])"
   ]
  }
 ],
 "metadata": {
  "kernelspec": {
   "display_name": "Python 3 (ipykernel)",
   "language": "python",
   "name": "python3"
  },
  "language_info": {
   "codemirror_mode": {
    "name": "ipython",
    "version": 3
   },
   "file_extension": ".py",
   "mimetype": "text/x-python",
   "name": "python",
   "nbconvert_exporter": "python",
   "pygments_lexer": "ipython3",
   "version": "3.13.0a6"
  }
 },
 "nbformat": 4,
 "nbformat_minor": 5
}
