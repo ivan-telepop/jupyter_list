{
 "cells": [
  {
   "cell_type": "code",
   "execution_count": null,
   "id": "145bcad6",
   "metadata": {},
   "outputs": [],
   "source": [
    "#DESIGN PATTERNS\n",
    "\n",
    "#https://www.youtube.com/watch?v=_Nqwv311ycg&list=PLTgRMOcmRb3PQEztkPnMvAeehReJPoSNP&index=2"
   ]
  },
  {
   "cell_type": "code",
   "execution_count": null,
   "id": "2fe4d756",
   "metadata": {},
   "outputs": [],
   "source": []
  }
 ],
 "metadata": {
  "kernelspec": {
   "display_name": "Python 3 (ipykernel)",
   "language": "python",
   "name": "python3"
  },
  "language_info": {
   "codemirror_mode": {
    "name": "ipython",
    "version": 3
   },
   "file_extension": ".py",
   "mimetype": "text/x-python",
   "name": "python",
   "nbconvert_exporter": "python",
   "pygments_lexer": "ipython3",
   "version": "3.9.6"
  }
 },
 "nbformat": 4,
 "nbformat_minor": 5
}
