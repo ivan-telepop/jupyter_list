{
 "cells": [
  {
   "cell_type": "code",
   "execution_count": 13,
   "id": "fe5fc53c",
   "metadata": {},
   "outputs": [
    {
     "data": {
      "text/plain": [
       "['a',\n",
       " 'b',\n",
       " 'c',\n",
       " 'd',\n",
       " 'e',\n",
       " 'f',\n",
       " 'g',\n",
       " 'h',\n",
       " 'i',\n",
       " 'j',\n",
       " 'k',\n",
       " 'l',\n",
       " 'm',\n",
       " 'n',\n",
       " 'o',\n",
       " 'p',\n",
       " 'q',\n",
       " 'r',\n",
       " 's',\n",
       " 't',\n",
       " 'u',\n",
       " 'v',\n",
       " 'w',\n",
       " 'x',\n",
       " 'y']"
      ]
     },
     "execution_count": 13,
     "metadata": {},
     "output_type": "execute_result"
    }
   ],
   "source": [
    "# G E N E X P - или списковое включение\n",
    "\n",
    "\n",
    "#print(f\"Hello {chr(letters[10])} world\") - можно выебнуться/пошутить с переносом строки \n",
    "\n",
    "\n",
    "unicodes = [ chr(one) for one in range(97,122)] # тут получаем список / list что по сути является списковым включением.\n",
    "\n",
    "# let_nums = [ ord(lt) for lt in unicodes ]\n",
    "\n",
    "# let_nums\n",
    "\n",
    "# help(unicodes[11])\n",
    "\n",
    "unicodes\n",
    "# a little bit abou unicodes here: https://realpython.com/python-encodings-guide/"
   ]
  },
  {
   "cell_type": "code",
   "execution_count": 19,
   "id": "667a3dfb",
   "metadata": {},
   "outputs": [
    {
     "data": {
      "text/plain": [
       "'01101000 01100101 01101100 01101100 01101111'"
      ]
     },
     "execution_count": 19,
     "metadata": {},
     "output_type": "execute_result"
    }
   ],
   "source": [
    "\n",
    "import binascii\n",
    "\n",
    "\n",
    "def make_bitseq(s: str) -> str:\n",
    "    if not s.isascii():\n",
    "        raise ValueError(\"ASCII only allowed\")\n",
    "    return \" \".join(f\"{ord(i):08b}\" for i in s)\n",
    "\n",
    "\n",
    "make_bitseq('hello')\n",
    "\n"
   ]
  }
 ],
 "metadata": {
  "kernelspec": {
   "display_name": "Python 3 (ipykernel)",
   "language": "python",
   "name": "python3"
  },
  "language_info": {
   "codemirror_mode": {
    "name": "ipython",
    "version": 3
   },
   "file_extension": ".py",
   "mimetype": "text/x-python",
   "name": "python",
   "nbconvert_exporter": "python",
   "pygments_lexer": "ipython3",
   "version": "3.9.6"
  }
 },
 "nbformat": 4,
 "nbformat_minor": 5
}
