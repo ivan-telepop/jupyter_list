{
 "cells": [
  {
   "cell_type": "code",
   "execution_count": null,
   "id": "5075c420",
   "metadata": {},
   "outputs": [],
   "source": [
    "# CLOSURES AND SCOPES"
   ]
  },
  {
   "cell_type": "code",
   "execution_count": 34,
   "id": "0f623754",
   "metadata": {},
   "outputs": [
    {
     "name": "stdout",
     "output_type": "stream",
     "text": [
      "108\n",
      "Created Global !\n"
     ]
    }
   ],
   "source": [
    "def base_func():\n",
    "    aa = 8 # It's important to have correct names for nonlocals \n",
    "    def inner():\n",
    "        nonlocal aa # When we define nonlocals we do these like one step upper scope\n",
    "        xx = (aa + 100)\n",
    "        print(xx)\n",
    "    inner()\n",
    "    global glob # When we do globals into any place we do these like global scope\n",
    "    glob = \"Created Global !\"\n",
    "\n",
    "base_func()\n",
    "print(glob)"
   ]
  },
  {
   "cell_type": "code",
   "execution_count": 43,
   "id": "16b0ed48",
   "metadata": {},
   "outputs": [
    {
     "name": "stdout",
     "output_type": "stream",
     "text": [
      "1\n",
      "2\n",
      "3\n",
      "1\n",
      "2\n",
      "501\n"
     ]
    }
   ],
   "source": [
    "# PATTERN LIKE COUNTER - behaves like a class\n",
    "\n",
    "def counter(count=0):\n",
    "    def step():\n",
    "        nonlocal count\n",
    "        count +=1\n",
    "        return count\n",
    "    return step\n",
    "\n",
    "counter_1 = counter()\n",
    "counter_2 = counter()\n",
    "counter_3 = counter(500)\n",
    "\n",
    "print(counter_1())\n",
    "print(counter_1())\n",
    "print(counter_1())\n",
    "print(counter_2())\n",
    "print(counter_2())\n",
    "print(counter_3())"
   ]
  },
  {
   "cell_type": "code",
   "execution_count": 57,
   "id": "626df5fb",
   "metadata": {},
   "outputs": [
    {
     "name": "stdout",
     "output_type": "stream",
     "text": [
      "defgh\n",
      "9855203082\n"
     ]
    }
   ],
   "source": [
    "# WELL EXAMPLE OF STRIPPER \n",
    "\n",
    "def stripper(strip_chars):\n",
    "    def clean(string):\n",
    "        return string.strip(strip_chars)\n",
    "    return clean\n",
    "\n",
    "st1 = stripper(\"abc\")\n",
    "st2 = stripper(\"+7\")\n",
    "\n",
    "print(st1('abcdefghabc'))\n",
    "print(st2('+79855203082'))"
   ]
  },
  {
   "cell_type": "code",
   "execution_count": 119,
   "id": "c172f331",
   "metadata": {},
   "outputs": [
    {
     "name": "stdout",
     "output_type": "stream",
     "text": [
      "i found the pattern: HAVE and it has a possition in string: {'start': 17, 'end': 21}\n",
      "i found the pattern: HAVE and it has a possition in string: {'start': 46, 'end': 50}\n",
      "i found the pattern: HAVE and it has a possition in string: {'start': 54, 'end': 58}\n",
      "i found the pattern: HAVE and it has a possition in string: {'start': 67, 'end': 71}\n",
      "  8           0 LOAD_GLOBAL              0 (len)\n",
      "              2 LOAD_FAST                0 (pattern)\n",
      "              4 CALL_FUNCTION            1\n",
      "              6 STORE_FAST               2 (p_l)\n",
      "\n",
      "  9           8 LOAD_GLOBAL              1 (range)\n",
      "             10 LOAD_GLOBAL              0 (len)\n",
      "             12 LOAD_GLOBAL              2 (input_str)\n",
      "             14 CALL_FUNCTION            1\n",
      "             16 CALL_FUNCTION            1\n",
      "             18 GET_ITER\n",
      "        >>   20 FOR_ITER                45 (to 112)\n",
      "             22 STORE_FAST               3 (i)\n",
      "\n",
      " 10          24 LOAD_GLOBAL              2 (input_str)\n",
      "             26 GET_ITER\n",
      "        >>   28 FOR_ITER                40 (to 110)\n",
      "             30 STORE_FAST               4 (one)\n",
      "\n",
      " 11          32 LOAD_FAST                4 (one)\n",
      "             34 LOAD_FAST                0 (pattern)\n",
      "             36 LOAD_CONST               1 (0)\n",
      "             38 BINARY_SUBSCR\n",
      "             40 COMPARE_OP               2 (==)\n",
      "             42 POP_JUMP_IF_FALSE       54 (to 108)\n",
      "\n",
      " 12          44 LOAD_GLOBAL              2 (input_str)\n",
      "             46 LOAD_FAST                3 (i)\n",
      "             48 LOAD_FAST                3 (i)\n",
      "             50 LOAD_FAST                2 (p_l)\n",
      "             52 BINARY_ADD\n",
      "             54 BUILD_SLICE              2\n",
      "             56 BINARY_SUBSCR\n",
      "             58 STORE_FAST               5 (in_to_string)\n",
      "\n",
      " 13          60 LOAD_FAST                0 (pattern)\n",
      "             62 LOAD_FAST                5 (in_to_string)\n",
      "             64 COMPARE_OP               2 (==)\n",
      "             66 POP_JUMP_IF_FALSE       54 (to 108)\n",
      "\n",
      " 14          68 LOAD_FAST                3 (i)\n",
      "             70 LOAD_FAST                3 (i)\n",
      "             72 LOAD_FAST                2 (p_l)\n",
      "             74 BINARY_ADD\n",
      "             76 LOAD_CONST               2 (('start', 'end'))\n",
      "             78 BUILD_CONST_KEY_MAP      2\n",
      "             80 STORE_FAST               6 (positions)\n",
      "\n",
      " 15          82 LOAD_GLOBAL              3 (print)\n",
      "             84 LOAD_CONST               3 ('i found the pattern: ')\n",
      "             86 LOAD_FAST                0 (pattern)\n",
      "             88 LOAD_METHOD              4 (upper)\n",
      "             90 CALL_METHOD              0\n",
      "             92 FORMAT_VALUE             0\n",
      "             94 LOAD_CONST               4 (' and it has a possition in string:')\n",
      "             96 BUILD_STRING             3\n",
      "             98 LOAD_FAST                6 (positions)\n",
      "            100 CALL_FUNCTION            2\n",
      "            102 POP_TOP\n",
      "\n",
      " 16         104 POP_TOP\n",
      "            106 JUMP_FORWARD             1 (to 110)\n",
      "        >>  108 JUMP_ABSOLUTE           14 (to 28)\n",
      "        >>  110 JUMP_ABSOLUTE           10 (to 20)\n",
      "\n",
      "  9     >>  112 LOAD_CONST               0 (None)\n",
      "            114 RETURN_VALUE\n"
     ]
    }
   ],
   "source": [
    "import dis\n",
    "# MY METHOD TO FIND PATTERN IN A STRING\n",
    "pattern = 'have'\n",
    "input_str = 'some string that have pattern inside. When it have it have and you have to be satisfied !'\n",
    "\n",
    "\n",
    "def pattern_finder(pattern,input_string):\n",
    "    p_l = len(pattern)\n",
    "    for i in range(len(input_str)):\n",
    "        for one in input_str:\n",
    "            if one == pattern[0]:\n",
    "                in_to_string = input_str[i:i + p_l]\n",
    "                if pattern == in_to_string:\n",
    "                    positions = {'start':i,'end':(i + p_l)}\n",
    "                    print(f\"i found the pattern: {pattern.upper()} and it has a possition in string:\",positions)\n",
    "                    break\n",
    "                \n",
    "            \n",
    "\n",
    "\n",
    "\n",
    "pattern_finder(pattern,input_str)\n",
    "dis.dis(pattern_finder)"
   ]
  }
 ],
 "metadata": {
  "kernelspec": {
   "display_name": "Python 3 (ipykernel)",
   "language": "python",
   "name": "python3"
  },
  "language_info": {
   "codemirror_mode": {
    "name": "ipython",
    "version": 3
   },
   "file_extension": ".py",
   "mimetype": "text/x-python",
   "name": "python",
   "nbconvert_exporter": "python",
   "pygments_lexer": "ipython3",
   "version": "3.10.13"
  }
 },
 "nbformat": 4,
 "nbformat_minor": 5
}
