{
 "cells": [
  {
   "cell_type": "code",
   "execution_count": null,
   "id": "f07aaea8",
   "metadata": {},
   "outputs": [],
   "source": [
    "# Data Types\n",
    "\n",
    "\n",
    "# В JavaScript у нас есть примитивные типы и ссылочные типы. \n",
    "# Примитивные типы включают числа, строки, boolean, null, undefined. strings and numericals\n",
    "# И ссылочные типы включают объекты, массивы и функции. \n",
    "# Разница между этими типами заключается в том, что примитивные типы неизменяемы (immutable)\n",
    "# , а ссылочные типы изменяемы (mutable).\n",
    "\n",
    "Python Immutable:\n",
    "    int | str | float | bool | frozenset | tuple = ()| unicode | hash | set\n",
    "    \n",
    "Python Mutable : \n",
    "    dict | list"
   ]
  },
  {
   "cell_type": "code",
   "execution_count": 26,
   "id": "611961f3",
   "metadata": {},
   "outputs": [
    {
     "data": {
      "text/plain": [
       "tuple"
      ]
     },
     "execution_count": 26,
     "metadata": {},
     "output_type": "execute_result"
    }
   ],
   "source": [
    "s = (1,2,3,[-1,-2,-3])\n",
    "s[3][1] = 'xxx'\n",
    "type(s)"
   ]
  },
  {
   "cell_type": "code",
   "execution_count": 61,
   "id": "19aabcb2",
   "metadata": {},
   "outputs": [
    {
     "data": {
      "text/plain": [
       "(0, 0)"
      ]
     },
     "execution_count": 61,
     "metadata": {},
     "output_type": "execute_result"
    }
   ],
   "source": [
    "# METACLASSES - type\n",
    "\n",
    "# Как альтернатива классическому объявлению классов, можно обратится к прото объекту - type и в нем указать параметры.\n",
    "\n",
    "# One = type('MyClass',(),{'PARAM_ONE': 10,\"PARAM_TWO\":20})\n",
    "# s = One()\n",
    "# s.PARAM_ONE\n",
    "\n",
    "class Meta(type):\n",
    "    def __new__(cls,name,base_classes,atrs):\n",
    "        atrs.update({'PARAM_ONE':10,'PARAM_TWO':20})\n",
    "        return type.__new__(cls,name,base_classes,atrs)\n",
    "    \n",
    "class B(metaclass=Meta):\n",
    "    def get_params(self):\n",
    "        return (0,0)\n",
    "\n",
    "a = B()\n",
    "dir(a)\n",
    "a.get_params()"
   ]
  },
  {
   "cell_type": "code",
   "execution_count": 92,
   "id": "9c5484e4",
   "metadata": {},
   "outputs": [
    {
     "data": {
      "text/plain": [
       "True"
      ]
     },
     "execution_count": 92,
     "metadata": {},
     "output_type": "execute_result"
    }
   ],
   "source": [
    "class Meta(type):\n",
    "    def get_locals(self,*args,**kwargs):\n",
    "        for key, value in self.cls_atrs.items():\n",
    "            self.__dict__[key] = value\n",
    "            \n",
    "    def __init__(cls,name,bases,atrs):\n",
    "        cls.cls_atrs = atrs\n",
    "        cls.__init__ = Meta.get_locals\n",
    "        \n",
    "        \n",
    "        \n",
    "class MyClass(metaclass=Meta):\n",
    "    name = 'Ivan'\n",
    "    age = '44'\n",
    "    location = 'Moscow'\n",
    "    def xx():\n",
    "        return f\"This is callable\"\n",
    "    \n",
    "    \n",
    "s = MyClass()\n",
    "\n",
    "def jj():\n",
    "    return \"jj\"\n",
    "            \n",
    "\n",
    "callable(s.xx)"
   ]
  },
  {
   "cell_type": "code",
   "execution_count": 98,
   "id": "936244cc",
   "metadata": {},
   "outputs": [
    {
     "data": {
      "text/plain": [
       "7"
      ]
     },
     "execution_count": 98,
     "metadata": {},
     "output_type": "execute_result"
    }
   ],
   "source": [
    "import random\n",
    "\n",
    "class Randomiser:\n",
    "    def __init__(self,items):\n",
    "        self._items = list(items)\n",
    "        random.shuffle(self._items)\n",
    "    def pick(self):\n",
    "        try:\n",
    "            return self._items.pop()\n",
    "        except IndexError:\n",
    "            raise LookupError('Trying to pick from EMPTY')\n",
    "            \n",
    "        \n",
    "    def __call__(self):\n",
    "        return self.pick()\n",
    "    \n",
    "    \n",
    "g = Randomiser([1,2,3,4,5,6,7,8,9,0])    \n",
    "        \n",
    "        \n",
    "g()       \n",
    "g()"
   ]
  },
  {
   "cell_type": "code",
   "execution_count": 17,
   "id": "2a6845ad",
   "metadata": {},
   "outputs": [
    {
     "name": "stdout",
     "output_type": "stream",
     "text": [
      "Bybye vanya !\n",
      "Hello Andry !!!!\n"
     ]
    }
   ],
   "source": [
    "from functools import partial\n",
    "\n",
    "def say(a,b,e='!'):\n",
    "    print(a,b,e)\n",
    "    \n",
    "say('Bybye','vanya')    \n",
    "    \n",
    "new_say = partial(say,a='Hello',b='Andry') \n",
    "\n",
    "new_say(e='!!!!')"
   ]
  },
  {
   "cell_type": "code",
   "execution_count": 45,
   "id": "695da7f0",
   "metadata": {},
   "outputs": [
    {
     "data": {
      "text/plain": [
       "True"
      ]
     },
     "execution_count": 45,
     "metadata": {},
     "output_type": "execute_result"
    }
   ],
   "source": [
    "# A L L\n",
    "# Функция all() возвращает значение True ,\n",
    "# если все элементы в итерируемом объекте - истинны, в противном случае она возвращает значение False.\n",
    "\n",
    "lst1 = [1,1,1,1,1]\n",
    "\n",
    "all(lst1)"
   ]
  },
  {
   "cell_type": "code",
   "execution_count": 39,
   "id": "cbb6d91d",
   "metadata": {},
   "outputs": [
    {
     "data": {
      "text/plain": [
       "True"
      ]
     },
     "execution_count": 39,
     "metadata": {},
     "output_type": "execute_result"
    }
   ],
   "source": [
    "# A N Y\n",
    "# Функция any() возвращает True, если какой-либо (любой) элемент в итерируемом объекте является истинным True, \n",
    "# в противном случае any() возвращает значение False.\n",
    "\n",
    "lst2 = [0,0,0,0,1]\n",
    "any(lst2)"
   ]
  },
  {
   "cell_type": "code",
   "execution_count": 4,
   "id": "8fbddee3",
   "metadata": {},
   "outputs": [
    {
     "name": "stdout",
     "output_type": "stream",
     "text": [
      "Start point\n",
      "B point: PUSH C+Enter\n",
      "C point: after C+Enter\n"
     ]
    }
   ],
   "source": [
    "# B R E A K P O I N T - no works in jupyter\n",
    "# в джупайтер не пашет это... Но вызывает функцию останова для отладки.\n",
    "# https://docs-python.ru/tutorial/vstroennye-funktsii-interpretatora-python/funktsija-breakpoint/\n",
    "a = 'Start point'\n",
    "b ='B point: PUSH C+Enter'\n",
    "c = 'C point: after C+Enter'\n",
    "print(a)\n",
    "print(b)\n",
    "breakpoint()\n",
    "print(c)"
   ]
  },
  {
   "cell_type": "code",
   "execution_count": 59,
   "id": "a1188f9f",
   "metadata": {},
   "outputs": [
    {
     "name": "stdout",
     "output_type": "stream",
     "text": [
      "{    'age': '44',\n",
      "     'book': ['book1', 'book2', 'book3'],\n",
      "     'city': 'Moscow',\n",
      "     'location': 'Russia',\n",
      "     'name': ' vanya'}\n"
     ]
    }
   ],
   "source": [
    "# PRETTY PRINT\n",
    "from pprint import pprint\n",
    "\n",
    "d = {'name':' vanya','age':'44','location':'Russia','city':'Moscow','book':['book1','book2','book3']}\n",
    "\n",
    "\n",
    "pprint(d,width=100,indent=5,depth=None)\n",
    "\n"
   ]
  },
  {
   "cell_type": "code",
   "execution_count": 14,
   "id": "09ef9481",
   "metadata": {},
   "outputs": [
    {
     "ename": "InaccessibleDueToItsProtectionLevelException",
     "evalue": "Car.run() is inaccessible due to its protection level",
     "output_type": "error",
     "traceback": [
      "\u001b[0;31m---------------------------------------------------------------------------\u001b[0m",
      "\u001b[0;31mInaccessibleDueToItsProtectionLevelException\u001b[0mTraceback (most recent call last)",
      "Cell \u001b[0;32mIn[14], line 26\u001b[0m\n\u001b[1;32m     23\u001b[0m f\u001b[38;5;241m.\u001b[39m_check_gasoline() \u001b[38;5;66;03m# Its just conventional thing but works easily\u001b[39;00m\n\u001b[1;32m     25\u001b[0m \u001b[38;5;66;03m# f.start_engine() # will rise - InaccessibleDueToItsProtectionLevelException \u001b[39;00m\n\u001b[0;32m---> 26\u001b[0m \u001b[43mf\u001b[49m\u001b[38;5;241;43m.\u001b[39;49m\u001b[43mrun\u001b[49m\u001b[43m(\u001b[49m\u001b[43m)\u001b[49m \u001b[38;5;66;03m# the same exeption - InaccessibleDueToItsProtectionLevelException\u001b[39;00m\n",
      "File \u001b[0;32m/usr/local/lib/python3.10/site-packages/accessify/access.py:75\u001b[0m, in \u001b[0;36mprivate.<locals>.private_wrapper\u001b[0;34m(*args, **kwargs)\u001b[0m\n\u001b[1;32m     72\u001b[0m     method_caller_class \u001b[38;5;241m=\u001b[39m get_method_class_by_frame(frame\u001b[38;5;241m=\u001b[39mmethod_caller_frame)\n\u001b[1;32m     74\u001b[0m     \u001b[38;5;28;01mif\u001b[39;00m instance_class \u001b[38;5;129;01mis\u001b[39;00m \u001b[38;5;129;01mnot\u001b[39;00m method_caller_class:\n\u001b[0;32m---> 75\u001b[0m         \u001b[38;5;28;01mraise\u001b[39;00m InaccessibleDueToItsProtectionLevelException(\n\u001b[1;32m     76\u001b[0m             INACCESSIBLE_DUE_TO_ITS_PROTECTION_LEVEL_EXCEPTION_MESSAGE\u001b[38;5;241m.\u001b[39mformat(\n\u001b[1;32m     77\u001b[0m                 class_name\u001b[38;5;241m=\u001b[39minstance_class\u001b[38;5;241m.\u001b[39m\u001b[38;5;18m__name__\u001b[39m, class_method_name\u001b[38;5;241m=\u001b[39mmethod\u001b[38;5;241m.\u001b[39m\u001b[38;5;18m__name__\u001b[39m,\n\u001b[1;32m     78\u001b[0m             ),\n\u001b[1;32m     79\u001b[0m         )\n\u001b[1;32m     81\u001b[0m \u001b[38;5;28;01mif\u001b[39;00m func\u001b[38;5;241m.\u001b[39m\u001b[38;5;18m__class__\u001b[39m\u001b[38;5;241m.\u001b[39m\u001b[38;5;18m__name__\u001b[39m \u001b[38;5;241m==\u001b[39m ClassMemberTypes\u001b[38;5;241m.\u001b[39mCLASS_METHOD:\n\u001b[1;32m     82\u001b[0m     arguments \u001b[38;5;241m=\u001b[39m (instance_class, ) \u001b[38;5;241m+\u001b[39m \u001b[38;5;28mtuple\u001b[39m(arguments_without_instance)\n",
      "\u001b[0;31mInaccessibleDueToItsProtectionLevelException\u001b[0m: Car.run() is inaccessible due to its protection level"
     ]
    }
   ],
   "source": [
    "#https://pypi.org/project/accessify/\n",
    "from accessify import private,protected\n",
    "\n",
    "\n",
    "class Car:\n",
    "    \n",
    "    def __make_horn(self):\n",
    "        return 'Honk - Honk sounds'\n",
    "    \n",
    "    def _check_gasoline(self):\n",
    "        return '10 litres.'\n",
    "\n",
    "    @protected\n",
    "    def start_engine(self):\n",
    "        return 'Engine sound.'\n",
    "    @private\n",
    "    def run(self):\n",
    "        return self.start_engine()\n",
    "    \n",
    "    \n",
    "f = Car()    \n",
    "\n",
    "f._Car__make_horn() #THATS HOW WE CAN CALL PRIVATES AND PROTECTED\n",
    "f._check_gasoline() # Its just conventional thing but works easily\n",
    "\n",
    "# f.start_engine() # will rise - InaccessibleDueToItsProtectionLevelException \n",
    "f.run() # the same exeption - InaccessibleDueToItsProtectionLevelException\n"
   ]
  },
  {
   "cell_type": "code",
   "execution_count": 17,
   "id": "7eb39dff",
   "metadata": {},
   "outputs": [
    {
     "name": "stdout",
     "output_type": "stream",
     "text": [
      "a= 2\n",
      "b= inner side\n"
     ]
    }
   ],
   "source": [
    "# GLOBAL - global scope\n",
    "# NONLOCAL - One step upper scope\n",
    "a = 'global'\n",
    "b = 'super outer'\n",
    "\n",
    "def outer():\n",
    "    b = 'upper side'\n",
    "    def inner():\n",
    "        global a\n",
    "        a = 2\n",
    "        nonlocal b\n",
    "        b = 'inner side'\n",
    "        \n",
    "        \n",
    "    inner()\n",
    "    \n",
    "    print('a=',a)\n",
    "    print('b=',b)\n",
    "    \n",
    "\n",
    "outer()"
   ]
  },
  {
   "cell_type": "code",
   "execution_count": 3,
   "id": "3db518ec",
   "metadata": {},
   "outputs": [
    {
     "name": "stdout",
     "output_type": "stream",
     "text": [
      "[1, 2, 3, 4, 5, 6, 7, 8, 9]\n",
      "-1= -2= -3= -4= -5= -6= -7= -8= -9=\n"
     ]
    }
   ],
   "source": [
    "one = [x for x in range(1,10)]\n",
    "\n",
    "\n",
    "two = map(lambda f: str(f).join('-='),one)\n",
    "\n",
    "\n",
    "print(one)\n",
    "print(*list(two))"
   ]
  },
  {
   "cell_type": "code",
   "execution_count": 27,
   "id": "d4255033",
   "metadata": {},
   "outputs": [
    {
     "name": "stdout",
     "output_type": "stream",
     "text": [
      "a e\n"
     ]
    }
   ],
   "source": [
    "# F I L T E R\n",
    "seq = [i for i in 'abcdefgh']\n",
    "\n",
    "\n",
    "fit = filter(lambda f: (f in 'aeuo'),seq)\n",
    "print(*fit)"
   ]
  },
  {
   "cell_type": "code",
   "execution_count": 5,
   "id": "f2f5788f",
   "metadata": {},
   "outputs": [
    {
     "name": "stdout",
     "output_type": "stream",
     "text": [
      "('a', 0) ('b', 1) ('c', 2) ('d', 3) ('e', 4) ('f', 5) ('g', 6) ('h', 7) ('i', 8) ('j', 9) ('k', 10) ('l', 11) ('m', 12) ('n', 13) ('o', 14) ('p', 15) ('q', 16) ('r', 17) ('s', 18) ('t', 19) ('u', 20) ('v', 21) ('w', 22) ('x', 23) ('y', 24) ('z', 25)\n"
     ]
    }
   ],
   "source": [
    "# Z I P \n",
    "from string import ascii_letters as asclet, ascii_lowercase as asclow\n",
    "seq1 = [g for g in asclet]\n",
    "\n",
    "seq2 = [p for p in range(len(asclow))]\n",
    "\n",
    "res = zip(seq1,seq2)\n",
    "print(*res)\n"
   ]
  },
  {
   "cell_type": "code",
   "execution_count": 44,
   "id": "db2e04b3",
   "metadata": {},
   "outputs": [
    {
     "name": "stdout",
     "output_type": "stream",
     "text": [
      "('A', 'a') ('B', 'b') ('C', 'c') ('D', 'd') ('E', 'e') ('F', 'f') ('G', 'g') ('H', 'h') ('I', 'i') ('J', 'j') ('K', 'k') ('L', 'l') ('M', 'm') ('N', 'n') ('O', 'o') ('P', 'p') ('Q', 'q') ('R', 'r') ('S', 's') ('T', 't') ('U', 'u') ('V', 'v') ('W', 'w') ('X', 'x') ('Y', 'y') ('Z', 'z')\n"
     ]
    }
   ],
   "source": [
    "# ZIP - zipping two arrays into one zipped object\n",
    "from string import ascii_uppercase as ascupp, ascii_lowercase as asclow\n",
    "\n",
    "\n",
    "result = zip(ascupp,asclow)\n",
    "print(*result)"
   ]
  },
  {
   "cell_type": "code",
   "execution_count": 55,
   "id": "14ac42e1",
   "metadata": {},
   "outputs": [
    {
     "name": "stdout",
     "output_type": "stream",
     "text": [
      "(0, 'a', '!') (1, 'b', '\"') (2, 'c', '#') (3, 'd', '$') (4, 'e', '%') (5, 'f', '&') (6, 'g', \"'\") (7, 'h', '(') (8, 'i', ')') (9, 'j', '*') ('FILLED', 'k', '+') ('FILLED', 'l', ',') ('FILLED', 'm', '-') ('FILLED', 'n', '.') ('FILLED', 'o', '/') ('FILLED', 'p', ':') ('FILLED', 'q', ';') ('FILLED', 'r', '<') ('FILLED', 's', '=') ('FILLED', 't', '>') ('FILLED', 'u', '?') ('FILLED', 'v', '@') ('FILLED', 'w', '[') ('FILLED', 'x', '\\\\') ('FILLED', 'y', ']') ('FILLED', 'z', '^') ('FILLED', 'FILLED', '_') ('FILLED', 'FILLED', '`') ('FILLED', 'FILLED', '{') ('FILLED', 'FILLED', '|') ('FILLED', 'FILLED', '}') ('FILLED', 'FILLED', '~')\n"
     ]
    }
   ],
   "source": [
    "# Z I P    L O N G E S T - makes zipe object that substitutes value with - fillvalue='' param\n",
    "from itertools import zip_longest\n",
    "import string\n",
    "one = [ g for g in range(10)]\n",
    "\n",
    "two = string.ascii_lowercase\n",
    "\n",
    "three = string.punctuation\n",
    "\n",
    "res1 = zip_longest(one,two,three,fillvalue='FILLED')\n",
    "\n",
    "print(*res1)"
   ]
  },
  {
   "cell_type": "code",
   "execution_count": 4,
   "id": "6ee52241",
   "metadata": {},
   "outputs": [
    {
     "name": "stdout",
     "output_type": "stream",
     "text": [
      "NONE ARE INSIDE\n"
     ]
    },
    {
     "data": {
      "text/plain": [
       "NoneType"
      ]
     },
     "execution_count": 4,
     "metadata": {},
     "output_type": "execute_result"
    }
   ],
   "source": [
    "def create():\n",
    "    print('NONE ARE INSIDE')\n",
    "    \n",
    "s = create()\n",
    "\n",
    "type(s)\n",
    "\n",
    "# def ret(string):\n",
    "#     return string\n",
    "\n",
    "# ff = ret('Type String')\n",
    "\n",
    "# ff"
   ]
  },
  {
   "cell_type": "code",
   "execution_count": 93,
   "id": "b7d2b4ce",
   "metadata": {},
   "outputs": [
    {
     "name": "stdout",
     "output_type": "stream",
     "text": [
      "<function xx at 0x10ed628c0>\n",
      "[1]\n",
      "[1, 1]\n",
      "[1, 1, 1]\n",
      "[1, 1, 1, 1]\n",
      "[1]\n",
      "[1, 1, 1, 1, 1]\n"
     ]
    }
   ],
   "source": [
    "# BUG THAT YOU SHOULD TO KNOW\n",
    "def xx(a=[]):\n",
    "    a.append(1)\n",
    "    return a\n",
    "\n",
    "foo = xx\n",
    "\n",
    "\n",
    "print(foo)\n",
    "print(foo())\n",
    "print(foo())\n",
    "print(foo())\n",
    "print(foo())\n",
    "print(foo([]))\n",
    "print(foo())\n"
   ]
  },
  {
   "cell_type": "code",
   "execution_count": 6,
   "id": "ca9be5af",
   "metadata": {},
   "outputs": [
    {
     "data": {
      "text/plain": [
       "'wrd1=argument one and wrd2=second arg are together'"
      ]
     },
     "execution_count": 6,
     "metadata": {},
     "output_type": "execute_result"
    }
   ],
   "source": [
    "# S C O P E S    and   C L O S U R E S\n",
    "\n",
    "def outer(wrd1):\n",
    "    def inner(wrd2):        \n",
    "        return f\"wrd1={wrd1} and wrd2={wrd2} are together\"\n",
    "    \n",
    "    return inner\n",
    "\n",
    "\n",
    "foo = outer('argument one') # initialisation with argument for outer func\n",
    "\n",
    "\n",
    "foo('second arg') # calling with argument that passing to inner func"
   ]
  }
 ],
 "metadata": {
  "kernelspec": {
   "display_name": "Python 3 (ipykernel)",
   "language": "python",
   "name": "python3"
  },
  "language_info": {
   "codemirror_mode": {
    "name": "ipython",
    "version": 3
   },
   "file_extension": ".py",
   "mimetype": "text/x-python",
   "name": "python",
   "nbconvert_exporter": "python",
   "pygments_lexer": "ipython3",
   "version": "3.13.0a6"
  }
 },
 "nbformat": 4,
 "nbformat_minor": 5
}
