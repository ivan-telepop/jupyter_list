{
 "cells": [
  {
   "cell_type": "code",
   "execution_count": null,
   "id": "51981f21-8b9b-444a-a24a-2fc021509a93",
   "metadata": {},
   "outputs": [],
   "source": [
    "# Альтернатива известной библиотеке multiprocessing \n",
    "# https://pypi.org/project/multiprocess/"
   ]
  }
 ],
 "metadata": {
  "kernelspec": {
   "display_name": "Python 3 (ipykernel)",
   "language": "python",
   "name": "python3"
  },
  "language_info": {
   "codemirror_mode": {
    "name": "ipython",
    "version": 3
   },
   "file_extension": ".py",
   "mimetype": "text/x-python",
   "name": "python",
   "nbconvert_exporter": "python",
   "pygments_lexer": "ipython3",
   "version": "3.13.0a6"
  }
 },
 "nbformat": 4,
 "nbformat_minor": 5
}
