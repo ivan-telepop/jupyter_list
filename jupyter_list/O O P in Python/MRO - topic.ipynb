{
 "cells": [
  {
   "cell_type": "code",
   "execution_count": 29,
   "id": "84270ec2-8181-4c3a-8340-5124ab6ab1f4",
   "metadata": {},
   "outputs": [
    {
     "data": {
      "text/plain": [
       "(__main__.D, __main__.B, __main__.C, __main__.A, object)"
      ]
     },
     "execution_count": 29,
     "metadata": {},
     "output_type": "execute_result"
    }
   ],
   "source": [
    "# Method Resolution Order\n",
    "# Old Style - DLR (depth first - left to right)\n",
    "# Ne style C3 Linerization\n",
    "\n",
    "class A:\n",
    "    def rk(self):\n",
    "        print('A class >>')\n",
    "class B(A):\n",
    "    def rk(self):\n",
    "        print('B class >>')\n",
    "class C(A):\n",
    "    def rk(self):\n",
    "        print('C class')\n",
    "\n",
    "# classes ordering\n",
    "class D(B, C):\n",
    "    def rk(self):\n",
    "        super(C,self).rk()\n",
    "\n",
    "\n",
    "d = D()\n",
    "\n",
    "D.__mro__"
   ]
  }
 ],
 "metadata": {
  "kernelspec": {
   "display_name": "Python 3 (ipykernel)",
   "language": "python",
   "name": "python3"
  },
  "language_info": {
   "codemirror_mode": {
    "name": "ipython",
    "version": 3
   },
   "file_extension": ".py",
   "mimetype": "text/x-python",
   "name": "python",
   "nbconvert_exporter": "python",
   "pygments_lexer": "ipython3",
   "version": "3.13.0a6"
  }
 },
 "nbformat": 4,
 "nbformat_minor": 5
}
