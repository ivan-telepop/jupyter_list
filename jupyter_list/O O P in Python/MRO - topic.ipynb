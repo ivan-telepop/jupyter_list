{
 "cells": [
  {
   "cell_type": "code",
   "execution_count": 29,
   "id": "84270ec2-8181-4c3a-8340-5124ab6ab1f4",
   "metadata": {},
   "outputs": [
    {
     "data": {
      "text/plain": [
       "(__main__.D, __main__.B, __main__.C, __main__.A, object)"
      ]
     },
     "execution_count": 29,
     "metadata": {},
     "output_type": "execute_result"
    }
   ],
   "source": [
    "# Method Resolution Order\n",
    "# Old Style - DLR (depth first - left to right)\n",
    "# Ne style C3 Linerization\n",
    "\n",
    "class A:\n",
    "    def rk(self):\n",
    "        print('A class >>')\n",
    "class B(A):\n",
    "    def rk(self):\n",
    "        print('B class >>')\n",
    "class C(A):\n",
    "    def rk(self):\n",
    "        print('C class')\n",
    "\n",
    "# classes ordering\n",
    "class D(B, C):\n",
    "    def rk(self):\n",
    "        super(C,self).rk()\n",
    "\n",
    "\n",
    "d = D()\n",
    "\n",
    "D.__mro__"
   ]
  },
  {
   "cell_type": "code",
   "execution_count": 1,
   "id": "448bb753-bbf1-47b0-a1cc-42143ce9f79c",
   "metadata": {},
   "outputs": [
    {
     "data": {
      "text/plain": [
       "800"
      ]
     },
     "execution_count": 1,
     "metadata": {},
     "output_type": "execute_result"
    }
   ],
   "source": [
    "class FirstOne:\n",
    "    def __init__(self,token,parse):\n",
    "        self.token = token\n",
    "        self.parse = parse\n",
    "    def __setattr__(self,key,value):\n",
    "        self.__dict__[key] = value\n",
    "        \n",
    "class Foo:\n",
    "    def __init__(self):\n",
    "        super().__init__()\n",
    "\n",
    "        \n",
    "\n",
    "\n",
    "# xx.hola\n",
    "foo = Foo()\n",
    "\n",
    "foo.__dict__ = {'one': 1, 'two':2}\n",
    "\n",
    "\n",
    "foo.__setattr__('poo',800)\n",
    "foo.__dict__\n",
    "foo.poo"
   ]
  },
  {
   "cell_type": "code",
   "execution_count": 50,
   "id": "387504dd-0772-49c8-8a4f-3dd5e5235453",
   "metadata": {},
   "outputs": [
    {
     "data": {
      "text/plain": [
       "{'a': 'ALOHA', 'b': 'BOOM'}"
      ]
     },
     "execution_count": 50,
     "metadata": {},
     "output_type": "execute_result"
    }
   ],
   "source": [
    "# classic attrs inheritance\n",
    "\n",
    "class Parent:\n",
    "    def __init__(self,a,b):\n",
    "        self.a = a\n",
    "        self.b = b\n",
    "\n",
    "\n",
    "class Child(Parent):\n",
    "    def __init__(self,a,b):\n",
    "        super().__init__(a,b)\n",
    "\n",
    "\n",
    "\n",
    "ch = Child(\"ALOHA\",\"BOOM\")\n",
    "\n",
    "\n",
    "\n",
    "ch.__dict__"
   ]
  },
  {
   "cell_type": "code",
   "execution_count": 6,
   "id": "5d01eb7f-dead-46af-9ef2-a15f10c525e0",
   "metadata": {},
   "outputs": [
    {
     "data": {
      "text/plain": [
       "'email'"
      ]
     },
     "execution_count": 6,
     "metadata": {},
     "output_type": "execute_result"
    }
   ],
   "source": []
  }
 ],
 "metadata": {
  "kernelspec": {
   "display_name": "Python 3 (ipykernel)",
   "language": "python",
   "name": "python3"
  },
  "language_info": {
   "codemirror_mode": {
    "name": "ipython",
    "version": 3
   },
   "file_extension": ".py",
   "mimetype": "text/x-python",
   "name": "python",
   "nbconvert_exporter": "python",
   "pygments_lexer": "ipython3",
   "version": "3.9.6"
  }
 },
 "nbformat": 4,
 "nbformat_minor": 5
}
