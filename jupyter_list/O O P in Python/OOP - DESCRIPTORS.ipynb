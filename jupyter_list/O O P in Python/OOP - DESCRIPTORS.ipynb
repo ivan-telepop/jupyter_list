{
 "cells": [
  {
   "cell_type": "code",
   "execution_count": null,
   "id": "7db5c8eb",
   "metadata": {},
   "outputs": [],
   "source": [
    "# REPEATING - GETTER/SETTER/PROPERTY\n",
    "class MyClass:\n",
    "    def __init__(self, aaa, bbb):\n",
    "        self.aaa = aaa\n",
    "        self.bbb = bbb\n",
    "    @property\n",
    "    def aaa(self):\n",
    "        print('property')\n",
    "        return self.__aaa\n",
    "    @aaa.setter\n",
    "    def aaa(self,aaa):\n",
    "        print('setter')\n",
    "        self.__aaa = aaa\n",
    "    @aaa.deleter\n",
    "    def aaa(self):\n",
    "        print('deleter')\n",
    "        del self.__aaa\n",
    "\n",
    "    \n",
    "dd = MyClass(1,2)\n",
    "dd.a = 456\n",
    "dd.h = 888\n",
    "del dd.aaa\n",
    "\n",
    "dd.aaa = 555\n"
   ]
  },
  {
   "cell_type": "code",
   "execution_count": 9,
   "id": "b4a5118e-0574-4c70-8c45-f27a02161037",
   "metadata": {},
   "outputs": [
    {
     "data": {
      "text/plain": [
       "10"
      ]
     },
     "execution_count": 9,
     "metadata": {},
     "output_type": "execute_result"
    }
   ],
   "source": [
    "class C:\n",
    "    def __init__(self):\n",
    "        self._x = None\n",
    "\n",
    "    @property\n",
    "    def x(self): # В декораторах 'setter' и 'deleter' нужно указывать имя метода-свойства\n",
    "        \"\"\"I'm the 'x' property.\"\"\"\n",
    "        return self._x\n",
    "\n",
    "    @x.setter\n",
    "    def x(self, value):\n",
    "        self._x = value\n",
    "\n",
    "    @x.deleter\n",
    "    def x(self):\n",
    "        del self._x\n",
    "\n",
    "\n",
    "c = C()\n",
    "\n",
    "c.x = 10\n",
    "\n",
    "c._x\n",
    "\n",
    "\n",
    "# c.__dict__\n",
    "# del c.x\n",
    "\n",
    "# c.__dict__"
   ]
  },
  {
   "cell_type": "code",
   "execution_count": 3,
   "id": "54f2affb",
   "metadata": {},
   "outputs": [
    {
     "name": "stdout",
     "output_type": "stream",
     "text": [
      "__set__ worked here\n",
      "setter >>\n",
      "__get__ worked here\n"
     ]
    },
    {
     "data": {
      "text/plain": [
       "123"
      ]
     },
     "execution_count": 3,
     "metadata": {},
     "output_type": "execute_result"
    }
   ],
   "source": [
    "# D E S C R I P T O R \n",
    "class One:\n",
    "    def __get__(self,obj,*args):\n",
    "        print('__get__ worked here')\n",
    "        return obj.__dict__['_b']\n",
    "    \n",
    "    def __set__(self,obj,value):\n",
    "        print('__set__ worked here')\n",
    "        if not isinstance(value,int):\n",
    "            raise ValueError\n",
    "        obj.__dict__['_b'] = value\n",
    "\n",
    "    \n",
    "class Two:\n",
    "    a = 1\n",
    "    b = One()\n",
    "    def __init__(self,a,b):\n",
    "        self.a = a\n",
    "        self.b = b\n",
    "    @property\n",
    "    def c(self):\n",
    "        print('property >>')\n",
    "        return self._c\n",
    "    @c.setter\n",
    "    def c(self, value):\n",
    "        print('setter >>')\n",
    "        self._c = value\n",
    "        \n",
    "    def __init__(self):\n",
    "        self.b = 100\n",
    "        self.c = 200\n",
    "    \n",
    "ff = Two()\n",
    "ff.a = 300\n",
    "ff.b\n",
    "aa = One()\n",
    "aa.a = 123\n",
    "aa.a"
   ]
  },
  {
   "cell_type": "code",
   "execution_count": 12,
   "id": "b0dc03f2",
   "metadata": {},
   "outputs": [
    {
     "data": {
      "text/plain": [
       "{'_modif': 'metal', '_color': 'green', '_power': 'disel', 'lights': 'xnenon'}"
      ]
     },
     "execution_count": 12,
     "metadata": {},
     "output_type": "execute_result"
    }
   ],
   "source": []
  }
 ],
 "metadata": {
  "kernelspec": {
   "display_name": "Python 3 (ipykernel)",
   "language": "python",
   "name": "python3"
  },
  "language_info": {
   "codemirror_mode": {
    "name": "ipython",
    "version": 3
   },
   "file_extension": ".py",
   "mimetype": "text/x-python",
   "name": "python",
   "nbconvert_exporter": "python",
   "pygments_lexer": "ipython3",
   "version": "3.13.0a6"
  }
 },
 "nbformat": 4,
 "nbformat_minor": 5
}
