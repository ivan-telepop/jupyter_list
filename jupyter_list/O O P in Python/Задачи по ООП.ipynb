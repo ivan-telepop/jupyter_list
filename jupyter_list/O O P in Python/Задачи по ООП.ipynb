{
 "cells": [
  {
   "cell_type": "code",
   "execution_count": 1,
   "id": "c2943d6a-4e0e-4fa7-831c-4f70bd37a2ec",
   "metadata": {},
   "outputs": [],
   "source": [
    "# Создайте класс `Book`, который будет представлять книгу.\n",
    "\n",
    "# **Задачи:**\n",
    "\n",
    "# - У класса должны быть свойства: `title` (название), `author` (автор), `pages` (количество страниц), и `current_page` (текущая страница).\n",
    "# - Добавьте метод `read(pages)`, который увеличивает текущую страницу на указанное количество (не превышая общее количество страниц).\n",
    "# - Добавьте метод `bookmark()`, который возвращает текущую страницу.\n",
    "# - Добавьте метод `reset()`, который сбрасывает текущую страницу до 1.\n"
   ]
  },
  {
   "cell_type": "code",
   "execution_count": 20,
   "id": "be0197d9-9c3d-42d2-acd3-598166b37283",
   "metadata": {},
   "outputs": [
    {
     "data": {
      "text/plain": [
       "3"
      ]
     },
     "execution_count": 20,
     "metadata": {},
     "output_type": "execute_result"
    }
   ],
   "source": [
    "class Book:\n",
    "    def __init__(self,title,author,pages,current_page):\n",
    "        self.title = title\n",
    "        self.author = author\n",
    "        self.pages = pages\n",
    "        self.current_page = current_page\n",
    "    def read(self,pages):\n",
    "        while self.current_page <= self.pages:\n",
    "            self.current_page += pages\n",
    "            return self.current_page\n",
    "    def bookmark(self):\n",
    "        return self.current_page\n",
    "    def reset(self):\n",
    "        self.current_page = 0\n",
    "        return self.current_page\n",
    "        \n",
    "\n",
    "book = Book('1984','Gorge Orwell', 367,0)\n",
    "\n",
    "\n",
    "book.read(3)\n",
    "book.current_page\n"
   ]
  }
 ],
 "metadata": {
  "kernelspec": {
   "display_name": "Python 3 (ipykernel)",
   "language": "python",
   "name": "python3"
  },
  "language_info": {
   "codemirror_mode": {
    "name": "ipython",
    "version": 3
   },
   "file_extension": ".py",
   "mimetype": "text/x-python",
   "name": "python",
   "nbconvert_exporter": "python",
   "pygments_lexer": "ipython3",
   "version": "3.9.6"
  }
 },
 "nbformat": 4,
 "nbformat_minor": 5
}
