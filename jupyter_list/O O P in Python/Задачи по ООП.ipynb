{
 "cells": [
  {
   "cell_type": "code",
   "execution_count": 1,
   "id": "c2943d6a-4e0e-4fa7-831c-4f70bd37a2ec",
   "metadata": {},
   "outputs": [],
   "source": [
    "# Сделать драфт класса интерфеса БД который будет КРУД в БД\n",
    "# Асинк для ФастАпи, позже попробую его в деле\n",
    "# Обязательно чтоб отвечал требованиям СОЛИД \n",
    "\n",
    "\n",
    "https://github.com/fastapi-practices/sqlalchemy-crud-plus/blob/master/sqlalchemy_crud_plus/crud.py\n",
    "\n",
    "\n",
    "Теория такая !\n",
    "Согласно паттернам проектирования, лучше создать класс расширяя его интерфейс через наследование.\n",
    "То есть, базовый класс, и наследоваться другими классами каждый раз расширяя АПИ.\n",
    "\n",
    "\n",
    "вопросы\n",
    "какой паттерн\n"
   ]
  }
 ],
 "metadata": {
  "kernelspec": {
   "display_name": "Python 3 (ipykernel)",
   "language": "python",
   "name": "python3"
  },
  "language_info": {
   "codemirror_mode": {
    "name": "ipython",
    "version": 3
   },
   "file_extension": ".py",
   "mimetype": "text/x-python",
   "name": "python",
   "nbconvert_exporter": "python",
   "pygments_lexer": "ipython3",
   "version": "3.13.0a6"
  }
 },
 "nbformat": 4,
 "nbformat_minor": 5
}
