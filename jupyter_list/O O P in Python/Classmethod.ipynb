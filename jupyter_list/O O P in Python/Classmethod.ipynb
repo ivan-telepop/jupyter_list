{
 "cells": [
  {
   "cell_type": "code",
   "execution_count": 9,
   "id": "2aa47303-a9ec-41e7-84f7-acba1dcfc5c1",
   "metadata": {},
   "outputs": [
    {
     "data": {
      "text/plain": [
       "'abc staticmethod'"
      ]
     },
     "execution_count": 9,
     "metadata": {},
     "output_type": "execute_result"
    }
   ],
   "source": [
    "\n",
    "class A:\n",
    "    @classmethod\n",
    "    def foo(cls):\n",
    "        return cls\n",
    "    def bar(self):\n",
    "        return self\n",
    "    @staticmethod\n",
    "    # Just a method which is in the namespace of class A\n",
    "    def abc():\n",
    "        return \"abc staticmethod\"\n",
    "        \n",
    "\n",
    "\n",
    "b = A()\n",
    "\n",
    "\n",
    "b.foo()\n",
    "\n",
    "dir(b)\n",
    "\n",
    "A.abc()"
   ]
  }
 ],
 "metadata": {
  "kernelspec": {
   "display_name": "Python 3 (ipykernel)",
   "language": "python",
   "name": "python3"
  },
  "language_info": {
   "codemirror_mode": {
    "name": "ipython",
    "version": 3
   },
   "file_extension": ".py",
   "mimetype": "text/x-python",
   "name": "python",
   "nbconvert_exporter": "python",
   "pygments_lexer": "ipython3",
   "version": "3.9.6"
  }
 },
 "nbformat": 4,
 "nbformat_minor": 5
}
