{
 "cells": [
  {
   "cell_type": "code",
   "execution_count": null,
   "id": "a4b06c1c-5aa1-4c88-af06-e141a0ac80f7",
   "metadata": {},
   "outputs": [],
   "source": []
  },
  {
   "cell_type": "code",
   "execution_count": null,
   "id": "5cdb1ed0",
   "metadata": {},
   "outputs": [],
   "source": [
    "# OOP quizes Повторение материала\n",
    "\n",
    "\n",
    "class One:\n",
    "    def __init__(self,a,b):\n",
    "        self.a = a\n",
    "        self.b = b\n",
    "    def del_a(self):\n",
    "        print('deleted')\n",
    "        del self.a\n",
    "    def __setattr__(self,key,value):\n",
    "        print('setter is worked')\n",
    "    def __getattr__(self,value):\n",
    "        print('__getattr__'+value)\n",
    "\n",
    "        \n",
    "one = One('a','b')\n",
    "two = One(a='dd',b='ff')\n",
    "two.b"
   ]
  },
  {
   "cell_type": "code",
   "execution_count": 36,
   "id": "6bd7ef06",
   "metadata": {},
   "outputs": [
    {
     "name": "stdout",
     "output_type": "stream",
     "text": [
      "I can work as an Callback !\n"
     ]
    }
   ],
   "source": [
    "# method CALL определенный в классе делает его калбэчным\n",
    "\n",
    "class Car(object):\n",
    "    def __init__(self,a,b):\n",
    "        self.a = a\n",
    "        self.b = b\n",
    "    def __call__(self):\n",
    "        print(\"I can work as an Callback !\")\n",
    "        \n",
    "car = Car(1,2)\n",
    "car()\n"
   ]
  },
  {
   "cell_type": "code",
   "execution_count": 80,
   "id": "0f3c77d8",
   "metadata": {},
   "outputs": [
    {
     "name": "stdout",
     "output_type": "stream",
     "text": [
      "{'name': 'empty', 'age': 0}\n"
     ]
    },
    {
     "data": {
      "text/plain": [
       "(__main__.Driver, __main__.Auto, object)"
      ]
     },
     "execution_count": 80,
     "metadata": {},
     "output_type": "execute_result"
    }
   ],
   "source": [
    "# STATICMETHOD and   CLASSMETHOD\n",
    "\n",
    "class Auto:\n",
    "    pass\n",
    "\n",
    "class Driver(Auto):\n",
    "    # C L A S S M E T H O D - Метод класса, имеет доступ к атрибутам через параметр CLS\n",
    "    @classmethod\n",
    "    def validator(cls,name,age):\n",
    "        if isinstance(name,str) and isinstance(age,int):\n",
    "            return name,age\n",
    "        else:\n",
    "            raise ValueError('Wrong params: name= should be string / and age= should be integer')\n",
    "                \n",
    "    def __init__(self,name='empty',age=0):\n",
    "        if self.validator(name,age):\n",
    "            self.name = name\n",
    "            self.age = age\n",
    "            \n",
    "    # S T A T I C -  не имеет доступа к атрибутам класса (как правило). Просто метод встроенный в класс !        \n",
    "            \n",
    "    @staticmethod\n",
    "    def showparam(x,y):\n",
    "        return f'Shown params: {x} and {y}'\n",
    "            \n",
    "            \n",
    "            \n",
    "            \n",
    "d = Driver()\n",
    "print(d.__dict__)\n",
    "d.showparam(1,2)\n",
    "Driver.__mro__\n",
    "\n",
    "\n"
   ]
  },
  {
   "cell_type": "code",
   "execution_count": null,
   "id": "ed62c879",
   "metadata": {},
   "outputs": [],
   "source": [
    "# D U N D E R    M E T H O D S\n",
    "# __eq__() – для равенства ==\n",
    "# __ne__() – для неравенства !=\n",
    "# __lt__() – для оператора меньше <\n",
    "# __le__() – для оператора меньше или равно <=\n",
    "# __gt__() – для оператора больше >\n",
    "# __ge__() – для оператора больше или равно >="
   ]
  },
  {
   "cell_type": "code",
   "execution_count": 28,
   "id": "8342ffa2",
   "metadata": {},
   "outputs": [
    {
     "data": {
      "text/plain": [
       "False"
      ]
     },
     "execution_count": 28,
     "metadata": {},
     "output_type": "execute_result"
    }
   ],
   "source": [
    "# __lt__(self, other) — определяет поведение оператора сравнения «меньше», <.\n",
    "\n",
    "# __le__(self, other) — определяет поведение оператора сравнения «меньше или равно», <=.\n",
    "\n",
    "# __eq__(self, other) — определяет поведение оператора «равенства», ==.\n",
    "\n",
    "# __ne__(self, other) — определяет поведение оператора «неравенства», !=.\n",
    "\n",
    "# __gt__(self, other) — определяет поведение оператора сравнения «больше», >.\n",
    "\n",
    "# __ge__(self, other) — определяет поведение оператора сравнения «больше или равно», >=.\n",
    "\n",
    "class Basic:\n",
    "    def __init__(self,one,two,data):\n",
    "        self.one = one\n",
    "        self.two = two\n",
    "        self.data = data\n",
    "        \n",
    "    def __len__(self):\n",
    "        return len(self.data)\n",
    "    \n",
    "    def __eq__(self,obj,one): # EQUALS\n",
    "        if obj is None or not isinstance(obj,Basic):\n",
    "            return False\n",
    "        return obj == self.one\n",
    "    \n",
    "\n",
    "    \n",
    "bb = Basic(one=1,two=2,data=[1,2,3])\n",
    "bb.__eq__(1,1)\n"
   ]
  },
  {
   "cell_type": "code",
   "execution_count": 11,
   "id": "7c4ba799",
   "metadata": {},
   "outputs": [
    {
     "name": "stdout",
     "output_type": "stream",
     "text": [
      "30\n"
     ]
    },
    {
     "data": {
      "text/plain": [
       "30"
      ]
     },
     "execution_count": 11,
     "metadata": {},
     "output_type": "execute_result"
    }
   ],
   "source": [
    "\n",
    "\n",
    "class Some:\n",
    "    first = 10\n",
    "    _second = 20\n",
    "    __third = 30\n",
    "    \n",
    "some = Some()\n",
    "print(some._Some__third)   \n",
    "some._second\n",
    "some._Some__third"
   ]
  },
  {
   "cell_type": "code",
   "execution_count": 28,
   "id": "6665be20",
   "metadata": {},
   "outputs": [
    {
     "name": "stdout",
     "output_type": "stream",
     "text": [
      "True\n"
     ]
    }
   ],
   "source": [
    "print(isinstance('hello',str))\n",
    "    "
   ]
  },
  {
   "cell_type": "code",
   "execution_count": 66,
   "id": "9725b1dc-dd72-4256-872d-0d3ed559f776",
   "metadata": {},
   "outputs": [
    {
     "ename": "TypeError",
     "evalue": "__init__() missing 1 required positional argument: 'arg'",
     "output_type": "error",
     "traceback": [
      "\u001b[0;31m---------------------------------------------------------------------------\u001b[0m",
      "\u001b[0;31mTypeError\u001b[0m                                 Traceback (most recent call last)",
      "Cell \u001b[0;32mIn[66], line 14\u001b[0m\n\u001b[1;32m      9\u001b[0m     \u001b[38;5;129m@property\u001b[39m\n\u001b[1;32m     10\u001b[0m     \u001b[38;5;28;01mdef\u001b[39;00m \u001b[38;5;21marg\u001b[39m(\u001b[38;5;28mself\u001b[39m):\n\u001b[1;32m     11\u001b[0m         \u001b[38;5;28;01mreturn\u001b[39;00m \u001b[38;5;124mf\u001b[39m\u001b[38;5;124m\"\u001b[39m\u001b[38;5;124mStatic returns :\u001b[39m\u001b[38;5;132;01m{\u001b[39;00m\u001b[38;5;28mself\u001b[39m\u001b[38;5;241m.\u001b[39marg\u001b[38;5;132;01m}\u001b[39;00m\u001b[38;5;124m\"\u001b[39m\n\u001b[0;32m---> 14\u001b[0m t \u001b[38;5;241m=\u001b[39m \u001b[43mMy\u001b[49m\u001b[43m(\u001b[49m\u001b[43m)\u001b[49m\n\u001b[1;32m     15\u001b[0m t\u001b[38;5;241m.\u001b[39mjoo()\n\u001b[1;32m     16\u001b[0m t\u001b[38;5;241m.\u001b[39mfoo()\n",
      "\u001b[0;31mTypeError\u001b[0m: __init__() missing 1 required positional argument: 'arg'"
     ]
    }
   ],
   "source": [
    "class My:\n",
    "    def __init__(self,arg):\n",
    "        self.arg = arg\n",
    "    @classmethod\n",
    "    def foo(cls):\n",
    "        print(f\"the object is:{cls}\")\n",
    "    def joo(self):\n",
    "        print(f\"This >> :  {self}\")\n",
    "    @property\n",
    "    def arg(self):\n",
    "        return f\"Static returns :{self.arg}\"\n",
    "\n",
    "\n",
    "t = My()\n",
    "t.joo()\n",
    "t.foo()\n",
    "t.loo"
   ]
  },
  {
   "cell_type": "code",
   "execution_count": null,
   "id": "72e833dc-d818-41f3-a4dc-83f42ddb4f21",
   "metadata": {},
   "outputs": [],
   "source": [
    "class Test:\n",
    "    val = None\n",
    "    def __init__(self):\n",
    "        "
   ]
  },
  {
   "cell_type": "code",
   "execution_count": 9,
   "id": "5d36f8fe-11af-4c21-9292-a6a89b2e1347",
   "metadata": {},
   "outputs": [
    {
     "data": {
      "text/plain": [
       "{'pwd': '123', 'context': 'context'}"
      ]
     },
     "execution_count": 9,
     "metadata": {},
     "output_type": "execute_result"
    }
   ],
   "source": [
    "\n",
    "def mockhash(pwd):\n",
    "    return str(pwd,'hashed')\n",
    "\n",
    "class HashingFabric:\n",
    "    def __init__(self):\n",
    "        self.pwd = None\n",
    "        self.context = None\n",
    "    # @classmethod\n",
    "    # def verify(cls,pwd,context):\n",
    "        \n",
    "    # @staticmethod\n",
    "    # def digest(pwd,context):\n",
    "    #     return mockhash(pwd)\n",
    "\n",
    "\n",
    "n = HashingFabric()\n",
    "\n",
    "\n",
    "n.__dict__\n",
    "\n",
    "tst = dict(pwd='123',context='context')\n",
    "\n",
    "\n",
    "n.__dict__ = tst\n",
    "\n",
    "n.__dict__"
   ]
  },
  {
   "cell_type": "code",
   "execution_count": 3,
   "id": "cf6dd6d1-bd72-4384-bab6-c168920be141",
   "metadata": {},
   "outputs": [
    {
     "ename": "TypeError",
     "evalue": "FirstOne.__init__() takes 3 positional arguments but 4 were given",
     "output_type": "error",
     "traceback": [
      "\u001b[0;31m---------------------------------------------------------------------------\u001b[0m",
      "\u001b[0;31mTypeError\u001b[0m                                 Traceback (most recent call last)",
      "Cell \u001b[0;32mIn[3], line 12\u001b[0m\n\u001b[1;32m      8\u001b[0m     \u001b[38;5;28;01mdef\u001b[39;00m \u001b[38;5;21m__init__\u001b[39m(\u001b[38;5;28mself\u001b[39m,token,parse):\n\u001b[1;32m      9\u001b[0m         \u001b[38;5;28msuper\u001b[39m()\u001b[38;5;241m.\u001b[39m\u001b[38;5;21m__init__\u001b[39m(\u001b[38;5;28mself\u001b[39m,token,parse)\n\u001b[0;32m---> 12\u001b[0m ff \u001b[38;5;241m=\u001b[39m \u001b[43mSecondOne\u001b[49m\u001b[43m(\u001b[49m\u001b[38;5;124;43m'\u001b[39;49m\u001b[38;5;124;43mTOKEN\u001b[39;49m\u001b[38;5;124;43m'\u001b[39;49m\u001b[43m,\u001b[49m\u001b[38;5;28;43;01mTrue\u001b[39;49;00m\u001b[43m)\u001b[49m\n",
      "Cell \u001b[0;32mIn[3], line 9\u001b[0m, in \u001b[0;36mSecondOne.__init__\u001b[0;34m(self, token, parse)\u001b[0m\n\u001b[1;32m      8\u001b[0m \u001b[38;5;28;01mdef\u001b[39;00m \u001b[38;5;21m__init__\u001b[39m(\u001b[38;5;28mself\u001b[39m,token,parse):\n\u001b[0;32m----> 9\u001b[0m     \u001b[38;5;28;43msuper\u001b[39;49m\u001b[43m(\u001b[49m\u001b[43m)\u001b[49m\u001b[38;5;241;43m.\u001b[39;49m\u001b[38;5;21;43m__init__\u001b[39;49m\u001b[43m(\u001b[49m\u001b[38;5;28;43mself\u001b[39;49m\u001b[43m,\u001b[49m\u001b[43mtoken\u001b[49m\u001b[43m,\u001b[49m\u001b[43mparse\u001b[49m\u001b[43m)\u001b[49m\n",
      "\u001b[0;31mTypeError\u001b[0m: FirstOne.__init__() takes 3 positional arguments but 4 were given"
     ]
    }
   ],
   "source": []
  }
 ],
 "metadata": {
  "kernelspec": {
   "display_name": "Python 3 (ipykernel)",
   "language": "python",
   "name": "python3"
  },
  "language_info": {
   "codemirror_mode": {
    "name": "ipython",
    "version": 3
   },
   "file_extension": ".py",
   "mimetype": "text/x-python",
   "name": "python",
   "nbconvert_exporter": "python",
   "pygments_lexer": "ipython3",
   "version": "3.9.6"
  }
 },
 "nbformat": 4,
 "nbformat_minor": 5
}
