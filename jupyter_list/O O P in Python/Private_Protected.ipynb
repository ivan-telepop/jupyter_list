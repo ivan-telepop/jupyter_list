{
 "cells": [
  {
   "cell_type": "code",
   "execution_count": 5,
   "id": "aaa94d8c-04ab-4326-a95b-0729e9411a40",
   "metadata": {},
   "outputs": [
    {
     "data": {
      "text/plain": [
       "'1'"
      ]
     },
     "execution_count": 5,
     "metadata": {},
     "output_type": "execute_result"
    }
   ],
   "source": [
    "# Приватные атрибуты, это конвенцианальная история (договор но не закон). \n",
    "# К ним доступ есть, просто глядим и знаем что если есть _one \n",
    "# нижнее подчеркивание, то метод приватный. Интерпритатор не считает эти методы особенными. \n",
    "\n",
    "class TestPrivate:\n",
    "    def __init__(self):\n",
    "        self._one = '1'\n",
    "        self._two = 2\n",
    "    # protected method with _underscore\n",
    "    def _get_one(self):\n",
    "        return self._one\n",
    "    def _get_two(self):\n",
    "        return self._two\n",
    "\n",
    "\n",
    "t = TestPrivate()\n",
    "\n",
    "dir(t)\n",
    "\n",
    "t._get_one()\n",
    "\n"
   ]
  },
  {
   "cell_type": "code",
   "execution_count": 26,
   "id": "7e5eb4b8-c57c-467c-8a52-523b55ce2f73",
   "metadata": {},
   "outputs": [
    {
     "name": "stdout",
     "output_type": "stream",
     "text": [
      "['_Protected__display_protect', '_Protected__init_', '_Protected__name', '_Protected__roll', '__class__', '__delattr__', '__dict__', '__dir__', '__doc__', '__eq__', '__format__', '__ge__', '__getattribute__', '__getstate__', '__gt__', '__hash__', '__init__', '__init_subclass__', '__le__', '__lt__', '__module__', '__ne__', '__new__', '__reduce__', '__reduce_ex__', '__repr__', '__setattr__', '__sizeof__', '__static_attributes__', '__str__', '__subclasshook__', '__weakref__']\n"
     ]
    },
    {
     "data": {
      "text/plain": [
       "('i do rolling', 'name 1')"
      ]
     },
     "execution_count": 26,
     "metadata": {},
     "output_type": "execute_result"
    }
   ],
   "source": [
    "# Protected методы всегда с двойными подчеркиваниями. По сути мы дандерами портим интерпритатору путь к атрибутам.\n",
    "# Но есть правила как добраться к таким атрибутам. Смотрим ниже !\n",
    "\n",
    "class Protected:\n",
    "    # it should be declared ! Other way it no works\n",
    "    __name = 'name 1'\n",
    "    __roll = 'i do rolling'\n",
    "    def __init_(self):\n",
    "        # PROTECTED with double underscores\n",
    "        self.__name = 'name'\n",
    "        self.__roll = 'roll'\n",
    "    def __display_protect(self):\n",
    "        return self.__roll, self.__name\n",
    "\n",
    "\n",
    "\n",
    "p = Protected()\n",
    "\n",
    "print(dir(p)) # We will see list of methods\n",
    "\n",
    "\n",
    "#  доступ к закрытым атрибутам такой! екземпляр._ИмяКласса__имяМетода()\n",
    "p._Protected__display_protect()        \n"
   ]
  },
  {
   "cell_type": "code",
   "execution_count": null,
   "id": "3092c23f-15bb-41b6-a078-1cfe2b18e4c2",
   "metadata": {},
   "outputs": [],
   "source": [
    "#https://pypi.org/project/accessify/\n",
    "from accessify import private,protected\n",
    "\n",
    "\n",
    "class Car:\n",
    "    \n",
    "    def __make_horn(self):\n",
    "        return 'Honk - Honk sounds'\n",
    "    \n",
    "    def _check_gasoline(self):\n",
    "        return '10 litres.'\n",
    "\n",
    "    @protected\n",
    "    def start_engine(self):\n",
    "        return 'Engine sound.'\n",
    "    @private\n",
    "    def run(self):\n",
    "        return self.start_engine()\n",
    "    \n",
    "    \n",
    "f = Car()    \n",
    "\n",
    "f._Car__make_horn() #THATS HOW WE CAN CALL PRIVATES AND PROTECTED\n",
    "f._check_gasoline() # Its just conventional thing but works easily\n",
    "\n",
    "# f.start_engine() # will rise - InaccessibleDueToItsProtectionLevelException \n",
    "f.run() # the same exeption - InaccessibleDueToItsProtectionLevelException"
   ]
  }
 ],
 "metadata": {
  "kernelspec": {
   "display_name": "Python 3 (ipykernel)",
   "language": "python",
   "name": "python3"
  },
  "language_info": {
   "codemirror_mode": {
    "name": "ipython",
    "version": 3
   },
   "file_extension": ".py",
   "mimetype": "text/x-python",
   "name": "python",
   "nbconvert_exporter": "python",
   "pygments_lexer": "ipython3",
   "version": "3.13.0a6"
  }
 },
 "nbformat": 4,
 "nbformat_minor": 5
}
