{
 "cells": [
  {
   "cell_type": "code",
   "execution_count": null,
   "id": "1f4050c6-e928-4e18-92f8-c03c80472e95",
   "metadata": {},
   "outputs": [],
   "source": [
    "# @classmethod - A class method is a method that is bound to the class and not the object of the class.\n",
    "They have the access to the state of the class as it takes a class parameter that points to the class and not the object instance.\n",
    "It can modify a class state that would apply across all the instances of the class. For example, \n",
    "it can modify a class variable that will be applicable to all the instances.\n",
    "\n",
    "\n",
    "\n"
   ]
  },
  {
   "cell_type": "code",
   "execution_count": null,
   "id": "05aab2e5-3906-4e3d-acb2-db19a4b12981",
   "metadata": {},
   "outputs": [],
   "source": [
    "# @staticmethod - A static method does not receive an implicit first argument. \n",
    "A static method is also a method that is bound to the class and not the object of the class. \n",
    "This method can’t access or modify the class state. It is present in a class because it makes sense \n",
    "for the method to be present in class."
   ]
  },
  {
   "cell_type": "code",
   "execution_count": 1,
   "id": "f41f2ca4-4883-42be-8bf0-3e42c5a8056b",
   "metadata": {},
   "outputs": [
    {
     "data": {
      "text/plain": [
       "'nothing'"
      ]
     },
     "execution_count": 1,
     "metadata": {},
     "output_type": "execute_result"
    }
   ],
   "source": [
    "from datetime import date\n",
    "\n",
    "\n",
    "class Person:\n",
    "    par = 555\n",
    "    def __init__(self):\n",
    "        self.value = 'nothing'\n",
    "        \n",
    "    def get_value(self):\n",
    "        return self.value\n",
    "        \n",
    "    @staticmethod\n",
    "    def explain_static(a,b):\n",
    "        return f\"Explain what is {a} and what is {b}\"\n",
    "        \n",
    "    @classmethod\n",
    "    def class_explain(cls,value):\n",
    "        td = (date.today().year - value)\n",
    "        print(td)\n",
    "        return cls(td)\n",
    "    def get_par(self):\n",
    "        return self.par\n",
    "    @property\n",
    "    def val(self):\n",
    "        return self.value\n",
    "    @val.setter\n",
    "    def val(self, v):\n",
    "        self.value = v\n",
    "\n",
    "    @val.deleter\n",
    "    def val(self):\n",
    "        del self.value\n",
    "        \n",
    "\n",
    "# print(tip.get_value) # <bound method Person.get_value of <__main__.Person object at 0x1066bf2b0>>\n",
    "# print(tip.explain_static) # <function Person.explain at 0x1068ceca0>\n",
    "# print(tip.class_explain) #  <bound method Person.birth_year of <class '__main__.Person'>>\n",
    "\n",
    "\n",
    "pip = Person()\n",
    "\n",
    "pip.explain_static('how','now')\n",
    "\n",
    "pip.val"
   ]
  },
  {
   "cell_type": "code",
   "execution_count": null,
   "id": "c9e47ed2-0a94-46e4-8340-cabdfe8255de",
   "metadata": {},
   "outputs": [],
   "source": []
  }
 ],
 "metadata": {
  "kernelspec": {
   "display_name": "Python 3 (ipykernel)",
   "language": "python",
   "name": "python3"
  },
  "language_info": {
   "codemirror_mode": {
    "name": "ipython",
    "version": 3
   },
   "file_extension": ".py",
   "mimetype": "text/x-python",
   "name": "python",
   "nbconvert_exporter": "python",
   "pygments_lexer": "ipython3",
   "version": "3.13.0a6"
  }
 },
 "nbformat": 4,
 "nbformat_minor": 5
}
