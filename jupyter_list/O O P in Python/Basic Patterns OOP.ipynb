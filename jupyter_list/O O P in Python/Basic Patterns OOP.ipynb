{
 "cells": [
  {
   "cell_type": "markdown",
   "id": "45220bb7",
   "metadata": {},
   "source": [
    "# Basis patterns \n",
    "Singletone - Decorator - Itterator ....\n",
    "Another one - Concurrency \n",
    "#https://ru.wikipedia.org/wiki/%D0%A8%D0%B0%D0%B1%D0%BB%D0%BE%D0%BD_%D0%BF%D1%80%D0%BE%D0%B5%D0%BA%D1%82%D0%B8%D1%80%D0%BE%D0%B2%D0%B0%D0%BD%D0%B8%D1%8F"
   ]
  },
  {
   "cell_type": "code",
   "execution_count": 59,
   "id": "c4611c10",
   "metadata": {},
   "outputs": [
    {
     "name": "stdout",
     "output_type": "stream",
     "text": [
      "<class 'NoneType'>\n",
      "<class 'NoneType'>\n",
      "True\n",
      "[<class '__main__.Singleton'>, <class 'object'>]\n"
     ]
    }
   ],
   "source": [
    "# SINGLETONE\n",
    "class Singleton:\n",
    "    instance = None\n",
    "    def __new__(cls):\n",
    "        if Singleton.instance is None:\n",
    "            Singleton.instance = object.__init_subclass__() #or  = object.__new__(cls) or super().__new__(cls)\n",
    "            print(type(Singleton.instance))\n",
    "        return Singleton.instance\n",
    "    \n",
    "ff = Singleton()   \n",
    "qq = Singleton()\n",
    "print(ff is qq)\n",
    "print(Singleton.mro())"
   ]
  },
  {
   "cell_type": "code",
   "execution_count": 69,
   "id": "0f2e2831",
   "metadata": {},
   "outputs": [
    {
     "data": {
      "text/plain": [
       "True"
      ]
     },
     "execution_count": 69,
     "metadata": {},
     "output_type": "execute_result"
    }
   ],
   "source": [
    "# gg = int.__new__(int)\n",
    "# doc = dir(gg.__doc__)\n",
    "# doc.__doc__\n",
    "\n",
    "# hh = object()\n",
    "# print(dir(hh))\n",
    "# hh.__doc__\n",
    "\n",
    "\n",
    "wrd = 'palindrome'\n",
    "wrd[::-1]\n",
    "\n",
    "pldr = lambda res: res == res[::-1]\n",
    "pldr('arora')"
   ]
  },
  {
   "cell_type": "code",
   "execution_count": 73,
   "id": "a39e3424",
   "metadata": {},
   "outputs": [
    {
     "ename": "SyntaxError",
     "evalue": "invalid syntax (2592228733.py, line 1)",
     "output_type": "error",
     "traceback": [
      "\u001b[0;36m  Cell \u001b[0;32mIn[73], line 1\u001b[0;36m\u001b[0m\n\u001b[0;31m    jj =\u001b[0m\n\u001b[0m         ^\u001b[0m\n\u001b[0;31mSyntaxError\u001b[0m\u001b[0;31m:\u001b[0m invalid syntax\n"
     ]
    }
   ],
   "source": []
  },
  {
   "cell_type": "markdown",
   "id": "585471e2",
   "metadata": {},
   "source": [
    "# SILNGLETONE"
   ]
  },
  {
   "cell_type": "code",
   "execution_count": 12,
   "id": "70ec16c0",
   "metadata": {},
   "outputs": [
    {
     "name": "stdout",
     "output_type": "stream",
     "text": [
      "False\n"
     ]
    }
   ],
   "source": [
    "# ONLY ONE INSTANCE\n",
    "# Simpliest - naive\n",
    "class Connection:\n",
    "    def __init__(self,a='first',b=\"second\"):\n",
    "        self.a = a\n",
    "        self.b = b\n",
    "    @staticmethod\n",
    "    def get_instance():\n",
    "        if '_instance' not in Connection.__dict__:\n",
    "            Connection._instance = Connection()\n",
    "        return Connection._instance\n",
    "\n",
    "\n",
    "con1 = Connection()\n",
    "con2 = Connection()\n",
    "\n",
    "\n",
    "print( con1 == con2)"
   ]
  },
  {
   "cell_type": "code",
   "execution_count": 11,
   "id": "9408cc66",
   "metadata": {},
   "outputs": [
    {
     "name": "stdout",
     "output_type": "stream",
     "text": [
      "4373842432 ===== 4373842432\n"
     ]
    }
   ],
   "source": [
    "# Little bit complicated S I N G L E T O N\n",
    "\n",
    "class SingletonBaseClass(type):\n",
    "    _instances = {}\n",
    "\n",
    "    def __call__(cls, *args, **kwargs):\n",
    "        if cls not in cls._instances:\n",
    "            cls._instances[cls] = super(SingletonBaseClass, cls).__call__(*args, **kwargs)\n",
    "        return cls._instances[cls]\n",
    "\n",
    "\n",
    "class MySingleton(metaclass=SingletonBaseClass):\n",
    "    def __init__(self):\n",
    "        self.name = \"Singleton\"\n",
    "\n",
    "\n",
    "mm = MySingleton()\n",
    "ss = MySingleton()\n",
    "\n",
    "\n",
    "print(id(ss),\"=====\", id(mm))"
   ]
  },
  {
   "cell_type": "code",
   "execution_count": 33,
   "id": "97863afd",
   "metadata": {},
   "outputs": [
    {
     "name": "stdout",
     "output_type": "stream",
     "text": [
      "True\n"
     ]
    }
   ],
   "source": [
    "# Another way S I N G L E T O N\n",
    "class SingletonClass(object):\n",
    "  def __new__(cls):\n",
    "    if not hasattr(cls, 'instance'):\n",
    "      cls.instance = super(SingletonClass, cls).__new__(cls)\n",
    "    return cls.instance\n",
    "\n",
    "\n",
    "cm = SingletonClass()\n",
    "jj = SingletonClass()\n",
    "print(jj is cm)"
   ]
  },
  {
   "cell_type": "markdown",
   "id": "db7c35e2",
   "metadata": {},
   "source": [
    "#    D E C O R A T O R"
   ]
  },
  {
   "cell_type": "code",
   "execution_count": 46,
   "id": "78937624",
   "metadata": {},
   "outputs": [
    {
     "data": {
      "text/plain": [
       "{'_PizzaMargarita__wrapped': <__main__.PizzaBase at 0x104c36ef0>,\n",
       " '_PizzaMargarita__cost': 10.0,\n",
       " '_PizzaMargarita__name': 'Маргарита'}"
      ]
     },
     "execution_count": 46,
     "metadata": {},
     "output_type": "execute_result"
    }
   ],
   "source": [
    "# D E C O R A T O R - Расширение поведения через наследование\n",
    "\n",
    "from abc import ABC, abstractmethod\n",
    "\n",
    "\n",
    "class IPizzaBase(ABC):\n",
    "    \"\"\"Интерфейс декорируемого объекта\"\"\"\n",
    "    @abstractmethod\n",
    "    def cost(self) -> float:\n",
    "        print('Interface of base - IPizzaBase')\n",
    "        pass\n",
    "\n",
    "\n",
    "class PizzaBase(IPizzaBase): # Наследуется от интерфейса IPizzaBase\n",
    "    \"\"\"Класс декорируемого объекта\"\"\"\n",
    "    def __init__(self, cost):\n",
    "        self.__cost = cost\n",
    "\n",
    "    def cost(self) -> float:\n",
    "        print(\"PizzaBase >>>\")\n",
    "        return self.__cost\n",
    "\n",
    "\n",
    "class IDecorator(IPizzaBase):\n",
    "    \"\"\"Интерфейс декоратора\"\"\"\n",
    "    @abstractmethod\n",
    "    def name(self) -> str:\n",
    "        pass\n",
    "\n",
    "\n",
    "class PizzaMargarita(IDecorator):\n",
    "    \"\"\"На основе PizzaBase получаем\n",
    "    пиццу 'Маргарита'\"\"\"\n",
    "    def __init__(self, wrapped: IPizzaBase, pizza_cost: float):\n",
    "        self.__wrapped = wrapped\n",
    "        self.__cost = pizza_cost\n",
    "        self.__name = \"Маргарита\"\n",
    "\n",
    "    def cost(self) -> float:\n",
    "        return self.__cost+self.__wrapped.cost()\n",
    "\n",
    "    def name(self) -> str:\n",
    "        return self.__name\n",
    "    \n",
    "basis = PizzaBase(10)    \n",
    "margo = PizzaMargarita(basis,10.0)\n",
    "margo.__dict__['_PizzaMargarita__wrapped'].__dict__\n",
    "margo.__dict__"
   ]
  },
  {
   "cell_type": "markdown",
   "id": "9cf932bd",
   "metadata": {},
   "source": [
    "P H U B R I C     M E T H O D "
   ]
  },
  {
   "cell_type": "code",
   "execution_count": 7,
   "id": "1ec8b0a1",
   "metadata": {},
   "outputs": [
    {
     "data": {
      "text/plain": [
       "3.5"
      ]
     },
     "execution_count": 7,
     "metadata": {},
     "output_type": "execute_result"
    }
   ],
   "source": [
    "from enum import Enum\n",
    "\n",
    "\n",
    "class PizzaType(Enum):\n",
    "\n",
    "    MARGARITA = 0,\n",
    "    MEXICO = 1,\n",
    "    STELLA = 2\n",
    "\n",
    "\n",
    "class Pizza:\n",
    "    def __init__(self, price: float):\n",
    "        self.__price = price\n",
    "    def get_price(self) -> float:\n",
    "        return self.__price\n",
    "\n",
    "\n",
    "class PizzaMargarita(Pizza):\n",
    "    def __init__(self):\n",
    "        super().__init__(3.5)\n",
    "\n",
    "\n",
    "class PizzaMexico(Pizza):\n",
    "    def __init__(self):\n",
    "        super().__init__(17.5)\n",
    "\n",
    "\n",
    "class PizzaStella(Pizza):\n",
    "    def __init__(self):\n",
    "        super().__init__(5.5)\n",
    "\n",
    "\n",
    "def create_pizza(pizza_type: PizzaType) -> Pizza:\n",
    "    \"\"\"\n",
    "    Factory Method\n",
    "    \"\"\"\n",
    "    factory_dict = {\n",
    "        PizzaType.MARGARITA: PizzaMargarita,\n",
    "        PizzaType.MEXICO: PizzaMexico,\n",
    "        PizzaType.STELLA: PizzaStella\n",
    "    }\n",
    "    return factory_dict[pizza_type]()\n",
    "\n",
    "\n",
    "# if __name__ == '__main__':\n",
    "#     for pizza in PizzaType:\n",
    "#         my_pizza = create_pizza(pizza)\n",
    "#         print(f'Pizza type: {pizza}, price: {my_pizza.get_price()}')\n",
    "\n",
    "\n",
    "ff = create_pizza(PizzaType.MARGARITA)\n",
    "ff.get_price()"
   ]
  },
  {
   "cell_type": "code",
   "execution_count": 74,
   "id": "245f9ae5",
   "metadata": {},
   "outputs": [
    {
     "name": "stdout",
     "output_type": "stream",
     "text": [
      "one is : <class '__main__.Video'> two is: <class 'type'>\n"
     ]
    },
    {
     "data": {
      "text/plain": [
       "__main__.Video"
      ]
     },
     "execution_count": 74,
     "metadata": {},
     "output_type": "execute_result"
    }
   ],
   "source": [
    "# __class__\n",
    "# This atribute contains type\n",
    "\n",
    "class Video:\n",
    "    pass\n",
    "\n",
    "one = Video()\n",
    "two = one.__class__\n",
    "\n",
    "print('one is :',type(one), 'two is:',type(two))\n",
    "two"
   ]
  },
  {
   "cell_type": "code",
   "execution_count": 92,
   "id": "f025dd92",
   "metadata": {},
   "outputs": [
    {
     "name": "stdout",
     "output_type": "stream",
     "text": [
      "Third Class is inited\n",
      "The Method from First\n"
     ]
    }
   ],
   "source": [
    "# ONE MORE MRO and SUPER ()\n",
    "\n",
    "\n",
    "class First:\n",
    "    def __init__(self):\n",
    "        print('Initialising class First')\n",
    "    def method(self):\n",
    "        print('The Method from First')\n",
    "        \n",
    "class Second(First):\n",
    "    def __init__(self):\n",
    "        print('Second Class is inited')\n",
    "\n",
    "        \n",
    "    \n",
    "class Third(Second):\n",
    "    def __init__(self):\n",
    "        print('Third Class is inited')\n",
    "    def method(self):\n",
    "        super().method()\n",
    "    \n",
    "    \n",
    "    \n",
    "tr = Third()    \n",
    "\n",
    "tr.method()"
   ]
  },
  {
   "cell_type": "code",
   "execution_count": null,
   "id": "5c882576-bbf5-4f42-895a-46b04bdcd228",
   "metadata": {},
   "outputs": [],
   "source": [
    "# Class callback\n",
    "class Averager():\n",
    "     def __init__(self):\n",
    "         self.series = []\n",
    "     def __call__(self, new_value):\n",
    "         self.series.append(new_value)\n",
    "         total = sum(self.series)\n",
    "         return total / len(self.series)\n",
    "\n",
    "avg = Averager()\n",
    "\n",
    "\n",
    "ls = [10,33,55,22,35,46,24,34]\n",
    "\n",
    "print([avg(i) for i in ls])"
   ]
  }
 ],
 "metadata": {
  "kernelspec": {
   "display_name": "Python 3 (ipykernel)",
   "language": "python",
   "name": "python3"
  },
  "language_info": {
   "codemirror_mode": {
    "name": "ipython",
    "version": 3
   },
   "file_extension": ".py",
   "mimetype": "text/x-python",
   "name": "python",
   "nbconvert_exporter": "python",
   "pygments_lexer": "ipython3",
   "version": "3.13.0a6"
  }
 },
 "nbformat": 4,
 "nbformat_minor": 5
}
