{
 "cells": [
  {
   "cell_type": "code",
   "execution_count": null,
   "id": "68c241d1-69c9-4fab-aa80-30a74532be04",
   "metadata": {},
   "outputs": [],
   "source": [
    "# import inspect\n",
    "\n",
    "# def show_stack():\n",
    "#     for frame in inspect.stack():\n",
    "#         print(f\"{frame.function} in {frame.filename}:{frame.lineno}\")\n",
    "\n",
    "# class MyClass:\n",
    "#     def some_method(self):\n",
    "#         show_stack()\n",
    "\n",
    "# obj = MyClass()\n",
    "# obj.some_method()"
   ]
  },
  {
   "cell_type": "code",
   "execution_count": 22,
   "id": "d7187bc6-7e2c-425c-b7b3-60097cf80ac0",
   "metadata": {},
   "outputs": [
    {
     "name": "stdout",
     "output_type": "stream",
     "text": [
      "YES <class 'method'> <bound method Philosopher.__init_subclass__ of <class '__main__.AuPhilosopher'>> True\n"
     ]
    }
   ],
   "source": [
    "# Метод __init_subclass__() вызывается всякий раз, когда содержащий класс является подклассом.\n",
    "import inspect\n",
    "import traceback\n",
    "\n",
    "def show_stack():\n",
    "    for call_ in inspect.stack():\n",
    "        print(f\"{call_.function} and {call_.filename} >> {call_.lineno}\")\n",
    "\n",
    "class Philosopher:\n",
    "    def __init_subclass__(cls, /, default_name, **kwargs):\n",
    "        super().__init_subclass__(**kwargs)\n",
    "        cls.default_name = default_name\n",
    "\n",
    "class AuPhilosopher(Philosopher, default_name=\"Bruce\"):\n",
    "    @staticmethod\n",
    "    def make_noise():\n",
    "        traceback.print_stack()\n",
    "        # show_stack()\n",
    "        \n",
    "\n",
    "\n",
    "\n",
    "auf = AuPhilosopher()\n",
    "\n",
    "if auf.__init_subclass__:\n",
    "    foo = auf.__init_subclass__\n",
    "    print(\"YES\", type(foo), foo, callable(foo))\n"
   ]
  }
 ],
 "metadata": {
  "kernelspec": {
   "display_name": "Python 3 (ipykernel)",
   "language": "python",
   "name": "python3"
  },
  "language_info": {
   "codemirror_mode": {
    "name": "ipython",
    "version": 3
   },
   "file_extension": ".py",
   "mimetype": "text/x-python",
   "name": "python",
   "nbconvert_exporter": "python",
   "pygments_lexer": "ipython3",
   "version": "3.9.6"
  }
 },
 "nbformat": 4,
 "nbformat_minor": 5
}
