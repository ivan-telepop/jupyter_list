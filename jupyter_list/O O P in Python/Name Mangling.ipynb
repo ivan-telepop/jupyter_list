{
 "cells": [
  {
   "cell_type": "code",
   "execution_count": null,
   "id": "bb9f5edf-2997-4d0b-9ac7-45214250e2be",
   "metadata": {},
   "outputs": [],
   "source": [
    "# Name Mangling—the interpreter changes the name\n",
    "# of the variable in a way that makes it harder to create collisions when\n",
    "# the class is extended later."
   ]
  },
  {
   "cell_type": "code",
   "execution_count": null,
   "id": "f395e305-30e4-47fb-a176-44f05f938930",
   "metadata": {},
   "outputs": [],
   "source": []
  },
  {
   "cell_type": "code",
   "execution_count": 3,
   "id": "7ec54c74-7dd6-40c5-8fa1-befbce0e5e2c",
   "metadata": {},
   "outputs": [
    {
     "data": {
      "text/plain": [
       "('__c', '_b')"
      ]
     },
     "execution_count": 3,
     "metadata": {},
     "output_type": "execute_result"
    }
   ],
   "source": [
    "class Test:\n",
    "    def __init__(self):\n",
    "        self.a = 'a'\n",
    "        self._b = '_b'\n",
    "        self.__c = '__c' # Closing or mangling technic\n",
    "\n",
    "\n",
    "ts = Test()\n",
    "\n",
    "# dir(ts)     # .... '_b','a','_Test__c']\n",
    "\n",
    "ts._Test__c , ts._b"
   ]
  },
  {
   "cell_type": "code",
   "execution_count": null,
   "id": "0502abd5-e0e1-4ffd-83f5-0e7eaa0f6ff5",
   "metadata": {},
   "outputs": [],
   "source": [
    "# file:///Users/ewan/Desktop/%D0%9A%D0%9D%D0%98%D0%93%D0%98-pdf/Python/Python%20Tricks%20the%20book.pdf\n"
   ]
  }
 ],
 "metadata": {
  "kernelspec": {
   "display_name": "Python 3 (ipykernel)",
   "language": "python",
   "name": "python3"
  },
  "language_info": {
   "codemirror_mode": {
    "name": "ipython",
    "version": 3
   },
   "file_extension": ".py",
   "mimetype": "text/x-python",
   "name": "python",
   "nbconvert_exporter": "python",
   "pygments_lexer": "ipython3",
   "version": "3.9.6"
  }
 },
 "nbformat": 4,
 "nbformat_minor": 5
}
