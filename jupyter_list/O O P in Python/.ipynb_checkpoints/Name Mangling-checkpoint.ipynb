{
 "cells": [
  {
   "cell_type": "code",
   "execution_count": null,
   "id": "bb9f5edf-2997-4d0b-9ac7-45214250e2be",
   "metadata": {},
   "outputs": [],
   "source": [
    "# Name Mangling—the interpreter changes the name\n",
    "# of the variable in a way that makes it harder to create collisions when\n",
    "# the class is extended later."
   ]
  },
  {
   "cell_type": "code",
   "execution_count": null,
   "id": "f395e305-30e4-47fb-a176-44f05f938930",
   "metadata": {},
   "outputs": [],
   "source": []
  },
  {
   "cell_type": "code",
   "execution_count": 4,
   "id": "7ec54c74-7dd6-40c5-8fa1-befbce0e5e2c",
   "metadata": {},
   "outputs": [
    {
     "data": {
      "text/plain": [
       "['_Test__c',\n",
       " '__class__',\n",
       " '__delattr__',\n",
       " '__dict__',\n",
       " '__dir__',\n",
       " '__doc__',\n",
       " '__eq__',\n",
       " '__format__',\n",
       " '__ge__',\n",
       " '__getattribute__',\n",
       " '__getstate__',\n",
       " '__gt__',\n",
       " '__hash__',\n",
       " '__init__',\n",
       " '__init_subclass__',\n",
       " '__le__',\n",
       " '__lt__',\n",
       " '__module__',\n",
       " '__ne__',\n",
       " '__new__',\n",
       " '__reduce__',\n",
       " '__reduce_ex__',\n",
       " '__repr__',\n",
       " '__setattr__',\n",
       " '__sizeof__',\n",
       " '__static_attributes__',\n",
       " '__str__',\n",
       " '__subclasshook__',\n",
       " '__weakref__',\n",
       " '_b',\n",
       " 'a']"
      ]
     },
     "execution_count": 4,
     "metadata": {},
     "output_type": "execute_result"
    }
   ],
   "source": [
    "class Test:\n",
    "    def __init__(self):\n",
    "        self.a = 'a'\n",
    "        self._b = '_b'\n",
    "        self.__c = '__c'\n",
    "\n",
    "\n",
    "ts = Test()\n",
    "\n",
    "\n",
    "dir(ts)     # .... '_b','a','_Test__c']"
   ]
  },
  {
   "cell_type": "code",
   "execution_count": null,
   "id": "0502abd5-e0e1-4ffd-83f5-0e7eaa0f6ff5",
   "metadata": {},
   "outputs": [],
   "source": [
    "# file:///Users/ewan/Desktop/%D0%9A%D0%9D%D0%98%D0%93%D0%98-pdf/Python/Python%20Tricks%20the%20book.pdf\n"
   ]
  }
 ],
 "metadata": {
  "kernelspec": {
   "display_name": "Python 3 (ipykernel)",
   "language": "python",
   "name": "python3"
  },
  "language_info": {
   "codemirror_mode": {
    "name": "ipython",
    "version": 3
   },
   "file_extension": ".py",
   "mimetype": "text/x-python",
   "name": "python",
   "nbconvert_exporter": "python",
   "pygments_lexer": "ipython3",
   "version": "3.13.0a6"
  }
 },
 "nbformat": 4,
 "nbformat_minor": 5
}
