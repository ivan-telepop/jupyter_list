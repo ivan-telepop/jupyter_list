{
 "cells": [
  {
   "cell_type": "code",
   "execution_count": null,
   "id": "76df4b55-ad60-416b-9636-0234a6edb462",
   "metadata": {},
   "outputs": [],
   "source": [
    "import replib\n",
    "import re\n",
    "\n",
    "RE_WORD = re.compile(r'\\w+')\n",
    "\n",
    "\n",
    "class Sentence:\n",
    "    def __init__(self,text):\n",
    "        self.text = text\n",
    "        self.words = RE_WORD.findall(text)\n",
    "    def __getitem__(self, index):\n",
    "        return self.words[index]\n",
    "    def __len__(self,words):\n",
    "        return len(self.words)\n",
    "    def __repr__(self):\n",
    "        return f\"Seq is: {replib.repr(self.text)}\"\n",
    "        "
   ]
  }
 ],
 "metadata": {
  "kernelspec": {
   "display_name": "Python 3 (ipykernel)",
   "language": "python",
   "name": "python3"
  },
  "language_info": {
   "codemirror_mode": {
    "name": "ipython",
    "version": 3
   },
   "file_extension": ".py",
   "mimetype": "text/x-python",
   "name": "python",
   "nbconvert_exporter": "python",
   "pygments_lexer": "ipython3",
   "version": "3.13.0a6"
  }
 },
 "nbformat": 4,
 "nbformat_minor": 5
}
