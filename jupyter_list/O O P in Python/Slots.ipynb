{
 "cells": [
  {
   "cell_type": "code",
   "execution_count": 56,
   "id": "7f72ba97-2104-435e-883f-76a92daaad31",
   "metadata": {},
   "outputs": [
    {
     "ename": "SyntaxError",
     "evalue": "invalid syntax (1880587308.py, line 1)",
     "output_type": "error",
     "traceback": [
      "\u001b[0;36m  Cell \u001b[0;32mIn[56], line 1\u001b[0;36m\u001b[0m\n\u001b[0;31m    Идея слотов в том чтобы зарезервировать имена атрибутов у класса.\u001b[0m\n\u001b[0m         ^\u001b[0m\n\u001b[0;31mSyntaxError\u001b[0m\u001b[0;31m:\u001b[0m invalid syntax\n"
     ]
    }
   ],
   "source": [
    "Идея слотов в том чтобы зарезервировать имена атрибутов у класса. \n",
    "Бывают ситуевины когда нам надо чтоб в классе были только атрибуты с определенными именами.\n",
    "Вот как раз мы и определяем эти имена в перменной __slots__ = ('foo','bar','ara','vasya')\n",
    "При попытке создать атрибуты с другим именем у нас будет исключение AtrributeError.\n",
    "    \n",
    "Профит:\n",
    "За счет того что при декларации слотов не создается объект __dict__\n",
    "от этого, повышение скорости чтения атрибутов на 25-30 процетов.\n",
    "\n",
    "Непрофит:\n",
    "В старых версиях Пайтон, Если у нас есть два родительских класса, у каждого их которых определены слоты, \n",
    "то попытка создать дочерний класс, увы, обречена на неуспех"
   ]
  },
  {
   "cell_type": "code",
   "execution_count": 57,
   "id": "679038b4-7939-4426-b877-0f8d5f58797d",
   "metadata": {},
   "outputs": [
    {
     "name": "stdout",
     "output_type": "stream",
     "text": [
      "0.221513201999187 tester\n",
      "0.24524230199676822 simp\n"
     ]
    }
   ],
   "source": [
    "# Example __slots__\n",
    "import timeit\n",
    "\n",
    "class Tester:\n",
    "    __slots__ = ('one','two','three')\n",
    "    pass\n",
    "\n",
    "t = Tester()\n",
    "\n",
    "#t.five = 5\n",
    "\n",
    "# AttributeError: 'Tester' object has no attribute 'five' \n",
    "# and no __dict__ for setting new attributes\n",
    "\n",
    "\n",
    "class Simp:\n",
    "    pass\n",
    "\n",
    "def make(obj):\n",
    "    obj.one = 1\n",
    "    obj.two = 2\n",
    "    obj.three = 3\n",
    "    del obj.three\n",
    "\n",
    "\n",
    "def make_tester():\n",
    "    make(Tester())\n",
    "\n",
    "def make_simp():\n",
    "    make(Simp())\n",
    "\n",
    "\n",
    "# 0.22041158099818858 tester\n",
    "print(min(timeit.repeat(make_tester)),\"tester\")\n",
    "\n",
    "# 0.25674148699908983 simp\n",
    "print(min(timeit.repeat(make_simp)),\"simp\")\n"
   ]
  },
  {
   "cell_type": "code",
   "execution_count": 47,
   "id": "148415b1-a676-48df-9056-b02e2f6e4abd",
   "metadata": {},
   "outputs": [
    {
     "data": {
      "text/plain": [
       "2"
      ]
     },
     "execution_count": 47,
     "metadata": {},
     "output_type": "execute_result"
    }
   ],
   "source": [
    "class Parent: __slots__ = ()\n",
    "\n",
    "class Child: #__slots__ = ()\n",
    "    pass\n",
    "\n",
    "\n",
    "\n",
    "\n",
    "class Baby(Parent, Child): __slot__ = () \n",
    "\n",
    "\n",
    "bb = Baby()\n",
    "\n",
    "bb.__dict__ = {\"a\":1,\"b\":2}\n",
    "\n",
    "\n",
    "Baby.__mro__\n",
    "\n",
    "bb.__slots__ = ('a','b')\n",
    "\n",
    "\n",
    "bb.__slots__\n",
    "\n",
    "\n",
    "bb.b\n",
    "\n",
    "\n",
    "\n",
    "\n",
    "\n"
   ]
  },
  {
   "cell_type": "code",
   "execution_count": 55,
   "id": "374582fb-c79f-46bf-842b-c38b1fa80711",
   "metadata": {},
   "outputs": [
    {
     "data": {
      "text/plain": [
       "()"
      ]
     },
     "execution_count": 55,
     "metadata": {},
     "output_type": "execute_result"
    }
   ],
   "source": [
    "# Можно через декоратор дэйтакласс открывать слоты \n",
    "\n",
    "from dataclasses import dataclass\n",
    "\n",
    "\n",
    "@dataclass(slots=True)\n",
    "class Slut:\n",
    "    a = 1\n",
    "    b = 2\n",
    "\n",
    "\n",
    "sl = Slut()\n",
    "\n",
    "sl.__slots__\n",
    "\n"
   ]
  }
 ],
 "metadata": {
  "kernelspec": {
   "display_name": "Python 3 (ipykernel)",
   "language": "python",
   "name": "python3"
  },
  "language_info": {
   "codemirror_mode": {
    "name": "ipython",
    "version": 3
   },
   "file_extension": ".py",
   "mimetype": "text/x-python",
   "name": "python",
   "nbconvert_exporter": "python",
   "pygments_lexer": "ipython3",
   "version": "3.9.6"
  }
 },
 "nbformat": 4,
 "nbformat_minor": 5
}
