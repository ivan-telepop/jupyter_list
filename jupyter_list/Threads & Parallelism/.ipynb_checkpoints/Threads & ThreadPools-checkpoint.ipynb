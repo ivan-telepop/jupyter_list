{
 "cells": [
  {
   "cell_type": "code",
   "execution_count": 25,
   "id": "7d635538-a0da-466c-9839-cafef38f476c",
   "metadata": {},
   "outputs": [
    {
     "name": "stdout",
     "output_type": "stream",
     "text": [
      "Work is done: 1.0\n",
      "Work is done: 0.99808669038285\n",
      "Work is done: -0.6929392910919632\n",
      "Work is done: 0.8390879278598296\n",
      "Work is done: -0.7986594788452244\n",
      "Work is done: 0.6331792221232987\n",
      "Work is done: -0.021734973921108066\n",
      "Work is done: -0.24095904923620143\n",
      "Work is done: -0.6669380616522619\n",
      "Work is done: -0.9627690169593678\n"
     ]
    }
   ],
   "source": [
    "from threading import Thread\n",
    "import random\n",
    "import math\n",
    "\n",
    "def some_task(arg):\n",
    "    val = random.randint(0,999)\n",
    "    res = val * arg\n",
    "    print('Work is done:', math.cos(res))\n",
    "    return res\n",
    "    \n",
    "\n",
    "\n",
    "threads_collection = [Thread(target=some_task,args=(y,)) for y in range(0,10)]\n",
    "    \n",
    "for thread in threads_collection:\n",
    "    thread.start()\n",
    "# started_threads = [ i.start() for i in threads_collection]\n",
    "\n",
    "# joined_threads = [ x.join() for x in threads_collection ]\n",
    "\n",
    "for thread in threads_collection:\n",
    "    thread.join()\n",
    "\n"
   ]
  },
  {
   "cell_type": "code",
   "execution_count": 29,
   "id": "79909064-edf3-40d3-a1ba-41eab03ac851",
   "metadata": {},
   "outputs": [
    {
     "name": "stdout",
     "output_type": "stream",
     "text": [
      "Cube value is:  77854.48300000001\n",
      "Square valuse is:  163.84000000000003\n",
      "Cube value is:  146363.18300000002\n",
      "Square valuse is:  660806.4099999999\n",
      "Executed\n"
     ]
    }
   ],
   "source": [
    "import threading\n",
    "\n",
    "\n",
    "def print_cube(val):\n",
    "    calc = val * val * val\n",
    "    print(\"Cube value is: \",calc)\n",
    "\n",
    "\n",
    "def print_square(num):\n",
    "    print(\"Square valuse is: \",num * num)\n",
    "\n",
    "tr1 = threading.Thread(target=print_cube, args=(42.7,))\n",
    "tr2 = threading.Thread(target=print_square, args=(12.8,))\n",
    "tr3 = threading.Thread(target=print_cube, args=(52.7,))\n",
    "tr4 = threading.Thread(target=print_square, args=(812.9,))\n",
    "\n",
    "\n",
    "\n",
    "tr1.start()\n",
    "tr2.start()\n",
    "tr3.start()\n",
    "tr4.start()\n",
    "\n",
    "\n",
    "tr1.join()\n",
    "tr2.join()\n",
    "tr3.join()\n",
    "tr4.join()\n",
    "\n",
    "print(\"Executed\")\n",
    "\n"
   ]
  },
  {
   "cell_type": "code",
   "execution_count": 31,
   "id": "9f9a283a-607f-46b4-b91c-ae7813b7c422",
   "metadata": {},
   "outputs": [
    {
     "name": "stdout",
     "output_type": "stream",
     "text": [
      "Cube value is: Cube value is:  1\n",
      "Cube value is:  512\n",
      "Cube value is:  729\n",
      "Cube value is:  8\n",
      "Cube value is:  27\n",
      "Cube value is:  64\n",
      "Cube value is:  125\n",
      "Cube value is:  216\n",
      "Cube value is:  343\n",
      " 0\n",
      ">got None\n",
      ">got None\n",
      ">got None\n",
      ">got None\n",
      ">got None\n",
      ">got None\n",
      ">got None\n",
      ">got None\n",
      ">got None\n",
      ">got None\n",
      "Done\n"
     ]
    }
   ],
   "source": [
    "# ThreadPool\n",
    "from multiprocessing.pool import ThreadPool\n",
    "\n",
    "ThreadPool.__dict__\n",
    "\n",
    "\n",
    "with ThreadPool() as pool:\n",
    "# issue one task for each call to the function\n",
    "    for result in pool.map(print_cube, range(10)):\n",
    "# handle the result\n",
    "        print(f'>got {result}')\n",
    "# report that all tasks are completed\n",
    "print('Done')"
   ]
  },
  {
   "cell_type": "code",
   "execution_count": 35,
   "id": "8d19baab-d8cf-44f7-9481-8621e4213a23",
   "metadata": {},
   "outputs": [
    {
     "name": "stdout",
     "output_type": "stream",
     "text": [
      ">got <bound method Future.result of <Future at 0x10b721a50 state=finished returned int>>\n",
      ">got <bound method Future.result of <Future at 0x10b721c50 state=finished returned int>>\n",
      ">got <bound method Future.result of <Future at 0x10b721d50 state=finished returned int>>\n",
      ">got <bound method Future.result of <Future at 0x10b7224d0 state=finished returned int>>\n",
      ">got <bound method Future.result of <Future at 0x10b721850 state=finished returned int>>\n",
      ">got 0\n",
      ">got 1\n",
      ">got 4\n",
      ">got 9\n",
      ">got 16\n",
      "Done\n"
     ]
    }
   ],
   "source": [
    "import concurrent.futures\n",
    "\n",
    "def task(arg):\n",
    "    return arg * arg\n",
    "# create the pool with the default number of workers\n",
    "with concurrent.futures.ThreadPoolExecutor() as exe:\n",
    "# issue some tasks and collect futures\n",
    "    futures = [exe.submit(task, i) for i in range(5)]\n",
    "# handle results as tasks are completed\n",
    "    for future in concurrent.futures.as_completed(futures):\n",
    "        print(f'>got {future.result}')\n",
    "# issue one task for each call to the function\n",
    "    for result in exe.map(task, range(5)):\n",
    "        print(f'>got {result}')\n",
    "# report that all tasks are completed\n",
    "print('Done')"
   ]
  }
 ],
 "metadata": {
  "kernelspec": {
   "display_name": "Python 3 (ipykernel)",
   "language": "python",
   "name": "python3"
  },
  "language_info": {
   "codemirror_mode": {
    "name": "ipython",
    "version": 3
   },
   "file_extension": ".py",
   "mimetype": "text/x-python",
   "name": "python",
   "nbconvert_exporter": "python",
   "pygments_lexer": "ipython3",
   "version": "3.13.0a6"
  }
 },
 "nbformat": 4,
 "nbformat_minor": 5
}
