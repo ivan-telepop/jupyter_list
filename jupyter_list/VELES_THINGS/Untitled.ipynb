{
 "cells": [
  {
   "cell_type": "code",
   "execution_count": 4,
   "id": "0a7a0c17-aa97-4baa-a277-81cfb9fe0e33",
   "metadata": {},
   "outputs": [
    {
     "name": "stdout",
     "output_type": "stream",
     "text": [
      "Requirement already satisfied: passlib in /Users/ewan/.pyenv/versions/3.13.0a6/lib/python3.13/site-packages (1.7.4)\n",
      "\n",
      "\u001b[1m[\u001b[0m\u001b[34;49mnotice\u001b[0m\u001b[1;39;49m]\u001b[0m\u001b[39;49m A new release of pip is available: \u001b[0m\u001b[31;49m24.0\u001b[0m\u001b[39;49m -> \u001b[0m\u001b[32;49m24.2\u001b[0m\n",
      "\u001b[1m[\u001b[0m\u001b[34;49mnotice\u001b[0m\u001b[1;39;49m]\u001b[0m\u001b[39;49m To update, run: \u001b[0m\u001b[32;49mpip install --upgrade pip\u001b[0m\n"
     ]
    }
   ],
   "source": [
    "! pip install passlib"
   ]
  },
  {
   "cell_type": "code",
   "execution_count": 5,
   "id": "ea4de466-8921-47d6-9510-827c44ce756f",
   "metadata": {},
   "outputs": [
    {
     "ename": "ModuleNotFoundError",
     "evalue": "No module named 'passlib'",
     "output_type": "error",
     "traceback": [
      "\u001b[0;31m---------------------------------------------------------------------------\u001b[0m",
      "\u001b[0;31mModuleNotFoundError\u001b[0m                       Traceback (most recent call last)",
      "Cell \u001b[0;32mIn[5], line 1\u001b[0m\n\u001b[0;32m----> 1\u001b[0m \u001b[38;5;28;01mfrom\u001b[39;00m \u001b[38;5;21;01mpasslib\u001b[39;00m\u001b[38;5;21;01m.\u001b[39;00m\u001b[38;5;21;01mcontext\u001b[39;00m \u001b[38;5;28;01mimport\u001b[39;00m CryptContext\n\u001b[1;32m      4\u001b[0m \u001b[38;5;28;01mclass\u001b[39;00m \u001b[38;5;21;01mHashingFactory\u001b[39;00m:\n\u001b[1;32m      5\u001b[0m     context \u001b[38;5;241m=\u001b[39m CryptContext(schemes\u001b[38;5;241m=\u001b[39m[\u001b[38;5;124m\"\u001b[39m\u001b[38;5;124mbcrypt\u001b[39m\u001b[38;5;124m\"\u001b[39m])\n",
      "\u001b[0;31mModuleNotFoundError\u001b[0m: No module named 'passlib'"
     ]
    }
   ],
   "source": [
    "from passlib.context import CryptContext\n",
    "\n",
    "\n",
    "class HashingFactory:\n",
    "    context = CryptContext(schemes=[\"bcrypt\"])\n",
    "    def __init__(self,password:str,hashed_password=None):\n",
    "        self.password = password\n",
    "        self.hashed_password = hashed_password\n",
    "    @staticmethod\n",
    "    def get_hashed_password(self):\n",
    "        return self.context.hash(self.password)\n",
    "    @staticmethod\n",
    "    def verify_password(self) -> bool:\n",
    "        return self.context.verify(self.password, self.hashed_pass)"
   ]
  }
 ],
 "metadata": {
  "kernelspec": {
   "display_name": "Python 3 (ipykernel)",
   "language": "python",
   "name": "python3"
  },
  "language_info": {
   "codemirror_mode": {
    "name": "ipython",
    "version": 3
   },
   "file_extension": ".py",
   "mimetype": "text/x-python",
   "name": "python",
   "nbconvert_exporter": "python",
   "pygments_lexer": "ipython3",
   "version": "3.13.0a6"
  }
 },
 "nbformat": 4,
 "nbformat_minor": 5
}
