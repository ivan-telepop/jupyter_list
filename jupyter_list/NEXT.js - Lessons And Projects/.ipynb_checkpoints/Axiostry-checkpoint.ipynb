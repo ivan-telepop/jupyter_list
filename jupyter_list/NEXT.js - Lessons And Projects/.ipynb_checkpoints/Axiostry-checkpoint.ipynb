{
 "cells": [
  {
   "cell_type": "code",
   "execution_count": 2,
   "id": "defa4107-9e52-44ba-849a-df24c1707af8",
   "metadata": {},
   "outputs": [
    {
     "ename": "SyntaxError",
     "evalue": "Identifier 'axios' has already been declared",
     "output_type": "error",
     "traceback": [
      "Stack trace:",
      "SyntaxError: Identifier 'axios' has already been declared"
     ]
    }
   ],
   "source": [
    "const axios = require('axios/dist/browser/axios.cjs'); // browser\n",
    "// const axios = require('axios/dist/node/axios.cjs'); // node\n",
    "\n",
    "const formData = new FormData();\n",
    "formData.set('username', 'hellouser@gmail.com');\n",
    "formData.set('password', 'Ghbvtybnm1');\n",
    "axios.post(\n",
    "    'http://localhost:8000/auth/cookie/login',\n",
    "    formData,\n",
    "    {\n",
    "        headers: {\n",
    "            'Content-Type': 'multipart/form-data',\n",
    "        },\n",
    "    },\n",
    ")\n",
    ".then((response) => console.log(response))\n",
    ".catch((error) => console.log(error));"
   ]
  }
 ],
 "metadata": {
  "kernelspec": {
   "display_name": "Deno",
   "language": "typescript",
   "name": "deno"
  },
  "language_info": {
   "file_extension": ".ts",
   "mimetype": "text/x.typescript",
   "name": "typescript",
   "nb_converter": "script",
   "pygments_lexer": "typescript",
   "version": "5.4.3"
  }
 },
 "nbformat": 4,
 "nbformat_minor": 5
}
