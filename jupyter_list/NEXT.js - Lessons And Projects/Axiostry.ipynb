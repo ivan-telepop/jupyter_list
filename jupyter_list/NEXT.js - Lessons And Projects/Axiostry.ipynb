{
 "cells": [
  {
   "cell_type": "code",
   "execution_count": 4,
   "id": "defa4107-9e52-44ba-849a-df24c1707af8",
   "metadata": {},
   "outputs": [
    {
     "name": "stdout",
     "output_type": "stream",
     "text": [
      "Response {\n",
      "  body: ReadableStream { locked: \u001b[33mfalse\u001b[39m },\n",
      "  bodyUsed: \u001b[33mfalse\u001b[39m,\n",
      "  headers: Headers {\n",
      "    \u001b[32m\"content-length\"\u001b[39m: \u001b[32m\"22\"\u001b[39m,\n",
      "    \u001b[32m\"content-type\"\u001b[39m: \u001b[32m\"application/json\"\u001b[39m,\n",
      "    date: \u001b[32m\"Fri, 26 Apr 2024 02:33:30 GMT\"\u001b[39m,\n",
      "    server: \u001b[32m\"uvicorn\"\u001b[39m\n",
      "  },\n",
      "  ok: \u001b[33mfalse\u001b[39m,\n",
      "  redirected: \u001b[33mfalse\u001b[39m,\n",
      "  status: \u001b[33m404\u001b[39m,\n",
      "  statusText: \u001b[32m\"Not Found\"\u001b[39m,\n",
      "  url: \u001b[32m\"http://localhost:8000/auth/cookie/login\"\u001b[39m\n",
      "}\n"
     ]
    },
    {
     "data": {
      "text/plain": [
       "FormData { username: \u001b[32m\"hellouser@gmail.com\"\u001b[39m, password: \u001b[32m\"Ghbvtybnm1\"\u001b[39m }"
      ]
     },
     "execution_count": 4,
     "metadata": {},
     "output_type": "execute_result"
    }
   ],
   "source": [
    "\n",
    "\n",
    "const formData = new FormData();\n",
    "formData.set('username', 'hellouser@gmail.com');\n",
    "formData.set('password', 'Ghbvtybnm1');\n",
    "fetch(\n",
    "    'http://localhost:8000/auth/cookie/login',\n",
    "    formData,\n",
    "    {\n",
    "        headers: {\n",
    "            'Content-Type': 'multipart/form-data',\n",
    "        },\n",
    "    },\n",
    ")\n",
    ".then((response) => console.log(response))\n",
    ".catch((error) => console.log(error));\n",
    "\n",
    "formData"
   ]
  },
  {
   "cell_type": "code",
   "execution_count": null,
   "id": "7b3509a3-c6fd-41d7-baf7-a8868b14ee1d",
   "metadata": {},
   "outputs": [],
   "source": []
  }
 ],
 "metadata": {
  "kernelspec": {
   "display_name": "Deno",
   "language": "typescript",
   "name": "deno"
  },
  "language_info": {
   "file_extension": ".ts",
   "mimetype": "text/x.typescript",
   "name": "typescript",
   "nb_converter": "script",
   "pygments_lexer": "typescript",
   "version": "5.4.3"
  }
 },
 "nbformat": 4,
 "nbformat_minor": 5
}
