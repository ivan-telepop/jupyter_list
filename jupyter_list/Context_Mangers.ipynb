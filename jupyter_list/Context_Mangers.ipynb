{
 "cells": [
  {
   "cell_type": "code",
   "execution_count": 1,
   "id": "a04c8560-901f-47c2-bfff-9a1618dcaf4d",
   "metadata": {},
   "outputs": [
    {
     "name": "stdout",
     "output_type": "stream",
     "text": [
      "True\n"
     ]
    }
   ],
   "source": [
    "# Context Manager made by Self\n",
    "\n",
    "class FileOpener():\n",
    "    def __init__(self,filename,mode):\n",
    "        self.filename = filename\n",
    "        self.mode = mode\n",
    "        self.file = None\n",
    "        \n",
    "    def __enter__(self):\n",
    "        self.file = open(self.filename, self.mode)\n",
    "        return self.file\n",
    "        \n",
    "    def __exit__(self,exc_type,exc_value,exc_traceback):\n",
    "        self.file.close()\n",
    "\n",
    "\n",
    "with FileOpener('./test_FileOpener.txt','w+') as ff:\n",
    "    ff.write('Some text to file')\n",
    "\n",
    "\n",
    "print(ff.closed)\n",
    "\n",
    "\n",
    "\n",
    "\n",
    "        "
   ]
  },
  {
   "cell_type": "code",
   "execution_count": 18,
   "id": "2d2c09d9-06c3-40b5-bb56-bb3607b49735",
   "metadata": {},
   "outputs": [],
   "source": [
    "# As example Connection manager\n",
    "\n",
    "class FileOpener:\n",
    "    pass\n",
    "\n",
    "class ConnectionManager():\n",
    "    def __init__(self,host,port):\n",
    "        self.host = host\n",
    "        self.port = port\n",
    "        self.conn = FileOpener()\n",
    "    def __enter__(self):\n",
    "        self.conn = f\"pymongo.MongoClient({self.host},{self.port})\"\n",
    "        return self.conn\n",
    "    def __exit__(self,exc_type,exc_value,exc_traceback):\n",
    "        self.conn.close()\n",
    "    @staticmethod\n",
    "    def execute(self):\n",
    "        return f\"Connection executed {self.host} {self.port} {self.conn}\"\n",
    "\n",
    "# E X A M P L E\n",
    "# with ConnectionManager('localhost',8080) as db_conn:\n",
    "#     pass\n",
    "    \n",
    "\n"
   ]
  },
  {
   "cell_type": "code",
   "execution_count": null,
   "id": "c254907c-fa32-489b-8ce0-7c0161375ab8",
   "metadata": {},
   "outputs": [],
   "source": [
    "# Async Context Manager\n",
    "# They have __aenter__ and __aexit__\n",
    "\n",
    "class AsyncContextManager:\n",
    "    async def __aenter__(self):\n",
    "        await log('Вход в контекст')\n",
    "\n",
    "    async def __aexit__(self, exc_type, exc, tb):\n",
    "        await log('Выход из контекста')"
   ]
  },
  {
   "cell_type": "code",
   "execution_count": 20,
   "id": "78e8a4b9-2981-42f4-ae82-63b97be1df16",
   "metadata": {},
   "outputs": [],
   "source": [
    "# C O N T E X T L I B\n",
    "\n",
    "# https://docs-python.ru/standart-library/modul-contextlib-python/zamena-try-finally-flaga-prodolzhenija-menedzherom-konteksta/"
   ]
  },
  {
   "cell_type": "code",
   "execution_count": 3,
   "id": "5c4a8e4b-db6d-4952-aca1-ab5dd8be2758",
   "metadata": {},
   "outputs": [
    {
     "name": "stdout",
     "output_type": "stream",
     "text": [
      "0\n",
      "1\n",
      "2\n",
      "3\n",
      "4\n",
      "5\n",
      "6\n",
      "7\n",
      "8\n",
      "9\n",
      "10\n",
      "11\n",
      "12\n",
      "13\n",
      "14\n",
      "15\n",
      "16\n",
      "17\n",
      "18\n",
      "19\n",
      "20\n",
      "21\n",
      "22\n",
      "23\n",
      "24\n",
      "25\n",
      "26\n",
      "27\n",
      "28\n",
      "29\n",
      "Sl 0.6\n"
     ]
    }
   ],
   "source": [
    "from contextlib import contextmanager\n",
    "import time\n",
    "\n",
    "\n",
    "@contextmanager\n",
    "def count_beats(L,B):\n",
    "    try:\n",
    "        yield \n",
    "    finally:\n",
    "        res = time.sleep(L * B)\n",
    "    print('Sl', L * B)\n",
    "\n",
    "\n",
    "\n",
    "with count_beats(2,00.3):\n",
    "    for one in range(30):\n",
    "        print(one)\n",
    "\n",
    "\n",
    "\n"
   ]
  },
  {
   "cell_type": "code",
   "execution_count": null,
   "id": "e557967a-74df-49ca-ae38-d3fffc5c594c",
   "metadata": {},
   "outputs": [],
   "source": []
  }
 ],
 "metadata": {
  "kernelspec": {
   "display_name": "Python 3 (ipykernel)",
   "language": "python",
   "name": "python3"
  },
  "language_info": {
   "codemirror_mode": {
    "name": "ipython",
    "version": 3
   },
   "file_extension": ".py",
   "mimetype": "text/x-python",
   "name": "python",
   "nbconvert_exporter": "python",
   "pygments_lexer": "ipython3",
   "version": "3.13.0a6"
  }
 },
 "nbformat": 4,
 "nbformat_minor": 5
}
