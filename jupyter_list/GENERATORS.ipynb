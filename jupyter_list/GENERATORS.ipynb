{
 "cells": [
  {
   "cell_type": "markdown",
   "id": "c9998e8d",
   "metadata": {},
   "source": [
    "GENERATORS - https://www.youtube.com/watch?v=5-qadlG7tWo"
   ]
  },
  {
   "cell_type": "code",
   "execution_count": null,
   "id": "2339f259",
   "metadata": {},
   "outputs": [],
   "source": [
    "https://docs-python.ru/tutorial/generatory-python/vyrazhenie-yield-from-expr/"
   ]
  },
  {
   "cell_type": "code",
   "execution_count": 14,
   "id": "9f276980",
   "metadata": {},
   "outputs": [
    {
     "name": "stdout",
     "output_type": "stream",
     "text": [
      "got some: hello\n"
     ]
    }
   ],
   "source": [
    "def ss():\n",
    "    while True:\n",
    "        item = yield\n",
    "        print('got some:',item)\n",
    "        \n",
    "        \n",
    "s = ss()\n",
    "next(s)\n",
    "s.send('hello')"
   ]
  },
  {
   "cell_type": "code",
   "execution_count": 11,
   "id": "98606496",
   "metadata": {},
   "outputs": [
    {
     "data": {
      "text/plain": [
       "2"
      ]
     },
     "execution_count": 11,
     "metadata": {},
     "output_type": "execute_result"
    }
   ],
   "source": [
    "ls1 = [1,2,3,4]\n",
    "ls2 = [5,6,7,8]\n",
    "\n",
    "def chain(x,y):\n",
    "    yield from x\n",
    "    yield from y\n",
    "    \n",
    "\n",
    "# for i in chain(ls1,ls2):\n",
    "#     print(i)\n",
    "\n",
    "# type(chain)\n",
    "k = chain(ls1,ls2)\n",
    "next(k)\n",
    "next(k)"
   ]
  },
  {
   "cell_type": "code",
   "execution_count": 23,
   "id": "804db12a",
   "metadata": {},
   "outputs": [
    {
     "data": {
      "text/plain": [
       "<generator object <genexpr> at 0x117005af0>"
      ]
     },
     "execution_count": 23,
     "metadata": {},
     "output_type": "execute_result"
    }
   ],
   "source": [
    "\n",
    "\n",
    "# def gener(arr):\n",
    "#     yield from list(arr)\n",
    "    \n",
    "def gener(x):\n",
    "    for i in range(x):        \n",
    "        yield i\n",
    "        \n",
    "gener = gener(7)\n",
    "\n",
    "\n",
    "\n",
    "even_gen = (i for i in range(100) if i%2 == 0)\n",
    "even_gen"
   ]
  },
  {
   "cell_type": "code",
   "execution_count": 89,
   "id": "1dd20b67",
   "metadata": {},
   "outputs": [
    {
     "data": {
      "text/plain": [
       "dict_keys([1, (1, 2, 3)])"
      ]
     },
     "execution_count": 89,
     "metadata": {},
     "output_type": "execute_result"
    }
   ],
   "source": [
    "my_dict = {1:\"hello\",True:23,(1,2,3):True}\n",
    "\n",
    "my_dict.keys()"
   ]
  },
  {
   "cell_type": "code",
   "execution_count": 26,
   "id": "40826457",
   "metadata": {},
   "outputs": [
    {
     "name": "stdout",
     "output_type": "stream",
     "text": [
      "The sum of the list elements is : 17\n"
     ]
    }
   ],
   "source": [
    "import functools \n",
    "  \n",
    "# initializing list \n",
    "lis = [1, 3, 5, 6, 2] \n",
    "  \n",
    "# using reduce to compute sum of list \n",
    "print(\"The sum of the list elements is : \", end=\"\") \n",
    "print(functools.reduce(lambda a, b: a+b, lis))"
   ]
  },
  {
   "cell_type": "code",
   "execution_count": 1,
   "id": "c467914d-f286-498e-a633-00c5efc7602e",
   "metadata": {},
   "outputs": [
    {
     "name": "stdout",
     "output_type": "stream",
     "text": [
      "1\n",
      "one\n",
      "один\n",
      "2\n",
      "two\n",
      "два\n",
      "3\n",
      "three\n",
      "три\n",
      "4\n",
      "four\n",
      "четыре\n",
      "5\n",
      "five\n",
      "пять\n"
     ]
    }
   ],
   "source": [
    "# Interesting pattern ROUND-ROBIN - how to make sequence or carousel making next()\n",
    "\n",
    "\n",
    "def gen(items):\n",
    "    for i in items:\n",
    "        yield i\n",
    "                \n",
    "\n",
    "#### ----------------\n",
    "g1 = gen([1,2,3,4,5])\n",
    "g2 = gen(['one','two','three','four','five'])\n",
    "g3 = gen(['один','два','три','четыре','пять'])\n",
    "\n",
    "tasks = [g1,g2,g3]\n",
    "# while cycle\n",
    "while tasks:\n",
    "    current = tasks.pop(0)\n",
    "    try:\n",
    "        x = next(current)\n",
    "        print(x)\n",
    "        tasks.append(current)\n",
    "    except StopIteration:\n",
    "        pass\n"
   ]
  },
  {
   "cell_type": "code",
   "execution_count": 56,
   "id": "b1734176-c60a-488d-ace3-8f4a1acb8f87",
   "metadata": {},
   "outputs": [
    {
     "name": "stdout",
     "output_type": "stream",
     "text": [
      "key1\n"
     ]
    }
   ],
   "source": [
    "obj = {\n",
    "    'key1': {'one1': 1,'two1': 2,'three1': 3,'four1': 4,'five1': 5}, \n",
    "       'key2': {'one2': 1,'two2': 2,'three2': 3,'four2': 4,'five2': 5},\n",
    "       'key3': {'one3': 1,'two3': 2,'three3': 3,'four3': 4,'five3': 5},\n",
    "       'key4': {'one4': 1,'two4': 2,'three4': 3,'four4': 4,'five4': 5},\n",
    "       'key5': {'one5': 1,'two5': 2,'three5': 3,'four5': 4,'five5': 5}\n",
    "      }\n",
    "\n",
    "def gener(items):\n",
    "    for one in items.items():\n",
    "        for i in one:\n",
    "            yield i\n",
    "\n",
    "gg = gener(obj)\n",
    "\n",
    "\n",
    "\n",
    "\n",
    "print(next(gg))\n"
   ]
  },
  {
   "cell_type": "code",
   "execution_count": 18,
   "id": "9350d6df-b1da-425e-96e1-657e24f64c83",
   "metadata": {},
   "outputs": [
    {
     "data": {
      "text/plain": [
       "'s'"
      ]
     },
     "execution_count": 18,
     "metadata": {},
     "output_type": "execute_result"
    }
   ],
   "source": [
    "hh = (x for x in list('superlonword'))\n",
    "\n",
    "next(hh)"
   ]
  },
  {
   "cell_type": "code",
   "execution_count": 94,
   "id": "5b3db93d-1eb8-4960-bf36-1d324b2b41fe",
   "metadata": {},
   "outputs": [
    {
     "ename": "SyntaxError",
     "evalue": "invalid syntax (3465623982.py, line 7)",
     "output_type": "error",
     "traceback": [
      "\u001b[0;36m  Cell \u001b[0;32mIn[94], line 7\u001b[0;36m\u001b[0m\n\u001b[0;31m    for i in range(len(max(lt1,lt2,key=len)):\u001b[0m\n\u001b[0m                                            ^\u001b[0m\n\u001b[0;31mSyntaxError\u001b[0m\u001b[0;31m:\u001b[0m invalid syntax\n"
     ]
    }
   ],
   "source": [
    "lt1 = list((1,2,3,4,5,6))\n",
    "lt2 = list((8,7,6,5,4,3))\n",
    "\n",
    "\n",
    "\n",
    "\n"
   ]
  },
  {
   "cell_type": "code",
   "execution_count": 88,
   "id": "3ef49e3c-79ab-4a75-85f6-604814f51d95",
   "metadata": {},
   "outputs": [
    {
     "data": {
      "text/plain": [
       "<generator object <genexpr> at 0x2c94cd0b0>"
      ]
     },
     "execution_count": 88,
     "metadata": {},
     "output_type": "execute_result"
    }
   ],
   "source": [
    "# yeild from\n",
    "\n",
    "#https://docs-python.ru/tutorial/generatory-python/vyrazhenie-yield-from-expr/\n",
    "\n",
    "items = [('a',1),('b',2),('c',3)]\n",
    "\n",
    "\n",
    "dct = (dict(k=k[1]) for k in items )\n",
    "\n",
    "\n",
    "dct"
   ]
  }
 ],
 "metadata": {
  "kernelspec": {
   "display_name": "Python 3 (ipykernel)",
   "language": "python",
   "name": "python3"
  },
  "language_info": {
   "codemirror_mode": {
    "name": "ipython",
    "version": 3
   },
   "file_extension": ".py",
   "mimetype": "text/x-python",
   "name": "python",
   "nbconvert_exporter": "python",
   "pygments_lexer": "ipython3",
   "version": "3.9.6"
  }
 },
 "nbformat": 4,
 "nbformat_minor": 5
}
