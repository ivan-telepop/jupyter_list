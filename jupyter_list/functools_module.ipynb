{
 "cells": [
  {
   "cell_type": "code",
   "execution_count": 3,
   "id": "f0b5d36f",
   "metadata": {},
   "outputs": [
    {
     "data": {
      "text/plain": [
       "False"
      ]
     },
     "execution_count": 3,
     "metadata": {},
     "output_type": "execute_result"
    }
   ],
   "source": [
    "# F U N C T O O L S\n",
    "from functools import reduce, partial\n",
    "\n",
    "\n",
    "def check(a,b):\n",
    "    return a > b\n",
    "\n",
    "ss = partial(check,a=10,b=10)\n",
    "ss()"
   ]
  },
  {
   "cell_type": "code",
   "execution_count": 6,
   "id": "fcf2b954",
   "metadata": {},
   "outputs": [
    {
     "ename": "NameError",
     "evalue": "name '_color' is not defined",
     "output_type": "error",
     "traceback": [
      "\u001b[0;31m---------------------------------------------------------------------------\u001b[0m",
      "\u001b[0;31mNameError\u001b[0m                                 Traceback (most recent call last)",
      "Cell \u001b[0;32mIn[6], line 13\u001b[0m\n\u001b[1;32m      8\u001b[0m \t\u001b[38;5;28;01mdef\u001b[39;00m \u001b[38;5;21m_color\u001b[39m(\u001b[38;5;28mself\u001b[39m, \u001b[38;5;28mtype\u001b[39m):\n\u001b[1;32m      9\u001b[0m \t\t\u001b[38;5;28mself\u001b[39m\u001b[38;5;241m.\u001b[39mcolor \u001b[38;5;241m=\u001b[39m \u001b[38;5;28mtype\u001b[39m\n\u001b[0;32m---> 13\u001b[0m set_red \u001b[38;5;241m=\u001b[39m partialmethod(\u001b[43m_color\u001b[49m, \u001b[38;5;28mtype\u001b[39m\u001b[38;5;241m=\u001b[39m\u001b[38;5;124m'\u001b[39m\u001b[38;5;124mred\u001b[39m\u001b[38;5;124m'\u001b[39m)\n\u001b[1;32m     14\u001b[0m set_blue \u001b[38;5;241m=\u001b[39m partialmethod(_color, \u001b[38;5;28mtype\u001b[39m\u001b[38;5;241m=\u001b[39m\u001b[38;5;124m'\u001b[39m\u001b[38;5;124mblue\u001b[39m\u001b[38;5;124m'\u001b[39m)\n\u001b[1;32m     15\u001b[0m set_green \u001b[38;5;241m=\u001b[39m partialmethod(_color, \u001b[38;5;28mtype\u001b[39m\u001b[38;5;241m=\u001b[39m\u001b[38;5;124m'\u001b[39m\u001b[38;5;124mgreen\u001b[39m\u001b[38;5;124m'\u001b[39m)\n",
      "\u001b[0;31mNameError\u001b[0m: name '_color' is not defined"
     ]
    }
   ],
   "source": [
    "from functools import partialmethod\n",
    "\n",
    "\n",
    "class Demo:\n",
    "\tdef __init__(self):\n",
    "\t\tself.color = 'black'\n",
    "\n",
    "\tdef _color(self, type):\n",
    "\t\tself.color = type\n",
    "\n",
    "        \n",
    "        \n",
    "set_red = partialmethod(_color, type='red')\n",
    "set_blue = partialmethod(_color, type='blue')\n",
    "set_green = partialmethod(_color, type='green')\n",
    "\n",
    "\n",
    "obj = Demo()\n",
    "print(obj.color)\n",
    "obj.set_green()\n",
    "print(obj.color)\n"
   ]
  },
  {
   "cell_type": "code",
   "execution_count": 36,
   "id": "f3bab969",
   "metadata": {},
   "outputs": [
    {
     "data": {
      "text/plain": [
       "26"
      ]
     },
     "execution_count": 36,
     "metadata": {},
     "output_type": "execute_result"
    }
   ],
   "source": [
    "# A B C collection pattern\n",
    "import string\n",
    "\n",
    "abc = list(string.ascii_lowercase)\n",
    "len(abc)\n"
   ]
  },
  {
   "cell_type": "code",
   "execution_count": 72,
   "id": "ef373a77",
   "metadata": {},
   "outputs": [
    {
     "name": "stdout",
     "output_type": "stream",
     "text": [
      "<method-wrapper '__repr__' of property object at 0x105fd8900>\n"
     ]
    },
    {
     "data": {
      "text/plain": [
       "{'_x': 100}"
      ]
     },
     "execution_count": 72,
     "metadata": {},
     "output_type": "execute_result"
    }
   ],
   "source": [
    "class C:\n",
    "    def __init__(self):\n",
    "        self._x = None\n",
    "\n",
    "    def getx(self):\n",
    "        return self._x\n",
    "\n",
    "    def setx(self, value):\n",
    "        self._x = value\n",
    "\n",
    "    def delx(self):\n",
    "        del self._x\n",
    "\n",
    "    x = property(getx, setx, delx, \"I'm the 'x' property.\")\n",
    "    \n",
    "    print(x.__repr__)\n",
    "    \n",
    "    \n",
    "cl = C()\n",
    "cl.x = 100\n",
    "cl.__dict__\n",
    "\n",
    "# del cl.x\n",
    "\n",
    "cl.__dict__"
   ]
  },
  {
   "cell_type": "code",
   "execution_count": 15,
   "id": "27bd44d2",
   "metadata": {},
   "outputs": [
    {
     "data": {
      "text/plain": [
       "{<__main__.One at 0x112af0ee0>: 'hello'}"
      ]
     },
     "execution_count": 15,
     "metadata": {},
     "output_type": "execute_result"
    }
   ],
   "source": [
    "class One:\n",
    "    one = 'helllo im hashed obj'\n",
    "    sec = [1,2,3,4,4,5]\n",
    "    def abc(one):\n",
    "        return f\"{one} some additional string\"\n",
    "\n",
    "    \n",
    "on = One()    \n",
    "    \n",
    "dit = {on:\"hello\"} \n",
    "\n",
    "dit"
   ]
  }
 ],
 "metadata": {
  "kernelspec": {
   "display_name": "Python 3 (ipykernel)",
   "language": "python",
   "name": "python3"
  },
  "language_info": {
   "codemirror_mode": {
    "name": "ipython",
    "version": 3
   },
   "file_extension": ".py",
   "mimetype": "text/x-python",
   "name": "python",
   "nbconvert_exporter": "python",
   "pygments_lexer": "ipython3",
   "version": "3.13.0a6"
  }
 },
 "nbformat": 4,
 "nbformat_minor": 5
}
