{
 "cells": [
  {
   "cell_type": "code",
   "execution_count": null,
   "id": "e540fcf6",
   "metadata": {},
   "outputs": [],
   "source": [
    "# attrs is for creating well-behaved classes with a type, \n",
    "#attributes, methods, and everything that comes with a class. \n",
    "#It can be used for data-only containers like namedtuples or types.\n",
    "#SimpleNamespace but they’re just a sub-genre of what attrs is good for.\n",
    "\n",
    "\n",
    "https://www.attrs.org/en/stable/index.html"
   ]
  },
  {
   "cell_type": "code",
   "execution_count": 16,
   "id": "86070057",
   "metadata": {},
   "outputs": [
    {
     "data": {
      "text/plain": [
       "3"
      ]
     },
     "execution_count": 16,
     "metadata": {},
     "output_type": "execute_result"
    }
   ],
   "source": [
    "from attrs import define, field\n",
    "\n",
    "@define\n",
    "class SomeClass:\n",
    "    a_number: int = field(default=42)\n",
    "    list_of_numbers: list = field(factory=list)\n",
    "    \n",
    "\n",
    "sc = SomeClass(1, [1, 2, 3])\n",
    "sc\n",
    "a = SomeClass(3,[0,0,0])\n",
    "b = SomeClass(2,[4,4,4])\n",
    "\n",
    "a.a_number"
   ]
  },
  {
   "cell_type": "code",
   "execution_count": 13,
   "id": "f8342757-e737-4a0c-bc91-5f83bb7d531b",
   "metadata": {},
   "outputs": [
    {
     "data": {
      "text/plain": [
       "True"
      ]
     },
     "execution_count": 13,
     "metadata": {},
     "output_type": "execute_result"
    }
   ],
   "source": [
    "a != b"
   ]
  }
 ],
 "metadata": {
  "kernelspec": {
   "display_name": "Python 3 (ipykernel)",
   "language": "python",
   "name": "python3"
  },
  "language_info": {
   "codemirror_mode": {
    "name": "ipython",
    "version": 3
   },
   "file_extension": ".py",
   "mimetype": "text/x-python",
   "name": "python",
   "nbconvert_exporter": "python",
   "pygments_lexer": "ipython3",
   "version": "3.9.6"
  }
 },
 "nbformat": 4,
 "nbformat_minor": 5
}
