{
 "cells": [
  {
   "cell_type": "code",
   "execution_count": 15,
   "id": "cb63b62c-0efb-4bb1-9b64-883307edc4a1",
   "metadata": {},
   "outputs": [],
   "source": [
    "class Hola:\n",
    "    def __init__(self):\n",
    "        self.attr = list()\n",
    "        self.attr_two = dict()\n",
    "    @staticmethod\n",
    "    def do_something(self):\n",
    "        doattr = True\n",
    "        def do_inside(self):\n",
    "            foo = [ f\"HOLA - {self} \" for x in attr ]\n",
    "            return foo\n",
    "\n",
    "\n",
    "\n",
    "hh = Hola()\n",
    "\n",
    "hh.do_something(hh)"
   ]
  },
  {
   "cell_type": "code",
   "execution_count": 30,
   "id": "396e584b-948c-451a-a4f0-9d10dc8056c9",
   "metadata": {},
   "outputs": [
    {
     "data": {
      "text/plain": [
       "function"
      ]
     },
     "execution_count": 30,
     "metadata": {},
     "output_type": "execute_result"
    }
   ],
   "source": [
    "ff = 77\n",
    "def some(ff):\n",
    "    ff = ff\n",
    "    return ff\n",
    "\n",
    "\n",
    "'__name__' in some.__builtins__\n",
    "\n",
    "dir(some)\n",
    "\n",
    "type(some)"
   ]
  },
  {
   "cell_type": "code",
   "execution_count": 120,
   "id": "022ef52c-84f5-4194-88f0-3aa44e78ef7c",
   "metadata": {},
   "outputs": [
    {
     "name": "stdout",
     "output_type": "stream",
     "text": [
      "hello from the edge\n"
     ]
    },
    {
     "data": {
      "text/plain": [
       "'hello from the edge'"
      ]
     },
     "execution_count": 120,
     "metadata": {},
     "output_type": "execute_result"
    }
   ],
   "source": [
    "class Basic:\n",
    "    def say_hello(self):\n",
    " \n",
    "        return \"hello from the edge\"\n",
    "\n",
    "class One:\n",
    "    first = Basic()\n",
    "\n",
    "\n",
    "\n",
    "class Two:\n",
    "    second = One()\n",
    "\n",
    "\n",
    "\n",
    "class Third(Two,One,Basic):\n",
    "    third = Two()\n",
    "\n",
    "\n",
    "\n",
    "last = Third()\n",
    "\n",
    "# Thats how i walked trough params over MRO\n",
    "print(last.third.second.first.say_hello() )\n",
    "\n",
    "\n",
    "last.say_hello()\n",
    "    \n",
    "    "
   ]
  }
 ],
 "metadata": {
  "kernelspec": {
   "display_name": "Python 3 (ipykernel)",
   "language": "python",
   "name": "python3"
  },
  "language_info": {
   "codemirror_mode": {
    "name": "ipython",
    "version": 3
   },
   "file_extension": ".py",
   "mimetype": "text/x-python",
   "name": "python",
   "nbconvert_exporter": "python",
   "pygments_lexer": "ipython3",
   "version": "3.13.0a6"
  }
 },
 "nbformat": 4,
 "nbformat_minor": 5
}
