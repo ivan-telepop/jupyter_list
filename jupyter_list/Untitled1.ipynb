{
 "cells": [
  {
   "cell_type": "code",
   "execution_count": null,
   "id": "eb6fefe0-132a-4fd1-b03e-1fe87cc5cdb2",
   "metadata": {
    "editable": true,
    "slideshow": {
     "slide_type": ""
    },
    "tags": []
   },
   "outputs": [],
   "source": [
    "lst = [1,2,3,4,6,7,8,9,12,13,14,15,16,17,18,19,23]\n",
    "\n",
    "\n",
    "\n",
    "srt = sorted(lst)\n",
    "\n",
    "rslt = [] \n",
    "\n",
    "for one in lst"
   ]
  }
 ],
 "metadata": {
  "kernelspec": {
   "display_name": "Python 3 (ipykernel)",
   "language": "python",
   "name": "python3"
  },
  "language_info": {
   "codemirror_mode": {
    "name": "ipython",
    "version": 3
   },
   "file_extension": ".py",
   "mimetype": "text/x-python",
   "name": "python",
   "nbconvert_exporter": "python",
   "pygments_lexer": "ipython3",
   "version": "3.9.6"
  }
 },
 "nbformat": 4,
 "nbformat_minor": 5
}
