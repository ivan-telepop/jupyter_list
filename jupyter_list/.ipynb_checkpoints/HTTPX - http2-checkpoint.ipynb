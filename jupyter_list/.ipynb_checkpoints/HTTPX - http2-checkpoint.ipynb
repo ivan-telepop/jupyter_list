{
 "cells": [
  {
   "cell_type": "code",
   "execution_count": null,
   "id": "5564fd82-43b8-4bf2-ae3c-d9df64a263ed",
   "metadata": {},
   "outputs": [],
   "source": [
    "# HTTPX + HTTPX cli \n",
    "\n",
    "# HTTPX is a fully featured HTTP client for Python 3, which provides sync and async APIs, \n",
    "and support for both HTTP/1.1 and HTTP/2."
   ]
  },
  {
   "cell_type": "code",
   "execution_count": 2,
   "id": "84d6133b-be90-452b-9a10-c0e4980e63e5",
   "metadata": {},
   "outputs": [
    {
     "data": {
      "text/plain": [
       "<Response [200 OK]>"
      ]
     },
     "execution_count": 2,
     "metadata": {},
     "output_type": "execute_result"
    }
   ],
   "source": [
    "import httpx\n",
    "r = httpx.get('https://www.example.org/')\n",
    "r\n",
    "\n",
    "# r.status_code\n",
    "\n",
    "# r.headers['content-type']"
   ]
  }
 ],
 "metadata": {
  "kernelspec": {
   "display_name": "Python 3 (ipykernel)",
   "language": "python",
   "name": "python3"
  },
  "language_info": {
   "codemirror_mode": {
    "name": "ipython",
    "version": 3
   },
   "file_extension": ".py",
   "mimetype": "text/x-python",
   "name": "python",
   "nbconvert_exporter": "python",
   "pygments_lexer": "ipython3",
   "version": "3.9.6"
  }
 },
 "nbformat": 4,
 "nbformat_minor": 5
}
