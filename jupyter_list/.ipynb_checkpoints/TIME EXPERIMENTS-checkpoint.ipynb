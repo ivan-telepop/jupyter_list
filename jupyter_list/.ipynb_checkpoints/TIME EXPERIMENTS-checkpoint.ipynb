{
 "cells": [
  {
   "cell_type": "code",
   "execution_count": null,
   "id": "3f881998",
   "metadata": {},
   "outputs": [],
   "source": [
    "# %a\tWeekday, short version\tWed\t\n",
    "# %A\tWeekday, full version\tWednesday\t\n",
    "# %w\tWeekday as a number 0-6, 0 is Sunday\t3\t\n",
    "# %d\tDay of month 01-31\t31\t\n",
    "# %b\tMonth name, short version\tDec\t\n",
    "# %B\tMonth name, full version\tDecember\t\n",
    "# %m\tMonth as a number 01-12\t12\t\n",
    "# %y\tYear, short version, without century\t18\t\n",
    "# %Y\tYear, full version\t2018\t\n",
    "# %H\tHour 00-23\t17\t\n",
    "# %I\tHour 00-12\t05\t\n",
    "# %p\tAM/PM\tPM\t\n",
    "# %M\tMinute 00-59\t41\t\n",
    "# %S\tSecond 00-59\t08\t\n",
    "# %f\tMicrosecond 000000-999999\t548513\t\n",
    "# %z\tUTC offset\t+0100\t\n",
    "# %Z\tTimezone\tCST\t\n",
    "# %j\tDay number of year 001-366\t365\t\n",
    "# %U\tWeek number of year, Sunday as the first day of week, 00-53\t52\t\n",
    "# %W\tWeek number of year, Monday as the first day of week, 00-53\t52\t\n",
    "# %c\tLocal version of date and time\tMon Dec 31 17:41:00 2018\t\n",
    "# %C\tCentury\t20\t\n",
    "# %x\tLocal version of date\t12/31/18\t\n",
    "# %X\tLocal version of time\t17:41:00\t\n",
    "# %%\tA % character\t%\t\n",
    "# %G\tISO 8601 year\t2018\t\n",
    "# %u\tISO 8601 weekday (1-7)\t1\t\n",
    "# %V\tISO 8601 weeknumber (01-53)\t01"
   ]
  },
  {
   "cell_type": "code",
   "execution_count": 143,
   "id": "909a70a5",
   "metadata": {},
   "outputs": [
    {
     "name": "stdout",
     "output_type": "stream",
     "text": [
      "Good Night dear !\n"
     ]
    }
   ],
   "source": [
    "import datetime\n",
    "\n",
    "now = datetime.datetime.now()\n",
    "\n",
    "\n",
    "\n",
    "def what_is_time(tm):\n",
    "    match int(tm.strftime('%H')):\n",
    "        case 0 | 1 | 2 | 3 | 4 :\n",
    "            return 'Night'\n",
    "        case 5 | 6 | 7 | 8 | 9:\n",
    "            return 'Morning'\n",
    "        case 10 | 11 | 12 | 13 | 14 | 15:\n",
    "            return 'Day'\n",
    "        case 16 | 17 | 18 | 19 | 20 | 21 | 22 | 23:\n",
    "            return 'Evening'\n",
    "        \n",
    "\n",
    "\n",
    "print(f\"Good {what_is_time(now)} dear !\")\n"
   ]
  },
  {
   "cell_type": "code",
   "execution_count": null,
   "id": "e11eac34",
   "metadata": {},
   "outputs": [],
   "source": []
  }
 ],
 "metadata": {
  "kernelspec": {
   "display_name": "Python 3 (ipykernel)",
   "language": "python",
   "name": "python3"
  },
  "language_info": {
   "codemirror_mode": {
    "name": "ipython",
    "version": 3
   },
   "file_extension": ".py",
   "mimetype": "text/x-python",
   "name": "python",
   "nbconvert_exporter": "python",
   "pygments_lexer": "ipython3",
   "version": "3.10.9"
  }
 },
 "nbformat": 4,
 "nbformat_minor": 5
}
