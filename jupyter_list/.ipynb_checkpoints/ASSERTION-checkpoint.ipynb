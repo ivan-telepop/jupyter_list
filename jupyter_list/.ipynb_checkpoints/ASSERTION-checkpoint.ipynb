{
 "cells": [
  {
   "cell_type": "code",
   "execution_count": null,
   "id": "c6d2493c-3293-427b-a72b-f6e306b8b09c",
   "metadata": {},
   "outputs": [],
   "source": [
    "# Assertions \n",
    "# lets imagine we have a price of somthng so sometimes our app makes discount for this and\n",
    "# for being confident that our app makes correct discount. it will guerantee that discounted \n",
    "# price will not less than 0$ and cannot be higher then original price.\n"
   ]
  },
  {
   "cell_type": "code",
   "execution_count": 8,
   "id": "e11a9b12-b41a-401a-957a-8b6d76189607",
   "metadata": {},
   "outputs": [
    {
     "data": {
      "text/plain": [
       "19"
      ]
     },
     "execution_count": 8,
     "metadata": {},
     "output_type": "execute_result"
    }
   ],
   "source": [
    "def applay_discount(product,discount):\n",
    "    price = int(product['price'] * (1.0 - discount))\n",
    "    assert 0 <= price <= product['price']\n",
    "    return price\n",
    "\n",
    "ice_cream = {'name':'Fancy ice Cream','price': 100}\n",
    "\n",
    "\n",
    "applay_discount(ice_cream, 0.80)"
   ]
  },
  {
   "cell_type": "code",
   "execution_count": 31,
   "id": "cd16f158-93de-4464-bf23-ee57a2da9e75",
   "metadata": {},
   "outputs": [
    {
     "ename": "AssertionError",
     "evalue": "Wrong Data",
     "output_type": "error",
     "traceback": [
      "\u001b[0;31m---------------------------------------------------------------------------\u001b[0m",
      "\u001b[0;31mAssertionError\u001b[0m                            Traceback (most recent call last)",
      "Cell \u001b[0;32mIn[31], line 3\u001b[0m\n\u001b[1;32m      1\u001b[0m \u001b[38;5;66;03m# P A T T E R N S    T O   U S E \u001b[39;00m\n\u001b[0;32m----> 3\u001b[0m \u001b[38;5;28;01massert\u001b[39;00m \u001b[38;5;28misinstance\u001b[39m(\u001b[38;5;124m'\u001b[39m\u001b[38;5;124mhello\u001b[39m\u001b[38;5;124m'\u001b[39m,\u001b[38;5;28mint\u001b[39m),\u001b[38;5;124m\"\u001b[39m\u001b[38;5;124mWrong Data\u001b[39m\u001b[38;5;124m\"\u001b[39m\n\u001b[1;32m      5\u001b[0m \u001b[38;5;66;03m# assert isinstance('88',int)  >> AssertionError  \u001b[39;00m\n",
      "\u001b[0;31mAssertionError\u001b[0m: Wrong Data"
     ]
    }
   ],
   "source": [
    "# P A T T E R N S    T O   U S E \n",
    "\n",
    "assert isinstance('hello',int),\"Wrong Data\"\n",
    "\n",
    "# assert isinstance('88',int)  >> AssertionError  \n",
    "\n"
   ]
  }
 ],
 "metadata": {
  "kernelspec": {
   "display_name": "Python 3 (ipykernel)",
   "language": "python",
   "name": "python3"
  },
  "language_info": {
   "codemirror_mode": {
    "name": "ipython",
    "version": 3
   },
   "file_extension": ".py",
   "mimetype": "text/x-python",
   "name": "python",
   "nbconvert_exporter": "python",
   "pygments_lexer": "ipython3",
   "version": "3.9.6"
  }
 },
 "nbformat": 4,
 "nbformat_minor": 5
}
