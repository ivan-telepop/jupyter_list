{
 "cells": [
  {
   "cell_type": "code",
   "execution_count": 20,
   "id": "8c0da5e0-37a0-4cee-a906-27ca899af8c6",
   "metadata": {},
   "outputs": [
    {
     "data": {
      "text/plain": [
       "[14, 4]"
      ]
     },
     "execution_count": 20,
     "metadata": {},
     "output_type": "execute_result"
    }
   ],
   "source": [
    "#https://leetcode.com/problems/two-sum/\n",
    "\n",
    "arr = [2,7,11,15,3,24,11,9,5,25,20,11,7,4,1]\n",
    "\n",
    "\n",
    "def find(arr,targ):\n",
    "    for i in range(len(arr)):\n",
    "        for x in arr:\n",
    "            if x != arr[i]:\n",
    "                res = arr[i] + x \n",
    "                if res == targ:\n",
    "                    return [arr.index(x), i]\n",
    "\n",
    "                \n",
    "        \n",
    "\n",
    "find(arr,4)\n",
    "    "
   ]
  },
  {
   "cell_type": "code",
   "execution_count": 52,
   "id": "9a494844-6730-42da-a752-4e8cd29eec91",
   "metadata": {},
   "outputs": [
    {
     "name": "stdout",
     "output_type": "stream",
     "text": [
      "('(', '(') (')', ')') ('[', '[') (']', ']') ('{', '{') ('}', '}') ('[', '[') ('}', '}')\n"
     ]
    }
   ],
   "source": [
    "inp = '()[]{}[}'\n",
    "\n",
    "n = list(inp)\n",
    "\n",
    "# def ccc(inp):\n",
    "#     arr = list(inp)\n",
    "#     counted = [arr.count('('),arr.count(')'),arr.count(\n",
    "\n",
    "#['(', ')', '{', ')', ']', '}', ']', ')']\n",
    "\n",
    "res = [n.count('('),n.count(')'),n.count('{'),n.count('}'),n.count('['),n.count(']')]\n",
    "\n",
    "f = zip(n,n)\n",
    "\n",
    "\n",
    "print(*f)\n",
    "    "
   ]
  },
  {
   "cell_type": "code",
   "execution_count": null,
   "id": "1f11b2ca-ad6c-49e4-812a-ed7d10a8cf47",
   "metadata": {},
   "outputs": [],
   "source": []
  }
 ],
 "metadata": {
  "kernelspec": {
   "display_name": "Python 3 (ipykernel)",
   "language": "python",
   "name": "python3"
  },
  "language_info": {
   "codemirror_mode": {
    "name": "ipython",
    "version": 3
   },
   "file_extension": ".py",
   "mimetype": "text/x-python",
   "name": "python",
   "nbconvert_exporter": "python",
   "pygments_lexer": "ipython3",
   "version": "3.13.0a6"
  }
 },
 "nbformat": 4,
 "nbformat_minor": 5
}
