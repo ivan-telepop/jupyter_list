{
 "cells": [
  {
   "cell_type": "code",
   "execution_count": null,
   "id": "042154df",
   "metadata": {},
   "outputs": [],
   "source": [
    "# CLOSURES AND SCOPES"
   ]
  },
  {
   "cell_type": "code",
   "execution_count": 34,
   "id": "ae7be604",
   "metadata": {},
   "outputs": [
    {
     "name": "stdout",
     "output_type": "stream",
     "text": [
      "108\n",
      "Created Global !\n"
     ]
    }
   ],
   "source": [
    "def base_func():\n",
    "    aa = 8 # It's important to have correct names for nonlocals \n",
    "    def inner():\n",
    "        nonlocal aa # When we define nonlocals we do these like one step upper scope\n",
    "        xx = (aa + 100)\n",
    "        print(xx)\n",
    "    inner()\n",
    "    global glob # When we do globals into any place we do these like global scope\n",
    "    glob = \"Created Global !\"\n",
    "\n",
    "base_func()\n",
    "print(glob)"
   ]
  },
  {
   "cell_type": "code",
   "execution_count": 43,
   "id": "2ae0a06f",
   "metadata": {},
   "outputs": [
    {
     "name": "stdout",
     "output_type": "stream",
     "text": [
      "1\n",
      "2\n",
      "3\n",
      "1\n",
      "2\n",
      "501\n"
     ]
    }
   ],
   "source": [
    "# PATTERN LIKE COUNTER - behaves like a class\n",
    "\n",
    "def counter(count=0):\n",
    "    def step():\n",
    "        nonlocal count\n",
    "        count +=1\n",
    "        return count\n",
    "    return step\n",
    "\n",
    "counter_1 = counter()\n",
    "counter_2 = counter()\n",
    "counter_3 = counter(500)\n",
    "\n",
    "print(counter_1())\n",
    "print(counter_1())\n",
    "print(counter_1())\n",
    "print(counter_2())\n",
    "print(counter_2())\n",
    "print(counter_3())"
   ]
  },
  {
   "cell_type": "code",
   "execution_count": 57,
   "id": "98f7ab33",
   "metadata": {},
   "outputs": [
    {
     "name": "stdout",
     "output_type": "stream",
     "text": [
      "defgh\n",
      "9855203082\n"
     ]
    }
   ],
   "source": [
    "# WELL EXAMPLE OF STRIPPER \n",
    "\n",
    "def stripper(strip_chars):\n",
    "    def clean(string):\n",
    "        return string.strip(strip_chars)\n",
    "    return clean\n",
    "\n",
    "st1 = stripper(\"abc\")\n",
    "st2 = stripper(\"+7\")\n",
    "\n",
    "print(st1('abcdefghabc'))\n",
    "print(st2('+79855203082'))"
   ]
  },
  {
   "cell_type": "code",
   "execution_count": 95,
   "id": "7f4e6e02",
   "metadata": {},
   "outputs": [
    {
     "name": "stdout",
     "output_type": "stream",
     "text": [
      "i found the pattern: HAS\n",
      "i found the pattern: HAS\n",
      "i found the pattern: HAS\n"
     ]
    }
   ],
   "source": [
    "# MY METHOD TO FIND PATTERN IN A STRING\n",
    "pattern = 'has'\n",
    "input_str = 'some sthasring that has finding place its has'\n",
    "\n",
    "p_l = len(pattern)\n",
    "\n",
    "for i in range(len(input_str)):\n",
    "    for one in input_str:\n",
    "        if one == pattern[0]:\n",
    "            comparator = input_str[i:i+p_l]\n",
    "            if pattern == comparator:\n",
    "                print(f\"i found the pattern: {pattern.upper()}\")\n",
    "                break\n",
    "            \n",
    "            \n",
    "\n",
    "\n",
    "\n"
   ]
  }
 ],
 "metadata": {
  "kernelspec": {
   "display_name": "Python 3 (ipykernel)",
   "language": "python",
   "name": "python3"
  },
  "language_info": {
   "codemirror_mode": {
    "name": "ipython",
    "version": 3
   },
   "file_extension": ".py",
   "mimetype": "text/x-python",
   "name": "python",
   "nbconvert_exporter": "python",
   "pygments_lexer": "ipython3",
   "version": "3.10.9"
  }
 },
 "nbformat": 4,
 "nbformat_minor": 5
}
