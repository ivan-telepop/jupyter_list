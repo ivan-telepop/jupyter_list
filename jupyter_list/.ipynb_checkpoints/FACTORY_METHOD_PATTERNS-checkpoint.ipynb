{
 "cells": [
  {
   "cell_type": "code",
   "execution_count": 3,
   "id": "c4f4a579-d45c-419d-980d-8a8a893e9e45",
   "metadata": {},
   "outputs": [],
   "source": [
    "#### F A C T O R Y   M E T H O D  \n",
    "\n",
    "# We got two different files one of these are txt the second one is csv...\n",
    "# We got two different files one of these are txt the second one is csv...\n",
    "\n",
    "# Мы создали два класса интерфейса под каждый тип файла (текст и цсв)\n",
    "# Метод фабрика проверяет файл на тип и возвращает инстанс класса интерфейса\n",
    "# Метод коннектТУ (дан в книге) можно и без него. Инстанцирует фабрику!"
   ]
  },
  {
   "cell_type": "code",
   "execution_count": 108,
   "id": "a9aaba42-a005-429c-b7b8-baf0059c4c60",
   "metadata": {},
   "outputs": [],
   "source": [
    "import csv\n",
    "# Interface for TXT and imaginary MD files\n",
    "class TXTConnector:\n",
    "    def __init__(self,path):\n",
    "        self.data = None\n",
    "        with open(path,\"r+\") as file:\n",
    "            print(\"txt file format connected\")\n",
    "            self.data = [ row for row in file ]\n",
    "    # @property\n",
    "    def parse_data(self):\n",
    "        return self.data\n",
    "\n",
    "\n",
    "# Imaginary MarkDown Connector\n",
    "class CSVConnector:\n",
    "    def __init__(self, filepath):\n",
    "        self.data = None\n",
    "        with open(filepath,newline='') as csvfile:\n",
    "            reader = csv.reader(csvfile,delimiter=' ')\n",
    "            print(\"CSV file connected\")\n",
    "            self.data = [ row for row in reader ]\n",
    "    # @property\n",
    "    def parse_data(self):\n",
    "        return self.data\n",
    "\n"
   ]
  },
  {
   "cell_type": "code",
   "execution_count": 109,
   "id": "21ef4794-e6d4-4ce0-af2f-b79e092e4698",
   "metadata": {},
   "outputs": [],
   "source": [
    "# Factory Method that returns one of needed Interface( Connector)\n",
    "\n",
    "def connection_factory(filepath):\n",
    "    if filepath.endswith('txt'):\n",
    "        connector = TXTConnector\n",
    "    elif filepath.endswith('csv'):\n",
    "        connector = CSVConnector\n",
    "    else:\n",
    "        raise ValueError(f\"Can't connect to file : {filepath}\")\n",
    "        \n",
    "    return connector(filepath)"
   ]
  },
  {
   "cell_type": "code",
   "execution_count": 111,
   "id": "fabcbe88-c8f7-4844-a43c-289802a024b1",
   "metadata": {},
   "outputs": [
    {
     "name": "stdout",
     "output_type": "stream",
     "text": [
      "CSV file connected\n",
      "txt file format connected\n"
     ]
    },
    {
     "data": {
      "text/plain": [
       "[' 4541727632  2023-12-23 02:55:24.106974 \\n',\n",
       " ' 4541727632  2023-12-23 02:55:24.106974 \\n',\n",
       " ' 4541727632  2023-12-23 02:55:24.106974 \\n',\n",
       " ' 4541727632  2023-12-23 02:55:24.106974 \\n',\n",
       " ' 4541727632  2023-12-23 02:55:24.106974 \\n',\n",
       " ' 4541727632  2023-12-23 02:55:24.106974 \\n',\n",
       " ' 4541727632  2023-12-23 02:55:24.106974 \\n',\n",
       " \" 'hello'\\n\",\n",
       " ' 4541727632  2023-12-23 02:55:24.106974 \\n',\n",
       " ' 4541727632  2023-12-23 02:55:24.106974 \\n',\n",
       " ' 4541727632  2023-12-23 02:55:24.106974 \\n',\n",
       " ' \\n',\n",
       " ' \\n']"
      ]
     },
     "execution_count": 111,
     "metadata": {},
     "output_type": "execute_result"
    }
   ],
   "source": [
    "# Wrapper for connection_factory method ( i recon that it maybe decorator )\n",
    "\n",
    "def connect_to(filepath):\n",
    "    factory = None\n",
    "    try:\n",
    "        factory = connection_factory(filepath)\n",
    "    except ValueError as err:\n",
    "        print(err)\n",
    "    return factory\n",
    "\n",
    "csv_factory = connect_to('test0001.csv')\n",
    "txt_factory = connect_to('iter.txt')\n",
    "\n",
    "txt_factory.parse_data()\n",
    "\n",
    "\n"
   ]
  },
  {
   "cell_type": "code",
   "execution_count": null,
   "id": "b60df3b8-4a35-479e-951e-e1e767d25911",
   "metadata": {},
   "outputs": [],
   "source": []
  }
 ],
 "metadata": {
  "kernelspec": {
   "display_name": "Python 3 (ipykernel)",
   "language": "python",
   "name": "python3"
  },
  "language_info": {
   "codemirror_mode": {
    "name": "ipython",
    "version": 3
   },
   "file_extension": ".py",
   "mimetype": "text/x-python",
   "name": "python",
   "nbconvert_exporter": "python",
   "pygments_lexer": "ipython3",
   "version": "3.9.6"
  }
 },
 "nbformat": 4,
 "nbformat_minor": 5
}
