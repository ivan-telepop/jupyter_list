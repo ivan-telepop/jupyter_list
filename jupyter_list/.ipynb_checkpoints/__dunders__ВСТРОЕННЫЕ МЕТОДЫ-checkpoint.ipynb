{
 "cells": [
  {
   "cell_type": "code",
   "execution_count": 1,
   "id": "c48d9cfa",
   "metadata": {},
   "outputs": [
    {
     "data": {
      "text/plain": [
       "5"
      ]
     },
     "execution_count": 1,
     "metadata": {},
     "output_type": "execute_result"
    }
   ],
   "source": [
    "2. chr()\n",
    "3. callable()\n",
    "4. complex()\n",
    "5. dict()\n",
    "6. dir()\n",
    "7. enumerate()\n",
    "8. eval()\n",
    "9. filter()\n",
    "10. float()\n",
    "11. hash()\n",
    "12. help()\n",
    "13. input()\n",
    "14. int()\n",
    "15. iter()\n",
    "16. max()\n",
    "17. min()\n",
    "18. len()\n",
    "19. list()\n",
    "20. map()\n",
    "21. next()\n",
    "22. ord()\n",
    "23. reversed()\n",
    "24. range()\n",
    "25. reduce()\n",
    "26. sorted()\n",
    "27. str()\n",
    "28. set()\n",
    "29. sum()\n",
    "30. tuple()\n",
    "31. type()"
   ]
  }
 ],
 "metadata": {
  "kernelspec": {
   "display_name": "Python 3 (ipykernel)",
   "language": "python",
   "name": "python3"
  },
  "language_info": {
   "codemirror_mode": {
    "name": "ipython",
    "version": 3
   },
   "file_extension": ".py",
   "mimetype": "text/x-python",
   "name": "python",
   "nbconvert_exporter": "python",
   "pygments_lexer": "ipython3",
   "version": "3.10.9"
  }
 },
 "nbformat": 4,
 "nbformat_minor": 5
}
