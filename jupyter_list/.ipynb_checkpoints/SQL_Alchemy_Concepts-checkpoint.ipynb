{
 "cells": [
  {
   "cell_type": "code",
   "execution_count": null,
   "id": "d544b35a-d02c-42bd-85e7-f5c708063230",
   "metadata": {
    "editable": true,
    "slideshow": {
     "slide_type": ""
    },
    "tags": []
   },
   "outputs": [],
   "source": [
    "SQL_Alchemy - Write Only Relationship\n",
    "https://docs.sqlalchemy.org/en/20/orm/large_collections.html\n",
    "\n",
    "\n",
    "\n",
    "Хорошая статья про индексы в БД.\n",
    "https://medium.com/nuances-of-programming/%D1%81%D1%83%D0%BF%D0%B5%D1%80-%D1%81%D0%B8%D0%BB%D0%B0-%D0%B8%D0%BD%D0%B4%D0%B5%D0%BA%D1%81%D0%BE%D0%B2-%D0%B4%D0%BB%D1%8F-%D0%BE%D0%BF%D1%82%D0%B8%D0%BC%D0%B8%D0%B7%D0%B0%D1%86%D0%B8%D0%B8-sql-%D0%B7%D0%B0%D0%BF%D1%80%D0%BE%D1%81%D0%BE%D0%B2-df2549431bf8\n"
   ]
  }
 ],
 "metadata": {
  "kernelspec": {
   "display_name": "Python 3 (ipykernel)",
   "language": "python",
   "name": "python3"
  },
  "language_info": {
   "codemirror_mode": {
    "name": "ipython",
    "version": 3
   },
   "file_extension": ".py",
   "mimetype": "text/x-python",
   "name": "python",
   "nbconvert_exporter": "python",
   "pygments_lexer": "ipython3",
   "version": "3.9.6"
  }
 },
 "nbformat": 4,
 "nbformat_minor": 5
}
