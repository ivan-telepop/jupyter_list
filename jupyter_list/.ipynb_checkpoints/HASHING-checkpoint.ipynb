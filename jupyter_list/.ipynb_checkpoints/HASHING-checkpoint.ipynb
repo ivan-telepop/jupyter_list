{
 "cells": [
  {
   "cell_type": "code",
   "execution_count": 48,
   "id": "31f43744-018f-4006-923b-a4f2f91f3310",
   "metadata": {},
   "outputs": [
    {
     "name": "stdout",
     "output_type": "stream",
     "text": [
      "True\n"
     ]
    }
   ],
   "source": [
    "# here is more data about it https://www.geeksforgeeks.org/how-to-encrypt-and-decrypt-strings-in-python/\n",
    "\n",
    "\n",
    "# Hashlib and hashing lesson\n",
    "\n",
    "# 'block_size',\n",
    "#  'copy',\n",
    "#  'digest',\n",
    "#  'digest_size',\n",
    "#  'hexdigest',\n",
    "#  'name',\n",
    "# 'update'\n",
    "\n",
    "# algs = {'GOST 28147-89 MAC',\n",
    "#  'GOST R 34-11-2012 (512 bit)',\n",
    "#  'GOST R 34.11-2012 (256 bit)',\n",
    "#  'GOST R 34.11-94',\n",
    "#  'blake2b',\n",
    "#  'blake2s',\n",
    "#  'dsaEncryption',\n",
    "#  'dsaWithSHA',\n",
    "#  'ecdsa-with-SHA1',\n",
    "#  'md4',\n",
    "#  'md5',\n",
    "#  'md5-sha1',\n",
    "#  'ripemd160',\n",
    "#  'sha1',\n",
    "#  'sha224',\n",
    "#  'sha256',\n",
    "#  'sha384',\n",
    "#  'sha3_224',\n",
    "#  'sha3_256',\n",
    "#  'sha3_384',\n",
    "#  'sha3_512',\n",
    "#  'sha512',\n",
    "#  'shake_128',\n",
    "#  'shake_256',\n",
    "#  'whirlpool'}\n",
    "\n",
    "\n",
    "\n",
    "import hashlib\n",
    "import json\n",
    "# algorythms = hashlib.algorythms_available\n",
    "\n",
    "alg = hashlib.algorithms_available\n",
    "\n",
    "\n",
    "\n",
    "# входные данные байт или байт строка\n",
    "test_one = hashlib.sha256(b\"Everybody wanna dance\")\n",
    "\n",
    "test_one.hexdigest() # hexadecimal \n",
    "\n",
    "test_one.digest()\n",
    "\n",
    "test_two = hashlib.sha256(b\"Everybody wanna dance\")\n",
    "\n",
    "print(test_one.hexdigest() == test_two.hexdigest()) # The same hashed values are similar"
   ]
  },
  {
   "cell_type": "code",
   "execution_count": 31,
   "id": "aedcfc92-2f1b-448b-a650-729f39d10d5a",
   "metadata": {},
   "outputs": [
    {
     "data": {
      "text/plain": [
       "'2cf24dba5fb0a30e26e83b2ac5b9e29e1b161e5c1fa7425e73043362938b9824'"
      ]
     },
     "execution_count": 31,
     "metadata": {},
     "output_type": "execute_result"
    }
   ],
   "source": [
    "test_two = hashlib.sha256(b\"hello\")\n",
    "test_two.hexdigest()"
   ]
  },
  {
   "cell_type": "code",
   "execution_count": 61,
   "id": "f72af729-7c6d-4f9a-9e84-b15e93a0585f",
   "metadata": {},
   "outputs": [
    {
     "name": "stdout",
     "output_type": "stream",
     "text": [
      "b'Ow9_ic6pLJcFG8SvKUfNQ5JPWqu2fTcip0CEn2-HNzk=' this is the key\n"
     ]
    },
    {
     "data": {
      "text/plain": [
       "'{\"kolya\": 1, \"Vanya\": 2, \"vasya\": 3, \"Joric\": 4}'"
      ]
     },
     "execution_count": 61,
     "metadata": {},
     "output_type": "execute_result"
    }
   ],
   "source": [
    "from cryptography.fernet import Fernet\n",
    "\n",
    " \n",
    "key = Fernet.generate_key() # b'0rtOeq0bIPL7YSTrTLGL0xJq9hp-eE5uSKwtMQpD_Fc=' this is the key\n",
    "print(key,\"this is the key\")\n",
    "# Instance the Fernet class with the key\n",
    "fernet = Fernet(key)\n",
    "# Encrypt b string to hash\n",
    "testMessage = fernet.encrypt(b\"Hello Ivan\")\n",
    "\n",
    "# Decrypt hash to b string\n",
    "output = fernet.decrypt(testMessage)\n",
    "output\n",
    "\n",
    "dct = {\"kolya\":1,\"Vanya\":2,\"vasya\":3,\"Joric\":4}\n",
    "dct_bytes = json.dumps(dct)\n",
    "dct_bytes"
   ]
  },
  {
   "cell_type": "code",
   "execution_count": 10,
   "id": "66917df9-118f-48ee-9eb0-1a99bc5c1870",
   "metadata": {},
   "outputs": [
    {
     "data": {
      "text/plain": [
       "<function __main__.HashingFactory.get_hashed_password(self)>"
      ]
     },
     "execution_count": 10,
     "metadata": {},
     "output_type": "execute_result"
    }
   ],
   "source": [
    "# Custom hash Factory\n",
    "\n",
    "from passlib.context import CryptContext\n",
    "\n",
    "\n",
    "class HashingFactory:\n",
    "    context = CryptContext(schemes=[\"bcrypt\"])\n",
    "    def __init__(self,password:str = None,hashed_password: str = None):\n",
    "        self.password = password\n",
    "        self.hashed_password = hashed_password\n",
    "    @staticmethod\n",
    "    def get_hashed_password(self):\n",
    "        return self.context.hash(self.password)\n",
    "    @staticmethod\n",
    "    def verify_password(self) -> bool:\n",
    "        return self.context.verify(self.password, self.hashed_pass)\n",
    "\n"
   ]
  }
 ],
 "metadata": {
  "kernelspec": {
   "display_name": "Python 3 (ipykernel)",
   "language": "python",
   "name": "python3"
  },
  "language_info": {
   "codemirror_mode": {
    "name": "ipython",
    "version": 3
   },
   "file_extension": ".py",
   "mimetype": "text/x-python",
   "name": "python",
   "nbconvert_exporter": "python",
   "pygments_lexer": "ipython3",
   "version": "3.13.0a6"
  }
 },
 "nbformat": 4,
 "nbformat_minor": 5
}
