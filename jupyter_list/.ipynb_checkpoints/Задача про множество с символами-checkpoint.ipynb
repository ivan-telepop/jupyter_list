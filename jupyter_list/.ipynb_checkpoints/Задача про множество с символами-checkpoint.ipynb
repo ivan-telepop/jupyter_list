{
 "cells": [
  {
   "cell_type": "code",
   "execution_count": 69,
   "id": "1438821b",
   "metadata": {},
   "outputs": [
    {
     "name": "stdout",
     "output_type": "stream",
     "text": [
      "('a', 2) ('a', 2)\n",
      "no ravno ('b', 2) ('a', 2)\n",
      "no ravno ('a', 2) ('b', 2)\n",
      "('b', 2) ('b', 2)\n",
      "[['repeated:', 'aabb', 'bbaa'], ['repeated:', 'aabb', 'bbaa']]\n",
      "[]\n"
     ]
    }
   ],
   "source": [
    "# Сформировать группы где общий признак группы класифицируются по количеству повторяющихся символов в строке.\n",
    "\n",
    "# Пример: Есть множество - {'abba','bbaa','aags','poss','piss'} и группы ['abba','bbaa','aags'],['poss','piss']\n",
    "\n",
    "from collections import Counter\n",
    "\n",
    "\n",
    "lst = {'aabb','bbaa'}\n",
    "\n",
    "\n",
    "counter_1 = 0\n",
    "counter_2 = 0\n",
    "grouped = []\n",
    "\n",
    "\n",
    "organised = [*lst] # Обернул в лист чтоб работать по срезу\n",
    "\n",
    "\n",
    "\n",
    "for i in range(len(organised)):\n",
    "    groups = []\n",
    "    wrk = organised\n",
    "    while len(wrk) > 1:\n",
    "        popped = wrk[0] # Deleted/poped obj for comparation УДАЛЯЕМ ПО ОДНОМУ НА КАЖДОЙ ИТЕРРАЦИИ\n",
    "        del wrk[0]\n",
    "        _analysed = sorted(Counter(popped).most_common()) # word counted letters ([('a', 2), ('b', 2)])from pop\n",
    "        for _anl in _analysed: #В слове из popped\n",
    "            for _slice in range(len(wrk)): # Заходим в оcтаток от wrk\n",
    "                word_in_list = wrk[_slice]\n",
    "                _wrk_word = sorted(Counter(wrk[_slice]).most_common())# Берем слово[_slice] из рабочего списка wrk\n",
    "                for j in _wrk_word: \n",
    "                    if j == _anl: # Сравниваем букву в слове из списка wrk c \n",
    "                        group = ['repeated:',popped,word_in_list]\n",
    "                        groups.append(group)\n",
    "                        print(j,_anl)\n",
    "                    if j != _anl:\n",
    "                        print('no ravno',j, _anl)\n",
    "    print(groups)\n",
    "\n",
    "                        \n",
    "                        \n",
    "                    \n",
    "                \n",
    "                \n",
    "\n",
    "    \n",
    "    \n",
    "\n",
    "\n",
    "        \n",
    "        "
   ]
  },
  {
   "cell_type": "code",
   "execution_count": 121,
   "id": "da95872e",
   "metadata": {},
   "outputs": [
    {
     "name": "stdout",
     "output_type": "stream",
     "text": [
      "g n i r t s e m o s\n",
      "gnirtsemos\n"
     ]
    }
   ],
   "source": [
    "some = 'somestring'\n",
    "\n",
    "print(*reversed((some)))\n",
    "print(some[::-1])\n",
    "\n",
    "\n",
    "\n",
    "\n",
    "\n",
    "# for num in range(len(temp)):\n",
    "#     result = []\n",
    "#     result.append(num)\n",
    "#     word_analysed = sorted(Counter(temp[num]).most_common()) # так получили анализ повторов в слове\n",
    "#     for one in word_analysed: # перебираем тюплы с анализом колличеством букв\n",
    "#         print(one,'Сравниваем с этой штукенцией')\n",
    "#         for x in temp:\n",
    "#             _analysed = sorted(Counter(x).most_common())\n",
    "#             print(_analysed,'__analised')\n",
    "            \n",
    "        \n",
    "\n",
    "# numed = enumerate(temp)\n",
    "\n",
    "\n",
    "# for i in range(len(numed)):\n",
    "#     counted = sorted(Counter(i[1]).most_common())\n",
    "#     print('counted word', counted)\n",
    "#     for letter in counted:\n",
    "#         print(letter)\n",
    "    "
   ]
  },
  {
   "cell_type": "code",
   "execution_count": 97,
   "id": "1034a114-031e-46ca-9627-003d2986fae0",
   "metadata": {},
   "outputs": [
    {
     "name": "stdout",
     "output_type": "stream",
     "text": [
      "['-1', '-11', '-111', '-1111']\n",
      "['1', '11', '111', '1111', '11111']\n",
      "11111\n"
     ]
    }
   ],
   "source": [
    "# https://www.codewars.com/kata/5919575c5ffc3080490000b9\n",
    "# У пятилетней Алисы любимое число 1 и она старается интерпритировать все положительные четные числа\n",
    "# которые знает как сумму сложения или вычитания еденичек. На самом деле много вариантов как сложить из \n",
    "# еденичек нужное число, но Алиса хочет найти самые короткие сложения или вычитания.\n",
    "# Например: 7 = 1 + 1 + 1 + 1 + 1 + 1 + 1 но чуть короче будет если 7 = 11 - 1 - 1 - 1 - 1\n",
    "# Давайте напишем функцию которая будет помогать Алисе \n",
    "# искать минимальное сложение/вычитание чисел 1 числу N\n",
    "# Input: N:int 0 < 10 000 вход любое число\n",
    "# Output: X: int minimum number of ones выход последовательность из еденичек\n",
    "# For n 121 output should be 6 digits 1.  \n",
    "# 121 = 111 + 11 - 1\n",
    "# 23 = 11 + 11 + 1\n",
    "# Ну и так далее...\n",
    "\n",
    "\n",
    "plus_nums = ['1','11','111','1111','11111']\n",
    "minus_nums = ['-1','-11','-111','-1111','-11111']\n",
    "\n",
    "\n",
    "\n",
    "\n",
    "def bits_count(order:str):\n",
    "    resulter = []\n",
    "    starter = '1' * len(order) # always ord +1 len\n",
    "    # that digits we'll work\n",
    "    plus_f = [i for i in plus_nums if len(i) <= len(order) + 1]\n",
    "    min_f = [k for k in minus_nums if len(k) <= len(order) + 1]\n",
    "    print(min_f)\n",
    "    print(plus_f)\n",
    "    marker = plus_f[-1]\n",
    "    print(marker)\n",
    "\n",
    "    \n",
    "\n",
    " \n",
    "        \n",
    "    \n",
    "bits_count('8998')\n",
    "\n",
    "\n",
    "\n",
    "# загадали 78\n",
    "# # это 2 значное число в диапазоне между 11 и  111\n",
    "\n",
    "# мы будем работать с строкой либо на один символ больше  111 \n",
    "# либо так же с двухзначным 11 и 1 (мы ими будем оперировать)\n",
    "\n",
    "\n",
    "# делим 111 // 2 на пополам и сравниваем 78  .. 55 \n",
    "# эта проверка мне даст:\n",
    "\n",
    "# либо я от 111 делаю \n",
    "# -11 (100) \n",
    "# -11 (89) \n",
    "# -11 (78) \n",
    "\n",
    "\n",
    "# либо делаю к 11 прибавляю\n",
    "# 11\n",
    "# 22\n",
    "# 33\n",
    "# 44\n",
    "# 55\n",
    "# 66\n",
    "# 77\n",
    "# 1\n",
    "\n",
    "\n",
    "\n",
    "\n",
    "\n",
    "\n",
    "    "
   ]
  },
  {
   "cell_type": "code",
   "execution_count": 2,
   "id": "3fbfc1b7-6b79-446c-8a6f-7acca0bdfc0c",
   "metadata": {},
   "outputs": [],
   "source": [
    "# Alis says only ones -1,1,-11,11,... 10 000 max\n",
    "\n",
    "    "
   ]
  },
  {
   "cell_type": "code",
   "execution_count": 35,
   "id": "3c7e71a9-0f32-4f8a-8568-a9283c8b0308",
   "metadata": {},
   "outputs": [
    {
     "data": {
      "text/plain": [
       "['1']"
      ]
     },
     "execution_count": 35,
     "metadata": {},
     "output_type": "execute_result"
    }
   ],
   "source": []
  },
  {
   "cell_type": "code",
   "execution_count": 5,
   "id": "8eb31986-ca0e-4521-b2cf-bc3d37d0a0bb",
   "metadata": {},
   "outputs": [
    {
     "data": {
      "text/plain": [
       "'1111'"
      ]
     },
     "execution_count": 5,
     "metadata": {},
     "output_type": "execute_result"
    }
   ],
   "source": [
    "ones = '1' * len(str(1288))       \n",
    "\n",
    "ones\n",
    "        "
   ]
  },
  {
   "cell_type": "code",
   "execution_count": 19,
   "id": "a79e4835-373a-48f5-84de-69396f6699ee",
   "metadata": {},
   "outputs": [
    {
     "data": {
      "text/plain": [
       "[111, '-11', '-11', '-1', '-1', '-1', '-1', '-1']"
      ]
     },
     "execution_count": 19,
     "metadata": {},
     "output_type": "execute_result"
    }
   ],
   "source": [
    "# Задача с набором еденичек:\n",
    "# У пятилетней Алисы любимое число 1 и она старается интерпритировать все положительные четные числа\n",
    "# которые знает как сумму сложения или вычитания еденичек. На самом деле много вариантов как сложить из \n",
    "# еденичек нужное число, но Алиса хочет найти самые короткие сложения или вычитания.\n",
    "# Например: 7 = 1 + 1 + 1 + 1 + 1 + 1 + 1 но чуть короче будет если 7 = 11 - 1 - 1 - 1 - 1\n",
    "# Давайте напишем функцию которая будет помогать Алисе \n",
    "# искать минимальное сложение/вычитание чисел 1 числу N\n",
    "# На вход принимаем строку число до 10 000 \n",
    "# Результат список с стрками в виде набора чисел (полож/отриц)\n",
    "# 654 = [1111, '-111', '-111', '-111', '-111', '-11', '-1', '-1']\n",
    "# А 11 будет давать [11, '1', '1', '1']\n",
    "# В общем и так далее ... [111, '-11', '-11', '-1', '-1', '-1', '-1', '-1']\n",
    "# Ну и так далее...\n",
    "    \n",
    "\n",
    "\n",
    "def start_position(value):\n",
    "    \"\"\"Эта функция нам возвращает стартовое значение\n",
    "    в виде числа от которого будет происходит отсчет.\n",
    "    либо от большего и уменьшая, либо от меньшего к прибавлять.\n",
    "    \"\"\"\n",
    "    maxima = '1' * (len(value) + 1)\n",
    "    if int(maxima) // 2 < int(value):\n",
    "        return maxima\n",
    "    else:\n",
    "        return '1' * len(value)\n",
    "        \n",
    "\n",
    "\n",
    "\n",
    "\n",
    "def gather_ones(val):\n",
    "    result = []\n",
    "    starter = int(start_position(val))\n",
    "    result.append(starter)\n",
    "    if starter > int(val):\n",
    "        rest = starter - int(val)\n",
    "        while rest > 0:\n",
    "            int_times = len(str(rest))\n",
    "            ones = ('1' * int_times)\n",
    "            appender = str('-' + ones)\n",
    "            result.append(appender)\n",
    "            rest += int(appender)\n",
    "    elif starter < int(val):\n",
    "        rest = int(val) - starter\n",
    "        while rest > 0:\n",
    "            ones = ('1' * len(str(rest)))\n",
    "            if int(ones) < rest:\n",
    "                rest -= int(ones) \n",
    "                result.append(ones)\n",
    "            else:\n",
    "                ones = ('1' * len(str(rest - 1)))\n",
    "                rest -= int(ones) \n",
    "                result.append(ones)       \n",
    "    return result\n",
    "            \n",
    "            \n",
    "gather_ones('84')\n",
    "\n",
    "\n"
   ]
  }
 ],
 "metadata": {
  "kernelspec": {
   "display_name": "Python 3 (ipykernel)",
   "language": "python",
   "name": "python3"
  },
  "language_info": {
   "codemirror_mode": {
    "name": "ipython",
    "version": 3
   },
   "file_extension": ".py",
   "mimetype": "text/x-python",
   "name": "python",
   "nbconvert_exporter": "python",
   "pygments_lexer": "ipython3",
   "version": "3.13.0a6"
  }
 },
 "nbformat": 4,
 "nbformat_minor": 5
}
