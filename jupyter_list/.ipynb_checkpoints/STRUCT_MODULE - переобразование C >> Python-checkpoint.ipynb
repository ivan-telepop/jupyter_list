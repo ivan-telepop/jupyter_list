{
 "cells": [
  {
   "cell_type": "code",
   "execution_count": null,
   "id": "bdf95507-1dfa-44d3-ab6e-83013e34a894",
   "metadata": {},
   "outputs": [],
   "source": [
    "# Модуль struct выполняет преобразования между значениями Python и структурами языка C, \n",
    "# представленными в виде байтовых объектов Python. Это может быть использовано при обработке \n",
    "# двоичных данных, хранящихся в файлах, из сетевых подключений или среди других источников. \n",
    "# Модуль использует формат строки в качестве компактного описания структур языка C и \n",
    "#  предполагаемого преобразования в/из значений Python."
   ]
  },
  {
   "cell_type": "code",
   "execution_count": null,
   "id": "319ae59a-4ffe-41b5-b8ce-a4d2bbc37578",
   "metadata": {},
   "outputs": [],
   "source": [
    "# https://docs-python.ru/standart-library/modul-struct-struktury-python/simvoly-formata-ispolzuemye-stroke-formata-struktury/"
   ]
  },
  {
   "cell_type": "code",
   "execution_count": null,
   "id": "b0a5a3a8-9f2d-4f9e-b0f7-f9a9ab94df9f",
   "metadata": {},
   "outputs": [],
   "source": [
    "# https://docs-python.ru/standart-library/modul-struct-struktury-python/"
   ]
  },
  {
   "cell_type": "code",
   "execution_count": null,
   "id": "9f570778-72bf-410f-a4bd-0d0bb8efc6f1",
   "metadata": {},
   "outputs": [],
   "source": [
    "# https://www.codewars.com/kata/5efcaedf95d7110017896ced/python\n",
    "# Задача на эту тему\n",
    "\n",
    "import struct\n",
    "def float_to_IEEE_754(f : float) -> str:\n",
    "    s=''.join(f'{b:08b}' for b in struct.pack('d',f)[::-1])\n",
    "    return f\"{s[0]} {s[1:12]} {s[12:]}\"\n",
    "\n",
    "float_to_IEEE_754(0.245)"
   ]
  },
  {
   "cell_type": "code",
   "execution_count": 23,
   "id": "0f358382-4273-4c59-aed2-a3a6f4adc2c2",
   "metadata": {},
   "outputs": [
    {
     "name": "stdout",
     "output_type": "stream",
     "text": [
      "('00000000', '0') ('00000000', '0') ('00000000', '0') ('00000000', '0') ('00000000', '0') ('00000000', '0') ('00100100', '100100') ('01000000', '1000000')\n"
     ]
    }
   ],
   "source": [
    "import struct\n",
    "\n",
    "aa = [f'{a:08b}' for a in struct.pack('d', 10)]\n",
    "\n",
    "\n",
    "bb = [format(a,'b') for a in struct.pack('d', 10)]\n",
    "\n",
    "print(*zip(aa,bb))"
   ]
  },
  {
   "cell_type": "code",
   "execution_count": 20,
   "id": "5cba651f-6661-4367-a105-f5bd6fafb5dd",
   "metadata": {},
   "outputs": [
    {
     "name": "stdout",
     "output_type": "stream",
     "text": [
      "Help on built-in function format in module builtins:\n",
      "\n",
      "format(value, format_spec='', /)\n",
      "    Return value.__format__(format_spec)\n",
      "    \n",
      "    format_spec defaults to the empty string.\n",
      "    See the Format Specification Mini-Language section of help('FORMATTING') for\n",
      "    details.\n",
      "\n"
     ]
    }
   ],
   "source": [
    "help(format)"
   ]
  }
 ],
 "metadata": {
  "kernelspec": {
   "display_name": "Python 3 (ipykernel)",
   "language": "python",
   "name": "python3"
  },
  "language_info": {
   "codemirror_mode": {
    "name": "ipython",
    "version": 3
   },
   "file_extension": ".py",
   "mimetype": "text/x-python",
   "name": "python",
   "nbconvert_exporter": "python",
   "pygments_lexer": "ipython3",
   "version": "3.9.6"
  }
 },
 "nbformat": 4,
 "nbformat_minor": 5
}
