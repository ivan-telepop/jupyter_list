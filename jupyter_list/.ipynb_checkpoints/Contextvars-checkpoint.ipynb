{
 "cells": [
  {
   "cell_type": "code",
   "execution_count": null,
   "id": "a66d6831",
   "metadata": {},
   "outputs": [],
   "source": [
    "# Contextvars"
   ]
  },
  {
   "cell_type": "code",
   "execution_count": 27,
   "id": "085775d0",
   "metadata": {},
   "outputs": [],
   "source": [
    "from contextvars import ContextVar\n",
    "\n",
    "\n",
    "renew = var.set('renewed value')\n",
    "\n",
    "def one():\n",
    "    var = ContextVar('123',default=\"no value\")\n",
    "    return var\n",
    "    \n",
    "def two():\n",
    "    var.set('renewed value')\n",
    "    return var\n",
    "    \n",
    "    \n",
    "    \n",
    "    "
   ]
  }
 ],
 "metadata": {
  "kernelspec": {
   "display_name": "Python 3 (ipykernel)",
   "language": "python",
   "name": "python3"
  },
  "language_info": {
   "codemirror_mode": {
    "name": "ipython",
    "version": 3
   },
   "file_extension": ".py",
   "mimetype": "text/x-python",
   "name": "python",
   "nbconvert_exporter": "python",
   "pygments_lexer": "ipython3",
   "version": "3.10.9"
  }
 },
 "nbformat": 4,
 "nbformat_minor": 5
}
