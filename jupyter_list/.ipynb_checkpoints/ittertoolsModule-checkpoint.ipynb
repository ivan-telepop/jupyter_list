{
 "cells": [
  {
   "cell_type": "code",
   "execution_count": 8,
   "id": "40de15f9-ae22-4090-8103-f37dcf118d6e",
   "metadata": {},
   "outputs": [
    {
     "name": "stdout",
     "output_type": "stream",
     "text": [
      "0\n",
      "5\n",
      "10\n",
      "15\n",
      "20\n",
      "25\n"
     ]
    }
   ],
   "source": [
    "# makes iterable from start value by step which is too may be defined as arg\n",
    "from itertools import count\n",
    "\n",
    "for step in count(start=0,step=5):\n",
    "    if step >= 30:\n",
    "        break\n",
    "    print(step)"
   ]
  },
  {
   "cell_type": "code",
   "execution_count": 9,
   "id": "8eeb7328-a3fb-46bf-a39c-24ef35d60c75",
   "metadata": {},
   "outputs": [
    {
     "name": "stdout",
     "output_type": "stream",
     "text": [
      "A         B         C         D         E         A         B         C         D         E         A         B         C         D         E         A         B         C         D         E         A         B         C         D         E         A         B         C         D         E         A         X  X  X  X  X  X  X  X  X  X  "
     ]
    }
   ],
   "source": [
    "# This is infinite iterator (will be cycled infinity times)\n",
    "from itertools import cycle\n",
    "\n",
    "\n",
    "counter = 0\n",
    "\n",
    "\n",
    "for i in cycle('ABCDE'):\n",
    "    if counter > 30:\n",
    "        break\n",
    "    else:\n",
    "        print(i, end=\"         \")\n",
    "        counter += 1\n",
    "# Or such way\n",
    "for i in range(10):\n",
    "    print(next(cycle('XYZ')),end=\"  \")"
   ]
  },
  {
   "cell_type": "code",
   "execution_count": 15,
   "id": "de5ed6b1-711b-45fc-b51b-ed26ffdb2b3a",
   "metadata": {},
   "outputs": [
    {
     "name": "stdout",
     "output_type": "stream",
     "text": [
      "[['---=*=---'], ['---=*=---'], ['---=*=---'], ['---=*=---']]\n"
     ]
    }
   ],
   "source": [
    "# repeat(val, num): This iterator repeatedly prints \n",
    "# the passed value an infinite number of times. If the optional keyword num is mentioned, \n",
    "# then it repeatedly prints num number of times.\n",
    "from itertools import repeat\n",
    "\n",
    "print(list(repeat(['---=*=---'],4)))"
   ]
  },
  {
   "cell_type": "markdown",
   "id": "a19de1d0-f901-435c-aee5-1b17229116b3",
   "metadata": {},
   "source": [
    "Combinatoric iterators"
   ]
  },
  {
   "cell_type": "markdown",
   "id": "e4eb56ef-2e33-4e67-b11b-c512af44f964",
   "metadata": {},
   "source": [
    "# Cartesian products - Декартовы произведения\n",
    "Посути комбинации всех вариантов перестановок"
   ]
  },
  {
   "cell_type": "code",
   "execution_count": 35,
   "id": "5ed83adc-1f7b-4307-8499-bd633732d779",
   "metadata": {},
   "outputs": [
    {
     "name": "stdout",
     "output_type": "stream",
     "text": [
      "('A', 'A') ('A', 'B') ('A', 'C') ('B', 'A') ('B', 'B') ('B', 'C') ('C', 'A') ('C', 'B') ('C', 'C')\n",
      "\n",
      "\n",
      "('X', 1, 'X', 1) ('X', 1, 'X', 2) ('X', 1, 'X', 3) ('X', 1, 'X', '*') ('X', 1, 'Y', 1) ('X', 1, 'Y', 2) ('X', 1, 'Y', 3) ('X', 1, 'Y', '*') ('X', 2, 'X', 1) ('X', 2, 'X', 2) ('X', 2, 'X', 3) ('X', 2, 'X', '*') ('X', 2, 'Y', 1) ('X', 2, 'Y', 2) ('X', 2, 'Y', 3) ('X', 2, 'Y', '*') ('X', 3, 'X', 1) ('X', 3, 'X', 2) ('X', 3, 'X', 3) ('X', 3, 'X', '*') ('X', 3, 'Y', 1) ('X', 3, 'Y', 2) ('X', 3, 'Y', 3) ('X', 3, 'Y', '*') ('X', '*', 'X', 1) ('X', '*', 'X', 2) ('X', '*', 'X', 3) ('X', '*', 'X', '*') ('X', '*', 'Y', 1) ('X', '*', 'Y', 2) ('X', '*', 'Y', 3) ('X', '*', 'Y', '*') ('Y', 1, 'X', 1) ('Y', 1, 'X', 2) ('Y', 1, 'X', 3) ('Y', 1, 'X', '*') ('Y', 1, 'Y', 1) ('Y', 1, 'Y', 2) ('Y', 1, 'Y', 3) ('Y', 1, 'Y', '*') ('Y', 2, 'X', 1) ('Y', 2, 'X', 2) ('Y', 2, 'X', 3) ('Y', 2, 'X', '*') ('Y', 2, 'Y', 1) ('Y', 2, 'Y', 2) ('Y', 2, 'Y', 3) ('Y', 2, 'Y', '*') ('Y', 3, 'X', 1) ('Y', 3, 'X', 2) ('Y', 3, 'X', 3) ('Y', 3, 'X', '*') ('Y', 3, 'Y', 1) ('Y', 3, 'Y', 2) ('Y', 3, 'Y', 3) ('Y', 3, 'Y', '*') ('Y', '*', 'X', 1) ('Y', '*', 'X', 2) ('Y', '*', 'X', 3) ('Y', '*', 'X', '*') ('Y', '*', 'Y', 1) ('Y', '*', 'Y', 2) ('Y', '*', 'Y', 3) ('Y', '*', 'Y', '*')\n"
     ]
    }
   ],
   "source": [
    "from itertools import product\n",
    "\n",
    "\n",
    "print(*product(['A','B','C'],repeat=2))\n",
    "print()\n",
    "print()\n",
    "print(*product('XY',[1,2,3,'*'],repeat=2))\n"
   ]
  },
  {
   "cell_type": "code",
   "execution_count": 45,
   "id": "e4c20d6c-a215-4c19-86d0-fcb60c2ce82c",
   "metadata": {},
   "outputs": [
    {
     "name": "stdout",
     "output_type": "stream",
     "text": [
      "('T', 'U', 'V') ('T', 'V', 'U') ('U', 'T', 'V') ('U', 'V', 'T') ('V', 'T', 'U') ('V', 'U', 'T')\n"
     ]
    }
   ],
   "source": [
    "from itertools import permutations\n",
    "\n",
    "print(*permutations(['T','U','V']))"
   ]
  },
  {
   "cell_type": "code",
   "execution_count": 67,
   "id": "e4ec4896-9901-419e-8c9b-ccded61ea6c3",
   "metadata": {},
   "outputs": [
    {
     "name": "stdout",
     "output_type": "stream",
     "text": [
      "(0, 1, 4, 5)\n"
     ]
    }
   ],
   "source": [
    "from itertools import combinations\n",
    "\n",
    "mnog = [0,1,4,5]\n",
    "\n",
    "print(*combinations(mnog,len(mnog)))"
   ]
  },
  {
   "cell_type": "code",
   "execution_count": 68,
   "id": "0be5ebc5-f1fe-44d8-89a9-c4a5f94e3963",
   "metadata": {},
   "outputs": [],
   "source": [
    "from itertools import combinations_with_replacement as cwr\n",
    "\n"
   ]
  },
  {
   "cell_type": "code",
   "execution_count": 38,
   "id": "de586677-517c-4479-afd7-0774d330d899",
   "metadata": {},
   "outputs": [
    {
     "name": "stdout",
     "output_type": "stream",
     "text": [
      "('s', 1) ('d', 2) ('f', 43) ('g', 5) ('h', 6) ('j', None) ('v', None)\n"
     ]
    }
   ],
   "source": [
    "import itertools as itt\n",
    "days = [366] * 4\n",
    "list(zip(itt.count(2024,3), days))\n",
    "\n",
    "zpd = itt.zip_longest([*'sdfghjv'],[1,2,43,5,6])\n",
    "\n",
    "print(*zpd)"
   ]
  },
  {
   "cell_type": "code",
   "execution_count": 3,
   "id": "4aab200f-c19f-49c6-92c8-d50b7d29d70c",
   "metadata": {},
   "outputs": [
    {
     "name": "stdout",
     "output_type": "stream",
     "text": [
      "0\n",
      "50\n",
      "100\n",
      "150\n",
      "200\n",
      "250\n",
      "300\n",
      "350\n",
      "400\n",
      "450\n"
     ]
    }
   ],
   "source": [
    "import itertools as itt\n",
    "#Ittertools Module - count: from start to inf by one step\n",
    "\n",
    "count = itt.count(start=0,step=50)\n",
    "\n",
    "for ix in count:\n",
    "    if ix >= 500:\n",
    "        break\n",
    "    print(ix)"
   ]
  },
  {
   "cell_type": "code",
   "execution_count": 27,
   "id": "fa9f6854-376f-416b-8493-fcab2e5102e0",
   "metadata": {},
   "outputs": [
    {
     "name": "stdout",
     "output_type": "stream",
     "text": [
      "one\n",
      "two\n",
      "three\n",
      "four\n",
      "one\n",
      "two\n",
      "three\n",
      "four\n",
      "one\n",
      "two\n",
      "three\n",
      "four\n",
      "one\n",
      "two\n",
      "three\n",
      "four\n",
      "one\n",
      "two\n",
      "three\n",
      "four\n",
      "one\n",
      "two\n",
      "three\n",
      "four\n",
      "one\n",
      "two\n",
      "three\n",
      "four\n",
      "one\n",
      "two\n",
      "three\n",
      "four\n",
      "one\n",
      "two\n",
      "three\n",
      "four\n",
      "one\n",
      "two\n",
      "three\n",
      "four\n",
      "one\n",
      "two\n",
      "three\n",
      "four\n",
      "one\n",
      "two\n",
      "three\n",
      "four\n",
      "one\n",
      "two\n",
      "three\n",
      "four\n",
      "one\n",
      "two\n",
      "three\n",
      "four\n",
      "one\n",
      "two\n",
      "three\n",
      "four\n",
      "one\n",
      "two\n",
      "three\n",
      "four\n",
      "one\n",
      "two\n",
      "three\n",
      "four\n",
      "one\n",
      "two\n",
      "three\n",
      "four\n",
      "one\n",
      "two\n",
      "three\n",
      "four\n",
      "one\n",
      "two\n",
      "three\n",
      "four\n",
      "one\n",
      "two\n",
      "three\n",
      "four\n",
      "one\n",
      "two\n",
      "three\n",
      "four\n",
      "one\n",
      "two\n",
      "three\n",
      "four\n",
      "one\n",
      "two\n",
      "three\n",
      "four\n",
      "one\n",
      "two\n",
      "three\n",
      "four\n"
     ]
    }
   ],
   "source": [
    "# This equivalent to \n",
    "import itertools as itt\n",
    "lst = ['one','two','three','++']\n",
    "\n",
    "def cycler(iterable):\n",
    "    saved = []\n",
    "    for one in iterable:\n",
    "        yield one\n",
    "        saved.append(one)\n",
    "    while saved:\n",
    "        for elem in saved:\n",
    "            yield elem\n",
    "gg = cycler(lst)\n",
    "\n",
    "\n",
    "\n",
    "for i in range(100):\n",
    "    print(next(gg))\n",
    "# next(gg)\n",
    "# next(gg)\n",
    "# next(gg)\n",
    "# next(gg)\n",
    "# next(gg)\n",
    "# next(gg)\n",
    "# next(gg)\n",
    "# next(gg)\n",
    "# next(gg)\n",
    "# next(gg)\n",
    "# next(gg)\n",
    "    "
   ]
  },
  {
   "cell_type": "code",
   "execution_count": null,
   "id": "d5983fc8-70f7-4243-9fdf-7581544d5dc3",
   "metadata": {},
   "outputs": [],
   "source": []
  }
 ],
 "metadata": {
  "kernelspec": {
   "display_name": "Python 3 (ipykernel)",
   "language": "python",
   "name": "python3"
  },
  "language_info": {
   "codemirror_mode": {
    "name": "ipython",
    "version": 3
   },
   "file_extension": ".py",
   "mimetype": "text/x-python",
   "name": "python",
   "nbconvert_exporter": "python",
   "pygments_lexer": "ipython3",
   "version": "3.13.0a6"
  }
 },
 "nbformat": 4,
 "nbformat_minor": 5
}
