{
 "cells": [
  {
   "cell_type": "code",
   "execution_count": null,
   "id": "7d0eb9f9-e4d3-4921-9d3c-cdc11a5a10d5",
   "metadata": {},
   "outputs": [],
   "source": [
    "# Here is most beautiful code lines that i'll get for my practice\n",
    "\n"
   ]
  },
  {
   "cell_type": "code",
   "execution_count": null,
   "id": "64a7086d-e5c5-466c-8d2d-6296ec29203c",
   "metadata": {},
   "outputs": [],
   "source": [
    "# Variable defining with if else statement\n",
    "\n",
    "from collections import namedtuple\n",
    "\n",
    "one = namedtuple('One','data age')\n",
    "two = namedtuple('Two','data age')\n",
    "X = one('XXX',17)\n",
    "Y = one('YYY',44)\n",
    "\n",
    "# L O O K   O N   I T \n",
    "valid = X if X.age < 15 else Y\n",
    "\n",
    "valid"
   ]
  }
 ],
 "metadata": {
  "kernelspec": {
   "display_name": "Python 3 (ipykernel)",
   "language": "python",
   "name": "python3"
  },
  "language_info": {
   "codemirror_mode": {
    "name": "ipython",
    "version": 3
   },
   "file_extension": ".py",
   "mimetype": "text/x-python",
   "name": "python",
   "nbconvert_exporter": "python",
   "pygments_lexer": "ipython3",
   "version": "3.9.6"
  }
 },
 "nbformat": 4,
 "nbformat_minor": 5
}
