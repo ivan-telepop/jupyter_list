{
 "cells": [
  {
   "cell_type": "code",
   "execution_count": null,
   "id": "8789ae1e-9b17-4cf0-9980-b48ac3977838",
   "metadata": {},
   "outputs": [],
   "source": [
    "# Модуль locale открывает доступ к базе данных локали POSIX и ее функциональности.\n",
    "\n",
    "\n",
    "# POSIX — набор стандартов, описывающих интерфейсы между операционной системой и прикладной программой, \n",
    "# библиотеку языка C и набор приложений и их интерфейсов The Portable Operating System Interface\n",
    "\n",
    "# Все что работает в ПК оно работает по стандартам определенным в POSIX.\n",
    "# If you have a time to read about lets look this \n",
    "#    link https://www.gnu.org/software/libc/manual/html_node/POSIX.html\n",
    "\n",
    "\n",
    "# Почитай по случаю тут про эту тему https://docs-python.ru/standart-library/modul-locale-python/drugie-funktsii-modulja-locale/#locale.delocalize"
   ]
  },
  {
   "cell_type": "code",
   "execution_count": 12,
   "id": "6ac4d27b-f75e-4228-bc10-afdeb20650dd",
   "metadata": {},
   "outputs": [
    {
     "name": "stdout",
     "output_type": "stream",
     "text": [
      "<class 'float'>\n",
      "['__abs__', '__add__', '__and__', '__bool__', '__ceil__', '__class__', '__delattr__', '__dir__', '__divmod__', '__doc__', '__eq__', '__float__', '__floor__', '__floordiv__', '__format__', '__ge__', '__getattribute__', '__getnewargs__', '__getstate__', '__gt__', '__hash__', '__index__', '__init__', '__init_subclass__', '__int__', '__invert__', '__le__', '__lshift__', '__lt__', '__mod__', '__mul__', '__ne__', '__neg__', '__new__', '__or__', '__pos__', '__pow__', '__radd__', '__rand__', '__rdivmod__', '__reduce__', '__reduce_ex__', '__repr__', '__rfloordiv__', '__rlshift__', '__rmod__', '__rmul__', '__ror__', '__round__', '__rpow__', '__rrshift__', '__rshift__', '__rsub__', '__rtruediv__', '__rxor__', '__setattr__', '__sizeof__', '__str__', '__sub__', '__subclasshook__', '__truediv__', '__trunc__', '__xor__', 'as_integer_ratio', 'bit_count', 'bit_length', 'conjugate', 'denominator', 'from_bytes', 'imag', 'is_integer', 'numerator', 'real', 'to_bytes']\n"
     ]
    }
   ],
   "source": [
    "import locale\n",
    "st1 = 'abcde'\n",
    "st2 = 'abced'\n",
    "\n",
    "locale.strcoll(st1,st2)\n",
    "\n",
    "\n",
    "print(type(locale.atof('667')))\n",
    "\n",
    "\n",
    "\n",
    "print(dir(locale.LC_ALL))"
   ]
  }
 ],
 "metadata": {
  "kernelspec": {
   "display_name": "Python 3 (ipykernel)",
   "language": "python",
   "name": "python3"
  },
  "language_info": {
   "codemirror_mode": {
    "name": "ipython",
    "version": 3
   },
   "file_extension": ".py",
   "mimetype": "text/x-python",
   "name": "python",
   "nbconvert_exporter": "python",
   "pygments_lexer": "ipython3",
   "version": "3.13.0a6"
  }
 },
 "nbformat": 4,
 "nbformat_minor": 5
}
