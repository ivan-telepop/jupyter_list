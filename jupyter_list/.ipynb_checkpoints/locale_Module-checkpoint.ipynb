{
 "cells": [
  {
   "cell_type": "code",
   "execution_count": 1,
   "id": "4e8847e9-666a-4fb3-8585-cabddd57cf2d",
   "metadata": {},
   "outputs": [
    {
     "ename": "SyntaxError",
     "evalue": "invalid syntax (3327463961.py, line 7)",
     "output_type": "error",
     "traceback": [
      "\u001b[0;36m  Cell \u001b[0;32mIn[1], line 7\u001b[0;36m\u001b[0m\n\u001b[0;31m    =======\u001b[0m\n\u001b[0m    ^\u001b[0m\n\u001b[0;31mSyntaxError\u001b[0m\u001b[0;31m:\u001b[0m invalid syntax\n"
     ]
    }
   ],
   "source": [
    "# Модуль locale открывает доступ к базе данных локали POSIX и ее функциональности. \n",
    "# Механизм локализации POSIX позволяет решать определенные региональные настройки и стандарты в \n",
    "# приложении, не требуя, \n",
    "# чтобы программист знал особенности страны, где выполняется программное обеспечение.\n",
    "# Модуль locale реализован поверх модуля _locale, который, в свою очередь, использует реализацию локали ANSI языка C, если она доступна.\n",
    "\n",
    "# =======\n",
    "\n",
    "# Содержание:\n",
    "# Свойство locale.LC_CTYPE\n",
    "# Свойство locale.LC_COLLATE\n",
    "# Свойство locale.LC_TIME\n",
    "# Свойство locale.LC_MONETARY\n",
    "# Свойство locale.LC_MESSAGES\n",
    "# Свойство locale.LC_NUMERIC\n",
    "# Свойство locale.LC_ALL\n",
    "\n",
    "\n",
    "# locale.LC_CTYPE:\n",
    "# Свойство locale.LC_CTYPE отвечает за функций обрабатывающие строки и символы. В зависимости от настройки данной категории, функции модуля string могут менять свое поведение.\n",
    "# locale.LC_COLLATE:\n",
    "# Свойство locale.LC_COLLATE отвечает за сортировку строк. Влияет на функции locale.strcoll() и locale.strxfrm() модуля локали.\n",
    "# locale.LC_TIME:\n",
    "# Категория locale.LC_TIME отвечает за форматирование времени. Функция time.strftime() следует этим соглашениям\n",
    "# locale.LC_MONETARY:\n",
    "# Категория locale.LC_MONETARY отвечает за форматирование денежных значений. Доступные опции для использования можно посмотреть в функции locale.localeconv().\n",
    "# locale.LC_MESSAGES:\n",
    "# Категория locale.LC_MESSAGES отвечает за отображение сообщения. Python в настоящее время не поддерживает сообщения для конкретных локалей. Только сообщения, отображаемые операционной системой могут быть затронуты этой категорией.\n",
    "# locale.LC_NUMERIC:\n",
    "# Категория locale.LC_NUMERIC отвечает за форматирование чисел. Функции locale.format(), locale.atoi(), locale.atof() и locale.str() модуля locale зависят от этой категории. Все остальные операции форматирования чисел не затрагиваются.\n",
    "# locale.LC_ALL:\n",
    "# Категория locale.LC_ALL это сочетание всех настроек локали.\n",
    "# Если этот флаг используется при изменении локали, делается попытка установить локаль для всех категорий.\n",
    "# Если это не удается для какой-либо категории, ни одна категория не изменяется вообще.\n",
    "# Когда локаль извлекается с использованием этого флага, возвращается строка, указывающая настройку для всех категорий. Эта строка может быть позже использована для восстановления настроек."
   ]
  },
  {
   "cell_type": "code",
   "execution_count": null,
   "id": "8789ae1e-9b17-4cf0-9980-b48ac3977838",
   "metadata": {},
   "outputs": [],
   "source": [
    "# Модуль locale открывает доступ к базе данных локали POSIX и ее функциональности.\n",
    "\n",
    "\n",
    "# POSIX — набор стандартов, описывающих интерфейсы между операционной системой и прикладной программой, \n",
    "# библиотеку языка C и набор приложений и их интерфейсов The Portable Operating System Interface\n",
    "\n",
    "# Все что работает в ПК оно работает по стандартам определенным в POSIX.\n",
    "# If you have a time to read about lets look this \n",
    "#    link https://www.gnu.org/software/libc/manual/html_node/POSIX.html\n",
    "\n",
    "\n",
    "# Почитай по случаю тут про эту тему https://docs-python.ru/standart-library/modul-locale-python/drugie-funktsii-modulja-locale/#locale.delocalize"
   ]
  },
  {
   "cell_type": "code",
   "execution_count": 12,
   "id": "6ac4d27b-f75e-4228-bc10-afdeb20650dd",
   "metadata": {},
   "outputs": [
    {
     "name": "stdout",
     "output_type": "stream",
     "text": [
      "<class 'float'>\n",
      "['__abs__', '__add__', '__and__', '__bool__', '__ceil__', '__class__', '__delattr__', '__dir__', '__divmod__', '__doc__', '__eq__', '__float__', '__floor__', '__floordiv__', '__format__', '__ge__', '__getattribute__', '__getnewargs__', '__getstate__', '__gt__', '__hash__', '__index__', '__init__', '__init_subclass__', '__int__', '__invert__', '__le__', '__lshift__', '__lt__', '__mod__', '__mul__', '__ne__', '__neg__', '__new__', '__or__', '__pos__', '__pow__', '__radd__', '__rand__', '__rdivmod__', '__reduce__', '__reduce_ex__', '__repr__', '__rfloordiv__', '__rlshift__', '__rmod__', '__rmul__', '__ror__', '__round__', '__rpow__', '__rrshift__', '__rshift__', '__rsub__', '__rtruediv__', '__rxor__', '__setattr__', '__sizeof__', '__str__', '__sub__', '__subclasshook__', '__truediv__', '__trunc__', '__xor__', 'as_integer_ratio', 'bit_count', 'bit_length', 'conjugate', 'denominator', 'from_bytes', 'imag', 'is_integer', 'numerator', 'real', 'to_bytes']\n"
     ]
    }
   ],
   "source": [
    "import locale\n",
    "st1 = 'abcde'\n",
    "st2 = 'abced'\n",
    "\n",
    "locale.strcoll(st1,st2)\n",
    "\n",
    "\n",
    "print(type(locale.atof('667')))\n",
    "\n",
    "\n",
    "\n",
    "print(dir(locale.LC_ALL))"
   ]
  }
 ],
 "metadata": {
  "kernelspec": {
   "display_name": "Python 3 (ipykernel)",
   "language": "python",
   "name": "python3"
  },
  "language_info": {
   "codemirror_mode": {
    "name": "ipython",
    "version": 3
   },
   "file_extension": ".py",
   "mimetype": "text/x-python",
   "name": "python",
   "nbconvert_exporter": "python",
   "pygments_lexer": "ipython3",
   "version": "3.9.6"
  }
 },
 "nbformat": 4,
 "nbformat_minor": 5
}
