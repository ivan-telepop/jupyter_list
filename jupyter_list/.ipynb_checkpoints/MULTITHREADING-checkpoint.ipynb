{
 "cells": [
  {
   "cell_type": "code",
   "execution_count": 16,
   "id": "79909064-edf3-40d3-a1ba-41eab03ac851",
   "metadata": {},
   "outputs": [
    {
     "name": "stderr",
     "output_type": "stream",
     "text": [
      "Exception in thread Thread-49:\n",
      "Traceback (most recent call last):\n",
      "  File \"/Library/Developer/CommandLineTools/Library/Frameworks/Python3.framework/Versions/3.9/lib/python3.9/threading.py\", line 973, in _bootstrap_inner\n",
      "Exception in thread Thread-51:\n",
      "Traceback (most recent call last):\n",
      "  File \"/Library/Developer/CommandLineTools/Library/Frameworks/Python3.framework/Versions/3.9/lib/python3.9/threading.py\", line 973, in _bootstrap_inner\n",
      "    self.run()\n",
      "  File \"/Users/ewan/Library/Python/3.9/lib/python/site-packages/ipykernel/ipkernel.py\", line 766, in run_closure\n",
      "    self.run()\n",
      "  File \"/Users/ewan/Library/Python/3.9/lib/python/site-packages/ipykernel/ipkernel.py\", line 766, in run_closure\n",
      "    _threading_Thread_run(self)\n",
      "  File \"/Library/Developer/CommandLineTools/Library/Frameworks/Python3.framework/Versions/3.9/lib/python3.9/threading.py\", line 910, in run\n",
      "    _threading_Thread_run(self)\n",
      "  File \"/Library/Developer/CommandLineTools/Library/Frameworks/Python3.framework/Versions/3.9/lib/python3.9/threading.py\", line 910, in run\n",
      "    self._target(*self._args, **self._kwargs)\n",
      "  File \"/var/folders/tt/cxpr3lq5703f6cpyw7pxlscm0000gn/T/ipykernel_4711/118709207.py\", line 6, in print_cube\n",
      "    self._target(*self._args, **self._kwargs)\n",
      "  File \"/var/folders/tt/cxpr3lq5703f6cpyw7pxlscm0000gn/T/ipykernel_4711/118709207.py\", line 6, in print_cube\n",
      "AttributeError: 'str' object has no attribute 'calc'\n",
      "AttributeError: 'str' object has no attribute 'calc'\n"
     ]
    },
    {
     "name": "stdout",
     "output_type": "stream",
     "text": [
      "Square valuse is: Square valuse is:  660806.4099999999\n",
      " 163.84000000000003\n",
      "Executed\n"
     ]
    }
   ],
   "source": [
    "import threading\n",
    "\n",
    "\n",
    "def print_cube(val) -> float:\n",
    "    calc = val * val * val\n",
    "    print(\"Cube value is: \",calc)\n",
    "\n",
    "\n",
    "def print_square(num) -> float:\n",
    "    print(\"Square valuse is: \",num * num)\n",
    "\n",
    "tr1 = threading.Thread(target=print_cube, args=(42.7,))\n",
    "tr2 = threading.Thread(target=print_square, args=(12.8,))\n",
    "tr3 = threading.Thread(target=print_cube, args=(52.7,))\n",
    "tr4 = threading.Thread(target=print_square, args=(812.9,))\n",
    "\n",
    "\n",
    "\n",
    "tr1.start()\n",
    "tr2.start()\n",
    "tr3.start()\n",
    "tr4.start()\n",
    "\n",
    "\n",
    "tr1.join()\n",
    "tr2.join()\n",
    "tr3.join()\n",
    "tr4.join()\n",
    "\n",
    "print(\"Executed\")\n",
    "\n"
   ]
  }
 ],
 "metadata": {
  "kernelspec": {
   "display_name": "Python 3 (ipykernel)",
   "language": "python",
   "name": "python3"
  },
  "language_info": {
   "codemirror_mode": {
    "name": "ipython",
    "version": 3
   },
   "file_extension": ".py",
   "mimetype": "text/x-python",
   "name": "python",
   "nbconvert_exporter": "python",
   "pygments_lexer": "ipython3",
   "version": "3.9.6"
  }
 },
 "nbformat": 4,
 "nbformat_minor": 5
}
