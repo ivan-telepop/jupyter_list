{
 "cells": [
  {
   "cell_type": "code",
   "execution_count": null,
   "id": "ad5941a7-a01e-40fb-9aa6-fcd216e26c6e",
   "metadata": {},
   "outputs": [],
   "source": [
    "# ORJSON -- https://github.com/ijl/orjson#quickstart     LOOK ON IT !!! It has NUMPY Serializer and not only"
   ]
  },
  {
   "cell_type": "code",
   "execution_count": 5,
   "id": "067ba15e-5e44-443e-9112-cc4ee2eeffdf",
   "metadata": {},
   "outputs": [
    {
     "data": {
      "text/plain": [
       "list"
      ]
     },
     "execution_count": 5,
     "metadata": {},
     "output_type": "execute_result"
    }
   ],
   "source": [
    "# BASIC USAGE\n",
    "\n",
    "# IMPORTANT - The RFC specifies that the names within a JSON object should be unique\n",
    "\n",
    "import json\n",
    "\n",
    "pitonic = [\"hello\",\"i\",\"pythonic\",\"object\",2,7,4,2]\n",
    "\n",
    "jsoned = json.dumps(pitonic)\n",
    "\n",
    "# fro\n",
    "py = json.loads(jsoned)\n",
    "type(py)"
   ]
  },
  {
   "cell_type": "code",
   "execution_count": 6,
   "id": "c5b53fc2-71f7-40ac-a5c0-3c5c5b4524e9",
   "metadata": {},
   "outputs": [
    {
     "data": {
      "text/plain": [
       "[{'id': 1, 'name': 'Alanis Morisette', 'alias': 'Künstler', 'genre': 'tech'},\n",
       " {'id': 2, 'name': 'Afex Twin', 'alias': 'Artist', 'genre': 'tech'}]"
      ]
     },
     "execution_count": 6,
     "metadata": {},
     "output_type": "execute_result"
    }
   ],
   "source": [
    "# PARAMS - json.dumps(pytonic, sort_keys=True, indent=4)\n",
    "\n",
    "# typical python object - dict\n",
    "pydict = [\n",
    "  {\n",
    "    \"id\": 1,\n",
    "    \"name\": \"Alanis Morisette\",\n",
    "    \"alias\": \"Künstler\",\n",
    "    \"genre\": \"tech\"\n",
    "  },\n",
    "  {\n",
    "    \"id\": 2,\n",
    "    \"name\": \"Afex Twin\",\n",
    "    \"alias\": \"Artist\",\n",
    "    \"genre\": \"techno\"\n",
    "  },\n",
    "]\n",
    "\n",
    "pydict"
   ]
  },
  {
   "cell_type": "code",
   "execution_count": 15,
   "id": "33f52485-3da0-4e14-9662-f588be1f2c3d",
   "metadata": {},
   "outputs": [
    {
     "data": {
      "text/plain": [
       "'[{\"alias\": \"K\\\\u00fcnstler\", \"genre\": \"tech\", \"id\": 1, \"name\": \"Alanis Morisette\"}, {\"alias\": \"Artist\", \"genre\": \"tech\", \"id\": 2, \"name\": \"Afex Twin\"}]'"
      ]
     },
     "execution_count": 15,
     "metadata": {},
     "output_type": "execute_result"
    }
   ],
   "source": [
    "js_string = json.dumps(pydict,sort_keys=True,indent=None) \n",
    "\n",
    "js_string"
   ]
  },
  {
   "cell_type": "code",
   "execution_count": 50,
   "id": "64118749-72c0-489a-bf13-a7ae095cb91b",
   "metadata": {},
   "outputs": [
    {
     "name": "stdout",
     "output_type": "stream",
     "text": [
      "\"Hello from the edge\"\n"
     ]
    }
   ],
   "source": [
    "# DUMP - Параметры:\n",
    "# json.dump(pythonic, file)\n",
    "# эта штука пишет питонячий объект в открытый файл или буферину.\n",
    "# obj - объект Python,\n",
    "# fp - поток в формате JSON,\n",
    "# skipkeys=False - игнорирование неизвестных типов ключей в словарях,\n",
    "# ensure_ascii=True - экранирование не-ASCII символов,\n",
    "# check_circular=True - проверка циклических ссылок,\n",
    "# allow_nan=True - представление значений nan, inf, -inf в JSON,\n",
    "# cls=None - метод, для сериализации дополнительных типов,\n",
    "# indent=None - количество отступов при сериализации,\n",
    "# separators=None - разделители используемые в JSON,\n",
    "# default=None - пользовательская функция для объектов, которые не могут быть сериализованы,\n",
    "# sort_keys=False - сортировка словарей на выходе.\n",
    "\n",
    "\n",
    "import time\n",
    "from io import StringIO\n",
    "\n",
    "texted = \"Hello from the edge\"\n",
    "\n",
    "with StringIO() as fp:\n",
    "    json.dump(texted,fp)\n",
    "    time.sleep(1)\n",
    "    print(fp.getvalue())\n",
    "    \n",
    "    "
   ]
  },
  {
   "cell_type": "markdown",
   "id": "47c92308-8ab1-41da-b876-c4088de8a719",
   "metadata": {},
   "source": [
    "Сопоставление с отображением-образцом\n",
    "101 page book python"
   ]
  },
  {
   "cell_type": "code",
   "execution_count": 3,
   "id": "7fbae9ad-7614-44cb-99d3-99a7c4acef0f",
   "metadata": {},
   "outputs": [],
   "source": [
    "# This is good for retrieving list of values from DB or any JSON\n",
    "\n",
    "# def get_creators(record: dict) -> list:\n",
    "#        match record:\n",
    "#            case {'type': 'book', 'api': 2, 'authors': [*names]}:\n",
    "#                return names\n",
    "#            case {'type': 'book', 'api': 1, 'author': name}:\n",
    "#                return [name]\n",
    "#             case {'type': 'book'}:\n",
    "#                raise ValueError(f\"Invalid 'book' record: {record!r}\")\n",
    "#             case {'type': 'movie', 'director': name}: \n",
    "#                return [name]\n",
    "#             case _:\n",
    "#                 raise ValueError(f'Invalid record: {record! r}')"
   ]
  }
 ],
 "metadata": {
  "kernelspec": {
   "display_name": "Python 3 (ipykernel)",
   "language": "python",
   "name": "python3"
  },
  "language_info": {
   "codemirror_mode": {
    "name": "ipython",
    "version": 3
   },
   "file_extension": ".py",
   "mimetype": "text/x-python",
   "name": "python",
   "nbconvert_exporter": "python",
   "pygments_lexer": "ipython3",
   "version": "3.9.6"
  }
 },
 "nbformat": 4,
 "nbformat_minor": 5
}
