{
 "cells": [
  {
   "cell_type": "code",
   "execution_count": 1,
   "id": "b1fd5901-2ca7-45a7-98d0-a25aa947edd6",
   "metadata": {},
   "outputs": [
    {
     "name": "stdin",
     "output_type": "stream",
     "text": [
      "xxx ppp\n"
     ]
    },
    {
     "data": {
      "text/plain": [
       "'xxx'"
      ]
     },
     "execution_count": 1,
     "metadata": {},
     "output_type": "execute_result"
    }
   ],
   "source": [
    "import contextvars\n",
    "\n",
    "\n",
    "def mc(a):\n",
    "    val = input(a)\n",
    "    return val\n",
    "\n",
    "\n",
    "mc(\"xxx\")"
   ]
  }
 ],
 "metadata": {
  "kernelspec": {
   "display_name": "Python 3 (ipykernel)",
   "language": "python",
   "name": "python3"
  },
  "language_info": {
   "codemirror_mode": {
    "name": "ipython",
    "version": 3
   },
   "file_extension": ".py",
   "mimetype": "text/x-python",
   "name": "python",
   "nbconvert_exporter": "python",
   "pygments_lexer": "ipython3",
   "version": "3.13.0a6"
  }
 },
 "nbformat": 4,
 "nbformat_minor": 5
}
