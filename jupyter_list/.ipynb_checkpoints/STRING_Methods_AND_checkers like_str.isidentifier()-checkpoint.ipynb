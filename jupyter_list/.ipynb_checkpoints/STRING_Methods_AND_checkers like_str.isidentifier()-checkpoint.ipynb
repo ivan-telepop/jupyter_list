{
 "cells": [
  {
   "cell_type": "code",
   "execution_count": 1,
   "id": "47f52dbd",
   "metadata": {},
   "outputs": [
    {
     "data": {
      "text/plain": [
       "{'id_port': 16, 'c_x': 25, 'c_y': 0.45, 'height': 66, 'width': 109}"
      ]
     },
     "execution_count": 1,
     "metadata": {},
     "output_type": "execute_result"
    }
   ],
   "source": [
    "dict_data = {'id_port': 16,'c_x': 25,'c_y': 0.45,'height': 66,'width': 109}\n",
    "dict_data"
   ]
  },
  {
   "cell_type": "code",
   "execution_count": 2,
   "id": "4d406c40",
   "metadata": {},
   "outputs": [
    {
     "ename": "SyntaxError",
     "evalue": "unterminated string literal (detected at line 1) (3680147870.py, line 1)",
     "output_type": "error",
     "traceback": [
      "\u001b[0;36m  Cell \u001b[0;32mIn[2], line 1\u001b[0;36m\u001b[0m\n\u001b[0;31m    myStr = \"{\"id_port\": 0, \"c_x\": 88, \"c_y\": 467, \"height\": 632, \"width\": 813}\u001b[0m\n\u001b[0m                                                                        ^\u001b[0m\n\u001b[0;31mSyntaxError\u001b[0m\u001b[0;31m:\u001b[0m unterminated string literal (detected at line 1)\n"
     ]
    }
   ],
   "source": [
    "myStr = \" {\"id_port\": 4, \"c_x\": 393, \"c_y\": 364, \"height\": 327, \"width\": 916}\n",
    "{\"id_port\": 8, \"c_x\": 298, \"c_y\": 81, \"height\": 422, \"width\": 1199}\n",
    "{\"id_port\": 12, \"c_x\": 171, \"c_y\": 8, \"height\": 549, \"width\": 1272}\n",
    "{\"id_port\": 16, \"c_x\": 80, \"c_y\": 27, \"height\": 640, \"width\": 1253}\n",
    "{\"id_port\": 20, \"c_x\": -27, \"c_y\": 118, \"height\": 747, \"width\": 1162}\n",
    "{\"id_port\": 0, \"c_x\": 137, \"c_y\": 465, \"height\": 583, \"width\": 815}\n",
    "{\"id_port\": 4, \"c_x\": 427, \"c_y\": 360, \"height\": 293, \"width\": 920}\n",
    "{\"id_port\": 8, \"c_x\": 344, \"c_y\": 102, \"height\": 376, \"width\": 1178}\n",
    "{\"id_port\": 12, \"c_x\": 227, \"c_y\": 26, \"height\": 493, \"width\": 1254}\n",
    "{\"id_port\": 16, \"c_x\": 145, \"c_y\": 36, \"height\": 575, \"width\": 1244}\n",
    "{\"id_port\": 20, \"c_x\": -3, \"c_y\": 101, \"height\": 723, \"width\": 1179}\n",
    "{\"id_port\": 0, \"c_x\": 170, \"c_y\": 446, \"height\": 550, \"width\": 834}\n",
    "{\"id_port\": 4, \"c_x\": 455, \"c_y\": 358, \"height\": 265, \"width\": 922}\n",
    "{\"id_port\": 8, \"c_x\": 382, \"c_y\": 108, \"height\": 338, \"width\": 1172}\n",
    "{\"id_port\": 12, \"c_x\": 269, \"c_y\": 30, \"height\": 451, \"width\": 12TAB_SPACE\n",
    "50} \"\n",
    "\n",
    "myStr"
   ]
  }
 ],
 "metadata": {
  "kernelspec": {
   "display_name": "Python 3 (ipykernel)",
   "language": "python",
   "name": "python3"
  },
  "language_info": {
   "codemirror_mode": {
    "name": "ipython",
    "version": 3
   },
   "file_extension": ".py",
   "mimetype": "text/x-python",
   "name": "python",
   "nbconvert_exporter": "python",
   "pygments_lexer": "ipython3",
   "version": "3.10.13"
  }
 },
 "nbformat": 4,
 "nbformat_minor": 5
}
