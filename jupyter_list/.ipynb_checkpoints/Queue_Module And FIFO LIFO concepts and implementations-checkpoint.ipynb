{
 "cells": [
  {
   "cell_type": "code",
   "execution_count": null,
   "id": "8efb4222",
   "metadata": {},
   "outputs": [],
   "source": [
    "#https://docs-python.ru/standart-library/modul-queue-python/"
   ]
  },
  {
   "cell_type": "code",
   "execution_count": 6,
   "id": "08e7389c",
   "metadata": {},
   "outputs": [
    {
     "name": "stdout",
     "output_type": "stream",
     "text": [
      "True\n",
      "0\n",
      "1\n",
      "2\n",
      "3\n",
      "4\n",
      "5\n",
      "6\n",
      "7\n",
      "8\n",
      "9\n"
     ]
    }
   ],
   "source": [
    "import queue as q\n",
    "\n",
    "qu = q.Queue()\n",
    "print(qu.empty()) # True/false\n",
    "\n",
    "obj = {\"queue_data\": None}\n",
    "\n",
    "for i in range(10):\n",
    "    qu.put(obj[\"queue_data\"] = i)\n",
    "    \n",
    "while not qu.empty():\n",
    "    \n",
    "    print(qu.get())"
   ]
  },
  {
   "cell_type": "code",
   "execution_count": 3,
   "id": "30dbd3d1-e459-436a-9d24-a43bb554f2b2",
   "metadata": {},
   "outputs": [],
   "source": [
    "lq = q.LifoQueue()"
   ]
  }
 ],
 "metadata": {
  "kernelspec": {
   "display_name": "Python 3 (ipykernel)",
   "language": "python",
   "name": "python3"
  },
  "language_info": {
   "codemirror_mode": {
    "name": "ipython",
    "version": 3
   },
   "file_extension": ".py",
   "mimetype": "text/x-python",
   "name": "python",
   "nbconvert_exporter": "python",
   "pygments_lexer": "ipython3",
   "version": "3.13.0a6"
  }
 },
 "nbformat": 4,
 "nbformat_minor": 5
}
