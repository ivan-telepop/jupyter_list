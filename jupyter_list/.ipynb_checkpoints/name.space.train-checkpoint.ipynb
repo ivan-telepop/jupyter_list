{
 "cells": [
  {
   "cell_type": "code",
   "execution_count": null,
   "id": "cb63b62c-0efb-4bb1-9b64-883307edc4a1",
   "metadata": {},
   "outputs": [],
   "source": [
    "class Hola:\n",
    "    def __init__(self):\n",
    "        self.attr = list(None)\n",
    "        self.attr_two = dict()\n",
    "    def do_something(self):\n",
    "        doattr = True\n",
    "        def do_inside(self):\n",
    "            foo = [ f\"HOLA - {x} \" for x in attr ]\n",
    "            return foo\n",
    "\n"
   ]
  }
 ],
 "metadata": {
  "kernelspec": {
   "display_name": "Python 3 (ipykernel)",
   "language": "python",
   "name": "python3"
  },
  "language_info": {
   "codemirror_mode": {
    "name": "ipython",
    "version": 3
   },
   "file_extension": ".py",
   "mimetype": "text/x-python",
   "name": "python",
   "nbconvert_exporter": "python",
   "pygments_lexer": "ipython3",
   "version": "3.13.0a6"
  }
 },
 "nbformat": 4,
 "nbformat_minor": 5
}
