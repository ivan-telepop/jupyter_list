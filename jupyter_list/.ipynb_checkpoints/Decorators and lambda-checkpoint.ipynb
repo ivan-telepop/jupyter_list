{
 "cells": [
  {
   "cell_type": "markdown",
   "id": "fb4edb18",
   "metadata": {},
   "source": [
    "#lambda"
   ]
  },
  {
   "cell_type": "code",
   "execution_count": 1,
   "id": "d2ab3475",
   "metadata": {},
   "outputs": [
    {
     "data": {
      "text/plain": [
       "100"
      ]
     },
     "execution_count": 1,
     "metadata": {},
     "output_type": "execute_result"
    }
   ],
   "source": [
    "lam = lambda x: x**2\n",
    "\n",
    "lam(10)\n"
   ]
  },
  {
   "cell_type": "code",
   "execution_count": 2,
   "id": "93e81d10",
   "metadata": {},
   "outputs": [
    {
     "data": {
      "text/plain": [
       "True"
      ]
     },
     "execution_count": 2,
     "metadata": {},
     "output_type": "execute_result"
    }
   ],
   "source": [
    "ff = \"0\"\n",
    "res = lambda x: True if ff == \"0\" else False\n",
    "res(ff)"
   ]
  },
  {
   "cell_type": "code",
   "execution_count": 30,
   "id": "dc2d1e64",
   "metadata": {},
   "outputs": [
    {
     "data": {
      "text/plain": [
       "'I dunno'"
      ]
     },
     "execution_count": 30,
     "metadata": {},
     "output_type": "execute_result"
    }
   ],
   "source": [
    "res = lambda x,y,z: \"Fifteen\"  if x + y + z == 15  else \"I dunno\"\n",
    "\n",
    "res(5,5,2)"
   ]
  },
  {
   "cell_type": "code",
   "execution_count": 65,
   "id": "83b5e5a5",
   "metadata": {},
   "outputs": [
    {
     "name": "stdout",
     "output_type": "stream",
     "text": [
      "[2, 3, 543, 62, 4, 5, 7, 98347, 8, 52, 534, 876, 83476]\n"
     ]
    }
   ],
   "source": [
    "#   %     модуль числа - absolute value\n",
    "#   //    деление с остатком\n",
    "abc = [2,4,5,3,7,8,876,534,98347,83476,543,62,52]\n",
    "\n",
    "abc.sort(key=lambda d : d //2 % 10)\n",
    "print(abc)\n"
   ]
  },
  {
   "cell_type": "code",
   "execution_count": 78,
   "id": "e0adabb6",
   "metadata": {},
   "outputs": [
    {
     "data": {
      "text/plain": [
       "2"
      ]
     },
     "execution_count": 78,
     "metadata": {},
     "output_type": "execute_result"
    }
   ],
   "source": [
    "exs = lambda x,y : x % y\n",
    "\n",
    "exs(10,4)\n",
    "\n",
    "# делимое число - делитель \n",
    "# результат остаток"
   ]
  },
  {
   "cell_type": "code",
   "execution_count": 94,
   "id": "f0d1adac",
   "metadata": {},
   "outputs": [
    {
     "data": {
      "text/plain": [
       "[2, 1, 1, -2, -3, -3, 3]"
      ]
     },
     "execution_count": 94,
     "metadata": {},
     "output_type": "execute_result"
    }
   ],
   "source": [
    "# just interesting construct\n",
    "import random\n",
    "\n",
    "#  \n",
    "a = [random.randint(-3,3) for e in 'qwertyu']\n",
    "a"
   ]
  },
  {
   "cell_type": "code",
   "execution_count": 60,
   "id": "3e349d00",
   "metadata": {},
   "outputs": [
    {
     "name": "stdout",
     "output_type": "stream",
     "text": [
      "<second -- >\n",
      "<first -- >\n",
      "sayhello\n",
      "<first -- />\n",
      "<second -- />\n"
     ]
    }
   ],
   "source": [
    "# DECORATORS - Primitive wrapper\n",
    "\n",
    "def first(do): \n",
    "    def inner(*args,**kwargs): # Closure\n",
    "        print('<first -- >')\n",
    "        do(*args,**kwargs) # inner\n",
    "        print('<first -- />')\n",
    "    return inner\n",
    "\n",
    "def second(do): \n",
    "    def inner(*args,**kwargs): # Closure\n",
    "        print('<second -- >')\n",
    "        do(*args,**kwargs) # inner\n",
    "        print('<second -- />')\n",
    "    return inner\n",
    " \n",
    "@second\n",
    "@first\n",
    "def say():\n",
    "    print(\"sayhello\") \n",
    "    \n",
    "say()\n"
   ]
  },
  {
   "cell_type": "code",
   "execution_count": 26,
   "id": "d27f29b6",
   "metadata": {},
   "outputs": [
    {
     "name": "stdout",
     "output_type": "stream",
     "text": [
      "Upper Print\n",
      "a\n",
      "Bellow Print\n"
     ]
    }
   ],
   "source": [
    "# Second decorators - Подумать куда использовать декораторы ! - https://tproger.ru/translations/demystifying-decorators-in-python/\n",
    "# 1 - XML\n",
    "# Headers / Requests\n",
    "#\n",
    "from functools import wraps\n",
    "# Wraps переопределяет docstring и help(gg) - теперь декорируемая функция ссылается на верную докстринг\n",
    "def first(dd):\n",
    "    \"\"\"Docstring first\"\"\"\n",
    "    @wraps(dd)\n",
    "    def inner():\n",
    "        print(\"Upper Print\")\n",
    "        dd()\n",
    "        print('Bellow Print')\n",
    "    return inner\n",
    "\n",
    "\n",
    "@first \n",
    "def gg():\n",
    "    \"\"\" Here is some docstring\"\"\"\n",
    "    print('a')   \n",
    "  \n",
    "gg()\n",
    "\n",
    "    "
   ]
  },
  {
   "cell_type": "markdown",
   "id": "7c4d0679",
   "metadata": {},
   "source": [
    "Где использовать декораторы ?"
   ]
  },
  {
   "cell_type": "code",
   "execution_count": null,
   "id": "db3452e6",
   "metadata": {},
   "outputs": [],
   "source": [
    "например у нас есть что-то где нужно ...\n",
    "\n",
    "1 - открыть документ\n",
    "\n",
    "Основная - вкладываемая функция\n",
    "\n",
    "2 - закрыть документ\n",
    "\n",
    "Или например залогинится - сделать - разлогинится...\n",
    "обертки"
   ]
  },
  {
   "cell_type": "code",
   "execution_count": 10,
   "id": "75b07a31",
   "metadata": {},
   "outputs": [
    {
     "name": "stdout",
     "output_type": "stream",
     "text": [
      "I did something before - here!\n",
      "<<< i do stuff inside of wrapper !>>>\n",
      "I ended up with wrapped stuff inside !\n"
     ]
    }
   ],
   "source": [
    "\n",
    "    \n",
    "def wrapper(stuff):\n",
    "    def inner():\n",
    "        print(\"I did something before - here!\")\n",
    "        stuff()\n",
    "        print(\"I ended up with wrapped stuff inside !\")\n",
    "    return inner\n",
    "        \n",
    "    \n",
    "    \n",
    "@wrapper\n",
    "def do_stuff():\n",
    "    print(\"<<< i do stuff inside of wrapper !>>>\")\n",
    "    \n",
    "do_stuff()"
   ]
  },
  {
   "cell_type": "code",
   "execution_count": 11,
   "id": "aa81d241",
   "metadata": {},
   "outputs": [
    {
     "data": {
      "text/plain": [
       "9"
      ]
     },
     "execution_count": 11,
     "metadata": {},
     "output_type": "execute_result"
    }
   ],
   "source": [
    "arr = [1,2,3,4,5,6,7,8,9]\n",
    "\n",
    "len(arr)"
   ]
  },
  {
   "cell_type": "code",
   "execution_count": 44,
   "id": "0849ba4f",
   "metadata": {},
   "outputs": [
    {
     "name": "stdout",
     "output_type": "stream",
     "text": [
      "first step\n",
      "hello from last function\n",
      "second step with kwargs name Ivan\n"
     ]
    }
   ],
   "source": [
    "\n",
    "def mydecor(*args,**kwargs):\n",
    "    def innerside(func):\n",
    "        print('first step')\n",
    "        func()\n",
    "        print('second step with kwargs name',kwargs['name'])\n",
    "    return innerside\n",
    "\n",
    "\n",
    "\n",
    "@mydecor(name='Ivan')\n",
    "def hello():\n",
    "    words = 'hello from last function'\n",
    "    print(words)\n",
    "    \n",
    "\n"
   ]
  },
  {
   "cell_type": "code",
   "execution_count": 86,
   "id": "353c32e3",
   "metadata": {},
   "outputs": [
    {
     "name": "stdout",
     "output_type": "stream",
     "text": [
      "Inner Function In deco() grabs this function :<class 'function'>\n",
      "Function is called\n",
      "['some is in work process 0', 'some is in work process 1', 'some is in work process 2', 'some is in work process 3', 'some is in work process 4']\n",
      "Function is called\n",
      "['some is in work process 0', 'some is in work process 1', 'some is in work process 2', 'some is in work process 3', 'some is in work process 4']\n",
      "Function is called\n",
      "['some is in work process 0', 'some is in work process 1', 'some is in work process 2', 'some is in work process 3', 'some is in work process 4']\n",
      "Function is called\n",
      "['some is in work process 0', 'some is in work process 1', 'some is in work process 2', 'some is in work process 3', 'some is in work process 4']\n",
      "Function is called\n",
      "['some is in work process 0', 'some is in work process 1', 'some is in work process 2', 'some is in work process 3', 'some is in work process 4']\n"
     ]
    }
   ],
   "source": [
    "import time\n",
    "def deco(fn):\n",
    "    def inner(*args,**kwargs):\n",
    "        print (f\"Inner Function In deco() grabs this function :{type(fn)}\")\n",
    "        for y in range(*args):\n",
    "            time.sleep(1)\n",
    "            print(\"Function is called\")\n",
    "            fn(*args)\n",
    "    return inner\n",
    "\n",
    "@deco\n",
    "def some(t):\n",
    "    a = []\n",
    "    for x in range(t):\n",
    "        time.sleep(1)\n",
    "        ap = f\"some is in work process {x}\"\n",
    "        a.append(ap)\n",
    "    print(a)\n",
    "    return a\n",
    "\n",
    "\n",
    "\n",
    "if __name__ == \"__main__\":\n",
    "     some(5)"
   ]
  },
  {
   "cell_type": "code",
   "execution_count": null,
   "id": "07038631-caac-4143-8ef7-a8363e22c6a2",
   "metadata": {},
   "outputs": [],
   "source": [
    "# Decorator with options\n",
    "\n",
    "def work_decorator(name,config):\n",
    "    def _func(wrapped):\n",
    "        def inner(*args,**kwargs):\n",
    "            return wrapped(*args,**kwargs),name,config\n",
    "        return inner               \n",
    "    return _func\n",
    "\n",
    "@work_decorator(name='testDecor',config=[True,False])\n",
    "def set_data(data,value):\n",
    "    return f\" inside args  {data} - {value}\"\n",
    "\n",
    "\n",
    "\n",
    "print(set_data('username','VanyaGoncharov'))"
   ]
  },
  {
   "cell_type": "code",
   "execution_count": null,
   "id": "c43aea29-ad6d-400a-bc09-399d124656ca",
   "metadata": {},
   "outputs": [],
   "source": []
  }
 ],
 "metadata": {
  "kernelspec": {
   "display_name": "Python 3 (ipykernel)",
   "language": "python",
   "name": "python3"
  },
  "language_info": {
   "codemirror_mode": {
    "name": "ipython",
    "version": 3
   },
   "file_extension": ".py",
   "mimetype": "text/x-python",
   "name": "python",
   "nbconvert_exporter": "python",
   "pygments_lexer": "ipython3",
   "version": "3.13.0a6"
  }
 },
 "nbformat": 4,
 "nbformat_minor": 5
}
