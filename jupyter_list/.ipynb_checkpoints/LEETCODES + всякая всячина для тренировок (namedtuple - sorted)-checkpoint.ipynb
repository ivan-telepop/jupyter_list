{
 "cells": [
  {
   "cell_type": "code",
   "execution_count": 2,
   "id": "4c389c81",
   "metadata": {},
   "outputs": [
    {
     "data": {
      "text/plain": [
       "True"
      ]
     },
     "execution_count": 2,
     "metadata": {},
     "output_type": "execute_result"
    }
   ],
   "source": [
    "# K R A S O T A\n",
    "\n",
    "wrd = 'palindrome'\n",
    "wrd[::-1]\n",
    "\n",
    "pldr = lambda res: res == res[::-1]\n",
    "pldr('arora')"
   ]
  },
  {
   "cell_type": "code",
   "execution_count": 7,
   "id": "7f32c1ca",
   "metadata": {},
   "outputs": [
    {
     "name": "stdout",
     "output_type": "stream",
     "text": [
      "Current time is:  23:5\n",
      "The Value Between Two Arrows are : 240.0 C∘\n"
     ]
    }
   ],
   "source": [
    "from datetime import datetime\n",
    "\n",
    "_time = datetime.now()\n",
    "\n",
    "NOW_TIME = f\"{_time.hour}:{_time.minute}\"\n",
    "    \n",
    "print(\"Current time is: \", NOW_TIME)  # Время сейчас - текущее время.\n",
    "\n",
    "# Задача. Написать функцию которая расчитывает угол между часовой и минутной стрелкой.\n",
    "# В качестве аргумента передаем время в 12 часовом формате / строка типа ('9:45').\n",
    "\n",
    "def get_angle(curr_time):\n",
    "    hh = 360 / 12 # 30c in one hour - расчет градусов в часе\n",
    "    mm = 360 / 60 # 6c in one minute - расчет градусов в минуте\n",
    "    hours,minutes = curr_time.split(':') # Разбиваем строку на два сегмента ЧАСЫ/МИНУТЫ\n",
    "    h_point = hh * int(hours) \n",
    "    m_point = mm * int(minutes)\n",
    "    #     print('Minutes Pointer on C∘ :', m_point)\n",
    "    #     print(\"Hours pointer on C∘ :\", h_point)\n",
    "    result = 360 - (h_point - m_point) if (h_point > m_point) else 360 - (m_point - h_point)\n",
    "    return f\"The Value Between Two Arrows are : {result} C∘\"\n",
    "\n",
    "print(get_angle('2:30'))"
   ]
  },
  {
   "cell_type": "code",
   "execution_count": 59,
   "id": "9f20d6a0",
   "metadata": {},
   "outputs": [
    {
     "data": {
      "text/plain": [
       "[('john', 'A', 1, 'Moscow'),\n",
       " ('jane', 'B', 2, 'Alaska'),\n",
       " ('dave', 'C', 3, 'China'),\n",
       " ('paul', 'D', 4, 'Zimbwabwe')]"
      ]
     },
     "execution_count": 59,
     "metadata": {},
     "output_type": "execute_result"
    }
   ],
   "source": [
    "student_tuples = [\n",
    "        ('john', 'A', 1,'Moscow'),\n",
    "        ('jane', 'B', 2,'Alaska'),\n",
    "        ('dave', 'C', 3,'China'),\n",
    "        ('paul','D',4,'Zimbwabwe'),\n",
    "    ]\n",
    "sorted(student_tuples, key=lambda student: student[2])   # сортируем по возрасту\n"
   ]
  },
  {
   "cell_type": "code",
   "execution_count": 1,
   "id": "7cd0a66d",
   "metadata": {},
   "outputs": [
    {
     "data": {
      "text/plain": [
       "[Person(name='Gagik', age=14, adress='Novorosisk'),\n",
       " Person(name='Gurgen', age=65, adress='Erevan'),\n",
       " Person(name='Jorik', age=100, adress='Mahachkala'),\n",
       " Person(name='Vano', age=43, adress='Tbilisi')]"
      ]
     },
     "execution_count": 1,
     "metadata": {},
     "output_type": "execute_result"
    }
   ],
   "source": [
    "from collections import namedtuple\n",
    "\n",
    "Person = namedtuple('Person',['name','age','adress'])\n",
    "one = Person('Vano',43,'Tbilisi')\n",
    "two = Person('Jorik',100,'Mahachkala')\n",
    "three = Person('Gurgen',65,'Erevan')\n",
    "four = Person('Gagik',14,'Novorosisk')\n",
    "listed = [one,two,three,four]\n",
    "sorted(listed, key=lambda item: item[0])"
   ]
  },
  {
   "cell_type": "code",
   "execution_count": 1,
   "id": "03a2c2f5",
   "metadata": {},
   "outputs": [
    {
     "data": {
      "text/plain": [
       "5"
      ]
     },
     "execution_count": 1,
     "metadata": {},
     "output_type": "execute_result"
    }
   ],
   "source": [
    "def find_stones(j,s):\n",
    "    res = []\n",
    "    for jw in j:\n",
    "        for st in s:\n",
    "            if jw == st:\n",
    "                res.append(jw)\n",
    "    return len(res)\n",
    "\n",
    "\n",
    "dd = find_stones('jewerlies','stones')\n",
    "                \n",
    "  \n",
    "dd\n",
    "        \n",
    "    "
   ]
  },
  {
   "cell_type": "code",
   "execution_count": 7,
   "id": "6d6f6e9c",
   "metadata": {},
   "outputs": [
    {
     "name": "stdout",
     "output_type": "stream",
     "text": [
      "11\n"
     ]
    }
   ],
   "source": [
    "data = '00011111111100000011111111100111001111000111100000111111111110000111'\n",
    "\n",
    "\n",
    "def bin_finder(data):\n",
    "    counted = None\n",
    "    for one in data:\n",
    "        if one != '1':\n",
    "            counted = data.replace(one,\" \").split(\" \")\n",
    "    return len(max(counted,key=len))\n",
    "\n",
    "\n",
    "\n",
    "print(bin_finder(data))"
   ]
  },
  {
   "cell_type": "code",
   "execution_count": 46,
   "id": "56c4cf48",
   "metadata": {},
   "outputs": [
    {
     "name": "stdout",
     "output_type": "stream",
     "text": [
      "1 3 2 4\n"
     ]
    }
   ],
   "source": [
    "# mass = (1,2,5,7,5,6,7,6)\n",
    "# print(* set(mass))\n",
    "\n",
    "mass = ['1\\n','2\\n','3\\n','3\\n','4\\n']\n",
    "# mass = map(str,aa)\n",
    "\n",
    "with open('massive.txt','w') as fp:\n",
    "    fp.writelines(mass)\n",
    "  \n",
    "\n",
    "res = set()\n",
    "\n",
    "with open('massive.txt','r') as file:\n",
    "        \n",
    "        lines = file.readlines()\n",
    "        for l in lines:\n",
    "            res.add(l.strip())\n",
    "        \n",
    "\n",
    "print(*res)"
   ]
  },
  {
   "cell_type": "code",
   "execution_count": 42,
   "id": "b68b19b4",
   "metadata": {},
   "outputs": [
    {
     "name": "stdout",
     "output_type": "stream",
     "text": [
      "{'8', '1', '9', '2', '7', '5', '6', '3', '4'}\n"
     ]
    }
   ],
   "source": [
    "mm = [1,2,3,4,5,6,7,8,9,9,9]\n",
    "pp = map(str,mm)\n",
    "print(set(pp))"
   ]
  },
  {
   "cell_type": "code",
   "execution_count": 2,
   "id": "1e259b58",
   "metadata": {},
   "outputs": [
    {
     "data": {
      "text/plain": [
       "3104884288025679203"
      ]
     },
     "execution_count": 2,
     "metadata": {},
     "output_type": "execute_result"
    }
   ],
   "source": [
    "jj = 'hashed'\n",
    "hash(jj)\n",
    "\n"
   ]
  },
  {
   "cell_type": "code",
   "execution_count": 4,
   "id": "adb2aa08",
   "metadata": {},
   "outputs": [
    {
     "data": {
      "text/plain": [
       "'MCMLXXX'"
      ]
     },
     "execution_count": 4,
     "metadata": {},
     "output_type": "execute_result"
    }
   ],
   "source": [
    "# A R A B    T O   R O M A N\n",
    "\n",
    "roms = {'M': 1000, 'CM': 900, 'D': 500, 'CD': 400,\n",
    "                 'C': 100, 'XC': 90, 'L': 50, 'XL': 40,\n",
    "                 'X': 10, 'IX': 9, 'V': 5, 'IV': 4, 'I': 1}\n",
    "\n",
    "\n",
    "def rom_converter(num:int):\n",
    "    res = ''\n",
    "    for letter, value in roms.items():\n",
    "        while num >= value:\n",
    "            res += letter\n",
    "            num -= value\n",
    "    return res\n",
    "\n",
    "\n",
    "rom_converter(1980)\n"
   ]
  },
  {
   "cell_type": "code",
   "execution_count": 4,
   "id": "bba80d91",
   "metadata": {},
   "outputs": [
    {
     "data": {
      "text/plain": [
       "[('h',), ('e',), ('l',), ('l',), ('o',)]"
      ]
     },
     "execution_count": 4,
     "metadata": {},
     "output_type": "execute_result"
    }
   ],
   "source": [
    "s = zip('hello')\n",
    "f = [*s]\n",
    "f"
   ]
  },
  {
   "cell_type": "code",
   "execution_count": 10,
   "id": "10810f00",
   "metadata": {},
   "outputs": [
    {
     "name": "stdout",
     "output_type": "stream",
     "text": [
      "['a', 'b', 'c', 'd', 'e', 'f', 'g', 'h', 'i', 'j', 'k', 'l', 'm', 'n', 'o', 'p', 'q', 'r', 's', 't', 'u', 'v', 'w', 'x', 'y', 'z'] English ABC has 26 letters\n"
     ]
    },
    {
     "data": {
      "text/plain": [
       "['z',\n",
       " 'y',\n",
       " 'x',\n",
       " 'w',\n",
       " 'v',\n",
       " 'u',\n",
       " 't',\n",
       " 's',\n",
       " 'r',\n",
       " 'q',\n",
       " 'p',\n",
       " 'o',\n",
       " 'n',\n",
       " 'm',\n",
       " 'l',\n",
       " 'k',\n",
       " 'j',\n",
       " 'i',\n",
       " 'h',\n",
       " 'g',\n",
       " 'f',\n",
       " 'e',\n",
       " 'd',\n",
       " 'c',\n",
       " 'b',\n",
       " 'a']"
      ]
     },
     "execution_count": 10,
     "metadata": {},
     "output_type": "execute_result"
    }
   ],
   "source": [
    "# HOW TO CREATE ABC - short way\n",
    "# A B C collection pattern\n",
    "import string\n",
    "\n",
    "abc = list(string.ascii_lowercase)\n",
    "print(abc,f\"English ABC has {len(abc)} letters\")\n",
    "_reversed = abc[::-1]\n",
    "_reversed"
   ]
  },
  {
   "cell_type": "code",
   "execution_count": null,
   "id": "e93d6d57-f513-4bf8-9e4f-2d547aa8ea4c",
   "metadata": {},
   "outputs": [],
   "source": [
    "# Изменить порядок слов\n",
    "# Вам дана строка ‘s’ с некоторым количеством слов N. Нужно сделать так, чтобы исходный порядок слов в строке изменился на обратный.\n",
    "\n",
    "# При этом в исходной строке между словами может быть множество пробелов, но в результате работы скрипта мы должны получить предложение с одним пробелом между словами, без пробелов в начале предложения и после его конца.\n",
    "\n",
    "# Время выполнения скрипта не должно превышать 1 секунду.\n",
    "\n",
    "# My solvation\n",
    "print(*reversed(sent.split()))\n"
   ]
  },
  {
   "cell_type": "code",
   "execution_count": 10,
   "id": "1950360f-921f-4c62-8cb9-d88c08c91638",
   "metadata": {},
   "outputs": [
    {
     "data": {
      "text/plain": [
       "20"
      ]
     },
     "execution_count": 10,
     "metadata": {},
     "output_type": "execute_result"
    }
   ],
   "source": [
    "# Вам дано число N. Напишите скрипт, который считал бы сумму всех четных чисел в промежутке от 1 до N, \n",
    "# включая N. К примеру, если N равняется 6, то вывод должен быть равен 2+4+6, то есть 12.\n",
    "\n",
    "# Тут есть закономерность !!!\n",
    " # Если ( N // 2 ) умножить на ( N //2 + 1 ) то получим сумму всех четных от 1 до N\n",
    "def ev(n):\n",
    "    su = (n // 2) * (n // 2 + 1)\n",
    "    return su\n",
    "\n",
    "ev(8)\n",
    "\n",
    "############ My solvation\n",
    "\n",
    "def evalu(num):\n",
    "    ff = [ cn for cn in range(0,num,2) ]\n",
    "    return sum(ff) + num\n",
    "\n",
    "\n",
    "evalu(8)"
   ]
  },
  {
   "cell_type": "code",
   "execution_count": 26,
   "id": "58b2bd56-ee62-4884-947f-0eafeb891122",
   "metadata": {},
   "outputs": [
    {
     "data": {
      "text/plain": [
       "True"
      ]
     },
     "execution_count": 26,
     "metadata": {},
     "output_type": "execute_result"
    }
   ],
   "source": [
    "lst = [3,5,7,5,3]\n",
    "\n",
    "\n",
    "def palindromer(lst):\n",
    "    dupl = reversed(lst)\n",
    "    return list(dupl) == lst\n",
    "\n",
    "palindromer(lst)"
   ]
  },
  {
   "cell_type": "code",
   "execution_count": 1,
   "id": "1b171f01-0e6d-4829-bbb2-4e679d0f6544",
   "metadata": {},
   "outputs": [
    {
     "data": {
      "text/plain": [
       "[0, 1]"
      ]
     },
     "execution_count": 1,
     "metadata": {},
     "output_type": "execute_result"
    }
   ],
   "source": [
    "# you have nums and target, return a list with two indexes that are result of add up the target\n",
    "# \n",
    "class Solution(object):\n",
    "    def twoSum(self, nums, target): \n",
    "            for i in range(len(nums)):\n",
    "                for x in range(len(nums)):\n",
    "                    if i != x:\n",
    "                        if nums[i] + nums[x] == target:\n",
    "                            return [i,x]                     \n",
    "\n",
    "f = Solution()\n",
    "\n",
    "f.twoSum([3,3,4,2,8],6)\n"
   ]
  },
  {
   "cell_type": "code",
   "execution_count": 12,
   "id": "efb3a73e-1d33-4ef8-8304-5ebd46c94c1b",
   "metadata": {},
   "outputs": [
    {
     "name": "stdout",
     "output_type": "stream",
     "text": [
      "True\n"
     ]
    }
   ],
   "source": [
    "k = [5]\n",
    "\n",
    "f = k.pop(k.index(5))\n",
    "print('__hash__' in dir(f))"
   ]
  },
  {
   "cell_type": "code",
   "execution_count": 11,
   "id": "8c4fab97-8395-4c91-81a4-80f0917f62af",
   "metadata": {},
   "outputs": [
    {
     "ename": "TypeError",
     "evalue": "unsupported operand type(s) for //: 'list' and 'int'",
     "output_type": "error",
     "traceback": [
      "\u001b[0;31m---------------------------------------------------------------------------\u001b[0m",
      "\u001b[0;31mTypeError\u001b[0m                                 Traceback (most recent call last)",
      "Cell \u001b[0;32mIn[11], line 16\u001b[0m\n\u001b[1;32m     11\u001b[0m     correct \u001b[38;5;241m=\u001b[39m [\u001b[38;5;241m0\u001b[39m,\u001b[38;5;241m1\u001b[39m,\u001b[38;5;241m2\u001b[39m,\u001b[38;5;241m3\u001b[39m,\u001b[38;5;241m4\u001b[39m,\u001b[38;5;241m5\u001b[39m,\u001b[38;5;241m6\u001b[39m,\u001b[38;5;241m7\u001b[39m,\u001b[38;5;241m8\u001b[39m,\u001b[38;5;241m9\u001b[39m]\n\u001b[1;32m     12\u001b[0m     zipped \u001b[38;5;241m=\u001b[39m nums \u001b[38;5;241m/\u001b[39m\u001b[38;5;241m/\u001b[39m \u001b[38;5;241m10\u001b[39m\n\u001b[0;32m---> 16\u001b[0m missing_no(lst)\n",
      "Cell \u001b[0;32mIn[11], line 12\u001b[0m, in \u001b[0;36mmissing_no\u001b[0;34m(nums)\u001b[0m\n\u001b[1;32m     10\u001b[0m \u001b[38;5;28;01mdef\u001b[39;00m \u001b[38;5;21mmissing_no\u001b[39m(nums):\n\u001b[1;32m     11\u001b[0m     correct \u001b[38;5;241m=\u001b[39m [\u001b[38;5;241m0\u001b[39m,\u001b[38;5;241m1\u001b[39m,\u001b[38;5;241m2\u001b[39m,\u001b[38;5;241m3\u001b[39m,\u001b[38;5;241m4\u001b[39m,\u001b[38;5;241m5\u001b[39m,\u001b[38;5;241m6\u001b[39m,\u001b[38;5;241m7\u001b[39m,\u001b[38;5;241m8\u001b[39m,\u001b[38;5;241m9\u001b[39m]\n\u001b[0;32m---> 12\u001b[0m     zipped \u001b[38;5;241m=\u001b[39m nums \u001b[38;5;241m/\u001b[39m\u001b[38;5;241m/\u001b[39m \u001b[38;5;241m10\u001b[39m\n",
      "\u001b[0;31mTypeError\u001b[0m: unsupported operand type(s) for //: 'list' and 'int'"
     ]
    }
   ],
   "source": [
    "# The following was a question that I received during a technical interview for an entry level software developer position.\n",
    "# I thought I'd post it here so that everyone could give it a go:\n",
    "# You are given an unsorted array containing all the integers from 0 to 100 inclusively. However, one number is missing.\n",
    "# Write a function to find and return this number. What are the time and space complexities of your solution?\n",
    "\n",
    "lst = list(range(0,101))\n",
    "lst.remove(10)\n",
    "\n",
    "\n",
    "def missing_no(nums):\n",
    "    correct = [0,1,2,3,4,5,6,7,8,9]\n",
    "    while nums:\n",
    "        chunk = nums[0:10]\n",
    "        try:\n",
    "            for i in chunk:\n",
    "                zipped = zip(chunk,correct)\n",
    "        except:\n",
    "            for y in correct:\n",
    "                if i != y:\n",
    "                    return f\" This num is missing: {y} \"\n",
    "        \n",
    "        \n",
    "    \n",
    "    \n",
    "missing_no(lst)\n",
    "\n"
   ]
  },
  {
   "cell_type": "code",
   "execution_count": 21,
   "id": "2386ab4d-10a3-4e92-8401-7ac148348158",
   "metadata": {},
   "outputs": [
    {
     "data": {
      "text/plain": [
       "[0, 1, 2, 3, 4, 5, 6, 7, 8, 9]"
      ]
     },
     "execution_count": 21,
     "metadata": {},
     "output_type": "execute_result"
    }
   ],
   "source": [
    "lst = list(range(0,101))\n",
    "\n",
    "\n",
    "r = lst[0:10]\n",
    "r"
   ]
  }
 ],
 "metadata": {
  "kernelspec": {
   "display_name": "Python 3 (ipykernel)",
   "language": "python",
   "name": "python3"
  },
  "language_info": {
   "codemirror_mode": {
    "name": "ipython",
    "version": 3
   },
   "file_extension": ".py",
   "mimetype": "text/x-python",
   "name": "python",
   "nbconvert_exporter": "python",
   "pygments_lexer": "ipython3",
   "version": "3.12.4"
  }
 },
 "nbformat": 4,
 "nbformat_minor": 5
}
