{
 "cells": [
  {
   "cell_type": "markdown",
   "id": "b5058839",
   "metadata": {},
   "source": [
    "# MATH module\n"
   ]
  },
  {
   "cell_type": "markdown",
   "id": "004525ab",
   "metadata": {},
   "source": [
    "min - max from math module"
   ]
  },
  {
   "cell_type": "code",
   "execution_count": 1,
   "id": "5f17cdeb",
   "metadata": {},
   "outputs": [
    {
     "data": {
      "text/plain": [
       "1"
      ]
     },
     "execution_count": 1,
     "metadata": {},
     "output_type": "execute_result"
    }
   ],
   "source": [
    "import math\n",
    "\n",
    "minima = min(1,3,5,7,9,6,4,4,5,6,7,8,54)\n",
    "maxima = max(8768768,6524652,7542654256,4242)\n",
    "\n",
    "maxima\n",
    "minima"
   ]
  },
  {
   "cell_type": "code",
   "execution_count": 29,
   "id": "215bac16",
   "metadata": {},
   "outputs": [
    {
     "name": "stdout",
     "output_type": "stream",
     "text": [
      "s is:64    >>>>>> s = 64 \n"
     ]
    },
    {
     "data": {
      "text/plain": [
       "4.228317827613722"
      ]
     },
     "execution_count": 29,
     "metadata": {},
     "output_type": "execute_result"
    }
   ],
   "source": [
    "s = 8**2 # The same statement as pow()\n",
    "f = pow(8,2) # равноценно записи 8\"2\" стапени\n",
    "print(f\"s is:{f}    >>>>>> s = {s} \")\n",
    " # It's possible to make such ones\n",
    "    \n",
    "pow(2,pow(3,2/3))"
   ]
  },
  {
   "cell_type": "code",
   "execution_count": 30,
   "id": "408e87d5",
   "metadata": {},
   "outputs": [
    {
     "data": {
      "text/plain": [
       "2"
      ]
     },
     "execution_count": 30,
     "metadata": {},
     "output_type": "execute_result"
    }
   ],
   "source": [
    "round(pow(2,2/3)) # ROUND - simple round"
   ]
  },
  {
   "cell_type": "code",
   "execution_count": 2,
   "id": "e9a4a5c5",
   "metadata": {},
   "outputs": [
    {
     "data": {
      "text/plain": [
       "45"
      ]
     },
     "execution_count": 2,
     "metadata": {},
     "output_type": "execute_result"
    }
   ],
   "source": [
    "# ABS - absolut value\n",
    "\n",
    "abs(-45)"
   ]
  },
  {
   "cell_type": "code",
   "execution_count": 5,
   "id": "03e4354b",
   "metadata": {},
   "outputs": [
    {
     "data": {
      "text/plain": [
       "8"
      ]
     },
     "execution_count": 5,
     "metadata": {},
     "output_type": "execute_result"
    }
   ],
   "source": [
    "# C E I L - rounds to bigger \n",
    "math.ceil(-6.5)\n",
    "\n",
    "# F L O O R - rounds less\n",
    "math.floor(8.6)"
   ]
  },
  {
   "cell_type": "code",
   "execution_count": 6,
   "id": "73ffb34d",
   "metadata": {},
   "outputs": [
    {
     "data": {
      "text/plain": [
       "362880"
      ]
     },
     "execution_count": 6,
     "metadata": {},
     "output_type": "execute_result"
    }
   ],
   "source": [
    "# FACTORIAL - произвидение умножений от 1 - до Х\n",
    "\n",
    "math.factorial(9)"
   ]
  },
  {
   "cell_type": "code",
   "execution_count": 11,
   "id": "e7176d32",
   "metadata": {},
   "outputs": [
    {
     "data": {
      "text/plain": [
       "4"
      ]
     },
     "execution_count": 11,
     "metadata": {},
     "output_type": "execute_result"
    }
   ],
   "source": [
    "# отрезает дроби\n",
    "math.trunc(math.pi)\n",
    "# То же самое с использованием int\n",
    "int(4.9)"
   ]
  },
  {
   "cell_type": "code",
   "execution_count": 20,
   "id": "551cf7bc",
   "metadata": {},
   "outputs": [
    {
     "data": {
      "text/plain": [
       "2.5221970596792267"
      ]
     },
     "execution_count": 20,
     "metadata": {},
     "output_type": "execute_result"
    }
   ],
   "source": [
    "# LOGORIFM\n",
    "math.log2(10)\n",
    "math.log10(10)\n",
    "math.log(33,4)"
   ]
  },
  {
   "cell_type": "code",
   "execution_count": 21,
   "id": "cc695799",
   "metadata": {},
   "outputs": [
    {
     "name": "stdout",
     "output_type": "stream",
     "text": [
      "7.416198487095663\n"
     ]
    }
   ],
   "source": [
    "# SQRT - Coren\n",
    "print(math.sqrt(55))  \n",
    "\n",
    " \n",
    "    "
   ]
  },
  {
   "cell_type": "code",
   "execution_count": 23,
   "id": "61587715",
   "metadata": {},
   "outputs": [
    {
     "data": {
      "text/plain": [
       "3.141592653589793"
      ]
     },
     "execution_count": 23,
     "metadata": {},
     "output_type": "execute_result"
    }
   ],
   "source": [
    "# C O N S T A N T S\n",
    "\n",
    "math.e\n",
    "math.pi"
   ]
  },
  {
   "cell_type": "code",
   "execution_count": 2,
   "id": "27d2d4d1-fcd3-4adf-bbfc-19a68025acce",
   "metadata": {},
   "outputs": [
    {
     "name": "stdout",
     "output_type": "stream",
     "text": [
      "12.933081838176822\n",
      "5.704244511227274\n",
      "10.954162238374472\n",
      "7.635367299493209\n",
      "13.300994651135683\n",
      "12.189644364298534\n",
      "14.686285572480264\n",
      "11.61768872215563\n",
      "7.38706079070706\n",
      "10.240378122293752\n"
     ]
    }
   ],
   "source": [
    "import random\n",
    "\n",
    "\n",
    "for i in range(10):\n",
    "    print(random.uniform(3,18))\n"
   ]
  },
  {
   "cell_type": "code",
   "execution_count": 8,
   "id": "052a4db3-a9c8-477c-a1bc-941f6a6f0cfa",
   "metadata": {},
   "outputs": [
    {
     "name": "stdout",
     "output_type": "stream",
     "text": [
      "-46.315953123871154\n",
      "-39.90454229881302\n",
      "-43.11024771134209\n",
      "-46.315953123871154\n",
      "-44.71310041760662\n",
      "-43.11024771134209\n",
      "-43.11024771134209\n",
      "-46.315953123871154\n",
      "-49.52165853640022\n",
      "-47.91880583013569\n",
      "-44.71310041760662\n",
      "-43.11024771134209\n",
      "-44.71310041760662\n",
      "-38.301689592548485\n",
      "-49.52165853640022\n",
      "-49.52165853640022\n",
      "-43.11024771134209\n",
      "-39.90454229881302\n",
      "-44.71310041760662\n",
      "-44.71310041760662\n",
      "-44.71310041760662\n",
      "-51.12451124266475\n",
      "-49.52165853640022\n",
      "-39.90454229881302\n",
      "-44.71310041760662\n",
      "-51.12451124266475\n",
      "-47.91880583013569\n",
      "-46.315953123871154\n",
      "-38.301689592548485\n",
      "-44.71310041760662\n",
      "-36.69883688628395\n",
      "-49.52165853640022\n",
      "-51.12451124266475\n",
      "-43.11024771134209\n",
      "-38.301689592548485\n",
      "-41.507395005077555\n",
      "-36.69883688628395\n",
      "-46.315953123871154\n",
      "-43.11024771134209\n",
      "-39.90454229881302\n",
      "-41.507395005077555\n",
      "-41.507395005077555\n",
      "-39.90454229881302\n",
      "-36.69883688628395\n",
      "-38.301689592548485\n",
      "-49.52165853640022\n",
      "-47.91880583013569\n",
      "-47.91880583013569\n",
      "-38.301689592548485\n",
      "-46.315953123871154\n",
      "-39.90454229881302\n",
      "-44.71310041760662\n",
      "-47.91880583013569\n",
      "-41.507395005077555\n",
      "-43.11024771134209\n",
      "-44.71310041760662\n",
      "-51.12451124266475\n",
      "-43.11024771134209\n",
      "-44.71310041760662\n",
      "-36.69883688628395\n",
      "-36.69883688628395\n",
      "-47.91880583013569\n",
      "-49.52165853640022\n",
      "-44.71310041760662\n",
      "-47.91880583013569\n",
      "-38.301689592548485\n",
      "-43.11024771134209\n",
      "-43.11024771134209\n",
      "-36.69883688628395\n",
      "-41.507395005077555\n",
      "-49.52165853640022\n",
      "-49.52165853640022\n",
      "-38.301689592548485\n",
      "-49.52165853640022\n",
      "-47.91880583013569\n",
      "-39.90454229881302\n",
      "-44.71310041760662\n",
      "-43.11024771134209\n",
      "-39.90454229881302\n",
      "-43.11024771134209\n",
      "-43.11024771134209\n",
      "-36.69883688628395\n",
      "-46.315953123871154\n",
      "-39.90454229881302\n",
      "-43.11024771134209\n",
      "-36.69883688628395\n",
      "-47.91880583013569\n",
      "-43.11024771134209\n",
      "-41.507395005077555\n",
      "-38.301689592548485\n",
      "-44.71310041760662\n",
      "-49.52165853640022\n",
      "-41.507395005077555\n",
      "-47.91880583013569\n",
      "-47.91880583013569\n",
      "-46.315953123871154\n",
      "-36.69883688628395\n",
      "-47.91880583013569\n",
      "-41.507395005077555\n",
      "-46.315953123871154\n"
     ]
    }
   ],
   "source": [
    "k = random.uniform(-5,5)\n",
    "c = random.uniform(-5,5)\n",
    "rate = 0.001\n",
    "\n",
    "data = {22:150,23:155,24:160,25:162,26:171,27:174,28:180,29:183,30:189,31:192}\n",
    "\n",
    "print(\"start: Y \", k,\"X: \",c\n",
    "\n",
    "def proceed(x):\n",
    "    return x*k+c\n",
    "\n",
    "for i in range(100):\n",
    "    x = random.choice(list(data.keys()))\n",
    "    res = data[x]\n",
    "    out = proceed(x)\n",
    "    delta = res - out\n",
    "    k += delta * rate * x\n",
    "    c += delta * rate\n",
    "    \n",
    "    "
   ]
  }
 ],
 "metadata": {
  "kernelspec": {
   "display_name": "Python 3 (ipykernel)",
   "language": "python",
   "name": "python3"
  },
  "language_info": {
   "codemirror_mode": {
    "name": "ipython",
    "version": 3
   },
   "file_extension": ".py",
   "mimetype": "text/x-python",
   "name": "python",
   "nbconvert_exporter": "python",
   "pygments_lexer": "ipython3",
   "version": "3.9.6"
  }
 },
 "nbformat": 4,
 "nbformat_minor": 5
}
