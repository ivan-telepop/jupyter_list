{
 "cells": [
  {
   "cell_type": "code",
   "execution_count": 42,
   "id": "69afb90f-826a-4ea2-b6cc-b88c85fd7114",
   "metadata": {},
   "outputs": [
    {
     "name": "stdout",
     "output_type": "stream",
     "text": [
      "{'234': ['243', '324', '342', '423', '432'], '537': ['573', '357', '375', '753', '735'], '986': ['968', '896', '869', '698', '689'], '351': ['315', '531', '513', '135', '153'], '639': ['693', '369', '396', '963', '936']}\n"
     ]
    }
   ],
   "source": [
    "# У нас есть список из трехзначиных чисел 145, 781, 123, 976, и так далее. \n",
    "# Из каждого числа можно комбинировать другое, если переставлять цифры в этих числах\n",
    "# Например: 123 - 321, 213, 312 Из числа 789 - 987, 879,897... И так далее.\n",
    "# Необходимо создать на каждое число из этого списка, сделать ответный список из чисел\n",
    "# которые возможны из перестановок (Комбинаций).\n",
    "# Задача содать dict у которого ключ: число а значение список list из комбинаций\n",
    "# Например: {'123': [321, 213, 312], '789': [987, 879,897]} \n",
    "\n",
    "\n",
    "from itertools import permutations\n",
    "\n",
    "# print(*permutations(['T','U','V']))\n",
    "\n",
    "\n",
    "inp = [234,537,986,351,639]\n",
    "\n",
    "\n",
    "def sort_it(inp):\n",
    "    resulter = dict()\n",
    "    stringed = [str(y) for y in inp ]\n",
    "    for item in stringed:\n",
    "        temp_list = list()\n",
    "        permutated = permutations([ y for y in item])\n",
    "        for one in permutated:\n",
    "            value_elem = \"\".join(one)\n",
    "            temp_list.append(value_elem)\n",
    "        resulter.update({item:temp_list[1::]})\n",
    "    print(resulter)\n",
    "        \n",
    "        \n",
    "        \n",
    "        \n",
    "    \n",
    "sort_it(inp)"
   ]
  },
  {
   "cell_type": "code",
   "execution_count": 1,
   "id": "08a165a7-0b24-4e87-aa6c-0c5c3559c91a",
   "metadata": {},
   "outputs": [
    {
     "name": "stdout",
     "output_type": "stream",
     "text": [
      "('T', 'U', 'V') ('T', 'V', 'U') ('U', 'T', 'V') ('U', 'V', 'T') ('V', 'T', 'U') ('V', 'U', 'T')\n"
     ]
    }
   ],
   "source": [
    "from itertools import permutations\n",
    "\n",
    "print(*permutations(['T','U','V']))"
   ]
  },
  {
   "cell_type": "code",
   "execution_count": 2,
   "id": "9b549545-bba2-4fac-a6e0-8d5830422ba1",
   "metadata": {},
   "outputs": [
    {
     "data": {
      "text/plain": [
       "['123']"
      ]
     },
     "execution_count": 2,
     "metadata": {},
     "output_type": "execute_result"
    }
   ],
   "source": [
    "'123'.split()"
   ]
  }
 ],
 "metadata": {
  "kernelspec": {
   "display_name": "Python 3 (ipykernel)",
   "language": "python",
   "name": "python3"
  },
  "language_info": {
   "codemirror_mode": {
    "name": "ipython",
    "version": 3
   },
   "file_extension": ".py",
   "mimetype": "text/x-python",
   "name": "python",
   "nbconvert_exporter": "python",
   "pygments_lexer": "ipython3",
   "version": "3.9.6"
  }
 },
 "nbformat": 4,
 "nbformat_minor": 5
}
