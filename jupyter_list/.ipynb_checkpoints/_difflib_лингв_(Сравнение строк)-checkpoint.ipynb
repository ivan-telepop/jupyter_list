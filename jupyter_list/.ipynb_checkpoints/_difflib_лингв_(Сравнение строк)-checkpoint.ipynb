{
 "cells": [
  {
   "cell_type": "code",
   "execution_count": null,
   "id": "96bce56b-ed15-4ac7-870b-e601910707b6",
   "metadata": {},
   "outputs": [],
   "source": [
    " Позанимайся оч прикольный модуль \n",
    "https://docs.python.org/3/library/difflib.html#difflib.context_diff"
   ]
  },
  {
   "cell_type": "code",
   "execution_count": 21,
   "id": "4a2134ab-863f-46dc-b81f-734db6c27e61",
   "metadata": {},
   "outputs": [
    {
     "name": "stdout",
     "output_type": "stream",
     "text": [
      "['appe', 'apple', '   app']\n"
     ]
    }
   ],
   "source": [
    "import difflib as df\n",
    "\n",
    "value = 'app'\n",
    "\n",
    "words_to_check = ['appe','apple','appelsin','pineapple','napples','   app']\n",
    "\n",
    "closest_matches = df.get_close_matches(value,words_to_check)\n",
    "\n",
    "\n",
    "\n",
    "print(closest_matches)\n",
    "\n"
   ]
  },
  {
   "cell_type": "code",
   "execution_count": 6,
   "id": "ff304923-6618-4b60-94da-28bc5a8fd729",
   "metadata": {},
   "outputs": [
    {
     "name": "stdout",
     "output_type": "stream",
     "text": [
      "*** \n",
      "\n",
      "--- \n",
      "\n",
      "***************\n",
      "\n",
      "*** 1,6 ****\n",
      "\n",
      "! heller\n",
      "  helicopter\n",
      "! hell\n",
      "! tilda\n",
      "! atlantida\n",
      "  arora\n",
      "--- 1,6 ----\n",
      "\n",
      "! helper\n",
      "  helicopter\n",
      "! hellios\n",
      "! tildometr\n",
      "! atlanta\n",
      "  arora\n"
     ]
    }
   ],
   "source": [
    "import difflib as df\n",
    "s1 = ['heller','helicopter','hell','tilda','atlantida','arora']\n",
    "s2 = ['helper','helicopter','hellios','tildometr','atlanta','arora']\n",
    "gen_df = df.context_diff(s1,s2)\n",
    "\n",
    "for i in gen_df:\n",
    "    print(i)\n"
   ]
  },
  {
   "cell_type": "code",
   "execution_count": null,
   "id": "b304265d-431d-44ca-bd71-e0a3a4ba4ed0",
   "metadata": {},
   "outputs": [],
   "source": []
  }
 ],
 "metadata": {
  "kernelspec": {
   "display_name": "Python 3 (ipykernel)",
   "language": "python",
   "name": "python3"
  },
  "language_info": {
   "codemirror_mode": {
    "name": "ipython",
    "version": 3
   },
   "file_extension": ".py",
   "mimetype": "text/x-python",
   "name": "python",
   "nbconvert_exporter": "python",
   "pygments_lexer": "ipython3",
   "version": "3.13.0a6"
  }
 },
 "nbformat": 4,
 "nbformat_minor": 5
}
