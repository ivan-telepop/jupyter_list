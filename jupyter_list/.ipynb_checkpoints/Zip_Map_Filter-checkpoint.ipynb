{
 "cells": [
  {
   "cell_type": "code",
   "execution_count": 43,
   "id": "1dfe00c3-0631-4aaa-8b0c-24ee0c53f14d",
   "metadata": {},
   "outputs": [
    {
     "name": "stdout",
     "output_type": "stream",
     "text": [
      "2 12 8 108 174 66 44 -66 106 -22 4 -6\n"
     ]
    }
   ],
   "source": [
    "# map()\n",
    "\n",
    "plur = [1,6,4,54,87,33,22,-33,53,-11,2,-3]\n",
    "\n",
    "def calc(a):\n",
    "    return a * 2\n",
    "        \n",
    "mapped = map(calc,plur)\n",
    "\n",
    "print(*mapped)"
   ]
  },
  {
   "cell_type": "code",
   "execution_count": 46,
   "id": "cdb8a34f-514d-4adf-8c75-51756da51fd1",
   "metadata": {},
   "outputs": [
    {
     "name": "stdout",
     "output_type": "stream",
     "text": [
      "(1, 1) (2, 2) (3, 3) (4, 4) (5, 5) (6, 6) (7, 7) (8, 8)\n"
     ]
    }
   ],
   "source": [
    "# zip\n",
    "\n",
    "one = [i for i in range(1,9)]\n",
    "two = [y for y in range(1,9)]\n",
    "\n",
    "zipped = zip(one,two)\n",
    "\n",
    "print(*zipped)\n",
    "\n",
    "\n",
    "\n",
    "\n"
   ]
  }
 ],
 "metadata": {
  "kernelspec": {
   "display_name": "Python 3 (ipykernel)",
   "language": "python",
   "name": "python3"
  },
  "language_info": {
   "codemirror_mode": {
    "name": "ipython",
    "version": 3
   },
   "file_extension": ".py",
   "mimetype": "text/x-python",
   "name": "python",
   "nbconvert_exporter": "python",
   "pygments_lexer": "ipython3",
   "version": "3.13.0a6"
  }
 },
 "nbformat": 4,
 "nbformat_minor": 5
}
