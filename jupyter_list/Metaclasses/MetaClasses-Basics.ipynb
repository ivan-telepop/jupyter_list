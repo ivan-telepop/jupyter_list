{
 "cells": [
  {
   "cell_type": "code",
   "execution_count": 24,
   "id": "93ad731a-c7e1-4ec2-be79-46b38d783c39",
   "metadata": {},
   "outputs": [
    {
     "name": "stdout",
     "output_type": "stream",
     "text": [
      "True\n",
      "<class 'dict'> <class 'dict'>\n",
      "True\n",
      "<class 'int'> <class 'int'>\n",
      "True\n",
      "<class 'str'> <class 'str'>\n",
      "True\n",
      "<class '__main__.Foo'> <class '__main__.Foo'>\n",
      "True\n",
      "<class 'NoneType'> <class 'NoneType'>\n",
      "<class 'type'>\n",
      "<class 'type'>\n",
      "<class 'type'>\n",
      "<class 'type'>\n",
      "<class 'type'>\n",
      "<class 'type'>\n",
      "<class 'type'>\n"
     ]
    }
   ],
   "source": [
    "# Methaclasses - \n",
    "# В старом стиле по другому эта истоиия организована была ( type это всегда instance )\n",
    "# А теперь ...\n",
    "\n",
    "\n",
    "class Foo:\n",
    "    pass\n",
    "\n",
    "\n",
    "foo = Foo()\n",
    "\n",
    "\n",
    "type(foo) is foo.__class__ # True\n",
    "\n",
    "\n",
    "# Допустим что \n",
    "a = {'a': 1, 'b':2}\n",
    "b = 123\n",
    "c = 'hello'\n",
    "\n",
    "# Отсюда следует что: type == 'любой_объект'.__class__ \n",
    "# То есть type это прото-объект ко всем объектам в Питошке\n",
    "for item in a,b,c,foo,None:\n",
    "    print(type(item) is item.__class__)\n",
    "    print(type(item) , item.__class__)\n",
    "\n",
    "\n",
    "\n",
    "# В случае с встроенными типами в Пайтон такая же история\n",
    "# В общем тип типа это тип ! \n",
    "for one in int,dict,tuple,str,list,set, type:\n",
    "    print(type(one))\n",
    "\n",
    "\n",
    "# Суть в чем...?! TYPE это прото-мета или проще мета класс\n",
    "# Имея type можно деларировать любой обьект"
   ]
  },
  {
   "cell_type": "code",
   "execution_count": 48,
   "id": "70f97220-5dd4-488c-a1fa-c8686d71ad2c",
   "metadata": {},
   "outputs": [
    {
     "name": "stdout",
     "output_type": "stream",
     "text": [
      "45 Ivan Moscow\n"
     ]
    },
    {
     "data": {
      "text/plain": [
       "90"
      ]
     },
     "execution_count": 48,
     "metadata": {},
     "output_type": "execute_result"
    }
   ],
   "source": [
    "# Пробуем создать метакласс таким вот синтаксисом...(см ниже)\n",
    "# type()с тремя аргументами type(<name>, <bases>, <dct>):\n",
    "\n",
    "# <name>указывает имя класса. Это становится __name__атрибутом класса.\n",
    "# <bases>определяет кортеж базовых классов, от которых наследуется класс. \n",
    "# Это становится __bases__атрибутом класса.\n",
    "# <dct>указывает словарь пространства имен , содержащий определения для тела класса. \n",
    "# Это становится __dict__атрибутом класса.\n",
    "\n",
    "Foo = type('Foo',(),{})\n",
    "x = Foo()\n",
    "type(x)\n",
    "\n",
    "# Такая декларация равноценна обычной (классической) декларации \n",
    "\n",
    "Bar = type('Bar',(Foo,),dict(name='Ivan',age=45,location='Moscow',test_method=lambda x: x.age * 2))\n",
    "bar = Bar()\n",
    "print(bar.age,bar.name, bar.location)\n",
    "bar.test_method()\n"
   ]
  },
  {
   "cell_type": "code",
   "execution_count": 64,
   "id": "07346b91-f718-4013-a9a9-1fdfcb7e320b",
   "metadata": {},
   "outputs": [
    {
     "data": {
      "text/plain": [
       "'Attribute Num One'"
      ]
     },
     "execution_count": 64,
     "metadata": {},
     "output_type": "execute_result"
    }
   ],
   "source": [
    "# Теперь создадим свой пользовательский метакласс от которого можно наследоваться.\n",
    "# Он должен быть прозводным от type...\n",
    "\n",
    "class Meta(type):\n",
    "    def __new__(cls,name,base,dct):\n",
    "        instance = super().__new__(cls,name,base,dct) # при помощи super() берет у type __new__\n",
    "        instance.attr = 'Attribute Num One'\n",
    "        return instance\n",
    "\n",
    "# __new__()Обратите внимание, что для определен пользовательский метод. \n",
    "# Сделать это напрямую Metaс метаклассом было невозможно . Метод делает следующее:type__new__()\n",
    "# Делегирует через super()метод __new__()родительского метакласса ( type) для фактического создания нового класса\n",
    "# Назначает пользовательский атрибут attrклассу со значением100\n",
    "# Возвращает вновь созданный класс\n",
    "\n",
    "\n",
    "\n",
    "class MyClass(metaclass=Meta):\n",
    "    pass\n",
    "\n",
    "mc = MyClass()\n",
    "\n",
    "# И MyClass класс подхватил атрибуты у определенного мною метакласса Meta...\n",
    "mc.attr"
   ]
  },
  {
   "cell_type": "code",
   "execution_count": null,
   "id": "dfb93274-fe78-4a9e-9311-906453d7fcd9",
   "metadata": {},
   "outputs": [],
   "source": [
    "# Резюмирую... Идея близка к абстрактным Базовым Классам\n",
    "Но разница в том что Абстрактные Базовые нельзя инстанцировать.\n",
    "И конечно метаклассы они базируются на type\n",
    "---\n",
    "Надо разобраться где и когда лучше применять АБК и Мета классы\n"
   ]
  }
 ],
 "metadata": {
  "kernelspec": {
   "display_name": "Python 3 (ipykernel)",
   "language": "python",
   "name": "python3"
  },
  "language_info": {
   "codemirror_mode": {
    "name": "ipython",
    "version": 3
   },
   "file_extension": ".py",
   "mimetype": "text/x-python",
   "name": "python",
   "nbconvert_exporter": "python",
   "pygments_lexer": "ipython3",
   "version": "3.9.6"
  }
 },
 "nbformat": 4,
 "nbformat_minor": 5
}
