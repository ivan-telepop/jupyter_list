{
 "cells": [
  {
   "cell_type": "code",
   "execution_count": null,
   "id": "96bce56b-ed15-4ac7-870b-e601910707b6",
   "metadata": {},
   "outputs": [],
   "source": [
    " Позанимайся оч прикольный модуль \n",
    "https://docs.python.org/3/library/difflib.html#difflib.context_diff"
   ]
  },
  {
   "cell_type": "code",
   "execution_count": 21,
   "id": "4a2134ab-863f-46dc-b81f-734db6c27e61",
   "metadata": {},
   "outputs": [
    {
     "name": "stdout",
     "output_type": "stream",
     "text": [
      "['appe', 'apple', '   app']\n"
     ]
    }
   ],
   "source": [
    "import difflib as df\n",
    "\n",
    "value = 'app'\n",
    "\n",
    "words_to_check = ['appe','apple','appelsin','pineapple','napples','   app']\n",
    "\n",
    "closest_matches = df.get_close_matches(value,words_to_check)\n",
    "\n",
    "\n",
    "\n",
    "print(closest_matches)\n",
    "\n"
   ]
  },
  {
   "cell_type": "code",
   "execution_count": 6,
   "id": "ff304923-6618-4b60-94da-28bc5a8fd729",
   "metadata": {},
   "outputs": [
    {
     "name": "stdout",
     "output_type": "stream",
     "text": [
      "*** \n",
      "\n",
      "--- \n",
      "\n",
      "***************\n",
      "\n",
      "*** 1,6 ****\n",
      "\n",
      "! heller\n",
      "  helicopter\n",
      "! hell\n",
      "! tilda\n",
      "! atlantida\n",
      "  arora\n",
      "--- 1,6 ----\n",
      "\n",
      "! helper\n",
      "  helicopter\n",
      "! hellios\n",
      "! tildometr\n",
      "! atlanta\n",
      "  arora\n"
     ]
    }
   ],
   "source": [
    "import difflib as df\n",
    "s1 = ['heller','helicopter','hell','tilda','atlantida','arora']\n",
    "s2 = ['helper','helicopter','hellios','tildometr','atlanta','arora']\n",
    "gen_df = df.context_diff(s1,s2)\n",
    "\n",
    "for i in gen_df:\n",
    "    print(i)\n"
   ]
  },
  {
   "cell_type": "code",
   "execution_count": 7,
   "id": "b304265d-431d-44ca-bd71-e0a3a4ba4ed0",
   "metadata": {},
   "outputs": [
    {
     "name": "stdout",
     "output_type": "stream",
     "text": [
      "['  П', '  р', '  и', '  в', '  е', '  т', '  ,', '   ', '- м', '- и', '+ в', '+ о', '  р', '- !', '+ л', '+ д']\n",
      "[' ', ' ', 'П'] 3\n",
      "[' ', ' ', 'р'] 3\n",
      "[' ', ' ', 'и'] 3\n",
      "[' ', ' ', 'в'] 3\n",
      "[' ', ' ', 'е'] 3\n",
      "[' ', ' ', 'т'] 3\n",
      "[' ', ' ', ','] 3\n",
      "[' ', ' ', ' '] 3\n",
      "['-', ' ', 'м'] 3\n",
      "['-', ' ', 'и'] 3\n",
      "['+', ' ', 'в'] 3\n",
      "['+', ' ', 'о'] 3\n",
      "[' ', ' ', 'р'] 3\n",
      "['-', ' ', '!'] 3\n",
      "['+', ' ', 'л'] 3\n",
      "['+', ' ', 'д'] 3\n"
     ]
    }
   ],
   "source": [
    "import difflib\n",
    "\n",
    "text1 = \"Привет, мир!\"\n",
    "text2 = \"Привет, ворлд\"\n",
    "\n",
    "# Создаем объект сравнения\n",
    "d = difflib.Differ()\n",
    "\n",
    "# Получаем разницу\n",
    "result = list(d.compare(text1, text2))\n",
    "\n",
    "# Печатаем результат\n",
    "print(result)\n",
    "\n",
    "for y in result:\n",
    "    print(list(y),len(y))\n"
   ]
  },
  {
   "cell_type": "code",
   "execution_count": 9,
   "id": "d40f8516-9c84-4328-9696-be0a28409d15",
   "metadata": {},
   "outputs": [
    {
     "name": "stdout",
     "output_type": "stream",
     "text": [
      "Похожесть: 0.6666666666666666\n"
     ]
    }
   ],
   "source": [
    "from difflib import SequenceMatcher\n",
    "\n",
    "a = \"Кит\"\n",
    "b = \"Кот\"\n",
    "\n",
    "s = SequenceMatcher(None, a, b)\n",
    "\n",
    "print(\"Похожесть:\", s.ratio())"
   ]
  },
  {
   "cell_type": "code",
   "execution_count": 12,
   "id": "32846584-a6f7-42a0-bd52-692b2d36fa66",
   "metadata": {},
   "outputs": [
    {
     "data": {
      "text/plain": [
       "['  4. Complex is better than complicated.',\n",
       " '  3. Simple is better than complex.',\n",
       " '  2. Explicit is better than implicit.',\n",
       " '  1. Beautiful is better than ugly.']"
      ]
     },
     "execution_count": 12,
     "metadata": {},
     "output_type": "execute_result"
    }
   ],
   "source": [
    "dzen = '''  1. Beautiful is better than ugly.\n",
    "  2. Explicit is better than implicit.\n",
    "  3. Simple is better than complex.\n",
    "  4. Complex is better than complicated.\n",
    "'''\n",
    "\n",
    "dzen.splitlines()[::-1]"
   ]
  }
 ],
 "metadata": {
  "kernelspec": {
   "display_name": "Python 3 (ipykernel)",
   "language": "python",
   "name": "python3"
  },
  "language_info": {
   "codemirror_mode": {
    "name": "ipython",
    "version": 3
   },
   "file_extension": ".py",
   "mimetype": "text/x-python",
   "name": "python",
   "nbconvert_exporter": "python",
   "pygments_lexer": "ipython3",
   "version": "3.9.6"
  }
 },
 "nbformat": 4,
 "nbformat_minor": 5
}
