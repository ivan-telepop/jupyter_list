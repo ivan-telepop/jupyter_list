{
 "cells": [
  {
   "cell_type": "code",
   "execution_count": 17,
   "id": "65fd2e1e-7783-4f77-b7d8-472d3e039f26",
   "metadata": {},
   "outputs": [
    {
     "data": {
      "text/plain": [
       "([0, 1, 2, 3, 4], [0, 1, 2, 3, 4], [0, 1, 2, 3, 4])"
      ]
     },
     "execution_count": 17,
     "metadata": {},
     "output_type": "execute_result"
    }
   ],
   "source": [
    "\n",
    "lst = [i for i in range(0,1000)]\n",
    "\n",
    "n = 5\n",
    "\n",
    "def chunks(lst, n):\n",
    "    \"\"\"Yield successive n-sized chunks from lst.\"\"\"\n",
    "    for i in range(0, len(lst), n):\n",
    "        yield lst[i:i + n]\n",
    "\n",
    "\n",
    "a1 = next(chunks(lst,n)) \n",
    "a2 = next(chunks(lst,n)) \n",
    "a3 = next(chunks(lst,n))\n",
    "\n",
    "a1,a2,a3\n",
    "\n"
   ]
  },
  {
   "cell_type": "code",
   "execution_count": 41,
   "id": "7d97ee8f-514c-4549-a9ea-0355fccec8ce",
   "metadata": {},
   "outputs": [
    {
     "name": "stdout",
     "output_type": "stream",
     "text": [
      "['s', 'd', 'f', 'g', 'h']\n",
      "['j', 'k', 'l', 'q', 'w']\n",
      "['e', 'r', 't', 'y', 'u']\n",
      "['i']\n"
     ]
    }
   ],
   "source": [
    "ll = [ i for i in range(0,50)]\n",
    "\n",
    "def chunks(lst:list, step:int) -> list:\n",
    "    \"\"\"Генератор который возвращает целое партиями\"\"\"\n",
    "    for i in range(1,len(lst),step): \n",
    "        yield lst[i: i+ step]\n",
    "\n",
    "\n",
    "\n",
    "chunked_result = chunks(list('asdfghjklqwertyui'),5)\n",
    "for i in chunked_result:\n",
    "    print(i)"
   ]
  },
  {
   "cell_type": "code",
   "execution_count": 69,
   "id": "d52e31b2-83cb-4ab7-af15-990b3b29f223",
   "metadata": {},
   "outputs": [
    {
     "name": "stdout",
     "output_type": "stream",
     "text": [
      "1 2 3 4 5 6 7 8 9 10 11 12 13 14 15 16 17 18 19 20 1 2 3 4 5 6 7 8 9 10 11 12 13 14 15 16 17 18 19 20\n"
     ]
    }
   ],
   "source": [
    "from itertools import tee\n",
    "lst = [y for y in range(1,101)]\n",
    "\n",
    "# tee - делает из одной последовательности N количество итераторов\n",
    "\n",
    "n = 2 # quantity of iterators\n",
    "a1, a2 = tee(lst[0: int(len(lst) / 5)],n)\n",
    "\n",
    "\n",
    "\n",
    "\n",
    "# rslt = [] \n",
    "\n",
    "# for i in range(len(lst)):\n",
    "#     while i <= len(lst):\n",
    "#         for it in lst:\n",
    "#             if (it +1) == lst[i+1]:\n",
    "#                 rslt.append(it)\n",
    "#     print(rslt)\n",
    "        \n",
    "# for i in range(len(lst)):\n",
    "#     while i != int(len(lst)):\n",
    "#         print(i)\n",
    "\n",
    "\n",
    "print(*a1,*a2)"
   ]
  },
  {
   "cell_type": "code",
   "execution_count": null,
   "id": "07cd0572-8de9-4014-8039-d3582161346e",
   "metadata": {},
   "outputs": [],
   "source": []
  }
 ],
 "metadata": {
  "kernelspec": {
   "display_name": "Python 3 (ipykernel)",
   "language": "python",
   "name": "python3"
  },
  "language_info": {
   "codemirror_mode": {
    "name": "ipython",
    "version": 3
   },
   "file_extension": ".py",
   "mimetype": "text/x-python",
   "name": "python",
   "nbconvert_exporter": "python",
   "pygments_lexer": "ipython3",
   "version": "3.9.6"
  }
 },
 "nbformat": 4,
 "nbformat_minor": 5
}
