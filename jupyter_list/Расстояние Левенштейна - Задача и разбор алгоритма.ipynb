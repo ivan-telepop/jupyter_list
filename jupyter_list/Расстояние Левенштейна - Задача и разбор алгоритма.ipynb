{
 "cells": [
  {
   "cell_type": "code",
   "execution_count": 46,
   "id": "b1dce847-dd9a-42ec-b60f-32edd9444d80",
   "metadata": {},
   "outputs": [
    {
     "name": "stdout",
     "output_type": "stream",
     "text": [
      "Разница в объекте difference: ['- t', '+ p', '+ o', '+ p', '  e', '  l', '  e', '+ t', '- p', '- o', '- p']\n",
      "Расстояние Левенштейна равно: 0\n"
     ]
    }
   ],
   "source": [
    "# Грубое - простое решение нахождения Расстояние Дамерау — Левенштейна\n",
    "\n",
    "from collections import Counter\n",
    "import difflib\n",
    "\n",
    "\n",
    "# Есть две строки \n",
    "# str_a = 'rosenblat'\n",
    "\n",
    "# str_b = 'rosenbloom'\n",
    "\n",
    "str_a = 'telepop'\n",
    "str_b = 'popelet'\n",
    "\n",
    "\n",
    "# Объект диффер \n",
    "\n",
    "dif_obj = difflib.Differ()\n",
    "\n",
    "\n",
    "# Разница в строках - ['  r', '  o', '  s', '  e', '  n', '  b', '  l', '- a', '- t', '+ o', '+ o', '+ m']\n",
    "difference = dif_obj.compare(str_a,str_b)\n",
    "\n",
    "print(\"Разница в объекте difference:\",[i for i in difference])\n",
    "\n",
    "mrk = ['+','-']\n",
    "\n",
    "res = []\n",
    "\n",
    "for y in difference:\n",
    "    foo = y.split()\n",
    "    if len(foo) >= 2 and foo[0] in mrk:\n",
    "        res.append(foo)\n",
    "        \n",
    "print('Расстояние Левенштейна равно:',len(res))        \n",
    "\n"
   ]
  }
 ],
 "metadata": {
  "kernelspec": {
   "display_name": "Python 3 (ipykernel)",
   "language": "python",
   "name": "python3"
  },
  "language_info": {
   "codemirror_mode": {
    "name": "ipython",
    "version": 3
   },
   "file_extension": ".py",
   "mimetype": "text/x-python",
   "name": "python",
   "nbconvert_exporter": "python",
   "pygments_lexer": "ipython3",
   "version": "3.9.6"
  }
 },
 "nbformat": 4,
 "nbformat_minor": 5
}
