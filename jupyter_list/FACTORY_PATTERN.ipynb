{
 "cells": [
  {
   "cell_type": "code",
   "execution_count": null,
   "id": "88613b36-1305-40af-bc37-efff5fbc3a40",
   "metadata": {},
   "outputs": [],
   "source": [
    "# Factory pattern\n",
    "class Frog:\n",
    "    def __init__(self,name):\n",
    "        self.name = name\n",
    "    def __str__(self):\n",
    "        return self.name\n",
    "    def interact_with(self,obstacle):\n",
    "        print(f\"The {self.name} encounters with {obstacle} and suddenly {obstacle.action()}\")\n",
    "\n",
    "class Bug:\n",
    "    def __str__(self):\n",
    "        return \"the bug...\"\n",
    "    def action(self):\n",
    "        return \"eats it...\"\n",
    "\n",
    "class FrogWorld:\n",
    "    def __init__(self, name):\n",
    "        print(self)\n",
    "        self.player_name = name\n",
    "    def __str__(self):\n",
    "        return '\\n\\n\\t------ Frog World -------'\n",
    "    def make_character(self):\n",
    "        return Frog(self.player_name)\n",
    "    def make_obstacle(self):\n",
    "        return Bug()\n",
    "    \n",
    "    "
   ]
  }
 ],
 "metadata": {
  "kernelspec": {
   "display_name": "Python 3 (ipykernel)",
   "language": "python",
   "name": "python3"
  },
  "language_info": {
   "codemirror_mode": {
    "name": "ipython",
    "version": 3
   },
   "file_extension": ".py",
   "mimetype": "text/x-python",
   "name": "python",
   "nbconvert_exporter": "python",
   "pygments_lexer": "ipython3",
   "version": "3.9.6"
  }
 },
 "nbformat": 4,
 "nbformat_minor": 5
}
