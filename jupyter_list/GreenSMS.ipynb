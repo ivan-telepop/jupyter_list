{
 "cells": [
  {
   "cell_type": "code",
   "execution_count": 1,
   "id": "d357ffa6",
   "metadata": {},
   "outputs": [
    {
     "name": "stdout",
     "output_type": "stream",
     "text": [
      "Collecting greensms\n",
      "  Downloading greensms-2.0.1-py2.py3-none-any.whl (12 kB)\n",
      "Requirement already satisfied: requests in /usr/local/lib/python3.10/site-packages (from greensms) (2.28.1)\n",
      "Requirement already satisfied: six in /usr/local/lib/python3.10/site-packages (from greensms) (1.16.0)\n",
      "Collecting twine (from greensms)\n",
      "  Downloading twine-4.0.2-py3-none-any.whl (36 kB)\n",
      "Collecting cerberus (from greensms)\n",
      "  Downloading Cerberus-1.3.5-py3-none-any.whl (30 kB)\n",
      "Collecting pyhumps (from greensms)\n",
      "  Downloading pyhumps-3.8.0-py3-none-any.whl (6.1 kB)\n",
      "Requirement already satisfied: charset-normalizer<3,>=2 in /usr/local/lib/python3.10/site-packages (from requests->greensms) (2.1.1)\n",
      "Requirement already satisfied: idna<4,>=2.5 in /usr/local/lib/python3.10/site-packages (from requests->greensms) (3.4)\n",
      "Requirement already satisfied: urllib3<1.27,>=1.21.1 in /usr/local/lib/python3.10/site-packages (from requests->greensms) (1.26.13)\n",
      "Requirement already satisfied: certifi>=2017.4.17 in /usr/local/lib/python3.10/site-packages (from requests->greensms) (2022.12.7)\n",
      "Requirement already satisfied: pkginfo>=1.8.1 in /usr/local/lib/python3.10/site-packages (from twine->greensms) (1.9.2)\n",
      "Collecting readme-renderer>=35.0 (from twine->greensms)\n",
      "  Downloading readme_renderer-40.0-py3-none-any.whl (14 kB)\n",
      "Requirement already satisfied: requests-toolbelt!=0.9.0,>=0.8.0 in /usr/local/lib/python3.10/site-packages (from twine->greensms) (0.10.1)\n",
      "Requirement already satisfied: importlib-metadata>=3.6 in /usr/local/lib/python3.10/site-packages (from twine->greensms) (6.0.0)\n",
      "Requirement already satisfied: keyring>=15.1 in /usr/local/lib/python3.10/site-packages (from twine->greensms) (23.13.1)\n",
      "Requirement already satisfied: rfc3986>=1.4.0 in /usr/local/lib/python3.10/site-packages (from twine->greensms) (1.5.0)\n",
      "Requirement already satisfied: rich>=12.0.0 in /usr/local/lib/python3.10/site-packages (from twine->greensms) (13.0.0)\n",
      "Requirement already satisfied: zipp>=0.5 in /usr/local/lib/python3.10/site-packages (from importlib-metadata>=3.6->twine->greensms) (3.11.0)\n",
      "Requirement already satisfied: jaraco.classes in /usr/local/lib/python3.10/site-packages (from keyring>=15.1->twine->greensms) (3.2.3)\n",
      "Requirement already satisfied: bleach>=2.1.0 in /usr/local/lib/python3.10/site-packages (from readme-renderer>=35.0->twine->greensms) (5.0.1)\n",
      "Requirement already satisfied: docutils>=0.13.1 in /usr/local/lib/python3.10/site-packages (from readme-renderer>=35.0->twine->greensms) (0.19)\n",
      "Requirement already satisfied: Pygments>=2.5.1 in /usr/local/lib/python3.10/site-packages (from readme-renderer>=35.0->twine->greensms) (2.14.0)\n",
      "Requirement already satisfied: commonmark<0.10.0,>=0.9.0 in /usr/local/lib/python3.10/site-packages (from rich>=12.0.0->twine->greensms) (0.9.1)\n",
      "Requirement already satisfied: webencodings in /usr/local/lib/python3.10/site-packages (from bleach>=2.1.0->readme-renderer>=35.0->twine->greensms) (0.5.1)\n",
      "Requirement already satisfied: more-itertools in /usr/local/lib/python3.10/site-packages (from jaraco.classes->keyring>=15.1->twine->greensms) (9.0.0)\n",
      "Installing collected packages: pyhumps, cerberus, readme-renderer, twine, greensms\n",
      "Successfully installed cerberus-1.3.5 greensms-2.0.1 pyhumps-3.8.0 readme-renderer-40.0 twine-4.0.2\n",
      "\n",
      "\u001b[1m[\u001b[0m\u001b[34;49mnotice\u001b[0m\u001b[1;39;49m]\u001b[0m\u001b[39;49m A new release of pip is available: \u001b[0m\u001b[31;49m23.1.2\u001b[0m\u001b[39;49m -> \u001b[0m\u001b[32;49m23.2.1\u001b[0m\n",
      "\u001b[1m[\u001b[0m\u001b[34;49mnotice\u001b[0m\u001b[1;39;49m]\u001b[0m\u001b[39;49m To update, run: \u001b[0m\u001b[32;49mpython3.10 -m pip install --upgrade pip\u001b[0m\n"
     ]
    }
   ],
   "source": [
    "!pip install greensms"
   ]
  },
  {
   "cell_type": "code",
   "execution_count": null,
   "id": "04291052",
   "metadata": {},
   "outputs": [],
   "source": [
    "from greensms.client import GreenSMS\n",
    "\n",
    "# Register at my.greensms.ru first\n",
    "client = GreenSMS(user='test', password='test')\n",
    "\n",
    "response = client.sms.send(to='71231234567', txt='Message to deliver')\n",
    "print(response.request_id) # or print(response['request_id'])"
   ]
  }
 ],
 "metadata": {
  "kernelspec": {
   "display_name": "Python 3 (ipykernel)",
   "language": "python",
   "name": "python3"
  },
  "language_info": {
   "codemirror_mode": {
    "name": "ipython",
    "version": 3
   },
   "file_extension": ".py",
   "mimetype": "text/x-python",
   "name": "python",
   "nbconvert_exporter": "python",
   "pygments_lexer": "ipython3",
   "version": "3.9.6"
  }
 },
 "nbformat": 4,
 "nbformat_minor": 5
}
