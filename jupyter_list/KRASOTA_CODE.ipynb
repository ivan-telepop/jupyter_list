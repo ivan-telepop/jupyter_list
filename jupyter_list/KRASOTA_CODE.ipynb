{
 "cells": [
  {
   "cell_type": "code",
   "execution_count": null,
   "id": "7d0eb9f9-e4d3-4921-9d3c-cdc11a5a10d5",
   "metadata": {},
   "outputs": [],
   "source": [
    "# Here is most beautiful code lines that i'll get for my practice\n",
    "\n"
   ]
  },
  {
   "cell_type": "code",
   "execution_count": 1,
   "id": "64a7086d-e5c5-466c-8d2d-6296ec29203c",
   "metadata": {},
   "outputs": [
    {
     "data": {
      "text/plain": [
       "One(data='YYY', age=44)"
      ]
     },
     "execution_count": 1,
     "metadata": {},
     "output_type": "execute_result"
    }
   ],
   "source": [
    "# Variable defining with if else statement\n",
    "\n",
    "from collections import namedtuple\n",
    "\n",
    "one = namedtuple('One','data age')\n",
    "two = namedtuple('Two','data age')\n",
    "X = one('XXX',17)\n",
    "Y = one('YYY',44)\n",
    "\n",
    "# L O O K   O N   I T \n",
    "valid = X if X.age < 15 else Y\n",
    "\n",
    "valid"
   ]
  },
  {
   "cell_type": "code",
   "execution_count": 80,
   "id": "b566bc9d-dcb9-4b90-93da-f3386c6371f4",
   "metadata": {},
   "outputs": [
    {
     "name": "stdout",
     "output_type": "stream",
     "text": [
      "8 3\n",
      "7 4\n",
      "6 5\n",
      "5 6\n",
      "4 7\n",
      "3 8\n"
     ]
    }
   ],
   "source": [
    "it_val = [1,2,3,4,5,6,7,8,9,0]\n",
    "it_key = [ i for i in range(len(it_val)) ]\n",
    "\n",
    "zz = zip(it_key,it_val)\n",
    "\n",
    "target = 13\n",
    "\n",
    "def abc(iterable,target):\n",
    "    zipped = zip(range(len(iterable)),iterable)\n",
    "    for index in range(len(iterable)):\n",
    "        # Indexing items\n",
    "        for num in iterable:\n",
    "            # cicle for iterable\n",
    "            if num is not iterable[index]: # Если это не тот же элемент что и в верхнем цикле индекс\n",
    "                summed = iterable[index] + num \n",
    "                if summed == target:\n",
    "                    print(iterable.index(num),index)\n",
    "\n",
    "                \n",
    "abc(it_val,target)\n",
    "\n",
    "\n"
   ]
  },
  {
   "cell_type": "code",
   "execution_count": 51,
   "id": "9a45eb14-df5d-4085-8c80-c3a5472068cd",
   "metadata": {},
   "outputs": [
    {
     "name": "stdout",
     "output_type": "stream",
     "text": [
      "1 p\n",
      "2 o\n",
      "3 i\n",
      "4 u\n",
      "5 y\n",
      "6 t\n",
      "7 r\n",
      "8 e\n",
      "9 w\n",
      "10 q\n"
     ]
    }
   ],
   "source": [
    "ls = [ x for x in 'poiuytrewqp']\n",
    "ll = [i for i in range(1,11)]\n",
    "ll\n",
    "for i in zip(ll,ls):\n",
    "    print(i[0],i[1])\n"
   ]
  },
  {
   "cell_type": "code",
   "execution_count": 20,
   "id": "73be5b52-6d9f-4a78-9459-d3b2ab33c7e3",
   "metadata": {},
   "outputs": [
    {
     "name": "stdout",
     "output_type": "stream",
     "text": [
      "('one', 1)\n",
      "('one', 2)\n",
      "('one', 3)\n",
      "('one', 4)\n",
      "('one', 5)\n",
      "('two', 1)\n",
      "('two', 2)\n",
      "('two', 3)\n",
      "('two', 4)\n",
      "('two', 5)\n",
      "('three', 1)\n",
      "('three', 2)\n",
      "('three', 3)\n",
      "('three', 4)\n",
      "('three', 5)\n",
      "('four', 1)\n",
      "('four', 2)\n",
      "('four', 3)\n",
      "('four', 4)\n",
      "('four', 5)\n",
      "('five', 1)\n",
      "('five', 2)\n",
      "('five', 3)\n",
      "('five', 4)\n",
      "('five', 5)\n"
     ]
    }
   ],
   "source": [
    "items = ['one','two','three','four','five']\n",
    "nums = [1,2,3,4,5]\n",
    "\n",
    "lst =  [ {a:b} for a in items for b in nums ]\n",
    "\n",
    "for one in ((i,n) for i in items for n in nums ):\n",
    "    print(one)\n"
   ]
  },
  {
   "cell_type": "code",
   "execution_count": 4,
   "id": "fe1010e8-6153-49b3-b74c-24b4ad81603a",
   "metadata": {},
   "outputs": [
    {
     "data": {
      "text/plain": [
       "'else block'"
      ]
     },
     "execution_count": 4,
     "metadata": {},
     "output_type": "execute_result"
    }
   ],
   "source": [
    "val = False\n",
    "\n",
    "var = 'true variant' if val is True else 'else block'\n",
    "\n",
    "var"
   ]
  }
 ],
 "metadata": {
  "kernelspec": {
   "display_name": "Python 3 (ipykernel)",
   "language": "python",
   "name": "python3"
  },
  "language_info": {
   "codemirror_mode": {
    "name": "ipython",
    "version": 3
   },
   "file_extension": ".py",
   "mimetype": "text/x-python",
   "name": "python",
   "nbconvert_exporter": "python",
   "pygments_lexer": "ipython3",
   "version": "3.13.0a6"
  }
 },
 "nbformat": 4,
 "nbformat_minor": 5
}
