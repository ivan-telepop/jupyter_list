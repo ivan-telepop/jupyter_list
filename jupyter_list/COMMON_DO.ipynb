{
 "cells": [
  {
   "cell_type": "code",
   "execution_count": 27,
   "id": "0ff7eb55-cc2a-4c9f-8d82-56bfc5b6304a",
   "metadata": {},
   "outputs": [
    {
     "name": "stdout",
     "output_type": "stream",
     "text": [
      "97\n",
      "98\n",
      "99\n",
      "100\n",
      "101\n",
      "102\n",
      "103\n",
      "104\n",
      "45\n",
      "42\n",
      "38\n",
      "94\n",
      "37\n",
      "36\n"
     ]
    }
   ],
   "source": [
    "# DATA TYPES - Mutable\n",
    "\n",
    "lst = [ i for i in range(1,10)]\n",
    "\n",
    "dct = dict({'list':lst,'dict': {'alpha': 123}, 'set': set([1,2,3,4,5,6])})\n",
    "\n",
    "\n",
    "ssett = set(lst)\n",
    "\n",
    "btarr = bytearray(lst)\n",
    "\n",
    "ssett, lst, dct, btarr\n",
    "\n",
    "\n",
    "\n",
    "btarr[3] = 123\n",
    "\n",
    "btarr[::-1]\n",
    "\n",
    "byt = bytearray('abcdefgh-*&^%$','utf-8')\n",
    "\n",
    "for _ in byt:\n",
    "    print(_)"
   ]
  },
  {
   "cell_type": "code",
   "execution_count": 39,
   "id": "6aec22db-6ce9-4dbc-a663-6df88bc74238",
   "metadata": {},
   "outputs": [
    {
     "data": {
      "text/plain": [
       "b'1#2#3#4#5'"
      ]
     },
     "execution_count": 39,
     "metadata": {},
     "output_type": "execute_result"
    }
   ],
   "source": [
    "b'#'.join([bytes(str(i),'utf-8') for i in [1,2,3,4,5]])"
   ]
  }
 ],
 "metadata": {
  "kernelspec": {
   "display_name": "Python 3.13 jupy_venv",
   "language": "python",
   "name": "jupy_venv"
  },
  "language_info": {
   "codemirror_mode": {
    "name": "ipython",
    "version": 3
   },
   "file_extension": ".py",
   "mimetype": "text/x-python",
   "name": "python",
   "nbconvert_exporter": "python",
   "pygments_lexer": "ipython3",
   "version": "3.12.9"
  }
 },
 "nbformat": 4,
 "nbformat_minor": 5
}
