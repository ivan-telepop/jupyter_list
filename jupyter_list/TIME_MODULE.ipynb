{
 "cells": [
  {
   "cell_type": "code",
   "execution_count": 2,
   "id": "6cc65b1a-ff18-4c52-aaf7-f4975219ed12",
   "metadata": {},
   "outputs": [
    {
     "name": "stdout",
     "output_type": "stream",
     "text": [
      "Current time in seconds since epoch = 1723783203.482811\n",
      "Current = Fri Aug 16 07:40:03 2024\n",
      "\n",
      "\n",
      "Localtime object =  time.struct_time(tm_year=2024, tm_mon=8, tm_mday=16, tm_hour=7, tm_min=40, tm_sec=3, tm_wday=4, tm_yday=229, tm_isdst=0)\n"
     ]
    }
   ],
   "source": [
    "import time\n",
    "\n",
    "time.gmtime()\n",
    "\n",
    "print(\"Current time in seconds since epoch =\", time.time())\n",
    "\n",
    "\n",
    "print(\"Current =\", time.ctime())\n",
    "\n",
    "print(\"\\n\")\n",
    "\n",
    "obj = time.localtime()\n",
    "print(\"Localtime object = \",obj)"
   ]
  },
  {
   "cell_type": "code",
   "execution_count": 18,
   "id": "af0ca43e-e286-4d30-8e33-2dd2f46f4313",
   "metadata": {},
   "outputs": [
    {
     "name": "stdout",
     "output_type": "stream",
     "text": [
      "Local time (in seconds): 1720541274.0\n"
     ]
    }
   ],
   "source": [
    "obj1 = time.gmtime()\n",
    "time_sec = time.mktime(obj1)\n",
    "print(\"Local time (in seconds):\", time_sec)"
   ]
  },
  {
   "cell_type": "code",
   "execution_count": 19,
   "id": "5b1a8556-86f7-4c38-88c5-026263b7da8c",
   "metadata": {},
   "outputs": [
    {
     "name": "stdout",
     "output_type": "stream",
     "text": [
      "Tue, 03 Aug 2021 10:45:08\n"
     ]
    }
   ],
   "source": [
    "from time import gmtime, strftime\n",
    "s = strftime(\"%a, %d %b %Y %H:%M:%S\", \n",
    "             gmtime(1627987508.6496193))\n",
    "print(s)"
   ]
  },
  {
   "cell_type": "code",
   "execution_count": 3,
   "id": "24dd4feb-7ad9-4f4c-947b-29efed04ccf2",
   "metadata": {},
   "outputs": [
    {
     "data": {
      "text/plain": [
       "'Fri Aug 16 07:40:05 2024'"
      ]
     },
     "execution_count": 3,
     "metadata": {},
     "output_type": "execute_result"
    }
   ],
   "source": [
    "time.asctime()"
   ]
  }
 ],
 "metadata": {
  "kernelspec": {
   "display_name": "Python 3 (ipykernel)",
   "language": "python",
   "name": "python3"
  },
  "language_info": {
   "codemirror_mode": {
    "name": "ipython",
    "version": 3
   },
   "file_extension": ".py",
   "mimetype": "text/x-python",
   "name": "python",
   "nbconvert_exporter": "python",
   "pygments_lexer": "ipython3",
   "version": "3.13.0a6"
  }
 },
 "nbformat": 4,
 "nbformat_minor": 5
}
