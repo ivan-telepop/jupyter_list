{
 "cells": [
  {
   "cell_type": "code",
   "execution_count": null,
   "id": "a3b2cdfa",
   "metadata": {},
   "outputs": [],
   "source": [
    "# NUMPY\n",
    "# LIST MATH METHODS https://numpy.org/doc/stable/reference/routines.math.html"
   ]
  },
  {
   "cell_type": "code",
   "execution_count": 2,
   "id": "f89c8610",
   "metadata": {},
   "outputs": [],
   "source": [
    "import numpy as np\n",
    "import matplotlib.pyplot as plt"
   ]
  },
  {
   "cell_type": "code",
   "execution_count": 20,
   "id": "d80ede58",
   "metadata": {},
   "outputs": [
    {
     "data": {
      "text/plain": [
       "array([ 1. ,  2. , -3. ,  4. ,  5. ,  6.5])"
      ]
     },
     "execution_count": 20,
     "metadata": {},
     "output_type": "execute_result"
    }
   ],
   "source": [
    "#FLOAT 64 - float Вещественные числа, с плавающей точкой.\n",
    "a = np.array([1,2,-3,4,5,6.5],dtype='float64')\n",
    "a"
   ]
  },
  {
   "cell_type": "code",
   "execution_count": 12,
   "id": "52148d1a",
   "metadata": {},
   "outputs": [],
   "source": [
    "# np.sctypeDict - Такая конструкция выведет все типы данных которые поддерживает NUMPY оч много !"
   ]
  },
  {
   "cell_type": "code",
   "execution_count": 35,
   "id": "56cd2951",
   "metadata": {},
   "outputs": [
    {
     "data": {
      "text/plain": [
       "array([ 89, -48,  65,  30,  25, -98], dtype=int8)"
      ]
     },
     "execution_count": 35,
     "metadata": {},
     "output_type": "execute_result"
    }
   ],
   "source": [
    "# Есть Глюки ! НАДО ЗНАТЬ !!!\n",
    "# При хранение в массиве с определенным типом в 8бит (1 байт) длинные числа не влазиют. \n",
    "#Он (numpy) их режет и трансформирует. (старое поведение) Как ниже ! (По новому ругается в консоль)\n",
    "ss = np.array([89,2000,65,30,25,670]).astype(dtype='int8')\n",
    "ss"
   ]
  },
  {
   "cell_type": "code",
   "execution_count": 107,
   "id": "45aec269",
   "metadata": {},
   "outputs": [
    {
     "data": {
      "text/plain": [
       "'hello world'"
      ]
     },
     "execution_count": 107,
     "metadata": {},
     "output_type": "execute_result"
    }
   ],
   "source": [
    "# Creating 3D Array\n",
    "\n",
    "def hello():\n",
    "    hello = \"hello world\"\n",
    "    return hello\n",
    "\n",
    "# И МАССИВАХ МОЖНО ДЕРЖАТЬ КОЛБЕКИ ! ЭТО ТАК КРУТО !\n",
    "arr1 = [['a1','a1',hello()],['a2','a2','a2'],['a3','a3','a3']]\n",
    "arr2 = [[21,22,23],[1,2,3],[1,2,3]]\n",
    "arr3 = [['y','c1','c1'],['c2','x','c2'],['c3','c3','c3']]\n",
    "tree_dim = [arr1,arr2,arr3]\n",
    "tree_dim[0][0][2]\n",
    "\n"
   ]
  },
  {
   "cell_type": "code",
   "execution_count": null,
   "id": "1b8eea49",
   "metadata": {},
   "outputs": [],
   "source": [
    "# METHODS COLLECTION"
   ]
  },
  {
   "cell_type": "code",
   "execution_count": 120,
   "id": "777af426",
   "metadata": {},
   "outputs": [
    {
     "data": {
      "text/plain": [
       "array([[0, 0],\n",
       "       [0, 0]], dtype=int8)"
      ]
     },
     "execution_count": 120,
     "metadata": {},
     "output_type": "execute_result"
    }
   ],
   "source": [
    "# NP.EMPTY - Создает массив из произвольных чисел - можно указать тип данных в массиве - int8\n",
    "emp = np.empty([2,2],dtype='int8')\n",
    "emp"
   ]
  },
  {
   "cell_type": "code",
   "execution_count": 123,
   "id": "1b2479f9",
   "metadata": {},
   "outputs": [
    {
     "data": {
      "text/plain": [
       "array([[1., 0., 0., 0.],\n",
       "       [0., 1., 0., 0.],\n",
       "       [0., 0., 1., 0.],\n",
       "       [0., 0., 0., 1.]])"
      ]
     },
     "execution_count": 123,
     "metadata": {},
     "output_type": "execute_result"
    }
   ],
   "source": [
    "# NP EYE - по диагонале еденички\n",
    "np.eye(4)"
   ]
  },
  {
   "cell_type": "code",
   "execution_count": 124,
   "id": "e62f8160",
   "metadata": {},
   "outputs": [
    {
     "data": {
      "text/plain": [
       "array([[1., 0., 0., 0.],\n",
       "       [0., 1., 0., 0.],\n",
       "       [0., 0., 1., 0.],\n",
       "       [0., 0., 0., 1.]])"
      ]
     },
     "execution_count": 124,
     "metadata": {},
     "output_type": "execute_result"
    }
   ],
   "source": [
    "# IDENTITY\n",
    "np.identity(4)"
   ]
  },
  {
   "cell_type": "code",
   "execution_count": 125,
   "id": "1bbf8b48",
   "metadata": {},
   "outputs": [
    {
     "data": {
      "text/plain": [
       "array([[0., 0., 0.],\n",
       "       [0., 0., 0.],\n",
       "       [0., 0., 0.]])"
      ]
     },
     "execution_count": 125,
     "metadata": {},
     "output_type": "execute_result"
    }
   ],
   "source": [
    "# ZEROS\n",
    "np.zeros([3,3])"
   ]
  },
  {
   "cell_type": "code",
   "execution_count": 126,
   "id": "95a1b6e0",
   "metadata": {},
   "outputs": [
    {
     "data": {
      "text/plain": [
       "array([[1., 1., 1., 1., 1.],\n",
       "       [1., 1., 1., 1., 1.],\n",
       "       [1., 1., 1., 1., 1.],\n",
       "       [1., 1., 1., 1., 1.],\n",
       "       [1., 1., 1., 1., 1.]])"
      ]
     },
     "execution_count": 126,
     "metadata": {},
     "output_type": "execute_result"
    }
   ],
   "source": [
    "# ONES\n",
    "np.ones([5,5])"
   ]
  },
  {
   "cell_type": "code",
   "execution_count": 127,
   "id": "00535c23",
   "metadata": {},
   "outputs": [
    {
     "data": {
      "text/plain": [
       "array([[-33, -33, -33, -33, -33],\n",
       "       [-33, -33, -33, -33, -33],\n",
       "       [-33, -33, -33, -33, -33],\n",
       "       [-33, -33, -33, -33, -33],\n",
       "       [-33, -33, -33, -33, -33]])"
      ]
     },
     "execution_count": 127,
     "metadata": {},
     "output_type": "execute_result"
    }
   ],
   "source": [
    "# FULL - You may offer the values of array\n",
    "np.full([5,5],-33)"
   ]
  },
  {
   "cell_type": "code",
   "execution_count": 135,
   "id": "25f89658",
   "metadata": {},
   "outputs": [
    {
     "data": {
      "text/plain": [
       "array([10, 10, 10, 10, 10, 10, 10, 10, 10, 10])"
      ]
     },
     "execution_count": 135,
     "metadata": {},
     "output_type": "execute_result"
    }
   ],
   "source": [
    "# MULTIPLICATION INSIDE\n",
    "np.array([10]*10)"
   ]
  },
  {
   "cell_type": "code",
   "execution_count": 141,
   "id": "738b8392",
   "metadata": {},
   "outputs": [
    {
     "data": {
      "text/plain": [
       "matrix([[1, 2],\n",
       "        [3, 4]])"
      ]
     },
     "execution_count": 141,
     "metadata": {},
     "output_type": "execute_result"
    }
   ],
   "source": [
    "# WITH STRINGS BY USING - MAT\n",
    "# np.mat(['1,2,3,4'])\n",
    "np.mat('1 2; 3 4')"
   ]
  },
  {
   "cell_type": "code",
   "execution_count": 152,
   "id": "0545fa90",
   "metadata": {},
   "outputs": [
    {
     "data": {
      "text/plain": [
       "array([['a', '', '', '', ''],\n",
       "       ['', '2', '', '', ''],\n",
       "       ['', '', '3', '', ''],\n",
       "       ['', '', '', '4', ''],\n",
       "       ['', '', '', '', '5']], dtype='<U21')"
      ]
     },
     "execution_count": 152,
     "metadata": {},
     "output_type": "execute_result"
    }
   ],
   "source": [
    "# D I A G - int/letter in tuple will be put in diagonal line\n",
    "# DIAGFLAT\n",
    "# np.diagflat([1,2,3,4,5,6])\n",
    "# diagflat almost the same behaviour - need exploration - read it !\n",
    "np.diag(['a',2,3,4,5])\n"
   ]
  },
  {
   "cell_type": "code",
   "execution_count": 159,
   "id": "b6756ff7",
   "metadata": {},
   "outputs": [
    {
     "data": {
      "text/plain": [
       "array([[1., 0., 0., 0., 0., 0.],\n",
       "       [1., 1., 0., 0., 0., 0.],\n",
       "       [1., 1., 1., 0., 0., 0.],\n",
       "       [1., 1., 1., 1., 0., 0.],\n",
       "       [1., 1., 1., 1., 1., 0.],\n",
       "       [1., 1., 1., 1., 1., 1.]])"
      ]
     },
     "execution_count": 159,
     "metadata": {},
     "output_type": "execute_result"
    }
   ],
   "source": [
    "# TRI - makes treenagle.  Below 1's... Upper side - zero's.    I N T E R E S T I N G !\n",
    "\n",
    "np.tri(6) "
   ]
  },
  {
   "cell_type": "code",
   "execution_count": 6,
   "id": "b8c13e1d",
   "metadata": {},
   "outputs": [
    {
     "data": {
      "text/plain": [
       "array([[7, 7, 7, 7, 7],\n",
       "       [0, 7, 7, 7, 7],\n",
       "       [0, 0, 7, 7, 7],\n",
       "       [0, 0, 0, 7, 7],\n",
       "       [0, 0, 0, 0, 7]])"
      ]
     },
     "execution_count": 6,
     "metadata": {},
     "output_type": "execute_result"
    }
   ],
   "source": [
    "# TRIU - Makes values up\n",
    "np.triu([7,7,7,7,7])"
   ]
  },
  {
   "cell_type": "code",
   "execution_count": 17,
   "id": "6ab7f9d5",
   "metadata": {},
   "outputs": [
    {
     "data": {
      "text/plain": [
       "array([[[5, 0, 0, 0, 0],\n",
       "        [6, 6, 0, 0, 0],\n",
       "        [7, 7, 7, 0, 0]],\n",
       "\n",
       "       [[4, 0, 0, 0, 0],\n",
       "        [9, 9, 0, 0, 0],\n",
       "        [8, 8, 8, 0, 0]],\n",
       "\n",
       "       [[5, 0, 0, 0, 0],\n",
       "        [6, 6, 0, 0, 0],\n",
       "        [7, 7, 7, 0, 0]],\n",
       "\n",
       "       [[4, 0, 0, 0, 0],\n",
       "        [9, 9, 0, 0, 0],\n",
       "        [8, 8, 8, 0, 0]]])"
      ]
     },
     "execution_count": 17,
     "metadata": {},
     "output_type": "execute_result"
    }
   ],
   "source": [
    "# TRIL - makes values below(down)\n",
    "np.tril([[[5,5,5,5,5],[6,6,6,6,6],[7,7,7,7,7]],[[4,4,4,4,4],[9,9,9,9,9],[8,8,8,8,8]],[[5,5,5,5,5],[6,6,6,6,6],[7,7,7,7,7]],[[4,4,4,4,4],[9,9,9,9,9],[8,8,8,8,8]]])"
   ]
  },
  {
   "cell_type": "code",
   "execution_count": 30,
   "id": "2cc1c098",
   "metadata": {},
   "outputs": [
    {
     "data": {
      "text/plain": [
       "array([[24,  1],\n",
       "       [20,  1]])"
      ]
     },
     "execution_count": 30,
     "metadata": {},
     "output_type": "execute_result"
    }
   ],
   "source": [
    "# VANDER - https://en.wikipedia.org/wiki/Vandermonde_matrix\n",
    "# NEED TO LEARN MORE !!!\n",
    "np.vander([4*6,5*4]) "
   ]
  },
  {
   "cell_type": "code",
   "execution_count": 65,
   "id": "02ea46fc",
   "metadata": {},
   "outputs": [
    {
     "data": {
      "text/plain": [
       "array([1.   , 1.383, 1.766, 2.149, 2.532, 2.915, 3.298, 3.681, 4.064,\n",
       "       4.447, 4.83 , 5.213, 5.596, 5.979])"
      ]
     },
     "execution_count": 65,
     "metadata": {},
     "output_type": "execute_result"
    }
   ],
   "source": [
    "# ARANGE   >>> от \"значение\" , до \"значение\" , шаг \"значение\" - на выходе список множеством по шагам.\n",
    "np.arange(1,6,0.383) # LAST INT NOT INCLUDED BUT FLOAT IS IT!"
   ]
  },
  {
   "cell_type": "code",
   "execution_count": 78,
   "id": "746c32c4",
   "metadata": {},
   "outputs": [
    {
     "data": {
      "text/plain": [
       "array([0.  , 0.01, 0.02, 0.03, 0.04, 0.05, 0.06, 0.07, 0.08, 0.09, 0.1 ,\n",
       "       0.11, 0.12, 0.13, 0.14, 0.15, 0.16, 0.17, 0.18, 0.19, 0.2 , 0.21,\n",
       "       0.22, 0.23, 0.24, 0.25, 0.26, 0.27, 0.28, 0.29, 0.3 , 0.31, 0.32,\n",
       "       0.33, 0.34, 0.35, 0.36, 0.37, 0.38, 0.39, 0.4 , 0.41, 0.42, 0.43,\n",
       "       0.44, 0.45, 0.46, 0.47, 0.48, 0.49, 0.5 , 0.51, 0.52, 0.53, 0.54,\n",
       "       0.55, 0.56, 0.57, 0.58, 0.59, 0.6 , 0.61, 0.62, 0.63, 0.64, 0.65,\n",
       "       0.66, 0.67, 0.68, 0.69, 0.7 , 0.71, 0.72, 0.73, 0.74, 0.75, 0.76,\n",
       "       0.77, 0.78, 0.79, 0.8 , 0.81, 0.82, 0.83, 0.84, 0.85, 0.86, 0.87,\n",
       "       0.88, 0.89, 0.9 , 0.91, 0.92, 0.93, 0.94, 0.95, 0.96, 0.97, 0.98,\n",
       "       0.99, 1.  , 1.01, 1.02, 1.03, 1.04, 1.05, 1.06, 1.07, 1.08, 1.09,\n",
       "       1.1 , 1.11, 1.12, 1.13, 1.14, 1.15, 1.16, 1.17, 1.18, 1.19, 1.2 ,\n",
       "       1.21, 1.22, 1.23, 1.24, 1.25, 1.26, 1.27, 1.28, 1.29, 1.3 , 1.31,\n",
       "       1.32, 1.33, 1.34, 1.35, 1.36, 1.37, 1.38, 1.39, 1.4 , 1.41, 1.42,\n",
       "       1.43, 1.44, 1.45, 1.46, 1.47, 1.48, 1.49, 1.5 , 1.51, 1.52, 1.53,\n",
       "       1.54, 1.55, 1.56, 1.57, 1.58, 1.59, 1.6 , 1.61, 1.62, 1.63, 1.64,\n",
       "       1.65, 1.66, 1.67, 1.68, 1.69, 1.7 , 1.71, 1.72, 1.73, 1.74, 1.75,\n",
       "       1.76, 1.77, 1.78, 1.79, 1.8 , 1.81, 1.82, 1.83, 1.84, 1.85, 1.86,\n",
       "       1.87, 1.88, 1.89, 1.9 , 1.91, 1.92, 1.93, 1.94, 1.95, 1.96, 1.97,\n",
       "       1.98, 1.99, 2.  , 2.01, 2.02, 2.03, 2.04, 2.05, 2.06, 2.07, 2.08,\n",
       "       2.09, 2.1 , 2.11, 2.12, 2.13, 2.14, 2.15, 2.16, 2.17, 2.18, 2.19,\n",
       "       2.2 , 2.21, 2.22, 2.23, 2.24, 2.25, 2.26, 2.27, 2.28, 2.29, 2.3 ,\n",
       "       2.31, 2.32, 2.33, 2.34, 2.35, 2.36, 2.37, 2.38, 2.39, 2.4 , 2.41,\n",
       "       2.42, 2.43, 2.44, 2.45, 2.46, 2.47, 2.48, 2.49, 2.5 , 2.51, 2.52,\n",
       "       2.53, 2.54, 2.55, 2.56, 2.57, 2.58, 2.59, 2.6 , 2.61, 2.62, 2.63,\n",
       "       2.64, 2.65, 2.66, 2.67, 2.68, 2.69, 2.7 , 2.71, 2.72, 2.73, 2.74,\n",
       "       2.75, 2.76, 2.77, 2.78, 2.79, 2.8 , 2.81, 2.82, 2.83, 2.84, 2.85,\n",
       "       2.86, 2.87, 2.88, 2.89, 2.9 , 2.91, 2.92, 2.93, 2.94, 2.95, 2.96,\n",
       "       2.97, 2.98, 2.99, 3.  , 3.01, 3.02, 3.03, 3.04, 3.05, 3.06, 3.07,\n",
       "       3.08, 3.09, 3.1 , 3.11, 3.12, 3.13, 3.14])"
      ]
     },
     "execution_count": 78,
     "metadata": {},
     "output_type": "execute_result"
    }
   ],
   "source": [
    "# ARANGE WITH PI VALUE - np.pi is pi value which ebedded in numpy\n",
    "np.arange(0,np.pi,0.01,dtype='float64')\n",
    "# np.pi = 3.141592653589793\n"
   ]
  },
  {
   "cell_type": "code",
   "execution_count": 91,
   "id": "dfd0e1f1",
   "metadata": {},
   "outputs": [
    {
     "data": {
      "text/plain": [
       "array([ 1.,  4.,  7., 10.])"
      ]
     },
     "execution_count": 91,
     "metadata": {},
     "output_type": "execute_result"
    }
   ],
   "source": [
    "# L I N S P A C E - МОЩЬ !!! ДЕЛИТ ОТРЕЗОК НА ТОЧКИ\n",
    "# ПРИНЦИП. args = (start | stop | how much points?)\n",
    "np.linspace(1, 10, 4,dtype='float64')\n"
   ]
  },
  {
   "cell_type": "code",
   "execution_count": 92,
   "id": "735e1c0a",
   "metadata": {},
   "outputs": [
    {
     "data": {
      "text/plain": [
       "array([1.        , 1.70997595, 2.92401774, 5.        ])"
      ]
     },
     "execution_count": 92,
     "metadata": {},
     "output_type": "execute_result"
    }
   ],
   "source": [
    "# G E O M S P A C E - Amost the same as linspace()\n",
    "np.geomspace(1,5,4, dtype='float64')"
   ]
  },
  {
   "cell_type": "code",
   "execution_count": 93,
   "id": "025c3aa2",
   "metadata": {},
   "outputs": [
    {
     "data": {
      "text/plain": [
       "array([[0., 1.],\n",
       "       [3., 4.]])"
      ]
     },
     "execution_count": 93,
     "metadata": {},
     "output_type": "execute_result"
    }
   ],
   "source": [
    "# F R O M F U N C T I O N\n",
    "np.fromfunction(lambda x,y: x*3 + y, [2,2])"
   ]
  },
  {
   "cell_type": "code",
   "execution_count": 95,
   "id": "842b0476",
   "metadata": {},
   "outputs": [
    {
     "data": {
      "text/plain": [
       "array([1, 2, 3])"
      ]
     },
     "execution_count": 95,
     "metadata": {},
     "output_type": "execute_result"
    }
   ],
   "source": [
    "# C O P Y - IMPORTANT - Copy it is not the same object !\n",
    "some_array = np.array([1,2,3])\n",
    "np.copy(some_array)"
   ]
  },
  {
   "cell_type": "code",
   "execution_count": 96,
   "id": "ca3433f4",
   "metadata": {},
   "outputs": [
    {
     "data": {
      "text/plain": [
       "array([0, 1, 2, 3, 4, 5, 6, 7, 8, 9], dtype=int8)"
      ]
     },
     "execution_count": 96,
     "metadata": {},
     "output_type": "execute_result"
    }
   ],
   "source": [
    "# F R O M I T E R From iterable - any iterable !\n",
    "def for_inside(n):\n",
    "    for i in range(n):\n",
    "        yield i\n",
    "        \n",
    "np.fromiter(for_inside(10),dtype='int8')\n",
    " "
   ]
  },
  {
   "cell_type": "code",
   "execution_count": 129,
   "id": "64aa9b21",
   "metadata": {},
   "outputs": [
    {
     "data": {
      "text/plain": [
       "array([1, 2, 3], dtype=int8)"
      ]
     },
     "execution_count": 129,
     "metadata": {},
     "output_type": "execute_result"
    }
   ],
   "source": [
    "# F R O M S T R I N G  - int string but if you do dtype...\n",
    "# np.sctypeDict - check types\n",
    "np.fromstring('1, 2, 3',dtype='int8',sep=\",\")"
   ]
  },
  {
   "cell_type": "code",
   "execution_count": 61,
   "id": "dd8325bd",
   "metadata": {},
   "outputs": [
    {
     "data": {
      "text/plain": [
       "array([[1, 2],\n",
       "       [3, 4],\n",
       "       [5, 1],\n",
       "       [2, 3],\n",
       "       [4, 5]])"
      ]
     },
     "execution_count": 61,
     "metadata": {},
     "output_type": "execute_result"
    }
   ],
   "source": [
    "# S H A P E - Reshape with shape >> First arg is height 5 >> 2 is width\n",
    "# R E S H A P E too - look below\n",
    "dd = np.array([[1,2,3,4,5],[1,2,3,4,5]])\n",
    "dd.shape = 5,2\n",
    "dd\n"
   ]
  },
  {
   "cell_type": "code",
   "execution_count": 41,
   "id": "c1f63f95",
   "metadata": {},
   "outputs": [
    {
     "data": {
      "text/plain": [
       "array([1, 2, 3, 4, 5, 1, 2, 3, 4, 5])"
      ]
     },
     "execution_count": 41,
     "metadata": {},
     "output_type": "execute_result"
    }
   ],
   "source": [
    "# R E S H A P E \n",
    "ss = dd.reshape(10)\n",
    "ss"
   ]
  },
  {
   "cell_type": "code",
   "execution_count": 30,
   "id": "1ccbd94d",
   "metadata": {},
   "outputs": [
    {
     "data": {
      "text/plain": [
       "array([[1, 3, 5, 2, 4],\n",
       "       [2, 4, 1, 3, 5]])"
      ]
     },
     "execution_count": 30,
     "metadata": {},
     "output_type": "execute_result"
    }
   ],
   "source": [
    "# T R A N S P O S I N G - Транспонирование - были значения по горизонтали, стали по вертикали.\n",
    "dd.T"
   ]
  },
  {
   "cell_type": "code",
   "execution_count": 59,
   "id": "dbea2e34",
   "metadata": {},
   "outputs": [
    {
     "data": {
      "text/plain": [
       "array([[-1,  1,  2,  3,  4],\n",
       "       [ 5,  6,  7,  8,  9]])"
      ]
     },
     "execution_count": 59,
     "metadata": {},
     "output_type": "execute_result"
    }
   ],
   "source": [
    "# WITHARDS WITH - R E S H A P E  and  S H A P E\n",
    "# Если матрица из n положит и из n отрицательных(например) то можно указать в параметре -1\n",
    "nine = np.array([-1,1,2,3,4,5,6,7,8,9])\n",
    "nine.shape = -1,5\n",
    "nine"
   ]
  },
  {
   "cell_type": "code",
   "execution_count": 68,
   "id": "95052062",
   "metadata": {},
   "outputs": [
    {
     "data": {
      "text/plain": [
       "array([1, 3, 5, 2, 4, 2, 4, 1, 3, 5, 1, 2, 3, 4, 5])"
      ]
     },
     "execution_count": 68,
     "metadata": {},
     "output_type": "execute_result"
    }
   ],
   "source": [
    "# R A V E L - Ravel methods unravels complicated arrays\n",
    "fx = np.array([[1, 3, 5, 2, 4],[2, 4, 1, 3, 5],[1,2,3,4,5]])\n",
    "# Outcome is...\n",
    "# >>> array([[1, 3, 5, 2, 4],\n",
    "#        [2, 4, 1, 3, 5],\n",
    "#        [1, 2, 3, 4, 5]])\n",
    "fx.ravel()"
   ]
  },
  {
   "cell_type": "code",
   "execution_count": 73,
   "id": "b91a444a",
   "metadata": {},
   "outputs": [
    {
     "data": {
      "text/plain": [
       "array([[1, 3, 5, 2, 4],\n",
       "       [2, 4, 1, 3, 5],\n",
       "       [1, 2, 3, 4, 5],\n",
       "       [0, 0, 0, 0, 0],\n",
       "       [0, 0, 0, 0, 0]])"
      ]
     },
     "execution_count": 73,
     "metadata": {},
     "output_type": "execute_result"
    }
   ],
   "source": [
    "# R E S I Z E - With magic - refcheck=false\n",
    "# Resizing with no rules\n",
    "fx = np.array([[1, 3, 5, 2, 4],[2, 4, 1, 3, 5],[1,2,3,4,5]])\n",
    "fx.resize(5,5, refcheck=False)\n",
    "fx"
   ]
  },
  {
   "cell_type": "code",
   "execution_count": null,
   "id": "29294b28",
   "metadata": {},
   "outputs": [],
   "source": [
    "# E X P A N D _ D I M S\n",
    "# - https://youtu.be/POgD3xN5Q6Y?list=PLA0M1Bcd0w8zmegfAUfFMiACPKfdW4ifD"
   ]
  },
  {
   "cell_type": "code",
   "execution_count": 43,
   "id": "25101e52",
   "metadata": {},
   "outputs": [
    {
     "name": "stdout",
     "output_type": "stream",
     "text": [
      "[[0 1 2 3 4 5 6 7 8 9]\n",
      " [0 1 2 3 4 5 6 7 8 9]\n",
      " [0 1 2 3 4 5 6 7 8 9]\n",
      " [0 1 2 3 4 5 6 7 8 9]\n",
      " [0 1 2 3 4 5 6 7 8 9]\n",
      " [0 1 2 3 4 5 6 7 8 9]\n",
      " [0 1 2 3 4 5 6 7 8 9]\n",
      " [0 1 2 3 4 5 6 7 8 9]\n",
      " [0 1 2 3 4 5 6 7 8 9]\n",
      " [0 1 2 3 4 5 6 7 8 9]]\n"
     ]
    }
   ],
   "source": [
    "import math\n",
    "grid = np.full((10,10),[range(0,10)],dtype='int8')\n",
    "print(grid)"
   ]
  },
  {
   "cell_type": "code",
   "execution_count": 44,
   "id": "98c7d1c0",
   "metadata": {},
   "outputs": [
    {
     "name": "stdout",
     "output_type": "stream",
     "text": [
      "[4, 2, 0]\n"
     ]
    }
   ],
   "source": []
  }
 ],
 "metadata": {
  "kernelspec": {
   "display_name": "Python 3 (ipykernel)",
   "language": "python",
   "name": "python3"
  },
  "language_info": {
   "codemirror_mode": {
    "name": "ipython",
    "version": 3
   },
   "file_extension": ".py",
   "mimetype": "text/x-python",
   "name": "python",
   "nbconvert_exporter": "python",
   "pygments_lexer": "ipython3",
   "version": "3.9.6"
  }
 },
 "nbformat": 4,
 "nbformat_minor": 5
}
