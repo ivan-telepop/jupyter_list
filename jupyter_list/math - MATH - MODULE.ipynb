{
 "cells": [
  {
   "cell_type": "markdown",
   "id": "b5058839",
   "metadata": {},
   "source": [
    "# MATH module\n"
   ]
  },
  {
   "cell_type": "code",
   "execution_count": null,
   "id": "9f54b43d-096a-4976-b431-c3e807c26406",
   "metadata": {},
   "outputs": [],
   "source": []
  },
  {
   "cell_type": "markdown",
   "id": "004525ab",
   "metadata": {},
   "source": [
    "min - max from math module"
   ]
  },
  {
   "cell_type": "code",
   "execution_count": 1,
   "id": "5f17cdeb",
   "metadata": {},
   "outputs": [
    {
     "data": {
      "text/plain": [
       "1"
      ]
     },
     "execution_count": 1,
     "metadata": {},
     "output_type": "execute_result"
    }
   ],
   "source": [
    "import math\n",
    "\n",
    "minima = min(1,3,5,7,9,6,4,4,5,6,7,8,54)\n",
    "maxima = max(8768768,6524652,7542654256,4242)\n",
    "\n",
    "maxima\n",
    "minima"
   ]
  },
  {
   "cell_type": "code",
   "execution_count": 29,
   "id": "215bac16",
   "metadata": {},
   "outputs": [
    {
     "name": "stdout",
     "output_type": "stream",
     "text": [
      "s is:64    >>>>>> s = 64 \n"
     ]
    },
    {
     "data": {
      "text/plain": [
       "4.228317827613722"
      ]
     },
     "execution_count": 29,
     "metadata": {},
     "output_type": "execute_result"
    }
   ],
   "source": [
    "s = 8**2 # The same statement as pow()\n",
    "f = pow(8,2) # равноценно записи 8\"2\" стапени\n",
    "print(f\"s is:{f}    >>>>>> s = {s} \")\n",
    " # It's possible to make such ones\n",
    "    \n",
    "pow(2,pow(3,2/3))"
   ]
  },
  {
   "cell_type": "code",
   "execution_count": 30,
   "id": "408e87d5",
   "metadata": {},
   "outputs": [
    {
     "data": {
      "text/plain": [
       "2"
      ]
     },
     "execution_count": 30,
     "metadata": {},
     "output_type": "execute_result"
    }
   ],
   "source": [
    "round(pow(2,2/3)) # ROUND - simple round"
   ]
  },
  {
   "cell_type": "code",
   "execution_count": 2,
   "id": "e9a4a5c5",
   "metadata": {},
   "outputs": [
    {
     "data": {
      "text/plain": [
       "45"
      ]
     },
     "execution_count": 2,
     "metadata": {},
     "output_type": "execute_result"
    }
   ],
   "source": [
    "# ABS - absolut value\n",
    "\n",
    "abs(-45)"
   ]
  },
  {
   "cell_type": "code",
   "execution_count": 5,
   "id": "03e4354b",
   "metadata": {},
   "outputs": [
    {
     "data": {
      "text/plain": [
       "8"
      ]
     },
     "execution_count": 5,
     "metadata": {},
     "output_type": "execute_result"
    }
   ],
   "source": [
    "# C E I L - rounds to bigger \n",
    "math.ceil(-6.5)\n",
    "\n",
    "# F L O O R - rounds less\n",
    "math.floor(8.6)"
   ]
  },
  {
   "cell_type": "code",
   "execution_count": 6,
   "id": "73ffb34d",
   "metadata": {},
   "outputs": [
    {
     "data": {
      "text/plain": [
       "362880"
      ]
     },
     "execution_count": 6,
     "metadata": {},
     "output_type": "execute_result"
    }
   ],
   "source": [
    "# FACTORIAL - произвидение умножений от 1 - до Х\n",
    "\n",
    "math.factorial(9)"
   ]
  },
  {
   "cell_type": "code",
   "execution_count": 11,
   "id": "e7176d32",
   "metadata": {},
   "outputs": [
    {
     "data": {
      "text/plain": [
       "4"
      ]
     },
     "execution_count": 11,
     "metadata": {},
     "output_type": "execute_result"
    }
   ],
   "source": [
    "# отрезает дроби\n",
    "math.trunc(math.pi)\n",
    "# То же самое с использованием int\n",
    "int(4.9)"
   ]
  },
  {
   "cell_type": "code",
   "execution_count": 20,
   "id": "551cf7bc",
   "metadata": {},
   "outputs": [
    {
     "data": {
      "text/plain": [
       "2.5221970596792267"
      ]
     },
     "execution_count": 20,
     "metadata": {},
     "output_type": "execute_result"
    }
   ],
   "source": [
    "# LOGORIFM\n",
    "math.log2(10)\n",
    "math.log10(10)\n",
    "math.log(33,4)"
   ]
  },
  {
   "cell_type": "code",
   "execution_count": 21,
   "id": "cc695799",
   "metadata": {},
   "outputs": [
    {
     "name": "stdout",
     "output_type": "stream",
     "text": [
      "7.416198487095663\n"
     ]
    }
   ],
   "source": [
    "# SQRT - Coren\n",
    "print(math.sqrt(55))  \n",
    "\n",
    " \n",
    "    "
   ]
  },
  {
   "cell_type": "code",
   "execution_count": 23,
   "id": "61587715",
   "metadata": {},
   "outputs": [
    {
     "data": {
      "text/plain": [
       "3.141592653589793"
      ]
     },
     "execution_count": 23,
     "metadata": {},
     "output_type": "execute_result"
    }
   ],
   "source": [
    "# C O N S T A N T S\n",
    "\n",
    "math.e\n",
    "math.pi"
   ]
  },
  {
   "cell_type": "code",
   "execution_count": 2,
   "id": "27d2d4d1-fcd3-4adf-bbfc-19a68025acce",
   "metadata": {},
   "outputs": [
    {
     "name": "stdout",
     "output_type": "stream",
     "text": [
      "12.933081838176822\n",
      "5.704244511227274\n",
      "10.954162238374472\n",
      "7.635367299493209\n",
      "13.300994651135683\n",
      "12.189644364298534\n",
      "14.686285572480264\n",
      "11.61768872215563\n",
      "7.38706079070706\n",
      "10.240378122293752\n"
     ]
    }
   ],
   "source": [
    "import random\n",
    "\n",
    "\n",
    "for i in range(10):\n",
    "    print(random.uniform(3,18))\n"
   ]
  },
  {
   "cell_type": "code",
   "execution_count": 56,
   "id": "052a4db3-a9c8-477c-a1bc-941f6a6f0cfa",
   "metadata": {},
   "outputs": [
    {
     "name": "stdout",
     "output_type": "stream",
     "text": [
      "start: Y  20260.32435272015 X:  758.4864100487516\n",
      "Result: Y  20486.2929717543 X:  766.9602403504643\n"
     ]
    }
   ],
   "source": [
    "rand_k = random.uniform(-5,5)\n",
    "rand_c = random.uniform(-5,5)\n",
    "rate = 0.001\n",
    "\n",
    "data = {22:150,23:155,24:160,25:162,26:171,27:174,28:180,29:183,30:189,31:192}\n",
    "\n",
    "print(\"start: Y \", k,\"X: \",c)\n",
    "\n",
    "def proceed(x):\n",
    "    return x * rand_k + rand_c\n",
    "\n",
    "for i in range(100):\n",
    "    x = random.choice(list(data.keys()))\n",
    "    res = data[x]\n",
    "    out = proceed(x)\n",
    "    delta = res - out\n",
    "    k += delta * rate * x\n",
    "    c += delta * rate\n",
    "\n",
    "\n",
    "print(\"Result: Y \", k,\"X: \",c)\n",
    "\n",
    "    "
   ]
  },
  {
   "cell_type": "code",
   "execution_count": 64,
   "id": "fec53f51-4738-4b91-8f03-dcd1868661c5",
   "metadata": {},
   "outputs": [
    {
     "name": "stdout",
     "output_type": "stream",
     "text": [
      "0.0\n",
      "0.0\n",
      "0.0\n",
      "0.0\n",
      "0.0\n",
      "0.0\n",
      "0.0\n",
      "0.0\n",
      "0.0\n",
      "0.0\n",
      "0.0\n",
      "0.0\n",
      "0.0\n",
      "0.0\n",
      "0.0\n",
      "0.0\n"
     ]
    }
   ],
   "source": [
    "import numpy as np\n",
    "\n",
    "z = np.zeros([4,4])\n",
    "\n",
    "for i in z:\n",
    "    for x in i:\n",
    "        print(x)"
   ]
  },
  {
   "cell_type": "code",
   "execution_count": 20,
   "id": "7c131c27-723f-48fc-9461-6d3e2e7eaec5",
   "metadata": {},
   "outputs": [
    {
     "name": "stdout",
     "output_type": "stream",
     "text": [
      "2 деление по модулю (Modulus) - Показывает остаток\n",
      "2\n",
      "4\n",
      "6\n",
      "8\n",
      "10\n",
      "12\n",
      "14\n",
      "16\n",
      "18\n",
      "20\n",
      "22\n",
      "24\n"
     ]
    }
   ],
   "source": [
    "ff = [ _ for _ in range(1,25)]\n",
    "\n",
    "print(10 % 4, \"деление по модулю (Modulus) - Показывает остаток\")\n",
    "\n",
    "for one in ff:\n",
    "    if one % 2 == 0:\n",
    "        print(one)\n",
    "\n"
   ]
  },
  {
   "cell_type": "code",
   "execution_count": 16,
   "id": "9ea8ba7a-8079-43be-a85e-4529f86a0e92",
   "metadata": {},
   "outputs": [
    {
     "name": "stdout",
     "output_type": "stream",
     "text": [
      "2 Сколько делетилей влезет в делимое - floor division\n",
      "0\n",
      "1\n",
      "1\n",
      "2\n",
      "2\n",
      "3\n",
      "3\n",
      "4\n",
      "4\n",
      "5\n",
      "5\n",
      "6\n",
      "6\n",
      "7\n",
      "7\n",
      "8\n",
      "8\n",
      "9\n",
      "9\n",
      "10\n",
      "10\n",
      "11\n",
      "11\n",
      "12\n"
     ]
    }
   ],
   "source": [
    "ff = [ _ for _ in range(1,25)]\n",
    "\n",
    "print( 10 // 4, \"Сколько делетилей влезет в делимое - floor division\")\n",
    "\n",
    "for one in ff:\n",
    "        print(one // 2) "
   ]
  },
  {
   "cell_type": "code",
   "execution_count": 10,
   "id": "fef1886e-bba9-445b-b7e8-4c8e0bf2854d",
   "metadata": {},
   "outputs": [
    {
     "data": {
      "text/plain": [
       "3"
      ]
     },
     "execution_count": 10,
     "metadata": {},
     "output_type": "execute_result"
    }
   ],
   "source": [
    " 11 // 3"
   ]
  },
  {
   "cell_type": "code",
   "execution_count": 22,
   "id": "af0d6e3f-5bec-492d-9c3e-8abd2a989ff9",
   "metadata": {},
   "outputs": [
    {
     "data": {
      "text/plain": [
       "256"
      ]
     },
     "execution_count": 22,
     "metadata": {},
     "output_type": "execute_result"
    }
   ],
   "source": [
    "2 ** 8"
   ]
  },
  {
   "cell_type": "code",
   "execution_count": 17,
   "id": "7cb59055-3c2d-494a-97a6-40fe8268ea17",
   "metadata": {},
   "outputs": [],
   "source": [
    "# Mathematics Operators \n",
    "# +\tAddition\tx + y\t\n",
    "# -\tSubtraction\tx - y\t\n",
    "# *\tMultiplication\tx * y\t\n",
    "# /\tDivision\tx / y\t\n",
    "# %\tModulus\tx % y\t\n",
    "# **\tExponentiation\tx ** y\t\n",
    "# //\tFloor division"
   ]
  }
 ],
 "metadata": {
  "kernelspec": {
   "display_name": "Python 3 (ipykernel)",
   "language": "python",
   "name": "python3"
  },
  "language_info": {
   "codemirror_mode": {
    "name": "ipython",
    "version": 3
   },
   "file_extension": ".py",
   "mimetype": "text/x-python",
   "name": "python",
   "nbconvert_exporter": "python",
   "pygments_lexer": "ipython3",
   "version": "3.9.6"
  }
 },
 "nbformat": 4,
 "nbformat_minor": 5
}
