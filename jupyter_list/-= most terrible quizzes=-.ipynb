{
 "cells": [
  {
   "cell_type": "code",
   "execution_count": 8,
   "id": "1c7e97e7",
   "metadata": {},
   "outputs": [
    {
     "name": "stdout",
     "output_type": "stream",
     "text": [
      "Collecting memory_profiler\n",
      "  Downloading memory_profiler-0.61.0-py3-none-any.whl (31 kB)\n",
      "Requirement already satisfied: psutil in /usr/local/lib/python3.10/site-packages (from memory_profiler) (5.9.4)\n",
      "Installing collected packages: memory_profiler\n",
      "Successfully installed memory_profiler-0.61.0\n",
      "\n",
      "\u001b[1m[\u001b[0m\u001b[34;49mnotice\u001b[0m\u001b[1;39;49m]\u001b[0m\u001b[39;49m A new release of pip is available: \u001b[0m\u001b[31;49m23.0.1\u001b[0m\u001b[39;49m -> \u001b[0m\u001b[32;49m23.1\u001b[0m\n",
      "\u001b[1m[\u001b[0m\u001b[34;49mnotice\u001b[0m\u001b[1;39;49m]\u001b[0m\u001b[39;49m To update, run: \u001b[0m\u001b[32;49mpython3.10 -m pip install --upgrade pip\u001b[0m\n"
     ]
    }
   ],
   "source": [
    "! pip install memory_profiler"
   ]
  },
  {
   "cell_type": "code",
   "execution_count": 69,
   "id": "9c7e175c",
   "metadata": {},
   "outputs": [
    {
     "name": "stdout",
     "output_type": "stream",
     "text": [
      "('a', 2) ('a', 2)\n",
      "no ravno ('b', 2) ('a', 2)\n",
      "no ravno ('a', 2) ('b', 2)\n",
      "('b', 2) ('b', 2)\n",
      "[['repeated:', 'aabb', 'bbaa'], ['repeated:', 'aabb', 'bbaa']]\n",
      "[]\n"
     ]
    }
   ],
   "source": [
    "# Сформировать группы где общий признак группы класифицируются по количеству повторяющихся символов в строке.\n",
    "\n",
    "# Пример: Есть множество - {'abba','bbaa','aags','poss','piss'} и группы ['abba','bbaa','aags'],['poss','piss']\n",
    "\n",
    "from collections import Counter\n",
    "\n",
    "\n",
    "lst = {'aabb','bbaa'}\n",
    "\n",
    "\n",
    "counter_1 = 0\n",
    "counter_2 = 0\n",
    "grouped = []\n",
    "\n",
    "\n",
    "organised = [*lst] # Обернул в лист чтоб работать по срезу\n",
    "\n",
    "\n",
    "\n",
    "for i in range(len(organised)):\n",
    "    groups = []\n",
    "    wrk = organised\n",
    "    while len(wrk) > 1:\n",
    "        popped = wrk[0] # Deleted/poped obj for comparation УДАЛЯЕМ ПО ОДНОМУ НА КАЖДОЙ ИТЕРРАЦИИ\n",
    "        del wrk[0]\n",
    "        _analysed = sorted(Counter(popped).most_common()) # word counted letters ([('a', 2), ('b', 2)])from pop\n",
    "        for _anl in _analysed: #В слове из popped\n",
    "            for _slice in range(len(wrk)): # Заходим в оcтаток от wrk\n",
    "                word_in_list = wrk[_slice]\n",
    "                _wrk_word = sorted(Counter(wrk[_slice]).most_common())# Берем слово[_slice] из рабочего списка wrk\n",
    "                for j in _wrk_word: \n",
    "                    if j == _anl: # Сравниваем букву в слове из списка wrk c \n",
    "                        group = ['repeated:',popped,word_in_list]\n",
    "                        groups.append(group)\n",
    "                        print(j,_anl)\n",
    "                    if j != _anl:\n",
    "                        print('no ravno',j, _anl)\n",
    "    print(groups)\n",
    "\n",
    "\n",
    "        \n",
    "        "
   ]
  },
  {
   "cell_type": "code",
   "execution_count": 1,
   "id": "ecdabe57",
   "metadata": {},
   "outputs": [
    {
     "name": "stdout",
     "output_type": "stream",
     "text": [
      "  一 ━ ═ ═ n o h t y p デ ︻ ▄\n",
      " 一━══nohtypデ︻▄\n"
     ]
    }
   ],
   "source": [
    "some = '▄︻デpython══━一 '\n",
    "\n",
    "print(*reversed((some)))\n",
    "print(some[::-1])\n",
    "\n",
    "\n",
    "\n",
    "    "
   ]
  },
  {
   "cell_type": "code",
   "execution_count": 101,
   "id": "59ceb3a4",
   "metadata": {},
   "outputs": [
    {
     "name": "stdout",
     "output_type": "stream",
     "text": [
      "{('b', 2), ('a', 1)}\n",
      "{('l', 1), ('c', 2)}\n",
      "{('r', 1), ('e', 1), ('o', 1), (' ', 1), ('m', 1), ('a', 1), ('n', 1), ('i', 1), ('g', 1), ('t', 1), ('s', 2)}\n",
      "{('t', 1), ('s', 2)}\n"
     ]
    }
   ],
   "source": [
    "stringa = {'some stringa','tss','abb','ccl'}\n",
    "org = [*stringa]\n",
    "\n",
    "for word in sorted(org):\n",
    "    pairs = set()\n",
    "    for i in word:\n",
    "        for x in i:\n",
    "            res = word.count(x)\n",
    "            group = (x,res)\n",
    "            pairs.add(group)\n",
    "    print(pairs)"
   ]
  },
  {
   "cell_type": "code",
   "execution_count": 109,
   "id": "ff56fd67",
   "metadata": {},
   "outputs": [
    {
     "name": "stdout",
     "output_type": "stream",
     "text": [
      "H - Yes isalpha method works!\n",
      "D - Yes isalpha method works!\n",
      "S - Yes isalpha method works!\n",
      "C - Yes isalpha method works!\n",
      "L - Yes isalpha method works!\n",
      "N - Yes isalpha method works!\n",
      "O - Yes isalpha method works!\n",
      "P - Yes isalpha method works!\n",
      "E - Yes isalpha method works!\n"
     ]
    }
   ],
   "source": [
    "mstrng = 'Hello again! Do you have Some Capitalised Letters ? NOPE'\n",
    "\n",
    "for letter in mstrng:\n",
    "    if letter.isupper():\n",
    "        print(letter, \"- Yes isalpha method works!\")\n",
    "    elif letter.istitle():\n",
    "        print('istitle',letter)\n",
    "        \n",
    "        \n",
    "        \n",
    "        \n",
    "        \n",
    "# T R A I N    I T !!!\n",
    "https://www.w3schools.com/python/python_ref_string.asp"
   ]
  },
  {
   "cell_type": "code",
   "execution_count": 50,
   "id": "acb25b50",
   "metadata": {},
   "outputs": [
    {
     "name": "stdout",
     "output_type": "stream",
     "text": [
      "False\n",
      "False\n",
      "False\n",
      "False\n",
      "False\n",
      "False\n",
      "True\n",
      "False\n",
      "False\n",
      "False\n",
      "True\n",
      "False\n",
      "False\n",
      "False\n"
     ]
    }
   ],
   "source": [
    "txt = \"Hello! Are you\"\n",
    "\n",
    "x = txt.isprintable()\n",
    "\n",
    "for i in txt:\n",
    "    print(i.isspace())"
   ]
  },
  {
   "cell_type": "code",
   "execution_count": 58,
   "id": "26e2794c",
   "metadata": {},
   "outputs": [
    {
     "name": "stdout",
     "output_type": "stream",
     "text": [
      "John#Peter#Vicky\n"
     ]
    }
   ],
   "source": [
    "myTuple = (\"John\", \"Peter\", \"Vicky\")\n",
    "\n",
    "x = \"#\".join(myTuple)\n",
    "\n",
    "print(x)\n",
    "\n"
   ]
  },
  {
   "cell_type": "code",
   "execution_count": 71,
   "id": "edf512ae",
   "metadata": {},
   "outputs": [
    {
     "name": "stdout",
     "output_type": "stream",
     "text": [
      "('I could eat ananas all day, dead humans ', 'are', ' my favorite fruit')\n"
     ]
    }
   ],
   "source": [
    "txt = \"I could eat ananas all day, dead humans are my favorite fruit\"\n",
    "\n",
    "x = txt.rpartition(\"are\")\n",
    "\n",
    "print(x)"
   ]
  },
  {
   "cell_type": "code",
   "execution_count": 77,
   "id": "23df200b",
   "metadata": {},
   "outputs": [
    {
     "name": "stdout",
     "output_type": "stream",
     "text": [
      "['apple, banXana, cherry']\n"
     ]
    }
   ],
   "source": [
    "txt = \"apple, banXana, cherry\"\n",
    "\n",
    "x = txt.rsplit(\"X , \")\n",
    "\n",
    "print(x)"
   ]
  },
  {
   "cell_type": "code",
   "execution_count": 78,
   "id": "499285eb",
   "metadata": {},
   "outputs": [
    {
     "name": "stdout",
     "output_type": "stream",
     "text": [
      "Hello Pam!\n"
     ]
    }
   ],
   "source": [
    "mydict = {83:  80}\n",
    "txt = \"Hello Sam!\"\n",
    "print(txt.translate(mydict))"
   ]
  },
  {
   "cell_type": "code",
   "execution_count": 79,
   "id": "ae634e18",
   "metadata": {},
   "outputs": [
    {
     "name": "stdout",
     "output_type": "stream",
     "text": [
      "of all fruits banana is my favorite\n"
     ]
    }
   ],
   "source": [
    "txt = \"     banana     \"\n",
    "\n",
    "x = txt.strip()\n",
    "\n",
    "print(\"of all fruits\", x, \"is my favorite\")"
   ]
  },
  {
   "cell_type": "code",
   "execution_count": 105,
   "id": "2ceb57d4",
   "metadata": {},
   "outputs": [
    {
     "data": {
      "text/plain": [
       "'o'"
      ]
     },
     "execution_count": 105,
     "metadata": {},
     "output_type": "execute_result"
    }
   ],
   "source": [
    "s = 'hello im here for find letter'\n",
    "symbol = 'f'\n",
    "def second_symbol(s, symbol):\n",
    "    counter = 0\n",
    "    for i in range(len(s)):\n",
    "        if s[i] == symbol:\n",
    "            counter +=1\n",
    "            first = s[i]\n",
    "            if counter <= 2:\n",
    "                return s[i]\n",
    "            \n",
    "            else:\n",
    "                return -1\n",
    "        \n",
    "            \n",
    "second_symbol('Hello world!!!','o')            "
   ]
  },
  {
   "cell_type": "code",
   "execution_count": 135,
   "id": "623d9b9d",
   "metadata": {},
   "outputs": [
    {
     "data": {
      "text/plain": [
       "5"
      ]
     },
     "execution_count": 135,
     "metadata": {},
     "output_type": "execute_result"
    }
   ],
   "source": [
    "def second_symbol(string,symbol):\n",
    "    numed = enumerate(string)\n",
    "    res = -1\n",
    "    counter = 0\n",
    "    for i in numed:  # i[0] - digits\n",
    "        if i[1] == symbol:\n",
    "            counter +=1\n",
    "            if counter == 2:\n",
    "                res = i[0]\n",
    "    return res\n",
    "\n",
    "\n",
    " \n",
    "                \n",
    "            \n",
    "    \n",
    "    \n",
    "second_symbol('i trying again','i')"
   ]
  },
  {
   "cell_type": "code",
   "execution_count": 14,
   "id": "557e0420",
   "metadata": {},
   "outputs": [
    {
     "data": {
      "text/plain": [
       "defaultdict(list, {'one': [100], 'two': [200], 'tree': [300]})"
      ]
     },
     "execution_count": 14,
     "metadata": {},
     "output_type": "execute_result"
    }
   ],
   "source": [
    "import collections\n",
    "\n",
    "d = collections.defaultdict(list)\n",
    "d['one'].append(100)\n",
    "d['two'].append(200)\n",
    "d['tree'].append(300)\n",
    "d"
   ]
  },
  {
   "cell_type": "code",
   "execution_count": 69,
   "id": "f68c12f2",
   "metadata": {},
   "outputs": [
    {
     "data": {
      "text/plain": [
       "4"
      ]
     },
     "execution_count": 69,
     "metadata": {},
     "output_type": "execute_result"
    }
   ],
   "source": [
    "# DESCRIPTION:\n",
    "# There is an array with some numbers. All numbers are equal except for one. Try to find it!\n",
    "\n",
    "# find_uniq([ 1, 1, 1, 2, 1, 1 ]) == 2\n",
    "# find_uniq([ 0, 0, 0.55, 0, 0 ]) == 0.55\n",
    "# It’s guaranteed that array contains at least 3 numbers.\n",
    "\n",
    "# The tests contain some very huge arrays, so think about performance.\n",
    "\n",
    "# This is the first kata in series:\n",
    "\n",
    "\n",
    "def find_uniq(arr):\n",
    "    string = str(arr)\n",
    "    for i in set(arr):\n",
    "        res = string.count(str(i))\n",
    "        if res == 1:\n",
    "            return i\n",
    "        \n",
    "\n",
    "find_uniq([1,1,1,1,4,1,1,1])\n",
    "\n"
   ]
  },
  {
   "cell_type": "code",
   "execution_count": 161,
   "id": "8c0843f5",
   "metadata": {},
   "outputs": [
    {
     "data": {
      "text/plain": [
       "[Item(weight=5, price=10), Item(weight=5, price=10)]"
      ]
     },
     "execution_count": 161,
     "metadata": {},
     "output_type": "execute_result"
    }
   ],
   "source": [
    "# https://www.codewars.com/kata/58296c407da141e2c7000271/train/python\n",
    "\n",
    "# In a dark, deserted night, a thief entered a shop. There are some items in the room, and the items have different weight (in kg) and price (in $).\n",
    "\n",
    "# The thief is greedy, his desire is to take away all the goods. But unfortunately, his bag can only hold n kg of items. So he has to make a choice, try to take away more valuable items.\n",
    "\n",
    "# Please complete the function to help the thief to make the best choices. Two arguments will be given: items (an array that contains all items) and n (the maximum weight the package can accommodate).\n",
    "\n",
    "# The list of items is provided as a list[Item], where Item is:\n",
    "\n",
    "# Item = namedtuple('Item', 'weight price')\n",
    "# The result should be a list of the original items that the thief should take away and that has the maximum possible total price.\n",
    "\n",
    "# Notes:\n",
    "\n",
    "# Order of the items in the output do not matter\n",
    "# If more than one valid solutions exist, you should return one of them\n",
    "# If no valid solution should return []\n",
    "# You should not modify argument items or the items themselves (in languages where they are mutable).\n",
    "# Pay attention to performance: the thief doesn't have all night to decide what to take or not!\n",
    "\n",
    "from collections import namedtuple\n",
    "\n",
    "Item = namedtuple('Item', 'weight price')\n",
    "        \n",
    "it1 = Item(5,10)\n",
    "it2 = Item(2,3)\n",
    "it3 = Item(3,5)\n",
    "it4 = Item(1,1)\n",
    "\n",
    "items = [it1,it2,it3,it4]\n",
    "\n",
    "\n",
    "\n",
    "def greedy_thief( items:list[Item], n:int) -> list[Item] :\n",
    "    def srt_price(x):\n",
    "        return x.price\n",
    "    items = items\n",
    "    bag = []\n",
    "    while n > sum([b.weight for b in bag]):\n",
    "        bag.append(max(sorted(items,key=srt_price)))\n",
    "    return bag\n",
    "    \n",
    "\n",
    "greedy_thief(items,10)"
   ]
  },
  {
   "cell_type": "code",
   "execution_count": 191,
   "id": "9c66b40a",
   "metadata": {},
   "outputs": [
    {
     "name": "stdout",
     "output_type": "stream",
     "text": [
      "[0]\n"
     ]
    }
   ],
   "source": [
    "mn = [9, 0, 0, 9, 1, 2, 0, 1, 0, 1, 0, 3, 0, 1, 9, 0, 0, 0, 0, 9]\n",
    "\n",
    "def move_zeros(lst):\n",
    "    zeros = []\n",
    "    cnt = 0\n",
    "    for one in range(len(lst)):\n",
    "        cnt +=1\n",
    "        if one == 0:\n",
    "            ss = lst.pop(cnt)\n",
    "            zeros.append(ss)\n",
    "\n",
    "    return zeros\n",
    "\n",
    "print(move_zeros([9, 0, 0, 9, 1, 2, 0, 1, 0, 1, 0, 3, 0, 1, 9, 0, 0, 0, 0, 9]))"
   ]
  },
  {
   "cell_type": "code",
   "execution_count": 6,
   "id": "c23c211b",
   "metadata": {},
   "outputs": [
    {
     "name": "stdout",
     "output_type": "stream",
     "text": [
      "MMMDXLIX\n"
     ]
    }
   ],
   "source": [
    "# ROMAN TO ARABIC\n",
    "# Python3 program for above approach\n",
    " \n",
    "# Function to calculate Roman values\n",
    "def intToRoman(num):\n",
    " \n",
    "    # Storing roman values of digits from 0-9\n",
    "    # when placed at different places\n",
    "    m = [\"\", \"M\", \"MM\", \"MMM\"]\n",
    "    c = [\"\", \"C\", \"CC\", \"CCC\", \"CD\", \"D\",\n",
    "         \"DC\", \"DCC\", \"DCCC\", \"CM \"]\n",
    "    x = [\"\", \"X\", \"XX\", \"XXX\", \"XL\", \"L\",\n",
    "         \"LX\", \"LXX\", \"LXXX\", \"XC\"]\n",
    "    i = [\"\", \"I\", \"II\", \"III\", \"IV\", \"V\",\n",
    "         \"VI\", \"VII\", \"VIII\", \"IX\"]\n",
    " \n",
    "    # Converting to roman\n",
    "    thousands = m[num // 1000]\n",
    "    hundreds = c[(num % 1000) // 100]\n",
    "    tens = x[(num % 100) // 10]\n",
    "    ones = i[num % 10]\n",
    " \n",
    "    ans = (thousands + hundreds +\n",
    "           tens + ones)\n",
    " \n",
    "    return ans\n",
    " \n",
    "# Driver code\n",
    "if __name__ == \"__main__\":\n",
    "    number = 3549\n",
    "    print(intToRoman(number))"
   ]
  },
  {
   "cell_type": "code",
   "execution_count": null,
   "id": "ef22008e",
   "metadata": {},
   "outputs": [],
   "source": [
    "# Нагрузочное тестирование https://www.youtube.com/watch?v=ik3FY5Qhq9o"
   ]
  },
  {
   "cell_type": "code",
   "execution_count": 7,
   "id": "46a24dfc",
   "metadata": {},
   "outputs": [
    {
     "data": {
      "text/plain": [
       "[9, 9, 9, 9]"
      ]
     },
     "execution_count": 7,
     "metadata": {},
     "output_type": "execute_result"
    }
   ],
   "source": [
    "row = [9, 0, 0, 9, 1, 2, 0, 1, 0, 1, 0, 3, 0, 1, 9, 0, 0, 0, 0, 9]\n",
    "\n",
    "n = 9\n",
    "\n",
    "res = [x for x in row if x == n]\n",
    "res"
   ]
  },
  {
   "cell_type": "code",
   "execution_count": 2,
   "id": "7ba32930",
   "metadata": {},
   "outputs": [
    {
     "name": "stdout",
     "output_type": "stream",
     "text": [
      "ERROR: Could not find file /var/folders/tb/gnqs69dx5zv58wmkhb571h540000s8/T/ipykernel_69583/2893348591.py\n"
     ]
    },
    {
     "data": {
      "text/plain": [
       "[9, 0, 0, 9, 1, 2, 0, 1, 0, 1, 0, 3, 0, 1, 9, 0, 0, 0, 0, 9]"
      ]
     },
     "execution_count": 2,
     "metadata": {},
     "output_type": "execute_result"
    }
   ],
   "source": [
    "from memory_profiler import profile\n",
    "\n",
    "\n",
    "@profile\n",
    "def main():\n",
    "    row = [9, 0, 0, 9, 1, 2, 0, 1, 0, 1, 0, 3, 0, 1, 9, 0, 0, 0, 0, 9]\n",
    "    return row\n",
    "\n",
    "main()\n",
    "        \n",
    "    "
   ]
  },
  {
   "cell_type": "code",
   "execution_count": 3,
   "id": "02cb3b7b",
   "metadata": {},
   "outputs": [
    {
     "data": {
      "text/plain": [
       "{'one': 0, 'two': 20, 'three': 3, 'four': 4, 'five': 5, 'six': 6}"
      ]
     },
     "execution_count": 3,
     "metadata": {},
     "output_type": "execute_result"
    }
   ],
   "source": [
    "x = {'one': 0, 'two': 20, 'three': 3, 'four': 4}\n",
    "x.setdefault('five',5)\n",
    "x.setdefault('six',6)\n",
    "x"
   ]
  },
  {
   "cell_type": "code",
   "execution_count": 10,
   "id": "2357fbc1",
   "metadata": {},
   "outputs": [
    {
     "data": {
      "text/plain": [
       "'GHxRjRa'"
      ]
     },
     "execution_count": 10,
     "metadata": {},
     "output_type": "execute_result"
    }
   ],
   "source": [
    "import random\n",
    "import string\n",
    "import secrets\n",
    "\n",
    "rnd = random.choices(string.ascii_lowercase)\n",
    "\n",
    "word = ''.join(secrets.choice(string.ascii_uppercase + string.ascii_lowercase) for i in range(7))\n",
    "\n",
    "res = ''.join([secrets.choice(string.ascii_lowercase) for i in \"hashword\"])\n",
    "res\n",
    "word"
   ]
  },
  {
   "cell_type": "code",
   "execution_count": 37,
   "id": "e2f76d7c",
   "metadata": {},
   "outputs": [
    {
     "name": "stdout",
     "output_type": "stream",
     "text": [
      "one__two\n"
     ]
    }
   ],
   "source": [
    "# i = 0\n",
    "# while i < 10:\n",
    "#     i +=1\n",
    "#     if i == 5:continue\n",
    "#     print(i)\n",
    "\n",
    "wrd = 'ABC'.join(\"letters\")\n",
    "wrd\n",
    "\n",
    "\n",
    "myDict = [\"one\",\"two\"]\n",
    "mySeparator = \"__\"\n",
    "\n",
    "x = mySeparator.join(myDict)\n",
    "\n",
    "print(x)"
   ]
  },
  {
   "cell_type": "code",
   "execution_count": 111,
   "id": "002ef3c6",
   "metadata": {},
   "outputs": [
    {
     "data": {
      "text/plain": [
       "'*1GC0a\\t7xRD/\\rPRw'"
      ]
     },
     "execution_count": 111,
     "metadata": {},
     "output_type": "execute_result"
    }
   ],
   "source": [
    "import random\n",
    "import string\n",
    "import secrets\n",
    "\n",
    "#    string.printable = are all characters at all\n",
    "\n",
    "string_types = string.ascii_uppercase \\\n",
    "+ string.ascii_lowercase \\\n",
    "+ string.digits + string.punctuation\n",
    "\n",
    "s = \"\".join([secrets.choice(string.printable) for i in range(16)])\n",
    "s\n"
   ]
  },
  {
   "cell_type": "code",
   "execution_count": 13,
   "id": "4e99b7d9",
   "metadata": {},
   "outputs": [
    {
     "data": {
      "text/plain": [
       "'jazz'"
      ]
     },
     "execution_count": 13,
     "metadata": {},
     "output_type": "execute_result"
    }
   ],
   "source": [
    "from random import randint\n",
    "genres = ['rock','new-age','electronic','folk','techno','jazz']\n",
    "\n",
    "\n",
    "genres[randint(1,5)]"
   ]
  },
  {
   "cell_type": "code",
   "execution_count": 51,
   "id": "01030149",
   "metadata": {},
   "outputs": [
    {
     "name": "stdout",
     "output_type": "stream",
     "text": [
      "{'name': 'Empty Value', 'none': None, 'time': '2023-09-26 06:20:58.195845'}\n"
     ]
    }
   ],
   "source": [
    "from dataclasses import dataclass\n",
    "import datetime\n",
    "\n",
    "@dataclass\n",
    "class MyData:\n",
    "    name: str = \"Empty Value\"\n",
    "    none: str | None = None\n",
    "    time: str = str(datetime.datetime.now())  \n",
    "        \n",
    "md = MyData()\n",
    "print(md.__dict__)"
   ]
  },
  {
   "cell_type": "code",
   "execution_count": null,
   "id": "e052e91a",
   "metadata": {},
   "outputs": [],
   "source": [
    "# clusteredis\n",
    "# The Idea of database - using dataclasses\n",
    "# each table - each db host\n",
    "# relations through classes connectors which implements data transforming under the hood\n",
    "#https://redis-py.readthedocs.io/en/stable/examples/ssl_connection_examples.html\n"
   ]
  },
  {
   "cell_type": "code",
   "execution_count": 2,
   "id": "7ea54184",
   "metadata": {},
   "outputs": [
    {
     "name": "stdout",
     "output_type": "stream",
     "text": [
      "'foo'\n"
     ]
    }
   ],
   "source": [
    "print(ascii('foo'))"
   ]
  },
  {
   "cell_type": "code",
   "execution_count": 9,
   "id": "1de8556c",
   "metadata": {},
   "outputs": [
    {
     "name": "stdout",
     "output_type": "stream",
     "text": [
      "vanusha                                           vanechka                                          ____\n"
     ]
    }
   ],
   "source": [
    "txt = \"H\\te\\tl\\tl\\to\"\n",
    "foo = 'vanusha\\tvanechka\\t____'\n",
    "\n",
    "x =  foo.expandtabs(50)\n",
    "\n",
    "print(x)"
   ]
  },
  {
   "cell_type": "code",
   "execution_count": 43,
   "id": "097c4c2b",
   "metadata": {},
   "outputs": [
    {
     "name": "stdout",
     "output_type": "stream",
     "text": [
      "(0, 0) (3, 1) (6, 2) (9, 3) (12, 4) (15, 5) (18, 6) (21, 7) (24, 8) (27, 9) (0, 0) (3, 1) (6, 2) (9, 3) (12, 4) (15, 5) (18, 6) (21, 7) (24, 8) (27, 9)\n"
     ]
    }
   ],
   "source": [
    "# COMPLEX NUMBERS - https://datascienceparichay.com/article/python-generate-random-complex-number/\n",
    "\n",
    "\n",
    "# CONJUGATES COMPLEX NUMBER -  Сопрягать\n",
    "lst = [0,1,1,0,100,-0]\n",
    "\n",
    "# 1+3j.conjugate()\n",
    "# (1-3j)\n",
    "z = complex(30, 45)\n",
    "\n",
    "\n",
    "z.conjugate()\n",
    "\n",
    "\n",
    "\n",
    "\n",
    "ff =  dict(a=([ xx := (i*3) for i in range(10)] * 2), b=([ b for b in range(10) ] *2 ))\n",
    "ff['a'] \n",
    "s = zip(ff['a'],ff['b'])\n",
    "print(*s)"
   ]
  },
  {
   "cell_type": "code",
   "execution_count": 14,
   "id": "0118e4f5",
   "metadata": {},
   "outputs": [],
   "source": [
    "# import numpy as np \n",
    "# import matplotlib.pyplot as plt \n",
    "# import math \n",
    "  \n",
    "# v = np.array([4, 1]) \n",
    "# w = 5 * v \n",
    "# print(\"w = \", w) \n",
    "  \n",
    "# # Plot w \n",
    "# origin =[0], [0] \n",
    "# plt.grid() \n",
    "# plt.ticklabel_format(style ='sci', axis ='both',  \n",
    "#                      scilimits =(0, 0)) \n",
    "# plt.quiver(*origin, *w, scale = 10) \n",
    "# plt.show() "
   ]
  },
  {
   "cell_type": "code",
   "execution_count": 5,
   "id": "71fcb10b-3ee1-45aa-9945-fff1a561d39b",
   "metadata": {},
   "outputs": [
    {
     "data": {
      "text/plain": [
       "'Full name: Guido Van Rossum'"
      ]
     },
     "execution_count": 5,
     "metadata": {},
     "output_type": "execute_result"
    }
   ],
   "source": [
    "full_name = lambda first, last: f'Full name: {first.title()} {last.title()}'\n",
    "full_name('guido', 'van rossum')\n",
    "\n",
    "\n",
    "# def noname(a):\n",
    "#     return a.title()\n",
    "\n",
    "# nn = noname('***')\n",
    "\n",
    "# nn.title()\n",
    "\n",
    "\n",
    "\n",
    "# # txt = \"hello b2b2b2 and 3g3g3g\"\n",
    "\n",
    "# txt = 'small all Big'\n",
    "\n",
    "# x = txt.title()\n",
    "\n",
    "# print(x)\n",
    "    \n",
    "\n",
    "\n"
   ]
  },
  {
   "cell_type": "code",
   "execution_count": 31,
   "id": "9d9ed8b1-442c-4a5c-8129-a7d9c6975e3a",
   "metadata": {},
   "outputs": [
    {
     "data": {
      "text/plain": [
       "True"
      ]
     },
     "execution_count": 31,
     "metadata": {},
     "output_type": "execute_result"
    }
   ],
   "source": [
    "# Строковые литералы при идентичности ссылаются на один объект\n",
    "t1 = 'ABC'\n",
    "t2 = 'ABC'\n",
    "\n",
    "t1 is t2\n",
    "# true\n",
    "\n",
    "# чего не скажешь о tuple\n",
    "f1 = (1,2,3)\n",
    "f2 = (1,2,3)\n",
    "f1 is f2\n",
    "# false\n",
    "# Но если создаем так... то опять ссылаемся на то же объект\n",
    "\n",
    "f3 = tuple(f1)\n",
    "\n",
    "f3 is f1\n",
    "# True - странновато !\n",
    "\n",
    "\n"
   ]
  },
  {
   "cell_type": "code",
   "execution_count": 64,
   "id": "599f28c0-cfab-425c-92d0-0c9614e5b5a4",
   "metadata": {},
   "outputs": [
    {
     "data": {
      "text/plain": [
       "True"
      ]
     },
     "execution_count": 64,
     "metadata": {},
     "output_type": "execute_result"
    }
   ],
   "source": [
    "\n"
   ]
  },
  {
   "cell_type": "code",
   "execution_count": 98,
   "id": "23e4faa9-574c-4df5-8a84-703170af8171",
   "metadata": {},
   "outputs": [
    {
     "name": "stdout",
     "output_type": "stream",
     "text": [
      "['kk', 'ff', 'jj']\n"
     ]
    }
   ],
   "source": [
    "kk = ['kk','ff','jj']\n",
    "# kk = []\n",
    "\n",
    "# kk = tuple((1,2,3))\n",
    "\n",
    "def contains(it, arg):\n",
    "    return it.__contains__(arg)\n",
    "\n",
    "contains(kk,'kexx')\n",
    "\n",
    "\n",
    "\n",
    "\n",
    "if any(kk):\n",
    "    print(kk)\n",
    "elif not any(kk):\n",
    "    print('kk is false')\n",
    "else:\n",
    "    print('kk is empty')\n",
    "\n",
    "\n",
    "# ------------------------------\n",
    "# Строковые литералы при идентичности ссылаются на один объект\n",
    "t1 = 'ABC'\n",
    "t2 = 'ABC'\n",
    "\n",
    "t1 is t2\n",
    "# true\n",
    "\n",
    "# чего не скажешь о tuple\n",
    "f1 = (1,2,3)\n",
    "f2 = (1,2,3)\n",
    "f1 is f2\n",
    "# false\n",
    "# Но если создаем так... то опять ссылаемся на то же объект\n",
    "\n",
    "f3 = tuple(f1)\n",
    "\n",
    "f3 is f1\n",
    "# True - странновато !"
   ]
  }
 ],
 "metadata": {
  "kernelspec": {
   "display_name": "Python 3 (ipykernel)",
   "language": "python",
   "name": "python3"
  },
  "language_info": {
   "codemirror_mode": {
    "name": "ipython",
    "version": 3
   },
   "file_extension": ".py",
   "mimetype": "text/x-python",
   "name": "python",
   "nbconvert_exporter": "python",
   "pygments_lexer": "ipython3",
   "version": "3.12.4"
  }
 },
 "nbformat": 4,
 "nbformat_minor": 5
}
