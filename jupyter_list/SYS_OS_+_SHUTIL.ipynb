{
 "cells": [
  {
   "cell_type": "code",
   "execution_count": 4,
   "id": "48791911-1012-450a-98aa-24b1e5d75c67",
   "metadata": {},
   "outputs": [
    {
     "ename": "SyntaxError",
     "evalue": "invalid syntax (1364581286.py, line 3)",
     "output_type": "error",
     "traceback": [
      "\u001b[0;36m  Cell \u001b[0;32mIn[4], line 3\u001b[0;36m\u001b[0m\n\u001b[0;31m    https://docs.python.org/3/library/shutil.html#module-shutil\u001b[0m\n\u001b[0m          ^\u001b[0m\n\u001b[0;31mSyntaxError\u001b[0m\u001b[0;31m:\u001b[0m invalid syntax\n"
     ]
    }
   ],
   "source": [
    "# S H U T I L \n",
    "\n",
    "https://docs.python.org/3/library/shutil.html#module-shutil\n",
    "import shutil\n",
    "shutil.copyfileobj(fsrc, fdst[, length])\n",
    "\n",
    "shutil.copyfile(src, dst, *, follow_symlinks=True)\n",
    "\n",
    "\n",
    "\n"
   ]
  },
  {
   "cell_type": "code",
   "execution_count": 22,
   "id": "dbe6b875-c4b9-41c3-8458-7326cb32af35",
   "metadata": {},
   "outputs": [
    {
     "data": {
      "text/plain": [
       "'Copyright (c) 2001-2021 Python Software Foundation.\\nAll Rights Reserved.\\n\\nCopyright (c) 2000 BeOpen.com.\\nAll Rights Reserved.\\n\\nCopyright (c) 1995-2001 Corporation for National Research Initiatives.\\nAll Rights Reserved.\\n\\nCopyright (c) 1991-1995 Stichting Mathematisch Centrum, Amsterdam.\\nAll Rights Reserved.'"
      ]
     },
     "execution_count": 22,
     "metadata": {},
     "output_type": "execute_result"
    }
   ],
   "source": [
    "# SYS module -  Все дела и настройки интерпритатора\n",
    "import sys, os\n",
    "\n",
    "# В этих методах Все о версии интерпритатора:\n",
    "#Свойство sys.copyright,\n",
    "#Свойство sys.version,\n",
    "# Свойство sys.api_version,\n",
    "# Свойство sys.version_info,\n",
    "# Свойство sys.implementation,\n",
    "# Свойство sys.hexversion,\n",
    "# Свойство sys.winver.\n",
    "\n",
    "sys.copyright"
   ]
  },
  {
   "cell_type": "code",
   "execution_count": 21,
   "id": "065baeba-d7a1-46b9-bf59-a0266de64614",
   "metadata": {},
   "outputs": [
    {
     "data": {
      "text/plain": [
       "1"
      ]
     },
     "execution_count": 21,
     "metadata": {},
     "output_type": "execute_result"
    }
   ],
   "source": [
    "import copy\n",
    "var = [1,2,3,4,5,6]\n",
    "\n",
    "ss = ['hello','again','hellouuu']\n",
    "var2 = copy.deepcopy(var) + ['hello','again','hellouuu'] + ss\n",
    "\n",
    "sys.getrefcount([var2 + ss])"
   ]
  },
  {
   "cell_type": "code",
   "execution_count": 40,
   "id": "4f049411-f98a-4d7d-b1bf-a0494a4fa1e0",
   "metadata": {},
   "outputs": [
    {
     "data": {
      "text/plain": [
       "['/Library/Developer/CommandLineTools/Library/Frameworks/Python3.framework/Versions/3.9/lib/python39.zip',\n",
       " '/Library/Developer/CommandLineTools/Library/Frameworks/Python3.framework/Versions/3.9/lib/python3.9',\n",
       " '/Library/Developer/CommandLineTools/Library/Frameworks/Python3.framework/Versions/3.9/lib/python3.9/lib-dynload',\n",
       " '',\n",
       " '/Users/ewan/Library/Python/3.9/lib/python/site-packages',\n",
       " '/Library/Developer/CommandLineTools/Library/Frameworks/Python3.framework/Versions/3.9/lib/python3.9/site-packages',\n",
       " '/Library/Python/3.9/site-packages']"
      ]
     },
     "execution_count": 40,
     "metadata": {},
     "output_type": "execute_result"
    }
   ],
   "source": [
    "# Path \n",
    "\n",
    "path = sys.path # path to python interpretator\n",
    "path\n",
    "\n",
    "# here = os.path.dirname(__file__) or '.' # Here no works\n",
    "\n",
    "# sys.path_importer_cache"
   ]
  },
  {
   "cell_type": "code",
   "execution_count": 1,
   "id": "018ad318-c556-4af5-9024-2d575b47bb8b",
   "metadata": {},
   "outputs": [],
   "source": [
    "# SYS MODULE DOCS\n",
    "# https://docs.python.org/3/library/sys.html#module-sys"
   ]
  }
 ],
 "metadata": {
  "kernelspec": {
   "display_name": "Python 3 (ipykernel)",
   "language": "python",
   "name": "python3"
  },
  "language_info": {
   "codemirror_mode": {
    "name": "ipython",
    "version": 3
   },
   "file_extension": ".py",
   "mimetype": "text/x-python",
   "name": "python",
   "nbconvert_exporter": "python",
   "pygments_lexer": "ipython3",
   "version": "3.13.0a6"
  }
 },
 "nbformat": 4,
 "nbformat_minor": 5
}
