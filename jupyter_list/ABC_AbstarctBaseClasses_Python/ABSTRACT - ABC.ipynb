{
 "cells": [
  {
   "cell_type": "code",
   "execution_count": 55,
   "id": "0fc804b0",
   "metadata": {},
   "outputs": [
    {
     "name": "stdout",
     "output_type": "stream",
     "text": [
      "RUNN FROM ONE\n",
      "Runn method in First\n",
      "additional runn from Sec\n"
     ]
    }
   ],
   "source": [
    "# ABSTRACT classes coud't be instantiate\n",
    "# You can do inheritance as perrent class but you should do re define all methods in inherited class\n",
    "from abc import ABC,abstractmethod \n",
    "\n",
    "#Возможен такой синтаксис\n",
    "class One(object):\n",
    "    __metaclass__ = ABCMeta\n",
    "    def __init__(self,a,b):\n",
    "        self.a = a\n",
    "        self.b = b\n",
    "    @abstractmethod \n",
    "    def runn(self):\n",
    "        print('RUNN FROM ONE')\n",
    "\n",
    "class First(One,ABC):\n",
    "    def __init__(self):\n",
    "        super().__init__()\n",
    "    @abstractmethod\n",
    "    def runn(self):\n",
    "        super().runn()\n",
    "        print(\"Runn method in First\")\n",
    "    @abstractmethod\n",
    "    def draw(self):\n",
    "        print(\"I draw from First\")\n",
    "    \n",
    "class Sec(First):\n",
    "    def __init__(self,a,b):\n",
    "        self.a = a\n",
    "        self.b = b \n",
    "    def runn(self):\n",
    "        super().runn()\n",
    "        print(\"additional runn from Sec\")\n",
    "    def draw(self):\n",
    "        print(\"I draw from SEC\")\n",
    "        super().draw()\n",
    "\n",
    "\n",
    "\n",
    "ss = Sec(2,4)\n",
    "ss.runn()\n"
   ]
  },
  {
   "cell_type": "code",
   "execution_count": null,
   "id": "7f1a743a-0904-4277-87d8-7c683cced417",
   "metadata": {},
   "outputs": [],
   "source": [
    "# Идея следующая: \n",
    "# Мы создаем абстрактный класс куда пишем базовые методы для всех \n",
    "# дочерних классов.  Сам абстракный класс не инстанцируется. Только для наследования"
   ]
  },
  {
   "cell_type": "code",
   "execution_count": 8,
   "id": "5e339dff-40b1-456a-b832-72cba520d832",
   "metadata": {},
   "outputs": [
    {
     "name": "stdout",
     "output_type": "stream",
     "text": [
      "Parent saying something\n",
      "son saying\n"
     ]
    }
   ],
   "source": [
    "from abc import ABC,abstractmethod\n",
    "\n",
    "class Parent(ABC):\n",
    "    @abstractmethod\n",
    "    def say(self):\n",
    "        print('Parent saying something')\n",
    "\n",
    "\n",
    "class Son(Parent):\n",
    "    def say(self):\n",
    "        super().say()\n",
    "        print('son saying')\n",
    "\n",
    "\n",
    "f = Son()\n",
    "\n",
    "f.say()"
   ]
  },
  {
   "cell_type": "code",
   "execution_count": 15,
   "id": "7d02d88c-a622-49bb-a9fd-013745d1d90b",
   "metadata": {},
   "outputs": [
    {
     "data": {
      "text/plain": [
       "{}"
      ]
     },
     "execution_count": 15,
     "metadata": {},
     "output_type": "execute_result"
    }
   ],
   "source": [
    "\n",
    "\n",
    "\n",
    "\n"
   ]
  }
 ],
 "metadata": {
  "kernelspec": {
   "display_name": "Python 3 (ipykernel)",
   "language": "python",
   "name": "python3"
  },
  "language_info": {
   "codemirror_mode": {
    "name": "ipython",
    "version": 3
   },
   "file_extension": ".py",
   "mimetype": "text/x-python",
   "name": "python",
   "nbconvert_exporter": "python",
   "pygments_lexer": "ipython3",
   "version": "3.13.0a6"
  }
 },
 "nbformat": 4,
 "nbformat_minor": 5
}
