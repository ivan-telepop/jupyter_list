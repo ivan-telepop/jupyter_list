{
 "cells": [
  {
   "cell_type": "code",
   "execution_count": 25,
   "id": "0fc804b0",
   "metadata": {},
   "outputs": [
    {
     "name": "stdout",
     "output_type": "stream",
     "text": [
      "Runn Method is OK\n",
      "Description of <__main__.First object at 0x2cfdafe20> class\n"
     ]
    }
   ],
   "source": [
    "# ABSTRACT classes coud't be instantiate\n",
    "# You can do inheritance as perent class but you should do re define all methods in inherited class\n",
    "\n",
    "# https://medium.com/@prashampahadiya9228/abstract-classes-and-abstract-methods-in-python-e632ea34bc79\n",
    "\n",
    "\n",
    "\n",
    "from abc import ABC,abstractmethod\n",
    "\n",
    "\n",
    "# Абстрактный класс — это класс, который предназначен для создания класса прообраза, \n",
    "# но не для создания экземпляров напрямую. Он может включать один или несколько абстрактных методов. \n",
    "# В Python абстрактные классы создаются с помощью модуля `abc`, в частности, класса `ABC`.\n",
    "\n",
    "class Base(ABC):\n",
    "    @abstractmethod\n",
    "    def runn(self):\n",
    "        pass\n",
    "    @abstractmethod\n",
    "    def scream(self):\n",
    "        pass\n",
    "    def describe(self):\n",
    "        print(f\"Description of {self} class\")\n",
    "\n",
    "\n",
    "\n",
    "class First(Base):\n",
    "    def runn(self):\n",
    "        print(\"Runn Method is OK\")\n",
    "    def scream(self):\n",
    "        print(\"Aa-a-a-a-\")\n",
    "    \n",
    "\n",
    "\n",
    "first = First()\n",
    "\n",
    "\n",
    "first.runn()\n",
    "\n",
    "first.describe()\n"
   ]
  },
  {
   "cell_type": "code",
   "execution_count": null,
   "id": "7f1a743a-0904-4277-87d8-7c683cced417",
   "metadata": {},
   "outputs": [],
   "source": [
    "# Идея следующая: \n",
    "# Мы создаем абстрактный класс куда пишем базовые методы для всех \n",
    "# дочерних классов.  Сам абстракный класс не инстанцируется. Только для наследования"
   ]
  },
  {
   "cell_type": "code",
   "execution_count": 8,
   "id": "5e339dff-40b1-456a-b832-72cba520d832",
   "metadata": {},
   "outputs": [
    {
     "name": "stdout",
     "output_type": "stream",
     "text": [
      "Parent saying something\n",
      "son saying\n"
     ]
    }
   ],
   "source": [
    "from abc import ABC,abstractmethod\n",
    "\n",
    "class Parent(ABC):\n",
    "    @abstractmethod\n",
    "    def say(self):\n",
    "        print('Parent saying something')\n",
    "\n",
    "\n",
    "class Son(Parent):\n",
    "    def say(self):\n",
    "        super().say()\n",
    "        print('son saying')\n",
    "\n",
    "\n",
    "f = Son()\n",
    "\n",
    "f.say()"
   ]
  }
 ],
 "metadata": {
  "kernelspec": {
   "display_name": "Python 3 (ipykernel)",
   "language": "python",
   "name": "python3"
  },
  "language_info": {
   "codemirror_mode": {
    "name": "ipython",
    "version": 3
   },
   "file_extension": ".py",
   "mimetype": "text/x-python",
   "name": "python",
   "nbconvert_exporter": "python",
   "pygments_lexer": "ipython3",
   "version": "3.9.6"
  }
 },
 "nbformat": 4,
 "nbformat_minor": 5
}
