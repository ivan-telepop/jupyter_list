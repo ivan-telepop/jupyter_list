{
 "cells": [
  {
   "cell_type": "code",
   "execution_count": 55,
   "id": "0fc804b0",
   "metadata": {},
   "outputs": [
    {
     "name": "stdout",
     "output_type": "stream",
     "text": [
      "RUNN FROM ONE\n",
      "Runn method in First\n",
      "additional runn from Sec\n"
     ]
    }
   ],
   "source": [
    "# ABSTRACT classes coud't be instantiate\n",
    "# You can do inheritance as perrent class but you should do re define all methods in inherited class\n",
    "from abc import ABC,abstractmethod \n",
    "\n",
    "#Возможен такой синтаксис\n",
    "class One(object):\n",
    "    __metaclass__ = ABCMeta\n",
    "    def __init__(self,a,b):\n",
    "        self.a = a\n",
    "        self.b = b\n",
    "    @abstractmethod \n",
    "    def runn(self):\n",
    "        print('RUNN FROM ONE')\n",
    "\n",
    "class First(One,ABC):\n",
    "    def __init__(self):\n",
    "        super().__init__()\n",
    "    @abstractmethod\n",
    "    def runn(self):\n",
    "        super().runn()\n",
    "        print(\"Runn method in First\")\n",
    "    @abstractmethod\n",
    "    def draw(self):\n",
    "        print(\"I draw from First\")\n",
    "    \n",
    "class Sec(First):\n",
    "    def __init__(self,a,b):\n",
    "        self.a = a\n",
    "        self.b = b \n",
    "    def runn(self):\n",
    "        super().runn()\n",
    "        print(\"additional runn from Sec\")\n",
    "    def draw(self):\n",
    "        print(\"I draw from SEC\")\n",
    "        super().draw()\n",
    "\n",
    "\n",
    "\n",
    "ss = Sec(2,4)\n",
    "ss.runn()\n"
   ]
  }
 ],
 "metadata": {
  "kernelspec": {
   "display_name": "Python 3 (ipykernel)",
   "language": "python",
   "name": "python3"
  },
  "language_info": {
   "codemirror_mode": {
    "name": "ipython",
    "version": 3
   },
   "file_extension": ".py",
   "mimetype": "text/x-python",
   "name": "python",
   "nbconvert_exporter": "python",
   "pygments_lexer": "ipython3",
   "version": "3.10.9"
  }
 },
 "nbformat": 4,
 "nbformat_minor": 5
}
