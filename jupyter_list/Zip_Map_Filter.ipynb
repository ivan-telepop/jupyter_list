{
 "cells": [
  {
   "cell_type": "code",
   "execution_count": 43,
   "id": "1dfe00c3-0631-4aaa-8b0c-24ee0c53f14d",
   "metadata": {},
   "outputs": [
    {
     "name": "stdout",
     "output_type": "stream",
     "text": [
      "2 12 8 108 174 66 44 -66 106 -22 4 -6\n"
     ]
    }
   ],
   "source": [
    "# map()\n",
    "\n",
    "plur = [1,6,4,54,87,33,22,-33,53,-11,2,-3]\n",
    "\n",
    "def calc(a):\n",
    "    return a * 2\n",
    "        \n",
    "mapped = map(calc,plur)\n",
    "\n",
    "print(*mapped)"
   ]
  },
  {
   "cell_type": "code",
   "execution_count": 16,
   "id": "cdb8a34f-514d-4adf-8c75-51756da51fd1",
   "metadata": {},
   "outputs": [
    {
     "name": "stdout",
     "output_type": "stream",
     "text": [
      "(1, 40)\n"
     ]
    }
   ],
   "source": [
    "# zip\n",
    "\n",
    "# one = [i for i in range(1,9)]\n",
    "# two = [y for y in range(1,9)]\n",
    "\n",
    "# zipped = zip(one,two)\n",
    "\n",
    "# print(*zipped)\n"
   ]
  },
  {
   "cell_type": "code",
   "execution_count": 13,
   "id": "92b71b0a-2b11-4021-a061-80ac69b42f3d",
   "metadata": {},
   "outputs": [
    {
     "name": "stdout",
     "output_type": "stream",
     "text": [
      "66\n",
      "67\n",
      "68\n",
      "69\n",
      "70\n",
      "71\n",
      "72\n",
      "73\n",
      "74\n",
      "75\n",
      "76\n",
      "77\n"
     ]
    },
    {
     "data": {
      "text/plain": [
       "[66, 67, 68, 69, 70, 71, 72, 73, 74, 75, 76, 77]"
      ]
     },
     "execution_count": 13,
     "metadata": {},
     "output_type": "execute_result"
    }
   ],
   "source": [
    "def ff(v):\n",
    "    if v > 50:\n",
    "        return True\n",
    "    elif v < 50:\n",
    "        return False\n",
    "\n",
    "\n",
    "f_arr = [i for i in range(29,78) if i >= 66]\n",
    "\n",
    "for it in filter(lambda x: x >= 66,arr):\n",
    "    print(it)\n",
    "\n",
    "f_arr"
   ]
  }
 ],
 "metadata": {
  "kernelspec": {
   "display_name": "Python 3 (ipykernel)",
   "language": "python",
   "name": "python3"
  },
  "language_info": {
   "codemirror_mode": {
    "name": "ipython",
    "version": 3
   },
   "file_extension": ".py",
   "mimetype": "text/x-python",
   "name": "python",
   "nbconvert_exporter": "python",
   "pygments_lexer": "ipython3",
   "version": "3.13.0a6"
  }
 },
 "nbformat": 4,
 "nbformat_minor": 5
}
