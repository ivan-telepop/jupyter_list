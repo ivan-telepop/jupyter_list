{
 "cells": [
  {
   "cell_type": "code",
   "execution_count": 84,
   "id": "756b2533-041f-47cb-8ab2-ddcc33dee7b2",
   "metadata": {},
   "outputs": [
    {
     "name": "stdout",
     "output_type": "stream",
     "text": [
      "{'_memory': 4, '_hdd': 500, '_gpu': 'Intel HD Graphics 500'}\n"
     ]
    }
   ],
   "source": [
    "# bulder pattern computer configuration example + implemented setters and getters ++ properties\n",
    "MINI14 = '1.4GHz Mac Mini'\n",
    "\n",
    "class AppleFactory:\n",
    "    class MacMini14:\n",
    "        def __init__(self):\n",
    "            self.memory = 4 \n",
    "            self.hdd = 500 \n",
    "            self.gpu = 'Intel HD Graphics 500' \n",
    "            \n",
    "        @property\n",
    "        def gpu(self):\n",
    "            return self._gpu\n",
    "        @property\n",
    "        def memory(self):\n",
    "            return self._memory\n",
    "        @property\n",
    "        def hdd(self):\n",
    "            return self._hdd\n",
    "            \n",
    "         # setters  \n",
    "        \n",
    "        @gpu.setter\n",
    "        def gpu(self,val):\n",
    "            self._gpu = val\n",
    "        @hdd.setter\n",
    "        def hdd(self,val):\n",
    "            self._hdd = val\n",
    "        @memory.setter\n",
    "        def memory(self, val):\n",
    "            self._memory = val\n",
    "        @property\n",
    "        def info(self):\n",
    "            return f\"Model: {MINI14}  Memory: {self.memory}  HDD: {self.hdd}  Graphic: {self.gpu}\"\n",
    "\n",
    "\n",
    "    def build_pc(self,model):\n",
    "        if (model == MINI14):\n",
    "            return self.MacMini14()\n",
    "        else:\n",
    "            print(\"Nothing to Build here\")\n",
    "\n",
    "\n",
    "if __name__ == '__main__':\n",
    "    fc = AppleFactory()\n",
    "    mac_mini = fc.build_pc(MINI14)\n",
    "    print(mac_mini.__dict__)\n",
    "\n"
   ]
  }
 ],
 "metadata": {
  "kernelspec": {
   "display_name": "Python 3 (ipykernel)",
   "language": "python",
   "name": "python3"
  },
  "language_info": {
   "codemirror_mode": {
    "name": "ipython",
    "version": 3
   },
   "file_extension": ".py",
   "mimetype": "text/x-python",
   "name": "python",
   "nbconvert_exporter": "python",
   "pygments_lexer": "ipython3",
   "version": "3.9.6"
  }
 },
 "nbformat": 4,
 "nbformat_minor": 5
}
