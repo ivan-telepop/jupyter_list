{
 "cells": [
  {
   "cell_type": "code",
   "execution_count": null,
   "id": "36ef8867-9f42-4f88-b92f-85d05dcb2ab0",
   "metadata": {},
   "outputs": [],
   "source": [
    "# coding: utf-8\n",
    "\n",
    "\"\"\"\n",
    "Приспособленец (Flyweight) - паттерн, структурирующий объекты.\n",
    "\n",
    "Использует разделение для эффективной поддержки множества мелких объектов.\n",
    "\"\"\"\n",
    "\n",
    "import weakref\n",
    "\n",
    "\n",
    "class Color(object):\n",
    "    \"\"\"Приспособленец\"\"\"\n",
    "    def __init__(self, name):\n",
    "        self._name = name\n",
    "\n",
    "    def __str__(self):\n",
    "        return self._name\n",
    "\n",
    "\n",
    "class ColorFactory(object):\n",
    "    \"\"\"Фабрика приспособленцев\"\"\"\n",
    "    _colors = weakref.WeakValueDictionary()\n",
    "\n",
    "    @classmethod\n",
    "    def get_color(cls, name):\n",
    "        value = cls._colors.get(name)\n",
    "        if value is None:\n",
    "            value = Color(name)\n",
    "            cls._colors[name] = value\n",
    "        return value\n",
    "\n",
    "\n",
    "class Placemark(object):\n",
    "    \"\"\"Метка на карте\"\"\"\n",
    "    def __init__(self, latitude, longitude, color_name):\n",
    "        # координаты - внутреннее состояние (т.к. они уникальны для каждой метки)\n",
    "        self._latitude = latitude\n",
    "        self._longitude = longitude\n",
    "        # цвет - внешнее состояние которое может быть общим у разных меток\n",
    "        self._color = ColorFactory.get_color(color_name)\n",
    "\n",
    "    def __str__(self):\n",
    "        args = (self._color, self._latitude, self._longitude)\n",
    "        return 'Цвет: %s; Координаты: (%0.4f, %0.4f)' % args\n",
    "\n",
    "\n",
    "plmrk0 = Placemark(-74.007121, 40.714551, 'green')  # Нью-Йорк\n",
    "plmrk1 = Placemark(37.617761, 55.755773, 'green')  # Москва\n",
    "\n",
    "print plmrk0  # Цвет: green; Координаты: (-74.0071, 40.7146)\n",
    "print plmrk1  # Цвет: green; Координаты: (37.6178, 55.7558)\n",
    "print plmrk0._color is plmrk1._color  # True"
   ]
  }
 ],
 "metadata": {
  "kernelspec": {
   "display_name": "Python 3 (ipykernel)",
   "language": "python",
   "name": "python3"
  },
  "language_info": {
   "codemirror_mode": {
    "name": "ipython",
    "version": 3
   },
   "file_extension": ".py",
   "mimetype": "text/x-python",
   "name": "python",
   "nbconvert_exporter": "python",
   "pygments_lexer": "ipython3",
   "version": "3.9.6"
  }
 },
 "nbformat": 4,
 "nbformat_minor": 5
}
