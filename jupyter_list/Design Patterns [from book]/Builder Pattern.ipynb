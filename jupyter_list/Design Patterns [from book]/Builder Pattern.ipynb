{
 "cells": [
  {
   "cell_type": "code",
   "execution_count": 84,
   "id": "756b2533-041f-47cb-8ab2-ddcc33dee7b2",
   "metadata": {},
   "outputs": [
    {
     "name": "stdout",
     "output_type": "stream",
     "text": [
      "{'_memory': 4, '_hdd': 500, '_gpu': 'Intel HD Graphics 500'}\n"
     ]
    }
   ],
   "source": [
    "# bulder pattern computer configuration example + implemented setters and getters ++ properties\n",
    "MINI14 = '1.4GHz Mac Mini'\n",
    "\n",
    "class AppleFactory:\n",
    "    class MacMini14:\n",
    "        def __init__(self):\n",
    "            self.memory = 4 \n",
    "            self.hdd = 500 \n",
    "            self.gpu = 'Intel HD Graphics 500' \n",
    "            \n",
    "        @property\n",
    "        def gpu(self):\n",
    "            return self._gpu\n",
    "        @property\n",
    "        def memory(self):\n",
    "            return self._memory\n",
    "        @property\n",
    "        def hdd(self):\n",
    "            return self._hdd\n",
    "            \n",
    "         # setters  \n",
    "        \n",
    "        @gpu.setter\n",
    "        def gpu(self,val):\n",
    "            self._gpu = val\n",
    "        @hdd.setter\n",
    "        def hdd(self,val):\n",
    "            self._hdd = val\n",
    "        @memory.setter\n",
    "        def memory(self, val):\n",
    "            self._memory = val\n",
    "        @property\n",
    "        def info(self):\n",
    "            return f\"Model: {MINI14}  Memory: {self.memory}  HDD: {self.hdd}  Graphic: {self.gpu}\"\n",
    "\n",
    "\n",
    "    def build_pc(self,model):\n",
    "        if (model == MINI14):\n",
    "            return self.MacMini14()\n",
    "        else:\n",
    "            print(\"Nothing to Build here\")\n",
    "\n",
    "\n",
    "if __name__ == '__main__':\n",
    "    fc = AppleFactory()\n",
    "    mac_mini = fc.build_pc(MINI14)\n",
    "    print(mac_mini.__dict__)\n",
    "\n"
   ]
  },
  {
   "cell_type": "code",
   "execution_count": 1,
   "id": "ce1f87ae-40ac-4035-9136-1462f4fe2d46",
   "metadata": {},
   "outputs": [
    {
     "data": {
      "text/plain": [
       "{'_modif': 'metal', '_color': 'green', '_power': 'disel', 'lights': 'xnenon'}"
      ]
     },
     "execution_count": 1,
     "metadata": {},
     "output_type": "execute_result"
    }
   ],
   "source": [
    "# Next Again Builder \n",
    "\n",
    "# BUILDER - The concept when you use different classes for build with builder class which has special interfaces for it.\n",
    "# На примере двух концепций в ООП где затронул тему дескрипторов и паттернов программирования\n",
    "# В примере использован паттерн БИЛДЕР или строитель с применением дескрипторов.\n",
    "\n",
    "\n",
    "class Chassis: # Descriptor for Chassis\n",
    "    modif = None\n",
    "    \n",
    "    def __get__(self,obj):\n",
    "        return obj.__dict__[f'_modif']\n",
    "    \n",
    "    def __set__(self,obj,value):\n",
    "        obj.__dict__[f'_modif'] = value\n",
    "    \n",
    "\n",
    "class Body: #Descriptor for Body\n",
    "    color = None\n",
    "    def __get__(self,obj):\n",
    "        return obj.__dict__[f'_color']\n",
    "    \n",
    "    def __set__(self,obj,value):\n",
    "        if not isinstance(value,int | str):\n",
    "            raise ValueError\n",
    "        obj.__dict__[f'_color'] = value\n",
    "\n",
    "class Engine: # descriptor for engine\n",
    "    power = None\n",
    "    def __get__(self,obj):\n",
    "        return obj.__dict__[f'_power']\n",
    "    \n",
    "    def __set__(self,obj,value):\n",
    "        if not isinstance(value,int | str):\n",
    "            raise ValueError\n",
    "        obj.__dict__[f'_power'] = value\n",
    "    \n",
    "    \n",
    "class Car(Chassis,Engine,Body):\n",
    "    chassis = Chassis()\n",
    "    body = Body()\n",
    "    engine = Engine()\n",
    "    TOTAL_CARS = 0\n",
    "    def __init__(self,chassis,body,engine):\n",
    "        Car.TOTAL_CARS = Car.TOTAL_CARS + 1# Such way we do count objects created with this instance\n",
    "        self.chassis = chassis\n",
    "        self.body = body\n",
    "        self.engine = engine\n",
    "    @classmethod\n",
    "    def released_cars(cls):                         \n",
    "        return f\"Released Cars:  {cls.TOTAL_CARS}\"\n",
    "    \n",
    "\n",
    "    \n",
    "mers = Car('metal','green','disel')    \n",
    "    \n",
    "\n",
    "mers.modif = 'turbo sport'\n",
    "mers.__dict__\n",
    "mers.lights = 'xnenon'\n",
    "mers.__dict__\n",
    "del mers.modif\n",
    "mers.__dict__"
   ]
  }
 ],
 "metadata": {
  "kernelspec": {
   "display_name": "Python 3 (ipykernel)",
   "language": "python",
   "name": "python3"
  },
  "language_info": {
   "codemirror_mode": {
    "name": "ipython",
    "version": 3
   },
   "file_extension": ".py",
   "mimetype": "text/x-python",
   "name": "python",
   "nbconvert_exporter": "python",
   "pygments_lexer": "ipython3",
   "version": "3.12.4"
  }
 },
 "nbformat": 4,
 "nbformat_minor": 5
}
