{
 "cells": [
  {
   "cell_type": "code",
   "execution_count": null,
   "id": "156aa389-2094-4ae9-93f9-ea98178fc5dd",
   "metadata": {},
   "outputs": [],
   "source": [
    "# Prototype pattern\n",
    "\n",
    "# The Prototype design pattern helps us with creating object clones. \n",
    "# In its simplest version, the Prototype pattern is just a clone() \n",
    "# function that accepts an object as\n",
    "# an input parameter and returns a clone of it."
   ]
  },
  {
   "cell_type": "code",
   "execution_count": 17,
   "id": "ed21cc2e-b38b-4793-84ef-74d738f35c9c",
   "metadata": {},
   "outputs": [
    {
     "name": "stdout",
     "output_type": "stream",
     "text": [
      "List of all>> :[<__main__.Desc object at 0x10e8f7610>, <__main__.Desc object at 0x10e7824f0>, \"id's of these: 4539250192||4537722096 \"] <<\n"
     ]
    },
    {
     "data": {
      "text/plain": [
       "tuple"
      ]
     },
     "execution_count": 17,
     "metadata": {},
     "output_type": "execute_result"
    }
   ],
   "source": [
    "# Most simpliest case when we do deep copy of proto object with deepcopy()\n",
    "\n",
    "import copy\n",
    "class Orig:\n",
    "    def __init__(self):\n",
    "        self.a = 100\n",
    "        self.b = \"Proto\"\n",
    "    \n",
    "class Desc(Orig):\n",
    "    def __init__(self,**kwargs):\n",
    "        self.c = \"Descendant\"\n",
    "        super().__init__()\n",
    "    @property\n",
    "    def mro(cls):\n",
    "        return Desc.__mro__\n",
    "    def __str__(self):\n",
    "        return f\"Class has attrs: a={self.a}  b={self.b}  c={self.c} \"\n",
    "    \n",
    "\n",
    "item = Desc()\n",
    "\n",
    "copied_item = copy.deepcopy(item)\n",
    "\n",
    "memory_id = f\"id's of these: {id(item)}||{id(copied_item)} \"\n",
    "\n",
    "all_obj = [item,copied_item,memory_id]\n",
    "\n",
    "print(f\"List of all>> :{[*all_obj]} <<\")\n",
    "\n",
    "type(item.mro)"
   ]
  },
  {
   "cell_type": "code",
   "execution_count": 127,
   "id": "b3cf2c6c-090a-4ad7-a402-6f20de755160",
   "metadata": {},
   "outputs": [
    {
     "name": "stdout",
     "output_type": "stream",
     "text": [
      "authors: ('Brian W. Kernighan', 'Dennis M.Ritchie')\n",
      "length: 228\n",
      "name: The C Programming Language\n",
      "price: 118$\n",
      "publication_date: 1978-02-22\n",
      "publisher: Prentice Hall\n",
      "tags: ('C', 'programming', 'algorithms', 'data structures')\n",
      "\n",
      "ID b1 : 4546257776 != ID b2 : 4500969152\n",
      "None\n",
      "ID b1 : 4546257776 != ID b2 : 4500969152\n",
      "authors: ('Brian W. Kernighan', 'Dennis M.Ritchie')\n",
      "length: 228\n",
      "name: The C Programming Language\n",
      "price: 118$\n",
      "publication_date: 1978-02-22\n",
      "publisher: Prentice Hall\n",
      "tags: ('C', 'programming', 'algorithms', 'data structures')\n",
      "\n",
      "None\n"
     ]
    }
   ],
   "source": [
    "import copy\n",
    "from collections import OrderedDict\n",
    "from datetime import datetime\n",
    "class Book:\n",
    "    '''Examples of rest: publisher, length, tags, publication\n",
    "           date'''\n",
    "\n",
    "    def __init__(self, name, authors, price, **rest):\n",
    "        self.name = name\n",
    "        self.authors = authors\n",
    "        self.price = price      # in US dollars\n",
    "        self.__dict__.update(rest)\n",
    "    def __str__(self):\n",
    "        mylist=[]\n",
    "        ordered = OrderedDict(sorted(self.__dict__.items()))\n",
    "        for i in ordered.keys():\n",
    "            mylist.append('{}: {}'.format(i, ordered[i]))\n",
    "            if i == 'price':\n",
    "                mylist.append('$')\n",
    "            mylist.append('\\n')\n",
    "        return ''.join(mylist)\n",
    "\n",
    "book = Book(name='Ted',authors='Aaron',price='8900',rest={'all in rest':234})\n",
    "\n",
    "\n",
    "\n",
    "class Prototype:\n",
    "     def __init__(self):\n",
    "            self.objects = dict()\n",
    "     def register(self, identifier, obj):\n",
    "            self.objects[identifier] = obj\n",
    "     def unregister(self, identifier):\n",
    "         del self.objects[identifier]\n",
    "     def clone(self, identifier, **attr):\n",
    "         found = self.objects.get(identifier)\n",
    "         if not found:\n",
    "             raise ValueError()\n",
    "\n",
    "\n",
    "\n",
    "b1 = Book('The C Programming Language', ('Brian W. Kernighan','Dennis M.Ritchie'), price=118, publisher='Prentice Hall',length=228, publication_date='1978-02-22', tags=('C','programming', 'algorithms', 'data structures'))\n",
    "prototype = Prototype()\n",
    "cid = 'k&r-first'\n",
    "prototype.register(cid, b1)\n",
    "b2 = prototype.clone(cid, name='The C Programming Language(ANSI)', price=48.99, length=274,publication_date='1988-04-01', edition=2)\n",
    "for i in (b1, b2):\n",
    "    print(i)#        \n",
    "    print(\"ID b1 : {} != ID b2 : {}\".format(id(b1), id(b2)))\n",
    "\n",
    "\n",
    "main()"
   ]
  },
  {
   "cell_type": "code",
   "execution_count": null,
   "id": "2b396ac9-c7cf-4278-b4cb-f45f1082ea6d",
   "metadata": {},
   "outputs": [],
   "source": []
  }
 ],
 "metadata": {
  "kernelspec": {
   "display_name": "Python 3 (ipykernel)",
   "language": "python",
   "name": "python3"
  },
  "language_info": {
   "codemirror_mode": {
    "name": "ipython",
    "version": 3
   },
   "file_extension": ".py",
   "mimetype": "text/x-python",
   "name": "python",
   "nbconvert_exporter": "python",
   "pygments_lexer": "ipython3",
   "version": "3.9.6"
  }
 },
 "nbformat": 4,
 "nbformat_minor": 5
}
