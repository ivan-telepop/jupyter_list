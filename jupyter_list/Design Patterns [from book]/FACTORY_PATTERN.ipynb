{
 "cells": [
  {
   "cell_type": "code",
   "execution_count": 41,
   "id": "88613b36-1305-40af-bc37-efff5fbc3a40",
   "metadata": {},
   "outputs": [],
   "source": [
    "# Factory pattern\n",
    "class Frog:\n",
    "    def __init__(self,name):\n",
    "        self.name = name\n",
    "    def __str__(self):\n",
    "        return self.name\n",
    "    def interact_with(self,obstacle):\n",
    "        print(f\"The {self.name} encounters with {obstacle} and suddenly {obstacle.action()}\")\n",
    "\n",
    "class Bug:\n",
    "    def __str__(self):\n",
    "        return \"the bug...\"\n",
    "    def action(self):\n",
    "        return \"eats it...\"\n",
    "\n"
   ]
  },
  {
   "cell_type": "code",
   "execution_count": 43,
   "id": "af5fe766-b97b-49b5-849b-dd5d95c53816",
   "metadata": {},
   "outputs": [],
   "source": [
    "class FrogWorld:\n",
    "    def __init__(self, name):\n",
    "        print(self)\n",
    "        self.player_name = name\n",
    "    def __str__(self):\n",
    "        return '\\n\\n\\t------ Frog World -------'\n",
    "    def make_character(self):\n",
    "        return Frog(self.player_name)\n",
    "    def make_obstacle(self):\n",
    "        return Bug()\n"
   ]
  },
  {
   "cell_type": "code",
   "execution_count": 51,
   "id": "0d4ee733-ab59-465a-84b3-64fe9a23d005",
   "metadata": {},
   "outputs": [],
   "source": [
    "class Wizard:\n",
    "    def __init__(self,name):\n",
    "        self.name = name\n",
    "    def __str__(self):\n",
    "        return self.name\n",
    "    def interact_with(self,obstacle):\n",
    "        print(f\"{self}The Wizard battle are against {obstacle} so...{obstacle.action()}\")\n",
    "\n",
    "\n",
    "\n",
    "class Ork:\n",
    "    def __str__(self):\n",
    "        return \"So huge and an evil Ork...!!!\"\n",
    "    def action(self):\n",
    "        return \"shows big bloody knife on the streets and scares poor people\"\n",
    "\n",
    "\n",
    "\n",
    "class WizardWorld:\n",
    "    def __init__(self, name):\n",
    "        print(self)\n",
    "        self.player_name = name\n",
    "    def __str__(self):\n",
    "        return \" == == == WizardWorld Game == == == \"\n",
    "\n",
    "    def make_character(self):\n",
    "        return Wizard(self.player_name)\n",
    "\n",
    "    def make_obstacle(self):\n",
    "        return Ork()\n",
    "        \n",
    "    \n",
    "class GameEnvironment:\n",
    "    def __init__(self, factory):\n",
    "        self.hero = factory.make_character()\n",
    "        self.obstacle = factory.make_obstacle()\n",
    "    def play(self):\n",
    "        self.hero.interact_with(self.obstacle)"
   ]
  },
  {
   "cell_type": "code",
   "execution_count": 52,
   "id": "f21a94c7-d757-410d-912d-bddf06c8848c",
   "metadata": {},
   "outputs": [
    {
     "name": "stdin",
     "output_type": "stream",
     "text": [
      "Type your name Ivan\n",
      "Welcome to reality Ivan, how old are you?  19\n"
     ]
    },
    {
     "name": "stdout",
     "output_type": "stream",
     "text": [
      " == == == WizardWorld Game == == == \n",
      "IvanThe Wizard battle are against So huge and an evil Ork...!!! so...shows big bloody knife on the streets and scares poor people\n"
     ]
    }
   ],
   "source": [
    "def validate_age(name):\n",
    "    try:\n",
    "        age = input(f\"Welcome to reality {name}, how old are you? \")\n",
    "        age = int(age)\n",
    "    except ValueError as err:\n",
    "        print(f\"Age {age} is wrong try another one...\")\n",
    "        return (False, age)\n",
    "    return(True, age)\n",
    "\n",
    "def main():\n",
    "    name = input(\"Type your name\")\n",
    "    valid_input = False\n",
    "    while not valid_input:\n",
    "        valid_input, age = validate_age(name)\n",
    "        game = FrogWorld if age < 18 else WizardWorld # So good here !!!\n",
    "        environment = GameEnvironment(game(name))\n",
    "        environment.play()\n",
    "\n",
    "main()\n",
    "        "
   ]
  },
  {
   "cell_type": "code",
   "execution_count": null,
   "id": "dda924d7-3014-479a-ac5e-29182e072343",
   "metadata": {},
   "outputs": [],
   "source": []
  }
 ],
 "metadata": {
  "kernelspec": {
   "display_name": "Python 3 (ipykernel)",
   "language": "python",
   "name": "python3"
  },
  "language_info": {
   "codemirror_mode": {
    "name": "ipython",
    "version": 3
   },
   "file_extension": ".py",
   "mimetype": "text/x-python",
   "name": "python",
   "nbconvert_exporter": "python",
   "pygments_lexer": "ipython3",
   "version": "3.12.4"
  }
 },
 "nbformat": 4,
 "nbformat_minor": 5
}
