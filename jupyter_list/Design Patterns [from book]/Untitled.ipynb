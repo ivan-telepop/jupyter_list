{
 "cells": [
  {
   "cell_type": "code",
   "execution_count": null,
   "id": "54413c49-be53-4c65-8326-27e11bf6551a",
   "metadata": {},
   "outputs": [],
   "source": [
    "\n",
    "\n",
    "bucket = list()\n",
    "coin_indexes = [ y for y in range(len([ x for x in bucket if x.temp < temp_treshold ]), 5 ]\n",
    "\n",
    "\n",
    "#- That's how we probably will get indexes of coins   "
   ]
  }
 ],
 "metadata": {
  "kernelspec": {
   "display_name": "Python 3 (ipykernel)",
   "language": "python",
   "name": "python3"
  },
  "language_info": {
   "codemirror_mode": {
    "name": "ipython",
    "version": 3
   },
   "file_extension": ".py",
   "mimetype": "text/x-python",
   "name": "python",
   "nbconvert_exporter": "python",
   "pygments_lexer": "ipython3",
   "version": "3.9.6"
  }
 },
 "nbformat": 4,
 "nbformat_minor": 5
}
