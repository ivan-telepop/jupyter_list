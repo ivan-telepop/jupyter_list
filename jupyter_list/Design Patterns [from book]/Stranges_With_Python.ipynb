{
 "cells": [
  {
   "cell_type": "code",
   "execution_count": null,
   "id": "e14624c4-0e9d-40f1-8b98-50ad5cc6b419",
   "metadata": {},
   "outputs": [],
   "source": [
    "import collections\n",
    "\n",
    "Node = collections.namedtuple('Node', 'a b')\n",
    "\n",
    "nl = [None,]\n",
    "\n",
    "bool(*nl)\n",
    "\n",
    "bool(node['a'])\n",
    "\n",
    "xx = Node(None,None)\n",
    "\n",
    "xx.a is xx.b"
   ]
  },
  {
   "cell_type": "code",
   "execution_count": null,
   "id": "d6880870-23f9-43b4-baa6-483659cae6d5",
   "metadata": {},
   "outputs": [],
   "source": [
    "kk = ['kk','ff','jj']\n",
    "# kk = []\n",
    "\n",
    "# kk = tuple((1,2,3))\n",
    "\n",
    "def contains(it, arg):\n",
    "    return it.__contains__(arg)\n",
    "\n",
    "contains(kk,'kexx')\n",
    "\n",
    "\n",
    "\n",
    "\n",
    "if any(kk):\n",
    "    print(kk)\n",
    "elif not any(kk):\n",
    "    print('kk is false')\n",
    "else:\n",
    "    print('kk is empty')\n",
    "\n",
    "\n",
    "# ------------------------------\n",
    "# Строковые литералы при идентичности ссылаются на один объект\n",
    "t1 = 'ABC'\n",
    "t2 = 'ABC'\n",
    "\n",
    "t1 is t2\n",
    "# true\n",
    "\n",
    "# чего не скажешь о tuple\n",
    "f1 = (1,2,3)\n",
    "f2 = (1,2,3)\n",
    "f1 is f2\n",
    "# false\n",
    "# Но если создаем так... то опять ссылаемся на то же объект\n",
    "\n",
    "f3 = tuple(f1)\n",
    "\n",
    "f3 is f1\n",
    "# True - странновато !"
   ]
  },
  {
   "cell_type": "code",
   "execution_count": 18,
   "id": "964e64af-2cd8-4b41-b8a2-d775d484dbfd",
   "metadata": {},
   "outputs": [
    {
     "data": {
      "text/plain": [
       "True"
      ]
     },
     "execution_count": 18,
     "metadata": {},
     "output_type": "execute_result"
    }
   ],
   "source": [
    "lst = ['a',True,77,'haha']\n",
    "\n",
    "def opt():\n",
    "    return 88\n",
    "\n",
    "lst = ['a',True,77,'haha',opt]\n",
    "\n",
    "lst.__contains__(opt)"
   ]
  },
  {
   "cell_type": "code",
   "execution_count": 51,
   "id": "ce3e0c6c-5ef6-43a2-b9bb-fbe69a79f254",
   "metadata": {},
   "outputs": [
    {
     "data": {
      "text/plain": [
       "'hello'"
      ]
     },
     "execution_count": 51,
     "metadata": {},
     "output_type": "execute_result"
    }
   ],
   "source": [
    "dct = {\"a\":1,\"b\":2,\"c\":3,\"d\":\"++\"}\n",
    "\n",
    "# It doesnt work in dct.values() because values are hashed - Only non hashed types !\n",
    "\n",
    "bb = True if dct.keys().__contains__(\"ll\") else \"hello\"\n",
    "\n",
    "bb"
   ]
  },
  {
   "cell_type": "code",
   "execution_count": 58,
   "id": "a4244823-72de-417e-bfaa-4a5fbcf9b2c3",
   "metadata": {},
   "outputs": [
    {
     "name": "stdout",
     "output_type": "stream",
     "text": [
      "The one\n",
      "The two\n",
      "three\n"
     ]
    }
   ],
   "source": [
    "import time\n",
    "def one():\n",
    "    return \"The one\"\n",
    "\n",
    "def two():\n",
    "    return \"The two\"\n",
    "\n",
    "def three():\n",
    "    return \"three\"\n",
    "\n",
    "\n",
    "lst1 = [one,two,three]\n",
    "\n",
    "\n",
    "ff = [ name.__call__() for name in lst1] \n",
    "\n",
    "ff\n",
    "\n",
    "\n",
    "\n",
    "for i in lst1:\n",
    "    time.sleep(1)\n",
    "    print(i.__call__())\n"
   ]
  }
 ],
 "metadata": {
  "kernelspec": {
   "display_name": "Python 3 (ipykernel)",
   "language": "python",
   "name": "python3"
  },
  "language_info": {
   "codemirror_mode": {
    "name": "ipython",
    "version": 3
   },
   "file_extension": ".py",
   "mimetype": "text/x-python",
   "name": "python",
   "nbconvert_exporter": "python",
   "pygments_lexer": "ipython3",
   "version": "3.9.6"
  }
 },
 "nbformat": 4,
 "nbformat_minor": 5
}
