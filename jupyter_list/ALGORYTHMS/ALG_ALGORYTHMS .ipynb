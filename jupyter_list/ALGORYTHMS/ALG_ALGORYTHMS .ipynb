{
 "cells": [
  {
   "cell_type": "code",
   "execution_count": 16,
   "id": "eeab62e8",
   "metadata": {},
   "outputs": [
    {
     "data": {
      "text/plain": [
       "3.321928094887362"
      ]
     },
     "execution_count": 16,
     "metadata": {},
     "output_type": "execute_result"
    }
   ],
   "source": [
    "# АЛГОРИТМЫ\n",
    "\n",
    "\n",
    "GOOD YOUTUBE CHANEL\n",
    "https://www.youtube.com/@op_ulstu\n",
    "    "
   ]
  },
  {
   "cell_type": "code",
   "execution_count": 1,
   "id": "ad69a795",
   "metadata": {},
   "outputs": [
    {
     "data": {
      "text/plain": [
       "[0, 2, 4, 6, 8, 9, 22, 32]"
      ]
     },
     "execution_count": 1,
     "metadata": {},
     "output_type": "execute_result"
    }
   ],
   "source": [
    "# RECURSIVE QUICK SORT\n",
    "\n",
    "def quicksort(array):\n",
    "    if len(array) < 2:\n",
    "        return array\n",
    "    else:\n",
    "        baser = array[0] # Here we define BASE elem\n",
    "        less = [i for i in array[1:] if i < baser ] # HERE WE creating list of elems that are less than baser\n",
    "        grater = [i for i in array[1:] if i > baser ] # Here we creating list/array of elems with GRATER elems\n",
    "        return quicksort(less) + [baser] + quicksort(grater) # Our result is recursive func with Less and Grater\n",
    "    \n",
    "    \n",
    "arr = [2,6,9,8,4,32,0,22,6,4] \n",
    "quicksort(arr)"
   ]
  },
  {
   "cell_type": "code",
   "execution_count": 7,
   "id": "f4c2805f",
   "metadata": {},
   "outputs": [
    {
     "name": "stdout",
     "output_type": "stream",
     "text": [
      "39  << 39\n",
      "58  >\n",
      "48  >\n",
      "43  >\n",
      "40  >\n",
      "39\n"
     ]
    }
   ],
   "source": [
    "# Binary search - Бинарный поиск\n",
    "# The function takes two args - one of these are array with coherent list values \n",
    "# the second one - item that we want to find\n",
    "\n",
    "def bynary_search(array,item): # \n",
    "    low_index = 0    # Первый индекс\n",
    "    high_index = len(array) - 1  # Последний индекс\n",
    "    while low_index <= high_index:    # Пока первый элемент (индекс) меньше или равно последнемую / углубляемся до упора\n",
    "        mid_index = (low_index + high_index) // 2   # Делим округляя -  на пополам (на две части)\n",
    "        guess = array[mid_index]  # Спрашиваем (пробуем определить) - этот эелемент ?\n",
    "        #if guess == item: # Если загаданный равен искомому\n",
    "        if array[mid_index] == item:\n",
    "            return array[mid_index] # Возвращаем то что ищем в виде совпаденного элемента\n",
    "        #if guess > item: # Если загаданный больше чем искомый\n",
    "        if array[mid_index] > item:\n",
    "            high_index = mid_index -1 # Определяем край поиска - от середины -1 (отрезаем список)\n",
    "            print(array[mid_index],\" >\",)\n",
    "        else: # Если ...\n",
    "            low_index = mid_index + 1 # Нижний край (пилим начало) от середины +1\n",
    "            print(low_index,\" <<\",array[low_index])\n",
    "    return None\n",
    "\n",
    "\n",
    "myarr = [i for i in range(0,78)]\n",
    "\n",
    "\n",
    "print(bynary_search(myarr, 39))\n",
    "    "
   ]
  },
  {
   "cell_type": "code",
   "execution_count": null,
   "id": "ee61612b",
   "metadata": {},
   "outputs": [],
   "source": [
    "\n"
   ]
  },
  {
   "cell_type": "code",
   "execution_count": 10,
   "id": "0147bfa1",
   "metadata": {},
   "outputs": [
    {
     "name": "stdout",
     "output_type": "stream",
     "text": [
      "0 1 2 3 4 5 6 7 8\n"
     ]
    }
   ],
   "source": [
    "# ПУЗЫРЕК\n",
    "\n",
    "mass = [0,5,8,3,2,1,4,6,7]\n",
    " \n",
    "for one in range(len(mass) - 1):\n",
    "    for i in range(len(mass) - 1):\n",
    "        if mass[i] > mass[i + 1]: # Cursor 1 & Cursor 2\n",
    "            mass[i],mass[i+1] = mass[i+1],mass[i]\n",
    "print(*mass)        "
   ]
  },
  {
   "cell_type": "code",
   "execution_count": 81,
   "id": "535d50ce",
   "metadata": {},
   "outputs": [
    {
     "name": "stdout",
     "output_type": "stream",
     "text": [
      "2 3 4 5 6 8 8 7 10 12\n"
     ]
    }
   ],
   "source": [
    "# СЛИЯНИЯ СПИСКОМ\n",
    "\n",
    "one_lst = [2,8,8,7,12]\n",
    "sec_lst = [3,4,5,6,10]\n",
    "\n",
    "o_l,s_l= len(one_lst),len(sec_lst) # LENGTH OF LISTS\n",
    "\n",
    "result = []\n",
    "\n",
    "i, j = 0,0 # POINTERS\n",
    "\n",
    "\n",
    "while i < o_l and j < s_l:\n",
    "    if one_lst[i] < sec_lst[j]:\n",
    "        result.append(one_lst[i])\n",
    "        i+=1\n",
    "    else:\n",
    "        result.append(sec_lst[j])\n",
    "        j+=1\n",
    "while j < s_l: \n",
    "    result.append(sec_lst[j])\n",
    "    j+=1\n",
    "while i < o_l:\n",
    "    result.append(one_lst[i])\n",
    "    i+=1\n",
    "    \n",
    "    \n",
    "print(*result)    \n",
    "\n",
    "\n",
    "\n",
    "\n"
   ]
  },
  {
   "cell_type": "code",
   "execution_count": 43,
   "id": "e1e5ec82",
   "metadata": {},
   "outputs": [
    {
     "name": "stdout",
     "output_type": "stream",
     "text": [
      "1 3 3 4 5 6 7 9 21\n"
     ]
    }
   ],
   "source": [
    "\n",
    "# RECURSIVE SORTING - Слртировка слиянием \n",
    "\n",
    "# merging func\n",
    "\n",
    "def merging(a,b):\n",
    "    res = [] # resulter\n",
    "    i=j=0 # pointers\n",
    "    while i< len(a) and j< len(b):   # в то время пока указатель i на позиции \"меньше чем длинна спика А\"...\n",
    "        if a[i] < b[j]: # если элем из списка а меньше чем элем из списка б\n",
    "            res.append(a[i]) # добавляем элем в результ список\n",
    "            i += 1 # двигаемся на 1\n",
    "        else: # В противном случае элемент b[j] идет в список результ\n",
    "            res.append(b[j])\n",
    "            j += 1 # указатель на шаг дальше\n",
    "    if i < len(a): #  Если i меньше чем число длинны списка\n",
    "        res+= a[i:] # все что осталось после указателя добавляем...\n",
    "    if j < len(a):\n",
    "        res+= b[j:]\n",
    "    return res\n",
    "\n",
    "\n",
    "# Binary search\n",
    "def split_and_merge(s):\n",
    "    if len(s)==1:\n",
    "        return s\n",
    "    center = len(s)//2\n",
    "    left = split_and_merge(s[:center])\n",
    "    right = split_and_merge(s[center:])\n",
    "    return merging(left,right)\n",
    "\n",
    "mass = [6,3,5,7,3,21,7,9,4,5,1]\n",
    "\n",
    "print(*split_and_merge(mass))"
   ]
  },
  {
   "cell_type": "code",
   "execution_count": 1,
   "id": "ec630305",
   "metadata": {},
   "outputs": [
    {
     "name": "stdout",
     "output_type": "stream",
     "text": [
      "2 3 3 5 5 7 9 9 99\n"
     ]
    }
   ],
   "source": [
    "# RECURSIVE SORTING QUICK SORT\n",
    "\n",
    "def quick_sort(mass):\n",
    "    if len(mass)<1:\n",
    "        return mass\n",
    "    starter = mass[0]\n",
    "    left = list(filter(lambda x : x < starter, mass))\n",
    "    center = [i for i in mass if i == starter]\n",
    "    right = list(filter(lambda y : y > starter , mass))\n",
    "    \n",
    "    return quick_sort(left) + center + quick_sort(right)\n",
    "\n",
    "print(*quick_sort([99,3,5,7,9,9,5,3,2]))"
   ]
  },
  {
   "cell_type": "code",
   "execution_count": 16,
   "id": "d56e7c73",
   "metadata": {},
   "outputs": [
    {
     "data": {
      "text/plain": [
       "45"
      ]
     },
     "execution_count": 16,
     "metadata": {},
     "output_type": "execute_result"
    }
   ],
   "source": [
    "# Понимаие рекурсивного стэка вызовов и Евклидов алгоритм \n",
    "\n",
    "array = [i for i in range(1,10)]\n",
    "\n",
    "def summer(arr):\n",
    "    \"No recursive how\"\n",
    "    tot = 0\n",
    "    for one in arr:\n",
    "        tot += one\n",
    "    if len(arr) <= 1:\n",
    "        return arr\n",
    "    return tot\n",
    "\n",
    "summer(array)\n",
    "\n"
   ]
  },
  {
   "cell_type": "code",
   "execution_count": 14,
   "id": "2ebc625a",
   "metadata": {},
   "outputs": [
    {
     "name": "stdout",
     "output_type": "stream",
     "text": [
      "Step 3\n",
      "Step 2\n"
     ]
    },
    {
     "data": {
      "text/plain": [
       "6"
      ]
     },
     "execution_count": 14,
     "metadata": {},
     "output_type": "execute_result"
    }
   ],
   "source": [
    "#recursion FACTORIAL\n",
    "\n",
    "def fact(x):\n",
    "    if x ==1:\n",
    "        return x\n",
    "    point += x\n",
    "    return fact(x-1)*x\n",
    "\n",
    "fact(3)"
   ]
  },
  {
   "cell_type": "code",
   "execution_count": 3,
   "id": "d875e79b",
   "metadata": {},
   "outputs": [
    {
     "data": {
      "text/plain": [
       "3"
      ]
     },
     "execution_count": 3,
     "metadata": {},
     "output_type": "execute_result"
    }
   ],
   "source": [
    "# RECURSION FIBONACCI\n",
    "def fib(n):\n",
    "    if n == 1:\n",
    "        return 0\n",
    "    if n == 2:\n",
    "        return 1\n",
    "    return fib(n-1)+fib(n-2)\n",
    "\n",
    "fib(5)"
   ]
  },
  {
   "cell_type": "code",
   "execution_count": 71,
   "id": "934d6e54",
   "metadata": {},
   "outputs": [
    {
     "name": "stdout",
     "output_type": "stream",
     "text": [
      "True\n"
     ]
    }
   ],
   "source": [
    "# RECURSION with palindrome example\n",
    "def palindrome(s):\n",
    "    if len(s) == 1:\n",
    "        return True\n",
    "    if s[0] != s[-1]:\n",
    "        return False\n",
    "    return palindrome(s[1:-1])\n",
    "\n",
    "print(palindrome('aerstsrea'))"
   ]
  },
  {
   "cell_type": "code",
   "execution_count": null,
   "id": "ad414525",
   "metadata": {},
   "outputs": [],
   "source": [
    "# Dejkstra's Algorythm\n",
    "import math\n",
    "\n",
    "\n",
    "def arg_min(T, S):\n",
    "    amin = -1\n",
    "    m = math.inf  # максимальное значение\n",
    "    for i, t in enumerate(T):\n",
    "        if t < m and i not in S:\n",
    "            m = t\n",
    "            amin = i\n",
    "\n",
    "    return amin\n",
    "\n",
    "\n",
    "D = ((0, 3, 1, 3, math.inf, math.inf),\n",
    "     (3, 0, 4, math.inf, math.inf, math.inf),\n",
    "     (1, 4, 0, math.inf, 7, 5),\n",
    "     (3, math.inf, math.inf, 0, math.inf, 2),\n",
    "     (math.inf, math.inf, 7, math.inf, 0, 4),\n",
    "     (math.inf, math.inf, 5, 2, 4, 0))\n",
    "\n",
    "N = len(D)  # число вершин в графе\n",
    "T = [math.inf]*N   # последняя строка таблицы\n",
    "\n",
    "v = 0       # стартовая вершина (нумерация с нуля)\n",
    "S = {v}     # просмотренные вершины\n",
    "T[v] = 0    # нулевой вес для стартовой вершины\n",
    "M = [0]*N   # оптимальные связи между вершинами\n",
    "\n",
    "while v != -1:          # цикл, пока не просмотрим все вершины\n",
    "    for j, dw in enumerate(D[v]):   # перебираем все связанные вершины с вершиной v\n",
    "        if j not in S:           # если вершина еще не просмотрена\n",
    "            w = T[v] + dw\n",
    "            if w < T[j]:\n",
    "                T[j] = w\n",
    "                M[j] = v        # связываем вершину j с вершиной v\n",
    "\n",
    "    v = arg_min(T, S)            # выбираем следующий узел с наименьшим весом\n",
    "    if v >= 0:                    # выбрана очередная вершина\n",
    "        S.add(v)                 # добавляем новую вершину в рассмотрение\n",
    "\n",
    "#print(T, M, sep=\"\\n\")\n",
    "\n",
    "# формирование оптимального маршрута:\n",
    "start = 0\n",
    "end = 4\n",
    "P = [end]\n",
    "while end != start:\n",
    "    end = M[P[-1]]\n",
    "    P.append(end)\n",
    "\n",
    "print(P)"
   ]
  },
  {
   "cell_type": "code",
   "execution_count": 127,
   "id": "2aa81f56",
   "metadata": {},
   "outputs": [
    {
     "name": "stdout",
     "output_type": "stream",
     "text": [
      "hello\n",
      "vasya\n",
      "jora\n",
      "kolya\n",
      "djokey\n",
      "keyboard\n",
      "automobile\n",
      "city\n",
      "metal\n",
      "core\n",
      "hood\n",
      "(0, None) (1, 'city') (2, 'keyboard') (3, 'metal') (4, 'hello') (5, 'kolya') (6, 'automobile') (7, 'core') (8, 'hood') (9, 'vasya') (10, 'jora')\n",
      "----\n",
      "(0, 'hello') (1, 'vasya') (2, 'jora') (3, 'kolya') (4, 'djokey') (5, 'keyboard') (6, 'automobile') (7, 'city') (8, 'metal') (9, 'core') (10, 'hood')\n"
     ]
    }
   ],
   "source": [
    "# H A S H   T A B L E S\n",
    "\n",
    "words = ['hello','vasya','jora','kolya','djokey','keyboard','automobile','city','metal','core','hood']\n",
    "reserved = [None for i in range(0,11)]\n",
    " \n",
    "for one in words: \n",
    "    asci = [i for i in map(ord,one)]\n",
    "    index = sum(asci) % len(reserved)\n",
    "    reserved[index] = one\n",
    "    print(reserved[index])\n",
    "\n",
    "print(*sorted(enumerate(reserved)))\n",
    "print('----')\n",
    "print(*sorted(enumerate(words)))\n",
    "\n",
    "\n",
    "\n",
    "# https://youtu.be/0UX4MIfOMEs\n",
    "# https://pythonru.com/baza-znanij/voprosy-na-sobesedovanii-python - ВОПРОСЫ СОБЕСЕДОВАНИЯ"
   ]
  },
  {
   "cell_type": "code",
   "execution_count": 60,
   "id": "cb652e03",
   "metadata": {},
   "outputs": [
    {
     "name": "stdout",
     "output_type": "stream",
     "text": [
      "10\n",
      "9\n",
      "8\n",
      "7\n",
      "6\n",
      "5\n",
      "4\n",
      "3\n",
      "2\n",
      "1\n"
     ]
    }
   ],
   "source": [
    "#Recursion Understanding and example\n",
    "\n",
    "def count(i):\n",
    "    print(i)\n",
    "    if i <=1:\n",
    "        return\n",
    "    else:\n",
    "        count(i-1)\n",
    "        \n",
    "\n",
    "count(10)"
   ]
  },
  {
   "cell_type": "code",
   "execution_count": 59,
   "id": "c616df9a",
   "metadata": {},
   "outputs": [
    {
     "data": {
      "text/plain": [
       "120"
      ]
     },
     "execution_count": 59,
     "metadata": {},
     "output_type": "execute_result"
    }
   ],
   "source": [
    "# FACTORIAL WITH RECURSION\n",
    "def factorial(x):\n",
    "    if x == 1:\n",
    "        return x\n",
    "    return factorial(x-1) * x\n",
    "\n",
    "factorial(5)\n"
   ]
  },
  {
   "cell_type": "code",
   "execution_count": 3,
   "id": "1506acf7",
   "metadata": {},
   "outputs": [
    {
     "name": "stdout",
     "output_type": "stream",
     "text": [
      "{True: 'Maybe'}\n"
     ]
    }
   ],
   "source": [
    "x = {True:'Yes', 1:'No', 1.0:'Maybe'} \n",
    "z = {1:\"One\",2:\"Two\",3:\"Three\"}\n",
    "\n",
    "\n",
    "print(x)\n",
    "\n"
   ]
  },
  {
   "cell_type": "code",
   "execution_count": 30,
   "id": "d728ab8d-1d27-40df-b27e-32b04c3495a3",
   "metadata": {},
   "outputs": [
    {
     "name": "stdout",
     "output_type": "stream",
     "text": [
      "['b', 'a', 'fin']\n"
     ]
    }
   ],
   "source": [
    "# Deijsktra decomposition \n",
    "\n",
    "\n",
    "\n",
    "# Начальные данные - Граф.\n",
    "graph = {}\n",
    "graph['start'] = {}\n",
    "graph['a'] = {}\n",
    "graph['b'] = {}\n",
    "graph['fin'] = {}\n",
    "# Назначаем веса узлов.\n",
    "graph['start']['a'] = 6\n",
    "graph['start']['b'] = 2\n",
    "graph['a']['fin'] = 1\n",
    "graph['b']['a'] = 3\n",
    "graph['b']['fin'] = 5\n",
    "\n",
    "\n",
    "\n",
    "# У ребер есть вес или цена\n",
    "costs = {}\n",
    "costs['a'] = 6\n",
    "costs['b'] = 2\n",
    "costs['fin'] = float('inf')\n",
    "\n",
    "\n",
    "\n",
    "# Родители узлов/вершин\n",
    "parents = {}\n",
    "parents['a'] = \"start\"\n",
    "parents['b'] = \"start\"\n",
    "parents['in'] = None\n",
    "\n",
    "# Пустой массив для обработаных узлов \n",
    "processed = list()\n",
    "\n",
    "\n",
    "# достаем самый легкий вес\n",
    "def find_low_cost(costs): # тут залетают цены (веса)\n",
    "    lowest = float('inf') #дефолтные\n",
    "    lowest_node = None #дефолтное\n",
    "    for node in costs: # итеррируемся по списку весов/цен\n",
    "        cost = costs[node] # проверяем его\n",
    "        if cost < lowest and node not in processed: # если вес меньше чем... и его нет в результируещем\n",
    "            lowest = cost\n",
    "            lowest_node = node\n",
    "    return lowest_node\n",
    "\n",
    "\n",
    "node = find_low_cost(costs)\n",
    "while node is not None:\n",
    "    cost = costs[node]\n",
    "    neighbors = graph[node]\n",
    "    for nei in neighbors.keys():\n",
    "        new_cost = cost + neighbors[nei]\n",
    "        if costs[nei] > new_cost:\n",
    "            costs[nei] = new_cost\n",
    "            parents[nei] = node\n",
    "    processed.append(node)\n",
    "    node = find_low_cost(costs)\n",
    "\n",
    "\n",
    "print(processed)"
   ]
  },
  {
   "cell_type": "code",
   "execution_count": 4,
   "id": "6a678104-a212-48af-885b-585260fb3b91",
   "metadata": {},
   "outputs": [
    {
     "name": "stdout",
     "output_type": "stream",
     "text": [
      "100\n"
     ]
    },
    {
     "ename": "NameError",
     "evalue": "name 'ss_lambda' is not defined",
     "output_type": "error",
     "traceback": [
      "\u001b[0;31m---------------------------------------------------------------------------\u001b[0m",
      "\u001b[0;31mNameError\u001b[0m                                 Traceback (most recent call last)",
      "Cell \u001b[0;32mIn[4], line 12\u001b[0m\n\u001b[1;32m      7\u001b[0m make1()\n\u001b[1;32m     10\u001b[0m ss_lambda: \u001b[38;5;28;01mlambda\u001b[39;00m: no(such(function()))\n\u001b[0;32m---> 12\u001b[0m \u001b[43mss_lambda\u001b[49m\n",
      "\u001b[0;31mNameError\u001b[0m: name 'ss_lambda' is not defined"
     ]
    }
   ],
   "source": [
    "\n",
    "\n",
    "val1 = 100\n",
    "val2 = 200\n",
    "\n",
    "make1 = lambda: print(val1)\n",
    "make2 = lambda: print(val2)\n",
    "\n",
    "make1()\n",
    "\n",
    "\n",
    "ss_lambda: lambda: no(such(function()))\n",
    "\n",
    "ss_lambda"
   ]
  },
  {
   "cell_type": "code",
   "execution_count": 14,
   "id": "3aaa1aa1-0a7a-482e-953d-98a711a73d1b",
   "metadata": {},
   "outputs": [
    {
     "ename": "SyntaxError",
     "evalue": "invalid syntax (582799527.py, line 1)",
     "output_type": "error",
     "traceback": [
      "\u001b[0;36m  Cell \u001b[0;32mIn[14], line 1\u001b[0;36m\u001b[0m\n\u001b[0;31m    [i for i in 'abc',y for y in range(len('abc'))] * 3\u001b[0m\n\u001b[0m                     ^\u001b[0m\n\u001b[0;31mSyntaxError\u001b[0m\u001b[0;31m:\u001b[0m invalid syntax\n"
     ]
    }
   ],
   "source": [
    "[i for i in 'abc',y for y in range(len('abc'))] * 3"
   ]
  }
 ],
 "metadata": {
  "kernelspec": {
   "display_name": "Python 3 (ipykernel)",
   "language": "python",
   "name": "python3"
  },
  "language_info": {
   "codemirror_mode": {
    "name": "ipython",
    "version": 3
   },
   "file_extension": ".py",
   "mimetype": "text/x-python",
   "name": "python",
   "nbconvert_exporter": "python",
   "pygments_lexer": "ipython3",
   "version": "3.9.6"
  }
 },
 "nbformat": 4,
 "nbformat_minor": 5
}
