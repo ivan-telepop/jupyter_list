{
 "cells": [
  {
   "cell_type": "code",
   "execution_count": 66,
   "id": "948dc84e-7da8-4178-8d5a-57918633c7c8",
   "metadata": {},
   "outputs": [
    {
     "name": "stdout",
     "output_type": "stream",
     "text": [
      "deque(['node 1', 'node 2', 'node 3', 'node 4', 'node 5', 'node 6', 'node 7', 'node 8'])\n",
      "node 1 c u r r\n",
      "node 2 c u r r\n",
      "node 3 c u r r\n",
      "node 4 c u r r\n",
      "node 5 c u r r\n",
      "node 6 c u r r\n",
      "node 7 c u r r\n",
      "node 8 c u r r\n",
      "node 6 c u r r\n",
      "node 3 c u r r\n",
      "node 6 c u r r\n",
      "node 3 c u r r\n",
      "node 5 c u r r\n",
      "node 8 c u r r\n",
      "node 2 c u r r\n",
      "node 6 c u r r\n",
      "node 7 c u r r\n",
      "node L c u r r\n",
      "node L FFF\n"
     ]
    },
    {
     "data": {
      "text/plain": [
       "True"
      ]
     },
     "execution_count": 66,
     "metadata": {},
     "output_type": "execute_result"
    }
   ],
   "source": [
    "from collections import deque\n",
    "\n",
    "\n",
    "fifo = deque() # We need queue FIFO (First In - First Out ) >>>5>4>3>2>1>>>\n",
    "\n",
    "\n",
    "data = {\n",
    "    'node 1': ['node 6','node 3'],\n",
    "    'node 2': ['node 5','node 8'],\n",
    "    'node 3': ['node 2','node 6'],\n",
    "    'node 4': [],\n",
    "    'node 5': ['node 7',],\n",
    "    'node 6': [],\n",
    "    'node 7': [],\n",
    "    'node 8': ['node L'],\n",
    "    \n",
    "}\n",
    "\n",
    "fifo += data\n",
    "\n",
    "print(fifo)\n",
    "\n",
    "def search(node):\n",
    "    _queue = fifo\n",
    "    _queue += data[node]\n",
    "    checked = []\n",
    "    while _queue:\n",
    "        current = _queue.popleft()\n",
    "        print(current,'c u r r')\n",
    "        if not current in checked:\n",
    "            if current == 'node L':\n",
    "                print(current,\"FFF\")\n",
    "                return True\n",
    "            else:\n",
    "                _queue += data[current]\n",
    "                checked.append(current)\n",
    "    return False\n",
    "\n",
    "\n",
    "search('node 1')"
   ]
  },
  {
   "cell_type": "code",
   "execution_count": 64,
   "id": "2dbbe621-6fb8-422e-880c-b90bd892b9ff",
   "metadata": {},
   "outputs": [
    {
     "data": {
      "text/plain": [
       "('elem 1', ['elem 2', 'elem 4'], 'elem 2')"
      ]
     },
     "execution_count": 64,
     "metadata": {},
     "output_type": "execute_result"
    }
   ],
   "source": [
    "from collections import deque\n",
    "\n",
    "queue = deque()\n",
    "\n",
    "queue += ['elem 1',['elem 2','elem 4']] # First In\n",
    "queue += ['elem 2']\n",
    "queue += ['elem 3']\n",
    "queue += ['elem 4']\n",
    "queue += ['elem 5'] # Last In\n",
    "# deque += ['elem 6']\n",
    "\n",
    "# out = queue.popleft()\n",
    "\n",
    "# print(out,'popleft() - First Elem')\n",
    "\n",
    "\n",
    "# last = queue.pop()\n",
    "\n",
    "\n",
    "# print(last,'pop() method retrieves last elem from deque')\n",
    "# print(queue)\n",
    "\n",
    "queue += ['elem 6']\n",
    "\n",
    "queue\n",
    "\n",
    "first = queue.popleft()\n",
    "second = queue.popleft()\n",
    "third = queue.popleft()\n",
    "\n",
    "first, second, third"
   ]
  },
  {
   "cell_type": "code",
   "execution_count": 47,
   "id": "8295dcc7-7ac1-4132-920a-de7ce6957af8",
   "metadata": {},
   "outputs": [
    {
     "data": {
      "text/plain": [
       "[3, 4, 5]"
      ]
     },
     "execution_count": 47,
     "metadata": {},
     "output_type": "execute_result"
    }
   ],
   "source": [
    "li = [i for i in 'abcdef']\n",
    "tt = [1,2,3]\n",
    "li.reverse()\n",
    "f = li.pop()\n",
    "li.pop()\n",
    "li.extend(tt)\n",
    "li.insert(len(li),[3,4,5])\n",
    "\n",
    "li.pop()"
   ]
  }
 ],
 "metadata": {
  "kernelspec": {
   "display_name": "Python 3 (ipykernel)",
   "language": "python",
   "name": "python3"
  },
  "language_info": {
   "codemirror_mode": {
    "name": "ipython",
    "version": 3
   },
   "file_extension": ".py",
   "mimetype": "text/x-python",
   "name": "python",
   "nbconvert_exporter": "python",
   "pygments_lexer": "ipython3",
   "version": "3.13.0a6"
  }
 },
 "nbformat": 4,
 "nbformat_minor": 5
}
