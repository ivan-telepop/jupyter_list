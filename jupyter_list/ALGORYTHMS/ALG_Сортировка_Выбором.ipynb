{
 "cells": [
  {
   "cell_type": "code",
   "execution_count": 3,
   "id": "7c211bcb-bc00-48e1-9723-babeb101639f",
   "metadata": {},
   "outputs": [
    {
     "data": {
      "text/plain": [
       "[2, 3, 4, 6, 7, 9, 10, 11, 11, 12, 14, 32, 41, 55, 56, 67, 76]"
      ]
     },
     "execution_count": 3,
     "metadata": {},
     "output_type": "execute_result"
    }
   ],
   "source": [
    "# SELECTION SORTING - Сотрировка выбором.\n",
    "\n",
    "\n",
    "arr = [11,67,4,56,2,32,9,12,41,55,7,14,76,11,10,6,3]\n",
    "\n",
    "# Функция котороая возвращает индекс самого малого элемента \n",
    "def find_index(arr):\n",
    "    small = arr[0]\n",
    "    sm_ind = 0\n",
    "    for y in range(1,len(arr)):\n",
    "        if arr[y] < small:\n",
    "            small = arr[y]\n",
    "            sm_ind = y\n",
    "    return sm_ind\n",
    "\n",
    "def sel_sort(arr):\n",
    "    res = []\n",
    "    for it in range(len(arr)):\n",
    "        smallest = find_index(arr)\n",
    "        res.append(arr.pop(smallest))\n",
    "    return res\n",
    "\n",
    "sel_sort(arr)\n"
   ]
  },
  {
   "cell_type": "code",
   "execution_count": 5,
   "id": "8f3b5943-6f7c-482a-ad2b-cd0a5004fe65",
   "metadata": {},
   "outputs": [
    {
     "data": {
      "text/plain": [
       "[2, 3, 4, 6, 7, 9, 10, 11, 11, 12, 14, 32, 41, 55, 56, 67, 76]"
      ]
     },
     "execution_count": 5,
     "metadata": {},
     "output_type": "execute_result"
    }
   ],
   "source": [
    "# second variant O(n * n)\n",
    "arr = [11,67,4,56,2,32,9,12,41,55,7,14,76,11,10,6,3]\n",
    "\n",
    "def sort_it(arr):\n",
    "    res = []\n",
    "    for i in range(len(arr)):\n",
    "        minitem = min(arr)\n",
    "        res.append(minitem)\n",
    "        arr.remove(minitem)\n",
    "    return res\n",
    "\n",
    "sort_it(arr)"
   ]
  }
 ],
 "metadata": {
  "kernelspec": {
   "display_name": "Python 3 (ipykernel)",
   "language": "python",
   "name": "python3"
  },
  "language_info": {
   "codemirror_mode": {
    "name": "ipython",
    "version": 3
   },
   "file_extension": ".py",
   "mimetype": "text/x-python",
   "name": "python",
   "nbconvert_exporter": "python",
   "pygments_lexer": "ipython3",
   "version": "3.13.0a6"
  }
 },
 "nbformat": 4,
 "nbformat_minor": 5
}
