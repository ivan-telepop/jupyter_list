{
 "cells": [
  {
   "cell_type": "code",
   "execution_count": 1,
   "id": "5111bb6f-d87d-412b-8d5b-a4549b92b3f5",
   "metadata": {},
   "outputs": [],
   "source": [
    "lst = [ x for x in range(1,170) ]"
   ]
  },
  {
   "cell_type": "code",
   "execution_count": 2,
   "id": "692ed3ac-3e43-473d-9769-b65672ca55af",
   "metadata": {},
   "outputs": [
    {
     "data": {
      "text/plain": [
       "169"
      ]
     },
     "execution_count": 2,
     "metadata": {},
     "output_type": "execute_result"
    }
   ],
   "source": [
    "len(lst)"
   ]
  },
  {
   "cell_type": "code",
   "execution_count": null,
   "id": "31ed2c27-51a4-4a48-9a4f-119ccddda7b7",
   "metadata": {},
   "outputs": [],
   "source": []
  },
  {
   "cell_type": "code",
   "execution_count": 21,
   "id": "ac1ee941-8bb9-42c7-8deb-6407fa96310b",
   "metadata": {},
   "outputs": [
    {
     "data": {
      "text/plain": [
       "130"
      ]
     },
     "execution_count": 21,
     "metadata": {},
     "output_type": "execute_result"
    }
   ],
   "source": [
    "def binar(lst,x):\n",
    "    low = 0\n",
    "    upper = len(lst) -1\n",
    "    while low <= upper:\n",
    "        center = (low + upper) // 2\n",
    "        guess = lst[center]\n",
    "        if guess == x:\n",
    "            return x\n",
    "        if guess > x:\n",
    "            upper = center - 1\n",
    "        else:\n",
    "            low = center + 1\n",
    "    return None\n",
    "\n",
    "\n",
    "tester = [ y for y in range(1,200) ]\n",
    "\n",
    "binar(tester, 130)"
   ]
  },
  {
   "cell_type": "code",
   "execution_count": 7,
   "id": "a0e4b517-6f11-4108-a3f5-8e43dfcf2236",
   "metadata": {},
   "outputs": [
    {
     "data": {
      "text/plain": [
       "'        826L >> R >> R >>L >> R >>L >> R >>L >>'"
      ]
     },
     "execution_count": 7,
     "metadata": {},
     "output_type": "execute_result"
    }
   ],
   "source": [
    "# R E C U R S I V E   B I N A R Y   S E A R C H\n",
    "\n",
    "ar1 = list(range(0,1250))\n",
    "\n",
    "def r_binar(arr,find):\n",
    "    cent = len(arr) // 2 # INT cnter item\n",
    "    right = arr[:cent] # array half - grater then\n",
    "    left = arr[cent:] # array half - less then\n",
    "    if arr[cent] == find:\n",
    "        return arr[cent]\n",
    "    elif find > arr[cent]:\n",
    "        return f\" {r_binar(left,find) }L >>\"\n",
    "    elif find < arr[cent]:\n",
    "        return f\" {r_binar(right,find)} R >>\" \n",
    "\n",
    "\n",
    "\n",
    "r_binar(ar1,826)\n"
   ]
  },
  {
   "cell_type": "code",
   "execution_count": 31,
   "id": "5d392e55-0367-4dab-a01e-1a48088ac60f",
   "metadata": {},
   "outputs": [],
   "source": [
    "arr = [ d for d in range(99)]"
   ]
  },
  {
   "cell_type": "code",
   "execution_count": 33,
   "id": "ce3901a7-3e1b-48f6-9a0d-a899eccecce0",
   "metadata": {},
   "outputs": [
    {
     "data": {
      "text/plain": [
       "[0,\n",
       " 1,\n",
       " 2,\n",
       " 3,\n",
       " 4,\n",
       " 5,\n",
       " 6,\n",
       " 7,\n",
       " 8,\n",
       " 9,\n",
       " 10,\n",
       " 11,\n",
       " 12,\n",
       " 13,\n",
       " 14,\n",
       " 15,\n",
       " 16,\n",
       " 17,\n",
       " 18,\n",
       " 19,\n",
       " 20,\n",
       " 21,\n",
       " 22,\n",
       " 23,\n",
       " 24,\n",
       " 25,\n",
       " 26,\n",
       " 27,\n",
       " 28,\n",
       " 29,\n",
       " 30,\n",
       " 31,\n",
       " 32,\n",
       " 33,\n",
       " 34,\n",
       " 35,\n",
       " 36,\n",
       " 37,\n",
       " 38,\n",
       " 39,\n",
       " 40,\n",
       " 41,\n",
       " 42,\n",
       " 43,\n",
       " 44,\n",
       " 45]"
      ]
     },
     "execution_count": 33,
     "metadata": {},
     "output_type": "execute_result"
    }
   ],
   "source": [
    "arr[:50 -4]"
   ]
  },
  {
   "cell_type": "code",
   "execution_count": null,
   "id": "d9bcbfb4-0056-4f06-ad93-c23ca4f40244",
   "metadata": {},
   "outputs": [],
   "source": []
  }
 ],
 "metadata": {
  "kernelspec": {
   "display_name": "Python 3 (ipykernel)",
   "language": "python",
   "name": "python3"
  },
  "language_info": {
   "codemirror_mode": {
    "name": "ipython",
    "version": 3
   },
   "file_extension": ".py",
   "mimetype": "text/x-python",
   "name": "python",
   "nbconvert_exporter": "python",
   "pygments_lexer": "ipython3",
   "version": "3.13.0a6"
  }
 },
 "nbformat": 4,
 "nbformat_minor": 5
}
