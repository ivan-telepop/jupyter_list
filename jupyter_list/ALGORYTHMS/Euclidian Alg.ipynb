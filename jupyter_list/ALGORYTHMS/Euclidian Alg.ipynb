{
 "cells": [
  {
   "cell_type": "code",
   "execution_count": null,
   "id": "7cf7bbe8-ef5c-4e0b-b0d2-40b182de19df",
   "metadata": {},
   "outputs": [],
   "source": [
    "# Euclidian Algorythm\n",
    "# Divide and conquer - Разделяй и влавствуй\n",
    "Предположим у нас есть прямоугольник площадью P\n",
    "который мы хотим разделить на все одинаковые квадраты размером N х N\n",
    "Участки (квадраты) должны быть большими насколько это возможно"
   ]
  },
  {
   "cell_type": "code",
   "execution_count": 26,
   "id": "bf2f2ee2-ea71-4bc8-93b3-0ece19e2dbfa",
   "metadata": {},
   "outputs": [],
   "source": [
    "# Recursivly count elems in array\n"
   ]
  }
 ],
 "metadata": {
  "kernelspec": {
   "display_name": "Python 3 (ipykernel)",
   "language": "python",
   "name": "python3"
  },
  "language_info": {
   "codemirror_mode": {
    "name": "ipython",
    "version": 3
   },
   "file_extension": ".py",
   "mimetype": "text/x-python",
   "name": "python",
   "nbconvert_exporter": "python",
   "pygments_lexer": "ipython3",
   "version": "3.13.0a6"
  }
 },
 "nbformat": 4,
 "nbformat_minor": 5
}
