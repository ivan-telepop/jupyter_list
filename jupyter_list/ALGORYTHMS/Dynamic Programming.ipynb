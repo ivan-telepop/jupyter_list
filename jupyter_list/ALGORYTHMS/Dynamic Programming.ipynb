{
 "cells": [
  {
   "cell_type": "code",
   "execution_count": null,
   "id": "b66632d9-da5c-4192-a29b-7f404835829b",
   "metadata": {},
   "outputs": [],
   "source": [
    "# Динамическое программирование\n",
    "# Идея состоит в том что найти оптимальное решение\n",
    "# например \n",
    "# у нас есть рекурсивный фибоначи и на больших значениях у нас будет зашкаливать БигО\n",
    "# В таком случае можно мемоизировать нашу функцию чтоб не вызывался тот же стек вызовов \n",
    "# по многу раз\n",
    "# то есть - если есть уже вычисленное значение в момоизированном хранилище  . \n",
    "# То вернуть мемоизированный результат, вместо того чтоб вычислять его вновь и вновь.\n",
    "\n",
    "# Dynamic programming = Recursion + Memoization\n",
    "\n",
    "\n",
    "\n",
    "# Bottom-up approach\n",
    "\n",
    "\n",
    "\n",
    "\n",
    "# Там дальше https://youtu.be/Hdr64lKQ3e4"
   ]
  },
  {
   "cell_type": "code",
   "execution_count": 4,
   "id": "e9f38713-062a-460d-b6c1-1cb9153510c3",
   "metadata": {},
   "outputs": [
    {
     "data": {
      "text/plain": [
       "139583862445"
      ]
     },
     "execution_count": 4,
     "metadata": {},
     "output_type": "execute_result"
    }
   ],
   "source": [
    "# Dynamic Programming - Memo + Recursion\n",
    "memo = {}\n",
    "\n",
    "def fib(n):\n",
    "    if n in memo:\n",
    "        return memo[n]\n",
    "    if n <= 2:\n",
    "        return 1\n",
    "    else:\n",
    "        res = fib(n-1) + fib(n-2)\n",
    "    memo[n] = res\n",
    "    return res\n",
    "\n",
    "fib(55)"
   ]
  },
  {
   "cell_type": "code",
   "execution_count": 1,
   "id": "e6f612ba-e5e9-45aa-84cb-e08208d7a5b6",
   "metadata": {},
   "outputs": [
    {
     "name": "stdout",
     "output_type": "stream",
     "text": [
      "{} iter 1\n",
      "{1: 1} iter 2\n"
     ]
    },
    {
     "data": {
      "text/plain": [
       "1"
      ]
     },
     "execution_count": 1,
     "metadata": {},
     "output_type": "execute_result"
    }
   ],
   "source": [
    "# Bottom up approach\n",
    "\n",
    "def fib(n):\n",
    "    memo = {}\n",
    "    for i in range(1, n+1):\n",
    "        if i <=2:\n",
    "            result = 1\n",
    "        else:\n",
    "            result = memo[i - 1] + memo[i - 2]\n",
    "        print(memo, \"iter\", i)\n",
    "        memo[i] = result\n",
    "    return memo[n]\n",
    "\n",
    "\n",
    "\n",
    "fib(2)\n",
    "\n"
   ]
  },
  {
   "cell_type": "code",
   "execution_count": 12,
   "id": "6f389420-f1d6-4f0b-9d02-8eb9d82bf2d6",
   "metadata": {},
   "outputs": [
    {
     "data": {
      "text/plain": [
       "['__and__',\n",
       " '__class__',\n",
       " '__class_getitem__',\n",
       " '__contains__',\n",
       " '__delattr__',\n",
       " '__dir__',\n",
       " '__doc__',\n",
       " '__eq__',\n",
       " '__format__',\n",
       " '__ge__',\n",
       " '__getattribute__',\n",
       " '__getstate__',\n",
       " '__gt__',\n",
       " '__hash__',\n",
       " '__iand__',\n",
       " '__init__',\n",
       " '__init_subclass__',\n",
       " '__ior__',\n",
       " '__isub__',\n",
       " '__iter__',\n",
       " '__ixor__',\n",
       " '__le__',\n",
       " '__len__',\n",
       " '__lt__',\n",
       " '__ne__',\n",
       " '__new__',\n",
       " '__or__',\n",
       " '__rand__',\n",
       " '__reduce__',\n",
       " '__reduce_ex__',\n",
       " '__repr__',\n",
       " '__ror__',\n",
       " '__rsub__',\n",
       " '__rxor__',\n",
       " '__setattr__',\n",
       " '__sizeof__',\n",
       " '__str__',\n",
       " '__sub__',\n",
       " '__subclasshook__',\n",
       " '__xor__',\n",
       " 'add',\n",
       " 'clear',\n",
       " 'copy',\n",
       " 'difference',\n",
       " 'difference_update',\n",
       " 'discard',\n",
       " 'intersection',\n",
       " 'intersection_update',\n",
       " 'isdisjoint',\n",
       " 'issubset',\n",
       " 'issuperset',\n",
       " 'pop',\n",
       " 'remove',\n",
       " 'symmetric_difference',\n",
       " 'symmetric_difference_update',\n",
       " 'union',\n",
       " 'update']"
      ]
     },
     "execution_count": 12,
     "metadata": {},
     "output_type": "execute_result"
    }
   ],
   "source": [
    "one = set([1,2,3,4,5,5,5,6])\n",
    "two = set([4,5,6,7,8,9,0])\n",
    "\n",
    "one & two\n",
    "\n",
    "dir(set)"
   ]
  }
 ],
 "metadata": {
  "kernelspec": {
   "display_name": "Python 3 (ipykernel)",
   "language": "python",
   "name": "python3"
  },
  "language_info": {
   "codemirror_mode": {
    "name": "ipython",
    "version": 3
   },
   "file_extension": ".py",
   "mimetype": "text/x-python",
   "name": "python",
   "nbconvert_exporter": "python",
   "pygments_lexer": "ipython3",
   "version": "3.13.0a6"
  }
 },
 "nbformat": 4,
 "nbformat_minor": 5
}
