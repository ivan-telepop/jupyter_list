{
 "cells": [
  {
   "cell_type": "code",
   "execution_count": null,
   "id": "c2b4934b",
   "metadata": {},
   "outputs": [],
   "source": [
    "# ALGORYTHMS - Chapter 6 Breadth First Search \n",
    "# BREADTHS - the distance from one side to another:\n",
    "https://www.linkedin.com/learning/python-data-structures-and-algorithms/python-data-structures-and-algorithms-in-action?courseClaim=AQGx-7dnwTLFRgAAAY4HpQDoGEFMWAIhokZ10mw1wnJ3n2OyBIpRyAU6wpj096tv-YvtqOE--KtrUYWRnGX1xpz67YqkXgZ66O-ZAjgyup1EyDDnvj6EXYgxObA1dRJszfks33OGBQV_k0Ft-GFbQcrU50MWzvEUqowIXRx7EcaUDuhRxuVsfcHkMrTKEWpUnqx3IQDl0rZkuW7efQP9nOGyxKzHqYhAw1JqIlXj3ETM_gQjeNiVrfKxqtZQxD7WZ5BSBxexSEvzvwdm7ouVkqO1QyAdzetcYTjvCkmSVDbx8GK6MzMOUUufL65qRcIH-_mzFAaMO7kOe2zHrPHcmCtMjKcfcaXOuJl0XVihr6ekpQ1KczNKfZq5xNSufR6pnjbd1WNBAbaFjLmwhy2C50TvU0vb-xP7CdGisAL5jbeG5duiRfVTmLzqmuFqsL6uIvXfiBf3PSUrEEbTCJjJruWQgTn3RDBpSIsCdr17X0-I-J-yspcuknXQ8njordGScLKmGecswimm0Pdxs0STC-1vLfkZvNByXc_z_tXqzhObFCDE-mgLF7kV8Y3ANFZtzfEBqP9S-TRbHl2jBGK4RJg8NkQ_axJHWw0m3AH0jMEeJDhS0KM6yCyNCWOFLTdYTMBEQQxwM8hSvj27n2cV8AK_L8d8hzFLoQT7eOI6sVs43Ckdv6_1oZVD_q1mBZi6Sy6g36Gdx3y9qFfHX8yh38R3-up9iBC5fmjjglfuwOj1bwE7WNOVUUJAH2NpHt7C-4MuGzybN6eZuta2GvvIQsLDz1sqKEadfVW9JSvsC_QvSSZJ1dcMP39ztuvYwCkuZuwLz56dxMhwKRQXMDiXjn79Gf-n9G_ehODS4pXFFVwiRlGBY5DifyfPBFhvRNv-X1qglr_h-R6raNaN7q_ljHOdG-2KJ2U1kCorXJ8A__9oE9_MK7xwnlmgtRzIeVA9CW29qLvmZTbHJV7ZLQcvd8B4A87e3XfmhN4tSBThArVei7d-XKsXAmJFSZIWyxbQxnJOeGlLvunuFtMJi1AunNyKrLLd9R9tBxt6jp5ABjz69Cs75HiLppVF_hwLl5ZvdHav-tAO4tPnXo47_ihqgHmhR3whsyYySH1HNPDJB1mPZx79ShFRvmrU2H1AiehvG6HJ18LZ6XCalU1o"
   ]
  },
  {
   "cell_type": "code",
   "execution_count": 23,
   "id": "5cba292d",
   "metadata": {},
   "outputs": [
    {
     "name": "stdout",
     "output_type": "stream",
     "text": [
      "('you', ['alise', 'anjela'])\n",
      "('anjela', ['alex'])\n",
      "('alise', [])\n",
      "('alex', ['nona', 'valodya', 'jorik'])\n",
      "('jorik', ['valdemar', 'nona'])\n",
      "('nona', ['alise'])\n",
      "('volodya', ['you', 'anjela'])\n",
      "alex Pers\n",
      "nona Pers\n",
      "valodya Pers\n"
     ]
    },
    {
     "ename": "KeyError",
     "evalue": "'valodya'",
     "output_type": "error",
     "traceback": [
      "\u001b[0;31m---------------------------------------------------------------------------\u001b[0m",
      "\u001b[0;31mKeyError\u001b[0m                                  Traceback (most recent call last)",
      "Cell \u001b[0;32mIn[23], line 59\u001b[0m\n\u001b[1;32m     54\u001b[0m                 searched\u001b[38;5;241m.\u001b[39mappend(person)\n\u001b[1;32m     55\u001b[0m     \u001b[38;5;28;01mreturn\u001b[39;00m \u001b[38;5;28;01mFalse\u001b[39;00m\n\u001b[0;32m---> 59\u001b[0m \u001b[43mbfs_search\u001b[49m\u001b[43m(\u001b[49m\u001b[38;5;124;43m'\u001b[39;49m\u001b[38;5;124;43manjela\u001b[39;49m\u001b[38;5;124;43m'\u001b[39;49m\u001b[43m)\u001b[49m\n",
      "Cell \u001b[0;32mIn[23], line 53\u001b[0m, in \u001b[0;36mbfs_search\u001b[0;34m(name)\u001b[0m\n\u001b[1;32m     51\u001b[0m             \u001b[38;5;28;01mreturn\u001b[39;00m \u001b[38;5;28;01mTrue\u001b[39;00m\n\u001b[1;32m     52\u001b[0m         \u001b[38;5;28;01melse\u001b[39;00m:\n\u001b[0;32m---> 53\u001b[0m             search_queue \u001b[38;5;241m+\u001b[39m\u001b[38;5;241m=\u001b[39m \u001b[43mgraph\u001b[49m\u001b[43m[\u001b[49m\u001b[43mperson\u001b[49m\u001b[43m]\u001b[49m\n\u001b[1;32m     54\u001b[0m             searched\u001b[38;5;241m.\u001b[39mappend(person)\n\u001b[1;32m     55\u001b[0m \u001b[38;5;28;01mreturn\u001b[39;00m \u001b[38;5;28;01mFalse\u001b[39;00m\n",
      "\u001b[0;31mKeyError\u001b[0m: 'valodya'"
     ]
    }
   ],
   "source": [
    "\n",
    "# Поиск В Ширину  ГРАФ \n",
    "# Item = collections.namedtuple('Item',['color','size'])\n",
    "# items = [Item(col,siz) for col in colors for siz in sizes]\n",
    "\n",
    "\n",
    "# Типы графов\n",
    "# НАПРАВЛЕННЫЙ ГРАФ - это две вершины с связями друг на друга \n",
    "# example below:\n",
    "# graph['one'] = ['two']\n",
    "# graph['two'] = ['one']\n",
    "\n",
    "\n",
    "\n",
    "from collections import deque\n",
    "\n",
    "graph = {}\n",
    "\n",
    "graph['you'] = ['alise','anjela']\n",
    "graph['anjela'] = ['alex']\n",
    "graph['alise'] = []\n",
    "graph['alex'] = ['nona','valodya','jorik']\n",
    "graph['jorik'] = ['valdemar','nona']\n",
    "graph['nona'] = ['alise']\n",
    "graph['volodya'] = ['you','anjela']\n",
    "\n",
    "\n",
    "\n",
    "for name in graph.items():\n",
    "    print(name)\n",
    "\n",
    "\n",
    "\n",
    "\n",
    "\n",
    "def seller(name):\n",
    "    return name == 'valdemar'\n",
    "\n",
    "\n",
    "\n",
    "\n",
    "def bfs_search(name):\n",
    "    search_queue = deque()\n",
    "    search_queue += graph[name] # adding to deque\n",
    "    searched = []\n",
    "    while search_queue:\n",
    "        person = search_queue.popleft()\n",
    "        print(person,'Pers')\n",
    "        if not person in searched:\n",
    "            if seller(person):\n",
    "                print(\"This friend sells mango:\",person)\n",
    "                return True\n",
    "            else:\n",
    "                search_queue += graph[person]\n",
    "                searched.append(person)\n",
    "    return False\n",
    "\n",
    "\n",
    "\n",
    "bfs_search('anjela')\n",
    "\n",
    "\n",
    "        \n",
    "\n"
   ]
  },
  {
   "cell_type": "code",
   "execution_count": 11,
   "id": "e7e86eb0-102b-4bea-bcad-c3a7afb91571",
   "metadata": {},
   "outputs": [
    {
     "name": "stdout",
     "output_type": "stream",
     "text": [
      "A\n",
      "B\n",
      "C\n",
      "D\n",
      "E\n",
      "F\n"
     ]
    }
   ],
   "source": [
    "from collections import deque\n",
    "\n",
    "dq = deque()\n",
    "\n",
    "ff = [i for i in 'ABCDEF']\n",
    "\n",
    "dq += ff\n",
    "\n",
    "dq.add(\n",
    "    "
   ]
  },
  {
   "cell_type": "code",
   "execution_count": 49,
   "id": "8192d857",
   "metadata": {},
   "outputs": [
    {
     "data": {
      "text/plain": [
       "[True, True, True]"
      ]
     },
     "execution_count": 49,
     "metadata": {},
     "output_type": "execute_result"
    }
   ],
   "source": [
    "ff = [False,False,False]\n",
    "\n",
    "for i in range(0,3):\n",
    "    ff[i] = not ff[i]\n",
    "    \n",
    "ff    "
   ]
  },
  {
   "cell_type": "code",
   "execution_count": 67,
   "id": "4fccaede",
   "metadata": {},
   "outputs": [
    {
     "name": "stdout",
     "output_type": "stream",
     "text": [
      "  1           0 LOAD_CONST               0 (None)\n",
      "              2 RETURN_VALUE\n"
     ]
    }
   ],
   "source": [
    "import dis\n",
    "twoes = [x for x in range(0,80, 2)]\n",
    "twoes\n",
    "\n",
    "threes = [y for y in range(0,33, 3)]\n",
    "threes\n",
    "\n",
    "doubles = [j for j in range(0,44, 4)]\n",
    "len(doubles)\n",
    "\n",
    "\n",
    "def make(atr):\n",
    "    res = map(atr)\n",
    "\n",
    "\n",
    "dis.dis(str())"
   ]
  },
  {
   "cell_type": "code",
   "execution_count": 77,
   "id": "f8af84f5",
   "metadata": {},
   "outputs": [
    {
     "name": "stdout",
     "output_type": "stream",
     "text": [
      "[{'t': 'e'}, {'e': 'l'}, {'l': 'e'}, {'e': 'p'}, {'p': 'o'}, {'o': 'r'}, {'r': 't'}]\n"
     ]
    }
   ],
   "source": [
    "# Задача для мозга: Сделать функцию создающую коллекцию графов или связей букв друг с другом где граф в виде словаря.\n",
    "# То есть каждая буква имеет направленную связь с предведущей буквой. \n",
    "#Задача сделать ориентированный граф по каждой связи парами\n",
    "\n",
    "\n",
    "\n",
    "\n",
    "\n",
    "\n",
    "def graph_maker(word):\n",
    "    result = []\n",
    "    for i in range(len(word)):\n",
    "        if int(i+1) < len(word):\n",
    "            aa = list(word).pop(i)\n",
    "            bb = list(word).pop(i +1)\n",
    "            result.append({aa:bb})\n",
    "    print(result)\n",
    "    \n",
    "graph_maker('teleport')    \n",
    "\n"
   ]
  },
  {
   "cell_type": "code",
   "execution_count": 76,
   "id": "4bb6cb5e",
   "metadata": {},
   "outputs": [
    {
     "name": "stdout",
     "output_type": "stream",
     "text": [
      "(1082, 'к') (1091, 'у') (1087, 'п') (1083, 'л') (1102, 'ю') (32, ' ') (1078, 'ж') (1077, 'е') (1085, 'н') (1077, 'е') (32, ' ') (1089, 'с') (1072, 'а') (1087, 'п') (1086, 'о') (1075, 'г') (1080, 'и')\n"
     ]
    }
   ],
   "source": [
    "# КАК PYTHON ПАРСИТ КИРИЛЛИЦУ\n",
    "\n",
    "def вжух_функция(слово):\n",
    "    ацкий_сотона = [ord(опаньки) for опаньки in слово]\n",
    "    просто_сотона = [ ц for ц in слово]\n",
    "    вжух = zip(ацкий_сотона, просто_сотона)\n",
    "    return вжух\n",
    "    \n",
    "print(*вжух_функция(\"куплю жене сапоги\"))  "
   ]
  },
  {
   "cell_type": "code",
   "execution_count": 10,
   "id": "ef331ed9-cce5-481f-bf44-821d9b248887",
   "metadata": {},
   "outputs": [
    {
     "name": "stdout",
     "output_type": "stream",
     "text": [
      "a\n",
      "s\n",
      "d\n",
      "f\n",
      "These simbols are forbidden: G\n",
      "g\n",
      "h\n",
      "These simbols are forbidden: G\n",
      "j\n",
      "k\n",
      "These simbols are forbidden: G\n",
      "l\n",
      "These simbols are forbidden: ;\n",
      "1 2 3 4 hello True <function <lambda> at 0x103ec6020> test 99\n"
     ]
    }
   ],
   "source": []
  },
  {
   "cell_type": "code",
   "execution_count": null,
   "id": "c29f9598-996e-4b0a-b4e1-0f38bdfb5147",
   "metadata": {},
   "outputs": [],
   "source": []
  },
  {
   "cell_type": "code",
   "execution_count": null,
   "id": "bcb1a57a-11ea-406c-af48-0f16b060da26",
   "metadata": {},
   "outputs": [],
   "source": []
  },
  {
   "cell_type": "code",
   "execution_count": null,
   "id": "f757c1c5-9352-466a-add4-a6c51e036a05",
   "metadata": {},
   "outputs": [],
   "source": []
  }
 ],
 "metadata": {
  "kernelspec": {
   "display_name": "Python 3 (ipykernel)",
   "language": "python",
   "name": "python3"
  },
  "language_info": {
   "codemirror_mode": {
    "name": "ipython",
    "version": 3
   },
   "file_extension": ".py",
   "mimetype": "text/x-python",
   "name": "python",
   "nbconvert_exporter": "python",
   "pygments_lexer": "ipython3",
   "version": "3.13.0a6"
  }
 },
 "nbformat": 4,
 "nbformat_minor": 5
}
