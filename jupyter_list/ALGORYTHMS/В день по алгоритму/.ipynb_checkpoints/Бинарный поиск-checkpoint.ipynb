{
 "cells": [
  {
   "cell_type": "code",
   "execution_count": null,
   "id": "17f98a97-f2cf-496c-b4be-33696d311b78",
   "metadata": {},
   "outputs": [],
   "source": [
    "lst = [ f\"Element num: {i} \" for i in range(0,200)]\n",
    "\n",
    "\n",
    "def binar(lst, order):"
   ]
  }
 ],
 "metadata": {
  "kernelspec": {
   "display_name": "Python 3 (ipykernel)",
   "language": "python",
   "name": "python3"
  },
  "language_info": {
   "codemirror_mode": {
    "name": "ipython",
    "version": 3
   },
   "file_extension": ".py",
   "mimetype": "text/x-python",
   "name": "python",
   "nbconvert_exporter": "python",
   "pygments_lexer": "ipython3",
   "version": "3.13.0a6"
  }
 },
 "nbformat": 4,
 "nbformat_minor": 5
}
