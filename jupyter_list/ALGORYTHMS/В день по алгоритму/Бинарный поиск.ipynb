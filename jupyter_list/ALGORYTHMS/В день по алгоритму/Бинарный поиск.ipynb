{
 "cells": [
  {
   "cell_type": "code",
   "execution_count": 20,
   "id": "17f98a97-f2cf-496c-b4be-33696d311b78",
   "metadata": {},
   "outputs": [
    {
     "name": "stdout",
     "output_type": "stream",
     "text": [
      "False\n"
     ]
    }
   ],
   "source": [
    "# RECURSIVE BINARY SEARCH\n",
    "\n",
    "lst = [ i for i in range(0,200)]\n",
    "\n",
    "\n",
    "def binar(lst, order):\n",
    "    mid = len(lst) // 2\n",
    "    right = lst[mid:]\n",
    "    left = lst[:mid]\n",
    "    if lst[mid] == order:\n",
    "        return lst[mid] \n",
    "    if order > lst[mid]:\n",
    "        return binar(right,order) \n",
    "    elif order < lst[mid]:\n",
    "        return binar(left,order) \n",
    "\n",
    "\n",
    "print(267 in lst)"
   ]
  },
  {
   "cell_type": "code",
   "execution_count": null,
   "id": "c438a3db-991f-480d-8f05-75e669c01d55",
   "metadata": {},
   "outputs": [],
   "source": []
  }
 ],
 "metadata": {
  "kernelspec": {
   "display_name": "Python 3 (ipykernel)",
   "language": "python",
   "name": "python3"
  },
  "language_info": {
   "codemirror_mode": {
    "name": "ipython",
    "version": 3
   },
   "file_extension": ".py",
   "mimetype": "text/x-python",
   "name": "python",
   "nbconvert_exporter": "python",
   "pygments_lexer": "ipython3",
   "version": "3.9.6"
  }
 },
 "nbformat": 4,
 "nbformat_minor": 5
}
