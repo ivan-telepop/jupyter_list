{
 "cells": [
  {
   "cell_type": "code",
   "execution_count": null,
   "id": "5f5a111a-b688-4cd8-adfb-c11e06c425a7",
   "metadata": {},
   "outputs": [],
   "source": [
    "# Bellman Ford \n",
    "\n",
    "\n",
    "\n",
    "https://youtu.be/j0OUwduDOS0\n",
    "\n",
    "\n",
    "\n",
    "\n",
    "g = Graph(5) \n",
    "g.addEdge(0, 1, -1) # A - B\n",
    "g.addEdge(0, 2, 4)  # A - C\n",
    "g.addEdge(1, 2, 3)  # B - C\n",
    "g.addEdge(1, 3, 2)  # B - \n",
    "g.addEdge(1, 4, 2) \n",
    "g.addEdge(3, 2, 5) \n",
    "g.addEdge(3, 1, 1) \n",
    "g.addEdge(4, 3, -3) "
   ]
  },
  {
   "cell_type": "code",
   "execution_count": null,
   "id": "6f9559de-6838-40b3-9e08-d96e002b69a2",
   "metadata": {},
   "outputs": [],
   "source": [
    "# Частный случай разложения в ряд Тейлора в нулевой точке называется рядом Маклорена."
   ]
  }
 ],
 "metadata": {
  "kernelspec": {
   "display_name": "Python 3 (ipykernel)",
   "language": "python",
   "name": "python3"
  },
  "language_info": {
   "codemirror_mode": {
    "name": "ipython",
    "version": 3
   },
   "file_extension": ".py",
   "mimetype": "text/x-python",
   "name": "python",
   "nbconvert_exporter": "python",
   "pygments_lexer": "ipython3",
   "version": "3.13.0a6"
  }
 },
 "nbformat": 4,
 "nbformat_minor": 5
}
