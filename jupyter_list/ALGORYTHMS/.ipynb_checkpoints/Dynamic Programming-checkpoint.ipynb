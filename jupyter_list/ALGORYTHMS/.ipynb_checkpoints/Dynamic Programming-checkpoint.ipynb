{
 "cells": [
  {
   "cell_type": "code",
   "execution_count": null,
   "id": "b66632d9-da5c-4192-a29b-7f404835829b",
   "metadata": {},
   "outputs": [],
   "source": [
    "# Динамическое программирование\n",
    "# Идея состоит в том что найти оптимальное решение\n",
    "# например \n",
    "# у нас есть рекурсивный фибоначи и на больших значениях у нас будет зашкаливать БигО\n",
    "# В таком случае можно мемоизировать нашу функцию чтоб не вызывался тот же стек по многу раз\n",
    "# то есть - если есть значение. То вернуть мемо\n",
    "\n",
    "# Dynamic programming = Recursion + Memoization\n",
    "\n",
    "\n",
    "\n",
    "# Bottom-up approach\n",
    "\n",
    "\n"
   ]
  },
  {
   "cell_type": "code",
   "execution_count": null,
   "id": "e9f38713-062a-460d-b6c1-1cb9153510c3",
   "metadata": {},
   "outputs": [],
   "source": [
    "# RECURSION FIBONACCI\n",
    "def fib(n):\n",
    "    if n == 1:\n",
    "        return 0\n",
    "    if n == 2:\n",
    "        return 1\n",
    "    return fib(n-1)+fib(n-2)\n",
    "\n",
    "fib(5)"
   ]
  }
 ],
 "metadata": {
  "kernelspec": {
   "display_name": "Python 3 (ipykernel)",
   "language": "python",
   "name": "python3"
  },
  "language_info": {
   "codemirror_mode": {
    "name": "ipython",
    "version": 3
   },
   "file_extension": ".py",
   "mimetype": "text/x-python",
   "name": "python",
   "nbconvert_exporter": "python",
   "pygments_lexer": "ipython3",
   "version": "3.13.0a6"
  }
 },
 "nbformat": 4,
 "nbformat_minor": 5
}
