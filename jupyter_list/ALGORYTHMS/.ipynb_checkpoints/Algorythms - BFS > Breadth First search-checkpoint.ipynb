{
 "cells": [
  {
   "cell_type": "code",
   "execution_count": null,
   "id": "d8efeb72",
   "metadata": {},
   "outputs": [],
   "source": [
    "# ALGORYTHMS - Chapter 6\n"
   ]
  },
  {
   "cell_type": "code",
   "execution_count": null,
   "id": "91d35e20",
   "metadata": {},
   "outputs": [],
   "source": [
    "# B R E A D T H  -  F I R S T    S E A R C H.   BFS.   - \n",
    "# Поиск В Ширину  ГРАФ \n",
    "# Item = collections.namedtuple('Item',['color','size'])\n",
    "# items = [Item(col,siz) for col in colors for siz in sizes]\n",
    "\n",
    "\n",
    "# Типы графов\n",
    "# НАПРАВЛЕННЫЙ ГРАФ - это две вершины с связями друг на друга \n",
    "# example below:\n",
    "# graph['one'] = ['two']\n",
    "# graph['two'] = ['one']\n",
    "\n",
    "\n",
    "\n",
    "from collections import deque\n",
    "\n",
    "graph = dict()\n",
    "\n",
    "graph['you'] = ['alise','anjela']\n",
    "graph['anjela'] = ['alex']\n",
    "graph['alise'] = []\n",
    "graph['alex'] = []\n",
    "\n",
    "\n",
    "\n",
    "search = deque()\n",
    "search += graph['you']\n",
    "\n",
    "def seller(name):\n",
    "    return name[-1] == 'x'\n",
    "\n",
    "\n",
    "\n",
    "\n",
    "while search:\n",
    "    one = search.popleft()\n",
    "    if seller(one):\n",
    "        print('This Guy Sells something !!!',one)\n",
    "    else:\n",
    "        search += graph[one]\n",
    "pass\n",
    "        \n",
    "\n"
   ]
  }
 ],
 "metadata": {
  "kernelspec": {
   "display_name": "Python 3 (ipykernel)",
   "language": "python",
   "name": "python3"
  },
  "language_info": {
   "codemirror_mode": {
    "name": "ipython",
    "version": 3
   },
   "file_extension": ".py",
   "mimetype": "text/x-python",
   "name": "python",
   "nbconvert_exporter": "python",
   "pygments_lexer": "ipython3",
   "version": "3.10.13"
  }
 },
 "nbformat": 4,
 "nbformat_minor": 5
}
