{
 "cells": [
  {
   "cell_type": "code",
   "execution_count": null,
   "id": "e8fd06ab-bb62-4f27-a7eb-e27f939bf907",
   "metadata": {},
   "outputs": [],
   "source": [
    "# Это почитать !!!\n",
    "# https://docs-python.ru/standart-library/modul-re-python/"
   ]
  },
  {
   "cell_type": "code",
   "execution_count": 5,
   "id": "3fa6cbc0-0261-4e0b-8d4e-8e6bef814ab1",
   "metadata": {},
   "outputs": [
    {
     "name": "stdout",
     "output_type": "stream",
     "text": [
      "qw\n",
      "er\n",
      "ty\n",
      "ui\n",
      "op\n",
      "xs\n",
      "df\n",
      "gh\n",
      "jk\n",
      "xa\n",
      "sd\n",
      "fg\n",
      "hj\n",
      "kl\n",
      "zx\n",
      "cv\n",
      "bn\n",
      "m_\n"
     ]
    }
   ],
   "source": [
    "# Кароч есть сторака типа: 'qwertyuiop'\n",
    "# Нужно вывести по парам из длинной строки 'qwertyuiop'\n",
    "# Если пара не получается, заменить символом _ Чтоб смотрелось так- 'qw' 'er' 'ty' 'ui' 'o_'\n",
    "\n",
    "# Complete the solution so that it splits the string into pairs of two characters. If the string contains an odd number of characters then it should replace the missing second character of the final pair with an underscore ('_').\n",
    "\n",
    "\n",
    "# https://www.codewars.com/kata/515de9ae9dcfc28eb6000001/python\n",
    "\n",
    "\n",
    "\n",
    "\n",
    "\n",
    "\n",
    "\n",
    "s = 'qwertyuiopxsdfghjkxasdfghjklzxcvbnm'\n",
    "\n",
    "\n",
    "\n",
    "\n",
    "\n",
    "for i in range(0,len(s),2):\n",
    "    if (i+1) < len(s):\n",
    "        print(s[i] + s[i+1])\n",
    "    else:\n",
    "        print(s[i] + '_')\n",
    "        \n"
   ]
  },
  {
   "cell_type": "code",
   "execution_count": 10,
   "id": "ffbcc104-d0df-46e0-b7b2-52fea5ac9d46",
   "metadata": {},
   "outputs": [
    {
     "data": {
      "text/plain": [
       "['sd', 'fg', 'hj', 'ky', 'tr', 'ef', 'gh']"
      ]
     },
     "execution_count": 10,
     "metadata": {},
     "output_type": "execute_result"
    }
   ],
   "source": [
    "import re\n",
    "\n",
    "\n",
    "# pattern = '.' соответствует любому символу, кроме новой строки - {2} символа из s и + \"_\" ...\n",
    "def foo(s):\n",
    "    return re.findall(\".{2}\", s + \"_\")\n",
    "\n",
    "\n",
    "foo('sdfghjkytrefgh')\n"
   ]
  },
  {
   "cell_type": "code",
   "execution_count": 13,
   "id": "9cb8a0d4-74b8-4644-9027-674515608bbe",
   "metadata": {},
   "outputs": [
    {
     "data": {
      "text/plain": [
       "'odd'"
      ]
     },
     "execution_count": 13,
     "metadata": {},
     "output_type": "execute_result"
    }
   ],
   "source": [
    "# Give your answer as a string matching \"odd\" or \"even\".\n",
    "\n",
    "# If the input array is empty consider it as: [0] (array with a zero).\n",
    "\n",
    "# Examples:\n",
    "# Input: [0]\n",
    "# Output: \"even\"\n",
    "\n",
    "# Input: [0, 1, 4]\n",
    "# Output: \"odd\"\n",
    "\n",
    "# Input: [0, -1, -5]\n",
    "# Output: \"even\"\n",
    "\n",
    "a = list((-2,0,4,-3,8,9,3,2,-6))\n",
    "\n",
    "# b = map(lambda x: abs(x),arr)\n",
    "\n",
    "def odd_or_even(arr: list) -> str:\n",
    "    return 'even' if sum(map(lambda x: abs(x),arr)) %  2 == 0 else 'odd'\n",
    "\n",
    "odd_or_even(a)"
   ]
  },
  {
   "cell_type": "code",
   "execution_count": 22,
   "id": "17d1a0f0-0176-4c64-b529-a963fa101af3",
   "metadata": {},
   "outputs": [
    {
     "data": {
      "text/plain": [
       "25000"
      ]
     },
     "execution_count": 22,
     "metadata": {},
     "output_type": "execute_result"
    }
   ],
   "source": [
    "# Jack really likes his number five: the trick here is that you have to multiply each number by 5 \n",
    "# raised to the number of digits of each numbers, so, for example:\n",
    "\n",
    "#   3 -->    15  (  3 * 5¹)\n",
    "#  10 -->   250  ( 10 * 5²)\n",
    "# 200 --> 25000  (200 * 5³)\n",
    "#   0 -->     0  (  0 * 5¹)\n",
    "#  -3 -->   -15  ( -3 * 5¹)\n",
    "\n",
    "\n",
    "def multiply(num: int):\n",
    "    return num * pow(5,len(str(abs(num))))\n",
    "\n",
    "\n",
    "\n",
    "\n",
    "multiply(200)\n"
   ]
  }
 ],
 "metadata": {
  "kernelspec": {
   "display_name": "Python 3.13 jupy_venv",
   "language": "python",
   "name": "jupy_venv"
  },
  "language_info": {
   "codemirror_mode": {
    "name": "ipython",
    "version": 3
   },
   "file_extension": ".py",
   "mimetype": "text/x-python",
   "name": "python",
   "nbconvert_exporter": "python",
   "pygments_lexer": "ipython3",
   "version": "3.12.9"
  }
 },
 "nbformat": 4,
 "nbformat_minor": 5
}
