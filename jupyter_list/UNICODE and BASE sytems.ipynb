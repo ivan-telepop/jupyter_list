{
 "cells": [
  {
   "cell_type": "code",
   "execution_count": 13,
   "id": "5920145e",
   "metadata": {},
   "outputs": [
    {
     "data": {
      "text/plain": [
       "['a',\n",
       " 'b',\n",
       " 'c',\n",
       " 'd',\n",
       " 'e',\n",
       " 'f',\n",
       " 'g',\n",
       " 'h',\n",
       " 'i',\n",
       " 'j',\n",
       " 'k',\n",
       " 'l',\n",
       " 'm',\n",
       " 'n',\n",
       " 'o',\n",
       " 'p',\n",
       " 'q',\n",
       " 'r',\n",
       " 's',\n",
       " 't',\n",
       " 'u',\n",
       " 'v',\n",
       " 'w',\n",
       " 'x',\n",
       " 'y']"
      ]
     },
     "execution_count": 13,
     "metadata": {},
     "output_type": "execute_result"
    }
   ],
   "source": [
    "# G E N E X P - или списковое включение\n",
    "\n",
    "\n",
    "#print(f\"Hello {chr(letters[10])} world\") - можно выебнуться/пошутить с переносом строки \n",
    "\n",
    "\n",
    "unicodes = [ chr(one) for one in range(97,122)] # тут получаем список / list что по сути является списковым включением.\n",
    "\n",
    "# let_nums = [ ord(lt) for lt in unicodes ]\n",
    "\n",
    "# let_nums\n",
    "\n",
    "# help(unicodes[11])\n",
    "\n",
    "unicodes\n",
    "# a little bit abou unicodes here: https://realpython.com/python-encodings-guide/"
   ]
  },
  {
   "cell_type": "code",
   "execution_count": null,
   "id": "a6f8654e",
   "metadata": {},
   "outputs": [],
   "source": [
    "# I M P O R T A N T  - BASE representations system\n",
    ">>> int('11')\n",
    "11\n",
    ">>> int('11', base=10)  # 10 is already default\n",
    "11\n",
    ">>> int('11', base=2)  # Binary\n",
    "3\n",
    ">>> int('11', base=8)  # Octal\n",
    "9\n",
    ">>> int('11', base=16)  # Hex\n"
   ]
  },
  {
   "cell_type": "code",
   "execution_count": 19,
   "id": "21fd05ca",
   "metadata": {},
   "outputs": [
    {
     "data": {
      "text/plain": [
       "'01101000 01100101 01101100 01101100 01101111'"
      ]
     },
     "execution_count": 19,
     "metadata": {},
     "output_type": "execute_result"
    }
   ],
   "source": [
    "\n",
    "import binascii\n",
    "\n",
    "\n",
    "def make_bitseq(s: str) -> str:\n",
    "    if not s.isascii():\n",
    "        raise ValueError(\"ASCII only allowed\")\n",
    "    return \" \".join(f\"{ord(i):08b}\" for i in s)\n",
    "\n",
    "\n",
    "make_bitseq('hello')\n",
    "\n"
   ]
  },
  {
   "cell_type": "code",
   "execution_count": 40,
   "id": "52294564",
   "metadata": {},
   "outputs": [
    {
     "data": {
      "text/plain": [
       "'飐닐냐뷐'"
      ]
     },
     "execution_count": 40,
     "metadata": {},
     "output_type": "execute_result"
    }
   ],
   "source": [
    "lets = 'Иван'\n",
    "\n",
    "raw_data = lets.encode(\"utf-8\")\n",
    "raw_data.decode(\"utf-16\")"
   ]
  },
  {
   "cell_type": "code",
   "execution_count": 60,
   "id": "981838c6",
   "metadata": {},
   "outputs": [
    {
     "name": "stdout",
     "output_type": "stream",
     "text": [
      "a b c d e f g h i j k l m n o p q r s t u v w x y  - [b'\\x00', b'\\x00\\x00', b'\\x00\\x00\\x00', b'\\x00\\x00\\x00\\x00', b'\\x00\\x00\\x00\\x00\\x00', b'\\x00\\x00\\x00\\x00\\x00\\x00', b'\\x00\\x00\\x00\\x00\\x00\\x00\\x00', b'\\x00\\x00\\x00\\x00\\x00\\x00\\x00\\x00', b'\\x00\\x00\\x00\\x00\\x00\\x00\\x00\\x00\\x00']\n"
     ]
    }
   ],
   "source": [
    "ff = [ bin(i) for i in range(1,100)]\n",
    "ff\n",
    "\n",
    "\n",
    "chars = [ chr(y) for y in range(97,122)]\n",
    "\n",
    "\n",
    "bt = [ bytes(x) for x in range(1,10)]\n",
    "bt \n",
    "\n",
    "\n",
    "print(*chars, f\" - {bt}\")\n"
   ]
  },
  {
   "cell_type": "code",
   "execution_count": 64,
   "id": "d17fb031",
   "metadata": {},
   "outputs": [
    {
     "data": {
      "text/plain": [
       "'¼ hello world'"
      ]
     },
     "execution_count": 64,
     "metadata": {},
     "output_type": "execute_result"
    }
   ],
   "source": [
    "dat = b\"\\xbc hello world\"\n",
    "dat.decode(\"latin-1\")"
   ]
  },
  {
   "cell_type": "code",
   "execution_count": null,
   "id": "ffc34cf9",
   "metadata": {},
   "outputs": [],
   "source": [
    "#.  auto detecting encoding    NEEED EXPLORING IT !!!-     https://chardet.readthedocs.io/en/latest/"
   ]
  },
  {
   "cell_type": "code",
   "execution_count": null,
   "id": "2f873445",
   "metadata": {},
   "outputs": [],
   "source": [
    "# last stop was here: https://realpython.com/python-encodings-guide/  -   Wrapping Up"
   ]
  }
 ],
 "metadata": {
  "kernelspec": {
   "display_name": "Python 3 (ipykernel)",
   "language": "python",
   "name": "python3"
  },
  "language_info": {
   "codemirror_mode": {
    "name": "ipython",
    "version": 3
   },
   "file_extension": ".py",
   "mimetype": "text/x-python",
   "name": "python",
   "nbconvert_exporter": "python",
   "pygments_lexer": "ipython3",
   "version": "3.9.6"
  }
 },
 "nbformat": 4,
 "nbformat_minor": 5
}
