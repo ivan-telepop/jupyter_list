{
 "cells": [
  {
   "cell_type": "code",
   "execution_count": 22,
   "id": "ad426df4-52a1-4fb3-ab22-948b28f44329",
   "metadata": {},
   "outputs": [
    {
     "name": "stdout",
     "output_type": "stream",
     "text": [
      "1909 Pimoroni PiBrel \n",
      "\n",
      "la $17.50 3 $ \n",
      "\n",
      "52.50 \n",
      "\n",
      "1489 6mm Tactile Swi \n",
      "\n",
      "tch x20 $4.95 \n",
      "\n",
      " 2 $9.90 \n",
      "\n",
      "1510 Panavise Jr. -  \n",
      "\n",
      "PV-201 $28.00 \n",
      "\n",
      " 1 $28.00 \n",
      "\n",
      "1601 PiTFT Mini Kit  \n",
      "\n",
      "320x240 $34.9 \n",
      "\n",
      "5 1 $34.95 \n",
      "\n"
     ]
    }
   ],
   "source": [
    "my_text = \"\"\" \n",
    "1909 Pimoroni PiBrella $17.50 3 $52.50\n",
    "1489 6mm Tactile Switch x20 $4.95 2 $9.90\n",
    "1510 Panavise Jr. - PV-201 $28.00 1 $28.00\n",
    "1601 PiTFT Mini Kit 320x240 $34.95 1 $34.95\n",
    "\"\"\"\n",
    "\n",
    "cleaned = my_text.split('\\n')[1:-1]\n",
    "\n",
    "N1 = slice(0,20)\n",
    "N2 = slice(20,33)\n",
    "N3 = slice(33,50)\n",
    "\n",
    "GROUPED = [N1,N2,N3]\n",
    "\n",
    "for item in cleaned:\n",
    "    for y in GROUPED:\n",
    "        print(item[y], '\\n')"
   ]
  },
  {
   "cell_type": "code",
   "execution_count": 63,
   "id": "74b41673-3369-451c-a5c2-347324f7a09d",
   "metadata": {},
   "outputs": [
    {
     "name": "stdout",
     "output_type": "stream",
     "text": [
      "[1, 2, 3, 4, 5, 6, 7, 8, 9, 10]\n",
      "[11, 12, 13, 14, 15]\n",
      "[16, 17, 18, 19, 20]\n"
     ]
    },
    {
     "data": {
      "text/plain": [
       "list_iterator"
      ]
     },
     "execution_count": 63,
     "metadata": {},
     "output_type": "execute_result"
    }
   ],
   "source": [
    "lst = [i for i in range(1,21)]\n",
    "\n",
    "\n",
    "sl1 = slice(0,10)\n",
    "sl2 = slice(10,15)\n",
    "sl3 = slice(15,20)\n",
    "\n",
    "\n",
    "\n",
    "print(lst[sl1])\n",
    "print(lst[sl2])\n",
    "print(lst[sl3])\n",
    "\n",
    "\n",
    "\n",
    "wrd = \"hoollahoop\"\n",
    "\n",
    "wrd[slice(2,7)]\n",
    "\n",
    "mit = iter(lst)\n",
    "\n",
    "\n",
    "isinstance(sl1,slice)\n",
    "# isinstance(mit,list_iterator)\n",
    "\n",
    "type(iter([i for i in range(0,10)]))"
   ]
  }
 ],
 "metadata": {
  "kernelspec": {
   "display_name": "Python 3 (ipykernel)",
   "language": "python",
   "name": "python3"
  },
  "language_info": {
   "codemirror_mode": {
    "name": "ipython",
    "version": 3
   },
   "file_extension": ".py",
   "mimetype": "text/x-python",
   "name": "python",
   "nbconvert_exporter": "python",
   "pygments_lexer": "ipython3",
   "version": "3.9.6"
  }
 },
 "nbformat": 4,
 "nbformat_minor": 5
}
