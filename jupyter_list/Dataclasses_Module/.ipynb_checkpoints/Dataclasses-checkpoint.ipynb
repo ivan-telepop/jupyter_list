{
 "cells": [
  {
   "cell_type": "code",
   "execution_count": null,
   "id": "301e56a1-e45d-4162-9079-c23ed958fd10",
   "metadata": {},
   "outputs": [],
   "source": [
    "# Модуль для создания пользовательских типов данных\n",
    "# Хороший пример ОРМ модели где пользователь описывает(создает) структуру данных\n",
    "# котороя описывает модель таблицы в БД."
   ]
  },
  {
   "cell_type": "code",
   "execution_count": 38,
   "id": "20e2e096-1e94-4850-b41e-73caf74caa2e",
   "metadata": {},
   "outputs": [
    {
     "name": "stdout",
     "output_type": "stream",
     "text": [
      "{'a': 1, 'b': 'hello'}\n"
     ]
    },
    {
     "data": {
      "text/plain": [
       "(Field(name='a',type=<class 'int'>,default=<dataclasses._MISSING_TYPE object at 0x103ef0050>,default_factory=<dataclasses._MISSING_TYPE object at 0x103ef0050>,init=True,repr=True,hash=None,compare=True,metadata=mappingproxy({}),kw_only=False,_field_type=_FIELD),\n",
       " Field(name='b',type=<class 'str'>,default=<dataclasses._MISSING_TYPE object at 0x103ef0050>,default_factory=<dataclasses._MISSING_TYPE object at 0x103ef0050>,init=True,repr=True,hash=None,compare=True,metadata=mappingproxy({}),kw_only=False,_field_type=_FIELD))"
      ]
     },
     "execution_count": 38,
     "metadata": {},
     "output_type": "execute_result"
    }
   ],
   "source": [
    "# Декоратор @dataclass\n",
    "# автоматически генерирует __repr__ и __init__\n",
    "\n",
    "\n",
    "from typing import ClassVar\n",
    "from dataclasses import dataclass, fields,InitVar\n",
    "\n",
    "@dataclass\n",
    "class Item:\n",
    "    a: int \n",
    "    b: str\n",
    "\n",
    "\n",
    "# @dataclass - добавит автоматом метод __init__ \n",
    "\n",
    "\n",
    "it = Item(1,'hello')\n",
    "\n",
    "\n",
    "print(it.__dict__)\n",
    "fields(it)"
   ]
  },
  {
   "cell_type": "code",
   "execution_count": 36,
   "id": "af25a739-982d-48f3-983c-718d17f8f4b1",
   "metadata": {},
   "outputs": [
    {
     "data": {
      "text/plain": [
       "55"
      ]
     },
     "execution_count": 36,
     "metadata": {},
     "output_type": "execute_result"
    }
   ],
   "source": [
    "# __post__init__() - название как обычно говорящее само за себя!\n",
    "# Сгенерированный код __init__() вызовет специальный метод с именем __post_init__(), если __post_init__() \n",
    "# определен в классе. Обычно он называется self.__post_init__ ().\n",
    "# Если определены какие-либо поля InitVar, они также будут переданы в __post_init__() \n",
    "# в том порядке, в котором они были определены в классе. Если метод __init__() не сгенерирован, \n",
    "# то __post_init__() не будет вызываться автоматически.\n",
    "# Такое поведение позволяет инициализировать значения полей, которые зависят от одного или нескольких других полей. \n",
    "# Например\n",
    "\n",
    "@dataclass\n",
    "class Test2:\n",
    "    a: int\n",
    "    b: int\n",
    "    def __post__init__(self):\n",
    "        self.result = self.a + self.b\n",
    "\n",
    "ts2 = Test2(22,33)\n",
    "\n",
    "# Call post_init__()\n",
    "ts2.__post__init__()\n",
    "\n",
    "ts2.result\n",
    "        "
   ]
  },
  {
   "cell_type": "code",
   "execution_count": 49,
   "id": "228c15cc-e423-4c59-ac29-3222c40a2e8c",
   "metadata": {
    "scrolled": true
   },
   "outputs": [
    {
     "data": {
      "text/plain": [
       "(Field(name='a',type=<class 'int'>,default=<dataclasses._MISSING_TYPE object at 0x103ef0050>,default_factory=<dataclasses._MISSING_TYPE object at 0x103ef0050>,init=True,repr=True,hash=None,compare=True,metadata=mappingproxy({}),kw_only=False,_field_type=_FIELD),)"
      ]
     },
     "execution_count": 49,
     "metadata": {},
     "output_type": "execute_result"
    }
   ],
   "source": [
    "# InitVar & ClassVar\n",
    "# InitVar -  только для инициализации (псевдо поле) Механизмы класса его не вернут\n",
    "\n",
    "@dataclass\n",
    "class Test3:\n",
    "    a: int\n",
    "    b: InitVar = None\n",
    "\n",
    "ts3 = Test3(1)\n",
    "\n",
    "ts3.__dict__\n",
    "\n",
    "fields(ts3)\n",
    "\n"
   ]
  }
 ],
 "metadata": {
  "kernelspec": {
   "display_name": "Python 3 (ipykernel)",
   "language": "python",
   "name": "python3"
  },
  "language_info": {
   "codemirror_mode": {
    "name": "ipython",
    "version": 3
   },
   "file_extension": ".py",
   "mimetype": "text/x-python",
   "name": "python",
   "nbconvert_exporter": "python",
   "pygments_lexer": "ipython3",
   "version": "3.13.0a6"
  }
 },
 "nbformat": 4,
 "nbformat_minor": 5
}
