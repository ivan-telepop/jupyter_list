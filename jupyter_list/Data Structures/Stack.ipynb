{
 "cells": [
  {
   "cell_type": "code",
   "execution_count": 14,
   "id": "c2942196-710a-43ac-bb33-2169dfc86913",
   "metadata": {},
   "outputs": [
    {
     "data": {
      "text/plain": [
       "{'items': [[1, 2, 3]]}"
      ]
     },
     "execution_count": 14,
     "metadata": {},
     "output_type": "execute_result"
    }
   ],
   "source": [
    "class Stack[T]:\n",
    "    def __init__(self) -> None:\n",
    "        \"\"\"Stacks Docstring - the stack thing:\"\"\"\n",
    "        self.items: list[T] = []\n",
    "    def push(self,item: T) -> None:\n",
    "        self.items.append(item)\n",
    "    def pop(self):\n",
    "        return self.items.pop()\n",
    "    def empty(self):\n",
    "        return not self.items\n",
    "\n",
    "\n",
    "st = Stack()\n",
    "\n",
    "\n",
    "st.push([1,2,3])\n",
    "\n",
    "st.empty()\n",
    "st.items\n",
    "\n",
    "\n",
    "\n",
    "st.__dict__"
   ]
  }
 ],
 "metadata": {
  "kernelspec": {
   "display_name": "Python 3 (ipykernel)",
   "language": "python",
   "name": "python3"
  },
  "language_info": {
   "codemirror_mode": {
    "name": "ipython",
    "version": 3
   },
   "file_extension": ".py",
   "mimetype": "text/x-python",
   "name": "python",
   "nbconvert_exporter": "python",
   "pygments_lexer": "ipython3",
   "version": "3.9.6"
  }
 },
 "nbformat": 4,
 "nbformat_minor": 5
}
