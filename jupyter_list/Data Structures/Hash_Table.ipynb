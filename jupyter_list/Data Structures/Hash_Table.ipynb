{
 "cells": [
  {
   "cell_type": "code",
   "execution_count": null,
   "id": "c1029d96-e9f2-4c85-8aea-bf770984b9e1",
   "metadata": {},
   "outputs": [],
   "source": []
  },
  {
   "cell_type": "code",
   "execution_count": 3,
   "id": "71b2d65e-b71c-4daa-8252-c56a1eda088b",
   "metadata": {},
   "outputs": [
    {
     "name": "stdout",
     "output_type": "stream",
     "text": [
      "[('cool', 3), ('boris', 2), ('ann', 1)]\n"
     ]
    }
   ],
   "source": [
    "# \n",
    "class Node:\n",
    "    def __init__(self,key,value):\n",
    "        self.key = key\n",
    "        self.value = value\n",
    "        self.next = None\n",
    "\n",
    "\n",
    "class HashTable:\n",
    "    def __init__(self, capacity):\n",
    "        self.capacity = capacity\n",
    "        self.size = 0\n",
    "        self.table = [None] * capacity\n",
    "    def _hash(self,key):\n",
    "        return hash(key) % self.capacity\n",
    "\n",
    "    def insert(self,key,value):\n",
    "        index = self._hash(key)\n",
    "        if self.table[index] is None:\n",
    "            self.table[index] = Node(key,value)\n",
    "            self.size += 1\n",
    "        else:\n",
    "            current = self.table[index]\n",
    "            while current:\n",
    "                if current.key == key:\n",
    "                    current.value = value\n",
    "                    return\n",
    "                current = current.next\n",
    "            new_node = Node(key,value)\n",
    "            new_node.next = self.table[index]\n",
    "            self.table.index = new_node\n",
    "            self.size +=1\n",
    "    def search(self,key):\n",
    "        index = self._hash(key)\n",
    "        current = self.table[index]\n",
    "        while current:\n",
    "            if current.key == key:\n",
    "                return current.value\n",
    "        raise KeyError(key)\n",
    "        \n",
    "    def remove(self,key):\n",
    "        index = self._hash(key)\n",
    "        previous = None\n",
    "        current = self.table[index]\n",
    "        while current:\n",
    "            if current.key == key:\n",
    "                if previous:\n",
    "                    previous.next = current.next\n",
    "                    \n",
    "    def __str__(self):\n",
    "        elements = []\n",
    "        for i in range(self.capacity):\n",
    "            current = self.table[i]\n",
    "            while current:\n",
    "                elements.append((current.key,current.value))\n",
    "                current = current.next\n",
    "        return str(elements)\n",
    "            \n",
    "\n",
    "\n",
    "\n",
    "\n",
    "\n",
    "\n",
    "table = HashTable(5)\n",
    "\n",
    "table.insert(\"ann\",1)\n",
    "table.insert('boris',2)\n",
    "table.insert('cool',3)\n",
    "\n",
    "print(table)\n"
   ]
  },
  {
   "cell_type": "code",
   "execution_count": 2,
   "id": "f75abab4-79b9-4154-a8a4-fb0e77f798ae",
   "metadata": {},
   "outputs": [
    {
     "data": {
      "text/plain": [
       "9"
      ]
     },
     "execution_count": 2,
     "metadata": {},
     "output_type": "execute_result"
    }
   ],
   "source": [
    "hash(\"holla\") % 10"
   ]
  },
  {
   "cell_type": "code",
   "execution_count": 6,
   "id": "0559d815-0966-4bc0-be44-8923c139a73f",
   "metadata": {},
   "outputs": [
    {
     "data": {
      "text/plain": [
       "1490635271736284672"
      ]
     },
     "execution_count": 6,
     "metadata": {},
     "output_type": "execute_result"
    }
   ],
   "source": [
    "hash(0.64646 \n",
    "    )"
   ]
  },
  {
   "cell_type": "code",
   "execution_count": 10,
   "id": "14bb27ad-8972-4044-a225-ef4ba6e7d1b5",
   "metadata": {},
   "outputs": [
    {
     "data": {
      "text/plain": [
       "16"
      ]
     },
     "execution_count": 10,
     "metadata": {},
     "output_type": "execute_result"
    }
   ],
   "source": [
    "sum([1,2,3,4,5,1])"
   ]
  }
 ],
 "metadata": {
  "kernelspec": {
   "display_name": "Python 3 (ipykernel)",
   "language": "python",
   "name": "python3"
  },
  "language_info": {
   "codemirror_mode": {
    "name": "ipython",
    "version": 3
   },
   "file_extension": ".py",
   "mimetype": "text/x-python",
   "name": "python",
   "nbconvert_exporter": "python",
   "pygments_lexer": "ipython3",
   "version": "3.9.6"
  }
 },
 "nbformat": 4,
 "nbformat_minor": 5
}
