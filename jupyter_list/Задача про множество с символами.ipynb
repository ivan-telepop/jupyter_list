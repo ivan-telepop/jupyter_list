{
 "cells": [
  {
   "cell_type": "code",
   "execution_count": 69,
   "id": "1438821b",
   "metadata": {},
   "outputs": [
    {
     "name": "stdout",
     "output_type": "stream",
     "text": [
      "('a', 2) ('a', 2)\n",
      "no ravno ('b', 2) ('a', 2)\n",
      "no ravno ('a', 2) ('b', 2)\n",
      "('b', 2) ('b', 2)\n",
      "[['repeated:', 'aabb', 'bbaa'], ['repeated:', 'aabb', 'bbaa']]\n",
      "[]\n"
     ]
    }
   ],
   "source": [
    "# Сформировать группы где общий признак группы класифицируются по количеству повторяющихся символов в строке.\n",
    "\n",
    "# Пример: Есть множество - {'abba','bbaa','aags','poss','piss'} и группы ['abba','bbaa','aags'],['poss','piss']\n",
    "\n",
    "from collections import Counter\n",
    "\n",
    "\n",
    "lst = {'aabb','bbaa'}\n",
    "\n",
    "\n",
    "counter_1 = 0\n",
    "counter_2 = 0\n",
    "grouped = []\n",
    "\n",
    "\n",
    "organised = [*lst] # Обернул в лист чтоб работать по срезу\n",
    "\n",
    "\n",
    "\n",
    "for i in range(len(organised)):\n",
    "    groups = []\n",
    "    wrk = organised\n",
    "    while len(wrk) > 1:\n",
    "        popped = wrk[0] # Deleted/poped obj for comparation УДАЛЯЕМ ПО ОДНОМУ НА КАЖДОЙ ИТЕРРАЦИИ\n",
    "        del wrk[0]\n",
    "        _analysed = sorted(Counter(popped).most_common()) # word counted letters ([('a', 2), ('b', 2)])from pop\n",
    "        for _anl in _analysed: #В слове из popped\n",
    "            for _slice in range(len(wrk)): # Заходим в оcтаток от wrk\n",
    "                word_in_list = wrk[_slice]\n",
    "                _wrk_word = sorted(Counter(wrk[_slice]).most_common())# Берем слово[_slice] из рабочего списка wrk\n",
    "                for j in _wrk_word: \n",
    "                    if j == _anl: # Сравниваем букву в слове из списка wrk c \n",
    "                        group = ['repeated:',popped,word_in_list]\n",
    "                        groups.append(group)\n",
    "                        print(j,_anl)\n",
    "                    if j != _anl:\n",
    "                        print('no ravno',j, _anl)\n",
    "    print(groups)\n",
    "\n",
    "                        \n",
    "                        \n",
    "                    \n",
    "                \n",
    "                \n",
    "\n",
    "    \n",
    "    \n",
    "\n",
    "\n",
    "        \n",
    "        "
   ]
  },
  {
   "cell_type": "code",
   "execution_count": 121,
   "id": "da95872e",
   "metadata": {},
   "outputs": [
    {
     "name": "stdout",
     "output_type": "stream",
     "text": [
      "g n i r t s e m o s\n",
      "gnirtsemos\n"
     ]
    }
   ],
   "source": [
    "some = 'somestring'\n",
    "\n",
    "print(*reversed((some)))\n",
    "print(some[::-1])\n",
    "\n",
    "\n",
    "\n",
    "\n",
    "\n",
    "# for num in range(len(temp)):\n",
    "#     result = []\n",
    "#     result.append(num)\n",
    "#     word_analysed = sorted(Counter(temp[num]).most_common()) # так получили анализ повторов в слове\n",
    "#     for one in word_analysed: # перебираем тюплы с анализом колличеством букв\n",
    "#         print(one,'Сравниваем с этой штукенцией')\n",
    "#         for x in temp:\n",
    "#             _analysed = sorted(Counter(x).most_common())\n",
    "#             print(_analysed,'__analised')\n",
    "            \n",
    "        \n",
    "\n",
    "# numed = enumerate(temp)\n",
    "\n",
    "\n",
    "# for i in range(len(numed)):\n",
    "#     counted = sorted(Counter(i[1]).most_common())\n",
    "#     print('counted word', counted)\n",
    "#     for letter in counted:\n",
    "#         print(letter)\n",
    "    "
   ]
  }
 ],
 "metadata": {
  "kernelspec": {
   "display_name": "Python 3 (ipykernel)",
   "language": "python",
   "name": "python3"
  },
  "language_info": {
   "codemirror_mode": {
    "name": "ipython",
    "version": 3
   },
   "file_extension": ".py",
   "mimetype": "text/x-python",
   "name": "python",
   "nbconvert_exporter": "python",
   "pygments_lexer": "ipython3",
   "version": "3.13.0a6"
  }
 },
 "nbformat": 4,
 "nbformat_minor": 5
}
