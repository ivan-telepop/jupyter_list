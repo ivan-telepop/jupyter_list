{
 "cells": [
  {
   "cell_type": "code",
   "execution_count": 5,
   "id": "1438821b",
   "metadata": {},
   "outputs": [
    {
     "name": "stdout",
     "output_type": "stream",
     "text": [
      "('a', 2) ('a', 2)\n",
      "no ravno ('b', 2) ('a', 2)\n",
      "no ravno ('a', 2) ('b', 2)\n",
      "('b', 2) ('b', 2)\n",
      "[['repeated:', 'bbaa', 'aabb'], ['repeated:', 'bbaa', 'aabb']]\n",
      "[]\n"
     ]
    }
   ],
   "source": [
    "# Сформировать группы где общий признак группы класифицируются по количеству повторяющихся символов в строке.\n",
    "\n",
    "# Пример: Есть множество - {'abba','bbaa','aags','poss','piss'} и группы ['abba','bbaa','aags'],['poss','piss']\n",
    "\n",
    "from collections import Counter\n",
    "\n",
    "\n",
    "lst = {'aabb','bbaa'}\n",
    "\n",
    "\n",
    "counter_1 = 0\n",
    "counter_2 = 0\n",
    "grouped = []\n",
    "\n",
    "\n",
    "organised = [*lst] # Обернул в лист чтоб работать по срезу\n",
    "\n",
    "for i in range(len(organised)):\n",
    "    groups = []\n",
    "    wrk = organised\n",
    "    while len(wrk) > 1:\n",
    "        popped = wrk[0] # Deleted/poped obj for comparation УДАЛЯЕМ ПО ОДНОМУ НА КАЖДОЙ ИТЕРРАЦИИ\n",
    "        del wrk[0]\n",
    "        _analysed = sorted(Counter(popped).most_common()) # word counted letters ([('a', 2), ('b', 2)])from pop\n",
    "        for _anl in _analysed: #В слове из popped\n",
    "            for _slice in range(len(wrk)): # Заходим в оcтаток от wrk\n",
    "                word_in_list = wrk[_slice]\n",
    "                _wrk_word = sorted(Counter(wrk[_slice]).most_common())# Берем слово[_slice] из рабочего списка wrk\n",
    "                for j in _wrk_word: \n",
    "                    if j == _anl: # Сравниваем букву в слове из списка wrk c \n",
    "                        group = ['repeated:',popped,word_in_list]\n",
    "                        groups.append(group)\n",
    "                        print(j,_anl)\n",
    "                    if j != _anl:\n",
    "                        print('no ravno',j, _anl)\n",
    "    print(groups)\n",
    "     "
   ]
  },
  {
   "cell_type": "code",
   "execution_count": 2,
   "id": "da95872e",
   "metadata": {},
   "outputs": [
    {
     "name": "stdout",
     "output_type": "stream",
     "text": [
      "g n i r t s e m o s\n",
      "gnirtsemos\n"
     ]
    }
   ],
   "source": [
    "some = 'somestring'\n",
    "\n",
    "print(*reversed((some)))\n",
    "print(some[::-1])\n"
   ]
  },
  {
   "cell_type": "code",
   "execution_count": 9,
   "id": "a79e4835-373a-48f5-84de-69396f6699ee",
   "metadata": {},
   "outputs": [
    {
     "data": {
      "text/plain": [
       "[111, '-11', '-11', '-1', '-1', '-1', '-1', '-1']"
      ]
     },
     "execution_count": 9,
     "metadata": {},
     "output_type": "execute_result"
    }
   ],
   "source": [
    "# Задача с набором еденичек:\n",
    "# У пятилетней Алисы любимое число 1 и она старается интерпритировать все положительные четные числа\n",
    "# которые знает как сумму сложения или вычитания еденичек. На самом деле много вариантов как сложить из \n",
    "# еденичек нужное число, но Алиса хочет найти самые короткие сложения или вычитания.\n",
    "# Например: 7 = 1 + 1 + 1 + 1 + 1 + 1 + 1 но чуть короче будет если 7 = 11 - 1 - 1 - 1 - 1\n",
    "# Давайте напишем функцию которая будет помогать Алисе \n",
    "# искать минимальное сложение/вычитание чисел 1 числу N\n",
    "# На вход принимаем строку число до 10 000 \n",
    "# Результат список с стрками в виде набора чисел (полож/отриц)\n",
    "# 654 даст [1111, '-111', '-111', '-111', '-111', '-11', '-1', '-1']\n",
    "# А 11 будет давать [11, '1', '1', '1']\n",
    "# Сто одинадцать, так ... [111, '-11', '-11', '-1', '-1', '-1', '-1', '-1']\n",
    "# Ну и так далее...\n",
    "    \n",
    "\n",
    "\n",
    "def start_position(value):\n",
    "    \"\"\"Эта функция нам возвращает стартовое значение\n",
    "    в виде числа от которого будет происходит отсчет.\n",
    "    либо от большего и уменьшая, либо от меньшего к прибавлять.\n",
    "    \"\"\"\n",
    "    maxima = '1' * (len(value) + 1)\n",
    "    if int(maxima) // 2 < int(value):\n",
    "        return maxima\n",
    "    else:\n",
    "        return '1' * len(value)\n",
    "        \n",
    "# Алгоритм подсчета start_position() такой: \n",
    "# брем число с колличеством символов как и входное value\n",
    "# но + один символ. Например дано 78, 111 будет то число которое нам подходит. 688 - 1111,\n",
    "# ну и так далее... Всегда число из едениц но на один символ больше.\n",
    "# Делим его пополам (без остатка), и если получившееся значение больше чем наше входное, то из этого следует\n",
    "# что нам выгоднее от большего отнимать. То есть от 111 отнимая двигаться к 78, от 1111 отнимая к 688.\n",
    "# Если поделив меньше чем входное, то от меньшего прибавляем от 11 до 54 от 111 к 554...\n",
    "\n",
    "\n",
    "\n",
    "def gather_ones(val):\n",
    "    result = []\n",
    "    starter = int(start_position(val))\n",
    "    result.append(starter)\n",
    "    if starter > int(val):\n",
    "        rest = starter - int(val)\n",
    "        while rest > 0:\n",
    "            int_times = len(str(rest))\n",
    "            ones = ('1' * int_times)\n",
    "            appender = str('-' + ones)\n",
    "            result.append(appender)\n",
    "            rest += int(appender)\n",
    "    elif starter < int(val):\n",
    "        rest = int(val) - starter\n",
    "        while rest > 0:\n",
    "            ones = ('1' * len(str(rest)))\n",
    "            if int(ones) < rest:\n",
    "                rest -= int(ones) \n",
    "                result.append(ones)\n",
    "            else:\n",
    "                ones = ('1' * len(str(rest - 1)))\n",
    "                rest -= int(ones) \n",
    "                result.append(ones)       \n",
    "    return result\n",
    "            \n",
    "            \n",
    "gather_ones('84')\n",
    "\n",
    "\n"
   ]
  },
  {
   "cell_type": "code",
   "execution_count": 22,
   "id": "74bd986a-860e-4ae4-83ec-c56202451282",
   "metadata": {},
   "outputs": [
    {
     "data": {
      "text/plain": [
       "[111, 1, 1, 1, 1, 1, 1, 1, 1, 1, 1]"
      ]
     },
     "execution_count": 22,
     "metadata": {},
     "output_type": "execute_result"
    }
   ],
   "source": [
    "# INT VERS\n",
    "\n",
    "\n",
    "def start_position(value):\n",
    "    \"\"\"Эта функция нам возвращает стартовое значение\n",
    "    в виде числа от которого будет происходит отсчет.\n",
    "    либо от большего и уменьшая, либо от меньшего к прибавлять.\n",
    "    \"\"\"\n",
    "    maxima = '1' * (len(str(value)) + 1)\n",
    "    if int(maxima) // 2 < int(value):\n",
    "        return int(maxima)\n",
    "    else:\n",
    "        return int('1' * len(str(value)))\n",
    "        \n",
    "# Алгоритм подсчета start_position() такой: \n",
    "# брем число с колличеством символов как и входное value\n",
    "# но + один символ. Например дано 78, 111 будет то число которое нам подходит. 688 - 1111,\n",
    "# ну и так далее... Всегда число из едениц но на один символ больше.\n",
    "# Делим его пополам (без остатка), и если получившееся значение больше чем наше входное, то из этого следует\n",
    "# что нам выгоднее от большего отнимать. То есть от 111 отнимая двигаться к 78, от 1111 отнимая к 688.\n",
    "# Если поделив меньше чем входное, то от меньшего прибавляем от 11 до 54 от 111 к 554...\n",
    "\n",
    "\n",
    "\n",
    "def gather_ones(val):\n",
    "    result = []\n",
    "    starter = start_position(val)\n",
    "    result.append(starter)\n",
    "    if starter > val:\n",
    "        rest = starter - val\n",
    "        while rest > 0:\n",
    "            int_times = len(str(rest))\n",
    "            ones = ('1' * int_times)\n",
    "            appender = str('-' + ones)\n",
    "            result.append(int(appender))\n",
    "            rest += int(appender)\n",
    "    elif starter < int(val):\n",
    "        rest = val - starter\n",
    "        while rest > 0:\n",
    "            ones = int('1' * len(str(rest)))\n",
    "            if ones < rest:\n",
    "                rest -= ones \n",
    "                result.append(ones)\n",
    "            else:\n",
    "                ones = int('1' * len(str(rest - 1)))\n",
    "                rest -= ones \n",
    "                result.append(ones)       \n",
    "    return result\n",
    "            \n",
    "            \n",
    "gather_ones(121)"
   ]
  },
  {
   "cell_type": "code",
   "execution_count": 3,
   "id": "88ba8822-96ac-4205-ba27-01cedfcc0211",
   "metadata": {},
   "outputs": [
    {
     "data": {
      "text/plain": [
       "5"
      ]
     },
     "execution_count": 3,
     "metadata": {},
     "output_type": "execute_result"
    }
   ],
   "source": [
    "f = range(0,10)\n",
    "\n",
    "f[5]"
   ]
  }
 ],
 "metadata": {
  "kernelspec": {
   "display_name": "Python 3 (ipykernel)",
   "language": "python",
   "name": "python3"
  },
  "language_info": {
   "codemirror_mode": {
    "name": "ipython",
    "version": 3
   },
   "file_extension": ".py",
   "mimetype": "text/x-python",
   "name": "python",
   "nbconvert_exporter": "python",
   "pygments_lexer": "ipython3",
   "version": "3.13.0a6"
  }
 },
 "nbformat": 4,
 "nbformat_minor": 5
}
