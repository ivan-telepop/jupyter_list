{
 "cells": [
  {
   "cell_type": "code",
   "execution_count": 169,
   "id": "eb6343bd",
   "metadata": {},
   "outputs": [
    {
     "name": "stdout",
     "output_type": "stream",
     "text": [
      "Collecting redis\n",
      "  Downloading redis-4.5.5-py3-none-any.whl (240 kB)\n",
      "\u001b[2K     \u001b[90m━━━━━━━━━━━━━━━━━━━━━━━━━━━━━━━━━━━━━━━\u001b[0m \u001b[32m240.3/240.3 kB\u001b[0m \u001b[31m1.5 MB/s\u001b[0m eta \u001b[36m0:00:00\u001b[0ma \u001b[36m0:00:01\u001b[0m\n",
      "\u001b[?25hCollecting async-timeout>=4.0.2\n",
      "  Using cached async_timeout-4.0.2-py3-none-any.whl (5.8 kB)\n",
      "Installing collected packages: async-timeout, redis\n",
      "Successfully installed async-timeout-4.0.2 redis-4.5.5\n",
      "\n",
      "\u001b[1m[\u001b[0m\u001b[34;49mnotice\u001b[0m\u001b[1;39;49m]\u001b[0m\u001b[39;49m A new release of pip is available: \u001b[0m\u001b[31;49m23.0.1\u001b[0m\u001b[39;49m -> \u001b[0m\u001b[32;49m23.1.2\u001b[0m\n",
      "\u001b[1m[\u001b[0m\u001b[34;49mnotice\u001b[0m\u001b[1;39;49m]\u001b[0m\u001b[39;49m To update, run: \u001b[0m\u001b[32;49mpython3.10 -m pip install --upgrade pip\u001b[0m\n"
     ]
    }
   ],
   "source": [
    "!pip install redis"
   ]
  },
  {
   "cell_type": "code",
   "execution_count": 13,
   "id": "356d6124",
   "metadata": {},
   "outputs": [
    {
     "data": {
      "text/plain": [
       "(' INNER FUNC (5, 2)', 8080, 'localhost')"
      ]
     },
     "execution_count": 13,
     "metadata": {},
     "output_type": "execute_result"
    }
   ],
   "source": [
    "# DECORATORS\n",
    "\n",
    "def connect_database(port,url):\n",
    "    def conf(insider_function):\n",
    "        \n",
    "        def wrapper(*args,**kwargs):\n",
    "            return insider_function(*args,**kwargs),port,url\n",
    "            \n",
    "        return wrapper\n",
    "    return conf\n",
    "\n",
    "\n",
    "@connect_database(port=8080,url='localhost')\n",
    "def inner(a,b):\n",
    "    return f\" INNER FUNC {a,b}\"\n",
    "\n",
    "#inner = decorator(inner) - Using decorator the same effect as this defining\n",
    "    \n",
    "inner(5,2)\n",
    "\n"
   ]
  },
  {
   "cell_type": "code",
   "execution_count": 3,
   "id": "6492b38d-8d4e-4f36-8818-3060bb985fba",
   "metadata": {},
   "outputs": [
    {
     "name": "stdout",
     "output_type": "stream",
     "text": [
      "Collecting redis\n",
      "  Using cached redis-5.1.1-py3-none-any.whl.metadata (9.1 kB)\n",
      "Using cached redis-5.1.1-py3-none-any.whl (261 kB)\n",
      "Installing collected packages: redis\n",
      "Successfully installed redis-5.1.1\n"
     ]
    }
   ],
   "source": [
    "! pip install redis"
   ]
  },
  {
   "cell_type": "code",
   "execution_count": 19,
   "id": "5d3796fa",
   "metadata": {},
   "outputs": [
    {
     "name": "stdout",
     "output_type": "stream",
     "text": [
      "(' inside args  username - VanyaGoncharov', 'testDecor', [True, False])\n"
     ]
    }
   ],
   "source": [
    "\n",
    "\n",
    "def work_decorator(name,config):\n",
    "    def _func(wrapped):\n",
    "        \n",
    "        def inner(*args,**kwargs):\n",
    "            return wrapped(*args,**kwargs),name,config\n",
    "            \n",
    "        return inner               \n",
    "    return _func\n",
    "\n",
    "@work_decorator(name='testDecor',config=[True,False])\n",
    "def set_data(data,value):\n",
    "    return f\" inside args  {data} - {value}\"\n",
    "\n",
    "\n",
    "\n",
    "print(set_data('username','VanyaGoncharov'))"
   ]
  }
 ],
 "metadata": {
  "kernelspec": {
   "display_name": "Python 3 (ipykernel)",
   "language": "python",
   "name": "python3"
  },
  "language_info": {
   "codemirror_mode": {
    "name": "ipython",
    "version": 3
   },
   "file_extension": ".py",
   "mimetype": "text/x-python",
   "name": "python",
   "nbconvert_exporter": "python",
   "pygments_lexer": "ipython3",
   "version": "3.13.0a6"
  }
 },
 "nbformat": 4,
 "nbformat_minor": 5
}
