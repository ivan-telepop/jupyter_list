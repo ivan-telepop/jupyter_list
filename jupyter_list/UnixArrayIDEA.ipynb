{
 "cells": [
  {
   "cell_type": "code",
   "execution_count": 18,
   "id": "43bb0b0b",
   "metadata": {},
   "outputs": [
    {
     "data": {
      "text/plain": [
       "index:  Objects in data 10 timestamp: 1684816623.331508 [[index:  Objects in data 10 timestamp: 1684816623.3315609 [], index:  Objects in data 10 timestamp: 1684816623.3315651 [], index:  Objects in data 10 timestamp: 1684816623.331567 [], index:  Objects in data 10 timestamp: 1684816623.331569 [], index:  Objects in data 10 timestamp: 1684816623.331572 [], index:  Objects in data 10 timestamp: 1684816623.331574 [], index:  Objects in data 10 timestamp: 1684816623.331576 [], index:  Objects in data 10 timestamp: 1684816623.331578 [], index:  Objects in data 10 timestamp: 1684816623.3315809 [], index:  Objects in data 10 timestamp: 1684816623.331583 []]]"
      ]
     },
     "execution_count": 18,
     "metadata": {},
     "output_type": "execute_result"
    }
   ],
   "source": [
    "# Trying to impliment idea of Unix Time Stamped Array\n",
    "# Идея реализации объекта - массива который при инициализации создает метки времени, \n",
    "# что по сути является id и имеет ассоциативную связь с index. Цель описать реализовать класс с подобным функционалом.\n",
    "# Вообще не то и надо переделать. Но идея классная ))\n",
    "\n",
    "\n",
    "\n",
    "import time\n",
    "\n",
    "\n",
    "class F(object):\n",
    "    def __init__(self):\n",
    "        self.a = None\n",
    "class U(object):\n",
    "    pass\n",
    "\n",
    "\n",
    "class UnixList(F,U):\n",
    "    DATA = 0\n",
    "    def __init__(self):\n",
    "        self.timestamp = str(time.time())\n",
    "        UnixList.DATA = UnixList.DATA + 1\n",
    "        self.data = []\n",
    "    def __repr__(self):\n",
    "        return f\"index: {self.index()} timestamp: {self.timestamp} {self.data}\"\n",
    "    def add(self,obj):\n",
    "        self.data.append(obj)\n",
    "    @classmethod\n",
    "    def index(cls):\n",
    "        return f\" Objects in data {cls.DATA -1}\" # Костыль надо убрать!\n",
    " \n",
    "a = UnixList()\n",
    "    \n",
    "arr = [UnixList() for one in range(10)]    \n",
    "\n",
    "a.add(arr)\n",
    "        \n",
    "a"
   ]
  },
  {
   "cell_type": "code",
   "execution_count": null,
   "id": "1c7a926b",
   "metadata": {},
   "outputs": [],
   "source": []
  }
 ],
 "metadata": {
  "kernelspec": {
   "display_name": "Python 3 (ipykernel)",
   "language": "python",
   "name": "python3"
  },
  "language_info": {
   "codemirror_mode": {
    "name": "ipython",
    "version": 3
   },
   "file_extension": ".py",
   "mimetype": "text/x-python",
   "name": "python",
   "nbconvert_exporter": "python",
   "pygments_lexer": "ipython3",
   "version": "3.10.13"
  }
 },
 "nbformat": 4,
 "nbformat_minor": 5
}
