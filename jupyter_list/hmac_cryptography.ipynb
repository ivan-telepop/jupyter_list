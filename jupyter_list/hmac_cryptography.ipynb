{
 "cells": [
  {
   "cell_type": "code",
   "execution_count": 3,
   "id": "87aded7d-b22f-4a43-a54b-7334c0eae9d7",
   "metadata": {},
   "outputs": [],
   "source": [
    "import hmac\n",
    "import hashlib"
   ]
  },
  {
   "cell_type": "code",
   "execution_count": 8,
   "id": "291954c4-487b-458e-ac0d-ebd545ffb284",
   "metadata": {},
   "outputs": [
    {
     "data": {
      "text/plain": [
       "b'\\x81\\xaaAe\\xf6\\xa7\\x0c\\xb11\\x0fk\\xb2\\x14\\x99\\x01\\xbe\\x9f\\x9e\\xe1\\xff\\x84,C:b/g^0F~\\x91'"
      ]
     },
     "execution_count": 8,
     "metadata": {},
     "output_type": "execute_result"
    }
   ],
   "source": [
    "secret = 'super'.encode()\n",
    "\n",
    "string = 'hello these small letters should be ....'.encode()\n",
    "\n",
    "signed = hmac.new(secret,string,hashlib.sha256)\n",
    "\n",
    "signed\n",
    "\n",
    "\n",
    "signed.digest()"
   ]
  }
 ],
 "metadata": {
  "kernelspec": {
   "display_name": "Python 3 (ipykernel)",
   "language": "python",
   "name": "python3"
  },
  "language_info": {
   "codemirror_mode": {
    "name": "ipython",
    "version": 3
   },
   "file_extension": ".py",
   "mimetype": "text/x-python",
   "name": "python",
   "nbconvert_exporter": "python",
   "pygments_lexer": "ipython3",
   "version": "3.9.6"
  }
 },
 "nbformat": 4,
 "nbformat_minor": 5
}
