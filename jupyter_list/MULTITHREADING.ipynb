{
 "cells": [
  {
   "cell_type": "code",
   "execution_count": 1,
   "id": "79909064-edf3-40d3-a1ba-41eab03ac851",
   "metadata": {},
   "outputs": [
    {
     "name": "stdout",
     "output_type": "stream",
     "text": [
      "Cube value is: Square valuse is:  163.84000000000003\n",
      " 77854.48300000001\n",
      "Cube value is:  146363.18300000002\n",
      "Square valuse is:  660806.4099999999\n",
      "Executed\n"
     ]
    }
   ],
   "source": [
    "import threading\n",
    "\n",
    "\n",
    "def print_cube(val):\n",
    "    calc = val * val * val\n",
    "    print(\"Cube value is: \",calc)\n",
    "\n",
    "\n",
    "def print_square(num):\n",
    "    print(\"Square valuse is: \",num * num)\n",
    "\n",
    "tr1 = threading.Thread(target=print_cube, args=(42.7,))\n",
    "tr2 = threading.Thread(target=print_square, args=(12.8,))\n",
    "tr3 = threading.Thread(target=print_cube, args=(52.7,))\n",
    "tr4 = threading.Thread(target=print_square, args=(812.9,))\n",
    "\n",
    "\n",
    "\n",
    "tr1.start()\n",
    "tr2.start()\n",
    "tr3.start()\n",
    "tr4.start()\n",
    "\n",
    "\n",
    "tr1.join()\n",
    "tr2.join()\n",
    "tr3.join()\n",
    "tr4.join()\n",
    "\n",
    "print(\"Executed\")\n",
    "\n"
   ]
  }
 ],
 "metadata": {
  "kernelspec": {
   "display_name": "Python 3 (ipykernel)",
   "language": "python",
   "name": "python3"
  },
  "language_info": {
   "codemirror_mode": {
    "name": "ipython",
    "version": 3
   },
   "file_extension": ".py",
   "mimetype": "text/x-python",
   "name": "python",
   "nbconvert_exporter": "python",
   "pygments_lexer": "ipython3",
   "version": "3.13.0a6"
  }
 },
 "nbformat": 4,
 "nbformat_minor": 5
}
