{
 "cells": [
  {
   "cell_type": "markdown",
   "id": "9d09728d-6c17-4c76-a7df-391b5d8aa035",
   "metadata": {},
   "source": [
    "DefaultDict\n",
    "\n",
    "A DefaultDict is also a sub-class to dictionary. \n",
    "\n",
    "It is used to provide some default values for the key that does not exist \n",
    "\n",
    "and never raises a KeyError."
   ]
  },
  {
   "cell_type": "code",
   "execution_count": 64,
   "id": "df7e933c-0182-46cb-b818-d7de3eb88c0c",
   "metadata": {},
   "outputs": [
    {
     "name": "stdout",
     "output_type": "stream",
     "text": [
      "Defalt Value From Callable\n",
      "\n",
      "False\n"
     ]
    }
   ],
   "source": [
    "# Defaultdict по сути тот же словарь но отличается \n",
    "# тем что при вызове несуществующего ключа будет возвращать либо результат функции \n",
    "# вместо KeyError как это делает обычный dict\n",
    "# а если передать str int list bool то вернет их...\n",
    "from collections import defaultdict\n",
    "\n",
    "\n",
    "# Callback which returns default_factory value\n",
    "def default_factory():\n",
    "    return 'Defalt Value From Callable'\n",
    "\n",
    "# DefaultDict with callback\n",
    "dd = defaultdict(default_factory)\n",
    "print(dd['x'])\n",
    "print()\n",
    "\n",
    "\n",
    "# defaultdict with any type\n",
    "ff = defaultdict(bool)\n",
    "print(ff['Not Existed Key'])\n",
    "\n"
   ]
  },
  {
   "cell_type": "code",
   "execution_count": 75,
   "id": "f620479f-74e7-447b-bf81-3b5a572d81c9",
   "metadata": {},
   "outputs": [
    {
     "name": "stdout",
     "output_type": "stream",
     "text": [
      "list values\n",
      "[('blue', [2, 4]), ('red', [1]), ('yellow', [1, 3])]\n",
      "set values\n"
     ]
    },
    {
     "data": {
      "text/plain": [
       "[('blue', {2, 4}), ('red', {1}), ('yellow', {1, 3})]"
      ]
     },
     "execution_count": 75,
     "metadata": {},
     "output_type": "execute_result"
    }
   ],
   "source": [
    "# Pretty Examples - or how to use\n",
    "\n",
    "\n",
    "# Lets suppose we have collection of repeated data\n",
    "lst = [('yellow', 1), ('blue', 2), ('yellow', 3), ('blue', 4), ('red', 1)]\n",
    "\n",
    "my_def = defaultdict(list)\n",
    "\n",
    "# Thats how we may organise these in list\n",
    "for color, value in lst:\n",
    "    my_def[color].append(value)\n",
    "\n",
    "\n",
    "# Or with set inside\n",
    "set_def = defaultdict(set)\n",
    "\n",
    "for color, value in lst:\n",
    "    set_def[color].add(value)\n",
    "\n",
    "\n",
    "print('list values')\n",
    "print(sorted(my_def.items()))\n",
    "print('set values')\n",
    "sorted(set_def.items())"
   ]
  },
  {
   "cell_type": "code",
   "execution_count": 67,
   "id": "cf8d6bd8-ed9f-4e5f-9fe6-43692969ce24",
   "metadata": {},
   "outputs": [
    {
     "data": {
      "text/plain": [
       "dict_items([('m', 1), ('i', 4), ('s', 4), ('p', 2)])"
      ]
     },
     "execution_count": 67,
     "metadata": {},
     "output_type": "execute_result"
    }
   ],
   "source": [
    "# Second one so good !\n",
    "\n",
    "wrd = 'mississippi'\n",
    "\n",
    "dn = defaultdict(int)\n",
    "\n",
    "for letter in wrd:\n",
    "    dn[letter] += 1\n",
    "\n",
    "dn.items()"
   ]
  },
  {
   "cell_type": "code",
   "execution_count": 71,
   "id": "4fa24efd-9c2b-457a-ad59-38f87a15201d",
   "metadata": {},
   "outputs": [
    {
     "name": "stdout",
     "output_type": "stream",
     "text": [
      "MISSING VALUE\n"
     ]
    }
   ],
   "source": [
    "# So cool  !!! If you need to return callback you may return lambda\n",
    "\n",
    "def val_maker(value):\n",
    "    return lambda: value\n",
    "\n",
    "my_dict = defaultdict(val_maker('MISSING VALUE'))\n",
    "\n",
    "my_dict.update(name='Ivan',age=45)\n",
    "\n",
    "print(my_dict['position'])"
   ]
  }
 ],
 "metadata": {
  "kernelspec": {
   "display_name": "Python 3 (ipykernel)",
   "language": "python",
   "name": "python3"
  },
  "language_info": {
   "codemirror_mode": {
    "name": "ipython",
    "version": 3
   },
   "file_extension": ".py",
   "mimetype": "text/x-python",
   "name": "python",
   "nbconvert_exporter": "python",
   "pygments_lexer": "ipython3",
   "version": "3.9.6"
  }
 },
 "nbformat": 4,
 "nbformat_minor": 5
}
