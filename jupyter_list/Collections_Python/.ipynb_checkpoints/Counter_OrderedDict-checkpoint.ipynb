{
 "cells": [
  {
   "cell_type": "code",
   "execution_count": null,
   "id": "7f56c930-278f-40da-b78d-80a87eabee7b",
   "metadata": {},
   "outputs": [],
   "source": [
    "# Counter - Is subclass of dict"
   ]
  },
  {
   "cell_type": "code",
   "execution_count": 6,
   "id": "a2b4167f-b6b4-4034-8ad9-1c23efe5990f",
   "metadata": {},
   "outputs": [
    {
     "name": "stdout",
     "output_type": "stream",
     "text": [
      "Counter({'A': 2, 'J': 2, 'X': 1})\n",
      "Counter({'A': 4, 'B': 2, 'K': 1})\n",
      "Counter({'C': 8, 'A': 3, 'B': 2})\n"
     ]
    }
   ],
   "source": [
    "from collections import Counter\n",
    "\n",
    "# Init with sequence of items\n",
    "print(Counter(['A','A','X','J','J']))\n",
    "\n",
    "# With dict\n",
    "print(Counter({'A':4,'B':2,'K':1}))\n",
    "\n",
    "# With keyword args\n",
    "print(Counter(A=3,B=2,C=8))"
   ]
  },
  {
   "cell_type": "code",
   "execution_count": 16,
   "id": "0ef8d32c-805c-4cf9-9ed1-b02eb736a6ba",
   "metadata": {},
   "outputs": [
    {
     "name": "stdout",
     "output_type": "stream",
     "text": [
      "('q', 2)\n",
      "('a', 3)\n",
      "('d', 5)\n",
      "('c', 6)\n",
      "simple ('a', 3) ('d', 5) ('c', 6) ('q', 22)\n",
      "('a', 10) ('b', 20) ('c', 30) ('d', 40)\n",
      "('b', 20) ('c', 30) ('d', 40) ('a', 100)\n"
     ]
    }
   ],
   "source": [
    "# OrderedDict \n",
    "from collections import OrderedDict \n",
    "\n",
    "simple = dict()\n",
    "\n",
    "simple['q'] = 2\n",
    "simple['a'] = 3\n",
    "simple['d'] = 5\n",
    "simple['c'] = 6\n",
    "\n",
    "\n",
    "for i in simple.items():\n",
    "    print(i)\n",
    "\n",
    "simple.pop('q')\n",
    "\n",
    "simple['q'] = 22\n",
    "\n",
    "print('simple', * simple.items())\n",
    "\n",
    "od = OrderedDict()\n",
    "\n",
    "od['a'] = 10\n",
    "od['b'] = 20\n",
    "od['c'] = 30\n",
    "od['d'] = 40\n",
    "print(*od.items())\n",
    "\n",
    "od.pop('a')\n",
    "\n",
    "od['a'] = 100\n",
    "\n",
    "print(*od.items())\n",
    "\n"
   ]
  },
  {
   "cell_type": "code",
   "execution_count": 23,
   "id": "0d10d096-4e7e-4a5c-b3cb-652fe2facdee",
   "metadata": {},
   "outputs": [
    {
     "data": {
      "text/plain": [
       "('a', 1)"
      ]
     },
     "execution_count": 23,
     "metadata": {},
     "output_type": "execute_result"
    }
   ],
   "source": [
    "my_dict = OrderedDict(a=1,b=2,c=3,d=4,e=5)\n",
    "\n",
    "last = my_dict.popitem(last=True)\n",
    "first = my_dict.popitem(last=False)\n",
    "last\n",
    "first"
   ]
  },
  {
   "cell_type": "code",
   "execution_count": 29,
   "id": "199e66d8-3d93-4696-a563-36c8c7df7c54",
   "metadata": {},
   "outputs": [
    {
     "data": {
      "text/plain": [
       "OrderedDict([('X', 1), ('Y', 2), ('U', 3), ('F', 4), ('T', 5)])"
      ]
     },
     "execution_count": 29,
     "metadata": {},
     "output_type": "execute_result"
    }
   ],
   "source": [
    "test_dict = OrderedDict(\n",
    "    zip([ i for i in 'XYUFT'],[x for x in (1,2,3,4,5)]))\n",
    "\n",
    "test_dict"
   ]
  }
 ],
 "metadata": {
  "kernelspec": {
   "display_name": "Python 3 (ipykernel)",
   "language": "python",
   "name": "python3"
  },
  "language_info": {
   "codemirror_mode": {
    "name": "ipython",
    "version": 3
   },
   "file_extension": ".py",
   "mimetype": "text/x-python",
   "name": "python",
   "nbconvert_exporter": "python",
   "pygments_lexer": "ipython3",
   "version": "3.13.0a6"
  }
 },
 "nbformat": 4,
 "nbformat_minor": 5
}
