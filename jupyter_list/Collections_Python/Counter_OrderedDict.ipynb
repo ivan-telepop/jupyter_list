{
 "cells": [
  {
   "cell_type": "code",
   "execution_count": null,
   "id": "7f56c930-278f-40da-b78d-80a87eabee7b",
   "metadata": {},
   "outputs": [],
   "source": [
    "# Counter - Is subclass of dict"
   ]
  },
  {
   "cell_type": "code",
   "execution_count": 6,
   "id": "a2b4167f-b6b4-4034-8ad9-1c23efe5990f",
   "metadata": {},
   "outputs": [
    {
     "name": "stdout",
     "output_type": "stream",
     "text": [
      "Counter({'A': 2, 'J': 2, 'X': 1})\n",
      "Counter({'A': 4, 'B': 2, 'K': 1})\n",
      "Counter({'C': 8, 'A': 3, 'B': 2})\n"
     ]
    }
   ],
   "source": [
    "from collections import Counter\n",
    "\n",
    "# Init with sequence of items\n",
    "print(Counter(['A','A','X','J','J']))\n",
    "\n",
    "# With dict\n",
    "print(Counter({'A':4,'B':2,'K':1}))\n",
    "\n",
    "# With keyword args\n",
    "print(Counter(A=3,B=2,C=8))"
   ]
  },
  {
   "cell_type": "markdown",
   "id": "7b333be6-b2ed-4ffa-af00-66b3d7dfc734",
   "metadata": {},
   "source": [
    "OrderedDict - Наследуется от обычного словаря dict\n",
    "Имеет ряд приемуществ или навороченый дикт\n",
    "Сохраняет порядок пар\n",
    "Имеет методы и интерфейсы управления удалением и перемещение пар\n",
    "\n",
    "Time Complexity:\n",
    "\n",
    "Get item(Key): O(1)\n",
    "\n",
    "\n",
    "Set item(key, value): O(1)\n",
    "\n",
    "\n",
    "Delete item(key): O(n)\n",
    "\n",
    "\n",
    "Iteration: O(n)"
   ]
  },
  {
   "cell_type": "code",
   "execution_count": 16,
   "id": "0ef8d32c-805c-4cf9-9ed1-b02eb736a6ba",
   "metadata": {},
   "outputs": [
    {
     "name": "stdout",
     "output_type": "stream",
     "text": [
      "('q', 2)\n",
      "('a', 3)\n",
      "('d', 5)\n",
      "('c', 6)\n",
      "simple ('a', 3) ('d', 5) ('c', 6) ('q', 22)\n",
      "('a', 10) ('b', 20) ('c', 30) ('d', 40)\n",
      "('b', 20) ('c', 30) ('d', 40) ('a', 100)\n"
     ]
    }
   ],
   "source": [
    "# OrderedDict \n",
    "\n",
    "# OrderedDict - Наследуется от обычного словаря dict \n",
    "# Имеет ряд приемуществ или навороченый дикт \n",
    "# Сохраняет порядок пар \n",
    "# Имеет методы и интерфейсы управления удалением и перемещение пар\n",
    "\n",
    "\n",
    "from collections import OrderedDict \n",
    "\n",
    "simple = dict()\n",
    "\n",
    "simple['q'] = 2\n",
    "simple['a'] = 3\n",
    "simple['d'] = 5\n",
    "simple['c'] = 6\n",
    "\n",
    "\n",
    "for i in simple.items():\n",
    "    print(i)\n",
    "\n",
    "simple.pop('q')\n",
    "\n",
    "simple['q'] = 22\n",
    "\n",
    "print('simple', * simple.items())\n",
    "\n",
    "od = OrderedDict()\n",
    "\n",
    "od['a'] = 10\n",
    "od['b'] = 20\n",
    "od['c'] = 30\n",
    "od['d'] = 40\n",
    "print(*od.items())\n",
    "\n",
    "od.pop('a')\n",
    "\n",
    "od['a'] = 100\n",
    "\n",
    "print(*od.items())\n",
    "\n"
   ]
  },
  {
   "cell_type": "code",
   "execution_count": 44,
   "id": "0d10d096-4e7e-4a5c-b3cb-652fe2facdee",
   "metadata": {},
   "outputs": [
    {
     "name": "stdout",
     "output_type": "stream",
     "text": [
      "('e', 5) Last True\n",
      "('a', 1) Last False\n"
     ]
    }
   ],
   "source": [
    "# The standard pop method which can be managed by last=True/False parametre\n",
    "# \"last\" -  param makes available choose where to pop value \n",
    "# last=True - in the end of dict \n",
    "# last=False - in the beggening of dict\n",
    "my_dict = OrderedDict(a=1,b=2,c=3,d=4,e=5)\n",
    "\n",
    "last = my_dict.popitem(last=True) # POP LAST\n",
    "first = my_dict.popitem(last=False) # POP NOT LAST\n",
    "print(last,\"Last True\")\n",
    "print(first,\"Last False\")"
   ]
  },
  {
   "cell_type": "code",
   "execution_count": 36,
   "id": "199e66d8-3d93-4696-a563-36c8c7df7c54",
   "metadata": {},
   "outputs": [
    {
     "name": "stdout",
     "output_type": "stream",
     "text": [
      "('T', 5) ('X', 1) ('Y', 2) ('U', 3) ('F', 4)\n"
     ]
    }
   ],
   "source": [
    "test_dict = OrderedDict(\n",
    "    zip([ i for i in 'XYUFT'],\n",
    "        [x for x in (1,2,3,4,5)]\n",
    "       )\n",
    ")\n",
    "\n",
    "\n",
    "test_dict.move_to_end('T',last=False)\n",
    "\n",
    "\n",
    "print(*test_dict.items())"
   ]
  },
  {
   "cell_type": "code",
   "execution_count": 2,
   "id": "a59ec85e-16f5-4fa1-b7a2-b74ad54212d2",
   "metadata": {},
   "outputs": [
    {
     "data": {
      "text/plain": [
       "Counter({'b': 'b', 'a': 'a'})"
      ]
     },
     "execution_count": 2,
     "metadata": {},
     "output_type": "execute_result"
    }
   ],
   "source": [
    "from collections import Counter\n",
    "\n",
    "\n",
    "cnt = Counter(a='a',b='b')\n",
    "\n",
    "cnt"
   ]
  },
  {
   "cell_type": "code",
   "execution_count": 9,
   "id": "5c3c00e2-0dfb-44f9-8360-3c952b6ec2e1",
   "metadata": {},
   "outputs": [
    {
     "data": {
      "text/plain": [
       "collections.Counter"
      ]
     },
     "execution_count": 9,
     "metadata": {},
     "output_type": "execute_result"
    }
   ],
   "source": [
    "st = 'hello Again hello'\n",
    "\n",
    "type(Counter(st.lower().split()))"
   ]
  }
 ],
 "metadata": {
  "kernelspec": {
   "display_name": "Python 3 (ipykernel)",
   "language": "python",
   "name": "python3"
  },
  "language_info": {
   "codemirror_mode": {
    "name": "ipython",
    "version": 3
   },
   "file_extension": ".py",
   "mimetype": "text/x-python",
   "name": "python",
   "nbconvert_exporter": "python",
   "pygments_lexer": "ipython3",
   "version": "3.9.6"
  }
 },
 "nbformat": 4,
 "nbformat_minor": 5
}
