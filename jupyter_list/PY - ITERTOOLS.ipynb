{
 "cells": [
  {
   "cell_type": "markdown",
   "id": "34cd662b",
   "metadata": {},
   "source": [
    "# PYTHON ITERTOOLS"
   ]
  },
  {
   "cell_type": "code",
   "execution_count": 2,
   "id": "8606ca83",
   "metadata": {},
   "outputs": [
    {
     "name": "stdout",
     "output_type": "stream",
     "text": [
      "8\n",
      "9\n",
      "10\n",
      "11\n",
      "12\n",
      "13\n",
      "14\n",
      "15\n",
      "16\n",
      "17\n",
      "18\n",
      "19\n"
     ]
    }
   ],
   "source": [
    "from itertools import count # COUNT\n",
    "\n",
    "val = int('8') # COUNTER VALUE\n",
    "\n",
    "for i in count(val): # COUNT IS SIMPLE COUNTER\n",
    "    if i > 19:\n",
    "        break\n",
    "    else:\n",
    "        print(i)\n",
    "        "
   ]
  },
  {
   "cell_type": "code",
   "execution_count": 9,
   "id": "04b2d1b8",
   "metadata": {},
   "outputs": [
    {
     "name": "stdout",
     "output_type": "stream",
     "text": [
      "a\n",
      "b\n",
      "c\n",
      "d\n",
      "e\n",
      "a\n",
      "b\n",
      "c\n",
      "d\n",
      "e\n",
      "a\n",
      "b\n",
      "c\n",
      "d\n",
      "e\n",
      "a\n",
      "b\n",
      "c\n",
      "d\n",
      "e\n",
      "a\n",
      "b\n",
      "c\n",
      "d\n",
      "e\n",
      "a\n",
      "b\n",
      "c\n",
      "d\n",
      "e\n",
      "a\n",
      "b\n",
      "c\n",
      "d\n",
      "e\n",
      "a\n",
      "b\n",
      "c\n",
      "d\n",
      "e\n",
      "a\n",
      "b\n",
      "c\n",
      "d\n",
      "e\n",
      "a\n",
      "b\n",
      "c\n",
      "d\n",
      "e\n",
      "a\n",
      "b\n",
      "c\n",
      "d\n",
      "e\n",
      "a\n",
      "b\n",
      "c\n",
      "d\n",
      "e\n",
      "a\n",
      "b\n",
      "c\n",
      "d\n",
      "e\n",
      "a\n",
      "b\n",
      "c\n",
      "d\n",
      "e\n",
      "a\n",
      "b\n",
      "c\n",
      "d\n",
      "e\n",
      "a\n",
      "b\n",
      "c\n",
      "d\n",
      "e\n",
      "a\n",
      "b\n",
      "c\n",
      "d\n",
      "e\n",
      "a\n",
      "b\n",
      "c\n",
      "d\n",
      "e\n",
      "a\n",
      "b\n",
      "c\n",
      "d\n",
      "e\n",
      "a\n",
      "b\n",
      "c\n",
      "d\n",
      "e\n",
      "a\n"
     ]
    }
   ],
   "source": [
    "# ROUND ROBIN\n",
    "from itertools import cycle\n",
    "\n",
    "for x,y in enumerate(cycle('abcde')):\n",
    "    if x > 100:\n",
    "        break\n",
    "    print(y)"
   ]
  },
  {
   "cell_type": "code",
   "execution_count": 4,
   "id": "9e781145",
   "metadata": {},
   "outputs": [
    {
     "name": "stdout",
     "output_type": "stream",
     "text": [
      "zero\n",
      "one\n",
      "two\n",
      "three\n",
      "four\n",
      "five\n"
     ]
    }
   ],
   "source": [
    "from itertools import cycle\n",
    "\n",
    "objects = ['zero','one','two','three','four','five','six','seven']\n",
    "iterator = cycle(objects)\n",
    "\n",
    "\n",
    "for one in range(6):\n",
    "    print(next(iterator))\n",
    "    \n",
    "    "
   ]
  },
  {
   "cell_type": "code",
   "execution_count": 11,
   "id": "74e3f059",
   "metadata": {},
   "outputs": [
    {
     "name": "stdout",
     "output_type": "stream",
     "text": [
      "1\n",
      "2\n",
      "3\n",
      "4\n",
      "5\n",
      "1\n",
      "2\n",
      "3\n",
      "4\n",
      "5\n",
      "1\n",
      "2\n",
      "3\n",
      "4\n",
      "5\n",
      "1\n",
      "2\n",
      "3\n",
      "4\n",
      "5\n",
      "1\n",
      "2\n",
      "3\n",
      "4\n",
      "5\n"
     ]
    }
   ],
   "source": [
    "from itertools import repeat\n",
    "\n",
    "items = [1,2,3,4,5]\n",
    "\n",
    "for items_as_list in repeat(items,5): \n",
    "# Repeat - obj makes infinity repeatible iterator| (5) - repeat times\n",
    "    counter = 0\n",
    "    for i in items_as_list:\n",
    "        counter += 1\n",
    "        print(i)\n",
    "        "
   ]
  },
  {
   "cell_type": "code",
   "execution_count": 3,
   "id": "bbd2d1ce",
   "metadata": {},
   "outputs": [
    {
     "data": {
      "text/plain": [
       "[0, 1, 3, 6, 10, 15, 21]"
      ]
     },
     "execution_count": 3,
     "metadata": {},
     "output_type": "execute_result"
    }
   ],
   "source": [
    "from itertools import accumulate\n",
    "# LOGIC IS - ...[0 + 1 = 1],[1 + 2 = 3]... Accumulates sum of integers\n",
    "\n",
    "ff = list(accumulate(range(7)))\n",
    "ff"
   ]
  },
  {
   "cell_type": "code",
   "execution_count": 15,
   "id": "779c7778",
   "metadata": {},
   "outputs": [
    {
     "ename": "NameError",
     "evalue": "name 'operator' is not defined",
     "output_type": "error",
     "traceback": [
      "\u001b[0;31m---------------------------------------------------------------------------\u001b[0m",
      "\u001b[0;31mNameError\u001b[0m                                 Traceback (most recent call last)",
      "Cell \u001b[0;32mIn[15], line 4\u001b[0m\n\u001b[1;32m      2\u001b[0m \u001b[38;5;28;01mimport\u001b[39;00m \u001b[38;5;21;01mitertools\u001b[39;00m\n\u001b[1;32m      3\u001b[0m data \u001b[38;5;241m=\u001b[39m [\u001b[38;5;241m-\u001b[39m\u001b[38;5;241m1\u001b[39m,\u001b[38;5;241m2\u001b[39m,\u001b[38;5;241m3\u001b[39m,\u001b[38;5;241m4\u001b[39m,\u001b[38;5;241m5\u001b[39m,\u001b[38;5;241m6\u001b[39m,\u001b[38;5;241m7\u001b[39m]\n\u001b[0;32m----> 4\u001b[0m \u001b[38;5;28mlist\u001b[39m(itertools\u001b[38;5;241m.\u001b[39maccumulate(data,\u001b[43moperator\u001b[49m\u001b[38;5;241m.\u001b[39mmul,initial\u001b[38;5;241m=\u001b[39m\u001b[38;5;241m5\u001b[39m))\n\u001b[1;32m      5\u001b[0m \u001b[38;5;66;03m# initial > 5x1 > 5x2 > 10x3 > 30x4 > 120x5 > 600x6 > 3600x7...\u001b[39;00m\n",
      "\u001b[0;31mNameError\u001b[0m: name 'operator' is not defined"
     ]
    }
   ],
   "source": [
    "# WITH OPERATOR.MUL\n",
    "import itertools\n",
    "data = [-1,2,3,4,5,6,7]\n",
    "list(itertools.accumulate(data,operator.mul,initial=5))\n",
    "# initial > 5x1 > 5x2 > 10x3 > 30x4 > 120x5 > 600x6 > 3600x7..."
   ]
  },
  {
   "cell_type": "code",
   "execution_count": 19,
   "id": "b4e7b916",
   "metadata": {},
   "outputs": [
    {
     "data": {
      "text/plain": [
       "[5, 5, 6, 8, 11, 15, 20, 26, 33]"
      ]
     },
     "execution_count": 19,
     "metadata": {},
     "output_type": "execute_result"
    }
   ],
   "source": [
    "# WITH OPERATOR.ADD\n",
    "import itertools\n",
    "import operator\n",
    "list(itertools.accumulate(range(0,8),operator.add,initial=5))"
   ]
  },
  {
   "cell_type": "code",
   "execution_count": 83,
   "id": "8b1baaf3",
   "metadata": {},
   "outputs": [
    {
     "data": {
      "text/plain": [
       "[1000, 950, 910, 880, 860, 850]"
      ]
     },
     "execution_count": 83,
     "metadata": {},
     "output_type": "execute_result"
    }
   ],
   "source": [
    "# PRIMITIVE VARIANT\n",
    "payments = {\n",
    "    'jan':-50,\n",
    "    'feb':-40,\n",
    "    'march':-30,\n",
    "    'april':-20,\n",
    "    'may': -10,\n",
    "}\n",
    "debth = 1000\n",
    "summary = list(payments.values())\n",
    "summary.insert(0,debth)\n",
    "summary\n",
    "\n",
    "# - Initial >> minus50 >> minus50 >> minus50....\n",
    "list(accumulate(summary))\n"
   ]
  },
  {
   "cell_type": "code",
   "execution_count": null,
   "id": "1f014b0c",
   "metadata": {},
   "outputs": [],
   "source": [
    "#. https://pypi.org/project/more-itertools/  - MORE ITERTOOLS\n"
   ]
  },
  {
   "cell_type": "code",
   "execution_count": 13,
   "id": "ce9e217e",
   "metadata": {},
   "outputs": [
    {
     "data": {
      "text/plain": [
       "[[1, 2, 3], [4, 5, 6], [7, 8, 9]]"
      ]
     },
     "execution_count": 13,
     "metadata": {},
     "output_type": "execute_result"
    }
   ],
   "source": [
    "# CHUNKED - which makes chuncks like this - [[1, 2, 3], [4, 5, 6], [7, 8, 9]]\n",
    "from more_itertools import chunked\n",
    "iterable = [1,2,3,4,5,6,7,8,9]\n",
    "list(chunked(iterable,3))"
   ]
  },
  {
   "cell_type": "code",
   "execution_count": 3,
   "id": "bd11358b",
   "metadata": {},
   "outputs": [
    {
     "ename": "NameError",
     "evalue": "name 'operator' is not defined",
     "output_type": "error",
     "traceback": [
      "\u001b[0;31m---------------------------------------------------------------------------\u001b[0m",
      "\u001b[0;31mNameError\u001b[0m                                 Traceback (most recent call last)",
      "Cell \u001b[0;32mIn[3], line 3\u001b[0m\n\u001b[1;32m      1\u001b[0m \u001b[38;5;28;01mimport\u001b[39;00m \u001b[38;5;21;01mitertools\u001b[39;00m\n\u001b[1;32m      2\u001b[0m data \u001b[38;5;241m=\u001b[39m [\u001b[38;5;124m\"\u001b[39m\u001b[38;5;124mB:-1\u001b[39m\u001b[38;5;124m\"\u001b[39m, \u001b[38;5;124m\"\u001b[39m\u001b[38;5;124mA:1\u001b[39m\u001b[38;5;124m\"\u001b[39m, \u001b[38;5;124m\"\u001b[39m\u001b[38;5;124mB:3\u001b[39m\u001b[38;5;124m\"\u001b[39m, \u001b[38;5;124m\"\u001b[39m\u001b[38;5;124mA:5\u001b[39m\u001b[38;5;124m\"\u001b[39m]\n\u001b[0;32m----> 3\u001b[0m fx \u001b[38;5;241m=\u001b[39m \u001b[38;5;28mlist\u001b[39m(itertools\u001b[38;5;241m.\u001b[39maccumulate(data),\u001b[43moperator\u001b[49m\u001b[38;5;241m.\u001b[39madd)\n\u001b[1;32m      4\u001b[0m fx\n",
      "\u001b[0;31mNameError\u001b[0m: name 'operator' is not defined"
     ]
    }
   ],
   "source": [
    "\n",
    "import itertools\n",
    "data = [\"B:-1\", \"A:1\", \"B:3\", \"A:5\"]\n",
    "fx = list(itertools.accumulate(data),operator.add)\n",
    "fx"
   ]
  },
  {
   "cell_type": "code",
   "execution_count": 4,
   "id": "67af3c4f",
   "metadata": {},
   "outputs": [
    {
     "name": "stdout",
     "output_type": "stream",
     "text": [
      "hello hello hello hello hello\n",
      "('I', 'I') ('I', 'B') ('B', 'I') ('B', 'B')\n"
     ]
    }
   ],
   "source": [
    "import itertools\n",
    "\n",
    "ff = itertools.repeat('hello',5)\n",
    "print(*ff)\n",
    "\n",
    "\n",
    "gg = itertools.product('IB',repeat=2)\n",
    "print(*gg)"
   ]
  }
 ],
 "metadata": {
  "kernelspec": {
   "display_name": "Python 3 (ipykernel)",
   "language": "python",
   "name": "python3"
  },
  "language_info": {
   "codemirror_mode": {
    "name": "ipython",
    "version": 3
   },
   "file_extension": ".py",
   "mimetype": "text/x-python",
   "name": "python",
   "nbconvert_exporter": "python",
   "pygments_lexer": "ipython3",
   "version": "3.12.4"
  }
 },
 "nbformat": 4,
 "nbformat_minor": 5
}
