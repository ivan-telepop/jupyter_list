{
 "cells": [
  {
   "cell_type": "code",
   "execution_count": null,
   "id": "37736516-e7c9-4846-bdd2-36156f848d9b",
   "metadata": {},
   "outputs": [],
   "source": [
    "#https://docs.python.org/3/library/typing.html\n",
    "#"
   ]
  },
  {
   "cell_type": "code",
   "execution_count": 27,
   "id": "ce350e45-9c4c-49c6-bced-1b212e443c87",
   "metadata": {},
   "outputs": [
    {
     "data": {
      "text/plain": [
       "'On the moon, you would weigh 12.782 kilograms.'"
      ]
     },
     "execution_count": 27,
     "metadata": {},
     "output_type": "execute_result"
    }
   ],
   "source": [
    "# Dude you ought to do typing such way in the function params. It looks well also works well !\n",
    "def moon_weight(earth_weight: float) -> str:\n",
    "    return f'On the moon, you would weigh {earth_weight * 0.166} kilograms.'\n",
    "\n",
    "\n",
    "moon_weight(77)"
   ]
  },
  {
   "cell_type": "code",
   "execution_count": null,
   "id": "1074f695-f012-4541-9540-3457f6fb3be6",
   "metadata": {},
   "outputs": [],
   "source": [
    "# Type hinting cheet-sheet\n",
    "\n",
    "\n",
    "* ОНО тут !\n",
    "https://mypy.readthedocs.io/en/stable/cheat_sheet_py3.html\n",
    "\n",
    "\n",
    "When you’re puzzled or when things are complicated\n",
    "from typing import Union, Any, Optional, TYPE_CHECKING, cast\n",
    "\n",
    "# To find out what type mypy infers for an expression anywhere in\n",
    "# your program, wrap it in reveal_type().  Mypy will print an error\n",
    "# message with the type; remove it again before running the code.\n",
    "reveal_type(1)  # Revealed type is \"builtins.int\"\n",
    "\n",
    "# If you initialize a variable with an empty container or \"None\"\n",
    "# you may have to help mypy a bit by providing an explicit type annotation\n",
    "x: list[str] = []\n",
    "x: Optional[str] = None\n",
    "\n",
    "DO IT !!!"
   ]
  },
  {
   "cell_type": "code",
   "execution_count": 25,
   "id": "f8d603f6-b0e5-492c-af38-dc3030636164",
   "metadata": {},
   "outputs": [
    {
     "name": "stdout",
     "output_type": "stream",
     "text": [
      "False\n"
     ]
    }
   ],
   "source": [
    "from typing import Callable, Iterator, Union, Optional\n",
    "\n",
    "# This is how you annotate a callable (function) value\n",
    "x: Callable[[int, float], float] = f\n",
    "def register(callback: Callable[[str], int]) -> None: ...\n",
    "\n",
    "# A generator function that yields ints is secretly just a function that\n",
    "# returns an iterator of ints, so that's how we annotate it\n",
    "def gen(n: int) -> Iterator[int]:\n",
    "    i = 0\n",
    "    while i < n:\n",
    "        yield i\n",
    "        i += 1\n",
    "\n"
   ]
  },
  {
   "cell_type": "code",
   "execution_count": null,
   "id": "10146c59-e762-4de5-9e18-fef4ae403f4c",
   "metadata": {},
   "outputs": [],
   "source": [
    "# On Python 3.8 and earlier, the name of the collection type is\n",
    "# capitalized, and the type is imported from the 'typing' module\n",
    "from typing import List, Set, Dict, Tuple\n",
    "x: List[int] = [1]\n",
    "x: Set[int] = {6, 7}\n",
    "x: Dict[str, float] = {\"field\": 2.0}\n",
    "x: Tuple[int, str, float] = (3, \"yes\", 7.5)\n",
    "x: Tuple[int, ...] = (1, 2, 3)"
   ]
  }
 ],
 "metadata": {
  "kernelspec": {
   "display_name": "Python 3 (ipykernel)",
   "language": "python",
   "name": "python3"
  },
  "language_info": {
   "codemirror_mode": {
    "name": "ipython",
    "version": 3
   },
   "file_extension": ".py",
   "mimetype": "text/x-python",
   "name": "python",
   "nbconvert_exporter": "python",
   "pygments_lexer": "ipython3",
   "version": "3.9.6"
  }
 },
 "nbformat": 4,
 "nbformat_minor": 5
}
