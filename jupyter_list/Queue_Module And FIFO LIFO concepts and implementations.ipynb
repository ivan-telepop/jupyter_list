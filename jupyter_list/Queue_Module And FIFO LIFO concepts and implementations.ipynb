{
 "cells": [
  {
   "cell_type": "code",
   "execution_count": null,
   "id": "8efb4222",
   "metadata": {},
   "outputs": [],
   "source": [
    "#https://docs-python.ru/standart-library/modul-queue-python/"
   ]
  },
  {
   "cell_type": "code",
   "execution_count": 22,
   "id": "08e7389c",
   "metadata": {},
   "outputs": [
    {
     "name": "stdout",
     "output_type": "stream",
     "text": [
      "Queue is empty:  True\n",
      "Queue is empty:  False\n",
      "{'queue_data_0': 0}\n",
      "Queue is empty:  False\n",
      "{'queue_data_1': 1}\n",
      "Queue is empty:  False\n",
      "{'queue_data_2': 2}\n",
      "Queue is empty:  False\n",
      "{'queue_data_3': 3}\n",
      "Queue is empty:  False\n",
      "{'queue_data_4': 4}\n",
      "Queue is empty:  False\n",
      "{'queue_data_5': 5}\n",
      "Queue is empty:  False\n",
      "{'queue_data_6': 6}\n",
      "Queue is empty:  False\n",
      "{'queue_data_7': 7}\n",
      "Queue is empty:  False\n",
      "{'queue_data_8': 8}\n",
      "Queue is empty:  False\n",
      "{'queue_data_9': 9}\n"
     ]
    }
   ],
   "source": [
    "import queue as q\n",
    "\n",
    "qu = q.Queue()\n",
    "print(\"Queue is empty: \" ,qu.empty()) # True/false\n",
    "\n",
    "\n",
    "\n",
    "for i in range(10):\n",
    "    obj = {f\"queue_data_{i}\": i}\n",
    "    qu.put(obj)\n",
    "    \n",
    "while not qu.empty():\n",
    "    \n",
    "    print(qu.get())\n",
    "\n",
    "\n"
   ]
  },
  {
   "cell_type": "code",
   "execution_count": 24,
   "id": "30dbd3d1-e459-436a-9d24-a43bb554f2b2",
   "metadata": {},
   "outputs": [
    {
     "name": "stdout",
     "output_type": "stream",
     "text": [
      "LIFO Queue is empty:  True\n"
     ]
    }
   ],
   "source": [
    "lq = q.LifoQueue()\n",
    "\n",
    "print(\"LIFO Queue is empty: \" ,lq.empty()) # True/false"
   ]
  }
 ],
 "metadata": {
  "kernelspec": {
   "display_name": "Python 3 (ipykernel)",
   "language": "python",
   "name": "python3"
  },
  "language_info": {
   "codemirror_mode": {
    "name": "ipython",
    "version": 3
   },
   "file_extension": ".py",
   "mimetype": "text/x-python",
   "name": "python",
   "nbconvert_exporter": "python",
   "pygments_lexer": "ipython3",
   "version": "3.13.0a6"
  }
 },
 "nbformat": 4,
 "nbformat_minor": 5
}
