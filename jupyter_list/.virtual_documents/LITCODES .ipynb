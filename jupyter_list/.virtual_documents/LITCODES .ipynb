


# Given the head of a linked list, return the node where the cycle begins. If there is no cycle, return null.

# There is a cycle in a linked list if there is some node in the list that can be reached again by continuously following the next pointer. Internally, pos is used to denote the index of the node that tail's next pointer is connected to (0-indexed). It is -1 if there is no cycle. Note that pos is not passed as a parameter.

# Do not modify the linked list.



class Solution:
    def has_cycle(self, head):
        if not head:
            return False
        slow = fast = head
        while fast.next and fast.next.next:
            
            fast = fast.next.next
            slow = slow.next
            if fast = slow :
                return True
        return False
    

            
        


lst = [1,2,3,4,5,6,7,7,8]

for one in lst:
    left = (one -2)
    centr = one
    right = (one +1)
    
    print("left:",left,"centr:", centr,"right:",right)


# СВЯЗАННЫЙ СПИСОК

class LinkedList:
    def __init__(self):
        self.head = None
    def __repr__(self):
        return f"head is:{self.head}"
    
    
class Node:
    TOTAL_NODES = 0
    def __init__(self,centr):
        Node.TOTAL_NODES = Node.TOTAL_NODES + 1
        self.centr = centr
        self.next = None
    def __repr__(self):
        return f"centr:{self.centr} | next: >>{self.next} "
    @classmethod
    def created_nodes(cls):                         
        return f"Created Nodes:  {cls.TOTAL_NODES}"
        
    
    
init_list = LinkedList()
temp_node = Node(0)

init_list.head = temp_node

for i in range(1,110):
    temp_node.next = Node(i)
    temp_node = temp_node.next
    if temp_node.next == None:
        temp_node.next = 'The End!'


  
init_list.head.created_nodes()


# Definition for singly-linked list.
class ListNode(object):
    def __init__(self, cnt=0, nxt=None):
        self.cnt = cnt
        self.next = nxt
        
class Solution(object):
    def reverseList(self, head):
        if not head:
            return head
        temp = head.nxt
        tail = ListNode(cnt=head.cnt)
        while temp.nxt:
            temp = temp.nxt
            tail = ListNode(cnt=temp.cnt,nxt=tail)
            return tail
        

        


# Stack 
class Stack:
   def __init__(self):
      self.stack = []
   def add(self, dataval):
      if dataval not in self.stack:
         self.stack.append(dataval)
         return True
      else:
         return False
   def latest(self):     
         return self.stack[-1]
   def remove(self):
       if len(self.stack) <= 0:
          return ("No element in the Stack")
       else:
          return self.stack.pop()
   def length(self):
       return len(self.stack)

AStack = Stack()
AStack.add("One")
AStack.add("Two")
AStack.add("Three")
AStack.add("Four")
AStack.add("Five")
AStack.add("Six")
AStack.latest()
AStack.remove()
AStack.__dict__
AStack.remove()
AStack.__dict__
AStack.remove()
AStack.__dict__
AStack.length()


# Пример -  рекурсия в бинарном поиске
def binar_search(lst, start, end, val):
   if (end < start):
      return None
   else:
      midval = start + ((end - start) // 2) #  
# Compare the search item with middle most value
   if lst[midval] > val: # Если центр списка больше чем то что ищем
      return binar_search(lst, start, midval-1,val) # Сместились назад на -1 и возвращаем val
   elif lst[midval] < val: # Если середина меньше чем то что ищем 
      return binar_search(lst, midval+1, end, val) #Возвращаем результат функции и +1 к середине
   else:
      return midval
lst = [8,11,24,56,88,131]
print(binar_search(lst, 0, 5, 24))
print(binar_search(lst, 0, 5, 51))





# F A C T O R I A L - RECURSION
def fact(n):
    if n <= 0:
        return 1
    else:
        return n * fact(n -1)
    
fact(8)


# FACTORIAL NATIVE CODE
 
def fact(num):
    num = num
    fact = 1
    for i in range(1, num+1):
        fact = fact * i
    return fact

print(fact(23))


# Согласно правилу арифметической прогрессии 
# Всякий член арифметической прогрессии вырази́м через любую пару других членов.
# -- Длина массива с элементами, умноженная на (длинну массива + 1) // 2 
# и отнять сумму всех чисел смассива - результат будет пропущенный элемент в массиве.

def missed(mass):
    n = len(mass)
    return n * (n + 1) // 2 - sum(mass)

print(missed([0,2,3]))



import itertools

s1 = [1,2,3]
s2 = [4,5,6]

f = list(itertools.chain(s1,s2))
f


# https://www.codewars.com/kata/5cb7baa989b1c50014a53333   

# https://pythonworld.ru/numpy/2.html

import numpy as np
#  1)    left-to-right    (across)
#     2)    top-to-bottom    (down)
#     3)    bottom-to-top    (up)
#     4)    right-to-left    (reverse)

# def sator_square_checker(word: str):
#     vert = len(word)
#     hor = len(word)
#     square = np.arange(len(word)).reshape(vert, hor)


word = 's o m e w o r d'


