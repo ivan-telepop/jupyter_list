# K R A S O T A

wrd = 'palindrome'
wrd[::-1]

pldr = lambda res: res == res[::-1]
pldr('arora')


from datetime import datetime

_time = datetime.now()

NOW_TIME = f"{_time.hour}:{_time.minute}"
    
print("Current time is: ", NOW_TIME)  # Время сейчас - текущее время.

# Задача. Написать функцию которая расчитывает угол между часовой и минутной стрелкой.
# В качестве аргумента передаем время в 12 часовом формате / строка типа ('9:45').

def get_angle(curr_time):
    hh = 360 / 12 # 30c in one hour - расчет градусов в часе
    mm = 360 / 60 # 6c in one minute - расчет градусов в минуте
    hours,minutes = curr_time.split(':') # Разбиваем строку на два сегмента ЧАСЫ/МИНУТЫ
    h_point = hh * int(hours) 
    m_point = mm * int(minutes)
    #     print('Minutes Pointer on C∘ :', m_point)
    #     print("Hours pointer on C∘ :", h_point)
    result = 360 - (h_point - m_point) if (h_point > m_point) else 360 - (m_point - h_point)
    return f"The Value Between Two Arrows are : {result} C∘"

print(get_angle('2:30'))


student_tuples = [
        ('john', 'A', 1,'Moscow'),
        ('jane', 'B', 2,'Alaska'),
        ('dave', 'C', 3,'China'),
        ('paul','D',4,'Zimbwabwe'),
    ]
sorted(student_tuples, key=lambda student: student[2])   # сортируем по возрасту



from collections import namedtuple

Person = namedtuple('Person',['name','age','adress'])
one = Person('Vano',43,'Tbilisi')
two = Person('Jorik',100,'Mahachkala')
three = Person('Gurgen',65,'Erevan')
four = Person('Gagik',14,'Novorosisk')
listed = [one,two,three,four]
sorted(listed, key=lambda item: item[0])


def find_stones(j,s):
    res = []
    for jw in j:
        for st in s:
            if jw == st:
                res.append(jw)
    return len(res)


dd = find_stones('jewerlies','stones')
                
  
dd
        
    


data = '00011111111100000011111111100111001111000111100000111111111110000111'


def bin_finder(data):
    counted = None
    for one in data:
        if one != '1':
            counted = data.replace(one," ").split(" ")
    return len(max(counted,key=len))



print(bin_finder(data))


# mass = (1,2,5,7,5,6,7,6)
# print(* set(mass))

mass = ['1\n','2\n','3\n','3\n','4\n']
# mass = map(str,aa)

with open('massive.txt','w') as fp:
    fp.writelines(mass)
  

res = set()

with open('massive.txt','r') as file:
        
        lines = file.readlines()
        for l in lines:
            res.add(l.strip())
        

print(*res)


mm = [1,2,3,4,5,6,7,8,9,9,9]
pp = map(str,mm)
print(set(pp))


jj = 'hashed'
hash(jj)




# A R A B    T O   R O M A N

roms = {'M': 1000, 'CM': 900, 'D': 500, 'CD': 400,
                 'C': 100, 'XC': 90, 'L': 50, 'XL': 40,
                 'X': 10, 'IX': 9, 'V': 5, 'IV': 4, 'I': 1}


def rom_converter(num:int):
    res = ''
    for letter, value in roms.items():
        while num >= value:
            res += letter
            num -= value
    return res


rom_converter(1980)



s = zip('hello')
f = [*s]
f


# HOW TO CREATE ABC - short way
# A B C collection pattern
import string

abc = list(string.ascii_lowercase)
print(abc,f"English ABC has {len(abc)} letters")
_reversed = abc[::-1]
_reversed


# Изменить порядок слов
# Вам дана строка ‘s’ с некоторым количеством слов N. Нужно сделать так, чтобы исходный порядок слов в строке изменился на обратный.

# При этом в исходной строке между словами может быть множество пробелов, но в результате работы скрипта мы должны получить предложение с одним пробелом между словами, без пробелов в начале предложения и после его конца.

# Время выполнения скрипта не должно превышать 1 секунду.

# My solvation
print(*reversed(sent.split()))



# Вам дано число N. Напишите скрипт, который считал бы сумму всех четных чисел в промежутке от 1 до N, 
# включая N. К примеру, если N равняется 6, то вывод должен быть равен 2+4+6, то есть 12.

# Тут есть закономерность !!!
 # Если ( N // 2 ) умножить на ( N //2 + 1 ) то получим сумму всех четных от 1 до N
def ev(n):
    su = (n // 2) * (n // 2 + 1)
    return su

ev(8)

############ My solvation

def evalu(num):
    ff = [ cn for cn in range(0,num,2) ]
    return sum(ff) + num


evalu(8)


lst = [3,5,7,5,3]


def palindromer(lst):
    dupl = reversed(lst)
    return list(dupl) == lst

palindromer(lst)


# you have nums and target, return a list with two indexes that are result of add up the target
# 
class Solution(object):
    def twoSum(self, nums, target): 
            for i in range(len(nums)):
                for x in range(len(nums)):
                    if i != x:
                        if nums[i] + nums[x] == target:
                            return [i,x]                     

f = Solution()

f.twoSum([3,3,4,2,8],6)



k = [5]

f = k.pop(k.index(5))
print('__hash__' in dir(f))


# The following was a question that I received during a technical interview for an entry level software developer position.
# I thought I'd post it here so that everyone could give it a go:
# You are given an unsorted array containing all the integers from 0 to 100 inclusively. However, one number is missing.





lst = list(range(0,101))


r = lst[0:10]
r
