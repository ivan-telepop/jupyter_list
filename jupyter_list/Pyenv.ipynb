{
 "cells": [
  {
   "cell_type": "code",
   "execution_count": null,
   "id": "7a04b9b1-2bfa-414b-a2ad-88a562125788",
   "metadata": {},
   "outputs": [],
   "source": [
    "PYENV - \n",
    "pyenv global 3.10 - ставим нужную как глобальную\n",
    "pyenv version - так проверяем какая стоит сейчас\n",
    "Статья про это самое: \n",
    "https://opensource.com/article/19/5/python-3-default-mac\n",
    "and this% https://medium.com/@adocquin/mastering-python-virtual-environments-with-pyenv-and-pyenv-virtualenv-c4e017c0b173\n",
    "\n",
    "\n",
    "COMMANDS PYENV:\n",
    "pyenv install: To install a new Python version\n",
    "pyenv update: To update pyenv\n",
    "pyenv virtualenv: To create a new Python virtual environment.\n",
    "pyenv activate: To activate a previously created virtual environment.\n",
    "source deactivate: To deactivate the virtual environment currently in use.\n",
    "pyenv uninstall: To uninstall a virtual environment or Python version.\n",
    "\n",
    "\n",
    "\n",
    "Изучить его !!! https://github.com/pypa/pipenv и poetry вместе с ним )"
   ]
  }
 ],
 "metadata": {
  "kernelspec": {
   "display_name": "Python 3 (ipykernel)",
   "language": "python",
   "name": "python3"
  },
  "language_info": {
   "codemirror_mode": {
    "name": "ipython",
    "version": 3
   },
   "file_extension": ".py",
   "mimetype": "text/x-python",
   "name": "python",
   "nbconvert_exporter": "python",
   "pygments_lexer": "ipython3",
   "version": "3.13.0a6"
  }
 },
 "nbformat": 4,
 "nbformat_minor": 5
}
