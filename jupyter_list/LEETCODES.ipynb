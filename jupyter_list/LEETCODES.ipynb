{
 "cells": [
  {
   "cell_type": "code",
   "execution_count": 17,
   "id": "8c0da5e0-37a0-4cee-a906-27ca899af8c6",
   "metadata": {
    "editable": true,
    "slideshow": {
     "slide_type": ""
    },
    "tags": []
   },
   "outputs": [
    {
     "data": {
      "text/plain": [
       "[14, 4]"
      ]
     },
     "execution_count": 17,
     "metadata": {},
     "output_type": "execute_result"
    }
   ],
   "source": [
    "#https://leetcode.com/problems/two-sum/\n",
    "\n",
    "arr = [2,7,11,15,3,24,11,9,5,25,20,11,7,4,1]\n",
    "\n",
    "\n",
    "def find(arr,targ):\n",
    "    for i in range(len(arr)):\n",
    "        for x in arr:\n",
    "            if x != arr[i]:\n",
    "                res = arr[i] + x \n",
    "                if res == targ:\n",
    "                    return [arr.index(x), i]\n",
    "\n",
    "                \n",
    "        \n",
    "\n",
    "find(arr,4)\n",
    "    "
   ]
  },
  {
   "cell_type": "code",
   "execution_count": 29,
   "id": "9a494844-6730-42da-a752-4e8cd29eec91",
   "metadata": {},
   "outputs": [],
   "source": [
    "# Is there a full set of brackets ? If we have opens we should have apair \n",
    "#lets check do they are paired ?\n",
    "\n",
    "inp = '([])'\n",
    "\n",
    "\n",
    "opens = [ i for i in inp if i == '(' or i == '{' or i == '[' ]\n",
    "closes = [ i for i in inp if i == ')' or i == '}' or i == ']' ]\n",
    "\n",
    "\n",
    "\n",
    "    "
   ]
  },
  {
   "cell_type": "code",
   "execution_count": 39,
   "id": "1ef5e2ec-aa3d-43b0-9108-a6d2bcbb203b",
   "metadata": {},
   "outputs": [
    {
     "data": {
      "text/plain": [
       "False"
      ]
     },
     "execution_count": 39,
     "metadata": {},
     "output_type": "execute_result"
    }
   ],
   "source": [
    "import time\n",
    "\n",
    "brackets = {')': '(', '}': '{', ']': '['}\n",
    "\n",
    "def check(arr):\n",
    "    stack = []\n",
    "    for item in arr:\n",
    "        if item in brackets: # Если мы попадаем на закрывающую скобу\n",
    "            top = stack.pop() if stack else '*' # То мы должны достать из стэка открывающую скобу, а если в стэке нет ее, то кладем звезду\n",
    "            if brackets[item] != top: # А тут если мы словили звезду (не равно - открывающая скоба)\n",
    "                return False # говорим фолс\n",
    "        else: # По умолчанию добавляем в стэк открывающую скобу\n",
    "            stack.append(item)\n",
    "    return not stack # Если стэк пустой, то мы вернем True, мы в стэк добавляем(append) и сразу вытаскиваем (pop) при любой правильной последовательности скоб.\n",
    "\n",
    "\n",
    "check('{]}')\n",
    "\n",
    "# Перебираем входящие элементы.\n",
    "# Если открывающая скоба - кладем в стек\n",
    "# Если закрывающая - проверяем была ли перед ней открывающая, которая должна быть в стеке.\n",
    "# Если нет в стеке открывающей скобы, то логично порядок нарушен - возвращаем Фолс\n",
    "\n",
    "# Получается мы последовательно добавляем в стек открывающую скобу...Если пришла закрывающая скоба, то идем проверять, за открывающей в стек...\n",
    "# А если ее там нет, то кидаем звезду.... А звезда нарушает весь порядок, следовательно Фолс"
   ]
  },
  {
   "cell_type": "code",
   "execution_count": 5,
   "id": "eb4981a8-09bb-4aed-90bf-3518e3fda205",
   "metadata": {},
   "outputs": [
    {
     "data": {
      "text/plain": [
       "'C'"
      ]
     },
     "execution_count": 5,
     "metadata": {},
     "output_type": "execute_result"
    }
   ],
   "source": [
    "# brackets = {\n",
    "#         ')': '(', \n",
    "#         '}': '{', \n",
    "#         ']': '['}\n",
    "\n",
    "# brackets[')']\n",
    "\n",
    "\n",
    "st = ['A','B','C']\n",
    "\n",
    "# st = []\n",
    "\n",
    "foo = st.pop() if st else '%'\n",
    "\n",
    "foo"
   ]
  },
  {
   "cell_type": "code",
   "execution_count": 6,
   "id": "99ff984f-57f2-4720-95d7-e82b0e95728a",
   "metadata": {},
   "outputs": [
    {
     "data": {
      "text/plain": [
       "[<__main__.ListNode at 0x2ca88c830>,\n",
       " <__main__.ListNode at 0x2ca6ad950>,\n",
       " <__main__.ListNode at 0x2ca6ad810>,\n",
       " <__main__.ListNode at 0x2ca80e650>,\n",
       " <__main__.ListNode at 0x2ca80e190>,\n",
       " <__main__.ListNode at 0x2ca876c30>]"
      ]
     },
     "execution_count": 6,
     "metadata": {},
     "output_type": "execute_result"
    }
   ],
   "source": [
    "\n",
    "\n",
    "class ListNode(object):\n",
    "    def __init__(self,val=0,nex=None):\n",
    "        self.val = val\n",
    "        self.nex = nex\n",
    "\n",
    "ls1 = [1,2,4]\n",
    "ls2 = [1,3,4]\n",
    "\n",
    "ls3 = ls1 + ls2\n",
    "\n",
    "\n",
    "\n",
    "\n",
    "items = [ ListNode(val=i,nex=(i+1)) for i in sorted(ls3)]\n",
    "\n",
    "items"
   ]
  },
  {
   "cell_type": "code",
   "execution_count": 19,
   "id": "cfcd0135-277f-4412-a082-fd0d8c24c739",
   "metadata": {},
   "outputs": [
    {
     "data": {
      "text/plain": [
       "[1, 2, 3, 3, 4, 4, 5, 6, 7]"
      ]
     },
     "execution_count": 19,
     "metadata": {},
     "output_type": "execute_result"
    }
   ],
   "source": [
    "\n",
    "def merge(list1, list2):\n",
    "\n",
    "    \n",
    "    return list1.extend(list2)\n",
    "\n",
    "\n",
    "\n",
    "list1 = [1,2,3,4]\n",
    "\n",
    "list2 = [3,4,5,6,7]\n",
    "\n",
    "\n",
    "# merge(list1,list2)\n",
    "\n",
    "\n",
    "list1.extend(list2)\n",
    "\n",
    "\n",
    "sorted(list1)\n",
    "\n",
    "\n",
    "\n",
    "\n",
    "\n"
   ]
  },
  {
   "cell_type": "code",
   "execution_count": 2,
   "id": "5d3c0e33-1d30-4188-9756-586cf3e68ab9",
   "metadata": {},
   "outputs": [
    {
     "name": "stdout",
     "output_type": "stream",
     "text": [
      "True\n"
     ]
    }
   ],
   "source": [
    "test = 'abcd'\n",
    "\n",
    "test.index('c')\n",
    "\n",
    "print('a' in test)"
   ]
  },
  {
   "cell_type": "code",
   "execution_count": 20,
   "id": "f9f663d8-6789-4d28-9199-c5322e8138a9",
   "metadata": {},
   "outputs": [
    {
     "data": {
      "text/plain": [
       "[('a', 'alpha'), ('b', 'beta'), ('t', 'theta')]"
      ]
     },
     "execution_count": 20,
     "metadata": {},
     "output_type": "execute_result"
    }
   ],
   "source": [
    "d = dict()\n",
    "\n",
    "d['a'] = 'alpha'\n",
    "d['b']= 'beta'\n",
    "d['t'] = 'theta'\n",
    "\n",
    "sorted(d.items())\n"
   ]
  },
  {
   "cell_type": "code",
   "execution_count": null,
   "id": "2844388c-799d-4b3e-bcf0-345156fec7b3",
   "metadata": {},
   "outputs": [],
   "source": []
  }
 ],
 "metadata": {
  "kernelspec": {
   "display_name": "Python 3 (ipykernel)",
   "language": "python",
   "name": "python3"
  },
  "language_info": {
   "codemirror_mode": {
    "name": "ipython",
    "version": 3
   },
   "file_extension": ".py",
   "mimetype": "text/x-python",
   "name": "python",
   "nbconvert_exporter": "python",
   "pygments_lexer": "ipython3",
   "version": "3.13.0a6"
  }
 },
 "nbformat": 4,
 "nbformat_minor": 5
}
