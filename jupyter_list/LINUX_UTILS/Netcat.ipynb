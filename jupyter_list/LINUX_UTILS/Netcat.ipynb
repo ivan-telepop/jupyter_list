{
 "cells": [
  {
   "cell_type": "code",
   "execution_count": null,
   "id": "392fcd80-97d9-4ddd-a47b-597d6ec898b6",
   "metadata": {},
   "outputs": [],
   "source": [
    "netcat\n",
    "\n",
    "https://www.tecmint.com/netcat-nc-command-examples/#:~:text=Netcat%20can%20be%20used%20for,access%20to%20a%20target%20server."
   ]
  },
  {
   "cell_type": "code",
   "execution_count": null,
   "id": "996c36a6-392c-4100-856c-a1bfeb45f5ce",
   "metadata": {},
   "outputs": [],
   "source": [
    "# Create a Backdoor\n",
    "# You can as well run Netcat as a backdoor. However, this calls for more work. \n",
    "# If Netcat is installed on a target server, you can use it to create a backdoor, \n",
    "# to get a remote command prompt.\n",
    "\n",
    "# To act a backdoor you need Netcat to listen on a chosen port (e.g port 3001) \n",
    "# on the target server and then you can connect to this port from your machine as follows.\n",
    "\n",
    "# This is the command intended to run on the remote server where the -d option disables reading from stdin, \n",
    "# and -e specifies the command to run on the target system."
   ]
  }
 ],
 "metadata": {
  "kernelspec": {
   "display_name": "Python 3 (ipykernel)",
   "language": "python",
   "name": "python3"
  },
  "language_info": {
   "codemirror_mode": {
    "name": "ipython",
    "version": 3
   },
   "file_extension": ".py",
   "mimetype": "text/x-python",
   "name": "python",
   "nbconvert_exporter": "python",
   "pygments_lexer": "ipython3",
   "version": "3.13.0a6"
  }
 },
 "nbformat": 4,
 "nbformat_minor": 5
}
