{
 "cells": [
  {
   "cell_type": "code",
   "execution_count": 2,
   "id": "c8eeec4b-51d4-4fc8-ab35-35a3b908fe30",
   "metadata": {},
   "outputs": [],
   "source": [
    "# https://mypy.readthedocs.io/en/stable/generics.html"
   ]
  },
  {
   "cell_type": "code",
   "execution_count": 1,
   "id": "40f98a3b-2016-4e7a-bd85-ed021a25dd5c",
   "metadata": {},
   "outputs": [],
   "source": [
    "from typing import TypeVar\n",
    "\n",
    "T = TypeVar('T', bound='Shape')\n",
    "\n",
    "class Shape:\n",
    "    def set_scale(self: T, scale: float) -> T:\n",
    "        self.scale = scale\n",
    "        return self\n",
    "\n",
    "class Circle(Shape):\n",
    "    def set_radius(self, r: float) -> 'Circle':\n",
    "        self.radius = r\n",
    "        return self\n",
    "\n",
    "class Square(Shape):\n",
    "    def set_width(self, w: float) -> 'Square':\n",
    "        self.width = w\n",
    "        return self\n",
    "\n",
    "circle: Circle = Circle().set_scale(0.5).set_radius(2.7)\n",
    "square: Square = Square().set_scale(0.5).set_width(3.2)"
   ]
  }
 ],
 "metadata": {
  "kernelspec": {
   "display_name": "Python 3 (ipykernel)",
   "language": "python",
   "name": "python3"
  },
  "language_info": {
   "codemirror_mode": {
    "name": "ipython",
    "version": 3
   },
   "file_extension": ".py",
   "mimetype": "text/x-python",
   "name": "python",
   "nbconvert_exporter": "python",
   "pygments_lexer": "ipython3",
   "version": "3.13.0a6"
  }
 },
 "nbformat": 4,
 "nbformat_minor": 5
}
