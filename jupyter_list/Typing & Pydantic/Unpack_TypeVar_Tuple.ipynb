{
 "cells": [
  {
   "cell_type": "code",
   "execution_count": 9,
   "id": "be3385c3-2038-473f-933f-20b8e777b736",
   "metadata": {},
   "outputs": [],
   "source": [
    "from typing import TypeVarTuple, Unpack\n",
    "\n",
    "ff = tuple([ i for i in 'asdfghjk'])\n",
    "\n",
    "Ts = TypeVarTuple('Ts')\n",
    "\n",
    "tup: tuple(Unpack[Ts]) = ff\n",
    "\n",
    "\n",
    "\n"
   ]
  }
 ],
 "metadata": {
  "kernelspec": {
   "display_name": "Python 3 (ipykernel)",
   "language": "python",
   "name": "python3"
  },
  "language_info": {
   "codemirror_mode": {
    "name": "ipython",
    "version": 3
   },
   "file_extension": ".py",
   "mimetype": "text/x-python",
   "name": "python",
   "nbconvert_exporter": "python",
   "pygments_lexer": "ipython3",
   "version": "3.13.0a6"
  }
 },
 "nbformat": 4,
 "nbformat_minor": 5
}
