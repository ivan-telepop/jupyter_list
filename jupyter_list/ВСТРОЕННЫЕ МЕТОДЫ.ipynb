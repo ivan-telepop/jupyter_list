{
 "cells": [
  {
   "cell_type": "code",
   "execution_count": 1,
   "id": "d9aa90c0",
   "metadata": {},
   "outputs": [
    {
     "data": {
      "text/plain": [
       "5"
      ]
     },
     "execution_count": 1,
     "metadata": {},
     "output_type": "execute_result"
    }
   ],
   "source": [
    "2. chr()\n",
    "3. callable()\n",
    "4. complex()\n",
    "5. dict()\n",
    "6. dir()\n",
    "7. enumerate()\n",
    "8. eval()\n",
    "9. filter()\n",
    "10. float()\n",
    "11. hash()\n",
    "12. help()\n",
    "13. input()\n",
    "14. int()\n",
    "15. iter()\n",
    "16. max()\n",
    "17. min()\n",
    "18. len()\n",
    "19. list()\n",
    "20. map()\n",
    "21. next()\n",
    "22. ord()\n",
    "23. reversed()\n",
    "24. range()\n",
    "25. reduce()\n",
    "26. sorted()\n",
    "27. str()\n",
    "28. set()\n",
    "29. sum()\n",
    "30. tuple()\n",
    "31. type()"
   ]
  },
  {
   "cell_type": "code",
   "execution_count": 8,
   "id": "9598f96f",
   "metadata": {},
   "outputs": [
    {
     "name": "stdout",
     "output_type": "stream",
     "text": [
      "15\n"
     ]
    }
   ],
   "source": [
    "s = 'print(5 + 10)'\n",
    "eval(s)"
   ]
  },
  {
   "cell_type": "code",
   "execution_count": 14,
   "id": "c0ded771",
   "metadata": {},
   "outputs": [
    {
     "name": "stdout",
     "output_type": "stream",
     "text": [
      "inf\n",
      "10.0\n"
     ]
    }
   ],
   "source": [
    "print(float('infinity'))\n",
    "print(float(10))"
   ]
  },
  {
   "cell_type": "code",
   "execution_count": 20,
   "id": "e6e05946",
   "metadata": {},
   "outputs": [
    {
     "name": "stdout",
     "output_type": "stream",
     "text": [
      "7347653499694109182\n",
      "0\n"
     ]
    }
   ],
   "source": [
    "print(hash('ivan'))\n",
    "print(hash(False))"
   ]
  },
  {
   "cell_type": "code",
   "execution_count": 65,
   "id": "5ef9dc27",
   "metadata": {},
   "outputs": [
    {
     "name": "stdout",
     "output_type": "stream",
     "text": [
      "Help on class One in module __main__:\n",
      "\n",
      "class One(builtins.object)\n",
      " |  My class that i did with docstring\n",
      " |  \n",
      " |  Data descriptors defined here:\n",
      " |  \n",
      " |  __dict__\n",
      " |      dictionary for instance variables (if defined)\n",
      " |  \n",
      " |  __weakref__\n",
      " |      list of weak references to the object (if defined)\n",
      "\n",
      "None\n",
      "<class 'type'>\n"
     ]
    }
   ],
   "source": [
    "class One:\n",
    "    \"\"\"My class that i did with docstring\"\"\"\n",
    "    pass\n",
    "\n",
    "print(help(One))\n",
    "print(type(One))"
   ]
  },
  {
   "cell_type": "code",
   "execution_count": 33,
   "id": "5173ef5f",
   "metadata": {},
   "outputs": [
    {
     "data": {
      "text/plain": [
       "3"
      ]
     },
     "execution_count": 33,
     "metadata": {},
     "output_type": "execute_result"
    }
   ],
   "source": [
    "min([11,3,7])"
   ]
  },
  {
   "cell_type": "code",
   "execution_count": 46,
   "id": "78b29445",
   "metadata": {},
   "outputs": [
    {
     "name": "stdout",
     "output_type": "stream",
     "text": [
      "120 102 115\n"
     ]
    }
   ],
   "source": [
    "ff = list([ord('s'),ord('f'),ord('x')])\n",
    "#[115, 102, 120]\n",
    "print(*reversed(ff))"
   ]
  },
  {
   "cell_type": "code",
   "execution_count": 48,
   "id": "f2458cc6",
   "metadata": {},
   "outputs": [
    {
     "data": {
      "text/plain": [
       "1011"
      ]
     },
     "execution_count": 48,
     "metadata": {},
     "output_type": "execute_result"
    }
   ],
   "source": [
    "gg = [120,102,115]\n",
    "sum(gg * 3)"
   ]
  },
  {
   "cell_type": "code",
   "execution_count": 64,
   "id": "3b537809",
   "metadata": {},
   "outputs": [
    {
     "data": {
      "text/plain": [
       "type"
      ]
     },
     "execution_count": 64,
     "metadata": {},
     "output_type": "execute_result"
    }
   ],
   "source": [
    "new = type('Programmer', (object, ),dict(name='Vanya', birth=1979))\n",
    "\n",
    "new.__name__, new.name, new.birth\n",
    "\n",
    "type(new)"
   ]
  }
 ],
 "metadata": {
  "kernelspec": {
   "display_name": "Python 3 (ipykernel)",
   "language": "python",
   "name": "python3"
  },
  "language_info": {
   "codemirror_mode": {
    "name": "ipython",
    "version": 3
   },
   "file_extension": ".py",
   "mimetype": "text/x-python",
   "name": "python",
   "nbconvert_exporter": "python",
   "pygments_lexer": "ipython3",
   "version": "3.13.0a6"
  }
 },
 "nbformat": 4,
 "nbformat_minor": 5
}
