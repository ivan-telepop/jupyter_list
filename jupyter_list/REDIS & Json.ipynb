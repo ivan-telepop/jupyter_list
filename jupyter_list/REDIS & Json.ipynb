{
 "cells": [
  {
   "cell_type": "code",
   "execution_count": 17,
   "id": "d03d682d-b9fd-4149-8a7a-c9b763c4b1fb",
   "metadata": {},
   "outputs": [
    {
     "data": {
      "text/plain": [
       "True"
      ]
     },
     "execution_count": 17,
     "metadata": {},
     "output_type": "execute_result"
    }
   ],
   "source": [
    "callback_data = dict(passed='You refused',answered='Best Answer')\n",
    "\n",
    "test = 'passed'\n",
    "\n",
    "\n",
    "bool(test in callback_data)"
   ]
  },
  {
   "cell_type": "code",
   "execution_count": 17,
   "id": "63fff102-8495-425c-81b1-a948e8b70575",
   "metadata": {},
   "outputs": [],
   "source": [
    "import redis\n",
    "import json\n",
    "import time\n",
    "\n",
    "# conn = redis.Redis(host='localhost', port=6379, decode_responses=True)\n",
    "\n",
    "# dict_data = {'one':1,'two':2, 'three':[1,2,3],'test':True}\n",
    "\n",
    "# #  DICT TO >> JSON_STRING\n",
    "# jsoned_string = json.dumps(dict_data)\n",
    "\n",
    "\n",
    "# conn.set('data',jsoned_string)\n",
    "\n",
    "\n",
    "# retr = conn.get('data')\n",
    "\n",
    "# dicted_json = json.loads(retr)\n",
    "\n",
    "\n",
    "# dicted_json.get('three')"
   ]
  },
  {
   "cell_type": "code",
   "execution_count": 18,
   "id": "e504887d-acae-40cf-ba55-5feae6516746",
   "metadata": {},
   "outputs": [
    {
     "name": "stdout",
     "output_type": "stream",
     "text": [
      "1\n",
      "2\n",
      "[1, 2, 3]\n",
      "True\n",
      "1\n",
      "2\n",
      "[1, 2, 3]\n",
      "True\n",
      "1\n",
      "2\n",
      "[1, 2, 3]\n",
      "True\n",
      "1\n",
      "2\n",
      "[1, 2, 3]\n",
      "True\n",
      "1\n",
      "2\n",
      "[1, 2, 3]\n",
      "True\n",
      "1\n",
      "2\n",
      "[1, 2, 3]\n",
      "True\n",
      "1\n",
      "2\n",
      "[1, 2, 3]\n",
      "True\n",
      "1\n",
      "2\n",
      "[1, 2, 3]\n",
      "True\n",
      "1\n",
      "2\n",
      "[1, 2, 3]\n",
      "True\n",
      "1\n",
      "2\n",
      "[1, 2, 3]\n",
      "True\n",
      "False\n",
      "False\n",
      "False\n",
      "False\n",
      "False\n",
      "False\n",
      "False\n",
      "False\n",
      "False\n"
     ]
    }
   ],
   "source": [
    "import time\n",
    "dct = dict(one=1,two=2,three=[1,2,3],mark=True)\n",
    "\n",
    "\n",
    "def dict_to_json(dct: dict):\n",
    "    \"\"\"Python Dictionary To >> JSON\"\"\"\n",
    "    return json.dumps(dct)\n",
    "\n",
    "def json_to_dict(jsn: str):\n",
    "    \"\"\"JSON >> To Python Dictionary\"\"\"\n",
    "    return json.loads(jsn)\n",
    "\n",
    "\n",
    "jstr = dict_to_json(dct)\n",
    "\n",
    "with redis.Redis(host='localhost', port=6379, decode_responses=True) as conn:\n",
    "    conn.set('key1',jstr)\n",
    "    conn.expire('key1',time=20,nx=True)\n",
    "\n",
    "\n",
    "for t in range(1,20):\n",
    "    res =  conn.get('key1') if isinstance(conn.get('key1'), str) else dict_to_json({'time off':False})\n",
    "    qq = json_to_dict(res)\n",
    "    time.sleep(2)\n",
    "    for i in qq:\n",
    "        print(qq[i])"
   ]
  },
  {
   "cell_type": "code",
   "execution_count": null,
   "id": "5d753dd1-7c36-4c50-9b54-7fe666da2e88",
   "metadata": {},
   "outputs": [],
   "source": []
  },
  {
   "cell_type": "code",
   "execution_count": 103,
   "id": "04046466-2d68-4402-95f1-46ad1391eb00",
   "metadata": {},
   "outputs": [
    {
     "data": {
      "text/plain": [
       "['start',\n",
       " 'help',\n",
       " 'contact',\n",
       " 'passed',\n",
       " 'phone',\n",
       " 'telegram',\n",
       " 'later',\n",
       " 'video',\n",
       " 'demo',\n",
       " 'answer',\n",
       " 'faq',\n",
       " 'subscribe']"
      ]
     },
     "execution_count": 103,
     "metadata": {},
     "output_type": "execute_result"
    }
   ],
   "source": [
    "callback_data = dict(\n",
    "       passed='Вы пропустили...',\n",
    "       phone='Берем номер...',\n",
    "       telegram='Получаем конт...',\n",
    "       later='Позже...',\n",
    "       video='Высылаем видеофайл...',\n",
    "       demo='Готовим демо-версию...',\n",
    "       answer='Запускаем ассистента...',\n",
    "       faq='Frequently Asked Questions...',\n",
    "       subscribe='Подписаться...',\n",
    "       \n",
    "       )\n",
    "\n",
    "\n",
    "HANDLED_MESSAGES = ['start', 'help','contact'] + [i for i in callback_data.keys()]\n",
    "\n",
    "\n",
    "\n",
    "\n",
    "HANDLED_MESSAGES"
   ]
  },
  {
   "cell_type": "code",
   "execution_count": 44,
   "id": "d35c8009-046e-4fae-8d23-add7eb010717",
   "metadata": {},
   "outputs": [],
   "source": [
    "from dataclasses import dataclass, field, asdict\n",
    "import json\n",
    "\n",
    "\n",
    "def dict_to_json(dct: dict):\n",
    "    \"\"\"Python Dictionary To >> JSON\"\"\"\n",
    "    return json.dumps(dct)\n",
    "\n",
    "def json_to_dict(jsn: str):\n",
    "    \"\"\"JSON >> To Python Dictionary\"\"\"\n",
    "    return json.loads(jsn)\n",
    "\n",
    "\n",
    "\n",
    "\n",
    "\n",
    "\n",
    "@dataclass \n",
    "class UserMapper:\n",
    "    first_name: str \n",
    "    last_name: str\n",
    "    username: str\n",
    "    user_id: int\n",
    "    chat_id: int\n",
    "    typed_name: str\n",
    "    typed_id: str\n",
    "\n",
    "    \n",
    "@dataclass\n",
    "class MessageMapper:\n",
    "    role: str = field(default=None)\n",
    "    content: str = field(default=None)\n",
    "    name: str = field(default=None)\n",
    "\n",
    "    \n",
    "@dataclass\n",
    "class MessagesMapper:\n",
    "    messages: list[MessageMapper] = field(default=None)\n",
    "\n",
    "\n",
    "\n",
    "# storage = list()\n",
    "\n",
    "# for i in range(25):\n",
    "#     n = MessageMapper(role=str(id(i)),content='ABCD',name=str(i))\n",
    "#     storage.append(asdict(n))\n",
    "\n",
    "\n",
    "# dd = json.dumps(storage)\n",
    "\n",
    "\n",
    "# back = json.loads(dd)\n",
    "\n",
    "# back\n",
    "\n",
    "\n",
    "\n",
    "conn = redis.Redis(host='localhost', port=6379, decode_responses=True)\n",
    "\n",
    "\n",
    "\n",
    "f = conn.set('test','[]')\n",
    "\n",
    "\n",
    "q = conn.get('test')\n",
    "\n",
    "\n",
    "gg = conn.get('h')\n",
    "\n",
    "\n",
    "gg"
   ]
  },
  {
   "cell_type": "code",
   "execution_count": 21,
   "id": "6a51de1d-6fb3-4092-954f-f390c292e6f6",
   "metadata": {},
   "outputs": [
    {
     "name": "stdout",
     "output_type": "stream",
     "text": [
      "{'role': 'system', 'content': 'The System instruction num 1'}\n",
      "{'role': 'user', 'content': '4492426888'}\n",
      "{'role': 'assistant', 'content': '0'}\n",
      "{'role': 'user', 'content': '4492426920'}\n",
      "{'role': 'assistant', 'content': '1'}\n",
      "{'role': 'user', 'content': '4492426952'}\n",
      "{'role': 'assistant', 'content': '2'}\n",
      "{'role': 'user', 'content': '4492426984'}\n",
      "{'role': 'assistant', 'content': '3'}\n",
      "{'role': 'user', 'content': '4492427016'}\n",
      "{'role': 'assistant', 'content': '4'}\n",
      "{'role': 'user', 'content': '4492427048'}\n",
      "{'role': 'assistant', 'content': '5'}\n",
      "{'role': 'user', 'content': '4492427080'}\n",
      "{'role': 'assistant', 'content': '6'}\n",
      "{'role': 'user', 'content': '4492427112'}\n",
      "{'role': 'assistant', 'content': '7'}\n",
      "{'role': 'user', 'content': '4492427144'}\n",
      "{'role': 'assistant', 'content': '8'}\n",
      "{'role': 'user', 'content': '4492427176'}\n",
      "{'role': 'assistant', 'content': '9'}\n",
      "{'role': 'user', 'content': '4492427208'}\n",
      "{'role': 'assistant', 'content': '10'}\n",
      "{'role': 'user', 'content': '4492427240'}\n",
      "{'role': 'assistant', 'content': '11'}\n",
      "{'role': 'user', 'content': '4492427272'}\n",
      "{'role': 'assistant', 'content': '12'}\n",
      "{'role': 'user', 'content': '4492427304'}\n",
      "{'role': 'assistant', 'content': '13'}\n",
      "{'role': 'user', 'content': '4492427336'}\n",
      "{'role': 'assistant', 'content': '14'}\n",
      "{'role': 'user', 'content': '4492427368'}\n",
      "{'role': 'assistant', 'content': '15'}\n",
      "{'role': 'user', 'content': '4492427400'}\n",
      "{'role': 'assistant', 'content': '16'}\n",
      "{'role': 'user', 'content': '4492427432'}\n",
      "{'role': 'assistant', 'content': '17'}\n",
      "{'role': 'user', 'content': '4492427464'}\n",
      "{'role': 'assistant', 'content': '18'}\n",
      "{'role': 'user', 'content': '4492427496'}\n",
      "{'role': 'assistant', 'content': '19'}\n"
     ]
    }
   ],
   "source": [
    "system_instruct = \"The System instruction num 1\"\n",
    "\n",
    "\n",
    "\n",
    "def update_conversations(\n",
    "    message: str = None,\n",
    "    response: str = None,\n",
    "    conversations: list = [],\n",
    "    system_instruction: str = None\n",
    "    ):   \n",
    "    system_message = {\"role\":\"system\",\"content\": system_instruction}\n",
    "    if system_message not in conversations and system_instruction is not None:\n",
    "        conversations.append(system_message)\n",
    "    if message is not None:\n",
    "        new_user_message = {\"role\": \"user\", \"content\": message}\n",
    "        conversations.append(new_user_message)\n",
    "    if response is not None:\n",
    "        new_response = {\"role\":\"assistant\", \"content\": response }\n",
    "        conversations.append(new_response)\n",
    "    return conversations\n",
    "\n",
    "\n",
    "\n",
    "convs = []\n",
    "\n",
    "\n",
    "for i in range(20):\n",
    "        update_conversations(message=str(id(i)),response=str(i),conversations=convs,system_instruction=sys_instr)\n",
    "\n",
    "    \n",
    "\n",
    "for it in convs:\n",
    "    print(it)\n",
    "        \n",
    "        \n"
   ]
  },
  {
   "cell_type": "code",
   "execution_count": 21,
   "id": "ad845158-4c33-41c5-9a82-1b01a25950fa",
   "metadata": {},
   "outputs": [
    {
     "data": {
      "text/plain": [
       "0"
      ]
     },
     "execution_count": 21,
     "metadata": {},
     "output_type": "execute_result"
    }
   ],
   "source": [
    "9 % 3"
   ]
  },
  {
   "cell_type": "code",
   "execution_count": 4,
   "id": "a62cdc02-b0cb-42fa-8032-aec2809752fb",
   "metadata": {},
   "outputs": [
    {
     "data": {
      "text/plain": [
       "'test'"
      ]
     },
     "execution_count": 4,
     "metadata": {},
     "output_type": "execute_result"
    }
   ],
   "source": [
    "q = 'a'\n",
    "\n",
    "ls = \"test\" if q == 'a' else 'wrong'\n",
    "\n",
    "\n",
    "ls"
   ]
  },
  {
   "cell_type": "code",
   "execution_count": 16,
   "id": "4d11398b-d045-408a-959b-d5e3fee191d6",
   "metadata": {},
   "outputs": [
    {
     "data": {
      "text/plain": [
       "2"
      ]
     },
     "execution_count": 16,
     "metadata": {},
     "output_type": "execute_result"
    }
   ],
   "source": [
    "xx = []\n",
    "\n",
    "\n",
    "def ret(q):\n",
    "    if q < 3:\n",
    "        return q\n",
    "\n",
    "foo = ret(2) or xx\n",
    "\n",
    "foo\n",
    "\n",
    "\n",
    "\n",
    "\n"
   ]
  },
  {
   "cell_type": "code",
   "execution_count": 8,
   "id": "a0368afc-ca48-4ee3-9d31-96c6c62ca1e1",
   "metadata": {},
   "outputs": [
    {
     "data": {
      "text/plain": [
       "NoneType"
      ]
     },
     "execution_count": 8,
     "metadata": {},
     "output_type": "execute_result"
    }
   ],
   "source": [
    "def test(q):\n",
    "    if q > 10:\n",
    "        return [ q * 10]\n",
    "    else:\n",
    "        return\n",
    "\n",
    "\n",
    "\n",
    "type(test(1))"
   ]
  },
  {
   "cell_type": "code",
   "execution_count": 9,
   "id": "29adfa58-0706-4025-936e-1e855c371208",
   "metadata": {},
   "outputs": [
    {
     "name": "stdout",
     "output_type": "stream",
     "text": [
      "helloXXX"
     ]
    }
   ],
   "source": [
    "print(\"hello\",end=\"XXX\")"
   ]
  }
 ],
 "metadata": {
  "kernelspec": {
   "display_name": "Python 3 (ipykernel)",
   "language": "python",
   "name": "python3"
  },
  "language_info": {
   "codemirror_mode": {
    "name": "ipython",
    "version": 3
   },
   "file_extension": ".py",
   "mimetype": "text/x-python",
   "name": "python",
   "nbconvert_exporter": "python",
   "pygments_lexer": "ipython3",
   "version": "3.13.0a6"
  }
 },
 "nbformat": 4,
 "nbformat_minor": 5
}
