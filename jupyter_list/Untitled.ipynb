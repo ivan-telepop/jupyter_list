{
 "cells": [
  {
   "cell_type": "code",
   "execution_count": 5,
   "id": "2a7cbe4e-ae5f-4836-aa1e-f5aa75d16f7d",
   "metadata": {},
   "outputs": [
    {
     "name": "stdout",
     "output_type": "stream",
     "text": [
      "('а', 0) ('б', 1) ('в', 2) ('г', 3) ('д', 4) ('е', 5) ('ж', 6) ('з', 7) ('и', 8) ('й', 9) ('к', 10) ('л', 11) ('м', 12) ('н', 13) ('о', 14) ('п', 15) ('р', 16) ('с', 17) ('т', 18) ('у', 19) ('ф', 20) ('х', 21) ('ц', 22) ('ч', 23) ('ш', 24) ('щ', 25) ('ъ', 26) ('ы', 27) ('ь', 28) ('э', 29) ('ю', 30) ('я', 31) ('а', 32) ('б', 33) ('в', 34) ('г', 35) ('д', 36) ('е', 37) ('ж', 38) ('з', 39) ('и', 40) ('й', 41) ('к', 42) ('л', 43) ('м', 44) ('н', 45) ('о', 46) ('п', 47) ('р', 48) ('с', 49) ('т', 50) ('у', 51) ('ф', 52) ('х', 53) ('ц', 54) ('ч', 55) ('ш', 56) ('щ', 57) ('ъ', 58) ('ы', 59) ('ь', 60) ('э', 61) ('ю', 62) ('я', 63) ('а', 64) ('б', 65) ('в', 66) ('г', 67) ('д', 68) ('е', 69) ('ж', 70) ('з', 71) ('и', 72) ('й', 73) ('к', 74) ('л', 75) ('м', 76) ('н', 77) ('о', 78) ('п', 79) ('р', 80) ('с', 81) ('т', 82) ('у', 83) ('ф', 84) ('х', 85) ('ц', 86) ('ч', 87) ('ш', 88) ('щ', 89) ('ъ', 90) ('ы', 91) ('ь', 92) ('э', 93) ('ю', 94) ('я', 95) ('а', 96) ('б', 97) ('в', 98) ('г', 99)\n"
     ]
    }
   ],
   "source": [
    "import string\n",
    "import itertools\n",
    "\n",
    "\n",
    "\n",
    "a = [ i for i in range(1,18)]\n",
    "\n",
    "\n",
    "b = [i **2 for i in a]\n",
    "\n",
    "c = [ i for i in b if i % 2 == 0]\n",
    "\n",
    "\n",
    "\n",
    "ab = [ i for i in 'qwertyuiopasdfghjklzxcvbnm']\n",
    "\n",
    "sorted(ab)\n",
    "\n",
    "\n",
    "\n",
    "\n",
    "# print(*[chr(i) for i in range(ord('а'), ord('я')+1)],sep='')\n",
    "\n",
    "\n",
    "aa = 'абвгдежзийклмнопрстуфхцчшщъыьэюя'\n",
    "\n",
    "\n",
    "print(*zip(itertools.cycle(aa),list(range(100))))"
   ]
  },
  {
   "cell_type": "code",
   "execution_count": 15,
   "id": "1eef2403-8b2f-4bae-9040-13c2f9ad720b",
   "metadata": {},
   "outputs": [
    {
     "data": {
      "text/plain": [
       "'a'"
      ]
     },
     "execution_count": 15,
     "metadata": {},
     "output_type": "execute_result"
    }
   ],
   "source": [
    "chr(97)"
   ]
  },
  {
   "cell_type": "code",
   "execution_count": 22,
   "id": "3094e4a2-20ff-48b6-8a4e-7f7d9342c826",
   "metadata": {},
   "outputs": [
    {
     "data": {
      "text/plain": [
       "'hollah                        olla'"
      ]
     },
     "execution_count": 22,
     "metadata": {},
     "output_type": "execute_result"
    }
   ],
   "source": [
    "'hollah\\tolla'.expandtabs(tabsize=30)"
   ]
  },
  {
   "cell_type": "code",
   "execution_count": 53,
   "id": "339b0f17-0f31-472c-be1e-8f537f5fb144",
   "metadata": {},
   "outputs": [
    {
     "data": {
      "text/plain": [
       "'qw'"
      ]
     },
     "execution_count": 53,
     "metadata": {},
     "output_type": "execute_result"
    }
   ],
   "source": [
    "s = 'qwertyuioasdfghjk'\n",
    "\n",
    "# ls = [(i + s[s.find(i) + 1]) for i in s ]\n",
    "\n",
    "\n",
    "\n",
    "for i in s:\n",
    "    for i in range(len(s)):\n",
    "        r = s[i] + s[i+1]\n",
    "    \n",
    "\n",
    "    \n",
    "    "
   ]
  },
  {
   "cell_type": "code",
   "execution_count": null,
   "id": "86be3ab1-8fde-4a59-b418-398656eb9731",
   "metadata": {},
   "outputs": [],
   "source": []
  }
 ],
 "metadata": {
  "kernelspec": {
   "display_name": "Python 3.13 jupy_venv",
   "language": "python",
   "name": "jupy_venv"
  },
  "language_info": {
   "codemirror_mode": {
    "name": "ipython",
    "version": 3
   },
   "file_extension": ".py",
   "mimetype": "text/x-python",
   "name": "python",
   "nbconvert_exporter": "python",
   "pygments_lexer": "ipython3",
   "version": "3.12.9"
  }
 },
 "nbformat": 4,
 "nbformat_minor": 5
}
