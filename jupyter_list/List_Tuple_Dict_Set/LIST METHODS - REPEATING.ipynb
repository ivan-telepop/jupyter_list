{
 "cells": [
  {
   "cell_type": "markdown",
   "id": "291c3b75",
   "metadata": {},
   "source": [
    "# List methods - reharsal "
   ]
  },
  {
   "cell_type": "code",
   "execution_count": 6,
   "id": "58d9cbba",
   "metadata": {},
   "outputs": [
    {
     "data": {
      "text/plain": [
       "[1, 2, 3, 4, 5, 6, 7, 8, 9, 0]"
      ]
     },
     "execution_count": 6,
     "metadata": {},
     "output_type": "execute_result"
    }
   ],
   "source": [
    "# simple declaration\n",
    "lst = [1,2,3,4,5,6,7,8,9,0]\n",
    "lst"
   ]
  },
  {
   "cell_type": "code",
   "execution_count": 5,
   "id": "882ef1b9",
   "metadata": {},
   "outputs": [
    {
     "data": {
      "text/plain": [
       "['aa', 'bb', 'cc', 'dd']"
      ]
     },
     "execution_count": 5,
     "metadata": {},
     "output_type": "execute_result"
    }
   ],
   "source": [
    "# generative declaration\n",
    "other = [one * 2 for one  in 'abcd']\n",
    "other"
   ]
  },
  {
   "cell_type": "code",
   "execution_count": 7,
   "id": "ea36f26d",
   "metadata": {},
   "outputs": [
    {
     "data": {
      "text/plain": [
       "['wh', 'we', 'wl', 'oh', 'oe', 'ol', 'rh', 're', 'rl']"
      ]
     },
     "execution_count": 7,
     "metadata": {},
     "output_type": "execute_result"
    }
   ],
   "source": [
    "# profound list generator version\n",
    "third = [a + b for a in 'word' if a != 'd' for b in 'helo' if b != 'o']\n",
    "third"
   ]
  },
  {
   "cell_type": "code",
   "execution_count": 13,
   "id": "d225dc17",
   "metadata": {},
   "outputs": [
    {
     "data": {
      "text/plain": [
       "['aa', 'bb', 'cc', 'dd', 'ouch']"
      ]
     },
     "execution_count": 13,
     "metadata": {},
     "output_type": "execute_result"
    }
   ],
   "source": [
    "#methods\n",
    "other.append('ouch')\n",
    "other"
   ]
  },
  {
   "cell_type": "code",
   "execution_count": 26,
   "id": "023754ed",
   "metadata": {},
   "outputs": [
    {
     "data": {
      "text/plain": [
       "['a', 'b', 'c', 8, 9, 6, 'super']"
      ]
     },
     "execution_count": 26,
     "metadata": {},
     "output_type": "execute_result"
    }
   ],
   "source": [
    "# extender \n",
    "s = [8,9,6,'super']\n",
    "f = ['a','b','c']\n",
    "f.extend(s)\n",
    "f"
   ]
  },
  {
   "cell_type": "code",
   "execution_count": 33,
   "id": "75359382",
   "metadata": {},
   "outputs": [
    {
     "data": {
      "text/plain": [
       "[0, 9, 8, 'third element', 7, 6, 5, 4]"
      ]
     },
     "execution_count": 33,
     "metadata": {},
     "output_type": "execute_result"
    }
   ],
   "source": [
    "# Position Inserting \n",
    "g = [0,9,8,7,6,5,4]\n",
    "inserting_position: int = 3\n",
    "g.insert(inserting_position,\"third element\")\n",
    "g\n",
    "\n",
    "\n",
    "hh = [\n"
   ]
  },
  {
   "cell_type": "code",
   "execution_count": 36,
   "id": "fc5b3dca",
   "metadata": {},
   "outputs": [
    {
     "data": {
      "text/plain": [
       "[88, 77, 55, 44, 33, 22]"
      ]
     },
     "execution_count": 36,
     "metadata": {},
     "output_type": "execute_result"
    }
   ],
   "source": [
    "# Deletion by element in variable\n",
    "x = 66\n",
    "ss = [88,77,66,55,44,33,22]\n",
    "ss.remove(x)\n",
    "ss"
   ]
  },
  {
   "cell_type": "code",
   "execution_count": 45,
   "id": "6b8274f5",
   "metadata": {},
   "outputs": [
    {
     "data": {
      "text/plain": [
       "[12, 34, 56, 90]"
      ]
     },
     "execution_count": 45,
     "metadata": {},
     "output_type": "execute_result"
    }
   ],
   "source": [
    "# Elem deletion\n",
    "jj = [12,34,56,78,90]\n",
    "jj.pop(3)\n",
    "jj"
   ]
  },
  {
   "cell_type": "code",
   "execution_count": 55,
   "id": "908802aa",
   "metadata": {},
   "outputs": [
    {
     "data": {
      "text/plain": [
       "3"
      ]
     },
     "execution_count": 55,
     "metadata": {},
     "output_type": "execute_result"
    }
   ],
   "source": [
    "# Indexing Element in List\n",
    "find = 'F'\n",
    "start_val = 0\n",
    "end_val = 4\n",
    "kk = list('asdFghjk')\n",
    "kk.index(find,start_val,end_val)\n",
    "#It's good to know that end_val should be one step further than 'f' point \n"
   ]
  },
  {
   "cell_type": "code",
   "execution_count": 56,
   "id": "f9c0a8a2",
   "metadata": {},
   "outputs": [
    {
     "data": {
      "text/plain": [
       "3"
      ]
     },
     "execution_count": 56,
     "metadata": {},
     "output_type": "execute_result"
    }
   ],
   "source": [
    "# Simple count elems in a list \n",
    "elems = 'A'\n",
    "tt = list('zxcAAAbnm')\n",
    "tt.count(elems)\n"
   ]
  },
  {
   "cell_type": "code",
   "execution_count": 66,
   "id": "f9583919",
   "metadata": {},
   "outputs": [
    {
     "data": {
      "text/plain": [
       "[9, 6, 5, 4, 3, 1, -2, -7]"
      ]
     },
     "execution_count": 66,
     "metadata": {},
     "output_type": "execute_result"
    }
   ],
   "source": [
    "# Метод sort() - это встроенный метод в Python, \n",
    "# который используется для сортировки элементов в списке на месте, \n",
    "# то есть изменяет оригинальный список, не создавая нового списка. Метод sort() \n",
    "# имеет следующий синтаксис:\n",
    "# Sorting with   key= callable\n",
    "\n",
    "ll = [1,-2,3,4,5,6,-7,9]\n",
    "ll.sort(reverse=True,key=float)\n",
    "ll\n"
   ]
  },
  {
   "cell_type": "code",
   "execution_count": 5,
   "id": "b0306d03-0db6-4551-b2ae-b3f9b8c68161",
   "metadata": {},
   "outputs": [
    {
     "data": {
      "text/plain": [
       "['9', '8', '7', '6', '5', '4', '3', '2', '1', '0']"
      ]
     },
     "execution_count": 5,
     "metadata": {},
     "output_type": "execute_result"
    }
   ],
   "source": [
    "# key (опционально) - функция, которая указывает на то, по какому критерию \n",
    "# должна выполняться сортировка. Если не указана, то сортировка будет производиться \n",
    "# по значениям элементов списка по умолчанию.\n",
    "# reverse (опционально) - булевое значение, указывающее на то, нужно ли \n",
    "# выполнять сортировку в обратном порядке (по умолчанию равно False, \n",
    "# то есть сортировка выполняется в возрастающем порядке).\n",
    "\n",
    "ff = [ g for g in '1234567890']\n",
    "\n",
    "ff.sort(reverse=True)\n",
    "\n",
    "ff"
   ]
  },
  {
   "cell_type": "code",
   "execution_count": 69,
   "id": "82e0aea6",
   "metadata": {},
   "outputs": [
    {
     "data": {
      "text/plain": [
       "['e', 'l', 'b', 'i', 's', 'r', 'e', 'v', 'e', 'r', 'r', 'i']"
      ]
     },
     "execution_count": 69,
     "metadata": {},
     "output_type": "execute_result"
    }
   ],
   "source": [
    "# list.reverse()\tРазворачивает список\n",
    "\n",
    "sps = list('irreversible')\n",
    "sps.reverse()\n",
    "sps"
   ]
  },
  {
   "cell_type": "code",
   "execution_count": 70,
   "id": "14e15ae4",
   "metadata": {},
   "outputs": [
    {
     "data": {
      "text/plain": [
       "['q', 'u', 'a', 'l', 'i', 't', 'y']"
      ]
     },
     "execution_count": 70,
     "metadata": {},
     "output_type": "execute_result"
    }
   ],
   "source": [
    "# list.copy()\tПоверхностная копия списка\n",
    "rr = list('quality')\n",
    "xx = rr.copy()\n",
    "xx\n"
   ]
  },
  {
   "cell_type": "code",
   "execution_count": 71,
   "id": "acd886f4",
   "metadata": {},
   "outputs": [
    {
     "data": {
      "text/plain": [
       "[]"
      ]
     },
     "execution_count": 71,
     "metadata": {},
     "output_type": "execute_result"
    }
   ],
   "source": [
    "# list.clear()\n",
    "abx = list('dissapiared')\n",
    "abx.clear()\n",
    "abx"
   ]
  },
  {
   "cell_type": "code",
   "execution_count": 89,
   "id": "a5027f2f",
   "metadata": {},
   "outputs": [
    {
     "name": "stdout",
     "output_type": "stream",
     "text": [
      "True\n"
     ]
    }
   ],
   "source": [
    "# Thats how we do checking the same list of letters\n",
    "def wrd_check(word1,word2):\n",
    "    print(sorted(list(word1)) == sorted(list(word2)))\n",
    "\n",
    "            \n",
    "ss = 'qwertyuiop' \n",
    "xs = 'poiuytrewq'\n",
    "\n",
    "wrd_check(ss,xs)"
   ]
  },
  {
   "cell_type": "code",
   "execution_count": 8,
   "id": "823dbaae-0b1d-4547-a888-febaf7078757",
   "metadata": {},
   "outputs": [
    {
     "data": {
      "text/plain": [
       "[1, 2, 3, 4, 5, 6, 7, 8]"
      ]
     },
     "execution_count": 8,
     "metadata": {},
     "output_type": "execute_result"
    }
   ],
   "source": [
    "*__,a,b= [1,2,3,4,5,6,7,8,9,0]\n",
    "\n",
    "__\n"
   ]
  },
  {
   "cell_type": "code",
   "execution_count": 2,
   "id": "221ad283-a7ba-4f28-b025-20630418dc19",
   "metadata": {},
   "outputs": [
    {
     "data": {
      "text/plain": [
       "5"
      ]
     },
     "execution_count": 2,
     "metadata": {},
     "output_type": "execute_result"
    }
   ],
   "source": [
    "lst = [1,2,3,4,5,6]\n",
    "ix = 6\n",
    "target = 7\n",
    "lst.index(ix)"
   ]
  },
  {
   "cell_type": "code",
   "execution_count": 2,
   "id": "8660088e-72d6-4a09-8c39-b1e78566f226",
   "metadata": {},
   "outputs": [
    {
     "data": {
      "text/plain": [
       "2"
      ]
     },
     "execution_count": 2,
     "metadata": {},
     "output_type": "execute_result"
    }
   ],
   "source": [
    "test = ['hello','abc','tree','four']\n",
    "\n",
    "test.index('abc') + 1"
   ]
  }
 ],
 "metadata": {
  "kernelspec": {
   "display_name": "Python 3 (ipykernel)",
   "language": "python",
   "name": "python3"
  },
  "language_info": {
   "codemirror_mode": {
    "name": "ipython",
    "version": 3
   },
   "file_extension": ".py",
   "mimetype": "text/x-python",
   "name": "python",
   "nbconvert_exporter": "python",
   "pygments_lexer": "ipython3",
   "version": "3.13.0a6"
  }
 },
 "nbformat": 4,
 "nbformat_minor": 5
}
