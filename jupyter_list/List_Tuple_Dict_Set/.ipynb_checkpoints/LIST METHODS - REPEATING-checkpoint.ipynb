{
 "cells": [
  {
   "cell_type": "markdown",
   "id": "291c3b75",
   "metadata": {},
   "source": [
    "# List methods - reharsal "
   ]
  },
  {
   "cell_type": "code",
   "execution_count": 6,
   "id": "58d9cbba",
   "metadata": {},
   "outputs": [
    {
     "data": {
      "text/plain": [
       "[1, 2, 3, 4, 5, 6, 7, 8, 9, 0]"
      ]
     },
     "execution_count": 6,
     "metadata": {},
     "output_type": "execute_result"
    }
   ],
   "source": [
    "# simple declaration\n",
    "lst = [1,2,3,4,5,6,7,8,9,0]\n",
    "lst"
   ]
  },
  {
   "cell_type": "code",
   "execution_count": 5,
   "id": "882ef1b9",
   "metadata": {},
   "outputs": [
    {
     "data": {
      "text/plain": [
       "['aa', 'bb', 'cc', 'dd']"
      ]
     },
     "execution_count": 5,
     "metadata": {},
     "output_type": "execute_result"
    }
   ],
   "source": [
    "# generative declaration\n",
    "other = [one * 2 for one  in 'abcd']\n",
    "other"
   ]
  },
  {
   "cell_type": "code",
   "execution_count": 7,
   "id": "ea36f26d",
   "metadata": {},
   "outputs": [
    {
     "data": {
      "text/plain": [
       "['wh', 'we', 'wl', 'oh', 'oe', 'ol', 'rh', 're', 'rl']"
      ]
     },
     "execution_count": 7,
     "metadata": {},
     "output_type": "execute_result"
    }
   ],
   "source": [
    "# profound list generator version\n",
    "third = [a + b for a in 'word' if a != 'd' for b in 'helo' if b != 'o']\n",
    "third"
   ]
  },
  {
   "cell_type": "code",
   "execution_count": 13,
   "id": "d225dc17",
   "metadata": {},
   "outputs": [
    {
     "data": {
      "text/plain": [
       "['aa', 'bb', 'cc', 'dd', 'ouch']"
      ]
     },
     "execution_count": 13,
     "metadata": {},
     "output_type": "execute_result"
    }
   ],
   "source": [
    "#methods\n",
    "other.append('ouch')\n",
    "other"
   ]
  },
  {
   "cell_type": "code",
   "execution_count": 26,
   "id": "023754ed",
   "metadata": {},
   "outputs": [
    {
     "data": {
      "text/plain": [
       "['a', 'b', 'c', 8, 9, 6, 'super']"
      ]
     },
     "execution_count": 26,
     "metadata": {},
     "output_type": "execute_result"
    }
   ],
   "source": [
    "# extender \n",
    "s = [8,9,6,'super']\n",
    "f = ['a','b','c']\n",
    "f.extend(s)\n",
    "f"
   ]
  },
  {
   "cell_type": "code",
   "execution_count": 33,
   "id": "75359382",
   "metadata": {},
   "outputs": [
    {
     "data": {
      "text/plain": [
       "[0, 9, 8, 'third element', 7, 6, 5, 4]"
      ]
     },
     "execution_count": 33,
     "metadata": {},
     "output_type": "execute_result"
    }
   ],
   "source": [
    "# Position Inserting \n",
    "g = [0,9,8,7,6,5,4]\n",
    "inserting_position: int = 3\n",
    "g.insert(inserting_position,\"third element\")\n",
    "g"
   ]
  },
  {
   "cell_type": "code",
   "execution_count": 36,
   "id": "fc5b3dca",
   "metadata": {},
   "outputs": [
    {
     "data": {
      "text/plain": [
       "[88, 77, 55, 44, 33, 22]"
      ]
     },
     "execution_count": 36,
     "metadata": {},
     "output_type": "execute_result"
    }
   ],
   "source": [
    "# Deletion by element in variable\n",
    "x = 66\n",
    "ss = [88,77,66,55,44,33,22]\n",
    "ss.remove(x)\n",
    "ss"
   ]
  },
  {
   "cell_type": "code",
   "execution_count": 45,
   "id": "6b8274f5",
   "metadata": {},
   "outputs": [
    {
     "data": {
      "text/plain": [
       "[12, 34, 56, 90]"
      ]
     },
     "execution_count": 45,
     "metadata": {},
     "output_type": "execute_result"
    }
   ],
   "source": [
    "# Elem deletion\n",
    "jj = [12,34,56,78,90]\n",
    "jj.pop(3)\n",
    "jj"
   ]
  },
  {
   "cell_type": "code",
   "execution_count": 55,
   "id": "908802aa",
   "metadata": {},
   "outputs": [
    {
     "data": {
      "text/plain": [
       "3"
      ]
     },
     "execution_count": 55,
     "metadata": {},
     "output_type": "execute_result"
    }
   ],
   "source": [
    "# Indexing Element in List\n",
    "find = 'F'\n",
    "start_val = 0\n",
    "end_val = 4\n",
    "kk = list('asdFghjk')\n",
    "kk.index(find,start_val,end_val)\n",
    "#It's good to know that end_val should be one step further than 'f' point \n"
   ]
  },
  {
   "cell_type": "code",
   "execution_count": 56,
   "id": "f9c0a8a2",
   "metadata": {},
   "outputs": [
    {
     "data": {
      "text/plain": [
       "3"
      ]
     },
     "execution_count": 56,
     "metadata": {},
     "output_type": "execute_result"
    }
   ],
   "source": [
    "# Simple count elems in a list \n",
    "elems = 'A'\n",
    "tt = list('zxcAAAbnm')\n",
    "tt.count(elems)\n"
   ]
  },
  {
   "cell_type": "code",
   "execution_count": 66,
   "id": "f9583919",
   "metadata": {},
   "outputs": [
    {
     "data": {
      "text/plain": [
       "[9, 6, 5, 4, 3, 1, -2, -7]"
      ]
     },
     "execution_count": 66,
     "metadata": {},
     "output_type": "execute_result"
    }
   ],
   "source": [
    "# Sorting with   key= callable\n",
    "\n",
    "ll = [1,-2,3,4,5,6,-7,9]\n",
    "ll.sort(reverse=True,key=float)\n",
    "ll\n"
   ]
  },
  {
   "cell_type": "code",
   "execution_count": 69,
   "id": "82e0aea6",
   "metadata": {},
   "outputs": [
    {
     "data": {
      "text/plain": [
       "['e', 'l', 'b', 'i', 's', 'r', 'e', 'v', 'e', 'r', 'r', 'i']"
      ]
     },
     "execution_count": 69,
     "metadata": {},
     "output_type": "execute_result"
    }
   ],
   "source": [
    "# list.reverse()\tРазворачивает список\n",
    "\n",
    "sps = list('irreversible')\n",
    "sps.reverse()\n",
    "sps"
   ]
  },
  {
   "cell_type": "code",
   "execution_count": 70,
   "id": "14e15ae4",
   "metadata": {},
   "outputs": [
    {
     "data": {
      "text/plain": [
       "['q', 'u', 'a', 'l', 'i', 't', 'y']"
      ]
     },
     "execution_count": 70,
     "metadata": {},
     "output_type": "execute_result"
    }
   ],
   "source": [
    "# list.copy()\tПоверхностная копия списка\n",
    "rr = list('quality')\n",
    "xx = rr.copy()\n",
    "xx\n"
   ]
  },
  {
   "cell_type": "code",
   "execution_count": 71,
   "id": "acd886f4",
   "metadata": {},
   "outputs": [
    {
     "data": {
      "text/plain": [
       "[]"
      ]
     },
     "execution_count": 71,
     "metadata": {},
     "output_type": "execute_result"
    }
   ],
   "source": [
    "# list.clear()\n",
    "abx = list('dissapiared')\n",
    "abx.clear()\n",
    "abx"
   ]
  },
  {
   "cell_type": "code",
   "execution_count": 89,
   "id": "a5027f2f",
   "metadata": {},
   "outputs": [
    {
     "name": "stdout",
     "output_type": "stream",
     "text": [
      "True\n"
     ]
    }
   ],
   "source": [
    "# Thats how we do checking the same list of letters\n",
    "def wrd_check(word1,word2):\n",
    "    print(sorted(list(word1)) == sorted(list(word2)))\n",
    "\n",
    "            \n",
    "ss = 'qwertyuiop' \n",
    "xs = 'poiuytrewq'\n",
    "\n",
    "wrd_check(ss,xs)"
   ]
  }
 ],
 "metadata": {
  "kernelspec": {
   "display_name": "Python 3 (ipykernel)",
   "language": "python",
   "name": "python3"
  },
  "language_info": {
   "codemirror_mode": {
    "name": "ipython",
    "version": 3
   },
   "file_extension": ".py",
   "mimetype": "text/x-python",
   "name": "python",
   "nbconvert_exporter": "python",
   "pygments_lexer": "ipython3",
   "version": "3.10.9"
  }
 },
 "nbformat": 4,
 "nbformat_minor": 5
}
