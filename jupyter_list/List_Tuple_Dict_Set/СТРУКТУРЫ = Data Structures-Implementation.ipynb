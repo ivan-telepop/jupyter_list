{
 "cells": [
  {
   "cell_type": "markdown",
   "id": "868984f9",
   "metadata": {},
   "source": [
    "BASIC DATA STRUCTURES\n",
    "\n",
    "LINEAR:                                     NON LINEAR:\n",
    "        \n",
    "    ARRAY                                     TREE\n",
    "    STACK                                     GRAPH\n",
    "    QUEUE                                     PERFIX TRIE\n",
    "    LINKED LIST                               HASH TABLE"
   ]
  },
  {
   "cell_type": "code",
   "execution_count": null,
   "id": "08edf1e0",
   "metadata": {},
   "outputs": [],
   "source": []
  },
  {
   "cell_type": "code",
   "execution_count": null,
   "id": "8bee1c1d",
   "metadata": {},
   "outputs": [],
   "source": [
    "# MODULE ARRAY\n",
    "#  https://docs.python.org/3/library/array.html\n",
    "# important to know which type of array do you need to create"
   ]
  },
  {
   "cell_type": "code",
   "execution_count": 35,
   "id": "83d271da",
   "metadata": {},
   "outputs": [
    {
     "name": "stdout",
     "output_type": "stream",
     "text": [
      "8 0 77\n"
     ]
    },
    {
     "data": {
      "text/plain": [
       "array('q', [8, 0, 77, 22, 33, 44])"
      ]
     },
     "execution_count": 35,
     "metadata": {},
     "output_type": "execute_result"
    }
   ],
   "source": [
    "import array as arr\n",
    "\n",
    "myarr = arr.array('q',[5,6,7,8,9,0,77,77])\n",
    "len(bytes(myarr))\n",
    "#APPENDING\n",
    "myarr.append(88)\n",
    "myarr[4]\n",
    "# POPING BY INDEX\n",
    "myarr.pop(4)\n",
    "myarr\n",
    "myarr.pop(2)\n",
    "\n",
    "\n",
    "# INSERTION\n",
    "index = 1\n",
    "value = 77\n",
    "\n",
    "myarr.insert(index,value)\n",
    "myarr\n",
    "# REMOVE BY ELEM TO FIND\n",
    "myarr.remove(77)\n",
    "myarr\n",
    "# S L I C I N G\n",
    "sliced = myarr[2:5]\n",
    "print(*sliced)\n",
    "#Extend\n",
    "sliced.extend((22,33,44))\n",
    "sliced"
   ]
  }
 ],
 "metadata": {
  "kernelspec": {
   "display_name": "Python 3 (ipykernel)",
   "language": "python",
   "name": "python3"
  },
  "language_info": {
   "codemirror_mode": {
    "name": "ipython",
    "version": 3
   },
   "file_extension": ".py",
   "mimetype": "text/x-python",
   "name": "python",
   "nbconvert_exporter": "python",
   "pygments_lexer": "ipython3",
   "version": "3.13.0a6"
  }
 },
 "nbformat": 4,
 "nbformat_minor": 5
}
