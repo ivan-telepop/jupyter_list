{
 "cells": [
  {
   "cell_type": "markdown",
   "id": "12a2e239-9371-44ad-97b3-ec32caeab31f",
   "metadata": {},
   "source": [
    "### Что такое множество - set() - frozenset()(неизменяемое)\n",
    "\n",
    "Множество – это неупорядоченная коллекция хешируемых объектов, которые не повторяются. В множествах нет понятия позиции элемента. Соответственно, они не поддерживают индексацию и срезы. Встроенные классы множеств: set (изменяемое множество), frozenset (неизменяемое множество).\n",
    "\n",
    "Для чего применяются множества\n",
    "Обычно используются для проверки элемента на вхождение в множество и удаление повторений элементов и выполнения таких операций, как объединение, пересечение, разница и симметрическая разница.\n",
    "\n",
    "Какие операции можно производить над множествами\n",
    "set([iterable]), frozenset([iterable]) – создание множества (пустого или из элементов итерабельного объекта)\n",
    "len(s) – количество элементов множества\n",
    "x in s, x not in s – проверка нахождения элемента в множестве\n",
    "s.isdisjoint(t) – проверка того, что данное множество не имеет общих элементов с заданным\n",
    "s.issubset(t), s <= t – проверка того, что все элементы множества s являются элементами множества t\n",
    "s < t – проверка того, что s <= t и s != t\n",
    "s.isuperset(t), s >= t – проверка того, что все элементы множества t являются элементами множества s\n",
    "s > t – проверка того, что s >= t и s != t\n",
    "s.union(t, ...), s | t | ... – создание нового множества, которое является объединением данных множеств\n",
    "s.intersection(t, ...), s & t & ... – создание нового множества, которое является пересечением данных множеств\n",
    "s.difference(t, ...), s - t - ... – создание нового множества, которое является разницей данных множеств\n",
    "s.symmetric_difference(t), s ^ t – создание нового множества, которое является симметрической разницей данных множеств (то есть, разница объединения и пересечения множеств)\n",
    "s.copy() – неполная копия множества s\n",
    "Операции над множествами, которые являются методами, принимают в качестве аргументов любые итерабельные объекты. Операции над множествами, записанные в виде бинарных операций, требуют, чтобы второй операнд операции тоже был множеством, и возвращают множество того типа, которым было первое множество.\n",
    "\n",
    "Операции над изменяемыми множествами:\n",
    "\n",
    "s.update(t, ...), s |= t | ... – добавить в данное множество элементы из других множеств\n",
    "s.intersection_update(t, ...), s &= t & ... – оставить в данном множестве только те элементы, которые есть и в других множествах\n",
    "s.difference_update(t, ...), s -= t | ... – удалить из данного множества те элементы, которые есть в других множествах\n",
    "s.symmetric_difference_update(t), s ^= t – оставить или добавить в s элементы, которые есть либо в s, либо в t, но не в обоих множествах\n",
    "s.add(element) – добавить новый элемент в множество\n",
    "s.remove(element) – удалить элемент из множества; если такого элемента нет, возникает исключение KeyError\n",
    "s.discard(element) – удалить элемент из множества, если он в нём находится\n",
    "s.pop() – удалить из множества и вернуть произвольный элемент; если множество пустое, возникает исключение KeyError\n",
    "s.clear() – удалить все элементы множества.\n",
    "Как происходит проверка множеств на равенство\n",
    "Проверка множеств на равенство происходит поэлементно, независимо от типов множеств."
   ]
  },
  {
   "cell_type": "code",
   "execution_count": 64,
   "id": "0c9fda4b-d1f2-4daf-8d4e-11d4d3d6565d",
   "metadata": {},
   "outputs": [
    {
     "name": "stdout",
     "output_type": "stream",
     "text": [
      "True\n",
      "\n",
      "\n",
      "False\n",
      "True\n",
      "\n",
      "\n",
      "True issubset\n",
      "False issupperset\n",
      "\n",
      "\n",
      "{'d', 'f', 'g', 'e', 'a', 'c', 'b'} union\n",
      "{'d', 'f', 'g', 'e', 'a', 'c', 'b'} \n",
      "\n",
      "set() intersection\n",
      "{'y', 'l', 'x'}\n"
     ]
    }
   ],
   "source": [
    "# Set and methods\n",
    "from string import ascii_letters ,ascii_lowercase\n",
    "it_obj = [i for i in ascii_lowercase]\n",
    "\n",
    "set_obj = set(it_obj)\n",
    "\n",
    "# check if exist in set\n",
    "print('f' in set_obj)\n",
    "print(\"\\n\")\n",
    "\n",
    "# if not exist\n",
    "print('z' not in set_obj)\n",
    "\n",
    "\n",
    "# two sets\n",
    "s_one = {y for y in 'abcf'}\n",
    "s_two = {y for y in 'defg'}\n",
    "\n",
    "\n",
    "# проверка того, что данное множество не имеет общих элементов с заданным - True /False\n",
    "print({'a','b','c'}.isdisjoint({'d','e','f'})) # True\n",
    "print(\"\\n\")\n",
    "\n",
    "\n",
    "# s.issubset(t), s <= t – проверка того, что все элементы множества s являются элементами множества t\n",
    "\n",
    "print({'0','8','7'}.issubset({'0','8','7'}), 'issubset') # pay attention that methods taking arg as list too\n",
    "\n",
    "\n",
    "\n",
    "# s.issuperset(t), s >= t – проверка того, что все элементы множества t являются элементами множества s\n",
    "\n",
    "\n",
    "ff = set([1,2,3])\n",
    "print(ff.issuperset(['s','d','f','g']),\"issupperset\") # pay attention that methods taking arg as list too\n",
    "\n",
    "print(\"\\n\")\n",
    "\n",
    "\n",
    "# s.union(t, ...), s | t | ... – создание нового множества, которое является объединением данных множеств\n",
    "print(s_one.union(s_two),\"union\")\n",
    "ns = s_one | s_two # The same meaning\n",
    "\n",
    "print(ns,\"\\n\")\n",
    "\n",
    "# s.intersection(t, ...), s & t & ... – создание нового множества, которое является пересечением данных множеств\n",
    "a = set('abc')\n",
    "b = set('cdef')\n",
    "c = set('fghjkl')\n",
    "kk = a.intersection(b,c)\n",
    "gg = a & b & c #@ the same as upper definition\n",
    "print(kk,\"intersection\") # it should work but doesnt - prints nothing\n",
    "\n"
   ]
  },
  {
   "cell_type": "code",
   "execution_count": 69,
   "id": "625fb89f-49ba-4f86-abd8-238fe3b3200d",
   "metadata": {},
   "outputs": [
    {
     "name": "stdout",
     "output_type": "stream",
     "text": [
      "{'d', 'm', 'p', 'u', 't', 'a', 's', 'o', 'w', 'v', 'q', 'k', 'b', 'i', 'f', 'g', 'n', 'e', 'r', 'h', 'c'}\n"
     ]
    }
   ],
   "source": [
    "# s.difference(t, ...), s - t - ... – создание нового множества, которое является разницей данных множеств\n",
    "a = set('xyzjl')\n",
    "c = set('zj')\n",
    "basic = set(ascii_lowercase)\n",
    "dif = basic.difference(a,c)\n",
    "ndif = basic - a  - c\n",
    "\n",
    "print(ndif)\n",
    "\n"
   ]
  },
  {
   "cell_type": "code",
   "execution_count": 97,
   "id": "f93a3f8c-b40b-4f67-bbc5-6fe16613755b",
   "metadata": {},
   "outputs": [
    {
     "name": "stdout",
     "output_type": "stream",
     "text": [
      "{0, 1, 2, 3, 7, 8, 9}\n"
     ]
    }
   ],
   "source": [
    "# s.symmetric_difference(t), s ^ t – создание нового множества, которое является симметрической разницей данных множеств \n",
    "# (то есть, разница объединения и пересечения множеств)\n",
    "\n",
    "st = set(range(0,10))\n",
    "st2 = [4,5,6]\n",
    "st0 = [0,1]\n",
    "ls = [st2,st0]\n",
    "smmd = st.symmetric_difference(st2)\n",
    "\n",
    "print(smmd)"
   ]
  },
  {
   "cell_type": "code",
   "execution_count": 98,
   "id": "2ada38f5-79c5-4c6f-bf3d-161e187cf86c",
   "metadata": {},
   "outputs": [
    {
     "name": "stdout",
     "output_type": "stream",
     "text": [
      "None\n"
     ]
    },
    {
     "data": {
      "text/plain": [
       "{1, 2, 3, 4, 5, 6}"
      ]
     },
     "execution_count": 98,
     "metadata": {},
     "output_type": "execute_result"
    }
   ],
   "source": [
    "# s.update(t, ...), s |= t | ... – добавить в данное множество элементы из других множеств\n",
    "p = {'h','g','k'}\n",
    "print(st.update(p))\n",
    "\n",
    "\n",
    "\n",
    "#s.intersection_update(t, ...), s &= t & ... – оставить в данном множестве только \n",
    "#те элементы, которые есть и в других множествах\n",
    "dd = set([1,2,3,4,5,6])\n",
    "dd.\n"
   ]
  },
  {
   "cell_type": "code",
   "execution_count": null,
   "id": "70c74390-c667-48da-bd17-15fd9d44358e",
   "metadata": {},
   "outputs": [],
   "source": [
    "# Операции над изменяемыми множествами:\n",
    "\n",
    "# s.update(t, ...), s |= t | ... – добавить в данное множество элементы из других множеств\n",
    "# s.intersection_update(t, ...), s &= t & ... – оставить в данном множестве только те элементы, которые есть и в других множествах\n",
    "# s.difference_update(t, ...), s -= t | ... – удалить из данного множества те элементы, которые есть в других множествах\n",
    "# s.symmetric_difference_update(t), s ^= t – оставить или добавить в s элементы, которые есть либо в s, либо в t, но не в обоих множествах\n",
    "# s.add(element) – добавить новый элемент в множество\n",
    "# s.remove(element) – удалить элемент из множества; если такого элемента нет, возникает исключение KeyError\n",
    "# s.discard(element) – удалить элемент из множества, если он в нём находится\n",
    "# s.pop() – удалить из множества и вернуть произвольный элемент; если множество пустое, возникает исключение KeyError\n",
    "# s.clear() – удалить все элементы множества.\n"
   ]
  },
  {
   "cell_type": "code",
   "execution_count": 15,
   "id": "c4d62d29-11e5-4041-b455-116956706cb2",
   "metadata": {},
   "outputs": [
    {
     "name": "stdout",
     "output_type": "stream",
     "text": [
      "{1, 2, 'foo1', 'hola', 'foo', 'hola1'} Т, Сложение обоих множеств без дублей\n"
     ]
    },
    {
     "data": {
      "text/plain": [
       "{'d', 'e', 'h', 'o', 'r', 't', 'w'}"
      ]
     },
     "execution_count": 15,
     "metadata": {},
     "output_type": "execute_result"
    }
   ],
   "source": [
    "mng1 = set((1,'hola',True,'foo',2))\n",
    "\n",
    "mng2 = set((1,'hola1',True,'foo1',2))\n",
    "\n",
    "ff = mng1 | mng2 # \n",
    "\n",
    "\n",
    "print(ff, \"Т, Сложение обоих множеств без дублей\")\n",
    "\n",
    "ff2 = mng1 & mng2 # то что есть в обоих - ПЕРЕСЕЧЕНИЕ\n",
    "\n",
    "ff2.update('new')\n",
    "\n",
    "ff2\n",
    "\n",
    "wrd = set(('theword'))\n",
    "\n",
    "wrd"
   ]
  }
 ],
 "metadata": {
  "kernelspec": {
   "display_name": "Python 3 (ipykernel)",
   "language": "python",
   "name": "python3"
  },
  "language_info": {
   "codemirror_mode": {
    "name": "ipython",
    "version": 3
   },
   "file_extension": ".py",
   "mimetype": "text/x-python",
   "name": "python",
   "nbconvert_exporter": "python",
   "pygments_lexer": "ipython3",
   "version": "3.9.6"
  }
 },
 "nbformat": 4,
 "nbformat_minor": 5
}
