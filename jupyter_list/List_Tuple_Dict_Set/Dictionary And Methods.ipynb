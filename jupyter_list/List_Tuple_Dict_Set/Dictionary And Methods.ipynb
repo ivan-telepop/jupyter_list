{
 "cells": [
  {
   "cell_type": "code",
   "execution_count": 3,
   "id": "015a962e-c329-4f03-9ce7-5936daedc787",
   "metadata": {},
   "outputs": [
    {
     "name": "stdout",
     "output_type": "stream",
     "text": [
      "Maybe\n"
     ]
    }
   ],
   "source": [
    "# YOU SHOULD KNOW !!!\n",
    "x = {True:'Yes', 1:'No', 1.0:'Maybe'} \n",
    "\n",
    "\n",
    "print(x[True])"
   ]
  },
  {
   "cell_type": "code",
   "execution_count": 1,
   "id": "5931d21f-03a9-4c67-b86c-5f28c2db5e08",
   "metadata": {},
   "outputs": [
    {
     "name": "stdout",
     "output_type": "stream",
     "text": [
      "remote\n"
     ]
    }
   ],
   "source": [
    "\n",
    "testDict = {\n",
    "    \"name\": \"superCoder\", \n",
    "    \"founder\": \"ivan Goncharov\",\n",
    "    \"type\": \"charity\", \n",
    "    \"age\": 8, \n",
    "    \"price\": \"free\", \n",
    "    \"work-style\": \"remote\",\n",
    "}\n",
    "\n",
    "# if 'ivan Goncharov' in  testDict.values():\n",
    "#     for one in testDict.items():\n",
    "#         print(type(one))\n",
    "\n",
    "print(testDict.get('work-style'))"
   ]
  },
  {
   "cell_type": "code",
   "execution_count": 37,
   "id": "7e57be82-30de-4d69-9724-48de53dc8d92",
   "metadata": {},
   "outputs": [
    {
     "data": {
      "text/plain": [
       "{'Bangladesh': 880,\n",
       " 'Brazil': 55,\n",
       " 'China': 86,\n",
       " 'India': 91,\n",
       " 'Indonesia': 62,\n",
       " 'Japan': 81,\n",
       " 'Nigeria': 234,\n",
       " 'Pakistan': 92,\n",
       " 'Russia': 7,\n",
       " 'United States': 1}"
      ]
     },
     "execution_count": 37,
     "metadata": {},
     "output_type": "execute_result"
    }
   ],
   "source": [
    "# Dict Comprehension Example\n",
    "\n",
    "dial_codes = [ \n",
    "    (880, 'Bangladesh'),\n",
    "    (55, 'Brazil'),(86, 'China'),\n",
    "    (91, 'India'),(62, 'Indonesia'),\n",
    "    (81, 'Japan'),(234, 'Nigeria'),\n",
    "    (92, 'Pakistan'),(7, 'Russia'),\n",
    "    (1, 'United States')\n",
    "            ]\n",
    "\n",
    "country_dial = { key : value for value, key in dial_codes } # Substituted while comprehension >>\n",
    "# key:value as we had since the beggining then changed value:key\n",
    "# Result is \n",
    "# {'Bangladesh': 880, 'Brazil': 55, 'China': 86, 'India': 91, 'Indonesia': 62, 'Japan': 81, 'Nigeria': 234, 'Pakistan': 92, 'Russia': 7, 'United States': 1}\n",
    "\n",
    "# sorting these items\n",
    "country_dial\n"
   ]
  },
  {
   "cell_type": "code",
   "execution_count": 39,
   "id": "a41e04ab-0602-4d7e-9237-95a485d4bcda",
   "metadata": {},
   "outputs": [
    {
     "data": {
      "text/plain": [
       "{55: 'BRAZIL', 7: 'RUSSIA', 1: 'UNITED STATES'}"
      ]
     },
     "execution_count": 39,
     "metadata": {},
     "output_type": "execute_result"
    }
   ],
   "source": [
    "# key:val changed again...\n",
    "sorted_dials = { code: country.upper() for country, code in sorted(country_dial.items()) if code < 62 }\n",
    "sorted_dials"
   ]
  },
  {
   "cell_type": "code",
   "execution_count": 55,
   "id": "9e16e0af-3252-4499-a422-4aa0a9274f3f",
   "metadata": {},
   "outputs": [
    {
     "data": {
      "text/plain": [
       "{'a': 1, 'q': 3, 'w': 44, 'e': 0, 'c': 3}"
      ]
     },
     "execution_count": 55,
     "metadata": {},
     "output_type": "execute_result"
    }
   ],
   "source": [
    "# PEP 448 «Additional Unpacking Generalizations» \n",
    "# maybe somewhere would be great to generate such way dicts\n",
    "\n",
    "some = {'q':3,'w':44,'e':0}\n",
    "\n",
    "def mock(**kwargs):\n",
    "    return kwargs\n",
    "\n",
    "mock(a=1,**some,c=3)"
   ]
  },
  {
   "cell_type": "code",
   "execution_count": 77,
   "id": "427ca252-71af-4054-898a-974f05ec6f50",
   "metadata": {},
   "outputs": [
    {
     "data": {
      "text/plain": [
       "{'q': 0, 'w': 1, 'i': 100, 'o': 101, 'p': 102}"
      ]
     },
     "execution_count": 77,
     "metadata": {},
     "output_type": "execute_result"
    }
   ],
   "source": [
    "#  Обьеденение оператором |\n",
    "# \n",
    "tt = { key: val for val,key in zip(range(5),'qwi') }\n",
    "ff = { key: val for val,key in zip(range(100,110),'iop') }\n",
    "\n",
    "tt |=ff\n",
    "tt"
   ]
  },
  {
   "cell_type": "code",
   "execution_count": null,
   "id": "2136cab3-5d28-4f15-acaa-2d54eb91a226",
   "metadata": {},
   "outputs": [],
   "source": [
    "# This is good for retrieving list of values from DB or any JSON\n",
    "\n",
    "\n",
    "# 101 page from book\n",
    "\n",
    "\n",
    "# def get_creators(record: dict) -> list:\n",
    "#        match record:\n",
    "#            case {'type': 'book', 'api': 2, 'authors': [*names]}:\n",
    "#                return names\n",
    "#            case {'type': 'book', 'api': 1, 'author': name}:\n",
    "#                return [name]\n",
    "#             case {'type': 'book'}:\n",
    "#                raise ValueError(f\"Invalid 'book' record: {record!r}\")\n",
    "#             case {'type': 'movie', 'director': name}: \n",
    "#                return [name]\n",
    "#             case _:\n",
    "#                 raise ValueError(f'Invalid record: {record! r}')"
   ]
  },
  {
   "cell_type": "code",
   "execution_count": 4,
   "id": "786eb9d7-0eac-4ffc-9d7c-6d063a3791d2",
   "metadata": {},
   "outputs": [
    {
     "data": {
      "text/plain": [
       "{'name': 'ivan', 'age': 45}"
      ]
     },
     "execution_count": 4,
     "metadata": {},
     "output_type": "execute_result"
    }
   ],
   "source": [
    "dict(name='ivan',age=45)"
   ]
  },
  {
   "cell_type": "code",
   "execution_count": null,
   "id": "fecc7947-0f2c-4820-9cc7-09749a863ca4",
   "metadata": {},
   "outputs": [],
   "source": [
    "# clear()\tRemoves all the elements from the dictionary\n",
    "# copy()\tReturns a copy of the dictionary\n",
    "# fromkeys()\tReturns a dictionary with the specified keys and value\n",
    "# get()\tReturns the value of the specified key\n",
    "# items()\tReturns a list containing a tuple for each key value pair\n",
    "# keys()\tReturns a list containing the dictionary's keys\n",
    "# pop()\tRemoves the element with the specified key\n",
    "# popitem()\tRemoves the last inserted key-value pair\n",
    "# setdefault()\tReturns the value of the specified key. If the key does not exist: insert the key, with the specified value\n",
    "# update()\tUpdates the dictionary with the specified key-value pairs\n",
    "# values()\tReturns a list of all the values in the dictionary"
   ]
  },
  {
   "cell_type": "code",
   "execution_count": 7,
   "id": "e384926e-f3c5-47ca-8e47-d4fad9f5ffaf",
   "metadata": {},
   "outputs": [
    {
     "name": "stdout",
     "output_type": "stream",
     "text": [
      "{'a': 1, 'b': 2, 'c': 3, 'd': 4, 'e': 5, 'foo': 'test'}\n"
     ]
    },
    {
     "data": {
      "text/plain": [
       "{'a': 1, 'b': 2, 'c': 3, 'd': 4, 'e': 5, 'foo': 'test', 'evan': 'super'}"
      ]
     },
     "execution_count": 7,
     "metadata": {},
     "output_type": "execute_result"
    }
   ],
   "source": [
    "dct = {'a':1,'b':2,'c':3,'d':4,'e':5}\n",
    "\n",
    "dct.setdefault('foo','test')\n",
    "dct\n",
    "dct.setdefault('a')\n",
    "print(dct)\n",
    "\n",
    "dct.update(evan='super')\n",
    "\n",
    "dct"
   ]
  }
 ],
 "metadata": {
  "kernelspec": {
   "display_name": "Python 3 (ipykernel)",
   "language": "python",
   "name": "python3"
  },
  "language_info": {
   "codemirror_mode": {
    "name": "ipython",
    "version": 3
   },
   "file_extension": ".py",
   "mimetype": "text/x-python",
   "name": "python",
   "nbconvert_exporter": "python",
   "pygments_lexer": "ipython3",
   "version": "3.13.0a6"
  }
 },
 "nbformat": 4,
 "nbformat_minor": 5
}
