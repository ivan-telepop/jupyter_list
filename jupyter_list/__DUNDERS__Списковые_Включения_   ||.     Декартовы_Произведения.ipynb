{
 "cells": [
  {
   "cell_type": "markdown",
   "id": "7522d659",
   "metadata": {},
   "source": [
    "# BUILT INS\n",
    "# https://docs.python.org/3.3/library/functions.html"
   ]
  },
  {
   "cell_type": "code",
   "execution_count": 1,
   "id": "2535a959",
   "metadata": {},
   "outputs": [
    {
     "data": {
      "text/plain": [
       "'e'"
      ]
     },
     "execution_count": 1,
     "metadata": {},
     "output_type": "execute_result"
    }
   ],
   "source": [
    "# When we calling method get by item something like this obj(4) we do dunder method __getitem__ under the hood.\n",
    "obj = ['a','b','c','d','e','f','g','h']\n",
    "obj.__getitem__(4)"
   ]
  },
  {
   "cell_type": "code",
   "execution_count": 17,
   "id": "dd027301",
   "metadata": {},
   "outputs": [
    {
     "name": "stdout",
     "output_type": "stream",
     "text": [
      "False\n"
     ]
    },
    {
     "data": {
      "text/plain": [
       "[ONE(item='tens', number=1),\n",
       " ONE(item='tens', number=2),\n",
       " ONE(item='tens', number=3),\n",
       " ONE(item='tens', number=4),\n",
       " ONE(item='tens', number=5),\n",
       " ONE(item='tens', number='A'),\n",
       " ONE(item='tens', number='B'),\n",
       " ONE(item='tens', number='C'),\n",
       " ONE(item='tens', number='D'),\n",
       " ONE(item='tens', number='E'),\n",
       " ONE(item='tventies', number=1),\n",
       " ONE(item='tventies', number=2),\n",
       " ONE(item='tventies', number=3),\n",
       " ONE(item='tventies', number=4),\n",
       " ONE(item='tventies', number=5),\n",
       " ONE(item='tventies', number='A'),\n",
       " ONE(item='tventies', number='B'),\n",
       " ONE(item='tventies', number='C'),\n",
       " ONE(item='tventies', number='D'),\n",
       " ONE(item='tventies', number='E'),\n",
       " ONE(item='thirties', number=1),\n",
       " ONE(item='thirties', number=2),\n",
       " ONE(item='thirties', number=3),\n",
       " ONE(item='thirties', number=4),\n",
       " ONE(item='thirties', number=5),\n",
       " ONE(item='thirties', number='A'),\n",
       " ONE(item='thirties', number='B'),\n",
       " ONE(item='thirties', number='C'),\n",
       " ONE(item='thirties', number='D'),\n",
       " ONE(item='thirties', number='E'),\n",
       " ONE(item='forties', number=1),\n",
       " ONE(item='forties', number=2),\n",
       " ONE(item='forties', number=3),\n",
       " ONE(item='forties', number=4),\n",
       " ONE(item='forties', number=5),\n",
       " ONE(item='forties', number='A'),\n",
       " ONE(item='forties', number='B'),\n",
       " ONE(item='forties', number='C'),\n",
       " ONE(item='forties', number='D'),\n",
       " ONE(item='forties', number='E'),\n",
       " ONE(item='fifties', number=1),\n",
       " ONE(item='fifties', number=2),\n",
       " ONE(item='fifties', number=3),\n",
       " ONE(item='fifties', number=4),\n",
       " ONE(item='fifties', number=5),\n",
       " ONE(item='fifties', number='A'),\n",
       " ONE(item='fifties', number='B'),\n",
       " ONE(item='fifties', number='C'),\n",
       " ONE(item='fifties', number='D'),\n",
       " ONE(item='fifties', number='E')]"
      ]
     },
     "execution_count": 17,
     "metadata": {},
     "output_type": "execute_result"
    }
   ],
   "source": [
    "import collections\n",
    "\n",
    "One = collections.namedtuple('ONE',['item','number']) # One item class implemented with namedtuple\n",
    "foo = One(1,2)\n",
    "\n",
    "names = 'tens tventies thirties forties fifties'.split()\n",
    "\n",
    "numbers = [i for i in range(1,6)]+list('ABCDE')\n",
    "\n",
    "wholeset = [One(name,num) for name in names for num in numbers]\n",
    "\n",
    "# Also its important to understand that when you askin something like bla bla IN - in calls __contains__\n",
    "print(numbers.__contains__(13)) # >> False / True\n",
    "\n",
    "\n",
    "# len(wholeset)\n",
    "wholeset"
   ]
  },
  {
   "cell_type": "code",
   "execution_count": 8,
   "id": "08a4eb5d",
   "metadata": {},
   "outputs": [
    {
     "data": {
      "text/plain": [
       "[ONE(item='tens', number='C'),\n",
       " ONE(item='tventies', number='C'),\n",
       " ONE(item='thirties', number='C'),\n",
       " ONE(item='forties', number='C'),\n",
       " ONE(item='fifties', number='C')]"
      ]
     },
     "execution_count": 8,
     "metadata": {},
     "output_type": "execute_result"
    }
   ],
   "source": [
    "from random import choice\n",
    "\n",
    "choice(wholeset)\n",
    "\n",
    "wholeset[5::10] # Thats how we slicing and passing 10s elems but showing each 5 elem\n",
    "wholeset[1::10]\n",
    "wholeset[7::10]\n",
    "# del(wholeset[7::11])\n",
    "# wholeset\n",
    "# del(wholeset[0::10])\n",
    "# wholeset"
   ]
  },
  {
   "cell_type": "code",
   "execution_count": 91,
   "id": "6eccfabb",
   "metadata": {},
   "outputs": [
    {
     "name": "stdout",
     "output_type": "stream",
     "text": [
      "3.0\n",
      "4.0\n",
      "<class 'complex'>\n"
     ]
    },
    {
     "data": {
      "text/plain": [
       "(8+6j)"
      ]
     },
     "execution_count": 91,
     "metadata": {},
     "output_type": "execute_result"
    }
   ],
   "source": [
    "# COMPLEX NUMBERS\n",
    "\n",
    "v1 = complex(3,4)\n",
    "v2 = complex(5,2)\n",
    "\n",
    "\n",
    "\n",
    "# REAL - Вещевственная\n",
    "print(v1.real)\n",
    "\n",
    "#IMAGINERY - Мнимая\n",
    "print(v1.imag)\n",
    "\n",
    "cmp = 7+5j\n",
    "\n",
    "print(type(cmp))\n",
    "\n",
    "v1 + v2"
   ]
  },
  {
   "cell_type": "code",
   "execution_count": 5,
   "id": "81e3013d",
   "metadata": {},
   "outputs": [
    {
     "data": {
      "text/plain": [
       "False"
      ]
     },
     "execution_count": 5,
     "metadata": {},
     "output_type": "execute_result"
    }
   ],
   "source": [
    "# Abstract class can override __subclasshook__() method to customize issubclass(). \n",
    "gg = object\n",
    "\n",
    "class Alpha:\n",
    "    pass\n",
    "class Betha(Alpha):\n",
    "    pass\n",
    "\n",
    "class Unknown:\n",
    "    pass\n",
    "\n",
    "# gg.__subclasshook__()\n",
    "\n",
    "issubclass(Betha,Unknown)"
   ]
  },
  {
   "cell_type": "code",
   "execution_count": 6,
   "id": "ba5a1ca8",
   "metadata": {},
   "outputs": [
    {
     "data": {
      "text/plain": [
       "['__class__',\n",
       " '__delattr__',\n",
       " '__dir__',\n",
       " '__doc__',\n",
       " '__eq__',\n",
       " '__format__',\n",
       " '__ge__',\n",
       " '__getattribute__',\n",
       " '__gt__',\n",
       " '__hash__',\n",
       " '__init__',\n",
       " '__init_subclass__',\n",
       " '__le__',\n",
       " '__lt__',\n",
       " '__ne__',\n",
       " '__new__',\n",
       " '__reduce__',\n",
       " '__reduce_ex__',\n",
       " '__repr__',\n",
       " '__setattr__',\n",
       " '__sizeof__',\n",
       " '__str__',\n",
       " '__subclasshook__']"
      ]
     },
     "execution_count": 6,
     "metadata": {},
     "output_type": "execute_result"
    }
   ],
   "source": [
    "ss = range(199)\n",
    "ss\n",
    "\n",
    "dir(object)"
   ]
  },
  {
   "cell_type": "code",
   "execution_count": 14,
   "id": "45b4cd73",
   "metadata": {},
   "outputs": [
    {
     "data": {
      "text/plain": [
       "dict_keys(['f', 'e', 'a'])"
      ]
     },
     "execution_count": 14,
     "metadata": {},
     "output_type": "execute_result"
    }
   ],
   "source": [
    "#Переупорядочить ключи словаря dict так,\n",
    "#как вам хочется, невозможно.\n",
    "\n",
    "mydict = {'f': 323, 'e':44,'a':93}\n",
    "mydict.keys()\n",
    "\n"
   ]
  },
  {
   "cell_type": "code",
   "execution_count": 29,
   "id": "bc856480",
   "metadata": {},
   "outputs": [
    {
     "data": {
      "text/plain": [
       "<memory at 0x110193e80>"
      ]
     },
     "execution_count": 29,
     "metadata": {},
     "output_type": "execute_result"
    }
   ],
   "source": [
    "# memoryview example\n",
    "memoryview(bytes(str.encode('utf-8')))\n"
   ]
  },
  {
   "cell_type": "code",
   "execution_count": 44,
   "id": "554577a4",
   "metadata": {},
   "outputs": [
    {
     "name": "stdout",
     "output_type": "stream",
     "text": [
      "['ananas', 'bananas', 'anagramma', 'anuta']\n",
      "[2, 4, 6, 8, 10, 12, 14, 16, 18, 20, 22, 24, 26, 28, 30, 32, 34, 36, 38, 40, 42, 44, 46, 48, 50, 52, 54, 56, 58]\n",
      "[36, 38, 42, 41, 125, 64]  CODES\n"
     ]
    }
   ],
   "source": [
    "# List comprehension выглядит так\n",
    "\n",
    "mng = ['apple','ananas','bananas','anagramma','anuta']\n",
    "\n",
    "mlst = [x for x in mng if 'n' in x] # This is a list comprehasion\n",
    "\n",
    "print(mlst)\n",
    "\n",
    "even = [y for y in range(1,60) if y %2 ==0 ] # LIST COMPEHANSION with = even's - четные \n",
    "\n",
    "print(even)\n",
    "\n",
    "odds = [a for a in range(1,50) if a % 2 ==1] # LIST COMPEHANSION with = odd's - нечетные\n",
    "odds\n",
    "\n",
    "# UNICODES\n",
    "\n",
    "codes = [ord(symb) for symb in '$&*)}@']\n",
    "\n",
    "print(codes, \" CODES\")\n",
    "\n",
    "# DECARTE's SEQUENCE - Декартова по\n"
   ]
  },
  {
   "cell_type": "code",
   "execution_count": 21,
   "id": "b9335340",
   "metadata": {},
   "outputs": [
    {
     "data": {
      "text/plain": [
       "<generator object <genexpr> at 0x10815c660>"
      ]
     },
     "execution_count": 21,
     "metadata": {},
     "output_type": "execute_result"
    }
   ],
   "source": [
    "# Generator comprehasion or GENERATOR EXPRESSION\n",
    "mmx = ((\"apple\" if i < 3 else \"pie\") for i in range(6))\n",
    "mmx"
   ]
  },
  {
   "cell_type": "code",
   "execution_count": null,
   "id": "51de1b2d",
   "metadata": {},
   "outputs": [],
   "source": []
  },
  {
   "cell_type": "code",
   "execution_count": 61,
   "id": "35d970f8",
   "metadata": {},
   "outputs": [
    {
     "data": {
      "text/plain": [
       "'?<MNBVCXSWQ'"
      ]
     },
     "execution_count": 61,
     "metadata": {},
     "output_type": "execute_result"
    }
   ],
   "source": [
    "# «Assignment Expressions» - WALRUS operator     := в лист компрехеншин Удивительная история  !\n",
    "\n",
    "hexes = [val := hex(num) for num in range(23,36)] #### SO COOL HERE !!!\n",
    "\n",
    "val # <<<< Мы можем достать перменную из выражения в квадратных если переменная определена с :=\n",
    "\n",
    "let = '?<MNBVCXSWQ' # не забудь про историю с Let внутри цикла \n",
    "unicodes = [last := ord(let) for let in let ] # LET not redefined\n",
    "unicodes\n",
    "last\n",
    "let"
   ]
  },
  {
   "cell_type": "code",
   "execution_count": 62,
   "id": "158ac050",
   "metadata": {},
   "outputs": [
    {
     "name": "stdout",
     "output_type": "stream",
     "text": [
      "listcomp        : 0.012 0.009 0.009 0.009 0.009\n",
      "listcomp + func : 0.013 0.013 0.013 0.012 0.012\n",
      "filter + lambda : 0.010 0.010 0.010 0.010 0.010\n",
      "filter + func   : 0.009 0.009 0.009 0.009 0.009\n"
     ]
    }
   ],
   "source": [
    "# TIMEIT - Interesting module.            -----        Look which is work faster\n",
    "\n",
    "import timeit\n",
    "\n",
    "TIMES = 10000\n",
    "\n",
    "SETUP = \"\"\"\n",
    "symbols = '$¢£¥€¤'\n",
    "def non_ascii(c):\n",
    "    return c > 127\n",
    "\"\"\"\n",
    "\n",
    "def clock(label, cmd):\n",
    "    res = timeit.repeat(cmd, setup=SETUP, number=TIMES)\n",
    "    print(label, *(f'{x:.3f}' for x in res))\n",
    "\n",
    "clock('listcomp        :', '[ord(s) for s in symbols if ord(s) > 127]')\n",
    "clock('listcomp + func :', '[ord(s) for s in symbols if non_ascii(ord(s))]')\n",
    "clock('filter + lambda :', 'list(filter(lambda c: c > 127, map(ord, symbols)))')\n",
    "clock('filter + func   :', 'list(filter(non_ascii, map(ord, symbols)))')"
   ]
  },
  {
   "cell_type": "code",
   "execution_count": 18,
   "id": "3f5c3af6",
   "metadata": {},
   "outputs": [
    {
     "data": {
      "text/plain": [
       "[Item(color='red', size='S'),\n",
       " Item(color='red', size='L'),\n",
       " Item(color='red', size='M'),\n",
       " Item(color='green', size='S'),\n",
       " Item(color='green', size='L'),\n",
       " Item(color='green', size='M'),\n",
       " Item(color='blue', size='S'),\n",
       " Item(color='blue', size='L'),\n",
       " Item(color='blue', size='M')]"
      ]
     },
     "execution_count": 18,
     "metadata": {},
     "output_type": "execute_result"
    }
   ],
   "source": [
    "# Декартовы произведения \n",
    "colors = ['red','green','blue']\n",
    "sizes = ['S','L','M']\n",
    "\n",
    "tshirts = [(col,siz) for col in colors for siz in sizes]\n",
    "\n",
    "tshirts\n",
    "\n",
    " # with list comrehension\n",
    "\n",
    "Item = collections.namedtuple('Item',['color','size'])\n",
    "\n",
    "items = [Item(col,siz) for col in colors for siz in sizes]\n",
    "\n",
    "items"
   ]
  },
  {
   "cell_type": "code",
   "execution_count": null,
   "id": "3ef57035",
   "metadata": {},
   "outputs": [],
   "source": [
    "# Генераторные выражения стр - 54\n",
    "file:///Users/ewan/Desktop/books_learn/%D0%93%D1%83%D1%80%D1%83%20%D0%9F%D0%B0%D0%B8%CC%86%D1%82%D0%BE%D0%BD%20-%20%D0%9A%20%D0%B2%D0%B5%D1%80%D1%88%D0%B8%D0%BD%D0%B0%D0%BC%20%D0%9C%D0%B0%D1%81%D1%82%D0%B5%D1%80%D1%81%D1%82%D0%B2%D0%B0%20%D0%9F%D0%B0%D0%B8%CC%86%D1%82%D0%BE%D0%BD.pdf"
   ]
  },
  {
   "cell_type": "code",
   "execution_count": 14,
   "id": "f168a53b",
   "metadata": {},
   "outputs": [
    {
     "name": "stdout",
     "output_type": "stream",
     "text": [
      "[1, 2, 3, 4, 5, 6, 7, 8, 9]\n",
      "[1, 2, 3, 4, 5, 6, 7, 8, 9]\n"
     ]
    },
    {
     "data": {
      "text/plain": [
       "[1, 2, 3, 4, 5, 6, 7, 8, 9]"
      ]
     },
     "execution_count": 14,
     "metadata": {},
     "output_type": "execute_result"
    }
   ],
   "source": [
    "\n",
    "\n"
   ]
  },
  {
   "cell_type": "code",
   "execution_count": 17,
   "id": "277706d8",
   "metadata": {},
   "outputs": [
    {
     "data": {
      "text/plain": [
       "('one', 'two', 'three')"
      ]
     },
     "execution_count": 17,
     "metadata": {},
     "output_type": "execute_result"
    }
   ],
   "source": [
    "def some(**kwargs):\n",
    "    return tuple(kwargs)\n",
    "\n",
    "ff = some(one=1,two=2,three=3)\n",
    "\n",
    "ff"
   ]
  },
  {
   "cell_type": "code",
   "execution_count": null,
   "id": "ec8c6c42-dea3-4a67-a295-b899e5426e37",
   "metadata": {},
   "outputs": [],
   "source": []
  }
 ],
 "metadata": {
  "kernelspec": {
   "display_name": "Python 3 (ipykernel)",
   "language": "python",
   "name": "python3"
  },
  "language_info": {
   "codemirror_mode": {
    "name": "ipython",
    "version": 3
   },
   "file_extension": ".py",
   "mimetype": "text/x-python",
   "name": "python",
   "nbconvert_exporter": "python",
   "pygments_lexer": "ipython3",
   "version": "3.13.0a6"
  }
 },
 "nbformat": 4,
 "nbformat_minor": 5
}
