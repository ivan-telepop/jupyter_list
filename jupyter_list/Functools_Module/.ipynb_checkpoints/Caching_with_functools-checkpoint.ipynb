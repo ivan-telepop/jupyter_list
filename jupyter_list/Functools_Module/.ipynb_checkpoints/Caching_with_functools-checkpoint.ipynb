{
 "cells": [
  {
   "cell_type": "code",
   "execution_count": 18,
   "id": "0a4a756d-0e7b-426f-bc5c-a4147741ac12",
   "metadata": {},
   "outputs": [
    {
     "name": "stdout",
     "output_type": "stream",
     "text": [
      "351\n",
      "351\n",
      "351\n",
      "351\n"
     ]
    }
   ],
   "source": [
    "from functools import lru_cache\n",
    "import random\n",
    "\n",
    "\n",
    "# how many cached results\n",
    "results = 10\n",
    "\n",
    "@lru_cache(maxsize=results)\n",
    "def random_call(value):\n",
    "    unique = random.randint(len(value),500)\n",
    "    return unique\n",
    "\n",
    "print(random_call('abc'))\n",
    "print(random_call('abc'))\n",
    "print(random_call('abc'))\n",
    "print(random_call('abc'))\n",
    "\n"
   ]
  },
  {
   "cell_type": "code",
   "execution_count": 33,
   "id": "5f7d786a-0a9d-4fde-8772-8d57a4824b03",
   "metadata": {},
   "outputs": [
    {
     "name": "stdout",
     "output_type": "stream",
     "text": [
      "6\n",
      "173\n",
      "173\n",
      "173\n",
      "20\n",
      "35\n",
      "163\n",
      "2051\n"
     ]
    }
   ],
   "source": [
    "# CACHE - Has no argument maxsize\n",
    "\n",
    "from functools import cache\n",
    "import random\n",
    "\n",
    "\n",
    "# simple usage\n",
    "@cache\n",
    "def factorial(n):\n",
    "    return n * factorial(n-1) if n else 1\n",
    "\n",
    "print(factorial(3))\n",
    "\n",
    "@cache\n",
    "def random_call(value):\n",
    "    unique = random.randint(len(value),500)\n",
    "    return unique\n",
    "\n",
    "print(random_call('abc'))\n",
    "print(random_call('abc'))\n",
    "print(random_call('abc'))\n",
    "\n",
    "# Also it posible to use like memoizator\n",
    "\n",
    "def calling(val):\n",
    "    return random.randint(0,val)\n",
    "\n",
    "memo = cache(calling)\n",
    "\n",
    "\n",
    "print(memo(100))\n",
    "print(memo(50))\n",
    "print(memo(555))\n",
    "print(memo(5678))"
   ]
  },
  {
   "cell_type": "code",
   "execution_count": 37,
   "id": "c78b0a25-6b77-4853-9c64-b015837e7ee1",
   "metadata": {},
   "outputs": [
    {
     "data": {
      "text/plain": [
       "{'name': 'Ivan', 'age': 44, 'power': 988, 'analyse_something': {...}}"
      ]
     },
     "execution_count": 37,
     "metadata": {},
     "output_type": "execute_result"
    }
   ],
   "source": [
    "from functools import cached_property\n",
    "# Cached Property - memoizes property in the class\n",
    "\n",
    "class Example:\n",
    "    def __init__(self,n,a,p):\n",
    "        self.name = n\n",
    "        self.age = a\n",
    "        self.power = p\n",
    "\n",
    "    \n",
    "    @cached_property\n",
    "    def analyse_something(self):\n",
    "        \"\"\"hard weight analysing code here \"\"\"\n",
    "        return self.__dict__\n",
    "\n",
    "\n",
    "\n",
    "ff = Example('Ivan',44,988)\n",
    "\n",
    "ff.analyse_something"
   ]
  }
 ],
 "metadata": {
  "kernelspec": {
   "display_name": "Python 3 (ipykernel)",
   "language": "python",
   "name": "python3"
  },
  "language_info": {
   "codemirror_mode": {
    "name": "ipython",
    "version": 3
   },
   "file_extension": ".py",
   "mimetype": "text/x-python",
   "name": "python",
   "nbconvert_exporter": "python",
   "pygments_lexer": "ipython3",
   "version": "3.13.0a6"
  }
 },
 "nbformat": 4,
 "nbformat_minor": 5
}
