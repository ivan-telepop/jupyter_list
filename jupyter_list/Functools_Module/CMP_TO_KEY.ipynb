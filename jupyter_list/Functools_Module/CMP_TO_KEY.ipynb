{
 "cells": [
  {
   "cell_type": "code",
   "execution_count": 24,
   "id": "7819e42e-48e6-4627-ae95-012b2a14c7b0",
   "metadata": {},
   "outputs": [],
   "source": [
    "# Класс cmp_to_key() модуля functools преобразует функцию сравнения старого стиля в ключевую функцию сравнения.\n",
    "# Используется с инструментами, которые принимают в качестве ключа сортировки функцию, \n",
    "# такие как sorted(), min(), max(), heapq.nlargest(), heapq.nsmallest(), itertools.groupby(). \n",
    "# Эта функция в основном используется в качестве инструмента перехода для программ, конвертируемых из Python 2."
   ]
  },
  {
   "cell_type": "code",
   "execution_count": 25,
   "id": "e9f6a065-68eb-4397-beec-300d83a9104f",
   "metadata": {},
   "outputs": [
    {
     "data": {
      "text/plain": [
       "['young', 'again', 'hello', 'zookeeper']"
      ]
     },
     "execution_count": 25,
     "metadata": {},
     "output_type": "execute_result"
    }
   ],
   "source": [
    "# Для начала вспомним что есть в питоне функции которые принимают в качестве ключа другие функции.\n",
    "# Например sorted, min, max... В этих функциях сортировки множеств есть аргумент key. Вот как раз для этого ключа\n",
    "# и есть эта штука!\n",
    "\n",
    "from functools import cmp_to_key\n",
    "\n",
    "lsort = [88,44,33,21,95]\n",
    "sorted(lsort,key=None,reverse=False)\n",
    "\n",
    "# А теперь предположим что есть такая функция сверки элементов\n",
    "def filter_how(a,b):\n",
    "    if a[-1] > b[-1]:\n",
    "        return 1\n",
    "    elif a[-1] < b[-1]:\n",
    "        return -1\n",
    "    else: \n",
    "        return 0\n",
    "\n",
    "it = ['hello','again','zookeeper','young']\n",
    "\n",
    "sorted(reversed(it),key=cmp_to_key(filter_how))\n"
   ]
  },
  {
   "cell_type": "code",
   "execution_count": null,
   "id": "a5a89c29-931c-439e-ab98-20b59dd1dee3",
   "metadata": {},
   "outputs": [],
   "source": []
  }
 ],
 "metadata": {
  "kernelspec": {
   "display_name": "Python 3 (ipykernel)",
   "language": "python",
   "name": "python3"
  },
  "language_info": {
   "codemirror_mode": {
    "name": "ipython",
    "version": 3
   },
   "file_extension": ".py",
   "mimetype": "text/x-python",
   "name": "python",
   "nbconvert_exporter": "python",
   "pygments_lexer": "ipython3",
   "version": "3.13.0a6"
  }
 },
 "nbformat": 4,
 "nbformat_minor": 5
}
