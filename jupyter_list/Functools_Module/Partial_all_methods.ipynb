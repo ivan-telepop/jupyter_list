{
 "cells": [
  {
   "cell_type": "code",
   "execution_count": 1,
   "id": "290c88b8-cbff-48e1-8567-31320049a8b6",
   "metadata": {},
   "outputs": [],
   "source": [
    "# The main idea is that we can freez function with arguments partly \n",
    "# (for example with one of two args) so then we may use as new function object.\n",
    "# Partial - provides api.\n",
    "# partial.func – It returns the name of parent function along with hexadecimal address.\n",
    "# partial.args – It returns the positional arguments provided in partial function.\n",
    "# partial.keywords – It returns the keyword arguments provided in partial function.\n",
    "# lets see example below"
   ]
  },
  {
   "cell_type": "code",
   "execution_count": 26,
   "id": "19bfacb4-6886-463e-a8ba-60d755ce0e9e",
   "metadata": {},
   "outputs": [
    {
     "name": "stdout",
     "output_type": "stream",
     "text": [
      "calc one\n",
      "10\n",
      "{'a': 2}\n",
      "\n",
      "\n",
      "calc two \n",
      "9\n",
      "{'b': 3}\n",
      "\n",
      "\n",
      "calc 3 default \n",
      "15\n",
      "{} keywords\n",
      "(5,) args\n",
      "\n",
      "test with two args\n",
      "36\n",
      "Идея в том что штучня морозит функцию, либо частично, либо всю...\n"
     ]
    }
   ],
   "source": [
    "from functools import partial\n",
    "\n",
    "# Lets imagine we have like function with two keyword args\n",
    "def calc(a,b):\n",
    "    return a * b\n",
    "\n",
    "calc_one = partial(calc,a=2) # Do not forget that it reads args coherent way 1st-a, 2nd-b like positioned...\n",
    "\n",
    "calc_two = partial(calc,b=3)\n",
    "\n",
    "calc_default_arg = partial(calc,5)\n",
    "\n",
    "\n",
    "print(\"calc one\")\n",
    "# - 1\n",
    "print(calc_one(b=5)) # So if without b=5 just simple 5 it will raise error\n",
    "print(calc_one.keywords)\n",
    "print(\"\\n\")\n",
    "\n",
    "\n",
    "print(\"calc two \")\n",
    "# - 2\n",
    "print(calc_two(3))\n",
    "print(calc_two.keywords)\n",
    "print(\"\\n\")\n",
    "\n",
    "\n",
    "print(\"calc 3 default \")\n",
    "# -default wersion\n",
    "print(calc_default_arg(3))\n",
    "print(calc_default_arg.keywords,'keywords')\n",
    "print(calc_default_arg.args,'args\\n')\n",
    "\n",
    "\n",
    "print('test with two args')\n",
    "with_two = partial(calc,a=6,b=6)\n",
    "\n",
    "print(with_two())\n",
    "\n",
    "print(\"Идея в том что штучня морозит функцию, либо частично, либо всю...\")"
   ]
  },
  {
   "cell_type": "code",
   "execution_count": 42,
   "id": "dc802150-3ad5-4433-8331-59c72832c234",
   "metadata": {},
   "outputs": [
    {
     "name": "stdout",
     "output_type": "stream",
     "text": [
      "New car has default motor kind\n",
      "Gasoline\n",
      "\n",
      "\n",
      "we gonna change kind of motor\n",
      "diesel\n",
      "\n",
      "\n",
      "Finally we understood that we need hybrid one\n",
      "hybrid\n"
     ]
    }
   ],
   "source": [
    "# Partialmethod - makes method descriptors for alredy defined functions. Better way look below\n",
    "from functools import partialmethod\n",
    "\n",
    "class Car:\n",
    "    def __init__(self):\n",
    "        self.motor = 'Gasoline'\n",
    "    def _motor(self,kind):\n",
    "        self.motor = kind\n",
    "    set_diesel = partialmethod(_motor,kind='diesel')\n",
    "    set_hybrid = partialmethod(_motor,kind='hybrid')\n",
    "\n",
    "\n",
    "\n",
    "new_car = Car()\n",
    "# checking new car motor kind\n",
    "print('New car has default motor kind')\n",
    "print(new_car.motor) # gasoline\n",
    "print('\\n')\n",
    "\n",
    "# we wanna change the kind of motor\n",
    "print('we gonna change kind of motor')\n",
    "\n",
    "new_car.set_diesel()\n",
    "print(new_car.motor) # diesel\n",
    "print('\\n')\n",
    "\n",
    "\n",
    "# once again las time\n",
    "print('Finally we understood that we need hybrid one')\n",
    "new_car.set_hybrid()\n",
    "print(new_car.motor) # hybrid\n",
    "\n",
    "        "
   ]
  },
  {
   "cell_type": "code",
   "execution_count": null,
   "id": "680a6b0d-853c-408d-91f6-4285d528a2b2",
   "metadata": {},
   "outputs": [],
   "source": []
  }
 ],
 "metadata": {
  "kernelspec": {
   "display_name": "Python 3 (ipykernel)",
   "language": "python",
   "name": "python3"
  },
  "language_info": {
   "codemirror_mode": {
    "name": "ipython",
    "version": 3
   },
   "file_extension": ".py",
   "mimetype": "text/x-python",
   "name": "python",
   "nbconvert_exporter": "python",
   "pygments_lexer": "ipython3",
   "version": "3.13.0a6"
  }
 },
 "nbformat": 4,
 "nbformat_minor": 5
}
