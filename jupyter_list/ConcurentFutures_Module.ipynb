{
 "cells": [
  {
   "cell_type": "code",
   "execution_count": null,
   "id": "47e22c83-0b8c-4df8-bda2-fbc772beb90e",
   "metadata": {},
   "outputs": [],
   "source": [
    "https://docs-python.ru/standart-library/modul-concurrent-futures-python/"
   ]
  }
 ],
 "metadata": {
  "kernelspec": {
   "display_name": "Python 3 (ipykernel)",
   "language": "python",
   "name": "python3"
  },
  "language_info": {
   "codemirror_mode": {
    "name": "ipython",
    "version": 3
   },
   "file_extension": ".py",
   "mimetype": "text/x-python",
   "name": "python",
   "nbconvert_exporter": "python",
   "pygments_lexer": "ipython3",
   "version": "3.13.0a6"
  }
 },
 "nbformat": 4,
 "nbformat_minor": 5
}
