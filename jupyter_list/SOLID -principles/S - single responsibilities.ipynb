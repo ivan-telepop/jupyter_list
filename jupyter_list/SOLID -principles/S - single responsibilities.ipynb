{
 "cells": [
  {
   "cell_type": "code",
   "execution_count": null,
   "id": "d9666f57-33d1-4c66-b3eb-92c7e9e4a979",
   "metadata": {},
   "outputs": [],
   "source": [
    "SINGLE RESPONSEBILITY - Принцип Single responsibility (SRP)\n",
    "\n",
    "Ответсвенность за одну задачу - то есть один класс отвечает за одно действие/функционирование"
   ]
  },
  {
   "cell_type": "markdown",
   "id": "1926823d-4246-4da4-94f4-2e008b11b9b6",
   "metadata": {},
   "source": [
    "В примере класса ниже дан класс который описывает пользователя + в нем же реализован \n",
    "интерфейс работы с базой данных. В этом смысле класс зависим, и тянет за собой переопределение\n",
    "по всем связям в случае расширения структуры данных. С точки зрения принципа единственной ответственности\n",
    "это неправельное решение."
   ]
  },
  {
   "cell_type": "code",
   "execution_count": null,
   "id": "88da32a7-7dcd-4b58-94dc-56d1e3727025",
   "metadata": {},
   "outputs": [],
   "source": [
    "# Class with two responsibilities   - W R O N G \n",
    "class User:\n",
    "    def __init__(self,name):\n",
    "        self.name = name\n",
    "        \n",
    "    def get_name(self):\n",
    "        pass\n",
    "        \n",
    "    def set_name(self):\n",
    "        pass\n",
    "        \n",
    "    def insert_to_db(self): # Тянет за собой зависимость с DB API\n",
    "        pass\n",
    "# W R O N G \n",
    "\n",
    "# Хорошим решением будет разделить класс на интерфейс работы с базой данных \n",
    "# и сам класс описывающий структуру User\n",
    "\n",
    "\n",
    "class UserInterface:\n",
    "    def __init__(self):\n",
    "        self.connection = cn\n",
    "        self.user_model = um\n",
    "        \n",
    "    def put_user(self):\n",
    "        pass\n",
    "        \n",
    "    def retrieve_user(self):\n",
    "        pass\n",
    "\n",
    "# что то типа того \n",
    " # к стати в этом случае User class является фасадом (паттерны проектирования)"
   ]
  },
  {
   "cell_type": "code",
   "execution_count": null,
   "id": "826ea72f-11db-49df-8964-ce6dd383104a",
   "metadata": {},
   "outputs": [],
   "source": [
    "\n",
    "\n",
    "\n"
   ]
  }
 ],
 "metadata": {
  "kernelspec": {
   "display_name": "Python 3 (ipykernel)",
   "language": "python",
   "name": "python3"
  },
  "language_info": {
   "codemirror_mode": {
    "name": "ipython",
    "version": 3
   },
   "file_extension": ".py",
   "mimetype": "text/x-python",
   "name": "python",
   "nbconvert_exporter": "python",
   "pygments_lexer": "ipython3",
   "version": "3.9.6"
  }
 },
 "nbformat": 4,
 "nbformat_minor": 5
}
