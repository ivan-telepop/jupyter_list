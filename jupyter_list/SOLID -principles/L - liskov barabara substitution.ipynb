{
 "cells": [
  {
   "cell_type": "code",
   "execution_count": 5,
   "id": "00075dd6-f398-4b32-a865-841864308495",
   "metadata": {},
   "outputs": [],
   "source": [
    "# L - liskov barabara substitution principle\n",
    "\n",
    "# 3. Liskov Substitution Principle\n",
    "# (Принцип подстановки Барбарры Лисков)\n",
    "# Главная идея, стоящая за Liskov Substitution Principle в том, \n",
    "# что для любого класса клиент должен иметь возможность использовать \n",
    "# любой подкласс базового класса, не замечая разницы между ними, \n",
    "# и следовательно, без каких-либо изменений поведения программы при выполнении. \n",
    "# Это означает, что клиент полностью изолирован и не подозревает об изменениях в иерархии классов.\n",
    "\n",
    "class Interface:\n",
    "    pass\n",
    "\n",
    "class DatabaseInterface(Interface):\n",
    "    pass\n",
    "    \n",
    "class FileInterface(Interface):\n",
    "    pass\n",
    "    \n",
    "class APIInterface(Interface):\n",
    "    pass\n",
    "\n",
    "\n",
    "\n",
    "\n",
    "# client class\n",
    "class UserItem:\n",
    "    def __init__(self,interface):\n",
    "        self.name = \"Ivan\"\n",
    "        self.count = 5000\n",
    "        self.interface = interface\n",
    "    def save_data(self):\n",
    "        self.interface.put_data(self.name,self.count)\n",
    "\n",
    "\n",
    "user_database = UserItem(Interface)\n",
    "\n",
    "user_file = UserItem(FileInterface)\n",
    "\n",
    "user_api = UserItem(APIInterface)\n",
    "\n",
    "# То есть мы подставляем нужный нам класс из иерархии классов и все работает. \n",
    "# Потому что клиент полностью изолирован от вызываемого интерфейса\n",
    "# LSP способствует OCP или еще раз подтверждает правильность принципа Открытости-Закрытости\n",
    "\n",
    "\n",
    "        \n",
    "\n",
    "\n"
   ]
  }
 ],
 "metadata": {
  "kernelspec": {
   "display_name": "Python 3 (ipykernel)",
   "language": "python",
   "name": "python3"
  },
  "language_info": {
   "codemirror_mode": {
    "name": "ipython",
    "version": 3
   },
   "file_extension": ".py",
   "mimetype": "text/x-python",
   "name": "python",
   "nbconvert_exporter": "python",
   "pygments_lexer": "ipython3",
   "version": "3.9.6"
  }
 },
 "nbformat": 4,
 "nbformat_minor": 5
}
