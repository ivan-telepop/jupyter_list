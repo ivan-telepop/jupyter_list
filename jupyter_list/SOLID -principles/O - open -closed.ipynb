{
 "cells": [
  {
   "cell_type": "code",
   "execution_count": null,
   "id": "ce8fe305-c679-4b72-ae7c-b5be3e4e3bac",
   "metadata": {},
   "outputs": [],
   "source": [
    "# Принцип открытости - закрытости Open-Closed Principle.\n",
    "# Классы и обьекты должны быть открыты для расширения, но закрыты для модификации.\n",
    "\n",
    "# W R O N G \n",
    "class Discount:\n",
    "  def __init__(self, customer, price):\n",
    "      self.customer = customer\n",
    "      self.price = price\n",
    "  def give_discount(self):\n",
    "      if self.customer == 'fav':\n",
    "          return self.price * 0.2\n",
    "      if self.customer == 'vip':\n",
    "          return self.price * 0.4\n",
    "\n",
    "\n",
    "\n",
    "\n",
    "# C O R R E C T\n",
    "# base class\n",
    "class Discount:\n",
    "    def __init__(self, customer, price):\n",
    "      self.customer = customer\n",
    "      self.price = price\n",
    "    def get_discount(self):\n",
    "      return self.price * 0.2\n",
    "\n",
    "# extended version\n",
    "class VIPDiscount(Discount):\n",
    "    def get_discount(self):\n",
    "      return super().get_discount() * 2\n",
    "\n",
    "\n",
    "# Если вы решите дать скидку супер VIP пользователям, то это будет выглядеть так:\n",
    "\n",
    "# again extended\n",
    "class SuperVIPDiscount(VIPDiscount):\n",
    "    def get_discount(self):\n",
    "      return super().get_discount() * 4"
   ]
  }
 ],
 "metadata": {
  "kernelspec": {
   "display_name": "Python 3 (ipykernel)",
   "language": "python",
   "name": "python3"
  },
  "language_info": {
   "codemirror_mode": {
    "name": "ipython",
    "version": 3
   },
   "file_extension": ".py",
   "mimetype": "text/x-python",
   "name": "python",
   "nbconvert_exporter": "python",
   "pygments_lexer": "ipython3",
   "version": "3.13.0a6"
  }
 },
 "nbformat": 4,
 "nbformat_minor": 5
}
