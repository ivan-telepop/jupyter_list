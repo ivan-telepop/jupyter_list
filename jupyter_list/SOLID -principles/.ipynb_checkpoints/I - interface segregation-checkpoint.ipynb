{
 "cells": [
  {
   "cell_type": "code",
   "execution_count": null,
   "id": "c94bff86-d55f-4620-aed2-9af8b2c83285",
   "metadata": {},
   "outputs": [],
   "source": [
    "# # interface segregation\n",
    "\n",
    "# Программные сущности не должны зависеть от методов, которые они не используют.\n",
    "# Принцип разделения интерфейсов говорит о том, что \n",
    "# слишком «толстые» интерфейсы необходимо разделять на более маленькие и специфические, \n",
    "# чтобы программные сущности маленьких интерфейсов знали только о методах, которые необходимы им в работе. \n",
    "# В итоге, при изменении метода интерфейса не должны меняться программные сущности, которые этот метод не используют.\n",
    "\n",
    "\n",
    "# Допустим (псевдокод):\n",
    "\n",
    "\n",
    "class Article:\n",
    "    pass\n",
    "\n",
    "\n",
    "class Database_Interface(Article):\n",
    "    \"Интерфейс реализующий запись в БД\"\n",
    "    def save_to_database(Article):\n",
    "        pass\n",
    "\n",
    "class PDF_Create_Interface(Article):\n",
    "    \"Интерфейс реализующий создание файла презентации\"\n",
    "    def save_pdf_file(Article):\n",
    "        pass\n",
    "\n",
    "class JPG_Create_Interface(Article):\n",
    "    \"Интерфейс реализующий создание изображения\"\n",
    "    def save_jpg_file(Article):\n",
    "        pass"
   ]
  }
 ],
 "metadata": {
  "kernelspec": {
   "display_name": "Python 3 (ipykernel)",
   "language": "python",
   "name": "python3"
  },
  "language_info": {
   "codemirror_mode": {
    "name": "ipython",
    "version": 3
   },
   "file_extension": ".py",
   "mimetype": "text/x-python",
   "name": "python",
   "nbconvert_exporter": "python",
   "pygments_lexer": "ipython3",
   "version": "3.9.6"
  }
 },
 "nbformat": 4,
 "nbformat_minor": 5
}
