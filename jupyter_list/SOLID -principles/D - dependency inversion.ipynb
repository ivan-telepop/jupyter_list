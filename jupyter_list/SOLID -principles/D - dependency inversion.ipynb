{
 "cells": [
  {
   "cell_type": "code",
   "execution_count": 25,
   "id": "23227fa6-26c0-40d3-89ad-f8e094163b00",
   "metadata": {},
   "outputs": [
    {
     "data": {
      "text/plain": [
       "'SUCCSESS'"
      ]
     },
     "execution_count": 25,
     "metadata": {},
     "output_type": "execute_result"
    }
   ],
   "source": [
    "# # Dependency inversion\n",
    "\n",
    "# Принцип инверсии зависимостей (англ. dependency inversion principle, DIP) — \n",
    "# принцип объектно-ориентированного программирования, \n",
    "# суть которого состоит в том, что классы должны зависеть от абстракций, \n",
    "# а не от конкретных деталей[1]. Используется для минимизации зацепления в компьютерных программах. \n",
    "# Может рассматриваться как уменьшение знаний о данных и поведении объекта (и зацепления с ним) до минимума, \n",
    "# описанного интерфейсом.\n",
    "# Этот принцип также может быть применен и функциональному программированию, \n",
    "# в этом случае зависимость должна быть указана от максимально абстрактных типов данных и функций.\n",
    "\n",
    "\n",
    "class Item:\n",
    "    def __init__(self, foo: list):\n",
    "        if isinstance(foo,list):\n",
    "            self.foo = [foo]\n",
    "\n",
    "# В этом примере есть зависимость на детали\n",
    "# Если тип данных будет другой то атрибут не будет инициирован\n",
    "# Необходимо абстрагироваться от такой ситуевины\n",
    "\n",
    "class Foo:\n",
    "    def __init__(self, arg):\n",
    "        if isinstance(arg,list):\n",
    "            self.arg = arg\n",
    "        else:\n",
    "            self.arg = \"Something Else\"\n",
    "\n",
    "# Исправим ситуацию путем создания абстракции\n",
    "\n",
    "class Item:\n",
    "    def __init__(self, foo: Foo):\n",
    "        if isinstance(foo,Foo):\n",
    "            self.foo = \"SUCCSESS\"\n",
    "    \n",
    "\n",
    "foo = Foo(123)\n",
    "\n",
    "\n",
    "new_item = Item(foo)\n",
    "\n",
    "\n",
    "new_item.foo"
   ]
  },
  {
   "cell_type": "code",
   "execution_count": 26,
   "id": "30e3483d-4cac-4a30-8f7b-50c80227d400",
   "metadata": {},
   "outputs": [
    {
     "name": "stdout",
     "output_type": "stream",
     "text": [
      "<class 'object'>\n",
      "{'__repr__': <slot wrapper '__repr__' of 'object' objects>, '__hash__': <slot wrapper '__hash__' of 'object' objects>, '__str__': <slot wrapper '__str__' of 'object' objects>, '__getattribute__': <slot wrapper '__getattribute__' of 'object' objects>, '__setattr__': <slot wrapper '__setattr__' of 'object' objects>, '__delattr__': <slot wrapper '__delattr__' of 'object' objects>, '__lt__': <slot wrapper '__lt__' of 'object' objects>, '__le__': <slot wrapper '__le__' of 'object' objects>, '__eq__': <slot wrapper '__eq__' of 'object' objects>, '__ne__': <slot wrapper '__ne__' of 'object' objects>, '__gt__': <slot wrapper '__gt__' of 'object' objects>, '__ge__': <slot wrapper '__ge__' of 'object' objects>, '__init__': <slot wrapper '__init__' of 'object' objects>, '__new__': <built-in method __new__ of type object at 0x109dc48a0>, '__reduce_ex__': <method '__reduce_ex__' of 'object' objects>, '__reduce__': <method '__reduce__' of 'object' objects>, '__subclasshook__': <method '__subclasshook__' of 'object' objects>, '__init_subclass__': <method '__init_subclass__' of 'object' objects>, '__format__': <method '__format__' of 'object' objects>, '__sizeof__': <method '__sizeof__' of 'object' objects>, '__dir__': <method '__dir__' of 'object' objects>, '__class__': <attribute '__class__' of 'object' objects>, '__doc__': 'The base class of the class hierarchy.\\n\\nWhen called, it accepts no arguments and returns a new featureless\\ninstance that has no instance attributes and cannot be given any.\\n'}\n"
     ]
    }
   ],
   "source": [
    "\n",
    "# CHIST PRIMER traceback\n",
    "import traceback\n",
    "\n",
    "\n",
    "class Test:\n",
    "    def __init__(self):\n",
    "        self.foo = []\n",
    "        # print(dir(traceback))\n",
    "        # print(type(traceback.extract_stack()))\n",
    "        # for call in traceback.extract_stack():\n",
    "        #     print(call)\n",
    "    \n",
    "    \n",
    "\n",
    "\n",
    "foo = Test()\n",
    "\n",
    "\n",
    "\n",
    "\n",
    "\n",
    "res = object.__new__(object)\n",
    "\n",
    "\n",
    "print(type(res)) \n",
    "print(object.__mro__[0].__dict__)"
   ]
  }
 ],
 "metadata": {
  "kernelspec": {
   "display_name": "Python 3 (ipykernel)",
   "language": "python",
   "name": "python3"
  },
  "language_info": {
   "codemirror_mode": {
    "name": "ipython",
    "version": 3
   },
   "file_extension": ".py",
   "mimetype": "text/x-python",
   "name": "python",
   "nbconvert_exporter": "python",
   "pygments_lexer": "ipython3",
   "version": "3.9.6"
  }
 },
 "nbformat": 4,
 "nbformat_minor": 5
}
