{
 "cells": [
  {
   "cell_type": "code",
   "execution_count": null,
   "id": "23227fa6-26c0-40d3-89ad-f8e094163b00",
   "metadata": {},
   "outputs": [],
   "source": [
    "# Dependency inversion"
   ]
  }
 ],
 "metadata": {
  "kernelspec": {
   "display_name": "Python 3 (ipykernel)",
   "language": "python",
   "name": "python3"
  },
  "language_info": {
   "codemirror_mode": {
    "name": "ipython",
    "version": 3
   },
   "file_extension": ".py",
   "mimetype": "text/x-python",
   "name": "python",
   "nbconvert_exporter": "python",
   "pygments_lexer": "ipython3",
   "version": "3.13.0a6"
  }
 },
 "nbformat": 4,
 "nbformat_minor": 5
}
