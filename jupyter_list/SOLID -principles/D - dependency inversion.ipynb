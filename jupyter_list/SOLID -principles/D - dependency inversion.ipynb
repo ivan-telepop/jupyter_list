{
 "cells": [
  {
   "cell_type": "code",
   "execution_count": 25,
   "id": "23227fa6-26c0-40d3-89ad-f8e094163b00",
   "metadata": {},
   "outputs": [
    {
     "data": {
      "text/plain": [
       "'SUCCSESS'"
      ]
     },
     "execution_count": 25,
     "metadata": {},
     "output_type": "execute_result"
    }
   ],
   "source": [
    "# # Dependency inversion\n",
    "\n",
    "# Принцип инверсии зависимостей (англ. dependency inversion principle, DIP) — \n",
    "# принцип объектно-ориентированного программирования, \n",
    "# суть которого состоит в том, что классы должны зависеть от абстракций, \n",
    "# а не от конкретных деталей[1]. Используется для минимизации зацепления в компьютерных программах. \n",
    "# Может рассматриваться как уменьшение знаний о данных и поведении объекта (и зацепления с ним) до минимума, \n",
    "# описанного интерфейсом.\n",
    "# Этот принцип также может быть применен и функциональному программированию, \n",
    "# в этом случае зависимость должна быть указана от максимально абстрактных типов данных и функций.\n",
    "\n",
    "\n",
    "class Item:\n",
    "    def __init__(self, foo: list):\n",
    "        if isinstance(foo,list):\n",
    "            self.foo = [foo]\n",
    "\n",
    "# В этом примере есть зависимость на детали\n",
    "# Если тип данных будет другой то атрибут не будет инициирован\n",
    "# Необходимо абстрагироваться от такой ситуевины\n",
    "\n",
    "class Foo:\n",
    "    def __init__(self, arg):\n",
    "        if isinstance(arg,list):\n",
    "            self.arg = arg\n",
    "        else:\n",
    "            self.arg = \"Something Else\"\n",
    "\n",
    "# Исправим ситуацию путем создания абстракции\n",
    "\n",
    "class Item:\n",
    "    def __init__(self, foo: Foo):\n",
    "        if isinstance(foo,Foo):\n",
    "            self.foo = \"SUCCSESS\"\n",
    "    \n",
    "\n",
    "foo = Foo(123)\n",
    "\n",
    "\n",
    "new_item = Item(foo)\n",
    "\n",
    "\n",
    "new_item.foo"
   ]
  }
 ],
 "metadata": {
  "kernelspec": {
   "display_name": "Python 3 (ipykernel)",
   "language": "python",
   "name": "python3"
  },
  "language_info": {
   "codemirror_mode": {
    "name": "ipython",
    "version": 3
   },
   "file_extension": ".py",
   "mimetype": "text/x-python",
   "name": "python",
   "nbconvert_exporter": "python",
   "pygments_lexer": "ipython3",
   "version": "3.9.6"
  }
 },
 "nbformat": 4,
 "nbformat_minor": 5
}
