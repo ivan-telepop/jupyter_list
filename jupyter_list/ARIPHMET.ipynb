{
 "cells": [
  {
   "cell_type": "code",
   "execution_count": null,
   "id": "6d19745b-0c9c-42e9-b946-e94e23705922",
   "metadata": {},
   "outputs": [],
   "source": [
    "print(a + b)   # ➝ 13  (Сложение)\n",
    "print(a - b)   # ➝ 7   (Вычитание)\n",
    "print(a * b)   # ➝ 30  (Умножение)\n",
    "print(a / b)   # ➝ 3.333... (Деление, всегда float)\n",
    "print(a // b)  # ➝ 3   (Целочисленное деление)\n",
    "print(a % b)   # ➝ 1   (Остаток от деления)\n",
    "print(a ** b)  # ➝ 1000 (Возведение в степень)"
   ]
  },
  {
   "cell_type": "code",
   "execution_count": 1,
   "id": "86488545-296e-4c8f-b1d5-56c88669aca0",
   "metadata": {},
   "outputs": [
    {
     "name": "stdout",
     "output_type": "stream",
     "text": [
      "3\n"
     ]
    }
   ],
   "source": [
    "print(15 % 4)"
   ]
  },
  {
   "cell_type": "code",
   "execution_count": 2,
   "id": "bbc72580-6696-447a-8af7-849fab8efe8b",
   "metadata": {},
   "outputs": [
    {
     "data": {
      "text/plain": [
       "[484, 1089, 1936, 3025]"
      ]
     },
     "execution_count": 2,
     "metadata": {},
     "output_type": "execute_result"
    }
   ],
   "source": [
    "[ i ** 2 for i in [22,33,44,55]]"
   ]
  },
  {
   "cell_type": "code",
   "execution_count": 5,
   "id": "93aa7539-e642-452e-8cd2-fb2626d483ab",
   "metadata": {},
   "outputs": [
    {
     "data": {
      "text/plain": [
       "[10648, 35937, 85184, 166375]"
      ]
     },
     "execution_count": 5,
     "metadata": {},
     "output_type": "execute_result"
    }
   ],
   "source": [
    "[ pow(i,3) for i in [22,33,44,55]]"
   ]
  },
  {
   "cell_type": "code",
   "execution_count": 7,
   "id": "54130884-fec3-4937-8237-d852bbac999e",
   "metadata": {},
   "outputs": [
    {
     "name": "stdout",
     "output_type": "stream",
     "text": [
      "False\n",
      "True\n",
      "False\n",
      "True\n",
      "False\n",
      "True\n"
     ]
    }
   ],
   "source": [
    "# Operators equation\n",
    "\n",
    "a = 20\n",
    "b = 33\n",
    "\n",
    "print(a > b)   # ➝ True  (Больше)\n",
    "print(a < b)   # ➝ False (Меньше)\n",
    "print(a == b)  # ➝ False (Равно)\n",
    "print(a != b)  # ➝ True  (Не равно)\n",
    "print(a >= b)  # ➝ True  (Больше или равно)\n",
    "print(a <= b)  # ➝ False (Меньше или равно)"
   ]
  },
  {
   "cell_type": "code",
   "execution_count": 25,
   "id": "ee247f4e-299a-4b4e-b5ec-c8e16f829a7e",
   "metadata": {},
   "outputs": [
    {
     "name": "stdout",
     "output_type": "stream",
     "text": [
      "False\n",
      "True\n",
      "False\n"
     ]
    }
   ],
   "source": [
    "x = True\n",
    "y = False\n",
    "\n",
    "print(x and y)  # ➝ False (Логическое И)\n",
    "print(False or True)   # ➝ True  (Логическое ИЛИ)\n",
    "print(not x)    # ➝ False (Логическое НЕ)"
   ]
  },
  {
   "cell_type": "code",
   "execution_count": 29,
   "id": "2d775320-30f5-4061-b7a3-2174f20f3909",
   "metadata": {},
   "outputs": [
    {
     "name": "stdout",
     "output_type": "stream",
     "text": [
      "1\n"
     ]
    }
   ],
   "source": [
    "a = 5  # 0b0101\n",
    "b = 3  # 0b0011\n",
    "print(a & b) "
   ]
  },
  {
   "cell_type": "code",
   "execution_count": 39,
   "id": "6fe476d2-3fbc-40cd-bb29-fc92b17418fb",
   "metadata": {},
   "outputs": [
    {
     "data": {
      "text/plain": [
       "('0b11000000', '0b10101000', '0b1100101', '0b11111110')"
      ]
     },
     "execution_count": 39,
     "metadata": {},
     "output_type": "execute_result"
    }
   ],
   "source": [
    "# перевод в двоичное представление с префиксом 0b\n",
    "bin(192), bin(168), bin(101), bin(254) "
   ]
  },
  {
   "cell_type": "code",
   "execution_count": 38,
   "id": "e15963cb-0083-46f7-b267-5a06e0e5cf65",
   "metadata": {},
   "outputs": [
    {
     "data": {
      "text/plain": [
       "('11000000', '10101000', '1100101', '11111110')"
      ]
     },
     "execution_count": 38,
     "metadata": {},
     "output_type": "execute_result"
    }
   ],
   "source": [
    "# Перевод числа в двоичное представление в классическом виде без префикса\n",
    "format(192,'b'),format(168,'b'),format(101,'b'),format(254,'b')"
   ]
  },
  {
   "cell_type": "code",
   "execution_count": 4,
   "id": "8edbae4a-16de-4319-be78-da5b31275fec",
   "metadata": {},
   "outputs": [
    {
     "data": {
      "text/plain": [
       "0"
      ]
     },
     "execution_count": 4,
     "metadata": {},
     "output_type": "execute_result"
    }
   ],
   "source": [
    "f = -0.12\n",
    "\n",
    "int(abs(f))"
   ]
  }
 ],
 "metadata": {
  "kernelspec": {
   "display_name": "Python 3 (ipykernel)",
   "language": "python",
   "name": "python3"
  },
  "language_info": {
   "codemirror_mode": {
    "name": "ipython",
    "version": 3
   },
   "file_extension": ".py",
   "mimetype": "text/x-python",
   "name": "python",
   "nbconvert_exporter": "python",
   "pygments_lexer": "ipython3",
   "version": "3.9.6"
  }
 },
 "nbformat": 4,
 "nbformat_minor": 5
}
