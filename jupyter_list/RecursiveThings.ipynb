{
 "cells": [
  {
   "cell_type": "code",
   "execution_count": null,
   "id": "7aa01bdb-4232-4417-bcc0-003bae82185e",
   "metadata": {},
   "outputs": [],
   "source": [
    "# https://www.codecademy.com/learn/learn-recursion-python/modules/recursion-python/cheatsheet"
   ]
  },
  {
   "cell_type": "code",
   "execution_count": 17,
   "id": "2520194b-842d-4ab3-9bea-234b3d5f0334",
   "metadata": {},
   "outputs": [
    {
     "data": {
      "text/plain": [
       "12"
      ]
     },
     "execution_count": 17,
     "metadata": {},
     "output_type": "execute_result"
    }
   ],
   "source": [
    "# Recursive Cases and concept\n",
    "# Think about for gettting used this concept so operate in mind \n",
    "\n",
    "def multy(n1,n2):\n",
    "    if n1 == 0 or n2 == 0: # Base case\n",
    "        return 0\n",
    "    return n1 + multy(n1,n2 -1)\n",
    "\n",
    "\n",
    "multy(6,2)"
   ]
  },
  {
   "cell_type": "code",
   "execution_count": 7,
   "id": "00cc3970-e2b8-487e-b960-dc22e35d2f7d",
   "metadata": {},
   "outputs": [
    {
     "data": {
      "text/plain": [
       "b'some'"
      ]
     },
     "execution_count": 7,
     "metadata": {},
     "output_type": "execute_result"
    }
   ],
   "source": [
    "# Я просто сделал рекурсивный стэк длинной в массив\n",
    "\n",
    "ls = [ i for i in range(1,21)]\n",
    "\n",
    "\n",
    "def deep(ls):\n",
    "    while ls:\n",
    "        print(*ls[::-1])\n",
    "        ls.pop()\n",
    "        return deep(ls)\n",
    "\n",
    "\n",
    "bytes('some','utf-8')"
   ]
  },
  {
   "cell_type": "code",
   "execution_count": 16,
   "id": "e978e59c-bfee-4fad-a169-bc1022c95a09",
   "metadata": {},
   "outputs": [
    {
     "data": {
      "text/plain": [
       "'The biggest square are :600 x 600'"
      ]
     },
     "execution_count": 16,
     "metadata": {},
     "output_type": "execute_result"
    }
   ],
   "source": [
    "# Алгоритм Евклида \n",
    "# Нахождение НОД для двух целых чисел (наибольший общий делитель)\n",
    "# Представим что мы имеем прямоугольник размером А х В \n",
    "# его нужно поделить на квадраты, но квадраты должны быть максимально большими.\n",
    "# Функция отвечает на вопрос - какой размер квадрата (общего делителя).\n",
    "# Вариант с рекурсией.\n",
    "\n",
    "\n",
    "def euclidus(a,b):\n",
    "    r = a % b \n",
    "    if r == 0:\n",
    "        return f\"The biggest square are :{b} x {b}\"\n",
    "    else:\n",
    "        a,b = b,r\n",
    "        return euclidus(a,b)\n",
    "\n",
    "euclidus(1800,600)"
   ]
  },
  {
   "cell_type": "code",
   "execution_count": 55,
   "id": "4c1d2a11-a454-4920-aa22-28c37559fcba",
   "metadata": {},
   "outputs": [
    {
     "data": {
      "text/plain": [
       "7"
      ]
     },
     "execution_count": 55,
     "metadata": {},
     "output_type": "execute_result"
    }
   ],
   "source": [
    "# https://stackoverflow.com/questions/16373065/complexity-of-factorial-recursive-algorithm\n",
    "# Вопрос Big O сложности рекурсивных алгоритмов"
   ]
  },
  {
   "cell_type": "code",
   "execution_count": 17,
   "id": "e8eeb8a9-5ae2-49e9-a358-0034b9449aef",
   "metadata": {},
   "outputs": [
    {
     "name": "stdout",
     "output_type": "stream",
     "text": [
      "a\n",
      "b\n",
      "c\n",
      "d\n"
     ]
    }
   ],
   "source": [
    "for i in 'a','b','c','d':\n",
    "    print(i)"
   ]
  }
 ],
 "metadata": {
  "kernelspec": {
   "display_name": "Python 3 (ipykernel)",
   "language": "python",
   "name": "python3"
  },
  "language_info": {
   "codemirror_mode": {
    "name": "ipython",
    "version": 3
   },
   "file_extension": ".py",
   "mimetype": "text/x-python",
   "name": "python",
   "nbconvert_exporter": "python",
   "pygments_lexer": "ipython3",
   "version": "3.9.6"
  }
 },
 "nbformat": 4,
 "nbformat_minor": 5
}
