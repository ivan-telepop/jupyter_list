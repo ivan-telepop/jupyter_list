{
 "cells": [
  {
   "cell_type": "code",
   "execution_count": 2,
   "id": "8772e6d1",
   "metadata": {},
   "outputs": [
    {
     "name": "stdout",
     "output_type": "stream",
     "text": [
      "16816.76\n"
     ]
    }
   ],
   "source": [
    "import requests\n",
    "import json\n",
    "URL_BTC = 'https://blockchain.info/ticker'\n",
    "\n",
    "res_btc = requests.get(URL_BTC)\n",
    "response_btc = json.loads(res_btc.text)\n",
    "print(response_btc['USD']['buy'])"
   ]
  },
  {
   "cell_type": "code",
   "execution_count": null,
   "id": "fee7b7fe",
   "metadata": {},
   "outputs": [],
   "source": []
  }
 ],
 "metadata": {
  "kernelspec": {
   "display_name": "Python 3 (ipykernel)",
   "language": "python",
   "name": "python3"
  },
  "language_info": {
   "codemirror_mode": {
    "name": "ipython",
    "version": 3
   },
   "file_extension": ".py",
   "mimetype": "text/x-python",
   "name": "python",
   "nbconvert_exporter": "python",
   "pygments_lexer": "ipython3",
   "version": "3.9.6"
  }
 },
 "nbformat": 4,
 "nbformat_minor": 5
}
