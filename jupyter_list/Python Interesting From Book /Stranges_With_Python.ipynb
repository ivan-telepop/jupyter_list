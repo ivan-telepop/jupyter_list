{
 "cells": [
  {
   "cell_type": "code",
   "execution_count": 7,
   "id": "e14624c4-0e9d-40f1-8b98-50ad5cc6b419",
   "metadata": {},
   "outputs": [
    {
     "data": {
      "text/plain": [
       "True"
      ]
     },
     "execution_count": 7,
     "metadata": {},
     "output_type": "execute_result"
    }
   ],
   "source": [
    "import collections\n",
    "\n",
    "Node = collections.namedtuple('Node', 'a b')\n",
    "\n",
    "xx = Node(None,None)\n",
    "\n",
    "xx.a is xx.b"
   ]
  },
  {
   "cell_type": "code",
   "execution_count": 8,
   "id": "d6880870-23f9-43b4-baa6-483659cae6d5",
   "metadata": {},
   "outputs": [
    {
     "name": "stdout",
     "output_type": "stream",
     "text": [
      "['kk', 'ff', 'jj']\n"
     ]
    },
    {
     "data": {
      "text/plain": [
       "True"
      ]
     },
     "execution_count": 8,
     "metadata": {},
     "output_type": "execute_result"
    }
   ],
   "source": [
    "kk = ['kk','ff','jj']\n",
    "# kk = []\n",
    "\n",
    "# kk = tuple((1,2,3))\n",
    "\n",
    "def contains(it, arg):\n",
    "    return it.__contains__(arg)\n",
    "\n",
    "contains(kk,'kexx')\n",
    "\n",
    "\n",
    "\n",
    "\n",
    "if any(kk):\n",
    "    print(kk)\n",
    "elif not any(kk):\n",
    "    print('kk is false')\n",
    "else:\n",
    "    print('kk is empty')\n",
    "\n",
    "\n",
    "# ------------------------------\n",
    "# Строковые литералы при идентичности ссылаются на один объект\n",
    "t1 = 'ABC'\n",
    "t2 = 'ABC'\n",
    "\n",
    "t1 is t2\n",
    "# true\n",
    "\n",
    "# чего не скажешь о tuple\n",
    "f1 = (1,2,3)\n",
    "f2 = (1,2,3)\n",
    "f1 is f2\n",
    "# false\n",
    "# Но если создаем так... то опять ссылаемся на то же объект\n",
    "\n",
    "f3 = tuple(f1)\n",
    "\n",
    "f3 is f1\n",
    "# True - странновато !"
   ]
  }
 ],
 "metadata": {
  "kernelspec": {
   "display_name": "Python 3 (ipykernel)",
   "language": "python",
   "name": "python3"
  },
  "language_info": {
   "codemirror_mode": {
    "name": "ipython",
    "version": 3
   },
   "file_extension": ".py",
   "mimetype": "text/x-python",
   "name": "python",
   "nbconvert_exporter": "python",
   "pygments_lexer": "ipython3",
   "version": "3.13.0a6"
  }
 },
 "nbformat": 4,
 "nbformat_minor": 5
}
