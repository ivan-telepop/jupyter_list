{
 "cells": [
  {
   "cell_type": "code",
   "execution_count": 25,
   "id": "ec7a5fbb-675c-4015-a6a8-af51b71ebe7f",
   "metadata": {},
   "outputs": [
    {
     "data": {
      "text/plain": [
       "' returns n!'"
      ]
     },
     "execution_count": 25,
     "metadata": {},
     "output_type": "execute_result"
    }
   ],
   "source": [
    "# Functions like Objects In Python\n",
    "# __doc__ attribute\n",
    "\n",
    "\n",
    "def factorial(n) -> int:\n",
    "    \"\"\" returns n!\"\"\"\n",
    "    return 1 if n < 2 else n * factorial(n - 1)\n",
    "\n",
    "factorial.__doc__\n",
    "\n",
    "# factorial(9)"
   ]
  },
  {
   "cell_type": "code",
   "execution_count": 67,
   "id": "1f438a27-7bb0-4546-a0aa-8269b50960f0",
   "metadata": {},
   "outputs": [
    {
     "data": {
      "text/plain": [
       "[1, 1, 2, 6, 24, 120]"
      ]
     },
     "execution_count": 67,
     "metadata": {},
     "output_type": "execute_result"
    }
   ],
   "source": [
    "fc = factorial\n",
    "listed = [i for i in map(fc,range(10))]\n",
    "\n",
    "# the same as upper listed\n",
    "list(map(fc,range(6)))"
   ]
  },
  {
   "cell_type": "code",
   "execution_count": 64,
   "id": "4edf487f-72cf-4853-9866-6524542fdffc",
   "metadata": {},
   "outputs": [
    {
     "data": {
      "text/plain": [
       "['so long phrase are here',\n",
       " 'i do not carry',\n",
       " 'berry',\n",
       " 'cherry',\n",
       " 'merry',\n",
       " 'property']"
      ]
     },
     "execution_count": 64,
     "metadata": {},
     "output_type": "execute_result"
    }
   ],
   "source": [
    "lst_items = ['berry','merry','cherry','i do not carry', 'property', 'so long phrase are here']\n",
    "\n",
    "def reverse(wrd) -> str:\n",
    "    return wrd[::-1]\n",
    "\n",
    "\n",
    "sorted(lst_items,key=reverse)\n",
    "\n"
   ]
  },
  {
   "cell_type": "code",
   "execution_count": 71,
   "id": "841cb301-abb4-4f4e-8a09-7885060a97ec",
   "metadata": {},
   "outputs": [
    {
     "data": {
      "text/plain": [
       "[1, 6, 120, 5040]"
      ]
     },
     "execution_count": 71,
     "metadata": {},
     "output_type": "execute_result"
    }
   ],
   "source": [
    "list(map(fc,filter(lambda x: x % 2, range(8))))"
   ]
  },
  {
   "cell_type": "code",
   "execution_count": 107,
   "id": "b9900096-3523-48f4-abe3-0665fa5ff46a",
   "metadata": {},
   "outputs": [
    {
     "name": "stdout",
     "output_type": "stream",
     "text": [
      "test\n"
     ]
    },
    {
     "data": {
      "text/plain": [
       "True"
      ]
     },
     "execution_count": 107,
     "metadata": {},
     "output_type": "execute_result"
    }
   ],
   "source": [
    "mf = lambda mf: print(mf)\n",
    "\n",
    "mf('test')\n",
    "\n",
    "callable(mf)"
   ]
  },
  {
   "cell_type": "code",
   "execution_count": 5,
   "id": "79635f31-c4e1-4f1b-b030-6609fe70ddee",
   "metadata": {},
   "outputs": [
    {
     "data": {
      "text/plain": [
       "[True, True, True, True, True, True, True, True, True, True, True]"
      ]
     },
     "execution_count": 5,
     "metadata": {},
     "output_type": "execute_result"
    }
   ],
   "source": [
    "pp = ['berry','merry','cherry','i do not carry', 'property', 'so long phrase are here']\n",
    "\n",
    "\n",
    "\n",
    "\n",
    "\n",
    "\n",
    "guess = [callable(one) for one in (int,abs,str,tuple,dict,eval, object, print, input, type, bool)]\n",
    "\n",
    "guess"
   ]
  },
  {
   "cell_type": "code",
   "execution_count": 3,
   "id": "e2820106-b9ad-4c4f-a866-48d87444aa37",
   "metadata": {},
   "outputs": [
    {
     "data": {
      "text/plain": [
       "[3, 4]"
      ]
     },
     "execution_count": 3,
     "metadata": {},
     "output_type": "execute_result"
    }
   ],
   "source": [
    "def ff(a,b):\n",
    "    a += b\n",
    "    return a\n",
    "\n",
    "\n",
    "a,b = [1,2],[3,4]\n",
    "\n",
    "a +=b\n",
    "b"
   ]
  },
  {
   "cell_type": "code",
   "execution_count": 23,
   "id": "f488529c-5f1d-4f55-ad11-bae63f234239",
   "metadata": {},
   "outputs": [
    {
     "name": "stdout",
     "output_type": "stream",
     "text": [
      "You have killed penny\n"
     ]
    },
    {
     "ename": "NameError",
     "evalue": "name 'penny' is not defined",
     "output_type": "error",
     "traceback": [
      "\u001b[0;31m---------------------------------------------------------------------------\u001b[0m",
      "\u001b[0;31mNameError\u001b[0m                                 Traceback (most recent call last)",
      "Cell \u001b[0;32mIn[23], line 23\u001b[0m\n\u001b[1;32m     19\u001b[0m \u001b[38;5;28;01mdel\u001b[39;00m penny\n\u001b[1;32m     21\u001b[0m time\u001b[38;5;241m.\u001b[39msleep(\u001b[38;5;241m2\u001b[39m)\n\u001b[0;32m---> 23\u001b[0m \u001b[43mpenny\u001b[49m\n",
      "\u001b[0;31mNameError\u001b[0m: name 'penny' is not defined"
     ]
    }
   ],
   "source": [
    "#  Такая штука что перед сборкой мусора будет что то делать. \n",
    "# Просто передай в weakref.finalize(KilledObject, callback, Args) то что хочешь и будет перед dead \n",
    "\n",
    "import weakref\n",
    "import time\n",
    "class Penny:\n",
    "    pass\n",
    "    \n",
    "penny = Penny()\n",
    "\n",
    "\n",
    "def alert(wrd):\n",
    "    print(wrd)\n",
    "\n",
    "\n",
    "\n",
    "weakref.finalize(penny,alert,'You have killed penny')\n",
    "\n",
    "del penny\n",
    "\n",
    "time.sleep(2)\n",
    "\n",
    "penny\n",
    "\n",
    "\n",
    "\n"
   ]
  },
  {
   "cell_type": "code",
   "execution_count": 13,
   "id": "0bd64d86-dda0-4089-ab38-5d2155adf5d2",
   "metadata": {},
   "outputs": [
    {
     "name": "stdout",
     "output_type": "stream",
     "text": [
      "123hello@mail.com\n"
     ]
    }
   ],
   "source": [
    "f = '134556'\n",
    "\n",
    "s = '123hello@mail.com'\n",
    "\n",
    "if not s.isnumeric():\n",
    "    print(s)"
   ]
  }
 ],
 "metadata": {
  "kernelspec": {
   "display_name": "Python 3 (ipykernel)",
   "language": "python",
   "name": "python3"
  },
  "language_info": {
   "codemirror_mode": {
    "name": "ipython",
    "version": 3
   },
   "file_extension": ".py",
   "mimetype": "text/x-python",
   "name": "python",
   "nbconvert_exporter": "python",
   "pygments_lexer": "ipython3",
   "version": "3.9.6"
  }
 },
 "nbformat": 4,
 "nbformat_minor": 5
}
