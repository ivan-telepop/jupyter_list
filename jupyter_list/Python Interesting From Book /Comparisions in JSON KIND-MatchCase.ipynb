{
 "cells": [
  {
   "cell_type": "code",
   "execution_count": 1,
   "id": "180f4b37-40cb-49b4-9803-1a6079bc1f15",
   "metadata": {},
   "outputs": [
    {
     "ename": "SyntaxError",
     "evalue": "invalid syntax (165525583.py, line 7)",
     "output_type": "error",
     "traceback": [
      "\u001b[0;36m  Cell \u001b[0;32mIn[1], line 7\u001b[0;36m\u001b[0m\n\u001b[0;31m    match record:\u001b[0m\n\u001b[0m          ^\u001b[0m\n\u001b[0;31mSyntaxError\u001b[0m\u001b[0;31m:\u001b[0m invalid syntax\n"
     ]
    }
   ],
   "source": [
    "# Сопоставление с образцом. (стр 102)\n",
    "# Распаковка неизвестных ключей.\n",
    "# Не работает паттерн матчинг в \n",
    "\n",
    "\n",
    "def check_dict(record:dict):\n",
    "    match record:\n",
    "        case {'typ':'book','api':2,'names':[*names]}:\n",
    "            return names\n",
    "        case {'type':'book','api':2,'name':name}:\n",
    "            return [name]\n",
    "        case {'typ':'book'}:\n",
    "            raise ValueError(f\"wrong data:{rec}\"\n",
    "        case {'typ':'movie','director':[*name]}:\n",
    "            return [name]\n",
    "        case _:\n",
    "            raise ValueError(f\"Wrong Values{rec}\")\n",
    "\n",
    "\n",
    "\n",
    "b1 = dict(api=1, names='Douglas Hofstadter',typ='book', title='Gödel, Escher, Bach')\n",
    "    "
   ]
  },
  {
   "cell_type": "code",
   "execution_count": 19,
   "id": "72ccc1b1-527a-4a1a-a92f-96e8cab01ee6",
   "metadata": {},
   "outputs": [
    {
     "data": {
      "text/plain": [
       "{'alpha': 1, 'betha': 2, 'theta': 3, 'hello': 'New Hello Sentence'}"
      ]
     },
     "execution_count": 19,
     "metadata": {},
     "output_type": "execute_result"
    }
   ],
   "source": [
    "class Tester(object):\n",
    "    alpha: int\n",
    "    betha: str\n",
    "    theta: bool\n",
    "\n",
    "\n",
    "class VinChester(object):\n",
    "    alpha: int\n",
    "    betha: str\n",
    "    theta: bool\n",
    "    hello: str\n",
    "\n",
    "\n",
    "ff = Tester()\n",
    "\n",
    "bb = VinChester()\n",
    "\n",
    "ff.__dict__ = {\"alpha\": 1, \"betha\":2,\"theta\":3}\n",
    "\n",
    "\n",
    "bb.__dict__.update(ff.__dict__)\n",
    "\n",
    "\n",
    "bb.__dict__.update({\"hello\":\"New Hello Sentence\"})\n",
    "\n",
    "\n",
    "bb.__dict__\n"
   ]
  },
  {
   "cell_type": "code",
   "execution_count": 8,
   "id": "3ef52761-7944-4e31-9e55-b2a04555cd91",
   "metadata": {},
   "outputs": [
    {
     "data": {
      "text/plain": [
       "True"
      ]
     },
     "execution_count": 8,
     "metadata": {},
     "output_type": "execute_result"
    }
   ],
   "source": [
    "class QQ:\n",
    "    attr = {'alpha': 1, 'betha': 2, 'theta': 3, 'hello': 'New Hello Sentence'}\n",
    "\n",
    "\n",
    "qq = QQ()\n",
    "hasattr(qq,'attr')\n",
    "\n",
    "\n",
    "\n"
   ]
  }
 ],
 "metadata": {
  "kernelspec": {
   "display_name": "Python 3 (ipykernel)",
   "language": "python",
   "name": "python3"
  },
  "language_info": {
   "codemirror_mode": {
    "name": "ipython",
    "version": 3
   },
   "file_extension": ".py",
   "mimetype": "text/x-python",
   "name": "python",
   "nbconvert_exporter": "python",
   "pygments_lexer": "ipython3",
   "version": "3.13.0a6"
  }
 },
 "nbformat": 4,
 "nbformat_minor": 5
}
