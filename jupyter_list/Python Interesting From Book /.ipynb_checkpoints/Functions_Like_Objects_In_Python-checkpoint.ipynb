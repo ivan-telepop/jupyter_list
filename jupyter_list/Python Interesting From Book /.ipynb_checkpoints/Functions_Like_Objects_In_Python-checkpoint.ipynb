{
 "cells": [
  {
   "cell_type": "code",
   "execution_count": 12,
   "id": "ec7a5fbb-675c-4015-a6a8-af51b71ebe7f",
   "metadata": {},
   "outputs": [
    {
     "data": {
      "text/plain": [
       "'__main__'"
      ]
     },
     "execution_count": 12,
     "metadata": {},
     "output_type": "execute_result"
    }
   ],
   "source": [
    "# Functions like Objects In Python\n",
    "# __doc__ attribute\n",
    "\n",
    "\n",
    "def factorial(n) -> int:\n",
    "    \"\"\" returns n!\"\"\"\n",
    "    mm = (n - 1)\n",
    "    print(mm, \"  is n - 1\"\n",
    "    return 1 if n < 2 else n * factorial(mm)\n",
    "\n",
    "factorial.__doc__\n",
    "\n",
    "factorial.__module__"
   ]
  },
  {
   "cell_type": "code",
   "execution_count": 11,
   "id": "1f438a27-7bb0-4546-a0aa-8269b50960f0",
   "metadata": {},
   "outputs": [
    {
     "data": {
      "text/plain": [
       "[1, 1, 2, 6, 24, 120, 720, 5040, 40320, 362880]"
      ]
     },
     "execution_count": 11,
     "metadata": {},
     "output_type": "execute_result"
    }
   ],
   "source": [
    "fc = factorial\n",
    "ls = [i for i in map(fc,range(10))]\n",
    "\n",
    "ls"
   ]
  }
 ],
 "metadata": {
  "kernelspec": {
   "display_name": "Python 3 (ipykernel)",
   "language": "python",
   "name": "python3"
  },
  "language_info": {
   "codemirror_mode": {
    "name": "ipython",
    "version": 3
   },
   "file_extension": ".py",
   "mimetype": "text/x-python",
   "name": "python",
   "nbconvert_exporter": "python",
   "pygments_lexer": "ipython3",
   "version": "3.9.6"
  }
 },
 "nbformat": 4,
 "nbformat_minor": 5
}
