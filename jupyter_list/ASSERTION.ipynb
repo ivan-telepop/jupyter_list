{
 "cells": [
  {
   "cell_type": "code",
   "execution_count": null,
   "id": "c6d2493c-3293-427b-a72b-f6e306b8b09c",
   "metadata": {},
   "outputs": [],
   "source": [
    "# Assertions \n",
    "# lets imagine we have a price of somthng so sometimes our app makes discount for this and\n",
    "# for being confident that our app makes correct discount. it will guerantee that discounted \n",
    "# price will not less than 0$ and cannot be higher then original price.\n"
   ]
  },
  {
   "cell_type": "code",
   "execution_count": 8,
   "id": "e11a9b12-b41a-401a-957a-8b6d76189607",
   "metadata": {},
   "outputs": [
    {
     "data": {
      "text/plain": [
       "19"
      ]
     },
     "execution_count": 8,
     "metadata": {},
     "output_type": "execute_result"
    }
   ],
   "source": [
    "def applay_discount(product,discount):\n",
    "    price = int(product['price'] * (1.0 - discount))\n",
    "    assert 0 <= price <= product['price']\n",
    "    return price\n",
    "\n",
    "ice_cream = {'name':'Fancy ice Cream','price': 100}\n",
    "\n",
    "\n",
    "applay_discount(ice_cream, 0.80)"
   ]
  },
  {
   "cell_type": "code",
   "execution_count": 7,
   "id": "cd16f158-93de-4464-bf23-ee57a2da9e75",
   "metadata": {},
   "outputs": [],
   "source": [
    "# P A T T E R N S    T O   U S E \n",
    "\n",
    "\n",
    "# Потверди что это True, а если нет то выведи \"Сообщение\"\n",
    "# assert - это и есть подтверди\n",
    "assert isinstance('hello',str),\"Wrong Data\"\n",
    "\n",
    "# assert isinstance('88',int)  >> AssertionError  \n",
    "\n"
   ]
  },
  {
   "cell_type": "code",
   "execution_count": 9,
   "id": "050ca420-e030-407a-b152-c6d2ac19c3c4",
   "metadata": {},
   "outputs": [
    {
     "ename": "AssertionError",
     "evalue": "Error message",
     "output_type": "error",
     "traceback": [
      "\u001b[0;31m---------------------------------------------------------------------------\u001b[0m",
      "\u001b[0;31mAssertionError\u001b[0m                            Traceback (most recent call last)",
      "Cell \u001b[0;32mIn[9], line 1\u001b[0m\n\u001b[0;32m----> 1\u001b[0m \u001b[38;5;28;01massert\u001b[39;00m \u001b[38;5;241m6\u001b[39m \u001b[38;5;241m<\u001b[39m\u001b[38;5;241m=\u001b[39m \u001b[38;5;241m1\u001b[39m, \u001b[38;5;124m\"\u001b[39m\u001b[38;5;124mError message\u001b[39m\u001b[38;5;124m\"\u001b[39m\n",
      "\u001b[0;31mAssertionError\u001b[0m: Error message"
     ]
    }
   ],
   "source": [
    "assert 6 <= 1, \"Error message\""
   ]
  },
  {
   "cell_type": "code",
   "execution_count": 55,
   "id": "cb715168-dc92-42b0-bd91-639b1d842c25",
   "metadata": {},
   "outputs": [],
   "source": [
    "class Test:\n",
    "    f = 100\n",
    "\n",
    "class Second(Test):\n",
    "    pass\n",
    "\n",
    "\n",
    "foo = Second()\n",
    "\n",
    "\n",
    "\n",
    "# assert isinstance(foo,Second), \"Its not...\"\n",
    "\n",
    "# assert isinstance(foo, Test), \"bla bla\"\n",
    "\n",
    "# def check(item):\n",
    "#     assert item.f > 50, \"Val Error\"\n",
    "#     return item\n",
    "\n",
    "\n",
    "# foo.f = 10\n",
    "# check(foo)\n",
    "\n",
    "\n",
    "assert hasattr(foo,'f')"
   ]
  },
  {
   "cell_type": "code",
   "execution_count": 54,
   "id": "ab7a4b03-e553-409f-9c3c-e3646f223a41",
   "metadata": {},
   "outputs": [
    {
     "data": {
      "text/plain": [
       "('one', 'twothree')"
      ]
     },
     "execution_count": 54,
     "metadata": {},
     "output_type": "execute_result"
    }
   ],
   "source": [
    "ff = ('one','two' 'three')\n",
    "\n",
    "\n",
    "\n",
    "ff\n"
   ]
  }
 ],
 "metadata": {
  "kernelspec": {
   "display_name": "Python 3 (ipykernel)",
   "language": "python",
   "name": "python3"
  },
  "language_info": {
   "codemirror_mode": {
    "name": "ipython",
    "version": 3
   },
   "file_extension": ".py",
   "mimetype": "text/x-python",
   "name": "python",
   "nbconvert_exporter": "python",
   "pygments_lexer": "ipython3",
   "version": "3.13.0a6"
  }
 },
 "nbformat": 4,
 "nbformat_minor": 5
}
