{
 "cells": [
  {
   "cell_type": "code",
   "execution_count": null,
   "id": "6d2bcbca-ca8c-4424-b641-c32309f4ba4d",
   "metadata": {},
   "outputs": [],
   "source": [
    "# https://docs-python.ru/tutorial/vstroennye-funktsii-interpretatora-python/funktsija-compile/"
   ]
  },
  {
   "cell_type": "code",
   "execution_count": null,
   "id": "a9023dec-f108-4ce9-8d83-83ce6c9f46ca",
   "metadata": {},
   "outputs": [],
   "source": [
    "compile(source, filename, mode, flag, dont_inherit, optimize)"
   ]
  }
 ],
 "metadata": {
  "kernelspec": {
   "display_name": "Python 3 (ipykernel)",
   "language": "python",
   "name": "python3"
  },
  "language_info": {
   "codemirror_mode": {
    "name": "ipython",
    "version": 3
   },
   "file_extension": ".py",
   "mimetype": "text/x-python",
   "name": "python",
   "nbconvert_exporter": "python",
   "pygments_lexer": "ipython3",
   "version": "3.13.0a6"
  }
 },
 "nbformat": 4,
 "nbformat_minor": 5
}
