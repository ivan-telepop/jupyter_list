{
 "cells": [
  {
   "cell_type": "code",
   "execution_count": null,
   "id": "5f813ddc-bdb9-4b7b-bc22-ed4782e69959",
   "metadata": {},
   "outputs": [],
   "source": [
    "# Chech Regex Pattern Here - https://regex101.com/"
   ]
  },
  {
   "cell_type": "code",
   "execution_count": null,
   "id": "45f8a4bd-4749-42c0-9412-b82fe9e9186b",
   "metadata": {},
   "outputs": [],
   "source": [
    "Символ | Значение | Пример | Что найдёт\n",
    ". | Любой один символ (кроме \\n) | a.c | abc, a1c, a-c\n",
    "^ | Начало строки | ^Привет | Только если строка начинается с \"Привет\"\n",
    "$ | Конец строки | мир!$ | Только если строка заканчивается на \"мир!\"\n",
    "* | 0 или больше повторений | ho* | h, ho, hoo, hooo\n",
    "+ | 1 или больше повторений | ho+ | ho, hoo, hooo (но не просто h)\n",
    "? | 0 или 1 повторение | ho? | h, ho\n",
    "{n} | Ровно n повторений | a{3} | aaa\n",
    "{n,} | n или больше | a{2,} | aa, aaa, aaaa...\n",
    "{n,m} | от n до m повторений | a{2,4} | aa, aaa, aaaa\n",
    "[] | Любой символ внутри | [abc] | a, b, или c\n",
    "[^] | Всё, кроме символов внутри | [^abc] | Всё, кроме a, b, c\n",
    "` | ` | Или | `кот\n",
    "() | Группа | (ab)+ | ab, abab, ababab"
   ]
  },
  {
   "cell_type": "code",
   "execution_count": null,
   "id": "0fc3c6b2-2fc3-4c7a-9ff0-0369ba3122d0",
   "metadata": {},
   "outputs": [],
   "source": [
    "Шаблон | Что означает | Пример | Совпадения\n",
    "\\d | Цифра (0-9) | \\d\\d | 12, 99, 00\n",
    "\\D | НЕ цифра |  | a, -, б\n",
    "\\w | Буква, цифра, _ | \\w+ | слово_123\n",
    "\\W | НЕ буква/цифра/_ |  | !, @,  \n",
    "\\s | Пробельный символ |  |  , \\t, \\n\n",
    "\\S | НЕ пробел |  | a, 1, !\n",
    "\\\\ | Экранирование \\ |  | \\"
   ]
  },
  {
   "cell_type": "code",
   "execution_count": null,
   "id": "6326123d-efc8-4066-a471-11d82ebdb105",
   "metadata": {},
   "outputs": [],
   "source": [
    "re.findall(r'\\d+', \"У меня 2 яблока и 15 бананов\")\n",
    "# ['2', '15']"
   ]
  },
  {
   "cell_type": "code",
   "execution_count": null,
   "id": "f833bc48-8292-4811-ba8d-764beb4f1a1b",
   "metadata": {},
   "outputs": [],
   "source": [
    "re.sub(r'\\s', '_', \"Привет мир\")\n",
    "# \"Привет_мир\""
   ]
  },
  {
   "cell_type": "code",
   "execution_count": null,
   "id": "24d6ab21-5cb2-4aec-a996-cef851ff39ed",
   "metadata": {},
   "outputs": [],
   "source": [
    "re.match(r'^\\w+@\\w+\\.\\w+$', \"test@mail.com\")\n",
    "# Найдёт, если формат правильный"
   ]
  }
 ],
 "metadata": {
  "kernelspec": {
   "display_name": "Python 3.13 jupy_venv",
   "language": "python",
   "name": "jupy_venv"
  },
  "language_info": {
   "codemirror_mode": {
    "name": "ipython",
    "version": 3
   },
   "file_extension": ".py",
   "mimetype": "text/x-python",
   "name": "python",
   "nbconvert_exporter": "python",
   "pygments_lexer": "ipython3",
   "version": "3.12.9"
  }
 },
 "nbformat": 4,
 "nbformat_minor": 5
}
