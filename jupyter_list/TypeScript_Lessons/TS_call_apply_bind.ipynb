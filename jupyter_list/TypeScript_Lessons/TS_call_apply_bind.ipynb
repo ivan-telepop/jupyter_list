{
 "cells": [
  {
   "cell_type": "code",
   "execution_count": 12,
   "id": "aa70544c-4ce4-4247-b23b-d15dc382738d",
   "metadata": {},
   "outputs": [
    {
     "data": {
      "text/plain": [
       "\u001b[33m40\u001b[39m"
      ]
     },
     "execution_count": 12,
     "metadata": {},
     "output_type": "execute_result"
    }
   ],
   "source": [
    "\n",
    "\n",
    "let multiple = (a:number,b:number):number =>  {\n",
    "    return a + b\n",
    "}\n",
    "\n",
    "// let имя_переменной = (скобки с параметрами):res_type => { то что в результате }\n",
    "\n",
    "multiple(10,30)"
   ]
  }
 ],
 "metadata": {
  "kernelspec": {
   "display_name": "Deno",
   "language": "typescript",
   "name": "deno"
  },
  "language_info": {
   "file_extension": ".ts",
   "mimetype": "text/x.typescript",
   "name": "typescript",
   "nb_converter": "script",
   "pygments_lexer": "typescript",
   "version": "5.4.3"
  }
 },
 "nbformat": 4,
 "nbformat_minor": 5
}
