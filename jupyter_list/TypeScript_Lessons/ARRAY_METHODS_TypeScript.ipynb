{
 "cells": [
  {
   "cell_type": "code",
   "execution_count": 1,
   "id": "9c0833f7-b8f2-4930-87d4-36bae67175ef",
   "metadata": {},
   "outputs": [],
   "source": [
    "let emo:string[] = ['one','two','three','four',null]"
   ]
  },
  {
   "cell_type": "code",
   "execution_count": 5,
   "id": "22834a82-da50-4e57-a5f5-1823e3e4effc",
   "metadata": {},
   "outputs": [
    {
     "data": {
      "text/plain": [
       "[ \u001b[32m\"one\"\u001b[39m, \u001b[32m\"two\"\u001b[39m, \u001b[32m\"three\"\u001b[39m, \u001b[32m\"four\"\u001b[39m, \u001b[1mnull\u001b[22m ]"
      ]
     },
     "execution_count": 5,
     "metadata": {},
     "output_type": "execute_result"
    }
   ],
   "source": [
    "emo"
   ]
  },
  {
   "cell_type": "code",
   "execution_count": 3,
   "id": "56bd9f0b-5813-4d6f-8ba2-e667ae1e94eb",
   "metadata": {},
   "outputs": [
    {
     "name": "stdout",
     "output_type": "stream",
     "text": [
      "\u001b[33m4\u001b[39m\n"
     ]
    }
   ],
   "source": [
    "console.log(emo.indexOf(null))"
   ]
  },
  {
   "cell_type": "code",
   "execution_count": 4,
   "id": "64007a34-96ed-4665-9a75-b41003ee2149",
   "metadata": {},
   "outputs": [
    {
     "data": {
      "text/plain": [
       "\u001b[33m2\u001b[39m"
      ]
     },
     "execution_count": 4,
     "metadata": {},
     "output_type": "execute_result"
    }
   ],
   "source": [
    "emo.indexOf('three')"
   ]
  },
  {
   "cell_type": "code",
   "execution_count": null,
   "id": "141566d5-5bd3-4f6e-9ee1-54a598c134bd",
   "metadata": {},
   "outputs": [],
   "source": [
    "https://blog.canopas.com/typescript-array-methods-and-their-usages-daa8d498b4fd\n",
    "READ IT"
   ]
  },
  {
   "cell_type": "code",
   "execution_count": null,
   "id": "3250a883-cdda-40de-8d3d-9fe0ae78d05c",
   "metadata": {},
   "outputs": [],
   "source": [
    "https://medium.com/@abeythilakeudara3/typescript-array-methods-b8de1f246f6b\n",
    "READ IT "
   ]
  },
  {
   "cell_type": "code",
   "execution_count": 28,
   "id": "5e747a47-4bea-4182-bbe9-782f15a585cd",
   "metadata": {},
   "outputs": [
    {
     "data": {
      "text/plain": [
       "[\n",
       "   \u001b[33m4\u001b[39m,  \u001b[33m8\u001b[39m, \u001b[33m12\u001b[39m, \u001b[33m16\u001b[39m, \u001b[33m20\u001b[39m, \u001b[33m24\u001b[39m, \u001b[33m28\u001b[39m,\n",
       "  \u001b[33m32\u001b[39m, \u001b[33m36\u001b[39m,  \u001b[33m0\u001b[39m,  \u001b[33m1\u001b[39m,  \u001b[33m2\u001b[39m,  \u001b[33m3\u001b[39m,  \u001b[33m4\u001b[39m,\n",
       "   \u001b[33m5\u001b[39m,  \u001b[33m6\u001b[39m,  \u001b[33m7\u001b[39m,  \u001b[33m8\u001b[39m,  \u001b[33m9\u001b[39m,  \u001b[33m0\u001b[39m\n",
       "]"
      ]
     },
     "execution_count": 28,
     "metadata": {},
     "output_type": "execute_result"
    }
   ],
   "source": [
    "\n",
    "const arrOne = [1,2,3,4,5,6,7,8,9,0];\n",
    "\n",
    "const mappedArr = arrOne.map(it => (it * 4))\n",
    "\n",
    "\n",
    "let coNcated = mappedArr.concat(arrOne)\n",
    "\n",
    "coNcated"
   ]
  },
  {
   "cell_type": "code",
   "execution_count": null,
   "id": "ddc023fd-5229-4449-9175-5b682d9e1a55",
   "metadata": {},
   "outputs": [],
   "source": [
    "// CopyWithIn()\n",
    "// takes three args:\n",
    "//"
   ]
  },
  {
   "cell_type": "code",
   "execution_count": null,
   "id": "fba1a65c-ec3b-4a75-988f-606c103ba2a6",
   "metadata": {},
   "outputs": [],
   "source": [
    "Method Name \tDescription \n",
    "concat() \tJoins arrays and returns an array with the joined arrays *\n",
    "\n",
    "copyWithin() \tCopies array elements within the array, to and from specified positions \n",
    "\n",
    "every() \tChecks if every element in an array passes a test \n",
    "\n",
    "fill() \tFill the elements in an array with a static value \n",
    "\n",
    "filter() \tCreates a new array with every element in an array that passes a test \n",
    "\n",
    "find() \tReturns the value of the first element in an array that passed a test \n",
    "\n",
    "findIndex() \tReturns the index of the first element in an array that passed a test \n",
    "\n",
    "flat() \tcreates a new array with all sub-array elements concatenated into it recursively up to the specified depth. \n",
    "flatMap() \treturns a new array formed by applying a given callback function to each element of the array, and then flattening the result by one level. \n",
    "forEach() \tCalls a function for each array element \n",
    "includes() \tCheck if an array contains the specified element \n",
    "indexOf() \tSearch the array for an element and returns its position \n",
    "join() \tJoins all elements of an array into a string \n",
    "keys() \tReturns an Array Iteration Object, containing the keys of the original array \n",
    "lastIndexOf() \tSearch the array for an element, starting at the end, and returns its position \n",
    "map() \tCreates a new array with the result of calling a function for each array element \n",
    "pop() \tRemoves the last element of an array, and returns that element \n",
    "push() \tAdds new elements to the end of an array, and returns the new length \n",
    "reduce() \tReduce the values of an array to a single value (going left-to-right) \n",
    "reduceRight() \tReduce the values of an array to a single value (going right-to-left) \n",
    "reverse() \tReverses the order of the elements in an array \n",
    "shift() \tRemoves the first element of an array, and returns that element \n",
    "slice() \tSelects a part of an array, and returns the new array \n",
    "some() \tChecks if any of the elements in an array pass a test \n",
    "sort() \tSorts the elements of an array \n",
    "splice() \tAdds/Removes elements from an array \n",
    "toString() \tConverts an array to a string, and returns the result \n",
    "unshift() \tAdds new elements to the beginning of an array, and returns the new length "
   ]
  },
  {
   "cell_type": "code",
   "execution_count": 15,
   "id": "49fe17b8-4264-4f28-ab24-e12d868a29d2",
   "metadata": {},
   "outputs": [],
   "source": [
    "// concat()\n",
    "const one = ['one','odin']\n",
    "const two = ['two','dva']\n",
    "const together = one.concat(two)"
   ]
  },
  {
   "cell_type": "code",
   "execution_count": 16,
   "id": "0466da54-bc0f-4f0a-80bc-ab4bc32e514d",
   "metadata": {},
   "outputs": [
    {
     "data": {
      "text/plain": [
       "[ \u001b[32m\"one\"\u001b[39m, \u001b[32m\"odin\"\u001b[39m, \u001b[32m\"two\"\u001b[39m, \u001b[32m\"dva\"\u001b[39m ]"
      ]
     },
     "execution_count": 16,
     "metadata": {},
     "output_type": "execute_result"
    }
   ],
   "source": [
    "together"
   ]
  },
  {
   "cell_type": "code",
   "execution_count": 43,
   "id": "024cedab-4d1b-4c8a-8d4b-ec0c9c8e4ad5",
   "metadata": {},
   "outputs": [
    {
     "data": {
      "text/plain": [
       "[ \u001b[32m\"3\"\u001b[39m, \u001b[32m\"4\"\u001b[39m, \u001b[32m\"3\"\u001b[39m, \u001b[32m\"4\"\u001b[39m ]"
      ]
     },
     "execution_count": 43,
     "metadata": {},
     "output_type": "execute_result"
    }
   ],
   "source": [
    "//copyWithin() копирует последовательную часть элементов массива из одного места в другое. \n",
    "//Длина массива при этом не меняется. \n",
    "//Метод использует поверхностное копирование (shallow copy) элементов.\n",
    "const people = ['1','2','3','4']\n",
    "let target = 0;\n",
    "let start = 1 ;\n",
    "let end = 2;\n",
    "people.copyWithin(target,end)"
   ]
  },
  {
   "cell_type": "code",
   "execution_count": 44,
   "id": "ece15369-ffad-4763-b68a-878bc4170e3f",
   "metadata": {},
   "outputs": [
    {
     "name": "stdout",
     "output_type": "stream",
     "text": [
      "[ \u001b[32m\"purple\"\u001b[39m, \u001b[32m\"purple\"\u001b[39m, \u001b[32m\"purple\"\u001b[39m ]\n"
     ]
    }
   ],
   "source": [
    "// fill()\n",
    "//Метод fill() заполняет часть или все элементы массива одним и тем же значением.\n",
    "const colors = ['red', 'green', 'white']\n",
    "colors.fill('purple')\n",
    "\n",
    "console.log(colors)"
   ]
  },
  {
   "cell_type": "code",
   "execution_count": null,
   "id": "2a697e33-9d75-49fe-8350-fec4c7766cc3",
   "metadata": {},
   "outputs": [],
   "source": [
    "//filter(callback)\n",
    "//Метод массива .filter() позволяет получить новый массив, отфильтровав элементы с помощью переданной колбэк-функции. \n",
    "//Колбэк-функция будет вызвана для каждого элемента массива и по результату функции примет решение включать этот элемент в новый массив или нет.\n",
    "\n",
    "\n",
    "const nums = [1, 2, 3, 4, 5, 6, 7, 8, 9, 10]\n",
    "\n",
    "const evenOnly = nums.filter(function (n) {\n",
    "  const remainder = n % 2\n",
    "\n",
    "  return remainder === 0\n",
    "})"
   ]
  },
  {
   "cell_type": "code",
   "execution_count": 47,
   "id": "578a9b4d-fa33-43c1-a1f1-73b284367287",
   "metadata": {},
   "outputs": [
    {
     "data": {
      "text/plain": [
       "\u001b[32m\"shampoo\"\u001b[39m"
      ]
     },
     "execution_count": 47,
     "metadata": {},
     "output_type": "execute_result"
    }
   ],
   "source": [
    "// find()\n",
    "//Метод массива find() вернёт первый найденный в массиве элемент, который подходит под условие в переданной колбэк-функции. \n",
    "//Если в массиве не найдётся ни одного подходящего элемента, то вернётся значение undefined.\n",
    "const products = ['bread','salt','shampoo','garlik','cream']\n",
    "\n",
    "const first5 = products.find((element) => element === 'shampoo')\n",
    "first5"
   ]
  },
  {
   "cell_type": "code",
   "execution_count": 49,
   "id": "359ec973-a0cf-4577-af11-8cb42b52ba44",
   "metadata": {},
   "outputs": [
    {
     "data": {
      "text/plain": [
       "\u001b[33m3\u001b[39m"
      ]
     },
     "execution_count": 49,
     "metadata": {},
     "output_type": "execute_result"
    }
   ],
   "source": [
    "// findIndex()\n",
    "//Метод findIndex() возвращает индекс первого найденного в массиве элемента, который подходит под условие переданной функции.\n",
    "//Если же ни одного подходящего элемента не найдётся, то метод вернёт -1.\n",
    "\n",
    "const names = ['Даня', 'Саша', 'Юля', 'Лиза', 'Егор', 'Лиза']\n",
    "\n",
    "function isLisa(element) {\n",
    "  return element === 'Лиза'\n",
    "}\n",
    "names.findIndex(isLisa)\n"
   ]
  },
  {
   "cell_type": "code",
   "execution_count": 33,
   "id": "a7b61946-4647-4a5d-a60b-b6c7914162e4",
   "metadata": {},
   "outputs": [
    {
     "name": "stdout",
     "output_type": "stream",
     "text": [
      "one\n",
      "0 index\n",
      "two\n",
      "1 index\n",
      "three\n",
      "3 index\n",
      "three\n",
      "3 index\n",
      "four\n",
      "5 index\n",
      "four\n",
      "5 index\n",
      "five\n",
      "6 index\n",
      "\u001b[33m5\u001b[39m\n"
     ]
    }
   ],
   "source": [
    "// Вернет индекс найденого элемента\n",
    "// если в массиве есть  повторы вернет индекс последнего найденого\n",
    "// let myArr: string[] = [];\n",
    "// console.log(myArr.lastIndexOf(1))\n",
    "\n",
    "let listOne = ['one','two','three','three','four','four','five']\n",
    "\n",
    "\n",
    "for ( let index of listOne) {\n",
    "    console.log(index)\n",
    "    console.log(listOne.lastIndexOf(index)+' index')\n",
    "}\n",
    "console.log(listOne.lastIndexOf('four'))"
   ]
  },
  {
   "cell_type": "code",
   "execution_count": 46,
   "id": "ef7bcab6-8f53-4af2-9478-4e821014efd8",
   "metadata": {},
   "outputs": [
    {
     "name": "stdout",
     "output_type": "stream",
     "text": [
      "[\n",
      "  \u001b[32m\"third\"\u001b[39m, \u001b[32m\"fourth\"\u001b[39m,\n",
      "  \u001b[32m\"third\"\u001b[39m, \u001b[32m\"fourth\"\u001b[39m,\n",
      "  \u001b[32m\"fifth\"\u001b[39m, \u001b[32m\"six\"\u001b[39m,\n",
      "  \u001b[32m\"seven\"\u001b[39m\n",
      "]\n",
      "[\n",
      "  \u001b[33m0\u001b[39m, \u001b[33m1\u001b[39m, \u001b[33m2\u001b[39m, \u001b[33m3\u001b[39m, \u001b[33m4\u001b[39m,\n",
      "  \u001b[33m5\u001b[39m, \u001b[33m6\u001b[39m, \u001b[33m7\u001b[39m, \u001b[33m8\u001b[39m, \u001b[33m0\u001b[39m,\n",
      "  \u001b[33m1\u001b[39m\n",
      "]\n"
     ]
    }
   ],
   "source": [
    "// copyWithin(target: number, start: number, end?: number): this;\n",
    "// target - where to copy\n",
    "// start or index of elem - (start of slice)\n",
    "// end - of slice\n",
    "// Кароч копирует либо по срезу либо по индексу: первый_Арг - куда копируем, второй_арг: индекс (или начало среза)\n",
    "// третьий арг: конец среза копируемого объекта\n",
    "\n",
    "let supArr = ['first','second','third','fourth','fifth','six','seven']\n",
    "\n",
    "console.log(supArr.copyWithin(0, 2,4))\n",
    "\n",
    "let some = [0,1,2,3,4,5,6,7,8,9,10]\n",
    "\n",
    "console.log(some.copyWithin(-2,0))"
   ]
  },
  {
   "cell_type": "code",
   "execution_count": 54,
   "id": "01d732d6-1238-47c6-9438-ef688e40d422",
   "metadata": {},
   "outputs": [
    {
     "name": "stdout",
     "output_type": "stream",
     "text": [
      "\u001b[33mfalse\u001b[39m\n"
     ]
    }
   ],
   "source": [
    "// Every(_) Пробегается по масиву и иполняет калбечину которая проверяет на true/false\n",
    "\n",
    "// Хорош при проверке массива на что либо \n",
    "\n",
    "\n",
    "let someAges = [20,15,11,28,34,35,77,99,29,'hook']\n",
    "\n",
    "const suppaChilds = someAges.every(one => {\n",
    "    return one == 'hook';\n",
    "});\n",
    "\n",
    "console.log(suppaChilds)"
   ]
  },
  {
   "cell_type": "code",
   "execution_count": null,
   "id": "8078fa17-3924-42cf-83b6-b2dc6b20264a",
   "metadata": {},
   "outputs": [],
   "source": []
  }
 ],
 "metadata": {
  "kernelspec": {
   "display_name": "Deno",
   "language": "typescript",
   "name": "deno"
  },
  "language_info": {
   "file_extension": ".ts",
   "mimetype": "text/x.typescript",
   "name": "typescript",
   "nb_converter": "script",
   "pygments_lexer": "typescript",
   "version": "5.4.3"
  }
 },
 "nbformat": 4,
 "nbformat_minor": 5
}
