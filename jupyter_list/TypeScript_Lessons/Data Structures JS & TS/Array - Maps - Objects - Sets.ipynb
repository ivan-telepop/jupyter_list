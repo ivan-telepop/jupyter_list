{
 "cells": [
  {
   "cell_type": "code",
   "execution_count": null,
   "id": "7a9a5ec2-8c2e-4161-9ed8-0e4262fa7d9b",
   "metadata": {},
   "outputs": [],
   "source": [
    "// In JS we have collections Objects, Arrays, Maps, Sets\n",
    "// Also the JS has special datasets TypedArrays"
   ]
  },
  {
   "cell_type": "code",
   "execution_count": null,
   "id": "8f870f6f-e5d0-4db7-b2e8-a303addf63ab",
   "metadata": {
    "editable": true,
    "slideshow": {
     "slide_type": ""
    },
    "tags": []
   },
   "outputs": [],
   "source": [
    "//      https://doka.guide/tools/structure-data-in-js/"
   ]
  },
  {
   "cell_type": "code",
   "execution_count": 11,
   "id": "e617dc01-9f83-475d-9789-4da39b94293a",
   "metadata": {},
   "outputs": [
    {
     "data": {
      "text/plain": [
       "[ \u001b[32m\"one\"\u001b[39m, \u001b[32m\"two\"\u001b[39m, \u001b[32m\"three\"\u001b[39m ]"
      ]
     },
     "execution_count": 11,
     "metadata": {},
     "output_type": "execute_result"
    }
   ],
   "source": [
    "//   Массивы и методы\n",
    "\n",
    "let arr = [\"one\",\"two\",\"three\",\"four\",\"five\"]\n",
    "\n",
    "arr.splice(0,3)\n",
    "\n"
   ]
  },
  {
   "cell_type": "code",
   "execution_count": 21,
   "id": "e0d330c8-685e-4a36-b15e-6f68473d8478",
   "metadata": {},
   "outputs": [
    {
     "data": {
      "text/plain": [
       "\u001b[32m\"item6  item1\"\u001b[39m"
      ]
     },
     "execution_count": 21,
     "metadata": {},
     "output_type": "execute_result"
    }
   ],
   "source": [
    "// QUEUE - Last IN First OUT - pop /push\n",
    "let stack = []\n",
    "\n",
    "stack.push('item1')\n",
    "stack\n",
    "stack.push('item2')\n",
    "stack\n",
    "stack.push('item3')\n",
    "stack\n",
    "stack.push('item4')\n",
    "stack\n",
    "stack.push('item5')\n",
    "stack\n",
    "stack.push('item6')\n",
    "stack\n",
    "\n",
    "\n",
    "let LastItem = stack.pop()\n",
    "let FirstItem = stack.shift()\n",
    "LastItem + \"  \" + FirstItem"
   ]
  },
  {
   "cell_type": "code",
   "execution_count": null,
   "id": "d027aba5-bf0e-4225-a851-54ad68539b72",
   "metadata": {},
   "outputs": [],
   "source": []
  },
  {
   "cell_type": "code",
   "execution_count": null,
   "id": "accae370-f2b1-441d-a5c8-146a338ee991",
   "metadata": {},
   "outputs": [],
   "source": []
  }
 ],
 "metadata": {
  "kernelspec": {
   "display_name": "Deno",
   "language": "typescript",
   "name": "deno"
  },
  "language_info": {
   "file_extension": ".ts",
   "mimetype": "text/x.typescript",
   "name": "typescript",
   "nb_converter": "script",
   "pygments_lexer": "typescript",
   "version": "5.4.3"
  }
 },
 "nbformat": 4,
 "nbformat_minor": 5
}
