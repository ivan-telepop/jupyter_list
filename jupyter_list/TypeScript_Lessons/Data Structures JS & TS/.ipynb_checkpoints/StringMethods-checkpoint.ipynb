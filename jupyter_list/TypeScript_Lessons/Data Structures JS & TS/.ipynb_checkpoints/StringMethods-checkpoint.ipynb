{
 "cells": [
  {
   "cell_type": "markdown",
   "id": "8dde7d95-d2ce-4957-9125-53d517d0dc0b",
   "metadata": {},
   "source": [
    "https://www.w3schools.com/js/js_string_methods.asp\n",
    "\n",
    "### Javascript strings are primitive and immutable: \n",
    "#### All string methods produce a new string without altering the original string."
   ]
  },
  {
   "cell_type": "code",
   "execution_count": 17,
   "id": "68dc6f5e-dc48-4032-9521-33ca266c2492",
   "metadata": {},
   "outputs": [
    {
     "name": "stdout",
     "output_type": "stream",
     "text": [
      "\u001b[33m6\u001b[39m abcdef\n",
      "c \u001b[33m100\u001b[39m\n",
      "fe\n"
     ]
    }
   ],
   "source": [
    "let txt = 'abcdef';\n",
    "\n",
    "console.log(txt.length, txt)\n",
    "\n",
    "\n",
    "// charAt() charCodeAt()\n",
    "console.log(txt.charAt(2), txt.charCodeAt(3))\n",
    "\n",
    "// at() and  - stringWord[1]\n",
    "console.log(txt.at(-1) + txt[4])"
   ]
  },
  {
   "cell_type": "markdown",
   "id": "75313502-5d40-404f-93d3-891e482cb532",
   "metadata": {},
   "source": [
    "#### Extracting slices from string\n",
    "There are 3 methods for extracting a part of a string:\n",
    "\n",
    "#### slice(start, end)\n",
    "#### substring(start, end)\n",
    "#### substr(start, length)\n"
   ]
  },
  {
   "cell_type": "code",
   "execution_count": 31,
   "id": "e4af6859-a429-4b67-9ccd-e72ce831cd74",
   "metadata": {},
   "outputs": [
    {
     "name": "stdout",
     "output_type": "stream",
     "text": [
      "phabet\n",
      "phabetical th\n"
     ]
    }
   ],
   "source": [
    "// substring()\n",
    "let myStr = 'Alphabetical thing';\n",
    "console.log(myStr.substr(2,6));\n",
    "\n",
    "// slice()\n",
    "console.log(\n",
    "    myStr.slice(2,-3)\n",
    ")\n"
   ]
  },
  {
   "cell_type": "code",
   "execution_count": 35,
   "id": "e9703155-05aa-4acd-858d-ad53c3d3dc93",
   "metadata": {},
   "outputs": [
    {
     "data": {
      "text/plain": [
       "\u001b[32m\"trimsStart    trimend__\"\u001b[39m"
      ]
     },
     "execution_count": 35,
     "metadata": {},
     "output_type": "execute_result"
    }
   ],
   "source": [
    "\n",
    "// String Search Methods\n",
    "// String Templates\n",
    "// String toUpperCase()\n",
    "// String toLowerCase()\n",
    "// String concat()\n",
    "// String trim()\n",
    "// String trimStart()\n",
    "// String trimEnd()\n",
    "// String padStart()\n",
    "// String padEnd()\n",
    "// String repeat()\n",
    "// String replace()\n",
    "// String replaceAll()\n",
    "// String split()\n",
    "\n",
    "\n",
    "\"     trimsStart    \".trimStart() + \"trimend__      \".trimEnd()   "
   ]
  },
  {
   "cell_type": "code",
   "execution_count": 51,
   "id": "712a8f87-b098-4659-b92d-5f50c1fce9ef",
   "metadata": {},
   "outputs": [
    {
     "name": "stdout",
     "output_type": "stream",
     "text": [
      "0005  AAAAAAA5\n",
      "5AAAAAAA\n"
     ]
    }
   ],
   "source": [
    "let text = \"5\";\n",
    "let padded = text.padStart(4,\"0\");\n",
    "\n",
    "\n",
    "\n",
    "\n",
    "let newTxt = \"5\";\n",
    "let pad = newTxt.padStart(8,\"A\");\n",
    "\n",
    "console.log(padded +\"  \" + pad);\n",
    "\n",
    "let ender = \"5\";\n",
    "let padend = ender.padEnd(8,\"A\");\n",
    "\n",
    "console.log(padend);"
   ]
  },
  {
   "cell_type": "code",
   "execution_count": 54,
   "id": "284ee04a-f0c8-488f-8532-024b5388c436",
   "metadata": {},
   "outputs": [
    {
     "name": "stdout",
     "output_type": "stream",
     "text": [
      "Original StringOriginal StringOriginal StringOriginal StringOriginal String\n"
     ]
    }
   ],
   "source": [
    "// The repeat() method returns a string with a number of copies of a string.\n",
    "\n",
    "// The repeat() method returns a new string.\n",
    "\n",
    "// The repeat() method does not change the original string.\n",
    "\n",
    "\n",
    "let orig = \"Original String\";\n",
    "\n",
    "let rep = orig.repeat(5);\n",
    "\n",
    "console.log(rep)"
   ]
  },
  {
   "cell_type": "code",
   "execution_count": 63,
   "id": "3ca76da8-1786-46d5-a40f-8779dedcc2eb",
   "metadata": {},
   "outputs": [
    {
     "name": "stdout",
     "output_type": "stream",
     "text": [
      "My last car been Mersedes-benz\n"
     ]
    }
   ],
   "source": [
    "// Replace\n",
    "\n",
    "let sen = \"My last car been wv\";\n",
    "\n",
    "\n",
    "//To replace case insensitive, use a regular expression with an /i flag (insensitive):\n",
    "let nsen = sen.replace(/Wv/i,\"Mersedes-benz\");\n",
    "\n",
    "console.log(nsen)\n",
    "\n",
    "//To replace all matches, use a regular expression with a /g flag (global match):"
   ]
  },
  {
   "cell_type": "code",
   "execution_count": 68,
   "id": "9c3d232e-e4c1-4b37-97dd-10b6edebb09d",
   "metadata": {},
   "outputs": [],
   "source": [
    "let some = \"Moscow is the capital\";\n",
    "\n",
    "let arr = some.split(\" \")\n",
    "//[ \"Moscow\", \"is\", \"the\", \"capital\" ]\n",
    "\n",
    "let sin = some.split();\n",
    "\n",
    "// [ \"Moscow is the capital\" ]"
   ]
  },
  {
   "cell_type": "code",
   "execution_count": 77,
   "id": "cbaba347-691c-417e-bf5c-f2d438854999",
   "metadata": {},
   "outputs": [
    {
     "data": {
      "text/plain": [
       "\u001b[32m\"There is no replaced - cat DOGs bees pets\"\u001b[39m"
      ]
     },
     "execution_count": 77,
     "metadata": {},
     "output_type": "execute_result"
    }
   ],
   "source": [
    "// replaceAll()\n",
    "let tst = \"There is no replaced - cat dogs bees pets\";\n",
    "\n",
    "let wrds = [\"cat\",\"dog\",\"bees\",\"pets\"];\n",
    "\n",
    "let rpl = tst.replaceAll(wrds[1],\"DOG\");\n",
    "\n",
    "rpl\n",
    "\n"
   ]
  }
 ],
 "metadata": {
  "kernelspec": {
   "display_name": "Deno",
   "language": "typescript",
   "name": "deno"
  },
  "language_info": {
   "file_extension": ".ts",
   "mimetype": "text/x.typescript",
   "name": "typescript",
   "nb_converter": "script",
   "pygments_lexer": "typescript",
   "version": "5.4.3"
  }
 },
 "nbformat": 4,
 "nbformat_minor": 5
}
