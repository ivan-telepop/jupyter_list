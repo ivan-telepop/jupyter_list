{
 "cells": [
  {
   "cell_type": "code",
   "execution_count": 7,
   "id": "fda0d317-5b8d-4751-ae8b-a1e440ba9d53",
   "metadata": {},
   "outputs": [
    {
     "data": {
      "text/plain": [
       "[ \u001b[33mfalse\u001b[39m, \u001b[33m99\u001b[39m, \u001b[32m\"Hello Bro\"\u001b[39m, \u001b[32m\"New text here\"\u001b[39m ]"
      ]
     },
     "execution_count": 7,
     "metadata": {},
     "output_type": "execute_result"
    }
   ],
   "source": [
    "// TYPESCRIPT TUPLES\n",
    "\n",
    "// Я не уверен такое ли поведение на Ноде как здесь потому что тут Дэно как то странно пашет...\n",
    "\n",
    "let myTuple: [string,boolean,number];\n",
    "\n",
    "// Keep ordering well \n",
    "// myTuple = ['Hello Bro',false,99]\n",
    "\n",
    "myTuple = [false,99,'Hello Bro']\n",
    "\n",
    "\n",
    "myTuple.push('New text here');\n",
    "\n",
    "\n",
    "myTuple"
   ]
  },
  {
   "cell_type": "code",
   "execution_count": 10,
   "id": "6030e2c3-9046-4e0a-ad2c-558eac8da239",
   "metadata": {},
   "outputs": [
    {
     "data": {
      "text/plain": [
       "[ \u001b[33mfalse\u001b[39m, \u001b[32m\"Coding God was mistaken\"\u001b[39m, \u001b[33m5\u001b[39m, \u001b[33m88\u001b[39m ]"
      ]
     },
     "execution_count": 10,
     "metadata": {},
     "output_type": "execute_result"
    }
   ],
   "source": [
    "// define our tuple\n",
    "let ourTuple: readonly[number, boolean, string];\n",
    "\n",
    "// initialized incorrectly which throws an error\n",
    "ourTuple = [false, 'Coding God was mistaken', 5];\n",
    "\n",
    "ourTuple.push(88);\n",
    "\n",
    "ourTuple"
   ]
  }
 ],
 "metadata": {
  "kernelspec": {
   "display_name": "Deno",
   "language": "typescript",
   "name": "deno"
  },
  "language_info": {
   "file_extension": ".ts",
   "mimetype": "text/x.typescript",
   "name": "typescript",
   "nb_converter": "script",
   "pygments_lexer": "typescript",
   "version": "5.4.3"
  }
 },
 "nbformat": 4,
 "nbformat_minor": 5
}
