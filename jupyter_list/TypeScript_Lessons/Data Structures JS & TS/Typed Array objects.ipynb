{
 "cells": [
  {
   "cell_type": "code",
   "execution_count": null,
   "id": "a233334b-69e4-4b23-a103-b7485369202f",
   "metadata": {},
   "outputs": [],
   "source": [
    "// Typed Array Objects in JavaScript\n",
    "\n",
    "\n",
    "// Object:\t     Data Type:\t             Range:\t\n",
    "\n",
    "\n",
    "// Int8Array\tSigned integer (byte)\t-128/127\t\n",
    "// Uint8Array\tUnsigned integer (octet)\t0/255\t\n",
    "// Uint8ClampedArray\tUnsigned integer (octet)\t0/255\t\n",
    "// Int16Array\tShort integer\t-32768/32767\t\n",
    "// Uint16Array\tUnsigned short integer\t0/65535\t\n",
    "// Int32Array\tSigned long integer\t-231/231-1\t\n",
    "// Uint32Array\tUnsigned long integer\t0/232\t\n",
    "// Float32Array\tFloat - 7 significant digits\t1.2x10-38/3.4x1038\t\n",
    "// Float64Array\tDouble - 16 significant digits\t5.0x10-324/1.8x10308\t\n",
    "// BigInt64Array\tBig signed integer\t-263/263-1\t\n",
    "// BigUint64Array\tBig unsigned integer\t0/264\t\n",
    "\n",
    "\n",
    "// Note\n",
    "// Typed arrays are not arrays.\n",
    "\n",
    "// isArray() on a typed array returns false.\n",
    "\n",
    "// Many array methods (like push and pop) are not supported by typed arrays.\n",
    "\n",
    "// Typed arrays are array-like objects for storing binary data in memory.\n",
    "\n",
    "// Typed Array Methods and Properties\n",
    "// Method / Property\tDescription\tTry it\n",
    "// BYTES_PER_ELEMENT\tProperty to count the number of bytes used to store one element\t\n",
    "// fill()\tFill all elements with a value\t\n",
    "// find()\tReturns the first element that satisfies a condition\t\n",
    "// name\tReturns the name of the typed array\t\n",
    "// of()\tMethod to create a typed array from an array\t\n",
    "// some()\tReurns true if one element satisfies a condition"
   ]
  },
  {
   "cell_type": "code",
   "execution_count": null,
   "id": "ca554f12-0201-4e98-ba65-0456304365dc",
   "metadata": {},
   "outputs": [],
   "source": [
    "// Fetch API Example\n",
    "\n",
    "\n",
    "fetch(url)\n",
    ".then(request => request.arrayBuffer())\n",
    ".then(arrayBuffer =>...);\n",
    "\n",
    "\n",
    "// Canvas Example\n",
    "const canvas = document.getElementById('my_canvas');\n",
    "const context = canvas.getContext('2d');\n",
    "const imageData = context.getImageData(0, 0, canvas.width, canvas.height);\n",
    "const uint8ClampedArray = imageData.data;"
   ]
  }
 ],
 "metadata": {
  "kernelspec": {
   "display_name": "Deno",
   "language": "typescript",
   "name": "deno"
  },
  "language_info": {
   "file_extension": ".ts",
   "mimetype": "text/x.typescript",
   "name": "typescript",
   "nb_converter": "script",
   "pygments_lexer": "typescript",
   "version": "5.4.3"
  }
 },
 "nbformat": 4,
 "nbformat_minor": 5
}
