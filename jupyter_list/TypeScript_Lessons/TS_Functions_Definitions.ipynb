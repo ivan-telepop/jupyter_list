{
 "cells": [
  {
   "cell_type": "code",
   "execution_count": 33,
   "id": "fb9c5f7d-db42-4ed3-ae34-ecfcd9d235c0",
   "metadata": {},
   "outputs": [
    {
     "name": "stdout",
     "output_type": "stream",
     "text": [
      "My Message 3:57:26 PM Ivan\n"
     ]
    }
   ],
   "source": [
    "//  Типы обьявления переменных в ТС\n",
    "// именованные\n",
    "function greet0(name: string) {\n",
    "    return \"hello dear\" + name\n",
    "}\n",
    "// функциональное выражение\n",
    "let greet1 = function(name: string) {\n",
    "    return \"hello\" + name\n",
    "}\n",
    "// стрелочные функции\n",
    "let greet2 = (name: string, value:string) => {\n",
    "    return name + value\n",
    "}\n",
    "// короткие стрелочные\n",
    "// let greet3 = (name: string, value:string) => \n",
    "    //return name + value\n",
    "// тут не работают в deno\n",
    "\n",
    "// конструктор\n",
    "//let helloWorld = new Function('name', 'return \"hello \" + name')\n",
    "//@@ not recomemnded !!!\n",
    "\n",
    "// O P T I O N A L --- ?\n",
    "function log(message: string, userID?: string) {\n",
    "    let time = new Date().toLocaleTimeString()\n",
    "    console.log(message,time,userID || 'Not logged in')\n",
    "}  \n",
    "log('My Message','Ivan')"
   ]
  },
  {
   "cell_type": "code",
   "execution_count": 2,
   "id": "41e1bb68-21d5-41a2-a6e1-a4d524929e6c",
   "metadata": {},
   "outputs": [
    {
     "name": "stdout",
     "output_type": "stream",
     "text": [
      "I did this work\n",
      "Nothing to log\n"
     ]
    }
   ],
   "source": [
    "// Optional here !!!\n",
    "function xx( some?: str ) {\n",
    "    console.log( some || 'Nothing to log')\n",
    "}\n",
    "xx('I did this work')\n",
    "xx()"
   ]
  },
  {
   "cell_type": "code",
   "execution_count": null,
   "id": "f82591f3-cdb2-492d-8329-0d209cac9aae",
   "metadata": {},
   "outputs": [],
   "source": [
    "// Опциональные параметры в функциях или - зачем лишние вопросы ?\n",
    "\n",
    "let opt = (name: string, daytime?: string) => {\n",
    "    let xtime = new Date().toLocaleTimeString()\n",
    "    console.log(\"mr \", name ,\"  came here  at \",daytime || xtime)\n",
    "}\n",
    "opt('Ivan Goncharov','yesterday')\n",
    "opt('Silvestre Stallone')"
   ]
  }
 ],
 "metadata": {
  "kernelspec": {
   "display_name": "Deno",
   "language": "typescript",
   "name": "deno"
  },
  "language_info": {
   "file_extension": ".ts",
   "mimetype": "text/x.typescript",
   "name": "typescript",
   "nb_converter": "script",
   "pygments_lexer": "typescript",
   "version": "5.4.3"
  }
 },
 "nbformat": 4,
 "nbformat_minor": 5
}
