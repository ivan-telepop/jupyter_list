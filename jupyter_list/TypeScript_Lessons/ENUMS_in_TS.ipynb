{
 "cells": [
  {
   "cell_type": "code",
   "execution_count": 17,
   "id": "101b09c1-0f19-41ff-bb53-350d491bd435",
   "metadata": {},
   "outputs": [],
   "source": [
    "// ENUMS - енумы в ТС похожи на енумы в пайтон\n",
    "// надо почитать и ручками ... стр 60 \n",
    "\n",
    "\n",
    "enum Something {\n",
    "    one,\n",
    "    two,\n",
    "    three,\n",
    "    four,\n",
    "}\n",
    "\n",
    "Something.two\n",
    "Something.four\n",
    "Something.one\n",
    "\n",
    "enum Dirs {\n",
    "    Right = 'RIGHT',\n",
    "    Left = 'LEFT',\n",
    "}"
   ]
  },
  {
   "cell_type": "code",
   "execution_count": 14,
   "id": "08781169-6533-4a9c-9d0b-ec6c28d64792",
   "metadata": {},
   "outputs": [
    {
     "data": {
      "text/plain": [
       "\u001b[33m55\u001b[39m"
      ]
     },
     "execution_count": 14,
     "metadata": {},
     "output_type": "execute_result"
    }
   ],
   "source": [
    "// functioned Enum - function inside\n",
    "function calcEnum() {\n",
    "    return 55;\n",
    "}\n",
    "    \n",
    "enum functionedEnum{\n",
    "    none = null,\n",
    "    calculated = calcEnum()\n",
    "}\n",
    "\n",
    "functionedEnum.calculated"
   ]
  },
  {
   "cell_type": "code",
   "execution_count": 22,
   "id": "fe1e97ac-d19e-4eaf-8882-a038b6029af6",
   "metadata": {},
   "outputs": [
    {
     "name": "stdout",
     "output_type": "stream",
     "text": [
      "\u001b[90mundefined\u001b[39m\n"
     ]
    }
   ],
   "source": [
    "function runEnum(obj: {Right: string}) {\n",
    "};\n",
    "\n",
    "console.log(runEnum(Dirs))"
   ]
  },
  {
   "cell_type": "code",
   "execution_count": 33,
   "id": "11a1b365-8f28-41c4-8882-1c1e17a55900",
   "metadata": {},
   "outputs": [
    {
     "name": "stdout",
     "output_type": "stream",
     "text": [
      "That was three\n"
     ]
    }
   ],
   "source": [
    "enum Random {\n",
    "    One = 1,\n",
    "    Two,\n",
    "    Three,\n",
    "    Four,\n",
    "}\n",
    "\n",
    "function randomCatch(random: Random) {\n",
    "    switch (random) { \n",
    "        case Random.One:\n",
    "            return 'this is one';\n",
    "        case Random.Two:\n",
    "            return 'the two';\n",
    "        case Random.Three:\n",
    "            return 'That was three';\n",
    "        case Random.Four:\n",
    "            return 'Four ';\n",
    "        default:\n",
    "            const xx: never = Random;\n",
    "    }\n",
    "}\n",
    "\n",
    "\n",
    "console.log(randomCatch(Random.Three)) \n",
    "\n",
    "            "
   ]
  }
 ],
 "metadata": {
  "kernelspec": {
   "display_name": "Deno",
   "language": "typescript",
   "name": "deno"
  },
  "language_info": {
   "file_extension": ".ts",
   "mimetype": "text/x.typescript",
   "name": "typescript",
   "nb_converter": "script",
   "pygments_lexer": "typescript",
   "version": "5.4.3"
  }
 },
 "nbformat": 4,
 "nbformat_minor": 5
}
