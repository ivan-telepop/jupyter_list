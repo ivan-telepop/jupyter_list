{
 "cells": [
  {
   "cell_type": "code",
   "execution_count": null,
   "id": "fd1d9f02-4860-4e09-b2e4-516b6b5651c7",
   "metadata": {},
   "outputs": [],
   "source": [
    "// null,undefined,void,never (page 57)\n",
    "\n",
    "// Важно понимать разницу !!!\n",
    "\n",
    "// null - это ничто\n",
    "// undefined - это то что еще не определено\n",
    "// void - это возвращаемый тип функции с результатом \"ничто\" или пустота\n",
    "// never - никогда ничего не возвращает\n",
    "\n",
    "// Но все они имеют местоприменение в ТС"
   ]
  },
  {
   "cell_type": "code",
   "execution_count": 32,
   "id": "258aae50-8563-4ddc-a018-1e40db98b08d",
   "metadata": {},
   "outputs": [
    {
     "name": "stdout",
     "output_type": "stream",
     "text": [
      "\u001b[1mnull\u001b[22m\n"
     ]
    }
   ],
   "source": [
    "// функция возвращающая число/строку(напр) или ничего \n",
    "// IT'S important to understand behavior - returns object but concats with any type\n",
    "function choose(a:number, b: number){\n",
    "    if(a > b){\n",
    "        return a\n",
    "    }\n",
    "    return null\n",
    "}\n",
    "let res = choose(1,5)\n",
    "console.log(res)"
   ]
  },
  {
   "cell_type": "code",
   "execution_count": 17,
   "id": "587bcf94-81c9-4fea-a227-425559b494f3",
   "metadata": {},
   "outputs": [
    {
     "data": {
      "text/plain": [
       "\u001b[32m\"undefined\"\u001b[39m"
      ]
     },
     "execution_count": 17,
     "metadata": {},
     "output_type": "execute_result"
    }
   ],
   "source": [
    "// undefined\n",
    "function ss(){\n",
    "    return undefined\n",
    "}\n",
    "let out = ss()\n",
    "\n",
    "typeof(out)"
   ]
  },
  {
   "cell_type": "code",
   "execution_count": 34,
   "id": "22f7582b-b41a-475c-aab9-18e9368a99b1",
   "metadata": {},
   "outputs": [
    {
     "data": {
      "text/plain": [
       "\u001b[32m\"undefined\"\u001b[39m"
      ]
     },
     "execution_count": 34,
     "metadata": {},
     "output_type": "execute_result"
    }
   ],
   "source": [
    "// void\n",
    "function vv(){\n",
    "    let one = 6 * 6\n",
    "    let sec = 7 + 8\n",
    "}\n",
    "\n",
    "typeof(vv())"
   ]
  },
  {
   "cell_type": "code",
   "execution_count": 38,
   "id": "8f5a1ea8-fb73-46a5-ab79-263bb7655241",
   "metadata": {},
   "outputs": [
    {
     "ename": "TypeError",
     "evalue": "Only error thats all i do",
     "output_type": "error",
     "traceback": [
      "Stack trace:",
      "TypeError: Only error thats all i do",
      "    at hh (<anonymous>:3:9)",
      "    at <anonymous>:5:8"
     ]
    }
   ],
   "source": [
    "// never \n",
    "function hh(){\n",
    "    throw TypeError('Only error thats all i do')\n",
    "}\n",
    "typeof(hh())"
   ]
  },
  {
   "cell_type": "code",
   "execution_count": null,
   "id": "8b3d3953-6e6c-4272-8d2a-36160b90858f",
   "metadata": {},
   "outputs": [],
   "source": [
    "// never with option inside the body\n",
    "function buy(x: boolean){\n",
    "    if (x === true){\n",
    "        console.log('I do something')\n",
    "    }\n",
    "}\n",
    "\n",
    "typeof(buy(true)) \n",
    "\n"
   ]
  },
  {
   "cell_type": "code",
   "execution_count": null,
   "id": "04ea19ec-96b7-4836-8688-f83d0576e02f",
   "metadata": {},
   "outputs": [],
   "source": []
  }
 ],
 "metadata": {
  "kernelspec": {
   "display_name": "Deno",
   "language": "typescript",
   "name": "deno"
  },
  "language_info": {
   "file_extension": ".ts",
   "mimetype": "text/x.typescript",
   "name": "typescript",
   "nb_converter": "script",
   "pygments_lexer": "typescript",
   "version": "5.4.3"
  }
 },
 "nbformat": 4,
 "nbformat_minor": 5
}
