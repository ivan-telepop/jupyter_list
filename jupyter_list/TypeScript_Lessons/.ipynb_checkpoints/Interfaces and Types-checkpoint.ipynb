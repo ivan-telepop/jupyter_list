{
 "cells": [
  {
   "cell_type": "code",
   "execution_count": 42,
   "id": "5e1b89ba-c64d-413a-acd1-8413ff726c08",
   "metadata": {},
   "outputs": [],
   "source": [
    "// Type\n",
    "\n",
    "// Тип мы обьявляем так\n",
    "type Point = {\n",
    "    x: string,\n",
    "    y: number,\n",
    "}\n",
    "// or such\n",
    "type stringOrNumber = string | number;\n",
    "\n",
    "\n",
    "// EXENDING  such\n",
    "type NewPoint = Point & {\n",
    "    newValue: number;\n",
    "}\n",
    "\n",
    "\n",
    "\n",
    "\n",
    "\n"
   ]
  },
  {
   "cell_type": "code",
   "execution_count": 50,
   "id": "0327afad-35b9-4689-aa95-241c9596035f",
   "metadata": {},
   "outputs": [
    {
     "name": "stdout",
     "output_type": "stream",
     "text": [
      "\u001b[33m33\u001b[39m\n"
     ]
    }
   ],
   "source": [
    "// Интерфейс по другому ( без = ) Интерфейс можно экстендить - extend!\n",
    "\n",
    "interface InterPoint {\n",
    "    x: string,\n",
    "    y: number,\n",
    "};\n",
    "\n",
    "// Extension of interPoint  - Так мы экстендим интерфейс через директиву - extends\n",
    "interface EXTpoint extends InterPoint {\n",
    "    name: stringOrNumber,\n",
    "}\n",
    "\n",
    "\n",
    "// REDEFINING look on it !!!\n",
    "\n",
    "interface One {\n",
    "    a: number,\n",
    "}\n",
    "//  мы повторно переопределив довали новый параметр в интерфейс\n",
    "interface One {\n",
    "    b: string,\n",
    "}\n",
    "\n",
    "/// ----------------------\n",
    "\n",
    "\n",
    "\n",
    "function print(a: stringOrNumber) {\n",
    "    console.log( a );\n",
    "}\n",
    "function make(snum: stringOrNumber, point: Point) {\n",
    "    return snum * point;\n",
    "}\n",
    "\n",
    "// make(4,8)\n",
    "\n",
    "// C A S T \n",
    "\n",
    "const cf = (one: One) => {\n",
    "    const bb: InterPoint = one as EXTpoint;\n",
    "    console.log(bb);\n",
    "}\n",
    "\n",
    "\n",
    "cf(33)"
   ]
  },
  {
   "cell_type": "code",
   "execution_count": 58,
   "id": "12f0e8a7-d818-4ff6-9a5d-c35cac3bc917",
   "metadata": {},
   "outputs": [
    {
     "ename": "ReferenceError",
     "evalue": "document is not defined",
     "output_type": "error",
     "traceback": [
      "Stack trace:",
      "ReferenceError: document is not defined",
      "    at <anonymous>:1:32"
     ]
    }
   ],
   "source": [
    "const doc = document.getElementById('head') as EXTpoint;  // Так выглядит каст к типу но он тут не пашет !!!"
   ]
  }
 ],
 "metadata": {
  "kernelspec": {
   "display_name": "Deno",
   "language": "typescript",
   "name": "deno"
  },
  "language_info": {
   "file_extension": ".ts",
   "mimetype": "text/x.typescript",
   "name": "typescript",
   "nb_converter": "script",
   "pygments_lexer": "typescript",
   "version": "5.4.3"
  }
 },
 "nbformat": 4,
 "nbformat_minor": 5
}
