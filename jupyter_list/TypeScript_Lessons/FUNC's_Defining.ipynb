{
 "cells": [
  {
   "cell_type": "code",
   "execution_count": 8,
   "id": "7f0cfac5-07a3-4281-a8ec-14b3430870d8",
   "metadata": {},
   "outputs": [
    {
     "data": {
      "text/plain": [
       "\u001b[32m\"Ivan 11:54:52 PM\"\u001b[39m"
      ]
     },
     "execution_count": 8,
     "metadata": {},
     "output_type": "execute_result"
    }
   ],
   "source": [
    "// named \n",
    "// именнованая функция\n",
    "\n",
    "function greet1(name:string) {\n",
    "    return name + new Date().toLocaleTimeString()\n",
    "}\n",
    "\n",
    "greet1('Ivan ')\n"
   ]
  },
  {
   "cell_type": "code",
   "execution_count": 9,
   "id": "c8889c83-59e1-4bb5-960e-459591b00a76",
   "metadata": {},
   "outputs": [
    {
     "data": {
      "text/plain": [
       "\u001b[32m\"Hello dear Ewan\"\u001b[39m"
      ]
     },
     "execution_count": 9,
     "metadata": {},
     "output_type": "execute_result"
    }
   ],
   "source": [
    "// functional \n",
    "// функциональное выражение\n",
    "let greet2 = function(name: string) {\n",
    "    return 'Hello dear ' + name\n",
    "}\n",
    "\n",
    "greet2('Ewan')"
   ]
  },
  {
   "cell_type": "code",
   "execution_count": 24,
   "id": "353e34eb-9f8e-48c3-9836-672d1ec351ad",
   "metadata": {},
   "outputs": [
    {
     "data": {
      "text/plain": [
       "\u001b[32m\"Mr Ewan  came here at 22:55:37\"\u001b[39m"
      ]
     },
     "execution_count": 24,
     "metadata": {},
     "output_type": "execute_result"
    }
   ],
   "source": [
    "// arrow way \n",
    "// стрелошник с \n",
    "\n",
    "let greet3 = (name:string) => {\n",
    "    return name + new Date().toLocaleTimeString()\n",
    "}\n",
    "\n",
    "greet3('Mr Ewan  came here at ')\n",
    "    "
   ]
  },
  {
   "cell_type": "code",
   "execution_count": 25,
   "id": "3ca8eeb0-6de4-4789-80f2-0c7df06aa081",
   "metadata": {},
   "outputs": [
    {
     "data": {
      "text/plain": [
       "\u001b[32m\"hello world Wed Mar 05 2025 22:55:41 GMT+0300 (Москва, стандартное время)\"\u001b[39m"
      ]
     },
     "execution_count": 25,
     "metadata": {},
     "output_type": "execute_result"
    }
   ],
   "source": [
    "// constructor way\n",
    "// ***People saying that it's not too good use such way like bad experience\n",
    "// https://scriptdev.ru/guide/020/#this\n",
    "\n",
    "\n",
    "let greet5 = new Function( 'return \"hello world \" + new Date')\n",
    "greet5()"
   ]
  },
  {
   "cell_type": "code",
   "execution_count": 26,
   "id": "b6a2d59e-ada2-4b1b-842b-588014cb9a47",
   "metadata": {},
   "outputs": [
    {
     "data": {
      "text/plain": [
       "\u001b[32m\"hello again\"\u001b[39m"
      ]
     },
     "execution_count": 26,
     "metadata": {},
     "output_type": "execute_result"
    }
   ],
   "source": [
    "let csl = new Function('return \"hello again\"')\n",
    "\n",
    "csl.call()"
   ]
  },
  {
   "cell_type": "code",
   "execution_count": 27,
   "id": "26c1cca2-b7c6-4348-aa16-a4da64ca2c4d",
   "metadata": {},
   "outputs": [
    {
     "name": "stdout",
     "output_type": "stream",
     "text": [
      "mr  Ivan Goncharov   came here  at  yesterday\n",
      "mr  Silvestre Stallone   came here  at  22:55:46\n"
     ]
    }
   ],
   "source": [
    "// Опциональные параметры в функциях или - зачем лишние вопросы ?\n",
    "\n",
    "let opt = (name: string, daytime?: string) => {\n",
    "    let xtime = new Date().toLocaleTimeString()\n",
    "    console.log(\"mr \", name ,\"  came here  at \",daytime || xtime)\n",
    "}\n",
    "opt('Ivan Goncharov','yesterday')\n",
    "opt('Silvestre Stallone')"
   ]
  },
  {
   "cell_type": "code",
   "execution_count": 6,
   "id": "dc2b37f3-278b-4377-ae73-a672e81557a9",
   "metadata": {},
   "outputs": [
    {
     "data": {
      "text/plain": [
       "\u001b[33m28\u001b[39m"
      ]
     },
     "execution_count": 6,
     "metadata": {},
     "output_type": "execute_result"
    }
   ],
   "source": [
    "// Много параметров - Many params ? What to do ?\n",
    "let since = 10 // с него начнется аккумуляция\n",
    "let summing = (nums: num[]) => {\n",
    "    // reduce итерируется по элементам nums, суммирует в аккумулятор, since - с него стартует аккумуляция (начальное значение)\n",
    "    return nums.reduce((accumulator,itterator) => accumulator + itterator ,since)\n",
    "}\n",
    "summing([9,3,6])\n"
   ]
  },
  {
   "cell_type": "code",
   "execution_count": 17,
   "id": "01f875bd-6907-47c5-b062-61792312416d",
   "metadata": {},
   "outputs": [
    {
     "data": {
      "text/plain": [
       "\u001b[33m31\u001b[39m"
      ]
     },
     "execution_count": 17,
     "metadata": {},
     "output_type": "execute_result"
    }
   ],
   "source": [
    "// WITH ARRAY BUT THE SAME REDUCE - Небезопасный вариант\n",
    "\n",
    "function sumVariadic(): number {\n",
    "    return Array.from(arguments).reduce((total, iter) => total + iter, 10)\n",
    "}\n",
    "\n",
    "sumVariadic(3,6,5,3,4)"
   ]
  },
  {
   "cell_type": "code",
   "execution_count": 20,
   "id": "186f2c51-f8d1-4674-a368-c03033ed8b8d",
   "metadata": {},
   "outputs": [
    {
     "data": {
      "text/plain": [
       "\u001b[33m32\u001b[39m"
      ]
     },
     "execution_count": 20,
     "metadata": {},
     "output_type": "execute_result"
    }
   ],
   "source": [
    "// Явно указали что будет куча параметров ... Распаковка что то вроде того в ТС\n",
    "function sumvar(...args: arg[]): number {\n",
    "    return args.reduce((tot,it) => tot + it, 0)\n",
    "}\n",
    "sumvar(7,6,6,6,7)"
   ]
  },
  {
   "cell_type": "code",
   "execution_count": 27,
   "id": "1783cac7-ae74-4e5a-9864-b70041a6f156",
   "metadata": {},
   "outputs": [
    {
     "name": "stdout",
     "output_type": "stream",
     "text": [
      "hello1 hello2 hello3 words\n"
     ]
    }
   ],
   "source": [
    "// Analog *args in python - MANY PARAMS\n",
    "function logger(...words): any {\n",
    "    console.log(...words)\n",
    "}\n",
    "\n",
    "logger('hello1','hello2','hello3','words')"
   ]
  },
  {
   "cell_type": "code",
   "execution_count": 28,
   "id": "aba92d10-e833-4a3d-aabd-fa1834838620",
   "metadata": {},
   "outputs": [
    {
     "data": {
      "text/plain": [
       "[\n",
       "  \u001b[33m1\u001b[39m, \u001b[33m2\u001b[39m, \u001b[33m3\u001b[39m, \u001b[33m4\u001b[39m,\n",
       "  \u001b[33m5\u001b[39m, \u001b[33m6\u001b[39m, \u001b[33m7\u001b[39m, \u001b[33m8\u001b[39m\n",
       "]"
      ]
     },
     "execution_count": 28,
     "metadata": {},
     "output_type": "execute_result"
    }
   ],
   "source": [
    "const deStruct = (...args: Array) => {\n",
    "    return args;\n",
    "}\n",
    "deStruct(1,2,3,4,5,6,7,8)"
   ]
  }
 ],
 "metadata": {
  "kernelspec": {
   "display_name": "Deno",
   "language": "typescript",
   "name": "deno"
  },
  "language_info": {
   "file_extension": ".ts",
   "mimetype": "text/x.typescript",
   "name": "typescript",
   "nb_converter": "script",
   "pygments_lexer": "typescript",
   "version": "5.4.3"
  }
 },
 "nbformat": 4,
 "nbformat_minor": 5
}
