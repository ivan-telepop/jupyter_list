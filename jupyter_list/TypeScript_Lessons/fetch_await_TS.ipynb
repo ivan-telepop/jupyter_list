{
 "cells": [
  {
   "cell_type": "code",
   "execution_count": null,
   "id": "a012d512-aa58-4407-b0a6-da15cef0622f",
   "metadata": {},
   "outputs": [],
   "source": [
    "// FETCH In React"
   ]
  },
  {
   "cell_type": "code",
   "execution_count": 11,
   "id": "c32dc2cd-99af-4dcb-93e3-0d4488e03fc5",
   "metadata": {},
   "outputs": [
    {
     "data": {
      "text/plain": [
       "[\n",
       "  { id: \u001b[33m1\u001b[39m, name: \u001b[32m\"Alanis Morisette\"\u001b[39m, alias: \u001b[32m\"Künstler\"\u001b[39m, genre: \u001b[32m\"tech\"\u001b[39m },\n",
       "  { id: \u001b[33m2\u001b[39m, name: \u001b[32m\"Afex Twin\"\u001b[39m, alias: \u001b[32m\"Artist\"\u001b[39m, genre: \u001b[32m\"tech\"\u001b[39m },\n",
       "  { id: \u001b[33m3\u001b[39m, name: \u001b[32m\"Coconut Hero\"\u001b[39m, alias: \u001b[32m\"Artista\"\u001b[39m, genre: \u001b[32m\"house\"\u001b[39m },\n",
       "  { id: \u001b[33m4\u001b[39m, name: \u001b[32m\"Artiste quatre\"\u001b[39m, alias: \u001b[32m\"Artiste\"\u001b[39m, genre: \u001b[32m\"exp\"\u001b[39m },\n",
       "  { id: \u001b[33m5\u001b[39m, name: \u001b[32m\"Clocolan\"\u001b[39m, alias: \u001b[32m\"Artista\"\u001b[39m, genre: \u001b[32m\"tech\"\u001b[39m },\n",
       "  { id: \u001b[33m6\u001b[39m, name: \u001b[32m\"Nala Sinephro\"\u001b[39m, alias: \u001b[32m\"Maler\"\u001b[39m, genre: \u001b[32m\"tech\"\u001b[39m }\n",
       "]"
      ]
     },
     "execution_count": 11,
     "metadata": {},
     "output_type": "execute_result"
    }
   ],
   "source": [
    "const url = 'http://localhost:8080/artists'\n",
    "let resp = await fetch(url)\n",
    "\n",
    "let parsed = await resp.json()\n",
    "\n",
    "parsed"
   ]
  },
  {
   "cell_type": "code",
   "execution_count": 17,
   "id": "40c8d8e5-146c-44ec-91f4-0c0777558280",
   "metadata": {},
   "outputs": [
    {
     "data": {
      "text/plain": [
       "[]"
      ]
     },
     "execution_count": 17,
     "metadata": {},
     "output_type": "execute_result"
    }
   ],
   "source": [
    "parsed.pop(1)\n",
    "\n",
    "parsed"
   ]
  }
 ],
 "metadata": {
  "kernelspec": {
   "display_name": "Deno",
   "language": "typescript",
   "name": "deno"
  },
  "language_info": {
   "file_extension": ".ts",
   "mimetype": "text/x.typescript",
   "name": "typescript",
   "nb_converter": "script",
   "pygments_lexer": "typescript",
   "version": "5.4.3"
  }
 },
 "nbformat": 4,
 "nbformat_minor": 5
}
