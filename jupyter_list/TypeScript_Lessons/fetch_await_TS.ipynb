{
 "cells": [
  {
   "cell_type": "code",
   "execution_count": null,
   "id": "a012d512-aa58-4407-b0a6-da15cef0622f",
   "metadata": {},
   "outputs": [],
   "source": [
    "// FETCH In React"
   ]
  },
  {
   "cell_type": "code",
   "execution_count": 1,
   "id": "c32dc2cd-99af-4dcb-93e3-0d4488e03fc5",
   "metadata": {},
   "outputs": [
    {
     "ename": "TypeError",
     "evalue": "error sending request for url (http://localhost:8080/artists): error trying to connect: tcp connect error: Connection refused (os error 61)",
     "output_type": "error",
     "traceback": [
      "Stack trace:",
      "TypeError: error sending request for url (http://localhost:8080/artists): error trying to connect: tcp connect error: Connection refused (os error 61)",
      "    at async mainFetch (ext:deno_fetch/26_fetch.js:170:12)",
      "    at async fetch (ext:deno_fetch/26_fetch.js:391:7)",
      "    at async <anonymous>:2:12"
     ]
    }
   ],
   "source": [
    "const url = 'http://localhost:8080/artists'\n",
    "let resp = await fetch(url)\n",
    "\n",
    "let parsed = await resp.json()\n",
    "\n",
    "parsed"
   ]
  },
  {
   "cell_type": "code",
   "execution_count": 17,
   "id": "40c8d8e5-146c-44ec-91f4-0c0777558280",
   "metadata": {},
   "outputs": [
    {
     "data": {
      "text/plain": [
       "[]"
      ]
     },
     "execution_count": 17,
     "metadata": {},
     "output_type": "execute_result"
    }
   ],
   "source": [
    "parsed.pop(1)\n",
    "\n",
    "parsed"
   ]
  }
 ],
 "metadata": {
  "kernelspec": {
   "display_name": "Deno",
   "language": "typescript",
   "name": "deno"
  },
  "language_info": {
   "file_extension": ".ts",
   "mimetype": "text/x.typescript",
   "name": "typescript",
   "nb_converter": "script",
   "pygments_lexer": "typescript",
   "version": "5.4.3"
  }
 },
 "nbformat": 4,
 "nbformat_minor": 5
}
