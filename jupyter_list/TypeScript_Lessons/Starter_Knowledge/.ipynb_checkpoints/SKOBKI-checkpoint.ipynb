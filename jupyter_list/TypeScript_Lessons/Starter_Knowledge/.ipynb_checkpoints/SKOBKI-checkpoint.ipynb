{
 "cells": [
  {
   "cell_type": "code",
   "execution_count": null,
   "id": "54a0e271-1906-45b6-85d9-79cf82a4c1ce",
   "metadata": {},
   "outputs": [],
   "source": [
    "// Типы скобок в JS и TS\n",
    "// 1. Круглые скобки () – для вызова функций и группировки выражений\n",
    "// Используются для вызова функций:"
   ]
  },
  {
   "cell_type": "code",
   "execution_count": 7,
   "id": "06dc66f4-5843-4d97-8aee-c30a2b48967e",
   "metadata": {},
   "outputs": [
    {
     "data": {
      "text/plain": [
       "\u001b[33m5\u001b[39m"
      ]
     },
     "execution_count": 7,
     "metadata": {},
     "output_type": "execute_result"
    }
   ],
   "source": [
    "// Группируют выражения, парамкетры функций, и самы скобки как каллбэк вызов\n",
    "const add = (a,b) => {return a + b} \n",
    "add(2,3)"
   ]
  },
  {
   "cell_type": "code",
   "execution_count": 9,
   "id": "6546107d-432e-4c3c-b363-20dff9e8efa9",
   "metadata": {},
   "outputs": [],
   "source": [
    "// 2. Фигурные {} – для блоков кода и объектов\n",
    "// Определяют блоки в if, for, while, function:"
   ]
  },
  {
   "cell_type": "code",
   "execution_count": null,
   "id": "766554c7-2027-4e0b-9483-a8aa8d89d8d5",
   "metadata": {},
   "outputs": [],
   "source": [
    "\n",
    "// while (true) {\n",
    "//     i - 1;\n",
    "//     console.log(i)\n",
    "// }\n",
    "\n",
    "\n",
    "\n",
    "let myObject = {name:'ewan',age:45}\n",
    "\n",
    "myObject.name"
   ]
  },
  {
   "cell_type": "code",
   "execution_count": 7,
   "id": "a2d0bea6-6de4-42f5-8ba1-7c4e62c2f890",
   "metadata": {},
   "outputs": [
    {
     "data": {
      "text/plain": [
       "\u001b[33m18\u001b[39m"
      ]
     },
     "execution_count": 7,
     "metadata": {},
     "output_type": "execute_result"
    }
   ],
   "source": [
    "// Где чаще всего путаются?\n",
    "// Фигурные vs. Круглые:\n",
    "\n",
    "\n",
    "// if (condition) { doSomething(); } \n",
    "\n",
    "\n",
    "// Ошибка: if (condition) doSomething(); (без {} — опасно!)\n",
    "\n",
    "// Фигурные в стрелочных функциях:\n",
    "\n",
    "\n",
    "const add = (a, b) => { return a + b; };  \n",
    "\n",
    "\n",
    "\n",
    "// vs. Короткий вариант без {}:\n",
    "\n",
    "const xx = (x: number, q:number) => { return x + x}\n",
    "\n",
    "xx(9,8)"
   ]
  },
  {
   "cell_type": "code",
   "execution_count": null,
   "id": "f2c7c43a-a408-4a5f-8d8d-68003e6364ac",
   "metadata": {},
   "outputs": [],
   "source": [
    "Резюмирую !\n",
    "\n",
    "В ДжиЭс скобки для ()\n",
    "    1 вызова функций(),\n",
    "    2 для передачи аргументов(ф,б), \n",
    "    3 группируем выражения (2 + 3)\n",
    "\n",
    "Фигурные для { }\n",
    "    Блоков кода\n",
    "    для объектов\n",
    "if (x < 10) \n",
    "            {\n",
    "В этом блоке мы выполняем что то...\n",
    "\n",
    "            }\n",
    "\n",
    "Создаем обьекты\n",
    "const myPrettyObject = {alpha: \"ABC\", betha: \"BCA\"}\n",
    "\n"
   ]
  }
 ],
 "metadata": {
  "kernelspec": {
   "display_name": "Deno",
   "language": "typescript",
   "name": "deno"
  },
  "language_info": {
   "file_extension": ".ts",
   "mimetype": "text/x.typescript",
   "name": "typescript",
   "nb_converter": "script",
   "pygments_lexer": "typescript",
   "version": "5.4.3"
  }
 },
 "nbformat": 4,
 "nbformat_minor": 5
}
