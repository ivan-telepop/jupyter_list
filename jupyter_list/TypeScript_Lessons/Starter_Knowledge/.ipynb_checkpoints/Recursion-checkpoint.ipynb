{
 "cells": [
  {
   "cell_type": "code",
   "execution_count": 1,
   "id": "7f8c9f3d-a419-49fb-a78a-228de5f08767",
   "metadata": {},
   "outputs": [],
   "source": [
    "function factorial(n){\n",
    "    if(n === 1){\n",
    "        return 1;\n",
    "}\n",
    "return n * factorial(n-1);\n",
    "}"
   ]
  }
 ],
 "metadata": {
  "kernelspec": {
   "display_name": "Deno",
   "language": "typescript",
   "name": "deno"
  },
  "language_info": {
   "file_extension": ".ts",
   "mimetype": "text/x.typescript",
   "name": "typescript",
   "nb_converter": "script",
   "pygments_lexer": "typescript",
   "version": "5.4.3"
  }
 },
 "nbformat": 4,
 "nbformat_minor": 5
}
