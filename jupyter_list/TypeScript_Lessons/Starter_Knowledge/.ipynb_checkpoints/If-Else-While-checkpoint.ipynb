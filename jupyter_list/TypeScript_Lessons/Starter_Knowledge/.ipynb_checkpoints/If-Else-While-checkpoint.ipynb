{
 "cells": [
  {
   "cell_type": "code",
   "execution_count": 1,
   "id": "d2be85c5-9e71-4d66-a0e1-afd1624a02ad",
   "metadata": {},
   "outputs": [
    {
     "name": "stdout",
     "output_type": "stream",
     "text": [
      "You Got Seven\n"
     ]
    }
   ],
   "source": [
    "let age = 10 \n",
    "\n",
    "if (age >=7) {\n",
    "    console.log(\"You Got Seven\")\n",
    "}"
   ]
  },
  {
   "cell_type": "code",
   "execution_count": 2,
   "id": "ce7175be-ba3c-43c1-9d8e-77a8b381e3d3",
   "metadata": {},
   "outputs": [
    {
     "name": "stdout",
     "output_type": "stream",
     "text": [
      "Yep\n"
     ]
    }
   ],
   "source": [
    "const wh = true\n",
    "\n",
    "if (wh) {\n",
    "    console.log(\"Yep\")\n",
    "} else {\n",
    "    console.log(\"Nope\")\n",
    "}"
   ]
  },
  {
   "cell_type": "code",
   "execution_count": 25,
   "id": "a1032bae-7596-49e7-a7ca-2413776e9ee5",
   "metadata": {},
   "outputs": [
    {
     "name": "stdout",
     "output_type": "stream",
     "text": [
      "\u001b[90mundefined\u001b[39m temp\n"
     ]
    }
   ],
   "source": [
    "let temp;\n",
    "\n",
    "if (temp > 20){\n",
    "    console.log(\"20 good\")\n",
    "} else if (temp < 10) {\n",
    "    console.log(\"coold\")\n",
    "} else {\n",
    "    console.log(temp,\"temp\")\n",
    "}"
   ]
  },
  {
   "cell_type": "code",
   "execution_count": 27,
   "id": "4648e798-6901-4371-b5ae-56bfe42a0e23",
   "metadata": {},
   "outputs": [
    {
     "name": "stdout",
     "output_type": "stream",
     "text": [
      "Холодно!\n"
     ]
    }
   ],
   "source": [
    "let temperature = 5;\n",
    "\n",
    "if (temperature > 30) {\n",
    "    console.log(\"Жарко!\");\n",
    "} else if (temperature > 20) {\n",
    "    console.log(\"Тепло.\");\n",
    "} else if (temperature > 10) {\n",
    "    console.log(\"Прохладно.\");\n",
    "} else {\n",
    "    console.log(\"Холодно!\");\n",
    "}"
   ]
  },
  {
   "cell_type": "code",
   "execution_count": 13,
   "id": "56c2ee91-ba39-4e21-9c00-40e57ccd1615",
   "metadata": {},
   "outputs": [
    {
     "name": "stdout",
     "output_type": "stream",
     "text": [
      "00:51:54\n",
      "00:51:54\n",
      "00:51:54\n",
      "00:51:54\n",
      "00:51:54\n",
      "00:51:54\n",
      "00:51:54\n",
      "00:51:54\n",
      "00:51:54\n",
      "00:51:54\n",
      "00:51:54\n",
      "00:51:54\n",
      "00:51:54\n",
      "00:51:54\n",
      "00:51:54\n",
      "00:51:54\n",
      "00:51:54\n",
      "00:51:54\n",
      "00:51:54\n",
      "00:51:54\n",
      "00:51:54\n",
      "00:51:54\n",
      "00:51:54\n",
      "00:51:54\n",
      "00:51:54\n",
      "Готово!\n"
     ]
    }
   ],
   "source": [
    "\n",
    "\n",
    "let count = 5;\n",
    "\n",
    "while (count < 30) {\n",
    "    console.log(new Date().toLocaleTimeString());\n",
    "    count++; // уменьшаем переменную\n",
    "}\n",
    "\n",
    "console.log(\"Готово!\");\n",
    "\n",
    "\n"
   ]
  },
  {
   "cell_type": "code",
   "execution_count": 23,
   "id": "24123698-d2d5-40bd-ac87-04b6955d1f5a",
   "metadata": {},
   "outputs": [
    {
     "name": "stdout",
     "output_type": "stream",
     "text": [
      "\u001b[33m1\u001b[39m\n",
      "\u001b[33m2\u001b[39m\n",
      "\u001b[33m3\u001b[39m\n",
      "\u001b[33m4\u001b[39m\n"
     ]
    },
    {
     "data": {
      "text/plain": [
       "\u001b[33m4\u001b[39m"
      ]
     },
     "execution_count": 23,
     "metadata": {},
     "output_type": "execute_result"
    }
   ],
   "source": [
    "let count = 1\n",
    "\n",
    "do {\n",
    "    console.log(count)\n",
    "    count++\n",
    "} while(count < 5);"
   ]
  },
  {
   "cell_type": "code",
   "execution_count": 5,
   "id": "9c4e9c6b-63f8-4fac-8a37-e840a33ebd19",
   "metadata": {},
   "outputs": [
    {
     "name": "stdout",
     "output_type": "stream",
     "text": [
      "\u001b[33m10\u001b[39m\n",
      "\u001b[33m11\u001b[39m\n",
      "\u001b[33m12\u001b[39m\n",
      "\u001b[33m13\u001b[39m\n",
      "\u001b[33m14\u001b[39m\n",
      "\u001b[33m15\u001b[39m\n",
      "Enough\n"
     ]
    }
   ],
   "source": [
    "let num = 10\n",
    "\n",
    "while(num < 20) {\n",
    "    console.log(num);\n",
    "    if (num === 15) {\n",
    "        console.log(\"Enough\")\n",
    "        break;\n",
    "    }\n",
    "    num++\n",
    "}"
   ]
  },
  {
   "cell_type": "code",
   "execution_count": 10,
   "id": "252bcb3f-d55b-49bb-9f9c-a175e5ea9db0",
   "metadata": {},
   "outputs": [
    {
     "name": "stdout",
     "output_type": "stream",
     "text": [
      "\u001b[33m30\u001b[39m\n",
      "\u001b[33m29\u001b[39m\n",
      "\u001b[33m28\u001b[39m\n",
      "\u001b[33m27\u001b[39m\n",
      "\u001b[33m26\u001b[39m\n",
      "\u001b[33m25\u001b[39m\n",
      "\u001b[33m24\u001b[39m\n",
      "\u001b[33m23\u001b[39m\n",
      "\u001b[33m22\u001b[39m\n",
      "OK\n"
     ]
    }
   ],
   "source": [
    "let x = 30 \n",
    "\n",
    "while(x > 15) {\n",
    "    console.log(x)\n",
    "    if (x == 22){console.log(\"OK\");break;}\n",
    "    x--\n",
    "}    "
   ]
  },
  {
   "cell_type": "code",
   "execution_count": 2,
   "id": "bc88ded5-f32b-4140-9d89-2d017c048581",
   "metadata": {},
   "outputs": [
    {
     "name": "stdout",
     "output_type": "stream",
     "text": [
      "\u001b[33m24\u001b[39m <<\n",
      "\u001b[33m23\u001b[39m <<\n",
      "\u001b[33m22\u001b[39m <<\n",
      "\u001b[33m21\u001b[39m <<\n",
      "\u001b[33m20\u001b[39m <<\n",
      "\u001b[33m19\u001b[39m <<\n",
      "\u001b[33m18\u001b[39m <<\n",
      "\u001b[33m17\u001b[39m <<\n",
      "\u001b[33m16\u001b[39m <<\n",
      "\u001b[33m15\u001b[39m <<\n",
      "contuined here \u001b[33m15\u001b[39m\n",
      "\u001b[33m14\u001b[39m <<\n",
      "\u001b[33m13\u001b[39m <<\n",
      "\u001b[33m12\u001b[39m <<\n",
      "\u001b[33m11\u001b[39m <<\n",
      "\u001b[33m10\u001b[39m <<\n"
     ]
    }
   ],
   "source": [
    "let mymy = 25;\n",
    "\n",
    "while (mymy > 10) {\n",
    "    mymy--\n",
    "    console.log(mymy,\"<<\")\n",
    "    if(mymy === 15) {\n",
    "        console.log('contuined here',mymy)\n",
    "        continue;\n",
    "    }\n",
    "}"
   ]
  }
 ],
 "metadata": {
  "kernelspec": {
   "display_name": "Deno",
   "language": "typescript",
   "name": "deno"
  },
  "language_info": {
   "file_extension": ".ts",
   "mimetype": "text/x.typescript",
   "name": "typescript",
   "nb_converter": "script",
   "pygments_lexer": "typescript",
   "version": "5.4.3"
  }
 },
 "nbformat": 4,
 "nbformat_minor": 5
}
