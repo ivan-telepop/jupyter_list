{
 "cells": [
  {
   "cell_type": "code",
   "execution_count": 11,
   "id": "a408e1a7-56e4-4caf-aca7-f172c2c274ec",
   "metadata": {},
   "outputs": [
    {
     "name": "stdout",
     "output_type": "stream",
     "text": [
      "[ \u001b[33m1\u001b[39m, \u001b[33m2\u001b[39m, \u001b[33m3\u001b[39m, \u001b[33m4\u001b[39m, \u001b[32m\"X\"\u001b[39m, \u001b[32m\"Y\"\u001b[39m ]\n"
     ]
    }
   ],
   "source": [
    "// Array methods\n",
    "\n",
    "let els1 = [1,2,3,4]\n",
    "let els2 = [5,6,7,8]\n",
    "let els3 = [9,10,11,12]\n",
    "\n",
    "els1.push('X','Y')\n",
    "\n",
    "\n",
    "console.log(els1)"
   ]
  },
  {
   "cell_type": "code",
   "execution_count": 18,
   "id": "f796da20-4980-41c3-838c-84229ce9d3e5",
   "metadata": {},
   "outputs": [
    {
     "name": "stdout",
     "output_type": "stream",
     "text": [
      "Last Item\n"
     ]
    }
   ],
   "source": [
    "let els = ['A','B','C','Last Item']\n",
    "\n",
    "let qq = els.pop()\n",
    "\n",
    "console.log(qq)"
   ]
  },
  {
   "cell_type": "code",
   "execution_count": 21,
   "id": "87df7225-9dd8-4ab2-9027-0d330e5208f7",
   "metadata": {},
   "outputs": [
    {
     "name": "stdout",
     "output_type": "stream",
     "text": [
      "[\n",
      "  \u001b[32m\"kkk\"\u001b[39m, \u001b[32m\"a\"\u001b[39m, \u001b[32m\"s\"\u001b[39m,\n",
      "  \u001b[32m\"f\"\u001b[39m,   \u001b[32m\"x\"\u001b[39m, \u001b[32m\"y\"\u001b[39m,\n",
      "  \u001b[32m\"z\"\u001b[39m\n",
      "]\n"
     ]
    }
   ],
   "source": [
    "let qua = ['a','s','f','x','y','z']\n",
    "\n",
    "qua.unshift('kkk')\n",
    "\n",
    "console.log(qua)"
   ]
  }
 ],
 "metadata": {
  "kernelspec": {
   "display_name": "Deno",
   "language": "typescript",
   "name": "deno"
  },
  "language_info": {
   "file_extension": ".ts",
   "mimetype": "text/x.typescript",
   "name": "typescript",
   "nb_converter": "script",
   "pygments_lexer": "typescript",
   "version": "5.4.3"
  }
 },
 "nbformat": 4,
 "nbformat_minor": 5
}
