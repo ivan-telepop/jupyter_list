{
 "cells": [
  {
   "cell_type": "code",
   "execution_count": 1,
   "id": "af81c871-1c9b-4b70-951f-11be608a2f81",
   "metadata": {},
   "outputs": [
    {
     "ename": "Expected ',', got 'i' at file:///repl.tsx:5:21\n\n      octets.push(let i = 0; i < someString.length; i += 8)\n                      ~",
     "evalue": " ",
     "output_type": "error",
     "traceback": []
    }
   ],
   "source": [
    "let someString = '101010110111010111010100101010101010101010010100100011010101001010010101010010101';\n",
    "\n",
    "for (let i = 1; i <= 8; i++) {\n",
    "    let octets = [] ;\n",
    "    octets.push(let i = 0; i < someString.length; i += 8)\n",
    "    return octets;\n",
    "}\n",
    "\n",
    "\n",
    "\n",
    "console.log(someString.slice(0,8))"
   ]
  }
 ],
 "metadata": {
  "kernelspec": {
   "display_name": "Deno",
   "language": "typescript",
   "name": "deno"
  },
  "language_info": {
   "file_extension": ".ts",
   "mimetype": "text/x.typescript",
   "name": "typescript",
   "nb_converter": "script",
   "pygments_lexer": "typescript",
   "version": "5.4.3"
  }
 },
 "nbformat": 4,
 "nbformat_minor": 5
}
