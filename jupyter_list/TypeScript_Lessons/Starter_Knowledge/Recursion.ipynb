{
 "cells": [
  {
   "cell_type": "code",
   "execution_count": 1,
   "id": "7f8c9f3d-a419-49fb-a78a-228de5f08767",
   "metadata": {},
   "outputs": [
    {
     "data": {
      "text/plain": [
       "\u001b[33m120\u001b[39m"
      ]
     },
     "execution_count": 1,
     "metadata": {},
     "output_type": "execute_result"
    }
   ],
   "source": [
    "// typical factorial\n",
    "function factorial(n){\n",
    "    if(n === 1){\n",
    "        return 1;\n",
    "}\n",
    "return n * factorial(n-1);\n",
    "}\n",
    "\n",
    "\n",
    "factorial(5)"
   ]
  },
  {
   "cell_type": "code",
   "execution_count": 9,
   "id": "9c6a642a-1799-47a2-84f1-797dbe9e53bd",
   "metadata": {},
   "outputs": [
    {
     "data": {
      "text/plain": [
       "\u001b[33m720\u001b[39m"
      ]
     },
     "execution_count": 9,
     "metadata": {},
     "output_type": "execute_result"
    }
   ],
   "source": [
    "// factorial with cycle\n",
    "\n",
    "function factIter(n) {\n",
    "    let res = 1;\n",
    "    for (let i = 2; i <=n; i++){\n",
    "        res *=i;\n",
    "    }\n",
    "    return res;\n",
    "}\n",
    "\n",
    "factIter(6)"
   ]
  },
  {
   "cell_type": "code",
   "execution_count": 5,
   "id": "28e69f31-c760-4bef-acb2-9e85e433b54a",
   "metadata": {},
   "outputs": [
    {
     "data": {
      "text/plain": [
       "\u001b[33m120\u001b[39m"
      ]
     },
     "execution_count": 5,
     "metadata": {},
     "output_type": "execute_result"
    }
   ],
   "source": []
  }
 ],
 "metadata": {
  "kernelspec": {
   "display_name": "Deno",
   "language": "typescript",
   "name": "deno"
  },
  "language_info": {
   "file_extension": ".ts",
   "mimetype": "text/x.typescript",
   "name": "typescript",
   "nb_converter": "script",
   "pygments_lexer": "typescript",
   "version": "5.4.3"
  }
 },
 "nbformat": 4,
 "nbformat_minor": 5
}
