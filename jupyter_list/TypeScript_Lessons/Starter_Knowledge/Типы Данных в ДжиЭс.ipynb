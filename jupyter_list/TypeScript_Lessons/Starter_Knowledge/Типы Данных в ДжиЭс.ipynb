{
 "cells": [
  {
   "cell_type": "code",
   "execution_count": 6,
   "id": "9d9c541b-93f3-4989-8e24-75b0bac064de",
   "metadata": {},
   "outputs": [
    {
     "name": "stdout",
     "output_type": "stream",
     "text": [
      "\u001b[33mNaN\u001b[39m \u001b[33m0.2\u001b[39m\n"
     ]
    }
   ],
   "source": [
    "let number: number = 8\n",
    "let float: float = 0.2\n",
    "let infinity: infinity\n",
    "let nan: NaN = NaN\n",
    "\n",
    "console.log(nan,float)"
   ]
  },
  {
   "cell_type": "code",
   "execution_count": null,
   "id": "1d3b5537-160f-4317-a6d6-68a289ad230b",
   "metadata": {},
   "outputs": [],
   "source": [
    "2️⃣ BigInt – Большие числа\n",
    "Числа, превышающие Number.MAX_SAFE_INTEGER (≈ 9 квадриллионов).\n",
    "Важно: BigInt нельзя смешивать с Number."
   ]
  },
  {
   "cell_type": "code",
   "execution_count": 9,
   "id": "f9654d8e-4521-409d-a8b9-1c5d02e5b6f7",
   "metadata": {},
   "outputs": [
    {
     "name": "stdout",
     "output_type": "stream",
     "text": [
      "My Name is Ivan\n"
     ]
    }
   ],
   "source": [
    "// STRINS ARE IMMUTABLE\n",
    "\n",
    "let name = 'Ivan'\n",
    "let str2 = `My Name is ${name}` // Поддерживает шаблонные строки через `\n",
    "\n",
    "console.log(str2)"
   ]
  },
  {
   "cell_type": "code",
   "execution_count": null,
   "id": "38575b1f-7e7e-45c0-b084-6e22c63ef623",
   "metadata": {},
   "outputs": [],
   "source": [
    "let isActive = true;\n",
    "let hasAccess = false;"
   ]
  },
  {
   "cell_type": "code",
   "execution_count": 12,
   "id": "78f328f6-dd08-466f-999e-5b68206145ca",
   "metadata": {},
   "outputs": [
    {
     "name": "stdout",
     "output_type": "stream",
     "text": [
      "\u001b[90mundefined\u001b[39m\n"
     ]
    }
   ],
   "source": [
    "let UnDeFiNeD;\n",
    "\n",
    "console.log(UnDeFiNeD)\n",
    "\n",
    "let nothing = null;\n"
   ]
  },
  {
   "cell_type": "code",
   "execution_count": 18,
   "id": "8e18d703-a8a7-4c0f-95b0-8ca5b82eee49",
   "metadata": {},
   "outputs": [
    {
     "name": "stdout",
     "output_type": "stream",
     "text": [
      "symbol\n"
     ]
    }
   ],
   "source": [
    "// U N I Q U E    I D N T I F I C A T O R\n",
    "\n",
    "let sy1 = Symbol('hola1')\n",
    "\n",
    "console.log(typeof sy1)\n",
    "\n",
    "// Создает уникальные ключи в объектах "
   ]
  },
  {
   "cell_type": "code",
   "execution_count": null,
   "id": "d3d8a46e-ebcd-476d-9394-1c70aaae5065",
   "metadata": {},
   "outputs": [],
   "source": [
    "// Объекты могут быть разного вида:\n",
    "// { key: 'value' }\n",
    "// Массивы [1,2,3]\n",
    "// Функции function() {}\n",
    "// Map, Set, WeakMap, WeakSet\n",
    "// Date, RegExp, Error, Promise"
   ]
  },
  {
   "cell_type": "code",
   "execution_count": null,
   "id": "8adadd3d-f980-4a4f-86d7-d69df9e24577",
   "metadata": {},
   "outputs": [],
   "source": [
    "console.log(typeof 42);          // \"number\"\n",
    "console.log(typeof \"Hello\");     // \"string\"\n",
    "console.log(typeof true);        // \"boolean\"\n",
    "console.log(typeof undefined);   // \"undefined\"\n",
    "console.log(typeof null);        // \"object\"  (🤦‍♂️ баг JS, но так исторически сложилось)\n",
    "console.log(typeof Symbol(\"id\"));// \"symbol\"\n",
    "console.log(typeof {});          // \"object\"\n",
    "console.log(typeof []);          // \"object\" (массив – тоже объект)\n",
    "console.log(typeof function(){});// \"function\"\n",
    "\n",
    "\n",
    "\n",
    "// 🎯 Итог\n",
    "// Тип\tПример\tОписание\n",
    "// Number\t42, 3.14, NaN\tЧисла, NaN, Infinity\n",
    "// BigInt\t10n\tБольшие числа\n",
    "// String\t\"hello\"\tТекст\n",
    "// Boolean\ttrue, false\tЛогический тип\n",
    "// Undefined\tundefined\tПеременная объявлена, но не имеет значения\n",
    "// Null\tnull\tОтсутствие значения\n",
    "// Symbol\tSymbol(\"id\")\tУникальный идентификатор\n",
    "// Object\t{}, [], function(){}\tСложная структура\n"
   ]
  }
 ],
 "metadata": {
  "kernelspec": {
   "display_name": "Deno",
   "language": "typescript",
   "name": "deno"
  },
  "language_info": {
   "file_extension": ".ts",
   "mimetype": "text/x.typescript",
   "name": "typescript",
   "nb_converter": "script",
   "pygments_lexer": "typescript",
   "version": "5.4.3"
  }
 },
 "nbformat": 4,
 "nbformat_minor": 5
}
