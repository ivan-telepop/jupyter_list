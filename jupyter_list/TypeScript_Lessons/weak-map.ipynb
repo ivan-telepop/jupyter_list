{
 "cells": [
  {
   "cell_type": "code",
   "execution_count": null,
   "id": "5d961248-1e85-4729-a716-c2335000d844",
   "metadata": {},
   "outputs": [],
   "source": [
    "// https://www.geeksforgeeks.org/javascript-weakmap/"
   ]
  },
  {
   "cell_type": "code",
   "execution_count": 20,
   "id": "742fd68c-d88a-4dc3-bfec-aa8aedcba28f",
   "metadata": {},
   "outputs": [
    {
     "ename": "ReferenceError",
     "evalue": "one is not defined",
     "output_type": "error",
     "traceback": [
      "Stack trace:",
      "ReferenceError: one is not defined",
      "    at myTestFunc (<anonymous>:13:5)",
      "    at <anonymous>:25:1"
     ]
    }
   ],
   "source": [
    "const myIterable: any[] = [1,2,'hola',undefined,null,44,88]\n",
    "\n",
    "function myTestFunc() {\n",
    "    let someMap = new WeakMap();\n",
    "    let fooOne = {one};\n",
    "    let fooTwo = {two};\n",
    "    someMap.set(fooOne,\"FOO-1\");\n",
    "    someMap.set(fooTwo,\"FOO-2\");\n",
    "    console.log(someMap);\n",
    "    console.log(someMap.has(fooTwo));\n",
    "}\n",
    "\n",
    "// console.log(someMap)\n",
    "// console.log(myTestFunc)\n",
    "\n",
    "myTestFunc();\n",
    "\n"
   ]
  },
  {
   "cell_type": "code",
   "execution_count": 18,
   "id": "7b844f13-e3e0-45e6-8330-be0ad1199093",
   "metadata": {},
   "outputs": [
    {
     "name": "stdout",
     "output_type": "stream",
     "text": [
      "WeakMap { \u001b[36m<items unknown>\u001b[39m }\n",
      "\u001b[33mtrue\u001b[39m\n"
     ]
    }
   ],
   "source": [
    "function myGeeks() {\n",
    "    let looseMap = new WeakMap();\n",
    "    let Ram = {name};\n",
    "    let Raj = {name};\n",
    "    let Rahul = {name};\n",
    "    looseMap.set(Ram, \"Ram\");\n",
    "    looseMap.set(Raj, \"Raj\");\n",
    "    looseMap.set(Rahul, \"Rahul\");\n",
    "    console.log(looseMap);\n",
    "    console.log(looseMap.has(Ram))\n",
    "}\n",
    "myGeeks();\n"
   ]
  }
 ],
 "metadata": {
  "kernelspec": {
   "display_name": "Deno",
   "language": "typescript",
   "name": "deno"
  },
  "language_info": {
   "file_extension": ".ts",
   "mimetype": "text/x.typescript",
   "name": "typescript",
   "nb_converter": "script",
   "pygments_lexer": "typescript",
   "version": "5.4.3"
  }
 },
 "nbformat": 4,
 "nbformat_minor": 5
}
