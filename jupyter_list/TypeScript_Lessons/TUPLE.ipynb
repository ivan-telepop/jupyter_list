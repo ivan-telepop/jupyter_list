{
 "cells": [
  {
   "cell_type": "code",
   "execution_count": 9,
   "id": "06d14fbb-0ef4-42b1-9e51-895eba9fd65e",
   "metadata": {},
   "outputs": [
    {
     "name": "stdout",
     "output_type": "stream",
     "text": [
      "\u001b[33m77\u001b[39m \u001b[33mtrue\u001b[39m\n"
     ]
    }
   ],
   "source": [
    "// Tuples \n",
    "\n",
    "const tp: [ string, number, bool ] = ['hello',77,true]\n",
    "\n",
    "// деструктурируем его  в две переменных в С и в REST\n",
    "\n",
    "const [ c, ...rest] = tp;  // c - rest - \n",
    "\n",
    "\n",
    "console.log(...rest) // можно так деструктурировать в функции "
   ]
  }
 ],
 "metadata": {
  "kernelspec": {
   "display_name": "Deno",
   "language": "typescript",
   "name": "deno"
  },
  "language_info": {
   "file_extension": ".ts",
   "mimetype": "text/x.typescript",
   "name": "typescript",
   "nb_converter": "script",
   "pygments_lexer": "typescript",
   "version": "5.4.3"
  }
 },
 "nbformat": 4,
 "nbformat_minor": 5
}
