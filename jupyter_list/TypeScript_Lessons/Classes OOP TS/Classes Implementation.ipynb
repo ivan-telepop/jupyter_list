{
 "cells": [
  {
   "cell_type": "code",
   "execution_count": 17,
   "id": "61f3c131-e941-49a6-86d8-370ef2e50206",
   "metadata": {},
   "outputs": [
    {
     "name": "stdout",
     "output_type": "stream",
     "text": [
      "Hello this is Needed Things name !\n"
     ]
    }
   ],
   "source": [
    "class Item {\n",
    "    constructor(name) {\n",
    "        this.name = name;\n",
    "    }\n",
    "}\n",
    "\n",
    "// let newItem = new Item('Ivan')\n",
    "\n",
    "// newItem.name\n",
    "\n",
    "const itemPrototype = {\n",
    "    callMe() {\n",
    "        console.log(`Hello this is ${this.name} !`);\n",
    "    }\n",
    "}\n",
    "\n",
    "Object.setPrototypeOf(Item.prototype, itemPrototype);\n",
    "\n",
    "const thing = new Item('Needed Things name');\n",
    "\n",
    "thing.callMe()"
   ]
  },
  {
   "cell_type": "code",
   "execution_count": null,
   "id": "d520b19d-77a8-4f29-8c78-3b6fa44a8c3c",
   "metadata": {},
   "outputs": [],
   "source": [
    "https://stackoverflow.com/questions/45042777/when-and-why-should-i-use-object-setprototypeof-on-the-prototype-property-of-th"
   ]
  }
 ],
 "metadata": {
  "kernelspec": {
   "display_name": "Deno",
   "language": "typescript",
   "name": "deno"
  },
  "language_info": {
   "file_extension": ".ts",
   "mimetype": "text/x.typescript",
   "name": "typescript",
   "nb_converter": "script",
   "pygments_lexer": "typescript",
   "version": "5.4.3"
  }
 },
 "nbformat": 4,
 "nbformat_minor": 5
}
