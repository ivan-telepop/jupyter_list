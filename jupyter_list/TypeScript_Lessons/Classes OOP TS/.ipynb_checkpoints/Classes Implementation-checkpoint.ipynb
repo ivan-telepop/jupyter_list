{
 "cells": [
  {
   "cell_type": "code",
   "execution_count": 15,
   "id": "61f3c131-e941-49a6-86d8-370ef2e50206",
   "metadata": {},
   "outputs": [
    {
     "ename": "TypeError",
     "evalue": "thing.callMe is not a function",
     "output_type": "error",
     "traceback": [
      "Stack trace:",
      "TypeError: thing.callMe is not a function",
      "    at <anonymous>:15:7"
     ]
    }
   ],
   "source": [
    "class Item {\n",
    "    constructor(name) {\n",
    "        this.name = name;\n",
    "    }\n",
    "}\n",
    "\n",
    "// let newItem = new Item('Ivan')\n",
    "\n",
    "// newItem.name\n",
    "\n",
    "const itemPrototype = {\n",
    "    callMe() {\n",
    "        console.log(`Hello this is ${this.name} !`);\n",
    "    }\n",
    "}\n",
    "\n",
    "Object.setPrototypeOf(Item.prototype, itemPrototype);\n",
    "\n",
    "const thing = new Item('NeedThing');\n",
    "\n",
    "thing.callMe()"
   ]
  }
 ],
 "metadata": {
  "kernelspec": {
   "display_name": "Deno",
   "language": "typescript",
   "name": "deno"
  },
  "language_info": {
   "file_extension": ".ts",
   "mimetype": "text/x.typescript",
   "name": "typescript",
   "nb_converter": "script",
   "pygments_lexer": "typescript",
   "version": "5.4.3"
  }
 },
 "nbformat": 4,
 "nbformat_minor": 5
}
