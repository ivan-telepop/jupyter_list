{
 "cells": [
  {
   "cell_type": "code",
   "execution_count": 5,
   "id": "1c302fde-477e-4aad-99a2-accc36b8dd6b",
   "metadata": {},
   "outputs": [
    {
     "data": {
      "text/plain": [
       "\u001b[33mfalse\u001b[39m"
      ]
     },
     "execution_count": 5,
     "metadata": {},
     "output_type": "execute_result"
    }
   ],
   "source": [
    "var numberRegex = /^[0-9]+$/;  \n",
    "\n",
    "\n",
    "var t1 = numberRegex.test('0992667gfgfg022');   \n",
    "\n",
    "\n",
    "t1"
   ]
  }
 ],
 "metadata": {
  "kernelspec": {
   "display_name": "Deno",
   "language": "typescript",
   "name": "deno"
  },
  "language_info": {
   "file_extension": ".ts",
   "mimetype": "text/x.typescript",
   "name": "typescript",
   "nb_converter": "script",
   "pygments_lexer": "typescript",
   "version": "5.4.3"
  }
 },
 "nbformat": 4,
 "nbformat_minor": 5
}
