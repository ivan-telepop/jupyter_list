{
 "cells": [
  {
   "cell_type": "code",
   "execution_count": 22,
   "id": "04f18e05-8b15-4d79-abb7-f80796b145ef",
   "metadata": {},
   "outputs": [
    {
     "name": "stdout",
     "output_type": "stream",
     "text": [
      "Sun Jun 23 2024 15:30:27 GMT+0300 (Moscow Standard Time)9999000000000\n"
     ]
    }
   ],
   "source": [
    "// GENERICS\n",
    "\n",
    "// как в этом случае залетает один тип а на выходе другой тип - способ решить дженериком\n",
    "function genTime<T,X>(one: T): F {\n",
    "    if (typeof one == 'string') {\n",
    "        console.log(new Date().toString() + \" This is String\");\n",
    "    }\n",
    "    if (typeof one == \"number\") {\n",
    "        console.log(new Date() + 9999000000000);\n",
    "    }\n",
    "}\n",
    "\n",
    "\n",
    "genTime(777)\n",
    "\n"
   ]
  },
  {
   "cell_type": "code",
   "execution_count": null,
   "id": "5d2da493-b5a3-4f4e-a3f5-cf9030e2717c",
   "metadata": {},
   "outputs": [],
   "source": [
    "// type of declaring transform value\n",
    "\n",
    "interface MyInterface{\n",
    "    transformIt: <A,B>(a:A) => B;\n",
    "}\n",
    "\n",
    "\n"
   ]
  },
  {
   "cell_type": "code",
   "execution_count": null,
   "id": "3485be40-66a5-4357-8363-883c2ada9648",
   "metadata": {},
   "outputs": [],
   "source": [
    "// generic in interfaces \n",
    "// екстендим интерфейсы при помощи дженериков\n",
    "\n",
    "interface Initial {\n",
    "    val: number,\n",
    "}\n",
    "\n",
    "function makeSomething<X extends Initial>( param1: X): X {\n",
    "    console.log(param1.val)\n",
    "    return param1;\n",
    "}\n",
    "\n",
    "\n"
   ]
  }
 ],
 "metadata": {
  "kernelspec": {
   "display_name": "Deno",
   "language": "typescript",
   "name": "deno"
  },
  "language_info": {
   "file_extension": ".ts",
   "mimetype": "text/x.typescript",
   "name": "typescript",
   "nb_converter": "script",
   "pygments_lexer": "typescript",
   "version": "5.4.3"
  }
 },
 "nbformat": 4,
 "nbformat_minor": 5
}
