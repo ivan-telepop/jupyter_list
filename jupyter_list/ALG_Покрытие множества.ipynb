{
 "cells": [
  {
   "cell_type": "code",
   "execution_count": null,
   "id": "fca2dbd2-7a6b-40db-a036-80410349f165",
   "metadata": {},
   "outputs": [],
   "source": [
    "Задача о покрытии множества.\n",
    "    У нас есть потребность покрыть вещанием штаты, и есть набор потенциальных станций. Некоторые станции дублирут покрытие, кароч штаты повторяются\n",
    "    Необходимо выбрать набор станций с минимальными повторами.\n"
   ]
  },
  {
   "cell_type": "code",
   "execution_count": 27,
   "id": "3d69e77f-695b-4b56-a086-e1e410d865cf",
   "metadata": {},
   "outputs": [
    {
     "name": "stdout",
     "output_type": "stream",
     "text": [
      "{'K_two', 'K_five', 'K_one', 'K_three'}\n"
     ]
    }
   ],
   "source": [
    "# here is needef regions that should be covered by radio stations\n",
    "states_needed = set([\"minesota\",\"waioming\",\"oregon\",\"idaho\",\"nevada\",\"uhta\",\"cansas\",\"arizona\"]) # \"нужное\" - то что мы хотим покрыть\n",
    "\n",
    "# here is five radiostations that covers regions in set - Тут есть потенциальные станции\n",
    "stations = {\"K_one\":set([\"idaho\",\"nevada\",\"uhta\"]),\n",
    "            \"K_two\":set([\"waioming\",\"idaho\",\"minesota\"]),\n",
    "            \"K_three\":set([\"oregon\",\"nevada\",\"cansas\"]),\n",
    "           \"K_four\":set([\"nevada\",\"uhta\"]),\n",
    "           \"K_five\":set([\"cansas\",\"arizona\"])}\n",
    "\n",
    "final_stations = set() # итоговый набор станций (пока что пустой)\n",
    "\n",
    "\n",
    "while states_needed: # Действуем пока не кончится список - нужное\n",
    "\n",
    "# промежуточные данные\n",
    "    best_station = None # промежуточный набор - лучшая (самая подходящая)\n",
    "    states_covered = set() # Те штаты которые мы покрыли вещанием (работа сделана)\n",
    "\n",
    "\n",
    "# перебор или выбор (сам процесс)\n",
    "    for station, states_for_station in stations.items(): # перебираем по одной\n",
    "        covered = states_needed & states_for_station # пересечение тех станций которые есть в ...\n",
    "        if len(covered) > len(states_covered): # тут проверяем: если множество с пересечением больше чем то что перекрыли states_covered\n",
    "            best_station = station # мы говорим что лучшая станция та котоая сейчас в цикле (в его шаге)\n",
    "            states_covered = covered # покрытое  = персечение\n",
    "            final_stations.add(best_station) # добавляем лучшую в итоговый набор\n",
    "            states_needed -= states_covered # убираем из \"нужное\" то что есть в итоговом\n",
    "        \n",
    "        \n",
    "print(final_stations)       \n",
    "    "
   ]
  },
  {
   "cell_type": "code",
   "execution_count": 9,
   "id": "064b40ad-f657-4c33-9c8a-c810c9cea899",
   "metadata": {},
   "outputs": [
    {
     "data": {
      "text/plain": [
       "scputimes(user=15341.75, nice=0.0, system=7211.97, idle=418220.84)"
      ]
     },
     "execution_count": 9,
     "metadata": {},
     "output_type": "execute_result"
    }
   ],
   "source": [
    "import psutil\n",
    "ff = float(4.0)\n",
    "ff\n",
    "psutil.cpu_freq()\n",
    "psutil.cpu_times()"
   ]
  },
  {
   "cell_type": "code",
   "execution_count": 1,
   "id": "2caad9f0-0b69-4144-b86a-70e223113f0c",
   "metadata": {},
   "outputs": [
    {
     "data": {
      "text/plain": [
       "123"
      ]
     },
     "execution_count": 1,
     "metadata": {},
     "output_type": "execute_result"
    }
   ],
   "source": [
    "f = 1234 // 10\n",
    "f"
   ]
  }
 ],
 "metadata": {
  "kernelspec": {
   "display_name": "Python 3 (ipykernel)",
   "language": "python",
   "name": "python3"
  },
  "language_info": {
   "codemirror_mode": {
    "name": "ipython",
    "version": 3
   },
   "file_extension": ".py",
   "mimetype": "text/x-python",
   "name": "python",
   "nbconvert_exporter": "python",
   "pygments_lexer": "ipython3",
   "version": "3.13.0a6"
  }
 },
 "nbformat": 4,
 "nbformat_minor": 5
}
