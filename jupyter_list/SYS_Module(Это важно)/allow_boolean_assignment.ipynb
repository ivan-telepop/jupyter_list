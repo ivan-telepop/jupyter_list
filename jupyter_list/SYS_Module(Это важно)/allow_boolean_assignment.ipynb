{
 "cells": [
  {
   "cell_type": "code",
   "execution_count": 14,
   "id": "208ade71-2e37-4f44-b76f-f777bddf8fef",
   "metadata": {},
   "outputs": [],
   "source": [
    "# Есть байка что якобы таким способом можно разрешить переименовывать резервированные имена\n",
    "# Но проверку не прошло...\n",
    "\n",
    "# import sys\n",
    "# sys.allow_boolean_assignment = 1\n",
    "\n",
    "# True = False"
   ]
  },
  {
   "cell_type": "code",
   "execution_count": 16,
   "id": "9c238888-f668-45e1-85b4-c71b2b23448b",
   "metadata": {},
   "outputs": [
    {
     "data": {
      "text/plain": [
       "''"
      ]
     },
     "execution_count": 16,
     "metadata": {},
     "output_type": "execute_result"
    }
   ],
   "source": [
    "# SYS - System Specific params and functions\n",
    "\n",
    "\n",
    "sys.abiflags\n"
   ]
  }
 ],
 "metadata": {
  "kernelspec": {
   "display_name": "Python 3 (ipykernel)",
   "language": "python",
   "name": "python3"
  },
  "language_info": {
   "codemirror_mode": {
    "name": "ipython",
    "version": 3
   },
   "file_extension": ".py",
   "mimetype": "text/x-python",
   "name": "python",
   "nbconvert_exporter": "python",
   "pygments_lexer": "ipython3",
   "version": "3.13.0a6"
  }
 },
 "nbformat": 4,
 "nbformat_minor": 5
}
