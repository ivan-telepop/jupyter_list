{
 "cells": [
  {
   "cell_type": "code",
   "execution_count": 9,
   "id": "208ade71-2e37-4f44-b76f-f777bddf8fef",
   "metadata": {},
   "outputs": [],
   "source": [
    "# Есть байка что якобы таким способом можно разрешить переименовывать резервированные имена\n",
    "# Но проверку не прошло...\n",
    "\n",
    "import sys\n",
    "sys.allow_boolean_assignment = 1\n",
    "\n",
    "Foo = False\n",
    "\n",
    "\n"
   ]
  },
  {
   "cell_type": "code",
   "execution_count": 16,
   "id": "9c238888-f668-45e1-85b4-c71b2b23448b",
   "metadata": {},
   "outputs": [
    {
     "data": {
      "text/plain": [
       "''"
      ]
     },
     "execution_count": 16,
     "metadata": {},
     "output_type": "execute_result"
    }
   ],
   "source": [
    "# SYS - System Specific params and functions\n",
    "\n",
    "\n",
    "sys.abiflags\n"
   ]
  },
  {
   "cell_type": "code",
   "execution_count": 2,
   "id": "53e37f99-ae19-4931-be21-c641e15cd70f",
   "metadata": {},
   "outputs": [
    {
     "data": {
      "text/plain": [
       "['/Users/ewan/Library/Python/3.9/lib/python/site-packages/ipykernel_launcher.py',\n",
       " '-f',\n",
       " '/Users/ewan/Library/Jupyter/runtime/kernel-abbee9b0-a7fe-4421-b3aa-74539e39a647.json']"
      ]
     },
     "execution_count": 2,
     "metadata": {},
     "output_type": "execute_result"
    }
   ],
   "source": [
    "import sys\n",
    "\n",
    "sys.argv"
   ]
  },
  {
   "cell_type": "code",
   "execution_count": 5,
   "id": "70a74611-62f8-4ea5-a081-0fc70679972d",
   "metadata": {},
   "outputs": [
    {
     "data": {
      "text/plain": [
       "'3.9.6 (default, Nov 11 2024, 03:15:39) \\n[Clang 16.0.0 (clang-1600.0.26.6)]'"
      ]
     },
     "execution_count": 5,
     "metadata": {},
     "output_type": "execute_result"
    }
   ],
   "source": [
    "sys.argv\n",
    "sys.version"
   ]
  }
 ],
 "metadata": {
  "kernelspec": {
   "display_name": "Python 3 (ipykernel)",
   "language": "python",
   "name": "python3"
  },
  "language_info": {
   "codemirror_mode": {
    "name": "ipython",
    "version": 3
   },
   "file_extension": ".py",
   "mimetype": "text/x-python",
   "name": "python",
   "nbconvert_exporter": "python",
   "pygments_lexer": "ipython3",
   "version": "3.9.6"
  }
 },
 "nbformat": 4,
 "nbformat_minor": 5
}
