{
 "cells": [
  {
   "cell_type": "code",
   "execution_count": 2,
   "id": "211b20ed-24c5-4db3-9c91-2ac8f1fa2960",
   "metadata": {},
   "outputs": [],
   "source": [
    "# unsupervised topic modeling\n",
    "\n",
    "\n",
    "# Неконтролируемое тематическое моделирование\n",
    "\n",
    "# https://pypi.org/project/gensim/\n",
    "\n",
    "\n",
    "\n",
    "# https://radimrehurek.com/gensim/"
   ]
  },
  {
   "cell_type": "code",
   "execution_count": null,
   "id": "4d1db362-d213-46ee-93c7-99447d0bd283",
   "metadata": {},
   "outputs": [],
   "source": [
    "import timeit\n",
    "\n",
    "def make_do():\n",
    "    for i in [y for y in range(100)]:\n",
    "        print(i)\n",
    "\n",
    "help(timeit)\n"
   ]
  }
 ],
 "metadata": {
  "kernelspec": {
   "display_name": "Python 3 (ipykernel)",
   "language": "python",
   "name": "python3"
  },
  "language_info": {
   "codemirror_mode": {
    "name": "ipython",
    "version": 3
   },
   "file_extension": ".py",
   "mimetype": "text/x-python",
   "name": "python",
   "nbconvert_exporter": "python",
   "pygments_lexer": "ipython3",
   "version": "3.9.6"
  }
 },
 "nbformat": 4,
 "nbformat_minor": 5
}
