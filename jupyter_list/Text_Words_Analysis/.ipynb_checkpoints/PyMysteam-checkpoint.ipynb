{
 "cells": [
  {
   "cell_type": "code",
   "execution_count": null,
   "id": "2b74cfc1-2118-4204-bdf1-b797088b172f",
   "metadata": {},
   "outputs": [],
   "source": [
    "# MyStem умеет строить гипотетические разборы для множества слов — включая те слова, \n",
    "# которых нет в словаре. \n"
   ]
  },
  {
   "cell_type": "code",
   "execution_count": null,
   "id": "82b50378-9386-4ece-96dd-d935c42464c8",
   "metadata": {},
   "outputs": [],
   "source": [
    "#  Лемматизация\n",
    "\n",
    "# При обработке естественного языка требуется предварительная подготовка документов, \n",
    "# и одним из способов является \n",
    "# лемматизация – приведение всех слов текста к их нормальным формам с учетом контекста.\n",
    "\n",
    "# https://pypi.org/project/pymystem3/"
   ]
  },
  {
   "cell_type": "code",
   "execution_count": null,
   "id": "947489ac-eda4-457c-9916-c56502803c93",
   "metadata": {},
   "outputs": [],
   "source": []
  }
 ],
 "metadata": {
  "kernelspec": {
   "display_name": "Python 3 (ipykernel)",
   "language": "python",
   "name": "python3"
  },
  "language_info": {
   "codemirror_mode": {
    "name": "ipython",
    "version": 3
   },
   "file_extension": ".py",
   "mimetype": "text/x-python",
   "name": "python",
   "nbconvert_exporter": "python",
   "pygments_lexer": "ipython3",
   "version": "3.9.6"
  }
 },
 "nbformat": 4,
 "nbformat_minor": 5
}
