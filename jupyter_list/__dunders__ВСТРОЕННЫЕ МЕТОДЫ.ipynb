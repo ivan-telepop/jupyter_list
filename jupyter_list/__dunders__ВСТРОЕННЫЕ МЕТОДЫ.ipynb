{
 "cells": [
  {
   "cell_type": "code",
   "execution_count": 1,
   "id": "d9aa90c0",
   "metadata": {},
   "outputs": [
    {
     "data": {
      "text/plain": [
       "5"
      ]
     },
     "execution_count": 1,
     "metadata": {},
     "output_type": "execute_result"
    }
   ],
   "source": [
    "2. chr()\n",
    "3. callable()\n",
    "4. complex()\n",
    "5. dict()\n",
    "6. dir()\n",
    "7. enumerate()\n",
    "8. eval()\n",
    "9. filter()\n",
    "10. float()\n",
    "11. hash()\n",
    "12. help()\n",
    "13. input()\n",
    "14. int()\n",
    "15. iter()\n",
    "16. max()\n",
    "17. min()\n",
    "18. len()\n",
    "19. list()\n",
    "20. map()\n",
    "21. next()\n",
    "22. ord()\n",
    "23. reversed()\n",
    "24. range()\n",
    "25. reduce()\n",
    "26. sorted()\n",
    "27. str()\n",
    "28. set()\n",
    "29. sum()\n",
    "30. tuple()\n",
    "31. type()\n",
    "32.divmod()\n",
    "33.getattr()"
   ]
  },
  {
   "cell_type": "code",
   "execution_count": 8,
   "id": "9598f96f",
   "metadata": {},
   "outputs": [
    {
     "name": "stdout",
     "output_type": "stream",
     "text": [
      "15\n"
     ]
    }
   ],
   "source": [
    "s = 'print(5 + 10)'\n",
    "eval(s)"
   ]
  },
  {
   "cell_type": "code",
   "execution_count": 14,
   "id": "c0ded771",
   "metadata": {},
   "outputs": [
    {
     "name": "stdout",
     "output_type": "stream",
     "text": [
      "inf\n",
      "10.0\n"
     ]
    }
   ],
   "source": [
    "print(float('infinity'))\n",
    "print(float(10))"
   ]
  },
  {
   "cell_type": "code",
   "execution_count": 20,
   "id": "e6e05946",
   "metadata": {},
   "outputs": [
    {
     "name": "stdout",
     "output_type": "stream",
     "text": [
      "7347653499694109182\n",
      "0\n"
     ]
    }
   ],
   "source": [
    "print(hash('ivan'))\n",
    "print(hash(False))"
   ]
  },
  {
   "cell_type": "code",
   "execution_count": 65,
   "id": "5ef9dc27",
   "metadata": {},
   "outputs": [
    {
     "name": "stdout",
     "output_type": "stream",
     "text": [
      "Help on class One in module __main__:\n",
      "\n",
      "class One(builtins.object)\n",
      " |  My class that i did with docstring\n",
      " |  \n",
      " |  Data descriptors defined here:\n",
      " |  \n",
      " |  __dict__\n",
      " |      dictionary for instance variables (if defined)\n",
      " |  \n",
      " |  __weakref__\n",
      " |      list of weak references to the object (if defined)\n",
      "\n",
      "None\n",
      "<class 'type'>\n"
     ]
    }
   ],
   "source": [
    "class One:\n",
    "    \"\"\"My class that i did with docstring\"\"\"\n",
    "    pass\n",
    "\n",
    "print(help(One))\n",
    "print(type(One))"
   ]
  },
  {
   "cell_type": "code",
   "execution_count": 33,
   "id": "5173ef5f",
   "metadata": {},
   "outputs": [
    {
     "data": {
      "text/plain": [
       "3"
      ]
     },
     "execution_count": 33,
     "metadata": {},
     "output_type": "execute_result"
    }
   ],
   "source": [
    "min([11,3,7])"
   ]
  },
  {
   "cell_type": "code",
   "execution_count": 46,
   "id": "78b29445",
   "metadata": {},
   "outputs": [
    {
     "name": "stdout",
     "output_type": "stream",
     "text": [
      "120 102 115\n"
     ]
    }
   ],
   "source": [
    "ff = list([ord('s'),ord('f'),ord('x')])\n",
    "#[115, 102, 120]\n",
    "print(*reversed(ff))"
   ]
  },
  {
   "cell_type": "code",
   "execution_count": 12,
   "id": "f2458cc6",
   "metadata": {},
   "outputs": [
    {
     "data": {
      "text/plain": [
       "9"
      ]
     },
     "execution_count": 12,
     "metadata": {},
     "output_type": "execute_result"
    }
   ],
   "source": [
    "gg = [1,1,1]\n",
    "sum(gg * 3)"
   ]
  },
  {
   "cell_type": "code",
   "execution_count": 11,
   "id": "3b537809",
   "metadata": {},
   "outputs": [
    {
     "data": {
      "text/plain": [
       "1979"
      ]
     },
     "execution_count": 11,
     "metadata": {},
     "output_type": "execute_result"
    }
   ],
   "source": [
    "new = type('Programmer', (object, ),dict(name='Vanya', birth=1979))\n",
    "\n",
    "new.__name__, new.name, new.birth\n",
    "\n",
    "type(new)\n",
    "getattr(new,'birth')"
   ]
  },
  {
   "cell_type": "code",
   "execution_count": 8,
   "id": "04e33d2c-6f28-413f-82a4-13a6c8c8cfb4",
   "metadata": {},
   "outputs": [
    {
     "data": {
      "text/plain": [
       "2345678"
      ]
     },
     "execution_count": 8,
     "metadata": {},
     "output_type": "execute_result"
    }
   ],
   "source": [
    "# GETATTR\n",
    "\n",
    "class A:\n",
    "    name: str = 'Anny'\n",
    "    phone: int = 2345678 \n",
    "\n",
    "\n",
    "user = A()\n",
    "\n",
    "getattr(user,'name')\n",
    "getattr(user,'phone')"
   ]
  },
  {
   "cell_type": "code",
   "execution_count": 16,
   "id": "7cf82359-b569-4453-a642-0a60bf7211de",
   "metadata": {},
   "outputs": [
    {
     "data": {
      "text/plain": [
       "(5, 15)"
      ]
     },
     "execution_count": 16,
     "metadata": {},
     "output_type": "execute_result"
    }
   ],
   "source": [
    "# divident - делимое, число, которое нужно разделить;\n",
    "# divisor - делитель, число, на которое необходимо делить.\n",
    "\n",
    "\n",
    "\n",
    "# результат: число на сколько можно поделить, и остаток (5,15) 5 раз 17 можно вычесть из 100 и еще останется 15...\n",
    "divmod(100,17)"
   ]
  },
  {
   "cell_type": "code",
   "execution_count": 24,
   "id": "0687e7c0-64e4-42b6-a4b3-d95f1267f014",
   "metadata": {},
   "outputs": [
    {
     "data": {
      "text/plain": [
       "{'Date': 'Sun, 29 Dec 2024 00:34:30 GMT', 'Expires': '-1', 'Cache-Control': 'private, max-age=0', 'Content-Type': 'text/html; charset=ISO-8859-1', 'Content-Security-Policy-Report-Only': \"object-src 'none';base-uri 'self';script-src 'nonce-7mUs5M4LHavmViK6NmMfdA' 'strict-dynamic' 'report-sample' 'unsafe-eval' 'unsafe-inline' https: http:;report-uri https://csp.withgoogle.com/csp/gws/other-hp\", 'P3P': 'CP=\"This is not a P3P policy! See g.co/p3phelp for more info.\"', 'Content-Encoding': 'gzip', 'Server': 'gws', 'Content-Length': '8475', 'X-XSS-Protection': '0', 'X-Frame-Options': 'SAMEORIGIN', 'Set-Cookie': 'AEC=AZ6Zc-WQ9tfUylL2ozN6XUoMkaWIt0i5aJWAh4MkAe7KqVdbkicqUHk7JA; expires=Fri, 27-Jun-2025 00:34:30 GMT; path=/; domain=.google.com; Secure; HttpOnly; SameSite=lax, NID=520=UpRzg2am2j5ZIKDQPDH9jcOfruK36r2NxVyUamU5xRcOTgMWdLXBSb2Ue2BF1aEc1VotttZA4EhK5XjzE4HidOBVe6K-4GUANAMv_s_5P5HJjukCGf_qLlTt4ycXcTvxeVHjQyVBBMVHC2NUIMvGS727-eKVRc-c5Kn3EmxEK3HtL8cSJ6z1ECOx5zhB_Q9Yumey; expires=Mon, 30-Jun-2025 00:34:30 GMT; path=/; domain=.google.com; HttpOnly'}"
      ]
     },
     "execution_count": 24,
     "metadata": {},
     "output_type": "execute_result"
    }
   ],
   "source": [
    "import requests\n",
    "\n",
    "r = requests.get('http://google.com')\n",
    "getattr(r,'url')\n",
    "getattr(r,'headers')"
   ]
  },
  {
   "cell_type": "code",
   "execution_count": null,
   "id": "51c0b1a4-f98f-41cb-817d-9de6cfcd4347",
   "metadata": {},
   "outputs": [],
   "source": []
  }
 ],
 "metadata": {
  "kernelspec": {
   "display_name": "Python 3 (ipykernel)",
   "language": "python",
   "name": "python3"
  },
  "language_info": {
   "codemirror_mode": {
    "name": "ipython",
    "version": 3
   },
   "file_extension": ".py",
   "mimetype": "text/x-python",
   "name": "python",
   "nbconvert_exporter": "python",
   "pygments_lexer": "ipython3",
   "version": "3.13.0a6"
  }
 },
 "nbformat": 4,
 "nbformat_minor": 5
}
