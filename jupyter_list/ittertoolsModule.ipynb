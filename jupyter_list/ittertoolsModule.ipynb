{
 "cells": [
  {
   "cell_type": "code",
   "execution_count": 8,
   "id": "40de15f9-ae22-4090-8103-f37dcf118d6e",
   "metadata": {},
   "outputs": [
    {
     "name": "stdout",
     "output_type": "stream",
     "text": [
      "0\n",
      "5\n",
      "10\n",
      "15\n",
      "20\n",
      "25\n"
     ]
    }
   ],
   "source": [
    "# makes iterable from start value by step which is too may be defined as arg\n",
    "# Бесконечный иттератор с шагом который можно передать в параметре step\n",
    "from itertools import count\n",
    "\n",
    "for step in count(start=0,step=5):\n",
    "    if step >= 30:\n",
    "        break\n",
    "    print(step)"
   ]
  },
  {
   "cell_type": "code",
   "execution_count": 9,
   "id": "8eeb7328-a3fb-46bf-a39c-24ef35d60c75",
   "metadata": {},
   "outputs": [
    {
     "name": "stdout",
     "output_type": "stream",
     "text": [
      "A         B         C         D         E         A         B         C         D         E         A         B         C         D         E         A         B         C         D         E         A         B         C         D         E         A         B         C         D         E         A         X  X  X  X  X  X  X  X  X  X  "
     ]
    }
   ],
   "source": [
    "# This is infinite iterator (will be cycled infinity times)\n",
    "# Бесконечный иттератор который в цикле передает элементы последовательности\n",
    "from itertools import cycle\n",
    "\n",
    "\n",
    "counter = 0\n",
    "\n",
    "\n",
    "for i in cycle('ABCDE'):\n",
    "    if counter > 30:\n",
    "        break\n",
    "    else:\n",
    "        print(i, end=\"         \")\n",
    "        counter += 1\n",
    "# Or such way\n",
    "for i in range(10):\n",
    "    print(next(cycle('XYZ')),end=\"  \")"
   ]
  },
  {
   "cell_type": "code",
   "execution_count": 15,
   "id": "de5ed6b1-711b-45fc-b51b-ed26ffdb2b3a",
   "metadata": {},
   "outputs": [
    {
     "name": "stdout",
     "output_type": "stream",
     "text": [
      "[['---=*=---'], ['---=*=---'], ['---=*=---'], ['---=*=---']]\n"
     ]
    }
   ],
   "source": [
    "# repeat(val, num): This iterator repeatedly prints \n",
    "# the passed value an infinite number of times. If the optional keyword num is mentioned, \n",
    "# then it repeatedly prints num number of times.\n",
    "from itertools import repeat\n",
    "\n",
    "print(list(repeat(['---=*=---'],4)))"
   ]
  },
  {
   "cell_type": "markdown",
   "id": "a19de1d0-f901-435c-aee5-1b17229116b3",
   "metadata": {},
   "source": [
    "Combinatoric iterators"
   ]
  },
  {
   "cell_type": "markdown",
   "id": "e4eb56ef-2e33-4e67-b11b-c512af44f964",
   "metadata": {},
   "source": [
    "# Cartesian products - Декартовы произведения\n",
    "Посути комбинации всех вариантов перестановок"
   ]
  },
  {
   "cell_type": "code",
   "execution_count": 35,
   "id": "5ed83adc-1f7b-4307-8499-bd633732d779",
   "metadata": {},
   "outputs": [
    {
     "name": "stdout",
     "output_type": "stream",
     "text": [
      "('A', 'A') ('A', 'B') ('A', 'C') ('B', 'A') ('B', 'B') ('B', 'C') ('C', 'A') ('C', 'B') ('C', 'C')\n",
      "\n",
      "\n",
      "('X', 1, 'X', 1) ('X', 1, 'X', 2) ('X', 1, 'X', 3) ('X', 1, 'X', '*') ('X', 1, 'Y', 1) ('X', 1, 'Y', 2) ('X', 1, 'Y', 3) ('X', 1, 'Y', '*') ('X', 2, 'X', 1) ('X', 2, 'X', 2) ('X', 2, 'X', 3) ('X', 2, 'X', '*') ('X', 2, 'Y', 1) ('X', 2, 'Y', 2) ('X', 2, 'Y', 3) ('X', 2, 'Y', '*') ('X', 3, 'X', 1) ('X', 3, 'X', 2) ('X', 3, 'X', 3) ('X', 3, 'X', '*') ('X', 3, 'Y', 1) ('X', 3, 'Y', 2) ('X', 3, 'Y', 3) ('X', 3, 'Y', '*') ('X', '*', 'X', 1) ('X', '*', 'X', 2) ('X', '*', 'X', 3) ('X', '*', 'X', '*') ('X', '*', 'Y', 1) ('X', '*', 'Y', 2) ('X', '*', 'Y', 3) ('X', '*', 'Y', '*') ('Y', 1, 'X', 1) ('Y', 1, 'X', 2) ('Y', 1, 'X', 3) ('Y', 1, 'X', '*') ('Y', 1, 'Y', 1) ('Y', 1, 'Y', 2) ('Y', 1, 'Y', 3) ('Y', 1, 'Y', '*') ('Y', 2, 'X', 1) ('Y', 2, 'X', 2) ('Y', 2, 'X', 3) ('Y', 2, 'X', '*') ('Y', 2, 'Y', 1) ('Y', 2, 'Y', 2) ('Y', 2, 'Y', 3) ('Y', 2, 'Y', '*') ('Y', 3, 'X', 1) ('Y', 3, 'X', 2) ('Y', 3, 'X', 3) ('Y', 3, 'X', '*') ('Y', 3, 'Y', 1) ('Y', 3, 'Y', 2) ('Y', 3, 'Y', 3) ('Y', 3, 'Y', '*') ('Y', '*', 'X', 1) ('Y', '*', 'X', 2) ('Y', '*', 'X', 3) ('Y', '*', 'X', '*') ('Y', '*', 'Y', 1) ('Y', '*', 'Y', 2) ('Y', '*', 'Y', 3) ('Y', '*', 'Y', '*')\n"
     ]
    }
   ],
   "source": [
    "from itertools import product\n",
    "\n",
    "\n",
    "print(*product(['A','B','C'],repeat=2))\n",
    "print()\n",
    "print()\n",
    "print(*product('XY',[1,2,3,'*'],repeat=2))\n"
   ]
  },
  {
   "cell_type": "code",
   "execution_count": 76,
   "id": "e4c20d6c-a215-4c19-86d0-fcb60c2ce82c",
   "metadata": {},
   "outputs": [
    {
     "name": "stdout",
     "output_type": "stream",
     "text": [
      "('T', 'U', 'V') ('T', 'V', 'U') ('U', 'T', 'V') ('U', 'V', 'T') ('V', 'T', 'U') ('V', 'U', 'T')\n"
     ]
    }
   ],
   "source": [
    "# Перестановки\n",
    "from itertools import permutations\n",
    "\n",
    "print(*permutations(['T','U','V']))"
   ]
  },
  {
   "cell_type": "code",
   "execution_count": 94,
   "id": "e4ec4896-9901-419e-8c9b-ccded61ea6c3",
   "metadata": {},
   "outputs": [
    {
     "name": "stdout",
     "output_type": "stream",
     "text": [
      "('A', 'B', 'C')\n"
     ]
    }
   ],
   "source": [
    "from itertools import combinations\n",
    "\n",
    "mnog = [0,1,4,5]\n",
    "\n",
    "print(*combinations(['A','B','C'],len(['A','B','C'])))"
   ]
  },
  {
   "cell_type": "code",
   "execution_count": 74,
   "id": "0be5ebc5-f1fe-44d8-89a9-c4a5f94e3963",
   "metadata": {},
   "outputs": [
    {
     "name": "stdout",
     "output_type": "stream",
     "text": [
      "('A', 'A', 'A', 'A', 'A') ('A', 'A', 'A', 'A', 'B') ('A', 'A', 'A', 'B', 'B') ('A', 'A', 'B', 'B', 'B') ('A', 'B', 'B', 'B', 'B') ('B', 'B', 'B', 'B', 'B')\n"
     ]
    }
   ],
   "source": [
    "from itertools import combinations_with_replacement as cwr\n",
    "\n",
    "\n",
    "print(*combinations_with_replacement('AB',5))"
   ]
  },
  {
   "cell_type": "markdown",
   "id": "7403096a-326a-4175-968e-ce1b5aea8c2b",
   "metadata": {},
   "source": [
    "Terminating Iterators"
   ]
  },
  {
   "cell_type": "markdown",
   "id": "f1266874-b34e-4573-bbb5-d62be723efdc",
   "metadata": {},
   "source": [
    "Terminating iterators are used to work on the short input sequences and produce the output \n",
    "based on the functionality of the method used.\n",
    "\n",
    "Different types of terminating iterators are: \n",
    "\n",
    "accumulate(iter, func): This iterator takes two arguments, \n",
    "iterable target and the function which would be followed at each iteration of value in target.\n",
    "If no function is passed, addition takes place by default. If the input iterable is empty, \n",
    "the output iterable will also be empty."
   ]
  },
  {
   "cell_type": "code",
   "execution_count": 116,
   "id": "fbfb6f62-411c-445b-a081-8290536bff20",
   "metadata": {},
   "outputs": [
    {
     "name": "stdout",
     "output_type": "stream",
     "text": [
      "1 3 6 16\n",
      "5 25 125 625\n",
      "100 25.0 12.5 4.166666666666667\n"
     ]
    }
   ],
   "source": [
    "from itertools import accumulate\n",
    "from operator import *\n",
    "\n",
    "print(*accumulate([1,2,3,10])) # By default it makes addition\n",
    "\n",
    "print(*accumulate([5,5,5,5],mul)) # Multiplication with operator.mul\n",
    "\n",
    "def div_three(a,b):\n",
    "    return a / b\n",
    "\n",
    "print(*accumulate([100,4,2,3],div_three)) # Put your funcs too with two args\n",
    "\n",
    "\n"
   ]
  },
  {
   "cell_type": "code",
   "execution_count": 125,
   "id": "3f613a05-70a9-4110-9bca-57f0475cd99d",
   "metadata": {},
   "outputs": [
    {
     "name": "stdout",
     "output_type": "stream",
     "text": [
      "1 2 3 4 5 21 22 23 24 25 31 32 33 34 35 41 42 43 44 45\n",
      "1 2 3 4 5 21 22 23 24 25 31 32 33 34 35 41 42 43 44 45\n",
      "1 2 3 4 5 21 22 23 24 25 31 32 33 34 35 41 42 43 44 45\n"
     ]
    }
   ],
   "source": [
    "from itertools import chain\n",
    "l1 = [1,2,3,4,5]\n",
    "l2 = [21,22,23,24,25]\n",
    "l3 = [31,32,33,34,35]\n",
    "l4 = [41,42,43,44,45]\n",
    "\n",
    "coll = (l1,l2,l3,l4)\n",
    "\n",
    "\n",
    "print(*chain(*coll))\n",
    "\n",
    "print(*chain(l1,l2,l3,l4))\n",
    "\n",
    "# CHAIN.FROM_ITERABLE\n",
    "print(*chain.from_iterable(coll))"
   ]
  },
  {
   "cell_type": "code",
   "execution_count": 129,
   "id": "91ba83c0-c984-4756-8750-315f0ed93b4d",
   "metadata": {},
   "outputs": [
    {
     "name": "stdout",
     "output_type": "stream",
     "text": [
      "Z X\n"
     ]
    }
   ],
   "source": [
    "# COMPRESS\n",
    "from itertools import compress\n",
    "\n",
    "def ret_bool():\n",
    "    return True\n",
    "\n",
    "print(*compress('*Z&!%@X0',[0,True,0,False,0,0,ret_bool(),0]))"
   ]
  },
  {
   "cell_type": "code",
   "execution_count": 143,
   "id": "397b27fb-fe29-40c1-9e8d-7843ec888e21",
   "metadata": {},
   "outputs": [
    {
     "name": "stdout",
     "output_type": "stream",
     "text": [
      "5 6 2 8 9 0\n",
      "8 9 0\n"
     ]
    }
   ],
   "source": [
    "from itertools import dropwhile\n",
    "# Prints After Trigger (False)\n",
    "l55 = [2,5,6,2,8,9,0]\n",
    "print(*dropwhile(lambda i : i % 2 == 0, l55))\n",
    "\n",
    "\n",
    "def ret_true(a):\n",
    "    if a == 8:\n",
    "        return False\n",
    "    else:\n",
    "        return True\n",
    "\n",
    "# Starts printinf unles finds false\n",
    "print(*dropwhile(ret_true, l55))\n",
    "\n"
   ]
  },
  {
   "cell_type": "code",
   "execution_count": 155,
   "id": "f5fe6ec6-5e19-45c2-8ac0-eccecc561eff",
   "metadata": {},
   "outputs": [
    {
     "name": "stdout",
     "output_type": "stream",
     "text": [
      "False\n",
      "False\n",
      "3 9\n"
     ]
    }
   ],
   "source": [
    "from itertools import filterfalse\n",
    "\n",
    "l88 = [2,3,4,6,8,9]\n",
    "print(9 % 2 == 0)\n",
    "print(bool(5 % 2 == 0))\n",
    "print(*filterfalse(lambda x: x % 2 == 0,l88))"
   ]
  },
  {
   "cell_type": "code",
   "execution_count": 192,
   "id": "4f17a82b-357d-44a2-b2cd-4bd6d7c51890",
   "metadata": {},
   "outputs": [
    {
     "name": "stdout",
     "output_type": "stream",
     "text": [
      "('C', 2) ('E', 4) ('G', 6) ('J', 8)\n"
     ]
    }
   ],
   "source": [
    "from itertools import islice\n",
    "l66 = list('abcdefghjklmno'.upper())\n",
    "l77 = zip(l66,range(len(l66)))\n",
    "\n",
    "# since third - until 11 - step(ommit) two\n",
    "print(*islice(l77,2,9,2))\n"
   ]
  },
  {
   "cell_type": "code",
   "execution_count": 195,
   "id": "91918a1c-e6ed-47b7-9e70-5b556047d0e6",
   "metadata": {},
   "outputs": [
    {
     "name": "stdout",
     "output_type": "stream",
     "text": [
      "3 3 3\n",
      "1 1 1\n"
     ]
    }
   ],
   "source": [
    "from itertools import starmap\n",
    "# It takes as arg list with tuples, then filters by maping tuple items\n",
    "\n",
    "litup = [(1,2,3),(1,2,3),(1,2,3)]\n",
    "\n",
    "print(*starmap(max,litup))\n",
    "\n",
    "print(*starmap(min,litup))\n"
   ]
  },
  {
   "cell_type": "code",
   "execution_count": 200,
   "id": "65e8ecfe-d65b-4866-94de-2ded7305daec",
   "metadata": {},
   "outputs": [
    {
     "name": "stdout",
     "output_type": "stream",
     "text": [
      "2 12 32 44\n"
     ]
    }
   ],
   "source": [
    "# DROPWHILE is Opposite TAKEWHILE\n",
    "from itertools import takewhile\n",
    "\n",
    "li = [2,12,32,44,51,6,7,8,9]\n",
    "print(*takewhile(lambda x : x % 2 == 0, li))"
   ]
  },
  {
   "cell_type": "code",
   "execution_count": 206,
   "id": "3bdfd5ac-7ba2-41b8-a0ff-2f52d791d5e7",
   "metadata": {},
   "outputs": [
    {
     "name": "stdout",
     "output_type": "stream",
     "text": [
      "(<itertools._tee object at 0x1120030c0>, <itertools._tee object at 0x112001700>, <itertools._tee object at 0x1120014c0>, <itertools._tee object at 0x112001300>)\n",
      "3 4 5\n",
      "3 4 5\n",
      "3 4 5\n",
      "3 4 5\n"
     ]
    }
   ],
   "source": [
    "from itertools import tee\n",
    "\n",
    "alltee = tee([3,4,5],4)\n",
    "\n",
    "print(alltee)\n",
    "\n",
    "for i in alltee:\n",
    "    print(*i)"
   ]
  },
  {
   "cell_type": "code",
   "execution_count": 219,
   "id": "de586677-517c-4479-afd7-0774d330d899",
   "metadata": {},
   "outputs": [
    {
     "name": "stdout",
     "output_type": "stream",
     "text": [
      "('A', 1) ('B', 2) ('C', 3) ('D', 5) ('E', 6) ('F', None) ('G', None) ('H', None)\n",
      "(100, 'A') (200, 'B') (300, 'C') (400, None) (500, None)\n"
     ]
    }
   ],
   "source": [
    "from itertools import zip_longest\n",
    "\n",
    "\n",
    "letters_longer = zip_longest([*'abcdefgh'.upper()],[1,2,3,5,6])\n",
    "\n",
    "print(*letters_longer)\n",
    "\n",
    "nums_longer = zip_longest([100,200,300,400,500],[*'abc'.upper()])\n",
    "print(*nums_longer)"
   ]
  },
  {
   "cell_type": "code",
   "execution_count": null,
   "id": "d5983fc8-70f7-4243-9fdf-7581544d5dc3",
   "metadata": {},
   "outputs": [],
   "source": []
  }
 ],
 "metadata": {
  "kernelspec": {
   "display_name": "Python 3 (ipykernel)",
   "language": "python",
   "name": "python3"
  },
  "language_info": {
   "codemirror_mode": {
    "name": "ipython",
    "version": 3
   },
   "file_extension": ".py",
   "mimetype": "text/x-python",
   "name": "python",
   "nbconvert_exporter": "python",
   "pygments_lexer": "ipython3",
   "version": "3.9.6"
  }
 },
 "nbformat": 4,
 "nbformat_minor": 5
}
