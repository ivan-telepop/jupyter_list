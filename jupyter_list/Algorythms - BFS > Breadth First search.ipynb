{
 "cells": [
  {
   "cell_type": "code",
   "execution_count": null,
   "id": "c2b4934b",
   "metadata": {},
   "outputs": [],
   "source": [
    "# ALGORYTHMS - Chapter 6 Breadth First Search \n",
    "# BREADTHS - the distance from one side to another:\n",
    "https://www.linkedin.com/learning/python-data-structures-and-algorithms/python-data-structures-and-algorithms-in-action?courseClaim=AQGx-7dnwTLFRgAAAY4HpQDoGEFMWAIhokZ10mw1wnJ3n2OyBIpRyAU6wpj096tv-YvtqOE--KtrUYWRnGX1xpz67YqkXgZ66O-ZAjgyup1EyDDnvj6EXYgxObA1dRJszfks33OGBQV_k0Ft-GFbQcrU50MWzvEUqowIXRx7EcaUDuhRxuVsfcHkMrTKEWpUnqx3IQDl0rZkuW7efQP9nOGyxKzHqYhAw1JqIlXj3ETM_gQjeNiVrfKxqtZQxD7WZ5BSBxexSEvzvwdm7ouVkqO1QyAdzetcYTjvCkmSVDbx8GK6MzMOUUufL65qRcIH-_mzFAaMO7kOe2zHrPHcmCtMjKcfcaXOuJl0XVihr6ekpQ1KczNKfZq5xNSufR6pnjbd1WNBAbaFjLmwhy2C50TvU0vb-xP7CdGisAL5jbeG5duiRfVTmLzqmuFqsL6uIvXfiBf3PSUrEEbTCJjJruWQgTn3RDBpSIsCdr17X0-I-J-yspcuknXQ8njordGScLKmGecswimm0Pdxs0STC-1vLfkZvNByXc_z_tXqzhObFCDE-mgLF7kV8Y3ANFZtzfEBqP9S-TRbHl2jBGK4RJg8NkQ_axJHWw0m3AH0jMEeJDhS0KM6yCyNCWOFLTdYTMBEQQxwM8hSvj27n2cV8AK_L8d8hzFLoQT7eOI6sVs43Ckdv6_1oZVD_q1mBZi6Sy6g36Gdx3y9qFfHX8yh38R3-up9iBC5fmjjglfuwOj1bwE7WNOVUUJAH2NpHt7C-4MuGzybN6eZuta2GvvIQsLDz1sqKEadfVW9JSvsC_QvSSZJ1dcMP39ztuvYwCkuZuwLz56dxMhwKRQXMDiXjn79Gf-n9G_ehODS4pXFFVwiRlGBY5DifyfPBFhvRNv-X1qglr_h-R6raNaN7q_ljHOdG-2KJ2U1kCorXJ8A__9oE9_MK7xwnlmgtRzIeVA9CW29qLvmZTbHJV7ZLQcvd8B4A87e3XfmhN4tSBThArVei7d-XKsXAmJFSZIWyxbQxnJOeGlLvunuFtMJi1AunNyKrLLd9R9tBxt6jp5ABjz69Cs75HiLppVF_hwLl5ZvdHav-tAO4tPnXo47_ihqgHmhR3whsyYySH1HNPDJB1mPZx79ShFRvmrU2H1AiehvG6HJ18LZ6XCalU1o"
   ]
  },
  {
   "cell_type": "code",
   "execution_count": 30,
   "id": "5cba292d",
   "metadata": {},
   "outputs": [
    {
     "name": "stdout",
     "output_type": "stream",
     "text": [
      "This friend sells mango: anjela\n"
     ]
    },
    {
     "data": {
      "text/plain": [
       "True"
      ]
     },
     "execution_count": 30,
     "metadata": {},
     "output_type": "execute_result"
    }
   ],
   "source": [
    "\n",
    "# Поиск В Ширину  ГРАФ \n",
    "# Item = collections.namedtuple('Item',['color','size'])\n",
    "# items = [Item(col,siz) for col in colors for siz in sizes]\n",
    "\n",
    "\n",
    "# Типы графов\n",
    "# НАПРАВЛЕННЫЙ ГРАФ - это две вершины с связями друг на друга \n",
    "# example below:\n",
    "# graph['one'] = ['two']\n",
    "# graph['two'] = ['one']\n",
    "\n",
    "\n",
    "\n",
    "from collections import deque\n",
    "\n",
    "graph = {}\n",
    "\n",
    "graph['you'] = ['alise','anjela']\n",
    "graph['anjela'] = ['alex']\n",
    "graph['alise'] = []\n",
    "graph['alex'] = []\n",
    "\n",
    "\n",
    "\n",
    "\n",
    "\n",
    "def seller(name):\n",
    "    return name == 'anjela'\n",
    "\n",
    "\n",
    "\n",
    "\n",
    "def bfs_search(name):\n",
    "    search_queue = deque()\n",
    "    search_queue += graph[name]\n",
    "    searched = []\n",
    "    while search_queue:\n",
    "        person = search_queue.popleft()\n",
    "        if not person in searched:\n",
    "            if seller(person):\n",
    "                print(\"This friend sells mango:\",person)\n",
    "                return True\n",
    "            else:\n",
    "                search_queue += graph[person]\n",
    "                searched.append(person)\n",
    "    return False\n",
    "\n",
    "\n",
    "bfs_search('you')\n",
    "\n",
    "\n",
    "        \n",
    "\n"
   ]
  },
  {
   "cell_type": "code",
   "execution_count": 49,
   "id": "8192d857",
   "metadata": {},
   "outputs": [
    {
     "data": {
      "text/plain": [
       "[True, True, True]"
      ]
     },
     "execution_count": 49,
     "metadata": {},
     "output_type": "execute_result"
    }
   ],
   "source": [
    "ff = [False,False,False]\n",
    "\n",
    "for i in range(0,3):\n",
    "    ff[i] = not ff[i]\n",
    "    \n",
    "ff    "
   ]
  },
  {
   "cell_type": "code",
   "execution_count": 67,
   "id": "4fccaede",
   "metadata": {},
   "outputs": [
    {
     "name": "stdout",
     "output_type": "stream",
     "text": [
      "  1           0 LOAD_CONST               0 (None)\n",
      "              2 RETURN_VALUE\n"
     ]
    }
   ],
   "source": [
    "import dis\n",
    "twoes = [x for x in range(0,80, 2)]\n",
    "twoes\n",
    "\n",
    "threes = [y for y in range(0,33, 3)]\n",
    "threes\n",
    "\n",
    "doubles = [j for j in range(0,44, 4)]\n",
    "len(doubles)\n",
    "\n",
    "\n",
    "def make(atr):\n",
    "    res = map(atr)\n",
    "\n",
    "\n",
    "dis.dis(str())"
   ]
  },
  {
   "cell_type": "code",
   "execution_count": 77,
   "id": "f8af84f5",
   "metadata": {},
   "outputs": [
    {
     "name": "stdout",
     "output_type": "stream",
     "text": [
      "[{'t': 'e'}, {'e': 'l'}, {'l': 'e'}, {'e': 'p'}, {'p': 'o'}, {'o': 'r'}, {'r': 't'}]\n"
     ]
    }
   ],
   "source": [
    "# Задача для мозга: Сделать функцию создающую коллекцию графов или связей букв друг с другом где граф в виде словаря.\n",
    "# То есть каждая буква имеет направленную связь с предведущей буквой. \n",
    "#Задача сделать ориентированный граф по каждой связи парами\n",
    "\n",
    "\n",
    "\n",
    "\n",
    "\n",
    "\n",
    "def graph_maker(word):\n",
    "    result = []\n",
    "    for i in range(len(word)):\n",
    "        if int(i+1) < len(word):\n",
    "            aa = list(word).pop(i)\n",
    "            bb = list(word).pop(i +1)\n",
    "            result.append({aa:bb})\n",
    "    print(result)\n",
    "    \n",
    "graph_maker('teleport')    \n",
    "\n"
   ]
  },
  {
   "cell_type": "code",
   "execution_count": 76,
   "id": "4bb6cb5e",
   "metadata": {},
   "outputs": [
    {
     "name": "stdout",
     "output_type": "stream",
     "text": [
      "(1082, 'к') (1091, 'у') (1087, 'п') (1083, 'л') (1102, 'ю') (32, ' ') (1078, 'ж') (1077, 'е') (1085, 'н') (1077, 'е') (32, ' ') (1089, 'с') (1072, 'а') (1087, 'п') (1086, 'о') (1075, 'г') (1080, 'и')\n"
     ]
    }
   ],
   "source": [
    "# КАК PYTHON ПАРСИТ КИРИЛЛИЦУ\n",
    "\n",
    "def вжух_функция(слово):\n",
    "    ацкий_сотона = [ord(опаньки) for опаньки in слово]\n",
    "    просто_сотона = [ ц for ц in слово]\n",
    "    вжух = zip(ацкий_сотона, просто_сотона)\n",
    "    return вжух\n",
    "    \n",
    "print(*вжух_функция(\"куплю жене сапоги\"))  "
   ]
  }
 ],
 "metadata": {
  "kernelspec": {
   "display_name": "Python 3 (ipykernel)",
   "language": "python",
   "name": "python3"
  },
  "language_info": {
   "codemirror_mode": {
    "name": "ipython",
    "version": 3
   },
   "file_extension": ".py",
   "mimetype": "text/x-python",
   "name": "python",
   "nbconvert_exporter": "python",
   "pygments_lexer": "ipython3",
   "version": "3.9.6"
  }
 },
 "nbformat": 4,
 "nbformat_minor": 5
}
