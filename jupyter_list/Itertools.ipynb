{
 "cells": [
  {
   "cell_type": "code",
   "execution_count": 1,
   "id": "0ce4d55d-e357-4c67-9bd1-f6e037ea303b",
   "metadata": {},
   "outputs": [
    {
     "ename": "ImportError",
     "evalue": "cannot import name 'batched' from 'itertools' (unknown location)",
     "output_type": "error",
     "traceback": [
      "\u001b[0;31m---------------------------------------------------------------------------\u001b[0m",
      "\u001b[0;31mImportError\u001b[0m                               Traceback (most recent call last)",
      "Cell \u001b[0;32mIn[1], line 1\u001b[0m\n\u001b[0;32m----> 1\u001b[0m \u001b[38;5;28;01mfrom\u001b[39;00m \u001b[38;5;21;01mitertools\u001b[39;00m \u001b[38;5;28;01mimport\u001b[39;00m batched\n\u001b[1;32m      2\u001b[0m \u001b[38;5;28;01mimport\u001b[39;00m \u001b[38;5;21;01mcollections\u001b[39;00m\n\u001b[1;32m      3\u001b[0m \u001b[38;5;28;01mimport\u001b[39;00m \u001b[38;5;21;01mdatetime\u001b[39;00m\n",
      "\u001b[0;31mImportError\u001b[0m: cannot import name 'batched' from 'itertools' (unknown location)"
     ]
    }
   ],
   "source": [
    "from itertools import batched\n",
    "import collections\n",
    "import datetime\n",
    "import random\n",
    "\n",
    "tm = datetime.date.today()\n",
    "now = datetime.datetime.now()\n",
    "\n",
    "Item = collections.namedtuple('It',['dt','article','kg'])\n",
    "\n",
    "k = [ i for i in range(20) ]\n",
    "\n",
    "dates = dict.fromkeys(k, tm)\n",
    "\n",
    "articles = dict.fromkeys(k, id(now))\n",
    "\n",
    "kilos = [ (y * 3) for y in k]\n",
    "\n",
    "x = Item(tm,2,3)\n",
    "\n",
    "# Decart's\n",
    "\n",
    "many = (Item(dt,ar,kg) for dt in dates.values() for ar in articles.values() for kg in kilos )\n",
    "\n",
    "_batched = itertools.batched(many, 30)\n",
    "\n",
    "for one in batched:\n",
    "    print(one)\n",
    "\n",
    "\n"
   ]
  },
  {
   "cell_type": "code",
   "execution_count": 51,
   "id": "32e3a798-dfd1-415a-ab61-8d611c193c5b",
   "metadata": {},
   "outputs": [
    {
     "name": "stdout",
     "output_type": "stream",
     "text": [
      "Python 3.12.3\n"
     ]
    }
   ],
   "source": [
    "! python3 --version"
   ]
  },
  {
   "cell_type": "code",
   "execution_count": null,
   "id": "8f00feef-c551-4a02-be28-535197b7d750",
   "metadata": {},
   "outputs": [],
   "source": []
  }
 ],
 "metadata": {
  "kernelspec": {
   "display_name": "Python 3 (ipykernel)",
   "language": "python",
   "name": "python3"
  },
  "language_info": {
   "codemirror_mode": {
    "name": "ipython",
    "version": 3
   },
   "file_extension": ".py",
   "mimetype": "text/x-python",
   "name": "python",
   "nbconvert_exporter": "python",
   "pygments_lexer": "ipython3",
   "version": "3.13.0a6"
  }
 },
 "nbformat": 4,
 "nbformat_minor": 5
}
