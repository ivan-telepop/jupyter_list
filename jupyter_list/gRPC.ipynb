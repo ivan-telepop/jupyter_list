{
 "cells": [
  {
   "cell_type": "code",
   "execution_count": null,
   "id": "0559bfba-00d9-4b9b-89ac-8805d5674dcf",
   "metadata": {},
   "outputs": [],
   "source": [
    "https://grpc.io/docs/languages/python/quickstart/"
   ]
  },
  {
   "cell_type": "code",
   "execution_count": null,
   "id": "3cb49def-82dd-4e83-857b-67dd4e29a91a",
   "metadata": {},
   "outputs": [],
   "source": []
  }
 ],
 "metadata": {
  "kernelspec": {
   "display_name": "Python 3 (ipykernel)",
   "language": "python",
   "name": "python3"
  },
  "language_info": {
   "codemirror_mode": {
    "name": "ipython",
    "version": 3
   },
   "file_extension": ".py",
   "mimetype": "text/x-python",
   "name": "python",
   "nbconvert_exporter": "python",
   "pygments_lexer": "ipython3",
   "version": "3.13.0a6"
  }
 },
 "nbformat": 4,
 "nbformat_minor": 5
}
