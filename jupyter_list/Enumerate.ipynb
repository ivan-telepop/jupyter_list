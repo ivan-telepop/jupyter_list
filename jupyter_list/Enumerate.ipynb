{
 "cells": [
  {
   "cell_type": "code",
   "execution_count": 5,
   "id": "b38e7b3c-902e-4d91-ac2b-53b18a2365b8",
   "metadata": {
    "editable": true,
    "slideshow": {
     "slide_type": ""
    },
    "tags": []
   },
   "outputs": [
    {
     "name": "stdout",
     "output_type": "stream",
     "text": [
      "<generator object my_enumerate at 0x1108a6a50>\n"
     ]
    }
   ],
   "source": [
    "# This is generator\n",
    "# And looks such under the hood\n",
    "\n",
    "def my_enumerate(sequence, start=0):\n",
    "    n = start\n",
    "    for elem in sequence:\n",
    "        yield n, elem\n",
    "        n += 1\n",
    "\n",
    "\n",
    "lst = [i for i in 'hello']\n",
    "\n",
    "\n",
    "print(my_enumerate(lst))"
   ]
  }
 ],
 "metadata": {
  "kernelspec": {
   "display_name": "Python 3 (ipykernel)",
   "language": "python",
   "name": "python3"
  },
  "language_info": {
   "codemirror_mode": {
    "name": "ipython",
    "version": 3
   },
   "file_extension": ".py",
   "mimetype": "text/x-python",
   "name": "python",
   "nbconvert_exporter": "python",
   "pygments_lexer": "ipython3",
   "version": "3.13.0a6"
  }
 },
 "nbformat": 4,
 "nbformat_minor": 5
}
