{
 "cells": [
  {
   "cell_type": "code",
   "execution_count": 8,
   "id": "cf8b7d2f",
   "metadata": {},
   "outputs": [
    {
     "name": "stdout",
     "output_type": "stream",
     "text": [
      "that's true\n"
     ]
    }
   ],
   "source": [
    "x = None\n",
    "\n",
    "\n",
    "\n",
    "def make_assertion(x):\n",
    "    assert x == \"hello\", \"x should be 'hello'\"\n",
    "    return \"that's true\"\n",
    "\n",
    "\n",
    "print(make_assertion('hello'))"
   ]
  },
  {
   "cell_type": "code",
   "execution_count": 4,
   "id": "7ecadaf2",
   "metadata": {},
   "outputs": [
    {
     "name": "stdout",
     "output_type": "stream",
     "text": [
      "Hello\n"
     ]
    }
   ],
   "source": [
    "class One:\n",
    "    pass\n",
    "class Two:\n",
    "    pass\n",
    "class Three:\n",
    "    pass\n",
    "\n",
    "\n",
    "some = One()\n",
    "\n",
    "if isinstance(some,One):\n",
    "    print('Hello')"
   ]
  }
 ],
 "metadata": {
  "kernelspec": {
   "display_name": "Python 3 (ipykernel)",
   "language": "python",
   "name": "python3"
  },
  "language_info": {
   "codemirror_mode": {
    "name": "ipython",
    "version": 3
   },
   "file_extension": ".py",
   "mimetype": "text/x-python",
   "name": "python",
   "nbconvert_exporter": "python",
   "pygments_lexer": "ipython3",
   "version": "3.9.6"
  }
 },
 "nbformat": 4,
 "nbformat_minor": 5
}
