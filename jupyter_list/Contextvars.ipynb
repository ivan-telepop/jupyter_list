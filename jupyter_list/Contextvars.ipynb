{
 "cells": [
  {
   "cell_type": "code",
   "execution_count": null,
   "id": "a66d6831",
   "metadata": {},
   "outputs": [],
   "source": [
    "# Contextvars"
   ]
  },
  {
   "cell_type": "code",
   "execution_count": 30,
   "id": "0e3735cc",
   "metadata": {},
   "outputs": [
    {
     "data": {
      "text/plain": [
       "<ContextVar name='123' default='no value' at 0x1076062f0>"
      ]
     },
     "execution_count": 30,
     "metadata": {},
     "output_type": "execute_result"
    }
   ],
   "source": [
    "from contextvars import ContextVar\n",
    "\n",
    "\n",
    "renew = var.set('renewed value')\n",
    "\n",
    "def one():\n",
    "    var = ContextVar('123',default=\"no value\")\n",
    "    return var\n",
    "    \n",
    "def two():\n",
    "    var.set('renewed value')\n",
    "    return var\n",
    "\n",
    "one()\n",
    "\n",
    "two()\n",
    "    \n",
    "    \n",
    "    \n",
    "    "
   ]
  }
 ],
 "metadata": {
  "kernelspec": {
   "display_name": "Python 3 (ipykernel)",
   "language": "python",
   "name": "python3"
  },
  "language_info": {
   "codemirror_mode": {
    "name": "ipython",
    "version": 3
   },
   "file_extension": ".py",
   "mimetype": "text/x-python",
   "name": "python",
   "nbconvert_exporter": "python",
   "pygments_lexer": "ipython3",
   "version": "3.13.0a6"
  }
 },
 "nbformat": 4,
 "nbformat_minor": 5
}
