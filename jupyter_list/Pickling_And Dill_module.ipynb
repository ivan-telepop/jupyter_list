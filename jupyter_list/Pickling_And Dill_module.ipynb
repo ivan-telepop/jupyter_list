{
 "cells": [
  {
   "cell_type": "code",
   "execution_count": 4,
   "id": "fd542475-6b79-4851-bc67-af9368cd991e",
   "metadata": {},
   "outputs": [
    {
     "name": "stdout",
     "output_type": "stream",
     "text": [
      "Requirement already satisfied: dill in /Users/ewan/.pyenv/versions/3.12.3/lib/python3.12/site-packages (0.3.8)\n",
      "\n",
      "\u001b[1m[\u001b[0m\u001b[34;49mnotice\u001b[0m\u001b[1;39;49m]\u001b[0m\u001b[39;49m A new release of pip is available: \u001b[0m\u001b[31;49m24.0\u001b[0m\u001b[39;49m -> \u001b[0m\u001b[32;49m24.1.2\u001b[0m\n",
      "\u001b[1m[\u001b[0m\u001b[34;49mnotice\u001b[0m\u001b[1;39;49m]\u001b[0m\u001b[39;49m To update, run: \u001b[0m\u001b[32;49mpip install --upgrade pip\u001b[0m\n"
     ]
    }
   ],
   "source": [
    "!source venv/bin/activate\n",
    "!pip install dill"
   ]
  },
  {
   "cell_type": "code",
   "execution_count": null,
   "id": "d6b530e2-3ebb-4a71-a593-1dd4a97e7aaf",
   "metadata": {},
   "outputs": [],
   "source": []
  },
  {
   "cell_type": "code",
   "execution_count": 1,
   "id": "1c213592-b4f5-4bbe-bd2a-b36a9b5d8576",
   "metadata": {},
   "outputs": [
    {
     "name": "stdout",
     "output_type": "stream",
     "text": [
      "Bytes are ready to load:  b'\\x80\\x04\\x95\\x1b\\x00\\x00\\x00\\x00\\x00\\x00\\x00\\x8c\\x08__main__\\x94\\x8c\\nmyFunction\\x94\\x93\\x94.'\n",
      "['__annotations__', '__call__', '__class__', '__closure__', '__code__', '__defaults__', '__delattr__', '__dict__', '__dir__', '__doc__', '__eq__', '__format__', '__ge__', '__get__', '__getattribute__', '__globals__', '__gt__', '__hash__', '__init__', '__init_subclass__', '__kwdefaults__', '__le__', '__lt__', '__module__', '__name__', '__ne__', '__new__', '__qualname__', '__reduce__', '__reduce_ex__', '__repr__', '__setattr__', '__sizeof__', '__str__', '__subclasshook__']\n",
      "Itteration number: 0\n",
      "Itteration number: 1\n",
      "Itteration number: 2\n",
      "Itteration number: 3\n",
      "Itteration number: 4\n"
     ]
    },
    {
     "data": {
      "text/plain": [
       "' We been sleeping 0.5 seconds: But now is : Mon Jul 15 03:25:27 2024'"
      ]
     },
     "execution_count": 1,
     "metadata": {},
     "output_type": "execute_result"
    }
   ],
   "source": [
    "import pickle\n",
    "import time\n",
    "\n",
    "\n",
    "# The function that i wanna pickle\n",
    "def myFunction(iter_times,sec):\n",
    "    for i in range(iter_times):\n",
    "        curr = time.ctime()\n",
    "        time.sleep(sec)\n",
    "        print(\"Itteration number:\",i)\n",
    "    return f\" We been sleeping {sec} seconds: But now is : {curr}\"\n",
    "\n",
    "\n",
    "# Bytes lookin b'\\x80\\x04\\x95\\x1b\\x... such way\n",
    "pickled_function = pickle.dumps(myFunction)\n",
    "\n",
    "print(\"Bytes are ready to load: \",pickled_function)\n",
    "\n",
    "\n",
    "# creating a file with bytes content\n",
    "with open('file.pkl', 'wb') as file: \n",
    "    # A new file will be created so function will be pickled within\n",
    "    pickle.dump(pickled_function, file) \n",
    "\n",
    "# ---------------------------------------\n",
    "# R E T R I E V I N G    B Y T E S\n",
    "with open('file.pkl', 'rb') as file_with_bytes:\n",
    "    # Now i gonna open file that been created before so i will unpickle my function\n",
    "    from_file = pickle.load(file_with_bytes)\n",
    "\n",
    "\n",
    "turned_back_function = pickle.loads(from_file)\n",
    "\n",
    "\n",
    "print(dir(turned_back_function))\n",
    "# And now the function works well again !\n",
    "turned_back_function(5,0.5)"
   ]
  },
  {
   "cell_type": "code",
   "execution_count": 79,
   "id": "3ebc6bd5-25f8-442d-a1c9-8486551c258e",
   "metadata": {},
   "outputs": [
    {
     "name": "stdout",
     "output_type": "stream",
     "text": [
      "<class '__main__.Desc'>\n"
     ]
    },
    {
     "data": {
      "text/plain": [
       "(__main__.Desc, __main__.Orig, object)"
      ]
     },
     "execution_count": 79,
     "metadata": {},
     "output_type": "execute_result"
    }
   ],
   "source": [
    "# This is pickled instance of the class with full params and some inheritance. I wanna put this in the file then retrieve again\n",
    "\n",
    "\n",
    "class Orig:\n",
    "    def __init__(self):\n",
    "        self.a = 100\n",
    "        self.b = \" Proto \\n\"\n",
    "    \n",
    "class Desc(Orig):\n",
    "    def __init__(self,**kwargs):\n",
    "        self.c = \" Descendant \\n\"\n",
    "        super().__init__()\n",
    "    @property\n",
    "    def mro(cls):\n",
    "        return Desc.__mro__\n",
    "    def __str__(self):\n",
    "        return f\"Class has attrs: a={self.a}  b={self.b}  c={self.c} \\n \"\n",
    "    \n",
    "# class instance\n",
    "class_instance = Desc()\n",
    "\n",
    "\n",
    "pickled_class = pickle.dumps(class_instance)\n",
    "\n",
    "# print(\"Bytes are ready to load: \",pickled_class , \"\\n\")\n",
    "\n",
    "\n",
    "# creating a file with bytes content\n",
    "with open('file.pkl', 'wb') as file: \n",
    "    # A new file will be created so class will be inside\n",
    "    pickle.dump(pickled_class, file) \n",
    "\n",
    "# ---------------------------------------\n",
    "# R E T R I E V I N G    B Y T E S\n",
    "with open('file.pkl', 'rb') as file_with_bytes:\n",
    "    from_file = pickle.load(file_with_bytes)\n",
    "\n",
    "\n",
    "_class = pickle.loads(from_file)\n",
    "\n",
    "\n",
    "print(type(_class))\n",
    "\n",
    "_class.mro\n",
    "\n",
    "\n"
   ]
  }
 ],
 "metadata": {
  "kernelspec": {
   "display_name": "Python 3 (ipykernel)",
   "language": "python",
   "name": "python3"
  },
  "language_info": {
   "codemirror_mode": {
    "name": "ipython",
    "version": 3
   },
   "file_extension": ".py",
   "mimetype": "text/x-python",
   "name": "python",
   "nbconvert_exporter": "python",
   "pygments_lexer": "ipython3",
   "version": "3.13.0a6"
  }
 },
 "nbformat": 4,
 "nbformat_minor": 5
}
