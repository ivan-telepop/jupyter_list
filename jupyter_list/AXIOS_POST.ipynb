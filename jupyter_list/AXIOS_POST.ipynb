{
 "cells": [
  {
   "cell_type": "code",
   "execution_count": 7,
   "id": "3d88ea7d-6b3c-4f96-9524-f9882fae752c",
   "metadata": {},
   "outputs": [
    {
     "ename": "Expected ';', '}' or <eof> at file:///repl.tsx:1:5\n\n  npm install axios\n      ~~~~~~~",
     "evalue": " ",
     "output_type": "error",
     "traceback": []
    }
   ],
   "source": []
  },
  {
   "cell_type": "code",
   "execution_count": 4,
   "id": "06634265-2dae-442e-ab34-3661b6ee5194",
   "metadata": {},
   "outputs": [
    {
     "ename": "TypeError",
     "evalue": "Relative import path \"axios\" not prefixed with / or ./ or ../",
     "output_type": "error",
     "traceback": [
      "Stack trace:",
      "TypeError: Relative import path \"axios\" not prefixed with / or ./ or ../",
      "    at async <anonymous>:1:51"
     ]
    }
   ],
   "source": [
    "\n",
    "\n",
    "const formData = new FormData();\n",
    "formData.set('username', 'test123@gmail.com');\n",
    "formData.set('password', 'usualword123');\n",
    "axios.post(\n",
    "    'http://localhost:8000/auth/jwt/login',\n",
    "    formData,\n",
    "    {\n",
    "        headers: {\n",
    "            'Content-Type': 'multipart/form-data',\n",
    "        },\n",
    "    },\n",
    ")\n",
    ".then((response) => console.log(response))\n",
    ".catch((error) => console.log(error));"
   ]
  },
  {
   "cell_type": "code",
   "execution_count": null,
   "id": "6d8ec0ce-9ad2-4258-b203-28afd6b45587",
   "metadata": {},
   "outputs": [],
   "source": [
    "{\n",
    "  \"email\": \"test123@gmail.com\",\n",
    "  \"password\": \"usualword123\",\n",
    "  \"is_active\": true,\n",
    "  \"is_superuser\": false,\n",
    "  \"is_verified\": false,\n",
    "  \"full_name\": \"string\",\n",
    "  \"phone\": \"8499663344\",\n",
    "  \"picture\": \"string\",\n",
    "  \"birth_date\": \"2024-07-17\"\n",
    "}\n",
    "\n",
    "\n",
    "\n",
    "\t\n",
    "Response body\n",
    "Download\n",
    "{\n",
    "  \"id\": 13,\n",
    "  \"email\": \"test123@gmail.com\",\n",
    "  \"is_active\": true,\n",
    "  \"is_superuser\": false,\n",
    "  \"is_verified\": false,\n",
    "  \"full_name\": \"string\",\n",
    "  \"phone\": \"8499663344\",\n",
    "  \"picture\": \"string\",\n",
    "  \"birth_date\": \"2024-07-17\"\n",
    "}"
   ]
  }
 ],
 "metadata": {
  "kernelspec": {
   "display_name": "Deno",
   "language": "typescript",
   "name": "deno"
  },
  "language_info": {
   "file_extension": ".ts",
   "mimetype": "text/x.typescript",
   "name": "typescript",
   "nb_converter": "script",
   "pygments_lexer": "typescript",
   "version": "5.4.3"
  }
 },
 "nbformat": 4,
 "nbformat_minor": 5
}
