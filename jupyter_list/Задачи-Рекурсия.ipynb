{
 "cells": [
  {
   "cell_type": "code",
   "execution_count": null,
   "id": "6b05c493-0c79-45f6-8495-4be7d81a7067",
   "metadata": {},
   "outputs": [],
   "source": [
    "You need to design a recursive function called replicate which will receive arguments times and number.\n",
    "\n",
    "The function should return an array containing repetitions of the number argument. \n",
    "For instance, replicate(3, 5) should return [5,5,5]. If the times argument is negative, return an empty array.\n",
    "\n",
    "As tempting as it may seem, do not use loops to solve this problem.\n",
    "\n",
    "\n",
    "Нужно сообразить такую рекурсивную штуку которая в кач арг принимает -раз - число\n",
    "Возвращает массив с кол - число"
   ]
  },
  {
   "cell_type": "code",
   "execution_count": 36,
   "id": "d80be515-90c8-4698-9251-0c26108d11ff",
   "metadata": {},
   "outputs": [
    {
     "name": "stdout",
     "output_type": "stream",
     "text": [
      "[1, 1, 1, 1, 1, 1, 1, 1, 1, 1]\n"
     ]
    }
   ],
   "source": [
    "\n",
    "res = []\n",
    "\n",
    "def replicate(times,num):\n",
    "    if times > 1:\n",
    "        res.append(num)\n",
    "        times -= 1\n",
    "    else:\n",
    "        res.append(num)\n",
    "        return res\n",
    "    return replicate(times,num)\n",
    "    \n",
    "\n",
    "print(replicate(10,1))\n",
    "\n"
   ]
  },
  {
   "cell_type": "code",
   "execution_count": 27,
   "id": "dbd2eeed-52fb-47b6-9a4a-4414e5e432c1",
   "metadata": {},
   "outputs": [
    {
     "data": {
      "text/plain": [
       "[33,\n",
       " 33,\n",
       " 33,\n",
       " 33,\n",
       " 33,\n",
       " 33,\n",
       " 33,\n",
       " 33,\n",
       " 33,\n",
       " 33,\n",
       " 33,\n",
       " 33,\n",
       " 33,\n",
       " 33,\n",
       " 33,\n",
       " 33,\n",
       " 33,\n",
       " 33,\n",
       " 33,\n",
       " 33,\n",
       " 33,\n",
       " 33,\n",
       " 33,\n",
       " 33,\n",
       " 33]"
      ]
     },
     "execution_count": 27,
     "metadata": {},
     "output_type": "execute_result"
    }
   ],
   "source": [
    "\n",
    "\n",
    "\n",
    "def replicate(times,num):\n",
    "    if times <=0:\n",
    "        return []\n",
    "    return [num] + replicate(times -1,num)\n",
    "\n",
    "\n",
    "replicate(25, 33)"
   ]
  },
  {
   "cell_type": "code",
   "execution_count": 35,
   "id": "2f0a4e88-6936-4bee-9bf4-e99307464806",
   "metadata": {},
   "outputs": [
    {
     "data": {
      "text/plain": [
       "[]"
      ]
     },
     "execution_count": 35,
     "metadata": {},
     "output_type": "execute_result"
    }
   ],
   "source": [
    "# Задачи на рекурсию\n",
    "\n",
    "# 🔁 1. Сумма элементов списка\n",
    "# Реализуй рекурсивную функцию sum_list(lst), которая возвращает сумму всех чисел в списке lst.\n",
    "\n",
    "# Пример:\n",
    "\n",
    "# sum_list([1, 2, 3, 4])  # -> 10\n",
    "# 🔄 2. Факториал\n",
    "# Напиши рекурсивную функцию factorial(n), которая возвращает факториал числа n.\n",
    "\n",
    "# Пример:\n",
    "\n",
    "# factorial(5)  # -> 120\n",
    "# 🔁 3. Разворот строки\n",
    "# Сделай функцию reverse_string(s), которая возвращает строку s в обратном порядке, используя только рекурсию.\n",
    "\n",
    "# Пример:\n",
    "\n",
    "# python\n",
    "# Copy\n",
    "# Edit\n",
    "# reverse_string(\"hello\")  # -> \"olleh\"\n",
    "# 🧩 4. Счёт вложенных списков\n",
    "# Функция deep_count(lst) должна посчитать все элементы в списке, включая вложенные списки (и их элементы тоже).\n",
    "\n",
    "# Пример:\n",
    "\n",
    "# python\n",
    "# Copy\n",
    "# Edit\n",
    "# deep_count([1, [2, 3], [4, [5]]])  # -> 7\n",
    "# # потому что: 1 + [2,3] (2 элемента) + [4,[5]] (4 и [5] — 2 элемента, а [5] внутри еще 1) = 7"
   ]
  },
  {
   "cell_type": "code",
   "execution_count": 83,
   "id": "e93b46cb-f0c9-4976-9d1f-99eaf48dab00",
   "metadata": {},
   "outputs": [
    {
     "data": {
      "text/plain": [
       "10"
      ]
     },
     "execution_count": 83,
     "metadata": {},
     "output_type": "execute_result"
    }
   ],
   "source": [
    "# 🔁 1. Сумма элементов списка\n",
    "# Реализуй рекурсивную функцию sum_list(lst), которая возвращает сумму всех чисел в списке lst.\n",
    "\n",
    "# Пример:\n",
    "\n",
    "lst = [1, 2, 3, 4]  # -> 10\n",
    "\n",
    "def sum_list(lst):\n",
    "    if not lst:  # Базовый случай: пустой список\n",
    "        return 0   \n",
    "    return lst[0] + sum_list(lst[1:])\n",
    "\n",
    "# Важно понимать что при создании слайса интерпритатор ссылается на новый объект в памяти, а != а[0:]\n",
    "# На каждом вызове создается новый объект \n",
    "\n",
    "sum_list(lst)"
   ]
  },
  {
   "cell_type": "code",
   "execution_count": null,
   "id": "e4f76a18-bf98-4ebf-adec-2b567f0cebd3",
   "metadata": {},
   "outputs": [],
   "source": []
  },
  {
   "cell_type": "code",
   "execution_count": 81,
   "id": "bb29f0cf-aa1d-4b07-8ecf-b4fa8417077a",
   "metadata": {},
   "outputs": [
    {
     "data": {
      "text/plain": [
       "False"
      ]
     },
     "execution_count": 81,
     "metadata": {},
     "output_type": "execute_result"
    }
   ],
   "source": [
    "a = [0,1,2,3,4,5]\n",
    "\n",
    "\n",
    "def stack(a):\n",
    "    if not a:\n",
    "        return 0\n",
    "    return a[0] + stack(a[1:]) \n",
    "\n",
    "\n",
    "\n",
    "# stack(a)\n",
    "\n",
    "a[1:3]\n",
    "\n",
    "\n",
    "a[0:] is a"
   ]
  },
  {
   "cell_type": "code",
   "execution_count": 71,
   "id": "2a6c4596-d0c6-423b-9458-a4ceea1dac2f",
   "metadata": {},
   "outputs": [
    {
     "data": {
      "text/plain": [
       "False"
      ]
     },
     "execution_count": 71,
     "metadata": {},
     "output_type": "execute_result"
    }
   ],
   "source": [
    "sll = ['a','b','c','d','e']\n",
    "\n",
    "sll[2:4] is sll"
   ]
  },
  {
   "cell_type": "code",
   "execution_count": 75,
   "id": "9e79b491-d379-4efb-8385-5a7297615217",
   "metadata": {},
   "outputs": [
    {
     "data": {
      "text/plain": [
       "True"
      ]
     },
     "execution_count": 75,
     "metadata": {},
     "output_type": "execute_result"
    }
   ],
   "source": [
    "ab = 'hello'\n",
    "cd = 'hello'\n",
    "ab is cd"
   ]
  }
 ],
 "metadata": {
  "kernelspec": {
   "display_name": "Python 3.13 jupy_venv",
   "language": "python",
   "name": "jupy_venv"
  },
  "language_info": {
   "codemirror_mode": {
    "name": "ipython",
    "version": 3
   },
   "file_extension": ".py",
   "mimetype": "text/x-python",
   "name": "python",
   "nbconvert_exporter": "python",
   "pygments_lexer": "ipython3",
   "version": "3.12.9"
  }
 },
 "nbformat": 4,
 "nbformat_minor": 5
}
