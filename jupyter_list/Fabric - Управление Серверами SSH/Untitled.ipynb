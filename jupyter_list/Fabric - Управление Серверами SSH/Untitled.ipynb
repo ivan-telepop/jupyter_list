{
 "cells": [
  {
   "cell_type": "code",
   "execution_count": null,
   "id": "ac1f27d1-8ae5-436d-80cc-d2ee50ca59ce",
   "metadata": {},
   "outputs": [],
   "source": [
    "# https://docs-python.ru/packages/modul-fabric-avtomatizatsiia-zadach-serverakh/\n",
    "\n",
    "\n",
    "# Look more - Chef, Puppet, Ansible, Salt"
   ]
  },
  {
   "cell_type": "code",
   "execution_count": null,
   "id": "d5f7796a-26e9-4b7a-ab86-eb0bca45f101",
   "metadata": {},
   "outputs": [],
   "source": [
    "from fabric import Connection, Config\n",
    "\n",
    "# параметры конфигурации для подключения \n",
    "# к серверу с ключом авторизации\n",
    "key={\"key_filename\": \"/home/user/.ssh/private.key\"}\n",
    "# подключение с явным указанием пользователя, хоста, \n",
    "# порта и ключа авторизации \n",
    "conn = Connection(host='example.com', user='root', port=22, connect_kwargs=key)\n",
    "result = conn.run('uname -s', hide=True)\n",
    "if result.stdout.strip() == 'Linux':\n",
    "    # делаем что-то полезное\n",
    "\n",
    "# после того, как все команды/сценарий на удаленной машине выполнены, \n",
    "# необходимо корректно закрыть соединение \n",
    "conn.close()"
   ]
  },
  {
   "cell_type": "code",
   "execution_count": 1,
   "id": "56c2fe3c-0722-4e33-be13-8fc9033d7984",
   "metadata": {},
   "outputs": [
    {
     "ename": "ModuleNotFoundError",
     "evalue": "No module named 'fabric'",
     "output_type": "error",
     "traceback": [
      "\u001b[0;31m---------------------------------------------------------------------------\u001b[0m",
      "\u001b[0;31mModuleNotFoundError\u001b[0m                       Traceback (most recent call last)",
      "Cell \u001b[0;32mIn[1], line 3\u001b[0m\n\u001b[1;32m      1\u001b[0m \u001b[38;5;66;03m# send file from local to remote\u001b[39;00m\n\u001b[0;32m----> 3\u001b[0m \u001b[38;5;28;01mfrom\u001b[39;00m \u001b[38;5;21;01mfabric\u001b[39;00m \u001b[38;5;28;01mimport\u001b[39;00m Connection, Config\n\u001b[1;32m      5\u001b[0m admin \u001b[38;5;241m=\u001b[39m {\u001b[38;5;124m\"\u001b[39m\u001b[38;5;124mpassword\u001b[39m\u001b[38;5;124m\"\u001b[39m: \u001b[38;5;124m\"\u001b[39m\u001b[38;5;124madminPassword\u001b[39m\u001b[38;5;124m\"\u001b[39m}\n\u001b[1;32m      6\u001b[0m \u001b[38;5;66;03m# подключаемся к серверу как пользователь `admin`\u001b[39;00m\n",
      "\u001b[0;31mModuleNotFoundError\u001b[0m: No module named 'fabric'"
     ]
    }
   ],
   "source": [
    "# send file from local to remote\n",
    "\n",
    "from fabric import Connection, Config\n",
    "\n",
    "admin = {\"password\": \"adminPassword\"}\n",
    "# подключаемся к серверу как пользователь `admin`\n",
    "with Connection(\"admin@example.com:22\", connect_kwargs=admin) as conn:\n",
    "    conn.put(\"local_path\", \"remote_path\")"
   ]
  }
 ],
 "metadata": {
  "kernelspec": {
   "display_name": "Python 3 (ipykernel)",
   "language": "python",
   "name": "python3"
  },
  "language_info": {
   "codemirror_mode": {
    "name": "ipython",
    "version": 3
   },
   "file_extension": ".py",
   "mimetype": "text/x-python",
   "name": "python",
   "nbconvert_exporter": "python",
   "pygments_lexer": "ipython3",
   "version": "3.13.0a6"
  }
 },
 "nbformat": 4,
 "nbformat_minor": 5
}
