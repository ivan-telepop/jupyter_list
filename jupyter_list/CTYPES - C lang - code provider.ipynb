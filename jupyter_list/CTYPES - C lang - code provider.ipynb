{
 "cells": [
  {
   "cell_type": "code",
   "execution_count": null,
   "id": "83f31b49-de80-429b-8b96-9bf7f9f851e0",
   "metadata": {},
   "outputs": [],
   "source": [
    "# CTYPES\n",
    "# ctypes is a foreign function library for Python. \n",
    "# It provides C compatible data types, and allows calling \n",
    "# functions in DLLs or shared libraries. \n",
    "# It can be used to wrap these libraries in pure Python.\n",
    "# https://docs.python.org/3/library/ctypes.html"
   ]
  },
  {
   "cell_type": "code",
   "execution_count": 5,
   "id": "f8bff5cf",
   "metadata": {},
   "outputs": [],
   "source": [
    "import ctypes\n"
   ]
  }
 ],
 "metadata": {
  "kernelspec": {
   "display_name": "Python 3 (ipykernel)",
   "language": "python",
   "name": "python3"
  },
  "language_info": {
   "codemirror_mode": {
    "name": "ipython",
    "version": 3
   },
   "file_extension": ".py",
   "mimetype": "text/x-python",
   "name": "python",
   "nbconvert_exporter": "python",
   "pygments_lexer": "ipython3",
   "version": "3.9.6"
  }
 },
 "nbformat": 4,
 "nbformat_minor": 5
}
