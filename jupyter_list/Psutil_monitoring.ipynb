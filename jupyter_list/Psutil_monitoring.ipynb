{
 "cells": [
  {
   "cell_type": "code",
   "execution_count": 13,
   "id": "268ad716-cb7d-4493-a514-9a4d2d8f06e2",
   "metadata": {},
   "outputs": [
    {
     "data": {
      "text/plain": [
       "scputimes(user=15441.52, nice=0.0, system=7273.19, idle=421803.98)"
      ]
     },
     "execution_count": 13,
     "metadata": {},
     "output_type": "execute_result"
    }
   ],
   "source": [
    "import psutil\n",
    "# MODULE PSUTIL\n",
    "\n",
    "# Мониторим систему при помощи Питошечки\n",
    "#https://pypi.org/project/psutil/\n",
    "\n",
    "psutil.cpu_times()"
   ]
  },
  {
   "cell_type": "code",
   "execution_count": 10,
   "id": "0cc00739-11bc-4141-a849-43c2059c537b",
   "metadata": {},
   "outputs": [
    {
     "name": "stdout",
     "output_type": "stream",
     "text": [
      "3.7\n",
      "4.0\n",
      "5.6\n"
     ]
    }
   ],
   "source": [
    "for x in range(3):\n",
    "     print(psutil.cpu_percent(interval=5))"
   ]
  },
  {
   "cell_type": "code",
   "execution_count": 12,
   "id": "65e4dac3-3bce-4646-aba7-d0a7a5b15e9d",
   "metadata": {},
   "outputs": [
    {
     "name": "stdout",
     "output_type": "stream",
     "text": [
      "scputimes(user=2.0, nice=0.0, system=1.2, idle=96.8)\n",
      "scputimes(user=2.1, nice=0.0, system=1.4, idle=96.5)\n",
      "scputimes(user=3.1, nice=0.0, system=2.0, idle=94.9)\n"
     ]
    }
   ],
   "source": [
    "for x in range(3):\n",
    "    res = psutil.cpu_times_percent(interval=1, percpu=False)\n",
    "    print(res)"
   ]
  },
  {
   "cell_type": "code",
   "execution_count": 2,
   "id": "29282907-cd31-427e-b669-a943d86bd525",
   "metadata": {},
   "outputs": [
    {
     "data": {
      "text/plain": [
       "pmem(rss=71106560, vms=42740879360, pfaults=36535, pageins=413)"
      ]
     },
     "execution_count": 2,
     "metadata": {},
     "output_type": "execute_result"
    }
   ],
   "source": [
    "import psutil\n",
    "\n",
    "psutil.Process().memory_info() "
   ]
  },
  {
   "cell_type": "code",
   "execution_count": null,
   "id": "3ff0d71c-6d7f-484a-b705-856af3aef142",
   "metadata": {},
   "outputs": [],
   "source": []
  }
 ],
 "metadata": {
  "kernelspec": {
   "display_name": "Python 3 (ipykernel)",
   "language": "python",
   "name": "python3"
  },
  "language_info": {
   "codemirror_mode": {
    "name": "ipython",
    "version": 3
   },
   "file_extension": ".py",
   "mimetype": "text/x-python",
   "name": "python",
   "nbconvert_exporter": "python",
   "pygments_lexer": "ipython3",
   "version": "3.9.6"
  }
 },
 "nbformat": 4,
 "nbformat_minor": 5
}
